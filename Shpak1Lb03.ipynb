{
 "cells": [
  {
   "cell_type": "code",
   "execution_count": null,
   "id": "48b53e36-65c4-4833-bee2-4f6462a19147",
   "metadata": {},
   "outputs": [],
   "source": []
  }
 ],
 "metadata": {
  "kernelspec": {
   "display_name": "",
   "name": ""
  },
  "language_info": {
   "name": ""
  }
 },
 "nbformat": 4,
 "nbformat_minor": 5
}
