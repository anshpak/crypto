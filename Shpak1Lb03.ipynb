{
 "cells": [
  {
   "cell_type": "markdown",
   "id": "0c8dca6e-9d6e-446e-9208-56b781e5b0f2",
   "metadata": {},
   "source": [
    "# Лабораторная работа 3\n",
    "# Тема 3. Функции хеширования"
   ]
  },
  {
   "cell_type": "markdown",
   "id": "76edeb0a-267f-4a64-89a6-6100b378f093",
   "metadata": {},
   "source": [
    "# <font color='red'>Разбираю теоретическую  часть</font>"
   ]
  },
  {
   "cell_type": "markdown",
   "id": "e711d529-727d-4351-9537-57170f3a5542",
   "metadata": {},
   "source": [
    "## <font color='red'>Вопрос: а следующие два пункта $\\,-$ это не одно и то же?</font>"
   ]
  },
  {
   "cell_type": "markdown",
   "id": "25763862-a9d2-4104-9463-a7d2d7cbf47d",
   "metadata": {},
   "source": [
    "**2. Нахождение второго прообраза**   \n",
    " Для данного $x_1\\in X$       найти такой $x_2\\in X,$ $x_2\\neq x_1,$ что  $$h(x_1)=h(x_2).$$\n",
    "\n",
    "**3. Нахождение коллизий**  \n",
    " Найти такие $x_1,x_2\\in X,$ что     $x_1\\neq x_2$ и $h(x_1)=h(x_2).$"
   ]
  },
  {
   "cell_type": "markdown",
   "id": "09ee8202-9626-44da-8690-a54c7ec35614",
   "metadata": {},
   "source": [
    "## <font color='red'>Вопрос: для чего количество итераций <code>iterations</code> и какую скорость работы они замедляют, зачем?</font>"
   ]
  },
  {
   "cell_type": "markdown",
   "id": "a23ae3b1-efdd-4c64-8269-56a015bc1fd5",
   "metadata": {},
   "source": [
    "**PBKDF2 (password-based key derivation function)**  \n",
    "PBKDF2 это стандарт формирования ключа на основе пароля.\n",
    "\n",
    "`pbkdf2_hmac(hash_name, password, salt, iterations, dklen=None)`:\n",
    " - `hash_name` - название функции хеширования;  \n",
    " - `password` - пароль;\n",
    " - `salt` - соль;\n",
    " - `iterations` - количество итераций, необходимо для замедления скорости работы;\n",
    " - `dklen` - длина формируемого ключа, если `dklen = None`, то длина ключа равна длине дайджеста хеш-функции."
   ]
  },
  {
   "cell_type": "markdown",
   "id": "2861f5d7-a2af-457c-ba44-6b51a18ba014",
   "metadata": {
    "slideshow": {
     "slide_type": "-"
    }
   },
   "source": [
    "# <font color='red'>Задание 1.</font>\n",
    "Найти три целых числа, которые являются коллизиями для функции `hash`."
   ]
  },
  {
   "cell_type": "markdown",
   "id": "b3440be7-4810-486a-8131-c5d7ea49ff97",
   "metadata": {},
   "source": [
    "## Разбираюсь с функцией <code>hash</code>"
   ]
  },
  {
   "cell_type": "code",
   "execution_count": 2,
   "id": "9c180186-8b63-44b1-b655-38f49e9cfbc7",
   "metadata": {},
   "outputs": [
    {
     "name": "stdout",
     "output_type": "stream",
     "text": [
      "Help on built-in function hash in module builtins:\n",
      "\n",
      "hash(obj, /)\n",
      "    Return the hash value for the given object.\n",
      "    \n",
      "    Two objects that compare equal must also have the same hash value, but the\n",
      "    reverse is not necessarily true.\n",
      "\n"
     ]
    }
   ],
   "source": [
    "help('hash')"
   ]
  },
  {
   "cell_type": "code",
   "execution_count": 3,
   "id": "fd4573d7-01db-45e6-a983-f50587dfe41e",
   "metadata": {},
   "outputs": [
    {
     "data": {
      "text/plain": [
       "'Return the hash value for the given object.\\n\\nTwo objects that compare equal must also have the same hash value, but the\\nreverse is not necessarily true.'"
      ]
     },
     "execution_count": 3,
     "metadata": {},
     "output_type": "execute_result"
    }
   ],
   "source": [
    "hash.__doc__"
   ]
  },
  {
   "cell_type": "code",
   "execution_count": 4,
   "id": "b5616a3d-f105-42ae-96d3-c67deac02f26",
   "metadata": {},
   "outputs": [
    {
     "data": {
      "text/plain": [
       "['__call__',\n",
       " '__class__',\n",
       " '__delattr__',\n",
       " '__dir__',\n",
       " '__doc__',\n",
       " '__eq__',\n",
       " '__format__',\n",
       " '__ge__',\n",
       " '__getattribute__',\n",
       " '__gt__',\n",
       " '__hash__',\n",
       " '__init__',\n",
       " '__init_subclass__',\n",
       " '__le__',\n",
       " '__lt__',\n",
       " '__module__',\n",
       " '__name__',\n",
       " '__ne__',\n",
       " '__new__',\n",
       " '__qualname__',\n",
       " '__reduce__',\n",
       " '__reduce_ex__',\n",
       " '__repr__',\n",
       " '__self__',\n",
       " '__setattr__',\n",
       " '__sizeof__',\n",
       " '__str__',\n",
       " '__subclasshook__',\n",
       " '__text_signature__']"
      ]
     },
     "execution_count": 4,
     "metadata": {},
     "output_type": "execute_result"
    }
   ],
   "source": [
    "dir(hash)"
   ]
  },
  {
   "cell_type": "code",
   "execution_count": 58,
   "id": "9d606830-2f26-49e4-b5bc-8b6ecdba05fc",
   "metadata": {},
   "outputs": [
    {
     "name": "stdout",
     "output_type": "stream",
     "text": [
      "Hash for 181 is: 181\n",
      "The hash is: -7625405924969151027\n"
     ]
    }
   ],
   "source": [
    "# hash for integer unchanged\n",
    "print('Hash for 181 is:', hash(181))\n",
    "\n",
    "# hash() method only works for immutable objects as tuple\n",
    "# Вот почему в словарях используются только неизменяемые объекты в качестве ключей!\n",
    "# tuple of vowels\n",
    "vowels = ('a', 'e', 'i', 'o', 'u')\n",
    "print('The hash is:', hash(vowels))"
   ]
  },
  {
   "cell_type": "markdown",
   "id": "b21a23c9-16e7-46e7-a822-1ef4ad02f405",
   "metadata": {},
   "source": [
    "## Решение "
   ]
  },
  {
   "cell_type": "code",
   "execution_count": 54,
   "id": "062aabff-581b-4581-95d2-df5a10aa6b16",
   "metadata": {
    "slideshow": {
     "slide_type": "-"
    }
   },
   "outputs": [
    {
     "name": "stdout",
     "output_type": "stream",
     "text": [
      "hash( 2305843009213693954 ) =  3\n",
      "hash( 3 ) =  3\n",
      "hash( 2305843009213694006 ) =  55\n",
      "hash( 55 ) =  55\n",
      "hash( -2305843009492046824 ) =  -278352873\n",
      "hash( -278352873 ) =  -278352873\n"
     ]
    }
   ],
   "source": [
    "i = 2 ** 61 - 1 # hash(i) = 0\n",
    "# print('hash(', i, ') = ', hash(i))\n",
    "# print('hash(', i + 1, ') = ', hash(i + 1))\n",
    "# print('hash(', i + 2, ') = ', hash(i + 2))\n",
    "\n",
    "n1 = 3\n",
    "print('hash(', i + n1, ') = ', hash(i + n1))\n",
    "print('hash(', n1, ') = ', hash(n1))\n",
    "\n",
    "n2 = 55\n",
    "print('hash(', i + n2, ') = ', hash(i + n2))\n",
    "print('hash(', n2, ') = ', hash(n2))\n",
    "\n",
    "minus_i = -2 ** 61 + 1\n",
    "n3 = -278352873\n",
    "print('hash(', minus_i + n3, ') = ', hash(minus_i + n3))\n",
    "print('hash(', n3, ') = ', hash(n3))"
   ]
  },
  {
   "cell_type": "markdown",
   "id": "530c4fa8-22c0-409d-939f-b60816589457",
   "metadata": {},
   "source": [
    "## Почему так происходит?"
   ]
  },
  {
   "cell_type": "markdown",
   "id": "ade65e83-6929-4eeb-a6af-a9e453e5f6bb",
   "metadata": {},
   "source": [
    "https://stackoverflow.com/questions/37612524/when-is-hashn-n-in-python\n",
    "\n",
    "$2305843009213693951$ is $2^{61} - 1$. It's the largest Mersenne prime that fits into $64$ bits.\n",
    "\n",
    "If you have to make a hash just by taking the value mod some number, then a large Mersenne prime is a good choice $\\,$ it's easy to compute and ensures an even distribution of possibilities. (Although I personally would never make a hash this way)\n",
    "\n",
    "It's especially convenient to compute the modulus for floating point numbers. They have an exponential component that multiplies the whole number by $2^x$. Since $2^61 = 1$ mod $2^{61}-1$, you only need to consider the (exponent) mod $61$.\n",
    "\n",
    "See: https://en.wikipedia.org/wiki/Mersenne_prime\n",
    "\n",
    "So for a $64$/$32$ bit machine, the reduction would be $2^{\\text{_PyHASH_BITS}} - 1$, but what is _PyHASH_BITS?\n",
    "\n",
    "You can find it in pyhash.h header file which for a $64$ bit machine has been defined as 61 (you can read more explanation in pyconfig.h file)"
   ]
  },
  {
   "cell_type": "code",
   "execution_count": 56,
   "id": "3b029c93-1a44-4894-aa7f-8d9c50b13e5d",
   "metadata": {},
   "outputs": [
    {
     "data": {
      "text/plain": [
       "235235235"
      ]
     },
     "execution_count": 56,
     "metadata": {},
     "output_type": "execute_result"
    }
   ],
   "source": [
    "235235235 % 2305843009213693951"
   ]
  },
  {
   "cell_type": "code",
   "execution_count": 57,
   "id": "3809eddc-2fa3-43a4-84ea-e0a1b7046659",
   "metadata": {},
   "outputs": [
    {
     "data": {
      "text/plain": [
       "0"
      ]
     },
     "execution_count": 57,
     "metadata": {},
     "output_type": "execute_result"
    }
   ],
   "source": [
    "2305843009213693951 % 2305843009213693951"
   ]
  }
 ],
 "metadata": {
  "kernelspec": {
   "display_name": "Python 3 (ipykernel)",
   "language": "python",
   "name": "python3"
  },
  "language_info": {
   "codemirror_mode": {
    "name": "ipython",
    "version": 3
   },
   "file_extension": ".py",
   "mimetype": "text/x-python",
   "name": "python",
   "nbconvert_exporter": "python",
   "pygments_lexer": "ipython3",
   "version": "3.10.5"
  }
 },
 "nbformat": 4,
 "nbformat_minor": 5
}
