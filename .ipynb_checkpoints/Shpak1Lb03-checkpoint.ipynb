{
 "cells": [
  {
   "cell_type": "markdown",
   "id": "0c8dca6e-9d6e-446e-9208-56b781e5b0f2",
   "metadata": {},
   "source": [
    "# Лабораторная работа 3\n",
    "# Тема 3. Функции хеширования"
   ]
  },
  {
   "cell_type": "markdown",
   "id": "76edeb0a-267f-4a64-89a6-6100b378f093",
   "metadata": {},
   "source": [
    "# <font color='red'>Разбираю теоретическую  часть</font>"
   ]
  },
  {
   "cell_type": "markdown",
   "id": "e711d529-727d-4351-9537-57170f3a5542",
   "metadata": {},
   "source": [
    "## <font color='red'>Вопрос: а следующие два пункта $\\,-$ это не одно и то же?</font>"
   ]
  },
  {
   "cell_type": "markdown",
   "id": "25763862-a9d2-4104-9463-a7d2d7cbf47d",
   "metadata": {},
   "source": [
    "**2. Нахождение второго прообраза**   \n",
    " Для данного $x_1\\in X$       найти такой $x_2\\in X,$ $x_2\\neq x_1,$ что  $$h(x_1)=h(x_2).$$\n",
    "\n",
    "**3. Нахождение коллизий**  \n",
    " Найти такие $x_1,x_2\\in X,$ что     $x_1\\neq x_2$ и $h(x_1)=h(x_2).$"
   ]
  },
  {
   "cell_type": "markdown",
   "id": "09ee8202-9626-44da-8690-a54c7ec35614",
   "metadata": {},
   "source": [
    "## <font color='red'>Вопрос: для чего количество итераций <code>iterations</code> и какую скорость работы они замедляют, зачем?</font>"
   ]
  },
  {
   "cell_type": "markdown",
   "id": "a23ae3b1-efdd-4c64-8269-56a015bc1fd5",
   "metadata": {},
   "source": [
    "**PBKDF2 (password-based key derivation function)**  \n",
    "PBKDF2 это стандарт формирования ключа на основе пароля.\n",
    "\n",
    "`pbkdf2_hmac(hash_name, password, salt, iterations, dklen=None)`:\n",
    " - `hash_name` - название функции хеширования;  \n",
    " - `password` - пароль;\n",
    " - `salt` - соль;\n",
    " - `iterations` - количество итераций, необходимо для замедления скорости работы;\n",
    " - `dklen` - длина формируемого ключа, если `dklen = None`, то длина ключа равна длине дайджеста хеш-функции."
   ]
  },
  {
   "cell_type": "markdown",
   "id": "73fe4188-7ab5-4ddc-b2db-99ee23efa55e",
   "metadata": {},
   "source": [
    "## <font color='red'>Вопрос: что значит привести сообщение к блочному виду, как?</font>"
   ]
  },
  {
   "cell_type": "markdown",
   "id": "0fb7fb3a-d834-42f6-8219-2cfe26907e46",
   "metadata": {},
   "source": [
    "## <font color='red'>Вопрос: что такое двублочные, одноблочные коллизии?</font>"
   ]
  },
  {
   "cell_type": "markdown",
   "id": "f327cbbf-382a-44ad-8c8b-d554e24c5198",
   "metadata": {},
   "source": [
    "## <font color='red'>Вопрос: что такое туннелирование?</font>"
   ]
  },
  {
   "cell_type": "markdown",
   "id": "3a49ce34-1f07-4d76-b0fc-9810c8779c2c",
   "metadata": {},
   "source": [
    "## <font color='red'>Вопрос: что такое переменная разрядность?</font>"
   ]
  },
  {
   "cell_type": "markdown",
   "id": "fdd04f2a-1570-4cdb-b5ca-676460e6a253",
   "metadata": {},
   "source": [
    "SHA-3 (Keccak — произносится как «кечак») — алгоритм хеширования переменной разрядности, разработанный группой авторов во главе с Йоаном Дайменом;"
   ]
  },
  {
   "cell_type": "markdown",
   "id": "02a4e8d3-30a4-4e47-9328-67aa0e84d1d9",
   "metadata": {},
   "source": [
    "## <font color='red'>Вопрос: чем больше длина дайджеста, тем лучше?</font>"
   ]
  },
  {
   "cell_type": "markdown",
   "id": "2f132032-e2dd-444d-b8a5-d1a24a926e38",
   "metadata": {},
   "source": [
    "## <font color='red'>Вопрос: как работает <code>update</code>?</font>"
   ]
  },
  {
   "cell_type": "code",
   "execution_count": 8,
   "id": "70257695-534c-41e1-9136-ea3c6dff15fa",
   "metadata": {
    "slideshow": {
     "slide_type": "-"
    }
   },
   "outputs": [
    {
     "name": "stdout",
     "output_type": "stream",
     "text": [
      "0d3f42b61f28a2034d214bea47bf205ca57aec2e\n"
     ]
    }
   ],
   "source": [
    "part1 = b\"Spartak\"\n",
    "part2 = b\"Champion\"\n",
    "h = hashlib.sha1()\n",
    "h.update(part1)\n",
    "h.update(part2)\n",
    "print(h.hexdigest())"
   ]
  },
  {
   "cell_type": "markdown",
   "id": "09380f35-6970-4418-9957-32e6352a51f9",
   "metadata": {},
   "source": [
    "## <font color='red'>Вопрос: длину чего конкретно я узнаю, что такое h?</font>"
   ]
  },
  {
   "cell_type": "code",
   "execution_count": 12,
   "id": "5c517a23-2983-45a7-a0c8-92c6b3cabfed",
   "metadata": {
    "slideshow": {
     "slide_type": "-"
    }
   },
   "outputs": [
    {
     "data": {
      "text/plain": [
       "32"
      ]
     },
     "execution_count": 12,
     "metadata": {},
     "output_type": "execute_result"
    }
   ],
   "source": [
    "h = hashlib.sha3_256()\n",
    "h.digest_size"
   ]
  },
  {
   "cell_type": "code",
   "execution_count": 37,
   "id": "c9f9693d-eccd-429c-94ea-e8f35c1953e7",
   "metadata": {
    "slideshow": {
     "slide_type": "-"
    }
   },
   "outputs": [
    {
     "data": {
      "text/plain": [
       "136"
      ]
     },
     "execution_count": 37,
     "metadata": {},
     "output_type": "execute_result"
    }
   ],
   "source": [
    "h.block_size"
   ]
  },
  {
   "cell_type": "code",
   "execution_count": 38,
   "id": "06cd9139-768f-4f43-9a68-d32881e6823f",
   "metadata": {
    "slideshow": {
     "slide_type": "-"
    }
   },
   "outputs": [
    {
     "data": {
      "text/plain": [
       "1088"
      ]
     },
     "execution_count": 38,
     "metadata": {},
     "output_type": "execute_result"
    }
   ],
   "source": [
    "h.block_size*8"
   ]
  },
  {
   "cell_type": "code",
   "execution_count": 39,
   "id": "c1cc7cc5-0f4a-438a-a5fe-569976f7cd14",
   "metadata": {
    "slideshow": {
     "slide_type": "-"
    }
   },
   "outputs": [
    {
     "data": {
      "text/plain": [
       "'sha3_256'"
      ]
     },
     "execution_count": 39,
     "metadata": {},
     "output_type": "execute_result"
    }
   ],
   "source": [
    "h.name"
   ]
  },
  {
   "cell_type": "markdown",
   "id": "e5813052-08d3-474b-81d5-0a6254636611",
   "metadata": {},
   "source": [
    "## <font color='red'>Вопрос: почему -m - 2?</font>"
   ]
  },
  {
   "cell_type": "markdown",
   "id": "3270ee60-212f-420c-9613-0dd3d7e5ef9e",
   "metadata": {
    "slideshow": {
     "slide_type": "subslide"
    }
   },
   "source": [
    "## Algorithm 9: pad10*1(r, m)  \n",
    "*Input:* $r = b-c\\in\\mathbb{N}$ - block_size, количество бит сообщения $N,$ которые будут хешироваться за одну итерацию в функции $Sponge;$   \n",
    "$\\qquad m\\in\\mathbb{N}$ - длина хешируемого сообщения $N.$ \n",
    "\n",
    "*Output:* $P$ - список бит, которыми мы дополним $N,$ чтобы длина дополненного сообщения $N\\;||\\;P$ делилась на $r.$\n",
    "\n",
    "1.  Let \n",
    "$$\n",
    "  j = (– m – 2) \\mod r.\n",
    "$$\n",
    "2.  Return \n",
    "  $$\n",
    "    P = 1 || 0^j || 1.\n",
    "  $$  "
   ]
  },
  {
   "cell_type": "markdown",
   "id": "d3cf940e-9c52-4a7e-b827-e428b3b481d1",
   "metadata": {
    "slideshow": {
     "slide_type": "subslide"
    }
   },
   "source": [
    "## SHA-2\n",
    "SHA-2 (англ. Secure Hash Algorithm  Version 2) — семейство криптографических алгоритмов, включающее в себя алгоритмы SHA-224, SHA-256, SHA-384, SHA-512, SHA-512/256 и SHA-512/224.\n",
    "  \n",
    "512 - длина блока (SHA‑256, SHA‑224, длина слова 32).  \n",
    "\n",
    "1024 - длина блока (SHA‑512, SHA‑384, SHA‑512/256, SHA‑512/224, длина слова 64).  \n",
    "  \n",
    "  Разработчики:\tNSA (Агентство национальной безопасности) совместно с NIST (Национальный институт стандартов и технологий США).\n",
    "  \n",
    "     \n",
    "  2002, 2004, 2012.\n",
    "     "
   ]
  },
  {
   "cell_type": "markdown",
   "id": "2861f5d7-a2af-457c-ba44-6b51a18ba014",
   "metadata": {
    "slideshow": {
     "slide_type": "-"
    }
   },
   "source": [
    "# <font color='red'>Задание 1.</font>\n",
    "Найти три целых числа, которые являются коллизиями для функции `hash`."
   ]
  },
  {
   "cell_type": "markdown",
   "id": "b3440be7-4810-486a-8131-c5d7ea49ff97",
   "metadata": {},
   "source": [
    "## Разбираюсь с функцией <code>hash</code>"
   ]
  },
  {
   "cell_type": "code",
   "execution_count": 2,
   "id": "9c180186-8b63-44b1-b655-38f49e9cfbc7",
   "metadata": {},
   "outputs": [
    {
     "name": "stdout",
     "output_type": "stream",
     "text": [
      "Help on built-in function hash in module builtins:\n",
      "\n",
      "hash(obj, /)\n",
      "    Return the hash value for the given object.\n",
      "    \n",
      "    Two objects that compare equal must also have the same hash value, but the\n",
      "    reverse is not necessarily true.\n",
      "\n"
     ]
    }
   ],
   "source": [
    "help('hash')"
   ]
  },
  {
   "cell_type": "code",
   "execution_count": 3,
   "id": "fd4573d7-01db-45e6-a983-f50587dfe41e",
   "metadata": {},
   "outputs": [
    {
     "data": {
      "text/plain": [
       "'Return the hash value for the given object.\\n\\nTwo objects that compare equal must also have the same hash value, but the\\nreverse is not necessarily true.'"
      ]
     },
     "execution_count": 3,
     "metadata": {},
     "output_type": "execute_result"
    }
   ],
   "source": [
    "hash.__doc__"
   ]
  },
  {
   "cell_type": "code",
   "execution_count": 4,
   "id": "b5616a3d-f105-42ae-96d3-c67deac02f26",
   "metadata": {},
   "outputs": [
    {
     "data": {
      "text/plain": [
       "['__call__',\n",
       " '__class__',\n",
       " '__delattr__',\n",
       " '__dir__',\n",
       " '__doc__',\n",
       " '__eq__',\n",
       " '__format__',\n",
       " '__ge__',\n",
       " '__getattribute__',\n",
       " '__gt__',\n",
       " '__hash__',\n",
       " '__init__',\n",
       " '__init_subclass__',\n",
       " '__le__',\n",
       " '__lt__',\n",
       " '__module__',\n",
       " '__name__',\n",
       " '__ne__',\n",
       " '__new__',\n",
       " '__qualname__',\n",
       " '__reduce__',\n",
       " '__reduce_ex__',\n",
       " '__repr__',\n",
       " '__self__',\n",
       " '__setattr__',\n",
       " '__sizeof__',\n",
       " '__str__',\n",
       " '__subclasshook__',\n",
       " '__text_signature__']"
      ]
     },
     "execution_count": 4,
     "metadata": {},
     "output_type": "execute_result"
    }
   ],
   "source": [
    "dir(hash)"
   ]
  },
  {
   "cell_type": "code",
   "execution_count": 58,
   "id": "9d606830-2f26-49e4-b5bc-8b6ecdba05fc",
   "metadata": {},
   "outputs": [
    {
     "name": "stdout",
     "output_type": "stream",
     "text": [
      "Hash for 181 is: 181\n",
      "The hash is: -7625405924969151027\n"
     ]
    }
   ],
   "source": [
    "# hash for integer unchanged\n",
    "print('Hash for 181 is:', hash(181))\n",
    "\n",
    "# hash() method only works for immutable objects as tuple\n",
    "# Вот почему в словарях используются только неизменяемые объекты в качестве ключей!\n",
    "# tuple of vowels\n",
    "vowels = ('a', 'e', 'i', 'o', 'u')\n",
    "print('The hash is:', hash(vowels))"
   ]
  },
  {
   "cell_type": "markdown",
   "id": "b21a23c9-16e7-46e7-a822-1ef4ad02f405",
   "metadata": {},
   "source": [
    "## Решение "
   ]
  },
  {
   "cell_type": "code",
   "execution_count": 54,
   "id": "062aabff-581b-4581-95d2-df5a10aa6b16",
   "metadata": {
    "slideshow": {
     "slide_type": "-"
    },
    "tags": []
   },
   "outputs": [
    {
     "name": "stdout",
     "output_type": "stream",
     "text": [
      "hash( 2305843009213693954 ) =  3\n",
      "hash( 3 ) =  3\n",
      "hash( 2305843009213694006 ) =  55\n",
      "hash( 55 ) =  55\n",
      "hash( -2305843009492046824 ) =  -278352873\n",
      "hash( -278352873 ) =  -278352873\n"
     ]
    }
   ],
   "source": [
    "i = 2 ** 61 - 1 # hash(i) = 0\n",
    "# print('hash(', i, ') = ', hash(i))\n",
    "# print('hash(', i + 1, ') = ', hash(i + 1))\n",
    "# print('hash(', i + 2, ') = ', hash(i + 2))\n",
    "\n",
    "n1 = 3\n",
    "print('hash(', i + n1, ') = ', hash(i + n1))\n",
    "print('hash(', n1, ') = ', hash(n1))\n",
    "\n",
    "n2 = 55\n",
    "print('hash(', i + n2, ') = ', hash(i + n2))\n",
    "print('hash(', n2, ') = ', hash(n2))\n",
    "\n",
    "minus_i = -2 ** 61 + 1\n",
    "n3 = -278352873\n",
    "print('hash(', minus_i + n3, ') = ', hash(minus_i + n3))\n",
    "print('hash(', n3, ') = ', hash(n3))"
   ]
  },
  {
   "cell_type": "markdown",
   "id": "530c4fa8-22c0-409d-939f-b60816589457",
   "metadata": {},
   "source": [
    "## Почему так происходит?"
   ]
  },
  {
   "cell_type": "markdown",
   "id": "ade65e83-6929-4eeb-a6af-a9e453e5f6bb",
   "metadata": {},
   "source": [
    "https://stackoverflow.com/questions/37612524/when-is-hashn-n-in-python\n",
    "\n",
    "$2305843009213693951$ is $2^{61} - 1$. It's the largest Mersenne prime that fits into $64$ bits.\n",
    "\n",
    "If you have to make a hash just by taking the value mod some number, then a large Mersenne prime is a good choice $\\,$ it's easy to compute and ensures an even distribution of possibilities. (Although I personally would never make a hash this way)\n",
    "\n",
    "It's especially convenient to compute the modulus for floating point numbers. They have an exponential component that multiplies the whole number by $2^x$. Since $2^61 = 1$ mod $2^{61}-1$, you only need to consider the (exponent) mod $61$.\n",
    "\n",
    "See: https://en.wikipedia.org/wiki/Mersenne_prime\n",
    "\n",
    "So for a $64$/$32$ bit machine, the reduction would be $2^{\\text{_PyHASH_BITS}} - 1$, but what is _PyHASH_BITS?\n",
    "\n",
    "You can find it in pyhash.h header file which for a $64$ bit machine has been defined as 61 (you can read more explanation in pyconfig.h file)"
   ]
  },
  {
   "cell_type": "code",
   "execution_count": 56,
   "id": "3b029c93-1a44-4894-aa7f-8d9c50b13e5d",
   "metadata": {},
   "outputs": [
    {
     "data": {
      "text/plain": [
       "235235235"
      ]
     },
     "execution_count": 56,
     "metadata": {},
     "output_type": "execute_result"
    }
   ],
   "source": [
    "235235235 % 2305843009213693951"
   ]
  },
  {
   "cell_type": "code",
   "execution_count": 57,
   "id": "3809eddc-2fa3-43a4-84ea-e0a1b7046659",
   "metadata": {},
   "outputs": [
    {
     "data": {
      "text/plain": [
       "0"
      ]
     },
     "execution_count": 57,
     "metadata": {},
     "output_type": "execute_result"
    }
   ],
   "source": [
    "2305843009213693951 % 2305843009213693951"
   ]
  },
  {
   "cell_type": "markdown",
   "id": "95d6e667-ed94-46eb-8553-d6bcb5abcf37",
   "metadata": {
    "slideshow": {
     "slide_type": "skip"
    }
   },
   "source": [
    "## <font color='red'>Задание 2.</font>\n",
    "Является ли функция $\\theta(A)$ линейной?"
   ]
  },
  {
   "cell_type": "markdown",
   "id": "156df260-92ac-4fc5-be26-02f98d437ba9",
   "metadata": {},
   "source": [
    "## Доказательство из лекции"
   ]
  },
  {
   "cell_type": "markdown",
   "id": "4c91d37a-2bb0-4bf6-992f-51ac5e95fdf4",
   "metadata": {
    "slideshow": {
     "slide_type": "subslide"
    },
    "tags": []
   },
   "source": [
    "### Линейная функция\n",
    "Пусть $X$ - векторное пространство над полем $K.$ Тогда функцию $f:X\\rightarrow K$ называют <font color=blue>линейной</font>, если $\\forall x,y\\in X$ $\\forall \\alpha,\\beta\\in K$  справедливо равенство\n",
    "$$\n",
    "  f(\\alpha x+\\beta y)=\\alpha f(x)+\\beta f(y).\n",
    "$$  \n",
    " \n",
    "Булеву функцию $f(S)$ назовем <font color=blue>линейной</font>, если для любых двух векторов $S_1,$ $S_2\\in\\{0,1\\}^b$  справедливо равенство\n",
    "$$\n",
    "f(S_1\\oplus S_2)=f(S_1)\\oplus f(S_2).\n",
    "$$"
   ]
  },
  {
   "cell_type": "markdown",
   "id": "a1637805-fe7b-4d0a-9c23-34f92844f90f",
   "metadata": {
    "slideshow": {
     "slide_type": "subslide"
    }
   },
   "source": [
    "### Линейная функция как функция от базисных векторов\n",
    "Рассмотрим базис \n",
    "$$\n",
    "e_0=[1,0,0,\\dots,0,0]\n",
    "$$\n",
    "$$\n",
    "e_1=[0,1,0,\\dots,0,0]\n",
    "$$\n",
    "$$\\vdots$$\n",
    "$$\n",
    "e_{b-1}=[0,0,0,\\dots,0,1]\n",
    "$$\n",
    "\n",
    "Любой вектор $S\\in\\{0,1\\}^b$ можно представить в виде\n",
    "$$\n",
    "  S = (S[0]\\cdot e_0) \\oplus(S[1]\\cdot e_1)\\oplus\\dots\\oplus(S[b-1]\\cdot e_{b-1}),\n",
    "$$\n",
    "где умножение $\\cdot=\\wedge$ и константа $S[i]\\in\\{0,1\\}$ умножается на все координы вектора $e_i$ по аналогии с умножением вектора на скаляр.\n",
    "\n",
    "Подействуем на $S$ линейной функцией $f$\n",
    "$$\n",
    "  f(S)=(S[0]\\cdot f( e_0)) \\oplus (S[1]\\cdot f(e_1))\\oplus\\dots\\oplus(S[b-1]\\cdot f(e_{b-1}))\n",
    "$$\n",
    "Оказывается, что линейная функция однозначно задается своими значениями $f(e_i)$ на базисных векторах!"
   ]
  },
  {
   "cell_type": "markdown",
   "id": "85d74232-ea73-4f2e-a909-e707eddbab84",
   "metadata": {
    "slideshow": {
     "slide_type": "subslide"
    }
   },
   "source": [
    "Нетрудно проверить, что $\\theta(A)$ - линейная. Определим её через значения на базисных векторах.\n",
    "Пусть\n",
    "$$\n",
    "thetaBasis:\\{0,1\\}^b\\rightarrow\\{0,1\\}^b\n",
    "$$"
   ]
  },
  {
   "cell_type": "code",
   "execution_count": 68,
   "id": "e4a19614-f850-4474-ae77-c62416059407",
   "metadata": {
    "slideshow": {
     "slide_type": "-"
    }
   },
   "outputs": [
    {
     "name": "stdout",
     "output_type": "stream",
     "text": [
      "True\n"
     ]
    }
   ],
   "source": [
    "import random\n",
    "e = [0]*b\n",
    "thetae = [0]*b\n",
    "for i in range(b):\n",
    "    e[i] = [0]*b\n",
    "    e[i][i] = 1\n",
    "    thetae[i] = Transform3Dto1D(theta(Transform1Dto3D(e[i])))\n",
    "\n",
    "def XOR1D(S1,S2):\n",
    "    b = len(S1)\n",
    "    S = [0]*b \n",
    "    for x in range(b):\n",
    "        S[x] = S1[x] ^ S2[x]\n",
    "    return S     \n",
    "\n",
    "def thetaBasis(S):\n",
    "    S_out = [0]*b \n",
    "    for x in range(b):\n",
    "        if S[x] == 1:\n",
    "            S_out = XOR1D(S_out, thetae[x])            \n",
    "    return S_out\n",
    "\n",
    "S = [random.randint(0,1) for _ in range(b)]\n",
    "A = Transform1Dto3D(S)\n",
    "print(theta(A) == Transform1Dto3D(thetaBasis(S)))"
   ]
  },
  {
   "cell_type": "markdown",
   "id": "64247616-ca06-4e46-a3a4-c56a2285de1c",
   "metadata": {
    "slideshow": {
     "slide_type": "skip"
    }
   },
   "source": [
    "## <font color='red'>Задание 4.</font>\n",
    "\n",
    "Рассмотрим две функции `theta(A)` и `theta2(A)`, код которых указан ниже. Они отличаются тем, что в `theta(A)` результат записывается в новую переменную $A\\_out,$ а в функции `theta2(A)` результат записывается во входящую переменную $A.$ Объяснить, почему  \n",
    "`print(theta(A) == theta2(A))`  \n",
    "`True`  \n",
    "но если поменять очередность функций, то результат сравнения иной  \n",
    "`print(theta2(A) == theta(A))`  \n",
    "`False`\n",
    "\n",
    "\n"
   ]
  },
  {
   "cell_type": "code",
   "execution_count": 9,
   "id": "188ca27d-02aa-4410-b28f-2ad7c4627bad",
   "metadata": {
    "slideshow": {
     "slide_type": "skip"
    }
   },
   "outputs": [
    {
     "name": "stdout",
     "output_type": "stream",
     "text": [
      "True\n",
      "False\n"
     ]
    }
   ],
   "source": [
    "def theta(A):\n",
    "    A_out = [[[0]*w for _ in range(5)] for _ in range(5)]\n",
    "    C = [[0]*w for _ in range(5)]\n",
    "    D = [[0]*w for _ in range(5)]\n",
    "    for x in range(5):\n",
    "        for z in range(w):\n",
    "            C[x][z] = A[x][0][z]^A[x][1][z]^A[x][2][z]^A[x][3][z]^A[x][4][z] \n",
    "    for x in range(5):\n",
    "        for z in range(w):\n",
    "            D[x][z] = C[x-1][z] ^ C[(x+1)%5][z-1]\n",
    "    for x in range(5):\n",
    "        for y in range(5):\n",
    "            for z in range(w):            \n",
    "                A_out[x][y][z] = A[x][y][z] ^ D[x][z]\n",
    "    return A_out\n",
    "\n",
    "def theta2(A):\n",
    "    C = [[0]*w for _ in range(5)]\n",
    "    D = [[0]*w for _ in range(5)]\n",
    "    for x in range(5):\n",
    "        for z in range(w):\n",
    "            C[x][z] = A[x][0][z]^A[x][1][z]^A[x][2][z]^A[x][3][z]^A[x][4][z] \n",
    "    for x in range(5):\n",
    "        for z in range(w):\n",
    "            D[x][z] = C[x-1][z] ^ C[(x+1)%5][z-1]\n",
    "    for x in range(5):\n",
    "        for y in range(5):\n",
    "            for z in range(w):            \n",
    "                A[x][y][z] = A[x][y][z] ^ D[x][z]\n",
    "    return A\n",
    "S = [random.randint(0,1) for _ in range(b)]\n",
    "A = Transform1Dto3D(S)\n",
    "print(theta(A) == theta2(A))\n",
    "print(theta2(A) == theta(A))"
   ]
  },
  {
   "cell_type": "markdown",
   "id": "6583db51-f02a-4b36-84f6-d496a0bc6189",
   "metadata": {},
   "source": [
    "## Ответ\n",
    "Просто мы изменяем матрицу A"
   ]
  },
  {
   "cell_type": "markdown",
   "id": "bad5e533-b76d-45c5-8ecb-4aea334b6697",
   "metadata": {
    "slideshow": {
     "slide_type": "skip"
    }
   },
   "source": [
    "## <font color='red'>Задание 5.</font>\n",
    "\n",
    "Является ли $\\;rho(A)\\;$ шифром перестановки? Как расшифровать шифротекст $\\;Chiper$\n",
    "$$\n",
    "  Chiper = rho(A)?\n",
    "$$  "
   ]
  },
  {
   "cell_type": "markdown",
   "id": "c2a65ca9-da1a-4c56-a151-47e5b4f28f48",
   "metadata": {},
   "source": [
    "## Ответ"
   ]
  },
  {
   "cell_type": "markdown",
   "id": "06b07da2-27a1-4e0c-a50f-79d5c3463b5f",
   "metadata": {
    "slideshow": {
     "slide_type": "skip"
    }
   },
   "source": [
    "## <font color='red'>Задание 6.</font>\n",
    "\n",
    "Является ли функция $\\pi(A)$ линейной?  Найти функцию $\\pi^{-1}(A).$\n",
    "\n"
   ]
  },
  {
   "cell_type": "code",
   "execution_count": 73,
   "id": "573e6cce-9d57-4baf-b919-3de6c908ed04",
   "metadata": {
    "slideshow": {
     "slide_type": "-"
    },
    "tags": []
   },
   "outputs": [],
   "source": [
    "def pi(A_in):\n",
    "    A_out = [[[0]*w for _ in range(5)] for _ in range(5)]\n",
    "    for x in range(5):\n",
    "        for y in range(5):\n",
    "            for z in range(w):\n",
    "                A_out[x][y][z] = A_in[(x + 3*y) % 5][x][z]\n",
    "    return A_out"
   ]
  },
  {
   "cell_type": "code",
   "execution_count": 71,
   "id": "ee2a4c14-9c9c-4b6d-be0c-622137b866c4",
   "metadata": {},
   "outputs": [
    {
     "name": "stdout",
     "output_type": "stream",
     "text": [
      "True\n"
     ]
    }
   ],
   "source": [
    "import random\n",
    "e = [0]*b\n",
    "pie = [0]*b\n",
    "for i in range(b):\n",
    "    e[i] = [0]*b\n",
    "    e[i][i] = 1\n",
    "    pie[i] = Transform3Dto1D(pi(Transform1Dto3D(e[i])))\n",
    "\n",
    "def XOR1D(S1,S2):\n",
    "    b = len(S1)\n",
    "    S = [0]*b \n",
    "    for x in range(b):\n",
    "        S[x] = S1[x] ^ S2[x]\n",
    "    return S     \n",
    "\n",
    "def piBasis(S):\n",
    "    S_out = [0]*b \n",
    "    for x in range(b):\n",
    "        if S[x] == 1:\n",
    "            S_out = XOR1D(S_out, pie[x])            \n",
    "    return S_out\n",
    "\n",
    "S = [random.randint(0,1) for _ in range(b)]\n",
    "A = Transform1Dto3D(S)\n",
    "print(pi(A) == Transform1Dto3D(piBasis(S)))"
   ]
  },
  {
   "cell_type": "code",
   "execution_count": 74,
   "id": "9f038ce4-bb4d-4526-b803-bf603caa5742",
   "metadata": {},
   "outputs": [
    {
     "name": "stdout",
     "output_type": "stream",
     "text": [
      "('приводится', 1599)\n",
      "--- 0.5022530555725098 seconds ---\n"
     ]
    }
   ],
   "source": [
    "def diag(M):\n",
    "    b = len(M)\n",
    "    for i in range(b):\n",
    "        j=i\n",
    "        while M[j][i] == 0:\n",
    "            j+=1\n",
    "            if j>=b:\n",
    "                return ('не приводится', i)\n",
    "        M[i],M[j] = M[j],M[i]    \n",
    "        for k in range(i):\n",
    "            if M[k][i] == 1:\n",
    "                M[k] = XOR1D(M[k],M[j])\n",
    "        for k in range(i+1,b):\n",
    "            if M[k][i] == 1:\n",
    "                M[k] = XOR1D(M[k],M[j])        \n",
    "    return ('приводится',i)   \n",
    "M = [pie[i] for i in range(b)]\n",
    "start_time = time.time()\n",
    "print(diag(M))\n",
    "print(\"--- %s seconds ---\" % (time.time() - start_time))"
   ]
  },
  {
   "cell_type": "markdown",
   "id": "c2bd7d4f-aafb-4c5b-9787-4f14d502308c",
   "metadata": {
    "slideshow": {
     "slide_type": "skip"
    }
   },
   "source": [
    "## <font color='red'>Задание 7.</font>\n",
    "\n",
    "Является ли функция $\\chi(A)$ линейной?"
   ]
  },
  {
   "cell_type": "code",
   "execution_count": 31,
   "id": "0e20ea34-d46c-4b19-87e4-38b73e4a2a3a",
   "metadata": {
    "slideshow": {
     "slide_type": "-"
    }
   },
   "outputs": [],
   "source": [
    "def chi(A):\n",
    "    A_out = [[[0]*w for _ in range(5)] for _ in range(5)]\n",
    "    for x in range(5):\n",
    "        for y in range(5):\n",
    "            for z in range(w):\n",
    "                A_out[x][y][z] = A[x][y][z] ^ ((A[(x+1)%5][y][z] ^ 1) & A[(x+2)%5][y][z]) \n",
    "    return A_out"
   ]
  },
  {
   "cell_type": "code",
   "execution_count": 78,
   "id": "b5512a47-ef0b-4c18-a939-d3d228fa73a6",
   "metadata": {},
   "outputs": [
    {
     "ename": "TypeError",
     "evalue": "'list' object is not callable",
     "output_type": "error",
     "traceback": [
      "\u001b[1;31m---------------------------------------------------------------------------\u001b[0m",
      "\u001b[1;31mTypeError\u001b[0m                                 Traceback (most recent call last)",
      "Input \u001b[1;32mIn [78]\u001b[0m, in \u001b[0;36m<cell line: 4>\u001b[1;34m()\u001b[0m\n\u001b[0;32m      5\u001b[0m     e[i] \u001b[38;5;241m=\u001b[39m [\u001b[38;5;241m0\u001b[39m]\u001b[38;5;241m*\u001b[39mb\n\u001b[0;32m      6\u001b[0m     e[i][i] \u001b[38;5;241m=\u001b[39m \u001b[38;5;241m1\u001b[39m\n\u001b[1;32m----> 7\u001b[0m     chie[i] \u001b[38;5;241m=\u001b[39m Transform3Dto1D(\u001b[43mchi\u001b[49m\u001b[43m(\u001b[49m\u001b[43mTransform1Dto3D\u001b[49m\u001b[43m(\u001b[49m\u001b[43me\u001b[49m\u001b[43m[\u001b[49m\u001b[43mi\u001b[49m\u001b[43m]\u001b[49m\u001b[43m)\u001b[49m\u001b[43m)\u001b[49m)\n\u001b[0;32m      9\u001b[0m \u001b[38;5;28;01mdef\u001b[39;00m \u001b[38;5;21mchiBasis\u001b[39m(S):\n\u001b[0;32m     10\u001b[0m     S_out \u001b[38;5;241m=\u001b[39m [\u001b[38;5;241m0\u001b[39m]\u001b[38;5;241m*\u001b[39mb \n",
      "\u001b[1;31mTypeError\u001b[0m: 'list' object is not callable"
     ]
    }
   ],
   "source": [
    "import random\n",
    "e = [0]*b\n",
    "chie = [0]*b\n",
    "for i in range(b):\n",
    "    e[i] = [0]*b\n",
    "    e[i][i] = 1\n",
    "    chie[i] = Transform3Dto1D(chi(Transform1Dto3D(e[i])))\n",
    "\n",
    "def chiBasis(S):\n",
    "    S_out = [0]*b \n",
    "    for x in range(b):\n",
    "        if S[x] == 1:\n",
    "            S_out = XOR1D(S_out, chie[x])            \n",
    "    return S_out\n",
    "\n",
    "S = [random.randint(0,1) for _ in range(b)]\n",
    "A = Transform1Dto3D(S)\n",
    "print(chi(A) == Transform1Dto3D(chiBasis(S)))"
   ]
  },
  {
   "cell_type": "markdown",
   "id": "fe8386a8-908e-42aa-97e6-c5d8ad1bcec3",
   "metadata": {
    "slideshow": {
     "slide_type": "skip"
    }
   },
   "source": [
    "# <font color='red'>Задание 10.</font>\n",
    "\n",
    "Реализовать согласно стандарту [FIPS PUB 202](https://nvlpubs.nist.gov/nistpubs/fips/nist.fips.202.pdf \"Ссылка на стандарт\")\n",
    "функции sha3_224, sha3_384,  sha3_512. Сравнить их работу со встроенными."
   ]
  },
  {
   "cell_type": "markdown",
   "id": "f5039e7b-cc0d-4199-8517-43487a15709f",
   "metadata": {},
   "source": [
    "## Функции из лекции"
   ]
  },
  {
   "cell_type": "code",
   "execution_count": 1,
   "id": "aac92d74-43c8-4f36-9478-4b27c3f28d9d",
   "metadata": {
    "slideshow": {
     "slide_type": "skip"
    }
   },
   "outputs": [],
   "source": [
    "l = 6 \n",
    "b = 25*(2**l) \n",
    "w = 2**l\n",
    "\n",
    "def Transform1Dto3D(S):\n",
    "    A = [[[0]*w for _ in range(5)] for _ in range(5)]\n",
    "    for x in range(5):\n",
    "        for y in range(5):\n",
    "            for z in range(w):\n",
    "                A[x][y][z] = S[w*(5*y + x)+z]\n",
    "    return A\n",
    "\n",
    "def Transform3Dto1D(A):\n",
    "    S = [0]*(5*5*w)\n",
    "    for x in range(5):\n",
    "        for y in range(5):\n",
    "            for z in range(w):\n",
    "                S[w*(5*y + x)+z] = A[x][y][z]\n",
    "    return S\n",
    "\n",
    "def theta(A):\n",
    "    A_out = [[[0]*w for _ in range(5)] for _ in range(5)]\n",
    "    C = [[0]*w for _ in range(5)]\n",
    "    D = [[0]*w for _ in range(5)]\n",
    "    for x in range(5):\n",
    "        for z in range(w):\n",
    "            C[x][z] = A[x][0][z]^A[x][1][z]^A[x][2][z]^A[x][3][z]^A[x][4][z] \n",
    "    for x in range(5):\n",
    "        for z in range(w):\n",
    "            D[x][z] = C[x-1][z] ^ C[(x+1)%5][z-1]\n",
    "    for x in range(5):\n",
    "        for y in range(5):\n",
    "            for z in range(w):            \n",
    "                A_out[x][y][z] = A[x][y][z] ^ D[x][z]\n",
    "    return A_out\n",
    "\n",
    "def rho(A_in):\n",
    "    rhoMatrix = [[0, 36, 3, 41, 18], [1, 44, 10, 45, 2], [62, 6, 43, 15, 61], [28, 55, 25, 21, 56], [27, 20, 39, 8, 14]]\n",
    "    A_out = [[[0]*w for _ in range(5)] for _ in range(5)]\n",
    "    for x in range(5):\n",
    "        for y in range(5):\n",
    "            for z in range(w):\n",
    "                A_out[x][y][z] = A_in[x][y][z - rhoMatrix[x][y]]\n",
    "\n",
    "    return A_out\n",
    "\n",
    "def pi(A_in):\n",
    "    A_out = [[[0]*w for _ in range(5)] for _ in range(5)]\n",
    "    for x in range(5):\n",
    "        for y in range(5):\n",
    "            for z in range(w):\n",
    "                A_out[x][y][z] = A_in[(x + 3*y) % 5][x][z]\n",
    "    return A_out\n",
    "\n",
    "def chi(A):\n",
    "    A_out = [[[0]*w for _ in range(5)] for _ in range(5)]\n",
    "    for x in range(5):\n",
    "        for y in range(5):\n",
    "            for z in range(w):\n",
    "                A_out[x][y][z] = A[x][y][z] ^ ((A[(x+1)%5][y][z] ^ 1) & A[(x+2)%5][y][z]) \n",
    "    return A_out\n",
    "\n",
    "def iota(A, round):\n",
    "    rc = [1,0,0,0,0,0,0,0,1,0,1,1,0,0,0,1,1,1,1,0,1,0,0,0,0,1,1,1,1,1,1,1,1,0,0,1,0,0,0,0,1,0,1,0,0,1,1,1,1,1,0,1,0,1,0,1,0,1,1,1,0,0,0,0,0,1,1,0,0,0,1,0,1,0,1,1,0,0,1,1,0,0,1,0,1,1,1,1,1,1,0,1,1,1,1,0,0,1,1,0,1,1,1,0,1,1,1,0,0,1,0,1,0,1,0,0,1,0,1,0,0,0,1,0,0,1,0,1,1,0,1,0,0,0,1,1,0,0,1,1,1,0,0,1,1,1,1,0,0,0,1,1,0,1,1,0,0,0,0,1,0,0,0,1,0,1,1,1,0,1,0,1,1,1,1,0,1,1,0,1,1,1,1,1,0,0,0,0,1,1,0,1,0,0,1,1,0,1,0,1,1,0,1,1,0,1,0,1,0,0,0,0,0,1,0,0,1,1,1,0,1,1,0,0,1,0,0,1,0,0,1,1,0,0,0,0,0,0,1,1,1,0,1,0,0,1,0,0,0,1,1,1,0,0,0]\n",
    "    for j in range(l+1):\n",
    "        A[0][0][2**j-1] = A[0][0][2**j-1] ^ rc[(j+7*round)%255] \n",
    "    return A\n",
    "\n",
    "def Rnd(A, round):\n",
    "    return iota(chi(pi(rho(theta(A)))),round)\n",
    "\n",
    "def KECCAK_p(𝑆):\n",
    "    A = Transform1Dto3D(S)\n",
    "    for round in range(24):\n",
    "        A = Rnd(A,round)\n",
    "    return Transform3Dto1D(A)\n",
    "\n",
    "def Reverse(Z):\n",
    "    n = len(Z)//8\n",
    "    partition = [Z[i*8:(i+1)*8] for i in range(n)]\n",
    "    out = []\n",
    "    for i in range(n):\n",
    "        partition[i].reverse()\n",
    "        out += partition[i]\n",
    "    return out\n",
    "\n",
    "def pad101(r, m):\n",
    "    j = (-m-2) % r\n",
    "    return [1] + [0]*j + [1]\n",
    "\n",
    "def Sponge(r,N,d):\n",
    "    P = N + pad101(r,len(N))\n",
    "    n = len(P)//r\n",
    "    c = b - r\n",
    "    S =[0]*b\n",
    "    for i in range(n):\n",
    "        Pi = P[i*r:(i+1)*r]\n",
    "        for j in range(r):\n",
    "            S[j] = S[j]^Pi[j]\n",
    "        S = KECCAK_p(S)\n",
    "    Z = S[:r]\n",
    "    while d>len(Z):\n",
    "        S = KECCAK_p(S)\n",
    "        Z = Z+S[:r]\n",
    "    Z = Reverse(Z)    \n",
    "    return Z[:d]\n",
    "\n",
    "def Keccak(c,N,d):\n",
    "    return Sponge(1600-c,N,d)\n",
    "\n",
    "\n",
    "def ord2(alpha):\n",
    "    bits = [int(i) for i in bin(ord(alpha))[2:]]\n",
    "    bits = [0]*(8-len(bits))+bits\n",
    "    bits.reverse()\n",
    "    return bits\n",
    "\n",
    "def Text2Bits(text):\n",
    "    bits = []\n",
    "    for i in text:\n",
    "        bits += ord2(i)\n",
    "    return bits\n",
    "\n",
    "def SHA3_256(M):\n",
    "    return Keccak(512,Text2Bits(M)+[0,1],256)\n",
    "\n",
    "def Hex(list4):\n",
    "    s = 0\n",
    "    for i in range(4):\n",
    "        s += list4[-(i+1)]*2**i\n",
    "    return hex(s)[-1]    \n",
    "def List2Hex(h):\n",
    "    s = ''\n",
    "    for i in range(len(h)//4):\n",
    "        s+= Hex(h[4*i:4*(i+1)])\n",
    "    return s    "
   ]
  },
  {
   "cell_type": "markdown",
   "id": "52d3b12f-bebd-4256-9a6e-e190fc3b0245",
   "metadata": {
    "tags": []
   },
   "source": [
    "## Решение"
   ]
  },
  {
   "cell_type": "code",
   "execution_count": 77,
   "id": "2b9f843e-4e64-4061-b002-0eadcb7bff25",
   "metadata": {},
   "outputs": [],
   "source": [
    "def SHA3_224(M):\n",
    "    return Keccak(448, Text2Bits(M) + [0, 1], 224)\n",
    "def SHA3_384(M):\n",
    "    return Keccak(768, Text2Bits(M) + [0, 1], 384)\n",
    "def SHA3_512(M):\n",
    "    return Keccak(1024, Text2Bits(M) + [0, 1], 512)"
   ]
  },
  {
   "cell_type": "markdown",
   "id": "414eca03-1e93-4d27-b339-015b9b082e9f",
   "metadata": {
    "slideshow": {
     "slide_type": "subslide"
    },
    "tags": []
   },
   "source": [
    "## Сравнение со встроенной функцией"
   ]
  },
  {
   "cell_type": "code",
   "execution_count": 51,
   "id": "6d97620a-d7a4-410e-afbe-ecf102a94062",
   "metadata": {
    "slideshow": {
     "slide_type": "-"
    }
   },
   "outputs": [
    {
     "data": {
      "text/plain": [
       "'83196c6465b4e59fdcc0c3418db8e923cb3a68e5445a918c9a4befee4e0071612d1d31effab7e0e58206aab30170bfd25b3ccb1589ad11bac97d97230288da1d'"
      ]
     },
     "execution_count": 51,
     "metadata": {},
     "output_type": "execute_result"
    }
   ],
   "source": [
    "List2Hex(SHA3_512(\"KM\"))"
   ]
  },
  {
   "cell_type": "code",
   "execution_count": 52,
   "id": "b0301a1a-647c-402f-84b4-63b52b363cff",
   "metadata": {
    "slideshow": {
     "slide_type": "-"
    }
   },
   "outputs": [
    {
     "data": {
      "text/plain": [
       "'83196c6465b4e59fdcc0c3418db8e923cb3a68e5445a918c9a4befee4e0071612d1d31effab7e0e58206aab30170bfd25b3ccb1589ad11bac97d97230288da1d'"
      ]
     },
     "execution_count": 52,
     "metadata": {},
     "output_type": "execute_result"
    }
   ],
   "source": [
    "import hashlib\n",
    "hashlib.sha3_512(b\"KM\").hexdigest()"
   ]
  },
  {
   "cell_type": "code",
   "execution_count": 53,
   "id": "a292fcf6-0c85-4000-afae-aa303e17bb62",
   "metadata": {
    "slideshow": {
     "slide_type": "skip"
    }
   },
   "outputs": [
    {
     "data": {
      "text/plain": [
       "'ca5c9a01a1ce4e3d8547a8370d8e1dccdce5950636f4245de800f16a20381837ec1058ca27d9f13046efb79fc1ec57d7182a7cec02a7b6ea9e08fb869a0af44c'"
      ]
     },
     "execution_count": 53,
     "metadata": {},
     "output_type": "execute_result"
    }
   ],
   "source": [
    "text = \"KM\"*2022\n",
    "List2Hex(SHA3_512(text))"
   ]
  },
  {
   "cell_type": "code",
   "execution_count": 54,
   "id": "9ad2eef6-652e-4cd9-9167-32534c1a66a0",
   "metadata": {
    "scrolled": true,
    "slideshow": {
     "slide_type": "skip"
    }
   },
   "outputs": [
    {
     "data": {
      "text/plain": [
       "'ca5c9a01a1ce4e3d8547a8370d8e1dccdce5950636f4245de800f16a20381837ec1058ca27d9f13046efb79fc1ec57d7182a7cec02a7b6ea9e08fb869a0af44c'"
      ]
     },
     "execution_count": 54,
     "metadata": {},
     "output_type": "execute_result"
    }
   ],
   "source": [
    "hashlib.sha3_512(bytes(text, encoding = 'utf-8')).hexdigest()"
   ]
  },
  {
   "cell_type": "code",
   "execution_count": 55,
   "id": "f97d791b-46de-4eeb-ac5e-4c75748053b7",
   "metadata": {
    "slideshow": {
     "slide_type": "-"
    }
   },
   "outputs": [
    {
     "name": "stdout",
     "output_type": "stream",
     "text": [
      "--- 3.8878672122955322 seconds ---\n",
      "--- 0.0 seconds ---\n"
     ]
    }
   ],
   "source": [
    "import time\n",
    "start_time = time.time()\n",
    "List2Hex(SHA3_512(text))\n",
    "print(\"--- %s seconds ---\" % (time.time() - start_time))\n",
    "start_time = time.time()\n",
    "hashlib.sha3_512(bytes(text, encoding = 'utf-8')).hexdigest()\n",
    "print(\"--- %s seconds ---\" % (time.time() - start_time))\n"
   ]
  }
 ],
 "metadata": {
  "kernelspec": {
   "display_name": "Python 3 (ipykernel)",
   "language": "python",
   "name": "python3"
  },
  "language_info": {
   "codemirror_mode": {
    "name": "ipython",
    "version": 3
   },
   "file_extension": ".py",
   "mimetype": "text/x-python",
   "name": "python",
   "nbconvert_exporter": "python",
   "pygments_lexer": "ipython3",
   "version": "3.10.5"
  }
 },
 "nbformat": 4,
 "nbformat_minor": 5
}
