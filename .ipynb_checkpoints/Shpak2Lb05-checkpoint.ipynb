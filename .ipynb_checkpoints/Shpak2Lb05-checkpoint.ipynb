{
 "cells": [
  {
   "cell_type": "markdown",
   "id": "e18b7bde-7343-4a4f-991b-aeb037544fb9",
   "metadata": {},
   "source": [
    "### Модули"
   ]
  },
  {
   "cell_type": "code",
   "execution_count": 11,
   "id": "bd729eb2-29d7-4d15-aa1e-aacb58e48fff",
   "metadata": {},
   "outputs": [],
   "source": [
    "import matplotlib.pyplot as plt\n",
    "import random\n",
    "import sympy as smp\n",
    "import numpy as np\n",
    "import math\n",
    "from ecpy.curves import Curve, Point"
   ]
  },
  {
   "cell_type": "markdown",
   "id": "b275295c-7734-40a5-8ef7-7a2a963617a0",
   "metadata": {},
   "source": [
    "### Кривая Вейерштрасса"
   ]
  },
  {
   "cell_type": "code",
   "execution_count": 27,
   "id": "2314ea74-f9e8-4dd5-90b6-0c63e199480d",
   "metadata": {},
   "outputs": [],
   "source": [
    "class My_Curve:\n",
    "    \"\"\"docstring\"\"\"\n",
    "    \n",
    "    def __init__(self, a, b, p):\n",
    "        self.__a = a\n",
    "        self.__b = b\n",
    "        self.__p = p\n",
    "        self.__pts = list(set(self.__get_points() + self.__get_shanks_points()))\n",
    "        \n",
    "    def get_coeffs(self):\n",
    "        return self.__a, self.__b\n",
    "    \n",
    "    def get_mod(self):\n",
    "        return self.__p\n",
    "    \n",
    "    def get_pts(self):\n",
    "        return self.__pts\n",
    "    \n",
    "    def __get_points(self):\n",
    "        X = [(x ** 3 + self.__a * x + self.__b) % self.__p for x in range(self.__p)]\n",
    "        Y = [y ** 2 % self.__p for y in range(self.__p)]\n",
    "        points = []\n",
    "        for i in range(len(X)):\n",
    "            for j in range(len(Y)):\n",
    "                if(X[i] == Y[j]):\n",
    "                    points += [[i, j]]\n",
    "        points = [My_Point(pt[0], pt[1], self) for pt in points]\n",
    "        return points\n",
    "    \n",
    "    def __get_shanks_points(self):\n",
    "        points = []\n",
    "        for x in range(self.__p):\n",
    "            a = (pow(x, 3, self.__p) + self.__a * x + self.__b) % self.__p\n",
    "            if not Jacobi(a, self.__p) == 1:\n",
    "                continue\n",
    "            y = Shanks(a, self.__p)\n",
    "            temp_point1 = My_Point(x, y, self)\n",
    "            points += [temp_point1]\n",
    "        return points\n",
    "    \n",
    "    def get_random_point(self):\n",
    "        return self.__pts[random.randint(0, len(self.__pts) - 1)]\n",
    "    \n",
    "    def get_order(self):\n",
    "        return len(self.__pts) + 1\n",
    "    \n",
    "    def __repr__(self):\n",
    "        return 'y^2 = x^3 + ({0}) * x + ({1}) mod {2}'.format(self.__a, self.__b, self.__p)"
   ]
  },
  {
   "cell_type": "code",
   "execution_count": 28,
   "id": "25ba5c88-ca29-4bda-99d7-173111fb39de",
   "metadata": {},
   "outputs": [],
   "source": [
    "class My_Point():\n",
    "    \"\"\"docstring\"\"\"    \n",
    "    \n",
    "    def __init__(self, x, y, curve):\n",
    "        self.__x = x\n",
    "        self.__y = y\n",
    "        self.__curve = curve\n",
    "        \n",
    "    def get_x(self):\n",
    "        return self.__x\n",
    "    \n",
    "    def get_y(self):\n",
    "        return self.__y\n",
    "    \n",
    "    def get_curve(self):\n",
    "        return self.__curve\n",
    "    \n",
    "    def __repr__(self):\n",
    "        return '({0}, {1})'.format(self.__x, self.__y)\n",
    "    \n",
    "    def get_inverse_point(self):\n",
    "        return My_Point(self.__x, -1 * self.__y, self.__curve)\n",
    "    \n",
    "    def __add__(self, other):\n",
    "        a, b = self.__curve.get_coeffs()\n",
    "        x1 = self.__x\n",
    "        y1 = self.__y\n",
    "        x2 = other.get_x()\n",
    "        y2 = other.get_y()\n",
    "        if (x1 == 0 and y1 == 0):\n",
    "            return other\n",
    "        elif(x2 == 0 and y2 == 0):\n",
    "            return self\n",
    "        if (x1 != x2):\n",
    "            k = (y2 - y1) * pow((x2 - x1), -1, self.__curve.get_mod()) % self.__curve.get_mod()\n",
    "            x3 = pow(k, 2, self.__curve.get_mod()) - x1 - x2\n",
    "            y3 = k * (x1 - x3) % self.__curve.get_mod() - y1\n",
    "        elif (x1 == x2 and y1 == y2 and y1 != 0):\n",
    "            k = (3 * pow(x1, 2, self.__curve.get_mod()) % self.__curve.get_mod() + a) * pow(2 * y1, -1, self.__curve.get_mod()) % self.__curve.get_mod()\n",
    "            x3 = pow(k, 2, self.__curve.get_mod()) - 2 * x1 % self.__curve.get_mod()\n",
    "            y3 = k * (x1 - x3) % self.__curve.get_mod() - y1\n",
    "        elif (x1 == x2 and y1 == y2 and y1 == 0):\n",
    "            x3 = 0\n",
    "            y3 = 0\n",
    "        elif (x1 == x2 and y1 != y2):\n",
    "            x3 = 0\n",
    "            y3 = 0\n",
    "        x3 %= self.__curve.get_mod()\n",
    "        y3 %= self.__curve.get_mod()\n",
    "        return My_Point(x3, y3, self.__curve)\n",
    "        \n",
    "    def __sub__(self, other):\n",
    "        if isinstance(other, My_Point):\n",
    "            return self + other.get_inverse_point()\n",
    "        \n",
    "    def __mul__(self, other):\n",
    "        result = My_Point(0, 0, self.__curve)\n",
    "        Q = My_Point(self.__x, self.__y, self.__curve)\n",
    "        m = bin(other)[2:]\n",
    "        for i in reversed(range(len(m))):\n",
    "            if (m[i] == '1'):\n",
    "                result = result + Q\n",
    "            Q = Q + Q\n",
    "        return result\n",
    "    \n",
    "    def __eq__(self, other):\n",
    "        return self.__x % self.__curve.get_mod() == other.get_x() % self.__curve.get_mod() and self.__y % self.__curve.get_mod() == other.get_y() % self.__curve.get_mod()\n",
    "    \n",
    "    def __hash__(self):\n",
    "        return hash((self.__x, self.__y))"
   ]
  },
  {
   "cell_type": "markdown",
   "id": "fdc91ca6-abb3-49c4-be96-975b159f5d0a",
   "metadata": {},
   "source": [
    "### Вспомогательные функции"
   ]
  },
  {
   "cell_type": "code",
   "execution_count": 29,
   "id": "49235403-62b8-4b87-9175-210e6518545c",
   "metadata": {},
   "outputs": [],
   "source": [
    "def st(n):\n",
    "    s = 0\n",
    "    t = n\n",
    "    while t % 2 == 0:\n",
    "        s += 1\n",
    "        t = t // 2\n",
    "    return s, t\n",
    "\n",
    "def Jacobi(a,n):\n",
    "    if n < 0 or not n % 2:\n",
    "        raise ValueError(\"n should be an odd positive integer\") \n",
    "    j = 1\n",
    "    if n == 1:\n",
    "        return j\n",
    "    if a<0:\n",
    "        a = -a\n",
    "        if n%4 == 3:\n",
    "            j = -j\n",
    "    while n>1:\n",
    "        if a == 0:\n",
    "            return 0\n",
    "        s,t = st(a)\n",
    "        if (s%2 == 1) & (n%8 in [3, 5]):\n",
    "            j = -j\n",
    "        if 3 == n%4 == t%4:\n",
    "            j = -j\n",
    "        a = n%t\n",
    "        n = t\n",
    "    return j\n",
    "\n",
    "def Shanks(a, p):\n",
    "    if not Jacobi(a, p) == 1:\n",
    "        raise ValueError(\"a should be a quadratic residue\")\n",
    "    s, t = st(p-1)\n",
    "    import random\n",
    "    n = random.randint(2, p - 2)\n",
    "    while Jacobi(n, p) == 1:\n",
    "        n = random.randint(2, p - 2)\n",
    "    b = pow(n, t, p)\n",
    "    r = pow(int(a), (t+1)//2, p)\n",
    "    d = 0\n",
    "    f = pow(int(a), t, p)\n",
    "    b2 = b\n",
    "    for i in range(1,s):\n",
    "        b2 = b2 * b2 % p\n",
    "        if not pow(f, 2 ** (s - 1 - i), p) == 1:\n",
    "            d += 2 ** i\n",
    "            f = f * b2 % p \n",
    "    return r*pow(b, d//2, p) % p"
   ]
  },
  {
   "cell_type": "markdown",
   "id": "56af773d-05fa-452c-a4d1-b827cbb8a8e9",
   "metadata": {},
   "source": [
    "# Задания"
   ]
  },
  {
   "cell_type": "markdown",
   "id": "ecd5f139-bc03-40fc-9fb5-ea9592ee8a30",
   "metadata": {
    "slideshow": {
     "slide_type": "skip"
    }
   },
   "source": [
    "### <font color='red'>Задание 1.</font>\n",
    "Реализовать класс `MontgomeryCurve` с методами `__repr__`, `__eq__`, `InfinityPoint`, `points`, `order`, `randpoint`."
   ]
  },
  {
   "cell_type": "markdown",
   "id": "59e3dd1f-871f-4f58-9961-275b14b069ee",
   "metadata": {
    "slideshow": {
     "slide_type": "skip"
    }
   },
   "source": [
    "### <font color='red'>Задание 2.</font>\n",
    "Реализовать класс `MontgomeryPoint` с методами `__repr__`, `__eq__`, `__add__`, `__neg__`, `__sub__`, `__rmul__`."
   ]
  },
  {
   "cell_type": "markdown",
   "id": "03dc0bf2-a6ff-4da2-9826-dfe7cbf743b8",
   "metadata": {},
   "source": [
    "### Решение"
   ]
  },
  {
   "cell_type": "code",
   "execution_count": 30,
   "id": "d3b61cf9-1898-45e6-a422-a8739d168a8e",
   "metadata": {},
   "outputs": [],
   "source": [
    "class MontgomeryCurve:\n",
    "    \"\"\"docstring\"\"\"\n",
    "    \n",
    "    def __init__(self, a, b, p):\n",
    "        self.__a = a\n",
    "        self.__b = b\n",
    "        self.__p = p\n",
    "        self.__pts = list(set(self.__get_points() + self.__get_shanks_points()))\n",
    "        \n",
    "    def get_coeffs(self):\n",
    "        return self.__a, self.__b\n",
    "    \n",
    "    def get_mod(self):\n",
    "        return self.__p\n",
    "    \n",
    "    def get_pts(self):\n",
    "        return self.__pts\n",
    "    \n",
    "    def __get_points(self):\n",
    "        X = [(x ** 3 + self.__a * x ** 2 + x) % self.__p for x in range(self.__p)]\n",
    "        Y = [ self.__b * y ** 2 % self.__p for y in range(self.__p)]\n",
    "        points = []\n",
    "        for i in range(len(X)):\n",
    "            for j in range(len(Y)):\n",
    "                if(X[i] == Y[j]):\n",
    "                    points += [[i, j]]\n",
    "        points = [MontgomeryPoint(pt[0], pt[1], self) for pt in points]\n",
    "        return points\n",
    "    \n",
    "    def __get_shanks_points(self):\n",
    "        points = []\n",
    "        for x in range(self.__p):\n",
    "            a = (pow(x, 3, self.__p) + self.__a * x + self.__b) % self.__p\n",
    "            if not Jacobi(a, self.__p) == 1:\n",
    "                continue\n",
    "            y = Shanks(a, self.__p) * pow(self.__b, -1, self.__p)\n",
    "            temp_point1 = MontgomeryPoint(x, y, self)\n",
    "            points += [temp_point1]\n",
    "        return points\n",
    "    \n",
    "    def get_random_point(self):\n",
    "        return self.__pts[random.randint(0, len(self.__pts) - 1)]\n",
    "    \n",
    "    # def get_order(self):\n",
    "    #     return len(self.__pts) + 1\n",
    "    \n",
    "    def __eq__(self, other):\n",
    "        a, b = other.get_coeffs()\n",
    "        return self.__a == a and self.__b == b and self.__p == other.get_mod()\n",
    "    \n",
    "    def __repr__(self):\n",
    "        return '({0}) * y^2 = x^3 + ({1}) * x^2 + x mod {2}'.format(self.__b, self.__a, self.__p)"
   ]
  },
  {
   "cell_type": "code",
   "execution_count": 32,
   "id": "ed736b81-be78-4f34-9f57-1e6477b49ada",
   "metadata": {},
   "outputs": [],
   "source": [
    "class MontgomeryPoint():\n",
    "    \"\"\"docstring\"\"\"    \n",
    "    \n",
    "    def __init__(self, x, y, curve):\n",
    "        self.__x = x\n",
    "        self.__y = y\n",
    "        self.__curve = curve\n",
    "        \n",
    "    def get_x(self):\n",
    "        return self.__x\n",
    "    \n",
    "    def get_y(self):\n",
    "        return self.__y\n",
    "    \n",
    "    def get_curve(self):\n",
    "        return curve\n",
    "    \n",
    "    def __repr__(self):\n",
    "        return '({0}, {1})'.format(self.__x, self.__y)\n",
    "    \n",
    "    def __neg__(self):\n",
    "        return MontgomeryPoint(self.__x, -1 * self.__y, self.__curve)\n",
    "    \n",
    "    def __add__(self, other):\n",
    "        a, b = self.__curve.get_coeffs()\n",
    "        x1 = self.__x\n",
    "        y1 = self.__y\n",
    "        x2 = other.get_x()\n",
    "        y2 = other.get_y()\n",
    "        p = self.__curve.get_mod()\n",
    "        if (x1 == 0 and y1 == 0):\n",
    "            return other\n",
    "        elif(x2 == 0 and y2 == 0):\n",
    "            return self\n",
    "        if (x1 != x2):\n",
    "            k = (y2 - y1) * pow((x2 - x1), -1, p) % p\n",
    "            x3 = pow(k, 2, p) * b % p - x1 - x2 - a\n",
    "            y3 = k * (x1 - x3) % p - y1\n",
    "        elif (x1 == x2 and y1 == y2 and y1 != 0):\n",
    "            k = (3 * pow(x1, 2, p) % p + 2 * a * x1 % p + 1) * pow(2 * b * y1, -1, p)\n",
    "            x3 = pow(k, 2, p) - 2 * x1 % p\n",
    "            y3 = k * (x1 - x3) % p - y1\n",
    "        elif (x1 == x2 and y1 == y2 and y1 == 0):\n",
    "            x3 = 0\n",
    "            y3 = 0\n",
    "        elif (x1 == x2 and y1 != y2):\n",
    "            x3 = 0\n",
    "            y3 = 0\n",
    "        x3 %= self.__curve.get_mod()\n",
    "        y3 %= self.__curve.get_mod()\n",
    "        return MontgomeryPoint(x3, y3, self.__curve)\n",
    "        \n",
    "    def __sub__(self, other):\n",
    "        if isinstance(other, MontgomeryPoint):\n",
    "            return self - other\n",
    "        \n",
    "    def __mul__(self, other):\n",
    "        result = MontgomeryPoint(0, 0, self.__curve)\n",
    "        Q = MontgomeryPoint(self.__x, self.__y, self.__curve)\n",
    "        m = bin(other)[2:]\n",
    "        for i in reversed(range(len(m))):\n",
    "            if (m[i] == '1'):\n",
    "                result = result + Q\n",
    "            Q = Q + Q\n",
    "        return result\n",
    "    \n",
    "    def __rmul__(self, other):\n",
    "        result = MontgomeryPoint(0, 0, self.__curve)\n",
    "        Q = MontgomeryPoint(self.__x, self.__y, self.__curve)\n",
    "        m = bin(other)[2:]\n",
    "        for i in reversed(range(len(m))):\n",
    "            if (m[i] == '1'):\n",
    "                result = result + Q\n",
    "            Q = Q + Q\n",
    "        return result\n",
    "    \n",
    "    def to_weierstrass(self):\n",
    "        a, b = self.__curve.get_coeffs()\n",
    "        x = self.__x\n",
    "        y = self.__y\n",
    "        p = self.__curve.get_mod()\n",
    "        v = y * pow(b, -1, p) % p\n",
    "        t = x * pow(b, -1, p) % p + a * pow(3 * b, -1, p) % p\n",
    "        return My_Point(t, v, self.__curve)\n",
    "    \n",
    "    def __eq__(self, other):\n",
    "        return self.__x % self.__curve.get_mod() == other.get_x() % self.__curve.get_mod() and self.__y % self.__curve.get_mod() == other.get_y() % self.__curve.get_mod()\n",
    "    \n",
    "    def __hash__(self):\n",
    "        return hash((self.__x, self.__y))"
   ]
  },
  {
   "cell_type": "markdown",
   "id": "981cf25d-9d6b-42fc-96ee-a79bfd3ccf41",
   "metadata": {},
   "source": [
    "### Проверяю"
   ]
  },
  {
   "cell_type": "code",
   "execution_count": 33,
   "id": "a798b921-7a4c-461d-9095-5a2a61305a2c",
   "metadata": {},
   "outputs": [],
   "source": [
    "cur1 = MontgomeryCurve(15, 11, 17)"
   ]
  },
  {
   "cell_type": "code",
   "execution_count": 34,
   "id": "9ec519e2-c48e-4212-879c-ed6c0e2f0e54",
   "metadata": {},
   "outputs": [
    {
     "data": {
      "text/plain": [
       "(11) * y^2 = x^3 + (15) * x^2 + x mod 17"
      ]
     },
     "execution_count": 34,
     "metadata": {},
     "output_type": "execute_result"
    }
   ],
   "source": [
    "cur1"
   ]
  },
  {
   "cell_type": "code",
   "execution_count": 35,
   "id": "bab14551-f496-4286-b480-467de6086c49",
   "metadata": {},
   "outputs": [
    {
     "data": {
      "text/plain": [
       "[(3, 7),\n",
       " (3, 10),\n",
       " (5, 7),\n",
       " (5, 10),\n",
       " (1, 0),\n",
       " (12, 98),\n",
       " (6, 14),\n",
       " (12, 9),\n",
       " (14, 12),\n",
       " (3, 140),\n",
       " (11, 7),\n",
       " (11, 10),\n",
       " (7, 3),\n",
       " (9, 168),\n",
       " (4, 56),\n",
       " (12, 8),\n",
       " (14, 5),\n",
       " (2, 98),\n",
       " (0, 0),\n",
       " (10, 1),\n",
       " (10, 16),\n",
       " (6, 3),\n",
       " (7, 14)]"
      ]
     },
     "execution_count": 35,
     "metadata": {},
     "output_type": "execute_result"
    }
   ],
   "source": [
    "cur1.get_pts()"
   ]
  },
  {
   "cell_type": "markdown",
   "id": "eaeacba0-53ff-477d-9940-13e6f37bcb7b",
   "metadata": {
    "slideshow": {
     "slide_type": "skip"
    },
    "tags": []
   },
   "source": [
    "### <font color='red'>Задание 3.</font>\n",
    "Для класса `MontgomeryPoint` реализовать метод, который переводит точку кривой Монтгомери в точку эллиптической кривой в форме Вейерштрасса согласно приведенным выше формулам. Проверить выпорнение равенства:\n",
    "$$\n",
    "  \\varphi(P)+\\varphi(Q)=\\varphi(P+Q).\n",
    "$$ "
   ]
  },
  {
   "cell_type": "markdown",
   "id": "31edbe67-ac48-42e2-ad46-cbd811ae961b",
   "metadata": {},
   "source": [
    "### Решение"
   ]
  },
  {
   "cell_type": "code",
   "execution_count": 90,
   "id": "53084fa8-5592-45a4-8376-5b3b3a3ecbbc",
   "metadata": {},
   "outputs": [
    {
     "name": "stdout",
     "output_type": "stream",
     "text": [
      "(3, 140)\n"
     ]
    }
   ],
   "source": [
    "pt1 = cur1.get_random_point()\n",
    "print(pt1)"
   ]
  },
  {
   "cell_type": "code",
   "execution_count": 91,
   "id": "d69219ce-b67b-4daf-aff5-f04c0f2080ff",
   "metadata": {},
   "outputs": [
    {
     "name": "stdout",
     "output_type": "stream",
     "text": [
      "(10, 5)\n"
     ]
    }
   ],
   "source": [
    "pt2 = pt1.to_weierstrass()\n",
    "print(pt2)"
   ]
  },
  {
   "cell_type": "code",
   "execution_count": 92,
   "id": "11a0a3d4-3700-45db-a0ac-59dcc1acabd0",
   "metadata": {},
   "outputs": [
    {
     "name": "stdout",
     "output_type": "stream",
     "text": [
      "(16, 0)\n",
      "(16, 0)\n"
     ]
    }
   ],
   "source": [
    "pt3 = cur1.get_random_point()\n",
    "pt4 = cur1.get_random_point()\n",
    "print(pt3.to_weierstrass() + pt4.to_weierstrass())\n",
    "print((pt3 + pt4).to_weierstrass())"
   ]
  },
  {
   "cell_type": "code",
   "execution_count": 93,
   "id": "d26939a5-e7c6-4e93-808b-01de76fe7e5c",
   "metadata": {},
   "outputs": [
    {
     "data": {
      "text/plain": [
       "True"
      ]
     },
     "execution_count": 93,
     "metadata": {},
     "output_type": "execute_result"
    }
   ],
   "source": [
    "(pt3.to_weierstrass() + pt4.to_weierstrass()) == (pt3 + pt4).to_weierstrass()"
   ]
  },
  {
   "cell_type": "markdown",
   "id": "1162a470-f27f-4c57-bbb3-e58b19dbd8f3",
   "metadata": {
    "slideshow": {
     "slide_type": "skip"
    }
   },
   "source": [
    "### <font color='red'>Задание 4.</font>\n",
    "Реализовать класс `TwistedEdwardsCurve` с методами `__repr__`, `__eq__`, `InfinityPoint`, `points`, `order`, `randpoint`."
   ]
  },
  {
   "cell_type": "code",
   "execution_count": null,
   "id": "2827e138-c58a-4406-8eef-d97028ac8346",
   "metadata": {},
   "outputs": [],
   "source": [
    "class TwistedEdwardsCurve:\n",
    "    \"\"\"docstring\"\"\"\n",
    "    \n",
    "    def __init__(self, a, b, p):\n",
    "        self.__a = a\n",
    "        self.__b = b\n",
    "        self.__p = p\n",
    "        self.__pts = list(set(self.__get_points() + self.__get_shanks_points()))\n",
    "        \n",
    "    def get_coeffs(self):\n",
    "        return self.__a, self.__b\n",
    "    \n",
    "    def get_mod(self):\n",
    "        return self.__p\n",
    "    \n",
    "    def get_pts(self):\n",
    "        return self.__pts\n",
    "    \n",
    "    def __get_points(self):\n",
    "        X = [(x ** 3 + self.__a * x ** 2 + x) % self.__p for x in range(self.__p)]\n",
    "        Y = [ self.__b * y ** 2 % self.__p for y in range(self.__p)]\n",
    "        points = []\n",
    "        for i in range(len(X)):\n",
    "            for j in range(len(Y)):\n",
    "                if(X[i] == Y[j]):\n",
    "                    points += [[i, j]]\n",
    "        points = [MontgomeryPoint(pt[0], pt[1], self) for pt in points]\n",
    "        return points\n",
    "    \n",
    "    def __get_shanks_points(self):\n",
    "        points = []\n",
    "        for x in range(self.__p):\n",
    "            a = (pow(x, 3, self.__p) + self.__a * x + self.__b) % self.__p\n",
    "            if not Jacobi(a, self.__p) == 1:\n",
    "                continue\n",
    "            y = Shanks(a, self.__p) * pow(self.__b, -1, self.__p)\n",
    "            temp_point1 = MontgomeryPoint(x, y, self)\n",
    "            points += [temp_point1]\n",
    "        return points\n",
    "    \n",
    "    def get_random_point(self):\n",
    "        return self.__pts[random.randint(0, len(self.__pts) - 1)]\n",
    "    \n",
    "    # def get_order(self):\n",
    "    #     return len(self.__pts) + 1\n",
    "    \n",
    "    def __eq__(self, other):\n",
    "        a, b = other.get_coeffs()\n",
    "        return self.__a == a and self.__b == b and self.__p == other.get_mod()\n",
    "    \n",
    "    def __repr__(self):\n",
    "        return '({0}) * x^2 + y^2 = 1 + ({1}) * x^2 * y^2 mod {2}'.format(self.__a, self.__d, self.__p)"
   ]
  },
  {
   "cell_type": "markdown",
   "id": "4baaefb3-de60-4b01-914a-c748d4c706aa",
   "metadata": {
    "slideshow": {
     "slide_type": "skip"
    }
   },
   "source": [
    "### <font color='red'>Задание 5.</font>\n",
    "Реализовать класс `TwistedEdwardsPoint` с методами `__repr__`, `__eq__`, `__add__`, `__neg__`, `__sub__`, `__rmul__`."
   ]
  },
  {
   "cell_type": "code",
   "execution_count": null,
   "id": "dd9b8e0d-2595-4df8-8cef-5ae6218b3db7",
   "metadata": {},
   "outputs": [],
   "source": [
    "class TwistedEdwardsPoint():\n",
    "    \"\"\"docstring\"\"\"    \n",
    "    \n",
    "    def __init__(self, x, y, curve):\n",
    "        self.__x = x\n",
    "        self.__y = y\n",
    "        self.__curve = curve\n",
    "        \n",
    "    def get_x(self):\n",
    "        return self.__x\n",
    "    \n",
    "    def get_y(self):\n",
    "        return self.__y\n",
    "    \n",
    "    def get_curve(self):\n",
    "        return curve\n",
    "    \n",
    "    def __repr__(self):\n",
    "        return '({0}, {1})'.format(self.__x, self.__y)\n",
    "    \n",
    "    def __neg__(self):\n",
    "        return MontgomeryPoint(self.__x, -1 * self.__y, self.__curve)\n",
    "    \n",
    "    def __add__(self, other):\n",
    "        a, b = self.__curve.get_coeffs()\n",
    "        x1 = self.__x\n",
    "        y1 = self.__y\n",
    "        x2 = other.get_x()\n",
    "        y2 = other.get_y()\n",
    "        p = self.__curve.get_mod()\n",
    "        if (x1 == 0 and y1 == 0):\n",
    "            return other\n",
    "        elif(x2 == 0 and y2 == 0):\n",
    "            return self\n",
    "        if (x1 != x2):\n",
    "            k = (y2 - y1) * pow((x2 - x1), -1, p) % p\n",
    "            x3 = pow(k, 2, p) * b % p - x1 - x2 - a\n",
    "            y3 = k * (x1 - x3) % p - y1\n",
    "        elif (x1 == x2 and y1 == y2 and y1 != 0):\n",
    "            k = (3 * pow(x1, 2, p) % p + 2 * a * x1 % p + 1) * pow(2 * b * y1, -1, p)\n",
    "            x3 = pow(k, 2, p) - 2 * x1 % p\n",
    "            y3 = k * (x1 - x3) % p - y1\n",
    "        elif (x1 == x2 and y1 == y2 and y1 == 0):\n",
    "            x3 = 0\n",
    "            y3 = 0\n",
    "        elif (x1 == x2 and y1 != y2):\n",
    "            x3 = 0\n",
    "            y3 = 0\n",
    "        x3 %= self.__curve.get_mod()\n",
    "        y3 %= self.__curve.get_mod()\n",
    "        return MontgomeryPoint(x3, y3, self.__curve)\n",
    "        \n",
    "    def __sub__(self, other):\n",
    "        if isinstance(other, MontgomeryPoint):\n",
    "            return self - other\n",
    "        \n",
    "    def __mul__(self, other):\n",
    "        result = MontgomeryPoint(0, 0, self.__curve)\n",
    "        Q = MontgomeryPoint(self.__x, self.__y, self.__curve)\n",
    "        m = bin(other)[2:]\n",
    "        for i in reversed(range(len(m))):\n",
    "            if (m[i] == '1'):\n",
    "                result = result + Q\n",
    "            Q = Q + Q\n",
    "        return result\n",
    "    \n",
    "    def __rmul__(self, other):\n",
    "        result = MontgomeryPoint(0, 0, self.__curve)\n",
    "        Q = MontgomeryPoint(self.__x, self.__y, self.__curve)\n",
    "        m = bin(other)[2:]\n",
    "        for i in reversed(range(len(m))):\n",
    "            if (m[i] == '1'):\n",
    "                result = result + Q\n",
    "            Q = Q + Q\n",
    "        return result\n",
    "    \n",
    "    def to_weierstrass(self):\n",
    "        a, b = self.__curve.get_coeffs()\n",
    "        x = self.__x\n",
    "        y = self.__y\n",
    "        p = self.__curve.get_mod()\n",
    "        v = y * pow(b, -1, p) % p\n",
    "        t = x * pow(b, -1, p) % p + a * pow(3 * b, -1, p) % p\n",
    "        return My_Point(t, v, self.__curve)\n",
    "    \n",
    "    def __eq__(self, other):\n",
    "        return self.__x % self.__curve.get_mod() == other.get_x() % self.__curve.get_mod() and self.__y % self.__curve.get_mod() == other.get_y() % self.__curve.get_mod()\n",
    "    \n",
    "    def __hash__(self):\n",
    "        return hash((self.__x, self.__y))"
   ]
  }
 ],
 "metadata": {
  "kernelspec": {
   "display_name": "Python 3 (ipykernel)",
   "language": "python",
   "name": "python3"
  },
  "language_info": {
   "codemirror_mode": {
    "name": "ipython",
    "version": 3
   },
   "file_extension": ".py",
   "mimetype": "text/x-python",
   "name": "python",
   "nbconvert_exporter": "python",
   "pygments_lexer": "ipython3",
   "version": "3.11.1"
  }
 },
 "nbformat": 4,
 "nbformat_minor": 5
}
