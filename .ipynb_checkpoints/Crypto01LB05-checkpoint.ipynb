{
 "cells": [
  {
   "cell_type": "markdown",
   "id": "e4b7f733",
   "metadata": {
    "slideshow": {
     "slide_type": "slide"
    }
   },
   "source": [
    "$$\n",
    "Белорусский\\;государственный\\; университет\n",
    "$$\n",
    "$$\n",
    "Механико-математический\\;факультет\n",
    "$$\n",
    "$$\n",
    "Кафедра\\;дифференциальных\\;уравнений\\; и\\; системного\\; анализа\n",
    "$$\n",
    "$ $\n",
    "\n",
    "$$\n",
    " \\Large\\bf Математические\\; основы\\; защиты\\; информации\n",
    "$$\n",
    "\n",
    "# Тема 5. Факторизация чисел. Экспоненциальные методы.\n",
    "\n",
    "$ $\n",
    "\n",
    "доцент Чергинец Дмитрий Николаевич"
   ]
  },
  {
   "cell_type": "markdown",
   "id": "648b99c2",
   "metadata": {
    "slideshow": {
     "slide_type": "slide"
    }
   },
   "source": [
    "## Разложение числа на множители\n",
    "**Основная теорема арифметики.**  \n",
    "Каждое натуральное число $\\;n > 1\\;$ единственным образом представимо в виде\n",
    "$$\n",
    "  n=p_1^{\\alpha_1}*p_2^{\\alpha_2}*\\dots*p_k^{\\alpha_k},\n",
    "$$\n",
    "где $\\;\\alpha_i\\in\\mathbb{N},\\;$ $\\;p_1<p_2<\\dots<p_k\\;$ - простые числа."
   ]
  },
  {
   "cell_type": "code",
   "execution_count": 1,
   "id": "8880e8b4",
   "metadata": {
    "slideshow": {
     "slide_type": "-"
    }
   },
   "outputs": [
    {
     "data": {
      "text/plain": [
       "{3: 3, 23: 1}"
      ]
     },
     "execution_count": 1,
     "metadata": {},
     "output_type": "execute_result"
    }
   ],
   "source": [
    "from sympy.ntheory import factorint\n",
    "factorint(621)"
   ]
  },
  {
   "cell_type": "markdown",
   "id": "14020792",
   "metadata": {
    "slideshow": {
     "slide_type": "subslide"
    }
   },
   "source": [
    "# 1. Метод пробных делений\n",
    "Input: $\\;n$  -- составное.   \n",
    "\n",
    "  \n",
    "Output: factors -- словарь, ключами которого являются простые делители $\\;p_i\\;$ числа $\\;n,\\;$ а значениями ключей `factors[pi]` - степени $\\alpha_i,$\n",
    "$$\n",
    "  n=p_1^{\\alpha_1}*p_2^{\\alpha_2}*\\dots*p_k^{\\alpha_k}.\n",
    "$$"
   ]
  },
  {
   "cell_type": "code",
   "execution_count": 2,
   "id": "c16809c6",
   "metadata": {
    "slideshow": {
     "slide_type": "-"
    }
   },
   "outputs": [
    {
     "data": {
      "text/plain": [
       "{3: 3, 23: 1}"
      ]
     },
     "execution_count": 2,
     "metadata": {},
     "output_type": "execute_result"
    }
   ],
   "source": [
    "def Trial(n):\n",
    "    factors = {}\n",
    "    d = 2\n",
    "    while d < n**(1/2):\n",
    "        if n%d == 0:\n",
    "            n = n//d\n",
    "            factors[d] = 1\n",
    "            while n%d == 0:\n",
    "                n = n//d\n",
    "                factors[d] += 1\n",
    "        d += 1\n",
    "    if n>1:\n",
    "        factors[n] = 1\n",
    "    return factors\n",
    "Trial(621)"
   ]
  },
  {
   "cell_type": "markdown",
   "id": "8dd1ba47",
   "metadata": {
    "slideshow": {
     "slide_type": "subslide"
    }
   },
   "source": [
    "## Сложность алгоритма пробных делений\n",
    "Для количества арифметических операций справедлива оценка\n",
    "$$f(n)\\geq n^{1/2}-1.$$\n",
    "Для числа $\\;n\\;$ и количества его бит $ \\left<n\\right>$ справедливы соотношения\n",
    "$$\n",
    "    \\left<n\\right>=[\\log_2n]+1\\;\\;\\Rightarrow\\;\\; n=O(2^{\\left<n\\right>}).\n",
    "  $$\n",
    "Поэтому\n",
    " $$\n",
    "    T(N):=\\max\\limits_{\\left<n\\right>\\leq N} f(n)\\geq O\\left(2^{\\frac{N}{2}}\\right).\n",
    "  $$ \n",
    "Метод пробных делений - экспоненциальный алгоритм."
   ]
  },
  {
   "cell_type": "markdown",
   "id": "eaaa6882",
   "metadata": {
    "slideshow": {
     "slide_type": "skip"
    }
   },
   "source": [
    "## <font color='red'>Задание 1.</font>\n",
    "Улучшить код функции `Trial`. Для этого можно, например, применить функции `isprime` или `primerange` из `sympy.ntheory`. Сравнить фактическую скорость вычислений полученной Вами функции со скоростью работы функции `Trial`."
   ]
  },
  {
   "cell_type": "markdown",
   "id": "7e7abe0c",
   "metadata": {
    "slideshow": {
     "slide_type": "slide"
    }
   },
   "source": [
    "# 2.  $\\;\\bf\\rho$-метод Полларда\n",
    "**Парадокс дней рождения**  \n",
    "- Вероятность того, что среди 23 человек есть хотя бы 2 человека с одинаковым днем рождения, больше $\\frac12.$ \n",
    "\n",
    "- Вероятность того, что Ваш день рождения совпадает с днем рождения хотя бы одного человека из группы, состоящей из 158 человек, меньше $\\frac12.$ \n",
    "\n",
    "- Вероятность того, что среди 58 человек есть хотя бы 2 человека с одинаковым днем рождения, больше $\\;0.99.$ \n",
    "\n",
    "\n",
    "Парадокс здесь в том, что наше предположение о данной вероятности скорее всего значительно не совпадает с реальной вероятностью, вычисленной при помощи формул теории вероятностей.\n"
   ]
  },
  {
   "cell_type": "markdown",
   "id": "7343ee44",
   "metadata": {
    "slideshow": {
     "slide_type": "subslide"
    }
   },
   "source": [
    "## Идея $\\bf\\rho$-метода Полларда\n",
    "\n",
    "Пусть $\\;p\\;$ -- делитель числа $\\;n,\\;$   нам даны случайные $\\;l+1\\;$ число\n",
    "$$\n",
    "  x_0,x_1,\\dots,x_l\\in\\mathbb{Z}_n.\n",
    "$$\n",
    "\n",
    "С точки зрения парадокса дней рождения с большой вероятностью найдутся такие $\\;i,j,\\;$ $\\;0\\leq j<i\\leq l,\\;$ что\n",
    "$$\n",
    "  x_i\\equiv x_j  \\mod p.\n",
    "$$\n",
    "Тогда \n",
    "$$\n",
    "\\;d:=\\gcd(x_i-x_j,n)\\geq p,\\;\n",
    "$$\n",
    "если к тому же $\\;d<n,\\;$ то нам повезло и мы нашли делитель.\n"
   ]
  },
  {
   "cell_type": "markdown",
   "id": "3bd71e3e",
   "metadata": {
    "slideshow": {
     "slide_type": "subslide"
    }
   },
   "source": [
    "## Алгоритм Черепаха\n",
    " **Алгоритм Черепаха с генератором случайных чисел**  \n",
    "Input:  $\\;n\\in\\mathbb{N}$ -- составное число.\n",
    "  \n",
    "Output: $\\;d\\;$ - нетривиальный делитель числа $n.$\n",
    "  \n",
    "1$.$ Задаем начальные данные: $\\;i:=0,\\;$ выбираем случайное $\\;x_0\\;$ из кольца $\\;\\mathbb{Z}_n.$\n",
    "  \n",
    "2$.$ Присваиваем $\\;i:=i+1\\;$ и выбираем случайное $\\;x_i\\;$ из кольца $\\;\\mathbb{Z}_n.$\n",
    "  \n",
    "3$.$ Для $\\;j=0,1,\\dots, i-1\\;$ выполняем шаги 3.1, 3.2:\n",
    "  \n",
    "  $\\qquad$ 3.1. Вычисляем $\\;d:=\\gcd(x_i-x_j,n).$\n",
    "  \n",
    "  $\\qquad$ 3.2. Если $\\;1<d<n,\\;$ то выдаем результат $\\;d,\\;$ конец алгоритма.\n",
    "  \n",
    "4$.$ Переходим к шагу $2.$\n",
    "  "
   ]
  },
  {
   "cell_type": "code",
   "execution_count": 6,
   "id": "6cd0ded0",
   "metadata": {
    "slideshow": {
     "slide_type": "subslide"
    }
   },
   "outputs": [
    {
     "data": {
      "text/plain": [
       "11"
      ]
     },
     "execution_count": 6,
     "metadata": {},
     "output_type": "execute_result"
    }
   ],
   "source": [
    "from random import randrange\n",
    "from math import gcd\n",
    "def TortoiseRand(n):\n",
    "    i = 0\n",
    "    x = [randrange(n)]\n",
    "    while 1:\n",
    "        i += 1\n",
    "        x.append(randrange(n))\n",
    "        for j in range(i):\n",
    "            d = gcd(x[i]-x[j], n)\n",
    "            if 1 < d < n:\n",
    "                return d\n",
    "\n",
    "TortoiseRand(11*13)        "
   ]
  },
  {
   "cell_type": "markdown",
   "id": "faf5b71b",
   "metadata": {
    "slideshow": {
     "slide_type": "subslide"
    }
   },
   "source": [
    "### Сравнение времени работы алгоритма Черепаха с Методом пробных делений"
   ]
  },
  {
   "cell_type": "code",
   "execution_count": 10,
   "id": "f1771f6f",
   "metadata": {
    "slideshow": {
     "slide_type": "-"
    }
   },
   "outputs": [
    {
     "name": "stdout",
     "output_type": "stream",
     "text": [
      "Trial:--- 3.5332019329071045 seconds ---\n",
      "TortoiseRand:--- 1.3500771522521973 seconds ---\n"
     ]
    }
   ],
   "source": [
    "b = 16\n",
    "\n",
    "start_time = time.time()\n",
    "for _ in range(100):\n",
    "    p1 = randprime(1<<b-1, 1<<b)\n",
    "    p2 = randprime(1<<b-1, 1<<b)\n",
    "    n = p1*p2\n",
    "    Trial(n)    \n",
    "print(\"Trial:--- %s seconds ---\" % (time.time() - start_time))\n",
    "\n",
    "start_time = time.time()\n",
    "for _ in range(100):\n",
    "    p1 = randprime(1<<b-1, 1<<b)\n",
    "    p2 = randprime(1<<b-1, 1<<b)\n",
    "    n = p1*p2\n",
    "    TortoiseRand(n)    \n",
    "print(\"TortoiseRand:--- %s seconds ---\" % (time.time() - start_time))"
   ]
  },
  {
   "cell_type": "markdown",
   "id": "04ae4209",
   "metadata": {
    "slideshow": {
     "slide_type": "subslide"
    }
   },
   "source": [
    "## Анализ алгоритма Черепаха\n",
    "Данный алгоритм можно представить себе как игровое поле, составленное из упорядоченных клеток \n",
    "$$\n",
    "x_0,\\; x_1,\\; x_2,\\; x_3,\\; x_4,\\; x_5,\\;\\dots.\n",
    "$$ \n",
    "\n",
    "Клетки $\\;x_i\\;$ и $\\;x_j\\;$  называются \"Одинаковыми\", если\n",
    "\t $$\\gcd(x_i-x_j,n)>1.$$\n",
    "По данным клеткам начиная с $\\;x_0\\;$ по порядку двигается Черепаха. Задача Черепахи найти одинаковые фишки, для которых к тому же \n",
    "$$\\;\\gcd(x_i-x_j,n)<n.\\;\n",
    "$$\n",
    "\n",
    " Данный алгоритм является вероятностным, но всегда выдает правильный ответ.\n",
    " \n",
    " \n",
    " В алгоритме Черепаха третий шаг является очень трудоемким, так как на нем $\\;i\\;$ раз вычисляется НОД.     Попробуем уменьшить количество этих операций"
   ]
  },
  {
   "cell_type": "markdown",
   "id": "7873c827",
   "metadata": {
    "slideshow": {
     "slide_type": "subslide"
    }
   },
   "source": [
    "## Генерация случайной последовательности\n",
    "Вместо генерации последовательности функцией `randrange` будем генерировать последовательность специальным образом:\n",
    "\n",
    "1. $x_0$ выбираем случайным. \n",
    "\n",
    "2. Остальные $\\;x_i\\;$ вычисляем при помощи рекуррентной формулы\n",
    " $$\n",
    "   x_i:=f(x_{i-1}),\n",
    " $$\n",
    "где  \n",
    "$$\n",
    "   f:\\mathbb{Z}_n\\rightarrow\\mathbb{Z}_n.\n",
    " $$\n",
    "\n",
    "Как правило в качестве функции $\\;f\\;$ берут многочлен второй степени\n",
    " $$\n",
    "   f(x):=x^2+1\\mod n\\qquad\\text{или}\\qquad f(x):=x^2+a\\mod n.\n",
    " $$\n",
    "\n",
    "Пара $\\;(f,x_0)\\;$ однозначно задает последовательность \n",
    "$$\n",
    "x_0,\\; x_1,\\; x_2,\\; x_3,\\; x_4,\\; x_5,\\;\\dots.\n",
    "$$ "
   ]
  },
  {
   "cell_type": "markdown",
   "id": "cabdc3ec",
   "metadata": {
    "slideshow": {
     "slide_type": "subslide"
    }
   },
   "source": [
    "### Алгоритм Черепаха с генерацией последовательности при помощи многочлена"
   ]
  },
  {
   "cell_type": "code",
   "execution_count": 11,
   "id": "adbf9b40",
   "metadata": {
    "slideshow": {
     "slide_type": "-"
    }
   },
   "outputs": [
    {
     "data": {
      "text/plain": [
       "13"
      ]
     },
     "execution_count": 11,
     "metadata": {},
     "output_type": "execute_result"
    }
   ],
   "source": [
    "def Tortoise_fSeq(n, a, x0):\n",
    "    f = lambda x: (x*x + a) % n\n",
    "    i = 0\n",
    "    x = [x0]\n",
    "    while 1:\n",
    "        i += 1\n",
    "        x.append(f(x[i-1]))\n",
    "        for j in range(i):\n",
    "            d = gcd(x[i]-x[j], n)\n",
    "            if 1 < d:\n",
    "                if d < n:\n",
    "                    return d\n",
    "                else:\n",
    "                    return 'Unsuccessful Sequence'\n",
    "Tortoise_fSeq(11*13, 1, 1)  "
   ]
  },
  {
   "cell_type": "code",
   "execution_count": 13,
   "id": "2c6f4dee",
   "metadata": {
    "slideshow": {
     "slide_type": "subslide"
    }
   },
   "outputs": [
    {
     "name": "stdout",
     "output_type": "stream",
     "text": [
      "Tortoise_fSeq:--- 1.2350707054138184 seconds ---\n",
      "TortoiseRand:--- 1.7300989627838135 seconds ---\n"
     ]
    }
   ],
   "source": [
    "b = 16\n",
    "\n",
    "start_time = time.time()\n",
    "for _ in range(100):\n",
    "    p1 = randprime(1<<b-1, 1<<b)\n",
    "    p2 = randprime(1<<b-1, 1<<b)\n",
    "    n = p1*p2\n",
    "    Tortoise_fSeq(n, 1, 1)    \n",
    "print(\"Tortoise_fSeq:--- %s seconds ---\" % (time.time() - start_time))\n",
    "\n",
    "start_time = time.time()\n",
    "for _ in range(100):\n",
    "    p1 = randprime(1<<b-1, 1<<b)\n",
    "    p2 = randprime(1<<b-1, 1<<b)\n",
    "    n = p1*p2\n",
    "    TortoiseRand(n)    \n",
    "print(\"TortoiseRand:--- %s seconds ---\" % (time.time() - start_time))"
   ]
  },
  {
   "cell_type": "markdown",
   "id": "834da2a9",
   "metadata": {
    "slideshow": {
     "slide_type": "subslide"
    }
   },
   "source": [
    "## Определение длины хвоста $\\;\\mu\\;$ и периода $\\;\\lambda$\n",
    "Пусть $\\;\\mu,\\lambda,\\;$ $\\;\\lambda>0,\\;$ это наименьшие числа среди тех, для которых справедливо сравнение\n",
    " $$\n",
    "   x_\\mu\\equiv x_{\\mu+\\lambda}\\mod p\\qquad \\Leftrightarrow\\qquad\\text{НОД}(x_\\mu-x_{\\mu+\\lambda},n)>1.\n",
    " $$\n",
    "\n",
    "\n",
    "![blockchain](images/rho.png)\n",
    "\n"
   ]
  },
  {
   "cell_type": "markdown",
   "id": "feee5070",
   "metadata": {
    "slideshow": {
     "slide_type": "subslide"
    }
   },
   "source": [
    "## Цикличность\n",
    "\n",
    "$$\n",
    "   x_\\mu\\equiv x_{\\mu+\\lambda}\\mod p\\quad\\Rightarrow \\quad f(x_{\\mu})\\equiv f(x_{\\mu+\\lambda})\\mod p.\n",
    " $$\n",
    " \n",
    " \n",
    " Тогда для всех $\\;m\\in\\mathbb{N},\\;$ подействовав на обе части сравнения $\\;m\\;$ раз функцией $\\;f,\\;$ получаем сравнение\n",
    " \n",
    " $$\n",
    "f^m(x_{\\mu})\\equiv f^m(x_{\\mu+\\lambda})\\mod p\\quad\\Rightarrow \\quad   x_{\\mu+m}\\equiv x_{\\mu+\\lambda+m}\\mod p.\n",
    " $$\n",
    "\n",
    "\n",
    "![blockchain](images/rho.png)\n",
    "\n",
    "\n",
    " \n"
   ]
  },
  {
   "cell_type": "markdown",
   "id": "f61c124e",
   "metadata": {
    "slideshow": {
     "slide_type": "subslide"
    }
   },
   "source": [
    "## Алгоритм Черепаха и Заяц\n",
    "Input:  $\\;n\\in\\mathbb{N}$ -- составное число.  \n",
    "  $\\qquad a,x_0\\in\\mathbb{Z}_n\\;$ задают последовательность: $\\;x_i=f(x_{i-1}),\\;$\n",
    "$\\;f(x):=x^2+a\\mod n.$   \n",
    "Output: $\\;d\\;$ - нетривиальный делитель числа $\\;n.$\n",
    "\n",
    " \n",
    "1. Задаем начальные позиции Черепахи и Зайца  \n",
    "     $\\qquad Tortoise:=x_0,\\qquad Hare:=x_0.$\n",
    "  \n",
    "2. Черепаха \"переползает\" на следующий элемент, а Заяц \"прыгает\" через элемент  \n",
    "     $\\qquad Tortoise:=f(Tortoise),\\quad Hare:=f(f(Hare)).$\n",
    "3. Вычисляем $\\;d:=\\gcd(Tortoise-Hare,n).$\n",
    "  \n",
    "4. Если $\\;1<d<n,\\;$ то выдаем результат $\\;d,\\;$ конец алгоритма.\n",
    "\n",
    "5. Если $\\;d=n,\\;$  то нет решения,  конец алгоритма.\n",
    "  \n",
    "6.  Переходим к шагу $2.$  \n"
   ]
  },
  {
   "cell_type": "code",
   "execution_count": 14,
   "id": "e47c265e",
   "metadata": {
    "slideshow": {
     "slide_type": "subslide"
    }
   },
   "outputs": [
    {
     "name": "stdout",
     "output_type": "stream",
     "text": [
      "Unsuccessful Sequence\n",
      "13\n"
     ]
    }
   ],
   "source": [
    "def TortoiseHare(n, a, x0):\n",
    "    f = lambda x: (x*x + a) % n\n",
    "    Tortoise = x0\n",
    "    Hare = x0\n",
    "    while 1:\n",
    "        Tortoise = f(Tortoise)\n",
    "        Hare = f(f(Hare))\n",
    "        d = gcd(Hare - Tortoise, n)\n",
    "        if 1 < d:\n",
    "            if d < n:\n",
    "                return d\n",
    "            else:\n",
    "                return 'Unsuccessful Sequence'\n",
    "print(TortoiseHare(11*13, 1, 1))\n",
    "print(TortoiseHare(11*13, 2, 1))"
   ]
  },
  {
   "cell_type": "markdown",
   "id": "6c38a781",
   "metadata": {
    "slideshow": {
     "slide_type": "subslide"
    }
   },
   "source": [
    "### Сравнение алгоритма Черепаха с алгоритмом Черепаха и Заяц "
   ]
  },
  {
   "cell_type": "code",
   "execution_count": 15,
   "id": "9bf5b8b2",
   "metadata": {
    "slideshow": {
     "slide_type": "-"
    }
   },
   "outputs": [
    {
     "name": "stdout",
     "output_type": "stream",
     "text": [
      "Tortoise_fSeq: --- 0.9770560264587402 seconds ---\n",
      "TortoiseHare: --- 0.03800225257873535 seconds ---\n"
     ]
    }
   ],
   "source": [
    "b = 16\n",
    "\n",
    "start_time = time.time()\n",
    "for _ in range(100):\n",
    "    p1 = randprime(1<<b-1, 1<<b)\n",
    "    p2 = randprime(1<<b-1, 1<<b)\n",
    "    n = p1*p2\n",
    "    Tortoise_fSeq(n, 1, 1)    \n",
    "print(\"Tortoise_fSeq: --- %s seconds ---\" % (time.time() - start_time))\n",
    "\n",
    "start_time = time.time()\n",
    "for _ in range(100):\n",
    "    p1 = randprime(1<<b-1, 1<<b)\n",
    "    p2 = randprime(1<<b-1, 1<<b)\n",
    "    n = p1*p2\n",
    "    TortoiseHare(n, 1, 1)    \n",
    "print(\"TortoiseHare: --- %s seconds ---\" % (time.time() - start_time))"
   ]
  },
  {
   "cell_type": "markdown",
   "id": "d9e8d08d",
   "metadata": {
    "slideshow": {
     "slide_type": "subslide"
    }
   },
   "source": [
    "## Количество вычислений НОД в алгоритме Черепаха\n",
    "Во время $\\;i$-ой итерации цикла `while` алгоритм вычисляет $\\;i\\;$ наибольших общих делителя. Согласно нашим обозначениям:\n",
    "\n",
    "$\\;\\mu,\\lambda,\\;$ $\\;\\lambda>0,\\;$ это наименьшие числа среди тех, для которых справедливо сравнение\n",
    " $$\n",
    "   x_\\mu\\equiv x_{\\mu+\\lambda}\\mod p\\qquad \\Leftrightarrow\\qquad\\text{НОД}(x_\\mu-x_{\\mu+\\lambda},n)>1.\n",
    " $$\n",
    "Поэтому на итерации $\\;i = \\mu+\\lambda\\;$ алгоритм закончит работу.\n",
    "\n",
    "Количество НОД в алгоритме Черепаха:\n",
    "  $$\n",
    "    1+2+3+\\dots+(\\mu+\\lambda-1)+(\\mu+1)=\n",
    "  $$\n",
    "  $$\n",
    "    =\\frac12(\\mu+\\lambda-1)(\\mu+\\lambda)+(\\mu+1)\\leq \\frac12(\\mu+\\lambda+1)(\\mu+\\lambda).\n",
    "  $$  "
   ]
  },
  {
   "cell_type": "markdown",
   "id": "88606fd4",
   "metadata": {
    "slideshow": {
     "slide_type": "subslide"
    }
   },
   "source": [
    "## Количество вычислений НОД в алгоритме Черепаха и Заяц\n",
    "Количество вычислений НОД в алгоритме Черепаха и Заяц будет совпадать с индексом $\\;i\\;$ конечной позиции Черепахи $\\;x_i.\\;$  \n",
    "\n",
    "Для нахождения конечной позиции Черепахи необходимо найти минимальное $\\;i\\in\\mathbb{N},\\;$ удовлетворяющее условиям\n",
    " $$\n",
    "   \\left\\{\\begin{array}{l}i\\geq\\mu,\\\\\n",
    " i\\equiv0\\mod\\lambda,\\\\\n",
    " i\\rightarrow \\min.\n",
    " \\end{array}\\right.\\qquad\\Rightarrow\\qquad i=\\lambda\\lceil\\frac{\\mu}{\\lambda}\\rceil.\n",
    " $$\n",
    " \n",
    " Для $\\;i\\; $ српведлива оценка\n",
    " $$\n",
    " \\mu\\leq\\lambda\\lceil\\frac{\\mu}{\\lambda}\\rceil<\\mu+\\lambda.\n",
    " $$"
   ]
  },
  {
   "cell_type": "markdown",
   "id": "33c998d6",
   "metadata": {
    "slideshow": {
     "slide_type": "skip"
    }
   },
   "source": [
    "## <font color='red'>Задание 2.</font>\n",
    "В алгоритме Черепаха и Заяц последовательность $\\;x_i\\;$ не хранится, из-за этого приходится вычислять позицию Черепахи при помощи функции $\\;f\\;.$ Реализовать алгоритм Черепаха и Заяц с хранением последовательности $\\;x_i.\\;$ Сравнить скорость полученной функции с функцией `TortoiseHare`. В какой из функций выполняется больше арифметических операций? "
   ]
  },
  {
   "cell_type": "markdown",
   "id": "2437d583",
   "metadata": {
    "slideshow": {
     "slide_type": "slide"
    }
   },
   "source": [
    "## Черепаха и Ахиллес \n",
    "Рассмотрим еще один вариант $\\rho$-метода Полларда. Черепаха как обычно будет ползти по всем элементам $\\;x_i\\;$ последовательности, а\n",
    "вместо зайца по элементам  \n",
    "$$\n",
    "  \\bf x_{2^0},x_{2^1},\\dots,x_{2^k},\\dots\n",
    "$$\n",
    "будет двигаться Ахиллес\n",
    "$$\n",
    "   {\\bf x_{2^0}}, \\;{\\bf x_{2^1}},x_3,\\;{\\bf x_{2^2}},x_5,x_6,x_7,\\;{\\bf x_{2^3}},\\; x_9, x_{10}, x_{11},x_{12}, x_{13}, x_{14}, x_{15},\\; {\\bf x_{2^4}},\\;x_{17},\\dots\n",
    "$$\n",
    "\n",
    "\n",
    "\n",
    "\n",
    "Причем, как утверждал Зенон Элейский, Ахиллес никогда не догонит черепаху.\n"
   ]
  },
  {
   "cell_type": "markdown",
   "id": "cc4118b1",
   "metadata": {
    "slideshow": {
     "slide_type": "subslide"
    }
   },
   "source": [
    "## Алгоритм Черепаха и Ахиллес\n",
    "Input:  $\\;n\\in\\mathbb{N}$ -- составное число.  \n",
    "  $\\qquad a,x_1\\in\\mathbb{Z}_n\\;$ задают последовательность: $\\;x_i=f(x_{i-1}),\\;$\n",
    "$\\;f(x):=x^2+a\\mod n.$   \n",
    "Output: $\\;d\\;$ - нетривиальный делитель числа $\\;n.$\n",
    "\n",
    " \n",
    "1$.$ Задаем начальные позиции Черепахи и Ахиллеса  \n",
    "     $\\qquad Tortoise:=x_1,\\qquad Achilles:=x_1, \\qquad k=0.$\n",
    "  \n",
    "2$.$ Для $\\;i=1,2,3,\\dots,2^{k}\\;$ выполняем шаги 2.1-2.4:\n",
    "    \n",
    "    \n",
    "$\\qquad$ 2.1.  Передвигаем Черепаху  $\\;Tortoise:=f(Tortoise).$\n",
    "\n",
    "$\\qquad$ 2.2.   Вычисляем  $\\;d:=\\gcd(Tortoise-Achilles,n).$\n",
    "    \n",
    "$\\qquad$ 2.3.  Если $\\;1<d<n,\\;$ то выдаем результат $\\;d,\\;$ конец алгоритма.\n",
    "\n",
    "$\\qquad$ 2.4. Если $\\;d=n,\\;$  то нет решения,  конец алгоритма.\n",
    "    \n",
    "\n",
    "3$.$  Передвигаем Ахиллеса с $\\;x_{2^{k}}\\;$ на элемент $\\;x_{2^{k+1}}\\;$\n",
    "    $$\n",
    "      Achilles:=Tortoise,\\qquad k:=k+1,\n",
    "    $$\n",
    "$\\;\\;$ переходим на шаг $2.$      \n",
    "\n"
   ]
  },
  {
   "cell_type": "markdown",
   "id": "469bee9a",
   "metadata": {
    "slideshow": {
     "slide_type": "subslide"
    }
   },
   "source": [
    "## Количество  НОД в алгоритме Черепаха и Ахиллес\n",
    "Посчитаем сколько раз данный алгоритм вычисляет НОД. Наибольший общий делитель будет больше единицы когда Ахиллес будет находиться на элементе $\\;x_{2^{k}},\\;$ а Черепаха на $\\;x_{2^{k}+\\lambda}\\;,$ где $\\;k\\;$ -- наименьшее целое, удовлетворяющее неравенствам\n",
    "  $$\n",
    "\\left\\{\\begin{array}{l}\n",
    "\\mu\\leq 2^{k},\\\\\n",
    "\\lambda\\leq 2^{k},\\\\\n",
    "k\\rightarrow\\min.\n",
    "\\end{array}      \n",
    "\\right.\n",
    "\\qquad\\Rightarrow\\qquad\\left\\{\\begin{array}{l}\n",
    "\\log_2\\mu\\leq k,\\\\\n",
    "\\log_2\\lambda\\leq k,\\\\\n",
    "k\\rightarrow\\min.\n",
    "\\end{array}      \n",
    "\\right.\\qquad\\Rightarrow\\qquad\n",
    "k:=\\max\\{\\lceil\\log_2\\mu\\rceil,\\lceil\\log_2\\lambda\\rceil\\},\n",
    "$$\n",
    "\n",
    "Алгоритм Черепаха и Ахиллес вычисляет\n",
    "НОД следующее количество раз\n",
    "$$\n",
    "2^{k}+\\lambda-1=\\lambda-1+2^{\\max\\{\\lceil\\log_2\\mu\\rceil,\\lceil\\log_2\\lambda\\rceil\\}}.\n",
    "$$\n",
    "\n",
    "\n",
    "Справедлива следующая оценка\n",
    "$$    \n",
    "  \\lambda+\\max\\{\\mu,\\lambda\\}\\leq\\lambda+2^{\\max\\{\\lceil\\log_2\\mu\\rceil,\\lceil\\log_2\\lambda\\rceil\\}}.\n",
    "  $$ \n",
    "  Очевидно, что\n",
    "  $$\n",
    "    \\lambda\\lceil\\frac{\\mu}{\\lambda}\\rceil<\\mu+\\lambda\\leq \\lambda+\\max\\{\\mu,\\lambda\\}\\leq\n",
    "    \\lambda+2^{\\max\\{\\lceil\\log_2\\mu\\rceil,\\lceil\\log_2\\lambda\\rceil\\}}.\n",
    "    $$\n",
    "   Поэтому количество вычислений НОД в алгоритме Черепаха и Заяц не превосходит количества вычислений НОД в алгоритме Ахиллес и Черепаха. "
   ]
  },
  {
   "cell_type": "markdown",
   "id": "6f7bc3f5",
   "metadata": {
    "slideshow": {
     "slide_type": "subslide"
    }
   },
   "source": [
    "## Сравнение алгоритмов по количеству вычилений $f$\n",
    "В алгоритме Черепаха и Заяц функция $\\;f\\;$ вычисляется $\\;3i\\;$ раз\n",
    "$$3\\mu\\leq 3i=3 \\lambda\\lceil\\frac{\\mu}{\\lambda}\\rceil$$\n",
    "В алгоритме Ахиллес и Черепаха \n",
    "   $$\\lambda+2^{\\max\\{\\lceil\\log_2\\mu\\rceil,\\lceil\\log_2\\lambda\\rceil\\}}<\\lambda+\\max\\{2\\mu,2\\lambda\\}.$$\n",
    "\n",
    "Поэтому количество вычислений функции $\\;f\\;$ в алгоритме Ахиллес и Черепаха  не превосходит количества вычислений $\\;f\\;$ в алгоритме Черепаха и Заяц.\n",
    "\n",
    "Тем не менее, при вычислении функции $\\;f\\;$ выполняется 3 арифметических операции, а при вычислении НОД: $\\;O(\\log n).$   "
   ]
  },
  {
   "cell_type": "markdown",
   "id": "19c7c1d6",
   "metadata": {
    "slideshow": {
     "slide_type": "subslide"
    }
   },
   "source": [
    "## Парадокс дней рождения\n",
    "**Теорема.**\n",
    "\n",
    "Пусть $X$ -- множество из $\\;p\\;$ элементов.\n",
    "    \n",
    "$\\beta\\in\\mathbb{R}\\;$ удовлетворяет неравенствам\n",
    "     \n",
    "$$\\beta>0,\\qquad{l:=1+[\\sqrt{2\\beta p}]<p.}\n",
    "      $$\n",
    "\n",
    "Тогда вероятность того, что среди $\\;l+1\\;$ случайным образом взятого элемента\n",
    "$$\n",
    "      x_0,x_1,\\dots,x_{l}\\in X\n",
    "$$\n",
    "любые два попарно различны, равна\n",
    "$$\n",
    "      (1-1/p)(1-2/p)\\dots(1-l/p).\n",
    "$$\n",
    "Причем справедливо неравенство\n",
    "$$\n",
    "      (1-1/p)(1-2/p)\\dots(1-l/p)<e^{-\\beta}.\n",
    "$$\n"
   ]
  },
  {
   "cell_type": "markdown",
   "id": "e7d335c4",
   "metadata": {
    "slideshow": {
     "slide_type": "subslide"
    }
   },
   "source": [
    "## Вычислительная сложность $\\bf\\rho$-метода Полларда\n",
    "Пусть $\\;p\\;$ - наименьший нетривиальный делитель числа $\\;n.$\n",
    "\n",
    "Найдем $\\;l\\in\\mathbb{N},\\;$ при котором среди элементов \n",
    "    $$\n",
    "      x_0,x_1,\\dots,x_{l}\\in\\mathbb{Z}_p \n",
    "    $$\n",
    "с вероятностью, не меньшей $\\;1/2,\\;$ есть два одинаковых элемента\n",
    "$$\n",
    "  x_\\mu\\equiv x_{\\mu+\\lambda}\\mod p.\n",
    "$$\n",
    "\n",
    "Согласно предыдущей теореме\n",
    "$$  \n",
    " e^{-\\beta}=1/2\\qquad\\Rightarrow\\qquad \\beta=\\ln 2\\qquad\\Rightarrow\\qquad\n",
    "  l=1+[\\sqrt{2p\\ln 2}]=O(p^{1/2}).\n",
    "$$  \n",
    "\n",
    "На вычисление одного НОД уходит $\\;O(\\ln n)\\;$ арифметических операций, поэтому \n",
    "$O(p^{1/2}\\ln n)$ - среднее количество арифметических операций $\\rho$-алгоритма Полларда.\n"
   ]
  },
  {
   "cell_type": "markdown",
   "id": "4cfae22b",
   "metadata": {
    "slideshow": {
     "slide_type": "skip"
    }
   },
   "source": [
    "## <font color='red'>Задание 3.</font>\n",
    "Реализовать алгоритм Черепаха и Ахиллес. Сравнить скорость полученной функции с функцией `TortoiseHare`. В какой из функций выполняется больше арифметических операций? "
   ]
  },
  {
   "cell_type": "markdown",
   "id": "fc6ddebb",
   "metadata": {
    "slideshow": {
     "slide_type": "skip"
    }
   },
   "source": [
    "## <font color='red'>Задание 4.</font>\n",
    "Пусть \n",
    "$$\n",
    "  f(x)=x^2+1,\\qquad x_0=1.\n",
    "$$\n",
    "Для чисел $\\;n_1\\;$  и  $\\;n_2\\;$  выяснить, существуют ли такие $\\;i\\;$ и $\\;j,\\;$ что  \n",
    "$$\n",
    "1<gcd(x_i-x_j,n)<n.\n",
    "$$"
   ]
  },
  {
   "cell_type": "code",
   "execution_count": 14,
   "id": "5f69f6ca",
   "metadata": {
    "slideshow": {
     "slide_type": "skip"
    }
   },
   "outputs": [
    {
     "name": "stdout",
     "output_type": "stream",
     "text": [
      "Unsuccessful Sequence\n",
      "Unsuccessful Sequence\n"
     ]
    }
   ],
   "source": [
    "n1 = 41053\n",
    "print(TortoiseHare(n1, 1, 1))\n",
    "n2 = 52357\n",
    "print(TortoiseHare(n2, 1, 1))"
   ]
  },
  {
   "cell_type": "markdown",
   "id": "98f2e82f",
   "metadata": {
    "slideshow": {
     "slide_type": "skip"
    }
   },
   "source": [
    "Функция `pollard_rho(n, s=2, a=1, retries=5, seed=1234, max_steps=None, F=None)` из модуля `sympy.ntheory.residue_ntheory` имеет следующий вид"
   ]
  },
  {
   "cell_type": "code",
   "execution_count": 16,
   "id": "9e7d1bbf",
   "metadata": {
    "slideshow": {
     "slide_type": "skip"
    }
   },
   "outputs": [
    {
     "data": {
      "text/plain": [
       "11"
      ]
     },
     "execution_count": 16,
     "metadata": {},
     "output_type": "execute_result"
    }
   ],
   "source": [
    "import random\n",
    "from sympy.core.numbers import igcd\n",
    "\n",
    "def pollard_rho(n, s=2, a=1, retries=5, seed=1234, max_steps=None, F=None):\n",
    "    r\"\"\"\n",
    "    Use Pollard's rho method to try to extract a nontrivial factor\n",
    "    of ``n``. The returned factor may be a composite number. If no\n",
    "    factor is found, ``None`` is returned.\n",
    "\n",
    "    The algorithm generates pseudo-random values of x with a generator\n",
    "    function, replacing x with F(x). If F is not supplied then the\n",
    "    function x**2 + ``a`` is used. The first value supplied to F(x) is ``s``.\n",
    "    Upon failure (if ``retries`` is > 0) a new ``a`` and ``s`` will be\n",
    "    supplied; the ``a`` will be ignored if F was supplied.\n",
    "\n",
    "    The sequence of numbers generated by such functions generally have a\n",
    "    a lead-up to some number and then loop around back to that number and\n",
    "    begin to repeat the sequence, e.g. 1, 2, 3, 4, 5, 3, 4, 5 -- this leader\n",
    "    and loop look a bit like the Greek letter rho, and thus the name, 'rho'.\n",
    "\n",
    "    For a given function, very different leader-loop values can be obtained\n",
    "    so it is a good idea to allow for retries:\n",
    "\n",
    "    >>> from sympy.ntheory.generate import cycle_length\n",
    "    >>> n = 16843009\n",
    "    >>> F = lambda x:(2048*pow(x, 2, n) + 32767) % n\n",
    "    >>> for s in range(5):\n",
    "    ...     print('loop length = %4i; leader length = %3i' % next(cycle_length(F, s)))\n",
    "    ...\n",
    "    loop length = 2489; leader length =  42\n",
    "    loop length =   78; leader length = 120\n",
    "    loop length = 1482; leader length =  99\n",
    "    loop length = 1482; leader length = 285\n",
    "    loop length = 1482; leader length = 100\n",
    "\n",
    "    Here is an explicit example where there is a two element leadup to\n",
    "    a sequence of 3 numbers (11, 14, 4) that then repeat:\n",
    "\n",
    "    >>> x=2\n",
    "    >>> for i in range(9):\n",
    "    ...     x=(x**2+12)%17\n",
    "    ...     print(x)\n",
    "    ...\n",
    "    16\n",
    "    13\n",
    "    11\n",
    "    14\n",
    "    4\n",
    "    11\n",
    "    14\n",
    "    4\n",
    "    11\n",
    "    >>> next(cycle_length(lambda x: (x**2+12)%17, 2))\n",
    "    (3, 2)\n",
    "    >>> list(cycle_length(lambda x: (x**2+12)%17, 2, values=True))\n",
    "    [16, 13, 11, 14, 4]\n",
    "\n",
    "    Instead of checking the differences of all generated values for a gcd\n",
    "    with n, only the kth and 2*kth numbers are checked, e.g. 1st and 2nd,\n",
    "    2nd and 4th, 3rd and 6th until it has been detected that the loop has been\n",
    "    traversed. Loops may be many thousands of steps long before rho finds a\n",
    "    factor or reports failure. If ``max_steps`` is specified, the iteration\n",
    "    is cancelled with a failure after the specified number of steps.\n",
    "\n",
    "    Examples\n",
    "    ========\n",
    "\n",
    "    >>> from sympy import pollard_rho\n",
    "    >>> n=16843009\n",
    "    >>> F=lambda x:(2048*pow(x,2,n) + 32767) % n\n",
    "    >>> pollard_rho(n, F=F)\n",
    "    257\n",
    "\n",
    "    Use the default setting with a bad value of ``a`` and no retries:\n",
    "\n",
    "    >>> pollard_rho(n, a=n-2, retries=0)\n",
    "\n",
    "    If retries is > 0 then perhaps the problem will correct itself when\n",
    "    new values are generated for a:\n",
    "\n",
    "    >>> pollard_rho(n, a=n-2, retries=1)\n",
    "    257\n",
    "\n",
    "    References\n",
    "    ==========\n",
    "\n",
    "    .. [1] Richard Crandall & Carl Pomerance (2005), \"Prime Numbers:\n",
    "           A Computational Perspective\", Springer, 2nd edition, 229-231\n",
    "\n",
    "    \"\"\"\n",
    "    n = int(n)\n",
    "    if n < 5:\n",
    "        raise ValueError('pollard_rho should receive n > 4')\n",
    "    prng = random.Random(seed + retries)\n",
    "    V = s\n",
    "    for i in range(retries + 1):\n",
    "        U = V\n",
    "        if not F:\n",
    "            F = lambda x: (pow(x, 2, n) + a) % n\n",
    "        j = 0\n",
    "        while 1:\n",
    "            if max_steps and (j > max_steps):\n",
    "                break\n",
    "            j += 1\n",
    "            U = F(U)\n",
    "            V = F(F(V))  # V is 2x further along than U\n",
    "            g = igcd(U - V, n)\n",
    "            if g == 1:\n",
    "                continue\n",
    "            if g == n:\n",
    "                break\n",
    "            return int(g)\n",
    "        V = prng.randint(0, n - 1)\n",
    "        a = prng.randint(1, n - 3)  # for x**2 + a, a%n should not be 0 or -2\n",
    "        F = None\n",
    "    return None\n",
    "\n",
    " \n",
    "pollard_rho(121)"
   ]
  },
  {
   "cell_type": "markdown",
   "id": "081f04ae",
   "metadata": {
    "slideshow": {
     "slide_type": "skip"
    }
   },
   "source": [
    "## <font color='red'>Задание 5.</font>\n",
    "Изучить функцию `pollard_rho(n, s=2, a=1, retries=5, seed=1234, max_steps=None, F=None)` из модуля `sympy.ntheory.residue_ntheory`. Что означают переменные `s, a, retries, seed, max_steps, F`? Какой из изученных выше алгоритмов использует функция `pollard_rho`?"
   ]
  },
  {
   "cell_type": "markdown",
   "id": "d77ab25f",
   "metadata": {
    "slideshow": {
     "slide_type": "slide"
    }
   },
   "source": [
    "# 3. $\\;\\bf(p-1)$-алгоритм Полларда"
   ]
  },
  {
   "cell_type": "markdown",
   "id": "d4954146",
   "metadata": {
    "slideshow": {
     "slide_type": "-"
    }
   },
   "source": [
    "- Пусть $\\;p\\;$ -- нетривиальный простой делитель $\\;n.$ \n",
    "\n",
    "- Пусть известно разложение\n",
    "$$\n",
    "  p-1=q_1^{\\alpha_1}q_2^{\\alpha_2}\\dots q_s^{\\alpha_s}.\n",
    "$$\n",
    "\n",
    "- Согласно Малой теореме Ферма для  $\\;a\\in\\mathbb{N},\\;$ $\\;\\gcd(a,p)=1,\\;$ \n",
    "$$\n",
    "  a^{p-1}\\equiv 1\\mod p.\n",
    "$$  \n",
    "\n",
    "\n",
    "- Тогда $$d:=\\gcd(a^{p-1}-1,n)\\geq p.$$\n",
    "\n",
    "- Если $\\;d<n,\\;$ то мы имеем нетривиальный делитель $\\;d\\;$ числа $\\;n.$ \n",
    "\n",
    "-  Но нам неизвестны ни число $\\;p,\\;$ ни его делители $\\;q_i.$ "
   ]
  },
  {
   "cell_type": "markdown",
   "id": "f246f874",
   "metadata": {
    "slideshow": {
     "slide_type": "subslide"
    }
   },
   "source": [
    "- Предположим, что нам известны такие числа $\\;M,K\\in\\mathbb{N},\\;$ что \n",
    "$$\n",
    "  p<M,\\qquad q_i<K\n",
    "  $$ \n",
    "для всех $\\;i=1,2,\\dots,s.$ \n",
    "  \n",
    "-   Понятно, что, например, при $\\;M=K=n\\;$ неравенства удовлетворяются, но с вычислительной точки зрения нам такие большие числа $\\;M\\;$ и $\\;K\\;$ не подойдут. \n",
    "  \n",
    "-   Через $\\;B\\;$ обозначим все простые числа, меньшие $\\;K,$\n",
    "  $$\n",
    "    B:=\\{2,3,5,7,\\dots,p_i,\\dots,p_m\\},\n",
    "  $$\n",
    "$\\;p_i\\;$ -- простые, $\\;p_i<K.$   \n",
    "\n",
    "- Так как $\\;q_i<K,\\;$ то число $\\;p-1\\;$ имеет разложение\n",
    "$$\n",
    " p-1=p_1^{\\alpha_1}p_2^{\\alpha_2}\\dots p_m^{\\alpha_m},\n",
    "$$\n",
    " где $\\;\\alpha_i\\geq0,\\;$ но мы не знаем $\\;\\alpha_i.\\;$ \n",
    " \n",
    "- Так как $\\;p<M,\\;$ то $\\;\\alpha_i\\leq\\log_{p_i}M.$"
   ]
  },
  {
   "cell_type": "markdown",
   "id": "e29361e1",
   "metadata": {
    "slideshow": {
     "slide_type": "subslide"
    }
   },
   "source": [
    "\n",
    "- Обозначим\n",
    "   $\n",
    "     \\beta_i:=\\left[\\log_{p_i}M\\right].\n",
    "   $\n",
    "   \n",
    "- Получили число \n",
    "   $$\n",
    "     P:=p_1^{\\beta_1}p_2^{\\beta_2}\\dots p_m^{\\beta_m}.\n",
    "   $$\n",
    "- Так как $\\;\\beta_i\\geq\\alpha_i,\\;$ то $\\;P\\;$ делится на \n",
    "$$\n",
    " p-1=p_1^{\\alpha_1}p_2^{\\alpha_2}\\dots p_m^{\\alpha_m},\n",
    "$$\n",
    "поэтому\n",
    "   $$\n",
    "     a^P\\equiv1\\mod p.\n",
    "   $$\n",
    "- Следовательно, \n",
    "$$\n",
    "\\;d:=\\gcd(a^P-1,n)\\geq p.\n",
    "$$ "
   ]
  },
  {
   "cell_type": "markdown",
   "id": "fa1e3bbb",
   "metadata": {
    "slideshow": {
     "slide_type": "subslide"
    }
   },
   "source": [
    "## $\\bf(p-1)$-алгоритм Полларда\n",
    "Input: $\\;n\\;$  - составное число;   $\\;M,K\\in\\mathbb{N}.$  \n",
    "   \n",
    "Output: $\\;p\\;$ - нетривиальный делитель числа $\\;n.$\n",
    "   \n",
    "1$.$ Находим все простые делители, меньшие $\\;K,\\;$  \n",
    "   $\n",
    "   \\qquad\\qquad  B:=\\{2,3,5,7,\\dots,p_i,\\dots,p_m\\}.\n",
    "   $\n",
    "   \n",
    "2$.$ Выбираем $a:=2.$\n",
    "   \n",
    "3$.$ Для $\\;i=1,2,\\dots,m\\;$ выполняем шаги 3.1, 3.2:  \n",
    "$\\qquad$ 3.1. Вычисляем $\\;\\beta_i:=\\left[\\log_{p_i}M\\right].$  \n",
    "$\\qquad$ 3.2. Вычисляем $\\;a:=a^{p_i^{\\beta_i}}\\mod n.$\n",
    "   \n",
    "4$.$ Находим $\\;d:=\\gcd(a-1,n).\\;$\n",
    "   \n",
    "5$.$ Если $\\;d=1,\\;$ то выдаем результат \"делитель не найден, возьмите $\\;M,K\\;$ большими\".\n",
    "\n",
    "6$.$ Если $\\;1<d<n,\\;$ то выдаем результат $\\;d.\\;$\n",
    "   \n",
    "7$.$ Если $\\;d=n,\\;$ то выдаем результат \"делитель не найден, возьмите $\\;M,K\\;$ меньшими\"."
   ]
  },
  {
   "cell_type": "markdown",
   "id": "7370d21e",
   "metadata": {
    "slideshow": {
     "slide_type": "skip"
    }
   },
   "source": [
    "## <font color='red'>Задание 6.</font>\n",
    "Реализовать $(p-1)$-алгоритм Полларда. При помощи $\\;\\rho$-метода Полларда и $(p-1)$-алгоритма Полларда разложить числа `n1` и `n2` на множители. Сравнить фактическое время работы функций. От каких свойств числа $\\;n\\;$ зависит скорость разложения числа $\\;n\\;$ на множители при помощи $\\;\\rho$-метода Полларда? При помощи $(p-1)$-алгоритма Полларда?"
   ]
  },
  {
   "cell_type": "code",
   "execution_count": 75,
   "id": "e2c8aabe",
   "metadata": {
    "slideshow": {
     "slide_type": "skip"
    }
   },
   "outputs": [],
   "source": [
    "n1 = 179440801267606692257\n",
    "n2 = 4389145587418435224785452661044623743"
   ]
  },
  {
   "cell_type": "markdown",
   "id": "313caacd",
   "metadata": {
    "slideshow": {
     "slide_type": "skip"
    }
   },
   "source": [
    "Функция `pollard_pm1` из модуля `sympy.ntheory` имеет следующий вид"
   ]
  },
  {
   "cell_type": "code",
   "execution_count": 19,
   "id": "5460b82a",
   "metadata": {
    "slideshow": {
     "slide_type": "skip"
    }
   },
   "outputs": [
    {
     "data": {
      "text/plain": [
       "11"
      ]
     },
     "execution_count": 19,
     "metadata": {},
     "output_type": "execute_result"
    }
   ],
   "source": [
    "import random\n",
    "from sympy.core.numbers import igcd\n",
    "from sympy.ntheory.generate import sieve, primerange\n",
    "import math\n",
    "def pollard_pm1(n, B=10, a=2, retries=0, seed=1234):\n",
    "    \"\"\"\n",
    "    Use Pollard's p-1 method to try to extract a nontrivial factor\n",
    "    of ``n``. Either a divisor (perhaps composite) or ``None`` is returned.\n",
    "\n",
    "    The value of ``a`` is the base that is used in the test gcd(a**M - 1, n).\n",
    "    The default is 2.  If ``retries`` > 0 then if no factor is found after the\n",
    "    first attempt, a new ``a`` will be generated randomly (using the ``seed``)\n",
    "    and the process repeated.\n",
    "\n",
    "    Note: the value of M is lcm(1..B) = reduce(ilcm, range(2, B + 1)).\n",
    "\n",
    "    A search is made for factors next to even numbers having a power smoothness\n",
    "    less than ``B``. Choosing a larger B increases the likelihood of finding a\n",
    "    larger factor but takes longer. Whether a factor of n is found or not\n",
    "    depends on ``a`` and the power smoothness of the even number just less than\n",
    "    the factor p (hence the name p - 1).\n",
    "\n",
    "    Although some discussion of what constitutes a good ``a`` some\n",
    "    descriptions are hard to interpret. At the modular.math site referenced\n",
    "    below it is stated that if gcd(a**M - 1, n) = N then a**M % q**r is 1\n",
    "    for every prime power divisor of N. But consider the following:\n",
    "\n",
    "        >>> from sympy.ntheory.factor_ import smoothness_p, pollard_pm1\n",
    "        >>> n=257*1009\n",
    "        >>> smoothness_p(n)\n",
    "        (-1, [(257, (1, 2, 256)), (1009, (1, 7, 16))])\n",
    "\n",
    "    So we should (and can) find a root with B=16:\n",
    "\n",
    "        >>> pollard_pm1(n, B=16, a=3)\n",
    "        1009\n",
    "\n",
    "    If we attempt to increase B to 256 we find that it doesn't work:\n",
    "\n",
    "        >>> pollard_pm1(n, B=256)\n",
    "        >>>\n",
    "\n",
    "    But if the value of ``a`` is changed we find that only multiples of\n",
    "    257 work, e.g.:\n",
    "\n",
    "        >>> pollard_pm1(n, B=256, a=257)\n",
    "        1009\n",
    "\n",
    "    Checking different ``a`` values shows that all the ones that didn't\n",
    "    work had a gcd value not equal to ``n`` but equal to one of the\n",
    "    factors:\n",
    "\n",
    "        >>> from sympy.core.numbers import ilcm, igcd\n",
    "        >>> from sympy import factorint, Pow\n",
    "        >>> M = 1\n",
    "        >>> for i in range(2, 256):\n",
    "        ...     M = ilcm(M, i)\n",
    "        ...\n",
    "        >>> set([igcd(pow(a, M, n) - 1, n) for a in range(2, 256) if\n",
    "        ...      igcd(pow(a, M, n) - 1, n) != n])\n",
    "        {1009}\n",
    "\n",
    "    But does aM % d for every divisor of n give 1?\n",
    "\n",
    "        >>> aM = pow(255, M, n)\n",
    "        >>> [(d, aM%Pow(*d.args)) for d in factorint(n, visual=True).args]\n",
    "        [(257**1, 1), (1009**1, 1)]\n",
    "\n",
    "    No, only one of them. So perhaps the principle is that a root will\n",
    "    be found for a given value of B provided that:\n",
    "\n",
    "    1) the power smoothness of the p - 1 value next to the root\n",
    "       does not exceed B\n",
    "    2) a**M % p != 1 for any of the divisors of n.\n",
    "\n",
    "    By trying more than one ``a`` it is possible that one of them\n",
    "    will yield a factor.\n",
    "\n",
    "    Examples\n",
    "    ========\n",
    "\n",
    "    With the default smoothness bound, this number can't be cracked:\n",
    "\n",
    "        >>> from sympy.ntheory import pollard_pm1\n",
    "        >>> pollard_pm1(21477639576571)\n",
    "\n",
    "    Increasing the smoothness bound helps:\n",
    "\n",
    "        >>> pollard_pm1(21477639576571, B=2000)\n",
    "        4410317\n",
    "\n",
    "    Looking at the smoothness of the factors of this number we find:\n",
    "\n",
    "        >>> from sympy.ntheory.factor_ import smoothness_p, factorint\n",
    "        >>> print(smoothness_p(21477639576571, visual=1))\n",
    "        p**i=4410317**1 has p-1 B=1787, B-pow=1787\n",
    "        p**i=4869863**1 has p-1 B=2434931, B-pow=2434931\n",
    "\n",
    "    The B and B-pow are the same for the p - 1 factorizations of the divisors\n",
    "    because those factorizations had a very large prime factor:\n",
    "\n",
    "        >>> factorint(4410317 - 1)\n",
    "        {2: 2, 617: 1, 1787: 1}\n",
    "        >>> factorint(4869863-1)\n",
    "        {2: 1, 2434931: 1}\n",
    "\n",
    "    Note that until B reaches the B-pow value of 1787, the number is not cracked;\n",
    "\n",
    "        >>> pollard_pm1(21477639576571, B=1786)\n",
    "        >>> pollard_pm1(21477639576571, B=1787)\n",
    "        4410317\n",
    "\n",
    "    The B value has to do with the factors of the number next to the divisor,\n",
    "    not the divisors themselves. A worst case scenario is that the number next\n",
    "    to the factor p has a large prime divisisor or is a perfect power. If these\n",
    "    conditions apply then the power-smoothness will be about p/2 or p. The more\n",
    "    realistic is that there will be a large prime factor next to p requiring\n",
    "    a B value on the order of p/2. Although primes may have been searched for\n",
    "    up to this level, the p/2 is a factor of p - 1, something that we don't\n",
    "    know. The modular.math reference below states that 15% of numbers in the\n",
    "    range of 10**15 to 15**15 + 10**4 are 10**6 power smooth so a B of 10**6\n",
    "    will fail 85% of the time in that range. From 10**8 to 10**8 + 10**3 the\n",
    "    percentages are nearly reversed...but in that range the simple trial\n",
    "    division is quite fast.\n",
    "\n",
    "    References\n",
    "    ==========\n",
    "\n",
    "    .. [1] Richard Crandall & Carl Pomerance (2005), \"Prime Numbers:\n",
    "           A Computational Perspective\", Springer, 2nd edition, 236-238\n",
    "    .. [2] http://modular.math.washington.edu/edu/2007/spring/ent/ent-html/node81.html\n",
    "    .. [3] https://www.cs.toronto.edu/~yuvalf/Factorization.pdf\n",
    "    \"\"\"\n",
    "\n",
    "    n = int(n)\n",
    "    if n < 4 or B < 3:\n",
    "        raise ValueError('pollard_pm1 should receive n > 3 and B > 2')\n",
    "    prng = random.Random(seed + B)\n",
    "\n",
    "    # computing a**lcm(1,2,3,..B) % n for B > 2\n",
    "    # it looks weird, but it's right: primes run [2, B]\n",
    "    # and the answer's not right until the loop is done.\n",
    "    for i in range(retries + 1):\n",
    "        aM = a\n",
    "        for p in sieve.primerange(2, B + 1):\n",
    "            e = int(math.log(B, p))\n",
    "            aM = pow(aM, pow(p, e), n)\n",
    "        g = igcd(aM - 1, n)\n",
    "        if 1 < g < n:\n",
    "            return int(g)\n",
    "\n",
    "        # get a new a:\n",
    "        # since the exponent, lcm(1..B), is even, if we allow 'a' to be 'n-1'\n",
    "        # then (n - 1)**even % n will be 1 which will give a g of 0 and 1 will\n",
    "        # give a zero, too, so we set the range as [2, n-2]. Some references\n",
    "        # say 'a' should be coprime to n, but either will detect factors.\n",
    "        a = prng.randint(2, n - 2)\n",
    "\n",
    "pollard_pm1(121)"
   ]
  },
  {
   "cell_type": "markdown",
   "id": "e8f02ec3",
   "metadata": {
    "slideshow": {
     "slide_type": "skip"
    }
   },
   "source": [
    "## <font color='red'>Задание 7*.</font>\n",
    "Сравнить функцию `pollard_pm1(n, B=10, a=2, retries=0, seed=1234)` с Вашей реализацией $(p-1)$-алгоритма Полларда. \n",
    "\n",
    "Пусть `n =  795413349580631436379`. Найдутся ли такие три числа $a_1,a_2,b\\in\\mathbb{N},$ $\\gcd(a_1,n)=\\gcd(a_2,n)=1,$ что операция\n",
    "`pollard_pm1(n, B=b, a=a1)` выдаст нетривиальный делитель числа $n,$ а операция `pollard_pm1(n, B=b, a=a2)` - нет.\n",
    "\n",
    "Первому решившему +1 балл к экзаменационной оценке."
   ]
  },
  {
   "cell_type": "markdown",
   "id": "0e6eec7b",
   "metadata": {
    "slideshow": {
     "slide_type": "slide"
    }
   },
   "source": [
    "# 4. Функция `factorint`\n",
    "Функция `factorint` из модуля `sympy.ntheory`  использует следующие алгоритмы:  \n",
    "- Метод пробных делений (`_trial`);\n",
    "- Метод факторизации Ферма;\n",
    "- $\\rho$-метод Полларда (`pollard_rho`);\n",
    "- $(p-1)$-метод Полларда (`pollard_pm1`);\n",
    "- Функцию проверки на простоту (`isprime`);\n",
    "- Функцию проверки на полную степень: $n = p^\\alpha$ (`perfect_power`);\n",
    "- Метод Ленстры факторизации с помощью эллиптических кривых (`_ecm_one_factor`).\n",
    "\n",
    "Не менее интересными являются и правила поочередного использования данных функций в функции `factorint`."
   ]
  },
  {
   "cell_type": "code",
   "execution_count": 16,
   "id": "cd7d023c",
   "metadata": {
    "slideshow": {
     "slide_type": "subslide"
    }
   },
   "outputs": [
    {
     "name": "stdout",
     "output_type": "stream",
     "text": [
      "Factoring 596599408869553\n",
      "Trial division with ints [2 ... 32768] and fail_max=600\n",
      "Check for termination\n",
      "Trial division with primes [1805 ... 3610]\n",
      "Pollard's p-1 with smoothness bound 1805 and seed 3610\n",
      "Pollard's rho with retries 1, max_steps 1805 and seed 3610\n",
      "Trial division with primes [3610 ... 7220]\n",
      "Pollard's p-1 with smoothness bound 3610 and seed 7220\n",
      "Pollard's rho with retries 1, max_steps 3610 and seed 7220\n",
      "Factoring 21826867\n",
      "Trial division with ints [2 ... 32768] and fail_max=600\n",
      "Check for termination\n",
      "Factorization is complete.\n",
      "Check for termination\n",
      "Factorization is complete.\n"
     ]
    },
    {
     "data": {
      "text/plain": [
       "{21826867: 1, 27333259: 1}"
      ]
     },
     "execution_count": 16,
     "metadata": {},
     "output_type": "execute_result"
    }
   ],
   "source": [
    "from sympy.ntheory import randprime, factorint \n",
    "b = 25\n",
    "p1 = randprime(1<<b-1, 1<<b)\n",
    "p2 = randprime(1<<b-1, 1<<b)\n",
    "factorint(p1*p2,verbose=True)"
   ]
  },
  {
   "cell_type": "markdown",
   "id": "d85a5c4a",
   "metadata": {
    "slideshow": {
     "slide_type": "skip"
    }
   },
   "source": [
    "## <font color='red'>Задание 8.</font>\n",
    "Что означают переменные функции `factorint(n, limit=None, use_trial=True, use_rho=True, use_pm1=True, use_ecm=True, verbose=False, visual=None, multiple=False)`?"
   ]
  }
 ],
 "metadata": {
  "celltoolbar": "Необработанный формат ячейки",
  "kernelspec": {
   "display_name": "Python 3",
   "language": "python",
   "name": "python3"
  },
  "language_info": {
   "codemirror_mode": {
    "name": "ipython",
    "version": 3
   },
   "file_extension": ".py",
   "mimetype": "text/x-python",
   "name": "python",
   "nbconvert_exporter": "python",
   "pygments_lexer": "ipython3",
   "version": "3.8.8"
  }
 },
 "nbformat": 4,
 "nbformat_minor": 5
}
