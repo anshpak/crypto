{
 "cells": [
  {
   "cell_type": "markdown",
   "id": "e4b7f733",
   "metadata": {
    "slideshow": {
     "slide_type": "slide"
    }
   },
   "source": [
    "$$\n",
    "Белорусский\\;государственный\\; университет\n",
    "$$\n",
    "$$\n",
    "Механико-математический\\;факультет\n",
    "$$\n",
    "$$\n",
    "Кафедра\\;дифференциальных\\;уравнений\\; и\\; системного\\; анализа\n",
    "$$\n",
    "$ $\n",
    "\n",
    "$$\n",
    " \\Large\\bf Математические\\; основы\\; защиты\\; информации\n",
    "$$\n",
    "\n",
    "# Тема 7. Применение криптосистемы RSA\n",
    "\n",
    "$ $\n",
    "\n",
    "доцент Чергинец Дмитрий Николаевич"
   ]
  },
  {
   "cell_type": "markdown",
   "id": "cc4118b1",
   "metadata": {
    "slideshow": {
     "slide_type": "slide"
    }
   },
   "source": [
    "# 1. Криптосистема RSA\n",
    "**Генерация ключей в RSA**  \n",
    "Input:  $\\;L\\in\\mathbb{N}\\;$ -- длина простых чисел.  \n",
    "  \n",
    "Output: $\\;k_e\\;$ -- открытый ключ,\n",
    "\t\t\n",
    "$\\qquad\\;\\;$   $\\;k_d\\;$ -- секретный  ключ.\n",
    "\t\t\n",
    "\t\t\n",
    "1. Выбираем два случайных простых числа $\\;p, q,\\;$ состоящие из $\\;L\\;$ бит.\n",
    "\t\t\t\n",
    "2. Вычисляем $\\;n:=p q,\\;$ $\\;\\varphi(n):=(p-1)(q-1).\\;$\n",
    "\t\t\t\n",
    "3. Случайным образом выбираем натуральное число $\\;e,\\;$ удовлетворяющее условиям\n",
    "$$\n",
    "1<e<\\varphi(n),\\qquad \\gcd(e,\\varphi(n))=1.\n",
    "$$\n",
    "4. При помощи расширенного алгоритма Евклида вычисляем \n",
    "$$\n",
    "d:=e^{-1}\\mod\\varphi(n).\n",
    "$$\n",
    "5. Выдаем результат: $\\;k_e:=(e,n),\\;$ $\\;k_d:=(d,n).$\n",
    "\t\t\t"
   ]
  },
  {
   "cell_type": "markdown",
   "id": "469bee9a",
   "metadata": {
    "slideshow": {
     "slide_type": "subslide"
    }
   },
   "source": [
    "## Шифрование и дешифрование в RSA\n",
    "**Шифрование.**  \n",
    "Функция шифрования \t\n",
    "$$\n",
    "\\;E_{k_e}:\\mathbb{Z}_n\\rightarrow\\mathbb{Z}_n\\;\n",
    "$$\n",
    "определяется правилом\n",
    "$$\n",
    " E_{k_e}(m):=m^e\\mod n.\n",
    "$$\n",
    "\n",
    "**Дешифрование.**  \n",
    "Функция дешифрования \t\n",
    "$$\n",
    "  D_{k_d}:\\mathbb{Z}_n\\rightarrow\\mathbb{Z}_n\n",
    "$$\n",
    "задается формулой\n",
    "$$\n",
    "\tD_{k_d}(c):=c^d\\mod n.\n",
    "$$\n",
    "\n",
    "Отметим, что все три приведенных выше алгоритма являются полиномиальными."
   ]
  },
  {
   "cell_type": "markdown",
   "id": "5b29aa5b",
   "metadata": {
    "slideshow": {
     "slide_type": "slide"
    }
   },
   "source": [
    "# 2. PKCS (Public Key Cryptography Standards)\n",
    "\n",
    "- RSA Security  -- компания, основанная авторами криптосистемы RSA: Рональдом Ривестом, Ади Шамиром и Леонардом Адлеманом;\n",
    "\t\n",
    "- RSA Security разработала ряд стандартов под названием PKCS (Public Key Cryptography Standards);\n",
    "\t\n",
    "- Рассмотрим стандарт [PKCS \\#1, версия 2.2,](http://mpqs.free.fr/h11300-pkcs-1v2-2-rsa-cryptography-standard-wp_EMC_Corporation_Public-Key_Cryptography_Standards_(PKCS).pdf)   разработанный в 2012 году."
   ]
  },
  {
   "cell_type": "markdown",
   "id": "bb44e3c9",
   "metadata": {
    "slideshow": {
     "slide_type": "subslide"
    }
   },
   "source": [
    "## Перевод текста в число\n",
    "**OS2IP (Octet String 2 Integer Primitive)**  \n",
    "Input: $\\;X\\;$ - строка, состоящая из $\\;XLen\\;$ байт:\n",
    "$$\n",
    "X=\\{X_{XLen-1}, X_{XLen-2},\\dots,X_0\\},\\qquad 0\\leq X_i<256.\n",
    "$$ \n",
    "Output:  $\\;x\\in\\mathbb{N}\\cup\\{0\\}.$ \n",
    " 1. Выдаем результат:\n",
    "$$\n",
    "  x:=X_{XLen-1}256^{XLen-1}+X_{XLen-2}256^{XLen-2}+\\dots+X_{0}.\n",
    "$$  \n",
    "\t\t"
   ]
  },
  {
   "cell_type": "code",
   "execution_count": 4,
   "id": "d72d8810",
   "metadata": {
    "slideshow": {
     "slide_type": "-"
    }
   },
   "outputs": [
    {
     "name": "stdout",
     "output_type": "stream",
     "text": [
      "341881320659697045299745\n"
     ]
    },
    {
     "data": {
      "text/plain": [
       "True"
      ]
     },
     "execution_count": 4,
     "metadata": {},
     "output_type": "execute_result"
    }
   ],
   "source": [
    "def OS2IP(X: bytes) -> int:\n",
    "    x = 0\n",
    "    for i in range(len(X)):\n",
    "        x += X[i] * 256**(len(X)-1-i)\n",
    "    return x\n",
    "\n",
    "message = b'Hello Bob!'\n",
    "x = OS2IP(message)\n",
    "print(x)\n",
    "\n",
    "OS2IP(message) == int.from_bytes(message, \"big\")   "
   ]
  },
  {
   "cell_type": "markdown",
   "id": "cb9d0ac4",
   "metadata": {
    "slideshow": {
     "slide_type": "subslide"
    }
   },
   "source": [
    "## Перевод числа в байты\n",
    "**I2OSP (Integer to Octet String Primitive)**  \n",
    "Input: $x\\in\\mathbb{N}\\cup\\{0\\};$  \n",
    "$\\qquad XLen$ -- длина байтовой строки.  \n",
    "\n",
    "Output: \n",
    "$$X=\\{X_{XLen-1}, X_{XLen-2},\\dots,X_0\\},\\qquad 0\\leq X_i<256.$$ \n",
    "\n",
    "1.  Если $\\;x\\geq 256^{XLen},\\;$ то выдаем результат: \"Число слишком большое\".  \n",
    "\t\n",
    "2. Переводим $\\;x\\;$ в систему счисления по основанию 256:\n",
    "$$\n",
    "  x:=X_{XLen-1}256^{XLen-1}+X_{XLen-2}256^{XLen-2}+\\dots+X_{0}.\n",
    "$$  \n",
    "\t\t\n",
    "3. Выдаем результат:\n",
    "$$\n",
    "  X=\\{X_{XLen-1}, X_{XLen-2},\\dots,X_0\\}.\n",
    "$$\n",
    "\t\t\n",
    "\t\t"
   ]
  },
  {
   "cell_type": "code",
   "execution_count": 5,
   "id": "930bac5e",
   "metadata": {
    "slideshow": {
     "slide_type": "subslide"
    }
   },
   "outputs": [
    {
     "name": "stdout",
     "output_type": "stream",
     "text": [
      "b'Hello Bob!'\n"
     ]
    },
    {
     "data": {
      "text/plain": [
       "True"
      ]
     },
     "execution_count": 5,
     "metadata": {},
     "output_type": "execute_result"
    }
   ],
   "source": [
    "def I2OSP(x: int, XLen: int) -> bytes:\n",
    "    if x >= 256**XLen:\n",
    "        raise ValueError(\"Number %d must be less than %d\" % (x,256**XLen))\n",
    "    b = []\n",
    "    for _ in range(XLen):\n",
    "        b.append(x % 256)\n",
    "        x >>= 8\n",
    "    b.reverse()\n",
    "    return bytes(b)\n",
    "\n",
    "plaintext = I2OSP(x, len(message)) \n",
    "print(plaintext)\n",
    "\n",
    "plaintext == x.to_bytes(len(message), \"big\")"
   ]
  },
  {
   "cell_type": "markdown",
   "id": "ec8122e5",
   "metadata": {
    "slideshow": {
     "slide_type": "subslide"
    }
   },
   "source": [
    "## Необходимость дополнять сообщение\n",
    "Следующие сообщения шифруются плохо.  \n",
    "**Сообщение небольшого размера.**  \n",
    "$$\n",
    "  0^e\\equiv 0 \\mod n;\n",
    "$$ \n",
    "$$\n",
    "  1^e\\equiv 1 \\mod n;\n",
    "$$ \n",
    "$$\n",
    "  2^3\\equiv 8 \\mod n.\n",
    "$$\n",
    "\n",
    "**Дополнение должно быть вероятностным.**\n",
    "\n",
    "Если\n",
    "$$\n",
    "  m\\in\\{m_1, m_2, \\dots, m_s\\},\\qquad s - \\text{невелико},\n",
    "$$\n",
    "тогда зная шифротекст\n",
    "$$\n",
    "   c:= m^e\\mod n\n",
    "$$\n",
    "открытый текст $\\;m\\;$ можно найти перебором.   \n",
    " \t\n",
    " \t"
   ]
  },
  {
   "cell_type": "markdown",
   "id": "f0afcc42",
   "metadata": {
    "slideshow": {
     "slide_type": "subslide"
    }
   },
   "source": [
    "## Message padding\n",
    "В стандарте PKCS имеется два алгоритма дополнения (или можно ещё сказать кодирования) открытого текста: \n",
    "- Алгоритм   PKCS1-v1.5;\n",
    "- Алгоритм OAEP.\n",
    "\n",
    "Слово \"padding\" означает набивка, набивочный материал, ватин. Слово \"дополнение\" не совсем точно отражает суть процесса.\n",
    " "
   ]
  },
  {
   "cell_type": "markdown",
   "id": "990a93a1",
   "metadata": {
    "slideshow": {
     "slide_type": "subslide"
    }
   },
   "source": [
    " ## Алгоритм дополнения сообщения PKCS \n",
    "**Алгоритм   PKCS1-v1.5**   \n",
    "Input: $\\;m\\;$ - сообщение из $\\;mLen\\;$ байт;\n",
    "\n",
    "$\\qquad k$ -- количество байт в модуле $\\;n\\;$  $(mLen\\leq k-11).$\n",
    "\n",
    "Output:  $\\;EM\\;$ (encoded message) - закодированное сообщение, состоящее из $\\;k\\;$  байт. \n",
    "\n",
    "1$.$  Если $\\;mLen>k-11,\\;$ выдаем ошибку: \"сообщение слишком велико\", конец алгоритма.\n",
    "\n",
    "2$.$ Генерируем случайный список $\\;PS\\;$ (Pseudorandom String) из $\\;k-mLen-3\\;$ ненулевых байт.\n",
    "\n",
    "\n",
    "3$.$  Выдаем результат: \n",
    "$$\n",
    "  EM:=0||2||PS||0||m.\n",
    "$$  \n",
    "\n",
    "\n",
    " "
   ]
  },
  {
   "cell_type": "markdown",
   "id": "db0126f3",
   "metadata": {
    "slideshow": {
     "slide_type": "subslide"
    }
   },
   "source": [
    "## Генерация случайных байт\n",
    "Для генерации случайных чисел раньше мы пользовались модулем `ramdom`. Но говорят, что для криптографии он не годится, поэтому случайные быйты в алгоритме PKCS мы будем генерировать при помощи метода `urandom` модуля `os`"
   ]
  },
  {
   "cell_type": "code",
   "execution_count": 6,
   "id": "3aee49c1",
   "metadata": {},
   "outputs": [
    {
     "name": "stdout",
     "output_type": "stream",
     "text": [
      "Всё за раз:           --- 0.002000093460083008 seconds ---\n",
      "По 1 байту много раз: --- 0.19601130485534668 seconds ---\n"
     ]
    }
   ],
   "source": [
    "import os, time\n",
    "retries = 100000\n",
    "\n",
    "start_time = time.time()\n",
    "rb = os.urandom(retries)\n",
    "print(\"Всё за раз:           --- %s seconds ---\" % (time.time() - start_time))\n",
    "\n",
    "start_time = time.time()\n",
    "for _ in range(retries):\n",
    "    os.urandom(1)\n",
    "\n",
    "print(\"По 1 байту много раз: --- %s seconds ---\" % (time.time() - start_time))"
   ]
  },
  {
   "cell_type": "code",
   "execution_count": 7,
   "id": "25a12375",
   "metadata": {
    "slideshow": {
     "slide_type": "subslide"
    }
   },
   "outputs": [
    {
     "data": {
      "text/plain": [
       "b'\\x00\\x02\\x18\\x01\\x03/\\xf6\\x1bY\\xa1v\\x11X\\xba\\xf5\\x86:\\xb3\\x8f\\x00Hello Bob!'"
      ]
     },
     "execution_count": 7,
     "metadata": {},
     "output_type": "execute_result"
    }
   ],
   "source": [
    "import os\n",
    "def EncodePKCS(m: bytes, k: int) -> bytes:\n",
    "    mLen = len(m)\n",
    "    if mLen > k-11:\n",
    "        raise ValueError(\"Message length must be less than k-10\")\n",
    "    PS = b\"\"\n",
    "    while len(PS) < k-mLen-3:\n",
    "        rb = os.urandom(1)\n",
    "        if not rb == b'\\x00':\n",
    "            PS += rb\n",
    "    return b'\\x00\\x02' + PS + b'\\x00' + m        \n",
    "\n",
    "EM = EncodePKCS(message, 30) \n",
    "EM"
   ]
  },
  {
   "cell_type": "markdown",
   "id": "345664bc",
   "metadata": {
    "slideshow": {
     "slide_type": "subslide"
    }
   },
   "source": [
    "## Зашифруем сообщение с дополнением PKCS\n",
    "Попросим у Боба открытый ключ"
   ]
  },
  {
   "cell_type": "code",
   "execution_count": 8,
   "id": "f9670028",
   "metadata": {
    "slideshow": {
     "slide_type": "-"
    }
   },
   "outputs": [
    {
     "name": "stdout",
     "output_type": "stream",
     "text": [
      "e=  65537\n",
      "n=  9515219077376106687274828952446900327887078440750090336604833093349686265281537055012970387465005139207865627520284579361211008599864584758339191590291961\n"
     ]
    }
   ],
   "source": [
    "import rsa\n",
    "(bob_pub, bob_priv) = rsa.newkeys(512)\n",
    "e = bob_pub.e\n",
    "print('e= ', e)\n",
    "n = bob_pub.n\n",
    "print('n= ', n)"
   ]
  },
  {
   "cell_type": "markdown",
   "id": "4f8c2c62",
   "metadata": {
    "slideshow": {
     "slide_type": "subslide"
    }
   },
   "source": [
    "### Подсчитаем из скольких байт состоит модуль"
   ]
  },
  {
   "cell_type": "code",
   "execution_count": 10,
   "id": "952b76c7",
   "metadata": {
    "slideshow": {
     "slide_type": "-"
    }
   },
   "outputs": [
    {
     "name": "stdout",
     "output_type": "stream",
     "text": [
      "Модуль n состоит из  64  байт\n"
     ]
    }
   ],
   "source": [
    "import math\n",
    "def Len(n: int)-> int:\n",
    "    if type(n) == int:\n",
    "        return math.ceil((len(bin(n))-2)/8)\n",
    "    s = 0\n",
    "    for i in n:\n",
    "        s += Len(i)\n",
    "    return s    \n",
    "\n",
    "k = Len(n)\n",
    "print('Модуль n состоит из  %d  байт' % k)"
   ]
  },
  {
   "cell_type": "markdown",
   "id": "1ddffaff",
   "metadata": {
    "slideshow": {
     "slide_type": "subslide"
    }
   },
   "source": [
    "## Вычисляем шифротекст и отправляем его Бобу"
   ]
  },
  {
   "cell_type": "code",
   "execution_count": 11,
   "id": "a60f4ac2",
   "metadata": {},
   "outputs": [
    {
     "data": {
      "text/plain": [
       "b'\\xaa\\xbd\\xf8Yil\\xbe\\xe4H\\xc8\\xaa\\x1b\\xeb:\\x1b\\xf91ZuX\\x97V\\xe4\\xe0\\xf5\\xf3\\x7fa3\\xacg,\\xb2\\x86\\x05o;\\x0f\\x02\\xda)\\x189\\x97\\xd3x\\xcc\\x06\\x94\\xc8q\\xe1\\xd3\\xf4J\\x91\\x19.\\x14\\xe4\\x8dE_\\x9f'"
      ]
     },
     "execution_count": 11,
     "metadata": {},
     "output_type": "execute_result"
    }
   ],
   "source": [
    "EM = EncodePKCS(message, k) \n",
    "m = OS2IP(EM)\n",
    "c = pow(m, e, n) \n",
    "CipherText = I2OSP(c, k)\n",
    "CipherText"
   ]
  },
  {
   "cell_type": "markdown",
   "id": "bad829b9",
   "metadata": {
    "slideshow": {
     "slide_type": "subslide"
    }
   },
   "source": [
    "## Боб расшифровывает сообщение\n",
    "Боб получает от нас шифротекст и расшифровывает сообщение, используя пакет RSA. "
   ]
  },
  {
   "cell_type": "code",
   "execution_count": 12,
   "id": "fc0a31e5",
   "metadata": {
    "slideshow": {
     "slide_type": "-"
    }
   },
   "outputs": [
    {
     "data": {
      "text/plain": [
       "b'Hello Bob!'"
      ]
     },
     "execution_count": 12,
     "metadata": {},
     "output_type": "execute_result"
    }
   ],
   "source": [
    "PlainText = rsa.decrypt(CipherText, bob_priv)\n",
    "PlainText "
   ]
  },
  {
   "cell_type": "markdown",
   "id": "2adadbd8",
   "metadata": {
    "slideshow": {
     "slide_type": "-"
    }
   },
   "source": [
    "Несмотря на то, что шифротекст CipherText получен без использования пакета RSA, несовместимости програмного обеспечения не произошло и Боб получил открытый текст."
   ]
  },
  {
   "cell_type": "markdown",
   "id": "53aadfb1",
   "metadata": {
    "slideshow": {
     "slide_type": "skip"
    }
   },
   "source": [
    "## <font color='red'>Задание 1.</font>\n",
    "Реализовать алгоритм DecodePKCS, который по дополненной согласно алгоритму PKCS строке байт EM находит открытый текст. Для EM1, EM2, EM3, где это возможно, найти текст m1, m2, m3, закодированный кодировкой 'utf8'."
   ]
  },
  {
   "cell_type": "code",
   "execution_count": 14,
   "id": "0e0ff120",
   "metadata": {
    "slideshow": {
     "slide_type": "skip"
    }
   },
   "outputs": [],
   "source": [
    "EM1 = b'\\x00\\x02\\xad\\xed\\x08\\xb4\\x95\\xb6c\\xc3\\xb9\\x08\\x81\\xb8\\xd5\\xbb\\r\\x04\\x96\\x00\\xd0\\xa0\\xd0\\xb0\\xd0\\xb1\\xd1\\x96 \\xd0\\xbd\\xd0\\xb5\\xd1\\x87\\xd0\\xb0\\xd0\\xba\\xd0\\xb0\\xd0\\xbd\\xd0\\xb0\\xd0\\xb5, \\xd1\\x80\\xd0\\xb0\\xd0\\xb1\\xd1\\x96, \\xd1\\x8f\\xd0\\xba \\xd0\\xbd\\xd0\\xb5 \\xd0\\xb1\\xd1\\x8b\\xd0\\xb2\\xd0\\xb0\\xd0\\xb5, \\xd1\\x80\\xd0\\xb0\\xd0\\xb1\\xd1\\x96, \\xd1\\x8f\\xd0\\xba \\xd0\\xbd\\xd0\\xb5 \\xd1\\x80\\xd0\\xbe\\xd0\\xb1\\xd1\\x96\\xd1\\x86\\xd1\\x8c \\xd0\\xbd\\xd1\\x96\\xd1\\x85\\xd1\\x82\\xd0\\xbe, \\xe2\\x80\\x94 \\xd1\\x96 \\xd1\\x82\\xd0\\xb0\\xd0\\xb4\\xd1\\x8b \\xd0\\xbf\\xd0\\xb5\\xd1\\x80\\xd0\\xb0\\xd0\\xbc\\xd0\\xbe\\xd0\\xb6\\xd0\\xb0\\xd1\\x88.'\n",
    "EM2 = b'\\x00\\x02r8\\x00\\xd0\\xa7\\xd0\\xb0\\xd0\\xbb\\xd0\\xb0\\xd0\\xb2\\xd0\\xb5\\xd0\\xba \\xd0\\xbd\\xd0\\xbe\\xd1\\x81\\xd1\\x96\\xd1\\x86\\xd1\\x8c \\xd1\\x81\\xd0\\xb2\\xd0\\xb0\\xd1\\x91 \\xd0\\xbd\\xd0\\xb5\\xd0\\xb1\\xd0\\xb0 \\xd0\\xb7 \\xd1\\x81\\xd0\\xb0\\xd0\\xb1\\xd0\\xbe\\xd1\\x8e.'\n",
    "EM3 = b'\\x02\\x02\\xf5\\xb2\\xf2\\xb2LG\\x9b\\r\\xe4\\x00\\xd0\\xa7\\xd0\\xb0\\xd0\\xbb\\xd0\\xb0\\xd0\\xb2\\xd0\\xb5\\xd0\\xba \\xd0\\xbd\\xd0\\xbe\\xd1\\x81\\xd1\\x96\\xd1\\x86\\xd1\\x8c \\xd1\\x81\\xd0\\xb2\\xd0\\xb0\\xd1\\x91 \\xd0\\xbd\\xd0\\xb5\\xd0\\xb1\\xd0\\xb0 \\xd0\\xb7 \\xd1\\x81\\xd0\\xb0\\xd0\\xb1\\xd0\\xbe\\xd1\\x8e.'"
   ]
  },
  {
   "cell_type": "markdown",
   "id": "067597cc",
   "metadata": {
    "slideshow": {
     "slide_type": "skip"
    }
   },
   "source": [
    "## <font color='red'>Задание 2.</font>\n",
    "Сообщение m зашифровано при помощи модуля RSA. Найти сообщение m, не пользуясь функциями модуля RSA."
   ]
  },
  {
   "cell_type": "code",
   "execution_count": 19,
   "id": "d38e36a9",
   "metadata": {
    "slideshow": {
     "slide_type": "skip"
    }
   },
   "outputs": [],
   "source": [
    "d = 26770772907582938053130151905548181178036083280747414634624384031357480520230808847626726751112707871133365466932082860352116479532095585837114011518890329506258186862891674713345047774452260967801004643838706727945877863169543110385438010586368708217542522729977757884858964820726738896465984173006606967577\n",
    "n = 101632169613871459838266278481950480789257417017340167578600373994269547636816689998662618958910591192172123767961994694948540677697674124370442075073767460922116257699815386922669167387324184470375309591093269335567795836909746438396358314576200234449897268393760086784065030629672726231457824423660894104727\n",
    "CipherText = b\"\\x18\\xf0\\xb1\\x94'\\xfb\\xd2\\xcc\\x0e\\x00\\x08\\xe3\\xf3\\x13T\\xfdE\\x0fE\\x87N\\xc6\\xe0\\xb01X\\x9d!\\xf1\\x06\\x16{\\xd8\\xce+\\xc8\\xbf\\x9e$\\xbb\\xfd\\xdb\\xb1-\\xdf4(v\\x1d\\\\\\x1d\\xe4\\x8cVC=\\xbex\\xf6\\x08\\x95\\rvX\\x92\\xd9#S\\xa7\\xd9-r\\x84q\\x8f\\xe1\\x96[x\\x03\\xc5\\x0f\\xed\\x9f\\x0b\\xd8\\xfb\\x07\\x97\\xef\\xa3\\xfcQ\\xf8\\x98\\x8c\\x89\\x15\\x84\\x90?\\xd4\\xf3\\x96\\x05\\xd1b\\xear\\x84v\\x81m\\x0b\\xcdD\\x14L\\xe1e]\\xc7H\\x99\\x13>E\\xc3\""
   ]
  },
  {
   "cell_type": "markdown",
   "id": "197e937a",
   "metadata": {
    "slideshow": {
     "slide_type": "slide"
    }
   },
   "source": [
    "# 3. Дешифрование при помощи CRT\n",
    "Функция дешифрования задается формулой\n",
    "$$\n",
    "\tD_{k_d}(c):=c^d\\mod n.\n",
    "$$\n",
    "Заметим, что открытый текст \n",
    "$$\n",
    "   m :=   c^d\\mod n\n",
    "$$\n",
    "удовлетворяет системе уравнений\n",
    "$$\n",
    "  \\left\\{\\begin{array}{ll}\n",
    " m \\equiv c^d \\mod p;\\\\\n",
    " m \\equiv c^d \\mod q.\\\\\n",
    " \\end{array}\\right.\n",
    "$$\n",
    "\n",
    "Поэтому вместо вычисления $\\quad c^d\\mod n\\quad$ можно попробовать вычислять \n",
    "$$\n",
    "  m_p:=c^d\\mod p,\\qquad m_q:=c^d\\mod q,\n",
    "$$\n",
    "после чего находить $\\;m\\;$ из системы\n",
    "$$\n",
    "  \\left\\{\\begin{array}{ll}\n",
    " m \\equiv m_p \\mod p;\\\\\n",
    " m \\equiv m_q \\mod q.\\\\\n",
    " \\end{array}\\right.\\qquad (*)\n",
    "$$"
   ]
  },
  {
   "cell_type": "markdown",
   "id": "ad73d109",
   "metadata": {
    "slideshow": {
     "slide_type": "subslide"
    }
   },
   "source": [
    "## Секретный ключ при дешифровании CRT\n",
    "Так как \n",
    "$$\n",
    "  c^{p-1}\\equiv 1\\mod p,\n",
    "$$\n",
    "то\n",
    "$$\n",
    "  m_p:=c^d\\equiv c^{dP}\\mod p,\\qquad m_q:=c^d\\equiv c^{dQ}\\mod q,\n",
    "$$\n",
    "где \n",
    "$$\n",
    "  dP:=d\\mod p-1,\\qquad dQ:=d \\mod q-1.\n",
    "$$\n",
    "\n",
    "Согласно алгоритму Гарнера решение системы $\\;(*)\\;$ находится по формулам\n",
    "$$\n",
    "  y:=(m_p-m_q)*qInv \\mod p,\\qquad m:=m_q+q*y.\n",
    "$$\n",
    "Здесь \n",
    "$$\n",
    "qInv:=q^{-1}\\mod p.\n",
    "$$\n",
    "\n",
    "Таким образом, секретный ключ при дешифровании Китайской теоремой об остатках имеет вид:\n",
    "\n",
    "$$\n",
    "  PrivateKey:=(p,q,dP,dQ,qInv).\n",
    "$$"
   ]
  },
  {
   "cell_type": "markdown",
   "id": "6d137c56",
   "metadata": {},
   "source": [
    "## <font color='red'>Задание 3.</font>\n",
    "Реализовать функцию генерации ключей криптосистемы RSA. Секретный ключ должен иметь вид\n",
    "$$\n",
    "  PrivateKey:=(p,q,dP,dQ,qInv).\n",
    "$$\n",
    "Можно ли ускорить не только дешифрование, но и шифрование при помощи Китайской теоремы об остатках?"
   ]
  },
  {
   "cell_type": "code",
   "execution_count": 24,
   "id": "4bcfc401",
   "metadata": {
    "slideshow": {
     "slide_type": "subslide"
    }
   },
   "outputs": [
    {
     "data": {
      "text/plain": [
       "True"
      ]
     },
     "execution_count": 24,
     "metadata": {},
     "output_type": "execute_result"
    }
   ],
   "source": [
    "def DecryptCRT(c, kd):\n",
    "    (p,q,dP,dQ,qInv) = kd\n",
    "    mp = pow(c,dP,p)\n",
    "    mq = pow(c,dQ,q)\n",
    "    y  = (mp-mq)*qInv % p \n",
    "    return mq + q*y\n",
    "\n",
    "message = 121\n",
    "CipherText = Encrypt(message, ke)\n",
    "PlainText = DecryptCRT(CipherText, kdCRT)\n",
    "PlainText == message"
   ]
  },
  {
   "cell_type": "code",
   "execution_count": 25,
   "id": "0d04aa63",
   "metadata": {
    "slideshow": {
     "slide_type": "-"
    }
   },
   "outputs": [
    {
     "name": "stdout",
     "output_type": "stream",
     "text": [
      "DecryptCRT:--- 1.2100694179534912 seconds ---\n",
      "Decrypt:--- 5.410309314727783 seconds ---\n"
     ]
    }
   ],
   "source": [
    "import time\n",
    "retries = 80\n",
    "\n",
    "start_time = time.time()\n",
    "for _ in range(retries):\n",
    "    DecryptCRT(CipherText, kdCRT)\n",
    "print(\"DecryptCRT:--- %s seconds ---\" % (time.time() - start_time))\n",
    "\n",
    "start_time = time.time()\n",
    "for _ in range(retries):\n",
    "    Decrypt(CipherText, kd)\n",
    "print(\"Decrypt:--- %s seconds ---\" % (time.time() - start_time))"
   ]
  },
  {
   "cell_type": "markdown",
   "id": "8706ea63",
   "metadata": {
    "slideshow": {
     "slide_type": "subslide"
    }
   },
   "source": [
    "## Длина секретного ключа\n",
    "Сравним количество байт обычного секретного ключа $\\,(e,n)\\,$ с длиной секретного ключа для дешифрования при помощи Китайской теоремы об остатках $\\;(p,q,dP,dQ,qInv)$"
   ]
  },
  {
   "cell_type": "code",
   "execution_count": 26,
   "id": "1bc3d745",
   "metadata": {
    "slideshow": {
     "slide_type": "-"
    }
   },
   "outputs": [
    {
     "name": "stdout",
     "output_type": "stream",
     "text": [
      "Длина обычного секретного ключа =  512\n",
      "Длина секретного ключа для CRT  =  640\n",
      "Длина обычного секретного ключа =  1024\n",
      "Длина секретного ключа для CRT  =  1280\n"
     ]
    }
   ],
   "source": [
    "ke, kd, kdCRT = CRTKeyGen(1024)\n",
    "print('Длина обычного секретного ключа = ', Len(kd))\n",
    "print('Длина секретного ключа для CRT  = ', Len(kdCRT))\n",
    "\n",
    "ke, kd, kdCRT = CRTKeyGen(2048)\n",
    "print('Длина обычного секретного ключа = ', Len(kd))\n",
    "print('Длина секретного ключа для CRT  = ', Len(kdCRT))"
   ]
  },
  {
   "cell_type": "markdown",
   "id": "977098b9",
   "metadata": {
    "slideshow": {
     "slide_type": "slide"
    }
   },
   "source": [
    "# 4. Дополнение сообщения алгоритмом OAEP\n",
    "\n",
    "- Optimal Asymmetric Encryption Padding\n",
    "\n",
    "- Оптимальное дополнение асимметричного шифрования;\n",
    "\n",
    "- Авторы Mihir Bellare, Phillip Rogawayy, 1994 год; \n",
    "\n",
    "- Рассмотрим модификацию OAEP, описанную в стандарте PKCS$\\#1.$\n"
   ]
  },
  {
   "cell_type": "markdown",
   "id": "144313d6",
   "metadata": {
    "slideshow": {
     "slide_type": "subslide"
    }
   },
   "source": [
    "## Функция генерации маски\n",
    "**Алгоритм\tMGF1 (Mask generation function)**\n",
    "\t\t\n",
    "Input: \t$\\;seed\\;$ -- строка байт произвольной длины;\n",
    "\t\t\t\n",
    "$\\qquad maskLen$ -- количество байт в значении функции MGF1;\n",
    "\t\t\t\n",
    "$\\qquad Hash$ --  хеш-функция со значением hLen байт.\n",
    "\n",
    "Output: $mask$  -- строка, состоящая из maskLen байт.\n",
    "\n",
    "1$.$  Создаем пустую байтовую строку $\\;T:=\\{\\}.$\n",
    "\t\t\t\n",
    "2$.$  Для $\\;i:=0,\\dots, \\lceil maskLen/hLen)\\rceil-1\\;$ выполняем:\n",
    "\t\t\t\n",
    "$\\qquad$ 2.1.  Представляем $\\;i\\;$  в виде четырех байт: \n",
    "$$\n",
    "  C:=\\text{I2OSP}(i,4).\n",
    "$$\n",
    "$\\qquad$ 2.2.  Вычисляем $\\;  T:=T||Hash(seed||C).$\n",
    "\t\t\t\n",
    "3$.$  Выдаем результат: первые maskLen байт переменной $\\;T$\n",
    "$$\n",
    "\\;mask:=T[0:maskLen].\\;\n",
    "$$"
   ]
  },
  {
   "cell_type": "code",
   "execution_count": 27,
   "id": "daa2116d",
   "metadata": {
    "slideshow": {
     "slide_type": "subslide"
    }
   },
   "outputs": [
    {
     "data": {
      "text/plain": [
       "[51, 111, 40, 160, 34, 25, 57, 57, 88, 90, 27, 78, 220, 152, 159]"
      ]
     },
     "execution_count": 27,
     "metadata": {},
     "output_type": "execute_result"
    }
   ],
   "source": [
    "def MGF1(seed: bytes, maskLen: int, MaskHash) -> bytes:\n",
    "    T = b''\n",
    "    hLen = MaskHash.digest_size\n",
    "    for i in range(int(maskLen/hLen)+1):\n",
    "        C = I2OSP(i, 4)\n",
    "        h = MaskHash.copy()\n",
    "        h.update(seed + C)\n",
    "        T += h.digest()\n",
    "    return T[:maskLen]    \n",
    "\n",
    "import hashlib    \n",
    "Hash = hashlib.sha256()\n",
    "seed = b'seed'\n",
    "maskLen = 15\n",
    "mask = MGF1(seed, maskLen, Hash)\n",
    "\n",
    "list(mask)"
   ]
  },
  {
   "cell_type": "markdown",
   "id": "7d2dafb4",
   "metadata": {
    "slideshow": {
     "slide_type": "subslide"
    }
   },
   "source": [
    "##  Кодирование сообщения методом OAEP\n",
    "\n",
    "![Для отображения картинки нужен интернет](https://drive.google.com/uc?export=view&id=1c0KMWiCd4p1i_uBMOW0hte_a4qIE9OEg)\n",
    "\n"
   ]
  },
  {
   "cell_type": "markdown",
   "id": "b6c5e891",
   "metadata": {
    "slideshow": {
     "slide_type": "subslide"
    }
   },
   "source": [
    "##  Кодирование сообщения методом OAEP\n",
    "**Encoding  RSAES-OAEP**  \n",
    "Options:  \n",
    "$\\qquad$ $Hash$ --  хеш-функция с длиной дайджеста $\\;hLen\\;$ байт;  \n",
    "$\\qquad$ $MGF$ -- функция генерации маски.\n",
    "\n",
    "Input:   \n",
    "$\\qquad k\\;$ -- количество байт в модуле $\\;n\\;$ шифра RSA.\n",
    "\n",
    "$\\qquad m$ -- сообщение, состоящее из mLen байт, $\\; mLen\\leq k-2hLen-2.$\n",
    "\t\n",
    "$\\qquad L$ -- label, метка, строка байт.  В некотором смысле может выступать дополнительным секретным ключом.   \n",
    "$\\quad\\qquad$ Если $\\;L\\;$ не получена, то $L=\\{\\}.$\n",
    "\t\n",
    "Output:   \n",
    "$\\qquad$ $EM$ -- дополненное сообщение длины $\\;k\\;$  байт."
   ]
  },
  {
   "cell_type": "markdown",
   "id": "a4d658bb",
   "metadata": {
    "slideshow": {
     "slide_type": "subslide"
    }
   },
   "source": [
    "\n",
    "\n",
    "1$.$  Вычисляем хеш от метки $\\;\\;LHash:=Hash(L).$\n",
    "\n",
    "2$.$  Генерируем байтовую строку $\\;PS,\\;$ состоящую из  $\\;k-mLen-2hLen-2\\;$ нулей. \n",
    "Данный список может оказаться пустым.\n",
    "\n",
    "3$.$ Образуем байтовую строку $\\;DB\\;$ (Data Block) длины $\\;k-hLen-1\\;$\n",
    "$$\n",
    "  DB:=LHash||PS||1||m.\n",
    "$$  \n",
    "\n",
    "4$.$  Генерируем случайную байтовую строку $\\;seed\\;$ длины $\\;hLen\\;$  байт.\n",
    "\n",
    "5$.$ Вычисляем маску\n",
    "$$\n",
    "  dbMask:=MGF(seed,k-hLen-1).\n",
    "$$\n",
    "6$.$ Прячем под маской переменную $\\;DB$\n",
    "$$\n",
    "   maskedDB:=DB\\oplus dbMask,\n",
    "$$  \n",
    "где $\\oplus$ -- XOR.\n",
    "            \n",
    "7$.$ Вычисляем маску\n",
    "$\\quad\n",
    "  seedMask:=MGF (maskedDB,hLen).\n",
    "$  \n",
    "8$.$ Прячем seed под маской   \n",
    "$$\n",
    "  maskedSeed:=seed\\oplus seedMask.\n",
    "$$\n",
    "9$.$ Выдаем результат $\\;EM:=0||maskedSeed||maskedDB.$"
   ]
  },
  {
   "cell_type": "code",
   "execution_count": 28,
   "id": "efe085e2",
   "metadata": {
    "slideshow": {
     "slide_type": "subslide"
    }
   },
   "outputs": [],
   "source": [
    "import os, hashlib\n",
    "def byte_xor(b1, b2):\n",
    "    return bytes([a ^ b for a, b in zip(b1, b2)])\n",
    "\n",
    "def EncodeOAEP(k, m, L = b'', Hash = hashlib.sha256(), MaskHash = hashlib.sha256()):\n",
    "    Hash.update(L)\n",
    "    LHash = Hash.digest()\n",
    "    mLen = len(m)\n",
    "    hLen = Hash.digest_size\n",
    "    PS = (k-mLen-2*hLen-2)*b'\\x00'\n",
    "    DB = LHash + PS + b'\\x01' + m\n",
    "    seed = os.urandom(hLen)\n",
    "    dbMask = MGF1(seed, k-hLen-1, MaskHash)\n",
    "    maskedDB = byte_xor(DB, dbMask) \n",
    "    seedMask = MGF1(maskedDB, hLen, MaskHash)\n",
    "    maskedSeed = byte_xor(seed, seedMask)\n",
    "    return b'\\x00' + maskedSeed + maskedDB\n",
    "\n",
    "EM = EncodeOAEP(2048, b'Hello Bob!')"
   ]
  },
  {
   "cell_type": "markdown",
   "id": "279ac9cb",
   "metadata": {
    "slideshow": {
     "slide_type": "subslide"
    }
   },
   "source": [
    "## Методы дополнения в пакете RSA\n",
    "В пакете RSA реализован лишь 1 метод дополнения сообщения из стандарта PKCS"
   ]
  },
  {
   "cell_type": "code",
   "execution_count": 29,
   "id": "9fd4b7d6",
   "metadata": {
    "slideshow": {
     "slide_type": "-"
    }
   },
   "outputs": [
    {
     "name": "stdout",
     "output_type": "stream",
     "text": [
      "Help on function encrypt in module rsa.pkcs1:\n",
      "\n",
      "encrypt(message: bytes, pub_key: rsa.key.PublicKey) -> bytes\n",
      "    Encrypts the given message using PKCS#1 v1.5\n",
      "    \n",
      "    :param message: the message to encrypt. Must be a byte string no longer than\n",
      "        ``k-11`` bytes, where ``k`` is the number of bytes needed to encode\n",
      "        the ``n`` component of the public key.\n",
      "    :param pub_key: the :py:class:`rsa.PublicKey` to encrypt with.\n",
      "    :raise OverflowError: when the message is too large to fit in the padded\n",
      "        block.\n",
      "    \n",
      "    >>> from rsa import key, common\n",
      "    >>> (pub_key, priv_key) = key.newkeys(256)\n",
      "    >>> message = b'hello'\n",
      "    >>> crypto = encrypt(message, pub_key)\n",
      "    \n",
      "    The crypto text should be just as long as the public key 'n' component:\n",
      "    \n",
      "    >>> len(crypto) == common.byte_size(pub_key.n)\n",
      "    True\n",
      "\n"
     ]
    }
   ],
   "source": [
    "help(rsa.encrypt)"
   ]
  },
  {
   "cell_type": "markdown",
   "id": "6df57a2f",
   "metadata": {
    "slideshow": {
     "slide_type": "slide"
    }
   },
   "source": [
    "# 5. Пакет cryptography\n",
    "В пакете cryptography есть реализация стандарта PKCS c двумя способами дополнения:\n",
    "- PKCS#1 v1.5;\n",
    "- OAEP"
   ]
  },
  {
   "cell_type": "code",
   "execution_count": 39,
   "id": "873fc7ee",
   "metadata": {
    "slideshow": {
     "slide_type": "-"
    }
   },
   "outputs": [
    {
     "name": "stdout",
     "output_type": "stream",
     "text": [
      "e =  65537\n",
      "n =  123319600470080831938054607152493473025864311111324868077036501991287650536460822964353916117565825770276155066315223313559824949859747637551240065260517238832356404603959447293968155641171875870411303090354519508842156643516780559456829818913488851518588684003327884564739534947831405987451400147933141690033\n",
      "Модуль n состоит из  128  байт\n"
     ]
    }
   ],
   "source": [
    "import math\n",
    "from cryptography.hazmat.primitives.asymmetric import rsa as rsaHazMat\n",
    "\n",
    "private_key = rsaHazMat.generate_private_key(public_exponent=65537,key_size=1024)\n",
    "\n",
    "public_key = private_key.public_key()\n",
    "pn = public_key.public_numbers()\n",
    "e = pn.e\n",
    "n = pn.n\n",
    "print('e = ', e)\n",
    "print('n = ', n)\n",
    "k = Len(n)\n",
    "print('Модуль n состоит из  %d  байт' % k)"
   ]
  },
  {
   "cell_type": "markdown",
   "id": "a3964d38",
   "metadata": {
    "slideshow": {
     "slide_type": "subslide"
    }
   },
   "source": [
    "## Шифрование с применением дополнения PKCS\n",
    "Зашифруем открытый текст `message` при помощи нашей функции дополнения `EncodePKCS` и открытого ключа Боба"
   ]
  },
  {
   "cell_type": "code",
   "execution_count": 31,
   "id": "07a43e81",
   "metadata": {
    "slideshow": {
     "slide_type": "-"
    }
   },
   "outputs": [],
   "source": [
    "message = b\"Hello Bob!\"\n",
    "EM = EncodePKCS(message, k) \n",
    "m = OS2IP(EM)\n",
    "c = pow(m, e, n) \n",
    "CipherText = I2OSP(c, k)"
   ]
  },
  {
   "cell_type": "markdown",
   "id": "d474e4b5",
   "metadata": {
    "slideshow": {
     "slide_type": "-"
    }
   },
   "source": [
    "#### Боб расшифровывает сообщение при помощи метода `decrypt` класса `private_key` из пакета cryptography"
   ]
  },
  {
   "cell_type": "code",
   "execution_count": 32,
   "id": "6633c206",
   "metadata": {
    "slideshow": {
     "slide_type": "-"
    }
   },
   "outputs": [
    {
     "name": "stdout",
     "output_type": "stream",
     "text": [
      "b'Hello Bob!'\n"
     ]
    },
    {
     "data": {
      "text/plain": [
       "True"
      ]
     },
     "execution_count": 32,
     "metadata": {},
     "output_type": "execute_result"
    }
   ],
   "source": [
    "from cryptography.hazmat.primitives.asymmetric import padding\n",
    "plaintext = private_key.decrypt(\n",
    "    CipherText,\n",
    "    padding.PKCS1v15()\n",
    ")\n",
    "print(plaintext)\n",
    "plaintext == message"
   ]
  },
  {
   "cell_type": "markdown",
   "id": "dc94db8b",
   "metadata": {
    "slideshow": {
     "slide_type": "subslide"
    }
   },
   "source": [
    "## Шифрование с применением дополнения OAEP\n",
    "Зашифруем открытый текст `message` при помощи нашей функции дополнения `EncodeOAEP` и открытого ключа Боба"
   ]
  },
  {
   "cell_type": "code",
   "execution_count": 33,
   "id": "5e055d0b",
   "metadata": {
    "slideshow": {
     "slide_type": "-"
    }
   },
   "outputs": [
    {
     "data": {
      "text/plain": [
       "128"
      ]
     },
     "execution_count": 33,
     "metadata": {},
     "output_type": "execute_result"
    }
   ],
   "source": [
    "import hashlib\n",
    "Hash = hashlib.sha256()\n",
    "MaskHash = hashlib.sha1()\n",
    "message = b\"Hello  KM!\"\n",
    "L = b'seed'\n",
    "EM = EncodeOAEP(k, message, L, Hash, MaskHash)\n",
    "m = OS2IP(EM)\n",
    "c = Encrypt(m,(e,n))\n",
    "CipherText = I2OSP(c, k)\n",
    "len(CipherText)"
   ]
  },
  {
   "cell_type": "markdown",
   "id": "ae515b2a",
   "metadata": {
    "slideshow": {
     "slide_type": "subslide"
    }
   },
   "source": [
    "#### Боб расшифровывает сообщение при помощи пакета `cryptography`\n",
    "Для того чтобы пользоваться дополнением OAEP Бобу необходимо знать параметры дополнения:\n",
    "- Hash - функция хеширования, используемая в алгоритме OAEP;\n",
    "- MaskHash - функция хеширования, используемая в алгоритме OAEP;\n",
    "- Метку L.\n",
    "\n",
    "Отметим, что при дешифровании используются функции хеширования из модуля `hashes`, а при шифровании функции хеширования принадлежали пакету `hashlib`"
   ]
  },
  {
   "cell_type": "code",
   "execution_count": 34,
   "id": "ac8e39f2",
   "metadata": {
    "slideshow": {
     "slide_type": "-"
    }
   },
   "outputs": [
    {
     "name": "stdout",
     "output_type": "stream",
     "text": [
      "b'Hello  KM!'\n"
     ]
    },
    {
     "data": {
      "text/plain": [
       "True"
      ]
     },
     "execution_count": 34,
     "metadata": {},
     "output_type": "execute_result"
    }
   ],
   "source": [
    "from cryptography.hazmat.primitives.asymmetric import padding\n",
    "from cryptography.hazmat.primitives import hashes\n",
    "\n",
    "plaintext = private_key.decrypt(\n",
    "    CipherText,\n",
    "    padding.OAEP(\n",
    "        mgf=padding.MGF1(algorithm = hashes.SHA1()),\n",
    "        algorithm = hashes.SHA256(),\n",
    "        label=L\n",
    "    )\n",
    ")\n",
    "print(plaintext)\n",
    "plaintext == message"
   ]
  },
  {
   "cell_type": "markdown",
   "id": "6a9c04f9",
   "metadata": {
    "slideshow": {
     "slide_type": "subslide"
    }
   },
   "source": [
    "## Пакет `hashes`\n",
    "Вычислять дайджест можно и при помощи пакета `hashes`."
   ]
  },
  {
   "cell_type": "code",
   "execution_count": 35,
   "id": "01979660",
   "metadata": {
    "slideshow": {
     "slide_type": "-"
    }
   },
   "outputs": [
    {
     "name": "stdout",
     "output_type": "stream",
     "text": [
      "['__abstractmethods__', '__class__', '__delattr__', '__dict__', '__dir__', '__doc__', '__eq__', '__format__', '__ge__', '__getattribute__', '__gt__', '__hash__', '__init__', '__init_subclass__', '__le__', '__lt__', '__module__', '__ne__', '__new__', '__reduce__', '__reduce_ex__', '__repr__', '__setattr__', '__sizeof__', '__str__', '__subclasshook__', '__weakref__', '_abc_impl', 'algorithm', 'copy', 'finalize', 'update']\n"
     ]
    }
   ],
   "source": [
    "print(dir(hashes.Hash))"
   ]
  },
  {
   "cell_type": "code",
   "execution_count": 36,
   "id": "4b5fd6e8",
   "metadata": {
    "slideshow": {
     "slide_type": "-"
    }
   },
   "outputs": [
    {
     "name": "stdout",
     "output_type": "stream",
     "text": [
      "b'S.\\xaa\\xbd\\x95t\\x88\\r\\xbfv\\xb9\\xb8\\xcc\\x00\\x83, \\xa6\\xec\\x11=h\"\\x99U\\rzn\\x0f4^%'\n"
     ]
    },
    {
     "data": {
      "text/plain": [
       "True"
      ]
     },
     "execution_count": 36,
     "metadata": {},
     "output_type": "execute_result"
    }
   ],
   "source": [
    "h = hashes.Hash(hashes.SHA256())\n",
    "m = b'Test'\n",
    "h.update(m)\n",
    "digest = h.finalize()\n",
    "print(digest)\n",
    "hashlib.sha256(m).digest() == digest"
   ]
  },
  {
   "cell_type": "markdown",
   "id": "3fd18730",
   "metadata": {
    "slideshow": {
     "slide_type": "slide"
    }
   },
   "source": [
    "#  6. Декодирование сообщения методом OAEP\n",
    "\n",
    "![Для отображения картинки нужен интернет](https://drive.google.com/uc?export=view&id=1c0KMWiCd4p1i_uBMOW0hte_a4qIE9OEg)"
   ]
  },
  {
   "cell_type": "markdown",
   "id": "d5e41c09",
   "metadata": {
    "slideshow": {
     "slide_type": "subslide"
    }
   },
   "source": [
    "##  Дедирование сообщения методом OAEP\n",
    "**Decoding  RSAES-OAEP**  \n",
    "Options:  \n",
    "$\\qquad$ $Hash$ --  хеш-функция с длиной дайджеста $\\;hLen\\;$ байт;  \n",
    "$\\qquad$ $MGF$ -- функция генерации маски.\n",
    "\n",
    "Input:   \n",
    "$\\qquad k\\;$ -- количество байт в модуле $\\;n\\;$ шифра RSA.\n",
    "\n",
    "$\\qquad EM$ -- дополненное сообщение, состоящее из $\\;k\\;$ байт.\n",
    "\t\n",
    "$\\qquad L$ -- label, метка, строка байт.   \n",
    "$\\quad\\qquad$ Если $\\;L\\;$ не получена, то $L=\\{\\}.$\n",
    "\t\n",
    "Output:   \n",
    "$\\qquad$ $m$ --  сообщение."
   ]
  },
  {
   "cell_type": "markdown",
   "id": "d9b01ba9",
   "metadata": {
    "slideshow": {
     "slide_type": "subslide"
    }
   },
   "source": [
    "1$.$ Разделяем $\\;EM\\;$ на три переменные $\\;Y,\\;$  $\\;maskedSeed,\\;$ $\\;maskedDB\\;$ длин $\\;1, hLen, k-hLen-1,\\;$ соответственно\n",
    "$$  (Y, maskedSeed, maskedDB):=EM. $$\n",
    "\n",
    "2$.$ Снимая маску, находим росток\n",
    "$$\n",
    "seed:=maskedSeed\\oplus MSG(maskedDB,hLen).\n",
    "$$\n",
    "\n",
    "3$.$  Снимая маску, находим\n",
    "$$\n",
    "DB=maskedDB\\oplus MSG(seed,k-hLen-1).\n",
    "$$\n",
    "\n",
    "4$.$  Разделяем $\\;DB\\;$ на переменные $\\;LHash, PS, 1, m,\\;$ по правилу\n",
    "$$\n",
    "(LHash, PS, 1, m):=DB,\n",
    "$$\n",
    "$\\quad$ где $\\;LHash\\;$ длины $\\;hLen,\\;$\n",
    "\t\t\t\n",
    "$\\quad 1$ -- первая единица в $\\;DB,\\;$ начиная с позиции $\\;hLen,$ если такой единицы нет, то выдаем ошибку.\n",
    "\t\t\t\n",
    "5$.$ Если не выполнено хотя бы одно из условий:\n",
    "$$Y=0,\\quad LHash=Hash(L),\\quad  PS\\;\\; \\text{ состоит из нулей,}$$\n",
    "    то выдаем ошибку:  $\\;EM\\;$ не получено при помощи Encoding RSAES-OAEP.\n",
    "\t\t\t\n",
    "\t\t\t\n",
    "6$.$   Выдаем результат $\\;m.$"
   ]
  },
  {
   "cell_type": "markdown",
   "id": "1755adeb",
   "metadata": {
    "slideshow": {
     "slide_type": "skip"
    }
   },
   "source": [
    "# 7. Реализация RSA, используя ООП"
   ]
  },
  {
   "cell_type": "markdown",
   "id": "f0b635fd",
   "metadata": {
    "slideshow": {
     "slide_type": "skip"
    }
   },
   "source": [
    "## <font color='red'>Задание 4.</font>\n",
    "Реализовать класс PublicKey с методами шифрования, использующими PKCS и OAEP. Объект класса PublicKey генерируется по открытой экспоненте `e` и модулю `n`."
   ]
  },
  {
   "cell_type": "markdown",
   "id": "be748dee",
   "metadata": {
    "slideshow": {
     "slide_type": "skip"
    }
   },
   "source": [
    "## <font color='red'>Задание 5.</font>\n",
    "Реализовать класс PrivateKey с методами дешифрования, использующими PKCS и OAEP, с методом генерации открытого ключа в виде класса PublicKey. Дешифрование должно проходить при помощи Китайской теоремы об остатках. "
   ]
  },
  {
   "cell_type": "code",
   "execution_count": null,
   "id": "a6aa6f80",
   "metadata": {},
   "outputs": [],
   "source": []
  }
 ],
 "metadata": {
  "celltoolbar": "Необработанный формат ячейки",
  "kernelspec": {
   "display_name": "Python 3",
   "language": "python",
   "name": "python3"
  },
  "language_info": {
   "codemirror_mode": {
    "name": "ipython",
    "version": 3
   },
   "file_extension": ".py",
   "mimetype": "text/x-python",
   "name": "python",
   "nbconvert_exporter": "python",
   "pygments_lexer": "ipython3",
   "version": "3.8.8"
  }
 },
 "nbformat": 4,
 "nbformat_minor": 5
}
