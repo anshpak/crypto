{
 "cells": [
  {
   "cell_type": "markdown",
   "id": "d7600a20-4556-4537-9282-2528d558ef76",
   "metadata": {},
   "source": [
    "# Лабораторная работа 2\n",
    "# Тема 2. Генерация простых чисел"
   ]
  },
  {
   "cell_type": "markdown",
   "id": "6fbec090-720a-4eed-95c8-d795907b79de",
   "metadata": {},
   "source": [
    "# <font color='red'>Разбираю теоретическую  часть</font>"
   ]
  },
  {
   "cell_type": "markdown",
   "id": "20f5f0e3-6dfd-431c-95de-762fcd56039b",
   "metadata": {},
   "source": [
    "## Тестирование чисел на простоту"
   ]
  },
  {
   "cell_type": "markdown",
   "id": "16674c46-21e5-4ded-9f9b-3e7d973bb47d",
   "metadata": {},
   "source": [
    "### Метод пробных делений"
   ]
  },
  {
   "cell_type": "markdown",
   "id": "1aeed98a-163a-4251-afbf-d6eecded4474",
   "metadata": {},
   "source": [
    "#### Алгоритм"
   ]
  },
  {
   "cell_type": "markdown",
   "id": "c74f5da0-2789-499d-acda-73c8c53f8429",
   "metadata": {},
   "source": [
    "**Метод пробных делений.**  \n",
    "Input: $n\\in\\mathbb{N}.$  \n",
    "Output: $n$ -- простое?    \n",
    "1$.\\;\\; d:=2$  \n",
    "2$.\\;$ While $\\;d\\leq \\sqrt n$   \n",
    "$\\qquad$ If $\\;n = 0 \\mod d$  \n",
    "$\\qquad\\qquad$ Return False   \n",
    "$\\qquad$  $d:=d+1$    \n",
    "3$.\\;$ Return True"
   ]
  },
  {
   "cell_type": "markdown",
   "id": "66386fc5-4121-4339-bd98-07f039d70b20",
   "metadata": {},
   "source": [
    "#### Реализация"
   ]
  },
  {
   "cell_type": "code",
   "execution_count": 88,
   "id": "daae82e6-918d-454f-9f15-815642a78480",
   "metadata": {},
   "outputs": [
    {
     "data": {
      "text/plain": [
       "True"
      ]
     },
     "execution_count": 88,
     "metadata": {},
     "output_type": "execute_result"
    }
   ],
   "source": [
    "def TrialDivision(n):\n",
    "    # counter = 0\n",
    "    d = 2\n",
    "    while d <= n**0.5:\n",
    "        if n % d == 0:\n",
    "            return False\n",
    "        d += 1\n",
    "        # counter += 1\n",
    "    # return True, counter\n",
    "    return True\n",
    "\n",
    "n = 43\n",
    "TrialDivision(n)"
   ]
  },
  {
   "cell_type": "markdown",
   "id": "861ba990-61c6-4746-b1b3-dce802ec6837",
   "metadata": {},
   "source": [
    "#### Кол-во арифметических операций и временная сложность"
   ]
  },
  {
   "cell_type": "markdown",
   "id": "44bf6aad-3e20-4869-82dd-ab188aeb06c1",
   "metadata": {},
   "source": [
    "Если $n$ -- простое, то количество арифметических операций, выполняемых во время работы алгоритма, равно  $$f(n)=\\left[\\sqrt n\\right]-1=O\\left(n^{1/2}\\right).$$\n",
    "\n",
    "Поэтому для временной сложности алгоритма справедлива оценка\n",
    "$$\n",
    "  T(N):=\\max\\limits_{\\left<n\\right>\\leq N} f(n)=O\\left(2^{N/2}\\right).\n",
    "$$\n",
    "Метод пробных делений прост для понимания и реализации, но экспоненциален."
   ]
  },
  {
   "cell_type": "markdown",
   "id": "ca5147f9-7198-4224-b836-4cc398abf9c2",
   "metadata": {},
   "source": [
    "#### Замечания"
   ]
  },
  {
   "cell_type": "markdown",
   "id": "34a413d1-8c7b-4bfb-9b09-3cca953e6302",
   "metadata": {},
   "source": [
    "Вопрос: почему количество операций будет $\\left[\\sqrt n\\right] - 1?$\n",
    "\n",
    "Ответ: потому что проверка на простоту начинается не с единицы, а с двойки $d := 2$.\n",
    "\n",
    "Вопрос: почему алгоритм должен работать пока $d \\le \\sqrt n?$\n",
    "\n",
    "Ответ: потому что после $\\sqrt n$ будут встречаться те же самые множители числа $n$, что и до корня. А если множителей не нашлось, то и после корна их тем более не будет."
   ]
  },
  {
   "cell_type": "markdown",
   "id": "1ad2a515-c603-4c50-b0c0-abdcf8fbb140",
   "metadata": {},
   "source": [
    "### Проверка теорем"
   ]
  },
  {
   "cell_type": "markdown",
   "id": "d19ec2e9-6bf0-44b0-8484-495333380467",
   "metadata": {},
   "source": [
    "#### Кольцо вычетов из предыдущей лабораторной (но с ошибками при делении и разности)"
   ]
  },
  {
   "cell_type": "code",
   "execution_count": 89,
   "id": "120d9cef-50db-4a10-928d-76419956d19a",
   "metadata": {},
   "outputs": [],
   "source": [
    "class Ring:\n",
    "    def __init__(self, remainder, m):\n",
    "        self.remainder = remainder\n",
    "        self.mod = m\n",
    "\n",
    "    def __repr__(self):\n",
    "        return \"(%s)\" % (self.remainder)\n",
    "    \n",
    "    def __add__(self, other):\n",
    "        if isinstance(other, Ring):\n",
    "            return Ring((self.remainder + other.remainder) % self.mod, self.mod)\n",
    "        \n",
    "    def __sub__(self, other):\n",
    "        if isinstance(other, Ring):\n",
    "            return Ring((self.remainder - other.remainder) % self.mod, self.mod)\n",
    "        \n",
    "    def __mul__(self, other):\n",
    "        if isinstance(other, Ring):\n",
    "            return Ring((self.remainder * other.remainder) % self.mod, self.mod)\n",
    "        \n",
    "    def __truediv__(self, other):\n",
    "        if isinstance(other, Ring):\n",
    "            return Ring((self.remainder / other.remainder) % self.mod, self.mod)\n",
    "        \n",
    "    def __pow__(self, num):\n",
    "        return Ring(NewFastPower(self.remainder, num, self.mod), self.mod)\n",
    "        \n",
    "    def __neg__(self):\n",
    "        return Ring(reverse_elem(self.remainder, self.mod), self.mod)\n",
    "        \n",
    "    def __eq__(self, other):\n",
    "        if isinstance(other, Ring):\n",
    "            if self.remainder == other.remainder:\n",
    "                return True\n",
    "            else:\n",
    "                return False\n",
    "            \n",
    "def reverse_elem(a, b):\n",
    "    if a == b - 1:\n",
    "        return a % b\n",
    "    a_copy = a\n",
    "    b_copy = b\n",
    "    m11, m12 = 1, 0\n",
    "    m21, m22 = 0, 1\n",
    "    while b:\n",
    "        q = a // b\n",
    "        a, b = b, a % b\n",
    "        m11, m12 = m12, m11 - m12*q\n",
    "        m21, m22 = m22, m21 - m22*q\n",
    "    gcd = m11 * a_copy + m21 * b_copy\n",
    "    if gcd == 1:\n",
    "        return m11\n",
    "    else:\n",
    "        raise ValueError('base is not invertible for the given modulus')\n",
    "        \n",
    "# если я учитываю, что a - целое и, что есть проблема с единицей, то\n",
    "def NewFastPower(a, d, m):\n",
    "    b = abs(a)\n",
    "    if d == 1:\n",
    "        return b % m\n",
    "    bin_lst = [int(i) for i in bin(d)[3:]]\n",
    "    for elem in bin_lst:\n",
    "        b = (b ** 2) * (a ** elem) % m\n",
    "    return b"
   ]
  },
  {
   "cell_type": "markdown",
   "id": "cf52c6e7-9f20-4fdd-9394-a18b2f41d7a1",
   "metadata": {},
   "source": [
    "#### Проверяю выполнение теоремы Эйлера на конкретном примере"
   ]
  },
  {
   "cell_type": "markdown",
   "id": "356695c6-c9d4-475f-baa6-0a105d8091d8",
   "metadata": {},
   "source": [
    "##### Мультипликативная група кольца вычетов по модулю n"
   ]
  },
  {
   "cell_type": "markdown",
   "id": "3b38fe0b-91fb-4032-9933-bd838a1f7cc1",
   "metadata": {},
   "source": [
    "Пример из википедии: https://ru.wikipedia.org/wiki/%D0%9C%D1%83%D0%BB%D1%8C%D1%82%D0%B8%D0%BF%D0%BB%D0%B8%D0%BA%D0%B0%D1%82%D0%B8%D0%B2%D0%BD%D0%B0%D1%8F_%D0%B3%D1%80%D1%83%D0%BF%D0%BF%D0%B0_%D0%BA%D0%BE%D0%BB%D1%8C%D1%86%D0%B0_%D0%B2%D1%8B%D1%87%D0%B5%D1%82%D0%BE%D0%B2"
   ]
  },
  {
   "cell_type": "code",
   "execution_count": 90,
   "id": "48831245-5d5a-4c66-b51f-30b029e88f54",
   "metadata": {},
   "outputs": [
    {
     "data": {
      "text/plain": [
       "[(1), (5), (11), (13), (17), (19), (23), (25), (29), (31), (37), (41)]"
      ]
     },
     "execution_count": 90,
     "metadata": {},
     "output_type": "execute_result"
    }
   ],
   "source": [
    "n = 42\n",
    "Z_star_n = [Ring(1, 42), Ring(5, 42), Ring(11, 42), Ring(13, 42), Ring(17, 42), Ring(19, 42), Ring(23, 42), Ring(25, 42), Ring(29, 42), Ring(31, 42), Ring(37, 42), Ring(41, 42)]\n",
    "Z_star_n"
   ]
  },
  {
   "cell_type": "markdown",
   "id": "d422d0b7-90ad-4d4b-a62b-b9ea8e2288f1",
   "metadata": {},
   "source": [
    "##### Выполнение теоремы Эйлера"
   ]
  },
  {
   "cell_type": "markdown",
   "id": "446cd6c4-232c-430e-a3cc-3456420c7bce",
   "metadata": {},
   "source": [
    "**Теорема Эйлера**  \n",
    " Пусть $n$ натуральное число, не равное $1.$ Если\n",
    "   ${a\\in\\mathbb{Z}_n^*,}$ то\n",
    "    $$\n",
    "      {a^{\\varphi(n)}\\equiv1\\mod n.}\n",
    "    $$"
   ]
  },
  {
   "cell_type": "code",
   "execution_count": 91,
   "id": "705518c8-7bc3-4a66-ad01-f48275be9f03",
   "metadata": {},
   "outputs": [
    {
     "name": "stdout",
     "output_type": "stream",
     "text": [
      "59 (41)\n"
     ]
    },
    {
     "data": {
      "text/plain": [
       "True"
      ]
     },
     "execution_count": 91,
     "metadata": {},
     "output_type": "execute_result"
    }
   ],
   "source": [
    "import sympy # для использования реализации функйии Эйлера sympy.totient(n)\n",
    "import random\n",
    "main_natural_num = 100\n",
    "n1 = random.randint(1, main_natural_num) # случайное натуральное число от 1 до 100\n",
    "a = Ring((Z_star_n[random.randint(0, len(Z_star_n)) - 1]).remainder, n1) # случайный элемент из мультипликативной группы, но по модулю n1\n",
    "print(n1, a)\n",
    "((a ** sympy.totient(n1)).remainder) == (1 % n1)"
   ]
  },
  {
   "cell_type": "markdown",
   "id": "d05afa2c-a594-462e-8597-b6207a39bb38",
   "metadata": {},
   "source": [
    "#### Проверяю выполнение малой теоремы Ферма"
   ]
  },
  {
   "cell_type": "markdown",
   "id": "ff53bb5f-6148-4be6-b8dd-a75d2be85b75",
   "metadata": {},
   "source": [
    "##### Выполнение малой теоремы Ферма"
   ]
  },
  {
   "cell_type": "markdown",
   "id": "de0898e7-4cec-44db-8365-7a336c02f5d1",
   "metadata": {},
   "source": [
    "**Малая теорема Ферма**  \n",
    "Пусть $p$ -- простое число. Тогда для любого числа $a$\n",
    "    такого, что $0<a<p,$ справедливо сравнение\n",
    "    $$\n",
    "      a^{p-1}\\equiv 1\\mod p.\n",
    "    $$"
   ]
  },
  {
   "cell_type": "code",
   "execution_count": 95,
   "id": "4c3dca27-d039-4f96-9d29-30276b79338d",
   "metadata": {},
   "outputs": [
    {
     "name": "stdout",
     "output_type": "stream",
     "text": [
      "11 4\n"
     ]
    },
    {
     "data": {
      "text/plain": [
       "True"
      ]
     },
     "execution_count": 95,
     "metadata": {},
     "output_type": "execute_result"
    }
   ],
   "source": [
    "p = 11\n",
    "e = 1e-10\n",
    "a1 = random.randint(1, p - 1) # случайное натуральное число от из промежутка (0, p)\n",
    "print(p, a1)\n",
    "(NewFastPower(a1, p - 1, p)) == (1 % p)"
   ]
  },
  {
   "cell_type": "markdown",
   "id": "be0a98ad-de4b-4aa1-831e-01c63d9bf6d5",
   "metadata": {
    "slideshow": {
     "slide_type": "skip"
    }
   },
   "source": [
    "# <font color='red'>Задание 1.</font>\n",
    "\n",
    "Являются ли числа \n",
    "7957, 8321, 13747, 18721, 19951\n",
    "псевдопростыми по основанию 2?"
   ]
  },
  {
   "cell_type": "markdown",
   "id": "8696a6a9-bd58-479a-b417-51eb1d2e5121",
   "metadata": {},
   "source": [
    "## Материалы из лекции"
   ]
  },
  {
   "cell_type": "markdown",
   "id": "2e217ace-de0a-4098-8f66-e6289b33d0d2",
   "metadata": {
    "slideshow": {
     "slide_type": "fragment"
    }
   },
   "source": [
    "Нечётное составное число $n$ называется <font color='blue'>псевдопростым по основанию $a,$</font> $1<a<n,$ если  \n",
    " $$\n",
    " a^{n-1}\\equiv1\\mod n.\n",
    " $$"
   ]
  },
  {
   "cell_type": "markdown",
   "id": "6fb3bebc-bac2-44b8-bfba-48801017333b",
   "metadata": {
    "slideshow": {
     "slide_type": "-"
    }
   },
   "source": [
    "Наименьшим псевдопростым числом по основанию 2 является число $341=11\\times\n",
    "     31.$ \n",
    "     \n",
    "А по основанию 3 -- число 91. \n",
    "\n",
    "Наименьшим псевдопростым числом является первое нечётное составное число 9, оно псевдопростое по основанию 8\n",
    "     $$\n",
    "       8^{8}\\equiv((-1)^{2})^4\\equiv1^4\\equiv1\\mod 9.\n",
    "     $$"
   ]
  },
  {
   "cell_type": "code",
   "execution_count": 96,
   "id": "acbe99ca-7d8b-4ee7-aeff-636ae8ac67ee",
   "metadata": {},
   "outputs": [
    {
     "data": {
      "text/plain": [
       "True"
      ]
     },
     "execution_count": 96,
     "metadata": {},
     "output_type": "execute_result"
    }
   ],
   "source": [
    "(NewFastPower(2, 340, 341)) == (1 % p)"
   ]
  },
  {
   "cell_type": "markdown",
   "id": "8265e50a-adba-41a4-8c51-ef87c831a0b5",
   "metadata": {},
   "source": [
    "## Решение"
   ]
  },
  {
   "cell_type": "code",
   "execution_count": 97,
   "id": "ea3746a5-0eed-4e00-8b97-14832c4526cd",
   "metadata": {},
   "outputs": [
    {
     "name": "stdout",
     "output_type": "stream",
     "text": [
      "1\n",
      "1\n",
      "1\n",
      "1\n",
      "1\n"
     ]
    }
   ],
   "source": [
    "nums = (7957, 8321, 13747, 18721, 19951)\n",
    "for el in nums:\n",
    "    print(NewFastPower(2, el - 1, el))"
   ]
  },
  {
   "cell_type": "markdown",
   "id": "f7d7be48-2a6a-46f5-8570-a506ec13827f",
   "metadata": {},
   "source": [
    "Вывод: все числа из кортежа nums являются псевдопростыми."
   ]
  },
  {
   "cell_type": "markdown",
   "id": "5f4165d6-842f-4021-921a-fb80d84d5f68",
   "metadata": {
    "slideshow": {
     "slide_type": "skip"
    },
    "tags": []
   },
   "source": [
    "# <font color='red'>Задание 2.</font>\n",
    "\n",
    "Найти число Кармайкла, порядковый номер которого соответствует Вашему порядковому номеру в списке подгруппы."
   ]
  },
  {
   "cell_type": "markdown",
   "id": "34f26985-a7f1-45cc-a218-1aa56b2a6795",
   "metadata": {},
   "source": [
    "## Материалы из лекции"
   ]
  },
  {
   "cell_type": "markdown",
   "id": "ed8c97ff-9625-4e93-a38c-5fc468cfea48",
   "metadata": {
    "slideshow": {
     "slide_type": "subslide"
    }
   },
   "source": [
    "### Числа Кармайкла\n",
    "\n",
    "**Определение.**  \n",
    "Составное число $n\\in\\mathbb{N}$ называется <font color='blue'>числом Кармайкла</font>,     если для всех натуральных $a$  таких, что $1<a<n,$ $НОД(a,n)=1,$ справедливо     сравнение \n",
    "$$\n",
    "  a^{n-1}\\equiv1\\mod n.\n",
    "$$\n",
    "    \n",
    "**Пример.**  \n",
    " Наименьшим является 561,    далее идут 1105, 1729, 2465.\n",
    " \n",
    " Чисел Кармайкла бесконечно много."
   ]
  },
  {
   "cell_type": "markdown",
   "id": "47f07f2c-8e7d-4c87-9b22-10d4a9cf967e",
   "metadata": {},
   "source": [
    "## Вспомогательная функция"
   ]
  },
  {
   "cell_type": "code",
   "execution_count": 98,
   "id": "a8114b88-e53e-4a72-8a64-ee65b1bbc35f",
   "metadata": {},
   "outputs": [],
   "source": [
    "def gcd(a, b):\n",
    "    while b:\n",
    "        a, b = b, a % b\n",
    "    return a"
   ]
  },
  {
   "cell_type": "markdown",
   "id": "be7a2c88-0930-4ccd-877a-2839a4c9e5cb",
   "metadata": {},
   "source": [
    "## Решение"
   ]
  },
  {
   "cell_type": "code",
   "execution_count": 120,
   "id": "c91fbf32-ef01-44c5-8ab1-1a951f4fe4db",
   "metadata": {},
   "outputs": [],
   "source": [
    "def get_Carmichael_numbers(order):\n",
    "    n = 561\n",
    "    count = 0\n",
    "    while count != order:\n",
    "        gcd_lst = []\n",
    "        flag = True\n",
    "        for a in range(2, n):\n",
    "            if gcd(a, n) == 1:\n",
    "                gcd_lst += [a]\n",
    "        for el in gcd_lst:\n",
    "            if (NewFastPower(el, n - 1, n) != 1):\n",
    "                flag = False\n",
    "                break\n",
    "        if flag:\n",
    "            yield n\n",
    "            count += 1\n",
    "        n += 1"
   ]
  },
  {
   "cell_type": "code",
   "execution_count": 100,
   "id": "56a2fcf3-52d7-492a-9141-4563659118c1",
   "metadata": {},
   "outputs": [],
   "source": [
    "gen_obj = get_Carmichael_numbers(5)"
   ]
  },
  {
   "cell_type": "code",
   "execution_count": 101,
   "id": "04070329-b284-4b6f-8030-d4b668ee9364",
   "metadata": {},
   "outputs": [
    {
     "data": {
      "text/plain": [
       "[561, 563, 569, 571, 577]"
      ]
     },
     "execution_count": 101,
     "metadata": {},
     "output_type": "execute_result"
    }
   ],
   "source": [
    "[x for x in gen_obj]"
   ]
  },
  {
   "cell_type": "markdown",
   "id": "874b2e3c-8f14-42a7-9540-bb233383b8a9",
   "metadata": {
    "slideshow": {
     "slide_type": "skip"
    }
   },
   "source": [
    "# <font color='red'>Задание 3.</font>\n",
    "\n",
    "Оценить количество арифметических операций в Тесте Миллера-Рабина. Оценить временную сложность алгоритма. Является ли он полиномиальным?"
   ]
  },
  {
   "cell_type": "code",
   "execution_count": null,
   "id": "c8737ce6-ccc8-4c92-b281-943e27807e67",
   "metadata": {},
   "outputs": [],
   "source": []
  },
  {
   "cell_type": "markdown",
   "id": "ebc6e741-37df-4496-8175-fff01c34fe7b",
   "metadata": {
    "slideshow": {
     "slide_type": "skip"
    }
   },
   "source": [
    "# <font color='red'>Задание 4.</font>\n",
    "\n",
    "Используя Тесте Миллера-Рабина, написать функцию, которая генерирует случайное простое число, состоящее из $b$ бит. Проверить полученное число при помощи функции isprime(p) модуля sympy."
   ]
  },
  {
   "cell_type": "markdown",
   "id": "6bb7032d-6eaa-4da2-b042-742c280a67f4",
   "metadata": {},
   "source": [
    "## Решение"
   ]
  },
  {
   "cell_type": "code",
   "execution_count": 154,
   "id": "a5da1742-2b45-49dc-a875-8624c6ebfcdc",
   "metadata": {},
   "outputs": [],
   "source": [
    "def get_random_bits(b):\n",
    "    bin_num = [0] * b\n",
    "    bin_num[0] = 1\n",
    "    bin_num[-1] = 1\n",
    "    for i in range(1, b):\n",
    "        bin_num[i] = random.randint(0, 1)\n",
    "    return bin_num"
   ]
  },
  {
   "cell_type": "code",
   "execution_count": 155,
   "id": "241d8a6f-5662-483e-b3ef-5783f7e39b38",
   "metadata": {},
   "outputs": [
    {
     "data": {
      "text/plain": [
       "[1, 1, 1, 0, 1, 1]"
      ]
     },
     "execution_count": 155,
     "metadata": {},
     "output_type": "execute_result"
    }
   ],
   "source": [
    "get_random_bits(6)"
   ]
  },
  {
   "cell_type": "code",
   "execution_count": 184,
   "id": "4853fa8f-bc7d-4a8e-a77d-be371526afb3",
   "metadata": {},
   "outputs": [],
   "source": [
    "def get_num_from_bin(bin_num):\n",
    "    num = 0\n",
    "    i = len(bin_num) - 1\n",
    "    for bit in bin_num:\n",
    "        num +=  bit * (2 ** i)\n",
    "        i -= 1\n",
    "    return num"
   ]
  },
  {
   "cell_type": "code",
   "execution_count": 185,
   "id": "8f862013-92e6-4468-9f2b-e115716b2d9f",
   "metadata": {},
   "outputs": [
    {
     "name": "stdout",
     "output_type": "stream",
     "text": [
      "[1, 0, 1, 1, 1, 1]\n"
     ]
    },
    {
     "data": {
      "text/plain": [
       "47"
      ]
     },
     "execution_count": 185,
     "metadata": {},
     "output_type": "execute_result"
    }
   ],
   "source": [
    "n = get_random_bits(6)\n",
    "print(n)\n",
    "get_num_from_bin(n)"
   ]
  },
  {
   "cell_type": "code",
   "execution_count": null,
   "id": "0bb06a1a-56e1-4131-9084-13ef1b1ce45e",
   "metadata": {},
   "outputs": [],
   "source": []
  },
  {
   "cell_type": "code",
   "execution_count": null,
   "id": "32cbd4d3-80f6-476a-96d8-f6462f7536f9",
   "metadata": {},
   "outputs": [],
   "source": []
  },
  {
   "cell_type": "code",
   "execution_count": 179,
   "id": "f372d0ff-e26b-4ddd-b4b2-de6cce7713f3",
   "metadata": {},
   "outputs": [
    {
     "data": {
      "text/plain": [
       "(3, 1)"
      ]
     },
     "execution_count": 179,
     "metadata": {},
     "output_type": "execute_result"
    }
   ],
   "source": [
    "def st(n):\n",
    "    s = 0\n",
    "    t = n - 1\n",
    "    while t % 2 == 0:\n",
    "        s += 1\n",
    "        t = t // 2\n",
    "    return s, t\n",
    "st(9)"
   ]
  },
  {
   "cell_type": "code",
   "execution_count": 180,
   "id": "7b16a6e6-f6f3-4fda-a41c-38dbbadb9079",
   "metadata": {
    "slideshow": {
     "slide_type": "subslide"
    }
   },
   "outputs": [
    {
     "name": "stdout",
     "output_type": "stream",
     "text": [
      "True\n",
      "False\n",
      "True\n"
     ]
    }
   ],
   "source": [
    "def WitnessQ(a, n, s=0, t=0):\n",
    "    if n % 2 == 0:\n",
    "        return False\n",
    "    if s == 0:\n",
    "        s, t = st(n)    \n",
    "    if gcd(a,n) > 1:\n",
    "        return False\n",
    "    b = pow(a,t,n)\n",
    "    if b == 1 or b == n-1:\n",
    "        return True\n",
    "    for _ in range(1,s):\n",
    "        b = b**2 % n\n",
    "        if b == n-1:\n",
    "            return True\n",
    "    return False\n",
    "print(WitnessQ(2,7))\n",
    "print(WitnessQ(2,9))\n",
    "print(WitnessQ(8,9))"
   ]
  },
  {
   "cell_type": "code",
   "execution_count": 189,
   "id": "ab8130ac-46a1-4ee3-904b-e58b2f826b28",
   "metadata": {},
   "outputs": [],
   "source": [
    "from random import randint\n",
    "def MillerRabinTest(n, k = 10):\n",
    "    s,t = st(n)\n",
    "    for _ in range(k):\n",
    "        a = randint(2, n-1)\n",
    "        if not WitnessQ(a, n, s, t):\n",
    "            return False\n",
    "    return True"
   ]
  },
  {
   "cell_type": "code",
   "execution_count": null,
   "id": "16e55573-e113-45da-a328-95f8cad9e2e6",
   "metadata": {},
   "outputs": [],
   "source": []
  },
  {
   "cell_type": "code",
   "execution_count": null,
   "id": "069e579c-f65a-49e2-8365-37775a1c842a",
   "metadata": {},
   "outputs": [],
   "source": []
  },
  {
   "cell_type": "code",
   "execution_count": 190,
   "id": "b95d4b18-f3b5-4b59-903d-b41534abe15a",
   "metadata": {},
   "outputs": [],
   "source": [
    "def gen_Miller_Rabin_num(b, k = 10):\n",
    "    num = 0\n",
    "    while True:\n",
    "        bin_num = get_random_bits(b)\n",
    "        num = get_num_from_bin(bin_num)\n",
    "        s, t = st(num)\n",
    "        if MillerRabinTest(num, k):\n",
    "            break\n",
    "    return num"
   ]
  },
  {
   "cell_type": "code",
   "execution_count": 204,
   "id": "fced4e3e-c629-4a60-a973-1f26a28135aa",
   "metadata": {},
   "outputs": [
    {
     "name": "stdout",
     "output_type": "stream",
     "text": [
      "1217156702870409496771330653089\n"
     ]
    },
    {
     "data": {
      "text/plain": [
       "True"
      ]
     },
     "execution_count": 204,
     "metadata": {},
     "output_type": "execute_result"
    }
   ],
   "source": [
    "pr_num = gen_Miller_Rabin_num(100)\n",
    "print(pr_num)\n",
    "from sympy import isprime\n",
    "isprime(pr_num)"
   ]
  },
  {
   "cell_type": "code",
   "execution_count": null,
   "id": "c5abe4eb-9eca-41c9-9d61-3bd8948ec002",
   "metadata": {},
   "outputs": [],
   "source": []
  }
 ],
 "metadata": {
  "kernelspec": {
   "display_name": "Python 3 (ipykernel)",
   "language": "python",
   "name": "python3"
  },
  "language_info": {
   "codemirror_mode": {
    "name": "ipython",
    "version": 3
   },
   "file_extension": ".py",
   "mimetype": "text/x-python",
   "name": "python",
   "nbconvert_exporter": "python",
   "pygments_lexer": "ipython3",
   "version": "3.10.5"
  }
 },
 "nbformat": 4,
 "nbformat_minor": 5
}
