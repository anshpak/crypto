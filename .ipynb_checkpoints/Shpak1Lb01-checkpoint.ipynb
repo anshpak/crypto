{
 "cells": [
  {
   "cell_type": "markdown",
   "id": "e6be35af-7cb5-4d75-a4d7-baeb4bc4812b",
   "metadata": {},
   "source": [
    "# Лабораторная работа 1\n",
    "# Тема 1. Эффективные инструменты в кольце классов вычетов"
   ]
  },
  {
   "cell_type": "markdown",
   "id": "63bebf35-d971-4210-a67a-7a773dd21ea9",
   "metadata": {},
   "source": [
    "Шпак Андрей, 15.09.2022"
   ]
  },
  {
   "cell_type": "markdown",
   "id": "5bed2889-9093-4045-bcce-5db228e4e93c",
   "metadata": {
    "slideshow": {
     "slide_type": "subslide"
    }
   },
   "source": [
    "# <font color='red'>Задание 1.</font>\n",
    "\n",
    "Реализовать Быстрый алгоритм возведения в степень \"слева направо\". Оценить количество арифметических операций. Оценить временную сложность алгоритма. Является ли он полиномиальным? Сравнить фактическое время вычисления с функциями FastPower и pow."
   ]
  },
  {
   "cell_type": "markdown",
   "id": "3dc9bf47-42e3-44f3-9441-cd90b04171a9",
   "metadata": {},
   "source": [
    "## Реализация Быстрого алгоритма возведения в степень \"слева направо\"."
   ]
  },
  {
   "cell_type": "markdown",
   "id": "8277edf6-2118-4b2c-90f2-d77d1041be73",
   "metadata": {},
   "source": [
    "### Материалы из лекции"
   ]
  },
  {
   "cell_type": "markdown",
   "id": "c9f07708-5aa1-4ce0-aea1-56b1e98b6fda",
   "metadata": {
    "slideshow": {
     "slide_type": "subslide"
    }
   },
   "source": [
    "#### Еще раз алгоритм быстрого возведения в степень \"слева направо\"\n",
    "\n",
    "\n",
    "Пусть\n",
    "$$\n",
    "  d = d_02^k+d_12^{k-1}+\\dots+d_{k-1}2+d_k,\\qquad d_0=1.\n",
    "$$  \n",
    "Поэтому\n",
    "$$\n",
    "  a^d=a^{(\\dots((2d_0+d_1)2+d_2)2+\\dots+d_{k-1})2+d_k}.\n",
    "$$\n",
    "Вычисляя данную формулу \"слева направо\", получаем \n",
    "\n",
    "**Быстрый алгоритм возведения в степень \"слева направо\".**  \n",
    "Вход: $a\\in\\mathbb{Z},\\, d,m\\in\\mathbb{N}.$  \n",
    "Выход: $b\\in\\mathbb{Z},$ $\\qquad (0\\leq b<m,\\quad b\\equiv a^d\\mod m).$  \n",
    "1$.\\;\\; b:=a.$  \n",
    "2$.\\;$ Для $\\quad i:=1,2,\\dots,k\\quad$ вычисляем  \n",
    "    $\\qquad\\quad b:=b^2a^{d_i} \\mod m.$   \n",
    "3$.\\;$ Выдаем результат $b.$"
   ]
  },
  {
   "cell_type": "markdown",
   "id": "c97453f0-6488-4b0f-a03d-4a49be9cc6f4",
   "metadata": {},
   "source": [
    "#### Реализация быстрого алгоритма возведения в степень"
   ]
  },
  {
   "cell_type": "code",
   "execution_count": 72,
   "id": "41361459-e478-447c-bead-663d772583e6",
   "metadata": {},
   "outputs": [],
   "source": [
    "def FastPower(a, d, m):\n",
    "    b = 1\n",
    "    while d>0:\n",
    "        if d & 1:\n",
    "            b = b*a % m\n",
    "        a = a*a % m\n",
    "        d = d >> 1\n",
    "    return b"
   ]
  },
  {
   "cell_type": "markdown",
   "id": "e392aadf-5558-410f-bb8d-59c77e93769b",
   "metadata": {},
   "source": [
    "Если n - это степень двойки, $n = 2^k$, то для возведения в степень $n$ достаточно число возвести в квадрат $k$ раз, затратив при этом $k$ умножений вместо $2^k$\n",
    "\n",
    "Например:\n",
    "$n = 13 = 1101_2 = 1 * 2^3 + 1 * 2^2 + 0 * 2^1 + 1 * 2^0$\n",
    "\n",
    "$a^n = a^{13} = a^{a^8 + a^4 + a^1}$\n",
    "\n",
    "Количество умножений не проевосходит количество цифр в бинарном разложении числа $n$.\n",
    "\n",
    "Пример ещё один:\n",
    "\n",
    "$a^1 = a$\n",
    "\n",
    "$a^2 = a^1 * a^1$\n",
    "\n",
    "$a^4 = a^2 * a^2$\n",
    "\n",
    "$a^8 = a^4 * a^4$"
   ]
  },
  {
   "cell_type": "markdown",
   "id": "f7f11c19-c767-4ce9-a601-5dabad1b10ab",
   "metadata": {},
   "source": [
    "### Собственно, реализация Быстрого алгоритма возведения в степень \"слева направо\""
   ]
  },
  {
   "cell_type": "code",
   "execution_count": 73,
   "id": "04938c27-5697-4a4c-9964-4c43dc689be6",
   "metadata": {
    "tags": []
   },
   "outputs": [],
   "source": [
    "# Вопрос: Почему i начинается с 1?\n",
    "# Ответ: Потому что изначально b уже равняется a, то есть этап a ** 1 выполнен. \n",
    "\n",
    "# Вариант со сдвигами:\n",
    "def OldFastPower(a, d, m):\n",
    "    b = a\n",
    "    # стартовое значение b = a\n",
    "    i = d\n",
    "    # ввожу i, чтобы не изменять само d\n",
    "    ln = len(bin(d)) - 3\n",
    "    # чтобы не попадать в \"начало\" двоичного представления числа d и не трогать старший бит d_0 = 1\n",
    "    j = 1\n",
    "    while i > 1:\n",
    "        b = (b ** 2) * (a ** (d >> (ln - j) & 1)) % m\n",
    "        i = i >> 1\n",
    "        j += 1\n",
    "    return b\n",
    "\n",
    "# Вариант попроще\n",
    "def NewFastPower(a, d, m):\n",
    "    b = a\n",
    "    bin_lst = [int(i) for i in bin(d)[3:]]\n",
    "    for elem in bin_lst:\n",
    "        b = (b ** 2) * (a ** elem) % m\n",
    "    return b"
   ]
  },
  {
   "cell_type": "markdown",
   "id": "b639d880-bbb6-45c9-9125-3b246427a08a",
   "metadata": {},
   "source": [
    "### Как я разбирался со сдвигами"
   ]
  },
  {
   "cell_type": "code",
   "execution_count": 74,
   "id": "bae4bbc2-53bb-4934-b67f-877e2fb877cf",
   "metadata": {
    "tags": []
   },
   "outputs": [
    {
     "name": "stdout",
     "output_type": "stream",
     "text": [
      "0b101101011001\n"
     ]
    },
    {
     "data": {
      "text/plain": [
       "'101101011001'"
      ]
     },
     "execution_count": 74,
     "metadata": {},
     "output_type": "execute_result"
    }
   ],
   "source": [
    "# Тут я разбирался с тем, как работют побитовые сдвиги влево, вправо и побитовое и.\n",
    "print(bin(2905))\n",
    "len(bin(33))\n",
    "\n",
    "# Получаю первый нужный бит.\n",
    "2905 >> 11 & 1\n",
    "# Сдвиг влево на 1 разряд увеличивает целое положительное число вдвое.\n",
    "# Сдвиг вправо на 1  делит целое положительное число нацело на 2.\n",
    "# Операция побитовое & с единичкой вернет последний бит.\n",
    "\n",
    "# Длина, так как строковое представление содержит обозначение 0b.\n",
    "num = 2905\n",
    "ln = len(bin(num)) - 2\n",
    "\n",
    "# Пробую побитово получать строку - битовое представление числа num\n",
    "s = ''\n",
    "for i in range(ln):\n",
    "    s += str(num >> (ln - i - 1) & 1)\n",
    "s"
   ]
  },
  {
   "cell_type": "markdown",
   "id": "9cd51d63-842a-4210-8bd4-4eda2fdd0b9d",
   "metadata": {
    "tags": []
   },
   "source": [
    "### Тесты"
   ]
  },
  {
   "cell_type": "code",
   "execution_count": 75,
   "id": "eadd9f86-ec2e-4ad4-8060-2966bc213eaf",
   "metadata": {},
   "outputs": [
    {
     "name": "stdout",
     "output_type": "stream",
     "text": [
      "99 99 99 99\n",
      "5 5 5\n",
      "9099915 9099915 9099915\n",
      "4715 4715 4715\n"
     ]
    }
   ],
   "source": [
    "m = 131\n",
    "a = 11122233344\n",
    "d = 10**5\n",
    "print(OldFastPower(a, d, m), NewFastPower(a, d, m), FastPower(a, d, m), a**d % m)\n",
    "num, deg, mod = 245623, 2, 11\n",
    "print(NewFastPower(num, deg, mod), OldFastPower(num, deg, mod), num ** deg % mod)\n",
    "num, deg, mod = 61228935, 39025, 11111190\n",
    "print(NewFastPower(num, deg, mod), OldFastPower(num, deg, mod), num ** deg % mod)\n",
    "num, deg, mod = -534935, 3, 5555\n",
    "print(NewFastPower(num, deg, mod), OldFastPower(num, deg, mod), num ** deg % mod)"
   ]
  },
  {
   "cell_type": "markdown",
   "id": "223c8e4f-3e17-4507-a50c-a9c92914a02e",
   "metadata": {
    "tags": []
   },
   "source": [
    "### Проблемы с единицей"
   ]
  },
  {
   "cell_type": "code",
   "execution_count": 76,
   "id": "2cf890d4-057d-4c81-88c1-8d92e72c6dd0",
   "metadata": {},
   "outputs": [
    {
     "name": "stdout",
     "output_type": "stream",
     "text": [
      "Проблемы, если степень 1\n",
      "2\n",
      "2\n",
      "0\n"
     ]
    }
   ],
   "source": [
    "print('Проблемы, если степень 1')\n",
    "print(NewFastPower(2, 1, 2))\n",
    "print(OldFastPower(2, 1, 2))\n",
    "print(2 ** 1 % 2)"
   ]
  },
  {
   "cell_type": "code",
   "execution_count": 77,
   "id": "74053c89-6101-4159-8ecb-5edba333be01",
   "metadata": {},
   "outputs": [],
   "source": [
    "# если я учитываю, что a - целое и, что есть проблема с единицей, то\n",
    "def NewFastPower(a, d, m):\n",
    "    b = abs(a)\n",
    "    if d == 1:\n",
    "        return b % m\n",
    "    bin_lst = [int(i) for i in bin(d)[3:]]\n",
    "    for elem in bin_lst:\n",
    "        b = (b ** 2) * (a ** elem) % m\n",
    "    return b"
   ]
  },
  {
   "cell_type": "code",
   "execution_count": 78,
   "id": "0f372474-0002-414c-85fe-c79d0d9f0785",
   "metadata": {},
   "outputs": [
    {
     "name": "stdout",
     "output_type": "stream",
     "text": [
      "0\n",
      "2\n",
      "0\n"
     ]
    }
   ],
   "source": [
    "print(NewFastPower(2, 1, 2))\n",
    "print(OldFastPower(2, 1, 2))\n",
    "print(2 ** 1 % 2)"
   ]
  },
  {
   "cell_type": "markdown",
   "id": "86c8975d-a789-4eac-bcab-38d0241d208d",
   "metadata": {},
   "source": [
    "## Оценка количества арифметических операций"
   ]
  },
  {
   "cell_type": "markdown",
   "id": "9b21797f-a151-421d-aaae-af6a94fade83",
   "metadata": {},
   "source": [
    "На каждой итерации цикла Быстрого алгоритма возведения в степень \"слева направо\" выполняется 2 арифметических операции: умножение и вычисление остатка от деления, поэтому\n",
    "$$\n",
    "  f(a, d, m) = 2k.\n",
    "$$\n",
    "Возведение в степень арифметической операцией не считается (лекция)."
   ]
  },
  {
   "cell_type": "markdown",
   "id": "46b14e26-4465-433d-bfc9-380618b87d9c",
   "metadata": {},
   "source": [
    "## Оценка временной сложности работы алгоритма"
   ]
  },
  {
   "cell_type": "markdown",
   "id": "e43c0456-f9f8-45fd-a340-412f9de841ac",
   "metadata": {},
   "source": [
    "$$\n",
    "  \\left<d\\right>=k.\n",
    "$$\n",
    "$$\n",
    "  T(N):=\\max\\limits_{\\left<a,d,m\\right>\\leq N} f(a,d,m)\\leq \\max\\limits_{\\left<a,d,m\\right>\\leq N}2\\left<d\\right><СN.\n",
    "$$"
   ]
  },
  {
   "cell_type": "markdown",
   "id": "0061cd66-e79d-4bae-b69a-2a1ca4f5c812",
   "metadata": {},
   "source": [
    "## Сравнение фактического времени выполнения с функциями FastPower, pow"
   ]
  },
  {
   "cell_type": "code",
   "execution_count": 79,
   "id": "3b28130d-60bd-4d05-b3b9-5a025b2f32a8",
   "metadata": {},
   "outputs": [
    {
     "name": "stdout",
     "output_type": "stream",
     "text": [
      "NewFastPower:\n",
      "0.0 \n",
      "\n",
      "FastPower:\n",
      "0.000995635986328125 \n",
      "\n",
      "pow:\n",
      "0.0 \n",
      "\n"
     ]
    }
   ],
   "source": [
    "import time\n",
    "m = 131119345\n",
    "a = 11121192354233344\n",
    "d = 10**11\n",
    "\n",
    "print('NewFastPower:')\n",
    "st = time.time()\n",
    "NewFastPower(a, d, m)\n",
    "print(time.time() - st, '\\n')\n",
    "\n",
    "print('FastPower:')\n",
    "st = time.time()\n",
    "FastPower(a, d, m)\n",
    "print(time.time() - st, '\\n')\n",
    "\n",
    "print('pow:')\n",
    "st = time.time()\n",
    "pow(a, d, m)\n",
    "print(time.time() - st, '\\n')"
   ]
  },
  {
   "cell_type": "markdown",
   "id": "6842b331-b46d-4075-8563-55ee88f305af",
   "metadata": {
    "slideshow": {
     "slide_type": "subslide"
    }
   },
   "source": [
    "# <font color='red'>Задание 2.</font>\n",
    "\n",
    "При помощи Расширенного алгоритма Евклида найти обратные к элементам $a,b\\in\\mathbb{Z}_m.$ Проверить результат. Сравнить с функцией `pow(a,-1,m)`. Оценить количество арифметических операций в Расширенном алгоритме Евклида. Оценить временную сложность алгоритма. Является ли он полиномиальным?"
   ]
  },
  {
   "cell_type": "code",
   "execution_count": 80,
   "id": "800c87e1-9864-48a3-b0da-dfc108e7f665",
   "metadata": {
    "slideshow": {
     "slide_type": "fragment"
    }
   },
   "outputs": [],
   "source": [
    "m = 42530430997171493050900585519445269701954006270353944787367883\n",
    "a = -949014432282168334172\n",
    "b = 2847043296846505002513"
   ]
  },
  {
   "cell_type": "markdown",
   "id": "c1ac98b9-89a5-4e7d-bb28-7851210a3dc8",
   "metadata": {},
   "source": [
    "## Реализация поиска обратного элемента при помощи Расширенного алгоритма Евклида"
   ]
  },
  {
   "cell_type": "markdown",
   "id": "fba97b45-f8c4-40f5-a045-5c549fd5d841",
   "metadata": {},
   "source": [
    "### Материалы из лекции"
   ]
  },
  {
   "cell_type": "markdown",
   "id": "112044be-6c9f-4790-9d5d-c8c5d4857c08",
   "metadata": {
    "slideshow": {
     "slide_type": "subslide"
    }
   },
   "source": [
    "#### Еще раз про вычисление обратного элемента\n",
    "В кольце $\\mathbb{Z}_m$ достаточно часто необходимо находить обратные относительно умножения элементы: $\n",
    "  a*a^{-1}=1.\n",
    "$\n",
    "\n",
    "При помощи Расширенного алгоритма Евклида находим\n",
    "$$\n",
    "  u*a + v*m = НОД(a,m).\n",
    "$$\n",
    "Если $НОД(a,m)=1,$  то\n",
    "$$\n",
    "  u*a=1-v* m\\equiv 1\\mod m.\n",
    "$$\n",
    "Поэтому $a^{-1}=v.$ \n",
    "\n",
    "Можно доказать, что если $НОД(a,m)>1,$ то обратного элемента для $a$ в $\\mathbb{Z}_m$ не существует."
   ]
  },
  {
   "cell_type": "markdown",
   "id": "62b9997f-8b0c-4c7e-9a2f-24a1fa72b88a",
   "metadata": {},
   "source": [
    "#### Алгоритм Евклида"
   ]
  },
  {
   "cell_type": "markdown",
   "id": "94a9aa97-5b35-4059-a6e5-6ff5c6334761",
   "metadata": {},
   "source": [
    "Вспоминаю на примере:\n",
    "$$45 = 16 * 2 + 13$$\n",
    "$$a = b * q1 + r1$$\n",
    "$$16 = 13 * 1 + 3$$\n",
    "$$b = r1 * q2 + r2$$\n",
    "$$13 = 3 * 4 + 1$$\n",
    "$$r1 = r2 * q3 + r3$$\n",
    "$$3 = 1 * 3 + 0$$\n",
    "$$r2 = r3 * q3 + r4$$\n",
    "$$r4 = 0$$\n",
    "$$r3$$"
   ]
  },
  {
   "cell_type": "markdown",
   "id": "fab3a9ae-daf1-4529-8354-cb757c8e0e68",
   "metadata": {},
   "source": [
    "#### Расширенный алгоритм Евклида"
   ]
  },
  {
   "cell_type": "markdown",
   "id": "0c4cf3b0-2882-4f4d-b444-3fa15c664261",
   "metadata": {},
   "source": [
    "На примере:\n",
    "$$a = 45; \\qquad b = 16$$\n",
    "$$45 = 16*2 + 13$$\n",
    "$$a = b*q1 + r1$$\n",
    "$$a = 16; \\qquad b = 13; \\qquad M=\\begin{pmatrix} 0 & 1 \\\\ 1 & -2\\end{pmatrix}$$\n",
    "$$16 = 13*1 + 3$$\n",
    "$$b = r1*q2 + r2$$\n",
    "$$a = 13; \\qquad b = 3; \\qquad M=\\begin{pmatrix} 1 & -1 \\\\ -2 & 3\\end{pmatrix}$$\n",
    "$$13 = 3*4 + 1$$\n",
    "$$r1 = r2*q3 + r3$$\n",
    "$$a = 3; \\qquad b = 1; \\qquad M = \\begin{pmatrix} -1 & 5 \\\\ 3 & -14\\end{pmatrix}$$\n",
    "$$3 = 1 * 3 + 0$$\n",
    "$$r2 = r3*q4 + r4$$\n",
    "$$r4 = 0; \\qquad M = \\begin{pmatrix} 5 & -16 \\\\ -14 & 45\\end{pmatrix}$$\n",
    "$$r3 = 1 = НОД(45, 16)$$\n",
    "$$5*45 + (-14)*16 = 1$$"
   ]
  },
  {
   "cell_type": "markdown",
   "id": "972e1673-94a4-4085-a868-5acfcec211a3",
   "metadata": {},
   "source": [
    "### Сама реализация поиска обратного элемента"
   ]
  },
  {
   "cell_type": "code",
   "execution_count": 81,
   "id": "96a9cbe7-997b-4474-b84b-b9ea62a4e10f",
   "metadata": {},
   "outputs": [],
   "source": [
    "def reverse_elem(a, b):\n",
    "    if a == b - 1:\n",
    "        return a % b\n",
    "    a_copy = a\n",
    "    b_copy = b\n",
    "    m11, m12 = 1, 0\n",
    "    m21, m22 = 0, 1\n",
    "    while b:\n",
    "        q = a // b\n",
    "        a, b = b, a % b\n",
    "        m11, m12 = m12, m11 - m12*q\n",
    "        m21, m22 = m22, m21 - m22*q\n",
    "    gcd = m11 * a_copy + m21 * b_copy\n",
    "    if gcd == 1:\n",
    "        return m11\n",
    "    else:\n",
    "        raise ValueError('base is not invertible for the given modulus')"
   ]
  },
  {
   "cell_type": "markdown",
   "id": "de418f03-7d27-45a5-9120-b85a906b464e",
   "metadata": {},
   "source": [
    "## Проверка результата"
   ]
  },
  {
   "cell_type": "code",
   "execution_count": 82,
   "id": "a2206f78-652f-410c-9e1f-fec41607fd73",
   "metadata": {},
   "outputs": [
    {
     "name": "stdout",
     "output_type": "stream",
     "text": [
      "5 5\n",
      "5760015108553103353761330938423529954070592368675905375141312\n",
      "5760015108553103353761330938423529954070592368675905375141312\n"
     ]
    }
   ],
   "source": [
    "print(reverse_elem(45, 16), pow(45, -1, 16))\n",
    "print(reverse_elem(a, m))\n",
    "print(pow(a, -1, m))"
   ]
  },
  {
   "cell_type": "code",
   "execution_count": 83,
   "id": "48b31dc5-5a84-4b50-905c-399d42973ffe",
   "metadata": {},
   "outputs": [
    {
     "ename": "ValueError",
     "evalue": "base is not invertible for the given modulus",
     "output_type": "error",
     "traceback": [
      "\u001b[1;31m---------------------------------------------------------------------------\u001b[0m",
      "\u001b[1;31mValueError\u001b[0m                                Traceback (most recent call last)",
      "Input \u001b[1;32mIn [83]\u001b[0m, in \u001b[0;36m<cell line: 1>\u001b[1;34m()\u001b[0m\n\u001b[1;32m----> 1\u001b[0m \u001b[43mreverse_elem\u001b[49m\u001b[43m(\u001b[49m\u001b[43mb\u001b[49m\u001b[43m,\u001b[49m\u001b[43m \u001b[49m\u001b[43mm\u001b[49m\u001b[43m)\u001b[49m\n",
      "Input \u001b[1;32mIn [81]\u001b[0m, in \u001b[0;36mreverse_elem\u001b[1;34m(a, b)\u001b[0m\n\u001b[0;32m     15\u001b[0m     \u001b[38;5;28;01mreturn\u001b[39;00m m11\n\u001b[0;32m     16\u001b[0m \u001b[38;5;28;01melse\u001b[39;00m:\n\u001b[1;32m---> 17\u001b[0m     \u001b[38;5;28;01mraise\u001b[39;00m \u001b[38;5;167;01mValueError\u001b[39;00m(\u001b[38;5;124m'\u001b[39m\u001b[38;5;124mbase is not invertible for the given modulus\u001b[39m\u001b[38;5;124m'\u001b[39m)\n",
      "\u001b[1;31mValueError\u001b[0m: base is not invertible for the given modulus"
     ]
    }
   ],
   "source": [
    "reverse_elem(b, m)"
   ]
  },
  {
   "cell_type": "code",
   "execution_count": 84,
   "id": "543f4248-95e6-45c5-88c6-f589133a24c3",
   "metadata": {},
   "outputs": [
    {
     "ename": "ValueError",
     "evalue": "base is not invertible for the given modulus",
     "output_type": "error",
     "traceback": [
      "\u001b[1;31m---------------------------------------------------------------------------\u001b[0m",
      "\u001b[1;31mValueError\u001b[0m                                Traceback (most recent call last)",
      "Input \u001b[1;32mIn [84]\u001b[0m, in \u001b[0;36m<cell line: 1>\u001b[1;34m()\u001b[0m\n\u001b[1;32m----> 1\u001b[0m \u001b[38;5;28;43mpow\u001b[39;49m\u001b[43m(\u001b[49m\u001b[43mb\u001b[49m\u001b[43m,\u001b[49m\u001b[43m \u001b[49m\u001b[38;5;241;43m-\u001b[39;49m\u001b[38;5;241;43m1\u001b[39;49m\u001b[43m,\u001b[49m\u001b[43m \u001b[49m\u001b[43mm\u001b[49m\u001b[43m)\u001b[49m\n",
      "\u001b[1;31mValueError\u001b[0m: base is not invertible for the given modulus"
     ]
    }
   ],
   "source": [
    "pow(b, -1, m)"
   ]
  },
  {
   "cell_type": "markdown",
   "id": "47ccd3f4-7299-4562-87bf-59a5fe1eeff6",
   "metadata": {},
   "source": [
    "## Оценка количества арифметических операций"
   ]
  },
  {
   "cell_type": "markdown",
   "id": "b284559f-1a05-4747-b4c5-580774075374",
   "metadata": {},
   "source": [
    "В лекционном материале рассматривалась оценка количества остатков, вне зависимости от числа операций. Полагаю, что и в случае с использованием Расширенного алгоритма Евклида подход не изменяется, поэтому, сначала даю оценку количества итераций при $i = k$:\n",
    "$$\n",
    "G^{k-1}\\leq r_{0}=b<2^{\\left<b\\right>}.\n",
    "$$\n",
    "\n",
    "$$\n",
    "    (k-1)\\log_2G<\\left<b\\right>,\\qquad k<\\frac{\\left<b\\right>}{\\log_2G}+1.\n",
    "$$\n",
    "А затем утверждаю, что Расширенный алгоритм Евклида выполняет следующее количество арифметических операций\n",
    "$$\n",
    "  f(a, b) = k.\n",
    "$$"
   ]
  },
  {
   "cell_type": "markdown",
   "id": "992320cf-8aa2-4625-95c5-983b87797e10",
   "metadata": {},
   "source": [
    "## Оценка временной сложности работы алгоритма"
   ]
  },
  {
   "cell_type": "markdown",
   "id": "1c36cf4f-b5fa-4572-8353-ed6130b31e0d",
   "metadata": {},
   "source": [
    "Для временной сложности справедлива оценка\n",
    "$$\n",
    "T(N):=\\max\\limits_{\\left<a,b\\right>\\leq N} f(a,b)< \\frac{N}{\\log_2G}+1\n",
    "$$"
   ]
  },
  {
   "cell_type": "markdown",
   "id": "09c182ac-4f38-4b4f-88e5-c3f787680159",
   "metadata": {},
   "source": [
    "## Расширенный алгоритм Евклида полиномиален"
   ]
  },
  {
   "cell_type": "markdown",
   "id": "2b4e1caf-1509-419e-bc9a-f8a10a11672b",
   "metadata": {
    "slideshow": {
     "slide_type": "subslide"
    }
   },
   "source": [
    "Видно, что, временная сложность расширенного алгоритма Евклида ограничена многочленом $\\dfrac{N}{\\log_2G}+1$, а длина чисел, участвующих в вычислениях алгоритма, ограничена $ k<\\dfrac{\\left<b\\right>}{\\log_2G}+1.$"
   ]
  },
  {
   "cell_type": "markdown",
   "id": "ba2b7550-26f7-4efb-b68f-169671eeee08",
   "metadata": {
    "slideshow": {
     "slide_type": "subslide"
    }
   },
   "source": [
    "# <font color='red'>Задание 3.</font>\n",
    "Реализовать Алгоритм переполнения памяти умножением. Быстро ли работает данный алгоритм? Сколько арифметических операций выполняет данный алгоритм? Чему равна T(N)? Является ли он полиномиальным? "
   ]
  },
  {
   "cell_type": "markdown",
   "id": "56fe3c4f-2e54-4a4e-be39-49fd88136e2c",
   "metadata": {},
   "source": [
    "## Реализация Алгоритма переполнения памяти умножением"
   ]
  },
  {
   "cell_type": "markdown",
   "id": "18c7ab54-4234-48ea-a32a-fcd47aa13f81",
   "metadata": {
    "tags": []
   },
   "source": [
    "### Материалы из лекции"
   ]
  },
  {
   "cell_type": "markdown",
   "id": "b0407238-44ac-4a25-bd77-70e6a6704471",
   "metadata": {},
   "source": [
    "#### Еще раз про Алгоритм переполнения памяти умножением"
   ]
  },
  {
   "cell_type": "markdown",
   "id": "313c6037-05a5-4a8d-a24c-8dd2f9d9cbd4",
   "metadata": {
    "slideshow": {
     "slide_type": "slide"
    }
   },
   "source": [
    "\"Модернизируем\" Наивный алгоритм возведения в степень. Теперь не будем вычислять остаток от деления.\n",
    "\n",
    "**Алгоритм переполнения памяти умножением.**  \n",
    "Вход: $n\\in\\mathbb{N}.$  \n",
    "Выход: $2^{2^{[\\log_2n]+1}}.$\n",
    "1. Инициализируем переменную $a = 2.$\n",
    "2. Для $i:=1,2,\\dots,$ floor$(\\log_2n)+1\\;$ вычисляем $a:=a*a.$\n",
    "3. Выдаем результат  $a.$\n"
   ]
  },
  {
   "cell_type": "markdown",
   "id": "9b7e8421-39c8-4430-a4e2-6fea31e3bce9",
   "metadata": {},
   "source": [
    "### Сама реализация алгоритма переполнения памяти умножением"
   ]
  },
  {
   "cell_type": "code",
   "execution_count": 85,
   "id": "08552157-3cf8-43d8-ad23-bce459eb432b",
   "metadata": {},
   "outputs": [],
   "source": [
    "import math\n",
    "\n",
    "def multiplication_memory_overflow(n):\n",
    "    a = 2\n",
    "    edge = math.floor(math.log(n, 2)) + 1\n",
    "    for i in range(edge):\n",
    "        a *= a\n",
    "    return a"
   ]
  },
  {
   "cell_type": "markdown",
   "id": "ade7a7f5-dff8-4bd8-af90-dbc81ca36bba",
   "metadata": {},
   "source": [
    "### Проверка"
   ]
  },
  {
   "cell_type": "code",
   "execution_count": 86,
   "id": "59a8ddf1-3018-4029-8498-e282e3e0ba22",
   "metadata": {},
   "outputs": [
    {
     "name": "stdout",
     "output_type": "stream",
     "text": [
      "18446744073709551616\n",
      "18446744073709551616\n"
     ]
    }
   ],
   "source": [
    "num = 50\n",
    "print(multiplication_memory_overflow(num))\n",
    "print(pow(2, pow(2, math.floor(math.log(num, 2)) + 1)))"
   ]
  },
  {
   "cell_type": "markdown",
   "id": "438fdae0-f798-4f6d-9410-3b4e3467f153",
   "metadata": {},
   "source": [
    "## Алгоритм переполнения памяти умножением экспоненциален (ИЗ ЛЕКЦИИ)"
   ]
  },
  {
   "cell_type": "markdown",
   "id": "0b6e1c37-45d2-4c7c-94f0-2d4b7f7569a1",
   "metadata": {
    "slideshow": {
     "slide_type": "subslide"
    }
   },
   "source": [
    "Подсчитаем количество арифметических операций, которые выполняются при работе Алгоритма переполнения памяти умножением\n",
    "$$\n",
    "  f(n)=floor(log_2𝑛)+1=\\left<n\\right>.\n",
    "$$\n",
    "Найдем временную сложность\n",
    "$$\n",
    "  T(N):=\\max\\limits_{\\left<n\\right>\\leq N} f(n) = N.\n",
    "$$\n",
    "Функция $T(N)=N$ линейная, поэтому на первый взгляд кажется, что и Алгоритм переполнения памяти умножением также линеен. Но напомним точное определение полиномиального алгоритма:"
   ]
  },
  {
   "cell_type": "markdown",
   "id": "cc54609f-71cf-45e5-8a42-6abe24a018cd",
   "metadata": {
    "slideshow": {
     "slide_type": "fragment"
    }
   },
   "source": [
    "Алгоритм $A$ с входными данными $n$ называется *полиномиальным*, если его временная сложность $T(N)$ ограничена многочленом $p(N),$ **а длина чисел, участвующих в вычислениях алгоритма, ограничена полиномом  $p(\\left<n\\right>).$** "
   ]
  },
  {
   "cell_type": "markdown",
   "id": "b3ec30db-cd8f-4516-a968-02691f521cba",
   "metadata": {
    "slideshow": {
     "slide_type": "fragment"
    }
   },
   "source": [
    "Результатом алгоритма является число $2^{2^{\\left<n\\right>}}.$ Найдем его длинну\n",
    "$$\n",
    "  \\left<2^{2^{\\left<n\\right>}}\\right>=\\lceil\\log_2(2^{2^{\\left<n\\right>}}+1)\\rceil=2^{\\left<n\\right>}+1.\n",
    "$$\n",
    "Очевидно, что длина чисел, участвующих в вычислениях алгоритма,  выражается через экспоненту от длины входных данных и не может быть ограничена полиномом от $\\left<n\\right>.$ Поэтому алгоритм не является полиномиальным."
   ]
  },
  {
   "cell_type": "markdown",
   "id": "ffb35a46-a281-443c-ab0e-3d862f0d87ff",
   "metadata": {},
   "source": [
    "Такой алгоритм не является быстрым. https://habr.com/ru/company/vdsina/blog/544218/"
   ]
  },
  {
   "cell_type": "markdown",
   "id": "a51d10d1-fa90-4e39-baf3-e8b1392a5f07",
   "metadata": {},
   "source": [
    "# <font color='red'>Задание 4.</font>"
   ]
  },
  {
   "cell_type": "markdown",
   "id": "f9389cd0-fbb1-48bb-99bf-33dd4263490c",
   "metadata": {
    "slideshow": {
     "slide_type": "slide"
    }
   },
   "source": [
    "Пусть временная сложность алгоритма $A_1$ имеет вид \n",
    "$$T_1(N)=2^N,$$ \n",
    "а алгоритма $A_2$ \n",
    "$$T_2(N)=N.$$\n",
    "Пусть за один час работы компьютера $C_1$ можно выполнить алгоритм $A_1$ с длиной входных данных $N_1,$ а алгоритм $A_2$  с длиной входных данных $N_2.$  С какой длиной данных можно за 1 час выполнить алгоритмы $A_1$  и $A_2$ на компьютере $C_2$, производительность которого в два раза больше, чем $C_1$?  \n",
    "\n",
    "В данной задаче считать, что все арифметические операции алгоритмов выполняются за одинаковое время, хоть в жизни это и не так, потому что с ростом входных данных приходиться проводить арифметические операции над числами большей длины."
   ]
  },
  {
   "cell_type": "markdown",
   "id": "3023ef09-e410-4227-ae7c-ccb980f33abf",
   "metadata": {},
   "source": [
    "## Решение"
   ]
  },
  {
   "cell_type": "markdown",
   "id": "68de865b-1177-4488-91a3-cae216248f07",
   "metadata": {},
   "source": [
    "Количество операций не меняется, временная сложность тоже. Ничего лучше, чем указать, что за час на компьютере $C_2$ алгоритмы A1 и A2 могут работать с длинной данных $2N_1$ и $2^{N_2 + 1}$ соответственно. "
   ]
  },
  {
   "cell_type": "markdown",
   "id": "c925c64c-e368-48ac-863c-d7004999c4e8",
   "metadata": {
    "slideshow": {
     "slide_type": "slide"
    },
    "tags": []
   },
   "source": [
    "# <font color='red'>Задание 5.</font>\n",
    "\n",
    "Выполнить компьютерное моделилорание кольца вычетов средствами ООП, перегрузив операторы `__add__, __sub__, __mul__, __truediv__, __pow__, __neg__.` Реализовать `__repr__, __eq__`. Проверить, обладает ли построенная модель свойствами:\n",
    "1. $(\\mathbb{Z}_m,+)$ - абелева группа:  \n",
    "    1.1. Коммутативность сложения  \n",
    "    $\\qquad\\qquad\n",
    "      a + b = b + a.\n",
    "    $  \n",
    "    1.2. Ассоциативность сложения  \n",
    "    $\\qquad\\qquad\n",
    "      a + (b + с) = a + (b + c).\n",
    "    $  \n",
    "    1.3. Существование нейтрального элемента относительно сложения  \n",
    "    $\\qquad\\qquad\n",
    "      \\exists0\\in R \\quad(a+0= 0+a = a).\n",
    "    $  \n",
    "    1.4. Существование противоположного элемента относительно сложения  \n",
    "    $\\qquad\\qquad\n",
    "      \\forall a\\in R\\quad\\exists b\\in R \\quad(a+b= b+a = 0).\n",
    "    $\n",
    "2. Ассоциативность умножения      \n",
    "    $\\qquad\\qquad\n",
    "      a * (b * с) = a * (b * c).\n",
    "    $ \n",
    "3. Дистрибутивность    \n",
    "$\\qquad\\qquad\n",
    "  a*(b+c)=a*b+a*c\\quad и\\quad (b+c)*a=b*a+c*a.\n",
    "$\n",
    "4. Коммутативность умножения  \n",
    "    $\\qquad\\qquad\n",
    "      a * b = b * a.\n",
    "    $  \n",
    "5. Существование нейтрального элемента относительно умножения  \n",
    "    $\\qquad\\qquad\n",
    "      \\exists1\\in R \\quad(1*a= a*1 = a).\n",
    "    $  \n",
    "\n",
    "6. Существование обратного элемента для ненулевых элементов  \n",
    "$\\qquad\\qquad\n",
    "      \\forall a\\in R\\setminus \\{0\\} \\quad\\exists a^{-1}\\in R \\quad(a*a^{-1}= 1).\n",
    "$"
   ]
  },
  {
   "cell_type": "markdown",
   "id": "05804166-a765-4e46-a303-215fe80c5ae1",
   "metadata": {},
   "source": [
    "## Реализация класса"
   ]
  },
  {
   "cell_type": "code",
   "execution_count": 87,
   "id": "5733231d-7211-4526-9c06-3f912c0b160a",
   "metadata": {},
   "outputs": [],
   "source": [
    "class Ring:\n",
    "    def __init__(self, remainder, m):\n",
    "        self.remainder = remainder\n",
    "        self.mod = m\n",
    "\n",
    "    def __repr__(self):\n",
    "        return \"(%s)\" % (self.remainder)\n",
    "    \n",
    "    def __add__(self, other):\n",
    "        if isinstance(other, Ring):\n",
    "            return Ring((self.remainder + other.remainder) % self.mod, self.mod)\n",
    "        \n",
    "    def __sub__(self, other):\n",
    "        if isinstance(other, Ring):\n",
    "            return Ring((self.remainder - other.remainder) % self.mod, self.mod)\n",
    "        \n",
    "    def __mul__(self, other):\n",
    "        if isinstance(other, Ring):\n",
    "            return Ring((self.remainder * other.remainder) % self.mod, self.mod)\n",
    "        \n",
    "    def __truediv__(self, other):\n",
    "        if isinstance(other, Ring):\n",
    "            return Ring((self.remainder / other.remainder) % self.mod, self.mod)\n",
    "        \n",
    "    def __pow__(self, num):\n",
    "        return Ring(NewFastPower(self.remainder, num, self.mod), self.mod)\n",
    "        \n",
    "    def __neg__(self):\n",
    "        return Ring(reverse_elem(self.remainder, self.mod), self.mod)\n",
    "        \n",
    "    def __eq__(self, other):\n",
    "        if isinstance(other, Ring):\n",
    "            if self.remainder == other.remainder:\n",
    "                return True\n",
    "            else:\n",
    "                return False"
   ]
  },
  {
   "cell_type": "markdown",
   "id": "7287021a-c43f-49ac-a53c-666b62b2554f",
   "metadata": {},
   "source": [
    "## Пробую работать с экземплярами классов"
   ]
  },
  {
   "cell_type": "code",
   "execution_count": 103,
   "id": "ce60aec8-c3c9-420d-8fca-ff32ea673cea",
   "metadata": {},
   "outputs": [],
   "source": [
    "a = Ring(0, 3)\n",
    "b = Ring(1, 3)\n",
    "c = Ring(2, 3)"
   ]
  },
  {
   "cell_type": "code",
   "execution_count": 89,
   "id": "669bfdec-efdc-404a-928d-68c0c12ecb65",
   "metadata": {},
   "outputs": [
    {
     "data": {
      "text/plain": [
       "(2)"
      ]
     },
     "execution_count": 89,
     "metadata": {},
     "output_type": "execute_result"
    }
   ],
   "source": [
    "c - c * a"
   ]
  },
  {
   "cell_type": "code",
   "execution_count": 90,
   "id": "2e47686b-86e0-47ac-a4d2-1a587adc08ad",
   "metadata": {},
   "outputs": [
    {
     "data": {
      "text/plain": [
       "False"
      ]
     },
     "execution_count": 90,
     "metadata": {},
     "output_type": "execute_result"
    }
   ],
   "source": [
    "c == a"
   ]
  },
  {
   "cell_type": "code",
   "execution_count": 91,
   "id": "7ad7ea8a-c58d-40ac-ad29-cc4748f2c952",
   "metadata": {},
   "outputs": [
    {
     "data": {
      "text/plain": [
       "(2)"
      ]
     },
     "execution_count": 91,
     "metadata": {},
     "output_type": "execute_result"
    }
   ],
   "source": [
    "-c"
   ]
  },
  {
   "cell_type": "code",
   "execution_count": 92,
   "id": "b03c4f93-8828-427f-b7ab-796aff405471",
   "metadata": {
    "tags": []
   },
   "outputs": [
    {
     "data": {
      "text/plain": [
       "2"
      ]
     },
     "execution_count": 92,
     "metadata": {},
     "output_type": "execute_result"
    }
   ],
   "source": [
    "pow(2, -1, 3)"
   ]
  },
  {
   "cell_type": "code",
   "execution_count": 107,
   "id": "5d87dcd3-fc52-4300-9e59-fbf435796672",
   "metadata": {},
   "outputs": [
    {
     "data": {
      "text/plain": [
       "(1)"
      ]
     },
     "execution_count": 107,
     "metadata": {},
     "output_type": "execute_result"
    }
   ],
   "source": [
    "c ** -2"
   ]
  },
  {
   "cell_type": "markdown",
   "id": "79c0a348-70bb-4cf2-aa70-79e5e565bf85",
   "metadata": {},
   "source": [
    "## А может ли построенная модель оказаться полем?"
   ]
  },
  {
   "cell_type": "code",
   "execution_count": 101,
   "id": "4fea8a43-0e14-49ff-b815-8a596cb76557",
   "metadata": {},
   "outputs": [
    {
     "data": {
      "text/plain": [
       "[(0),\n",
       " (1),\n",
       " (2),\n",
       " (3),\n",
       " (4),\n",
       " (5),\n",
       " (6),\n",
       " (7),\n",
       " (8),\n",
       " (9),\n",
       " (10),\n",
       " (11),\n",
       " (12),\n",
       " (13),\n",
       " (14),\n",
       " (15),\n",
       " (16),\n",
       " (17),\n",
       " (18),\n",
       " (19),\n",
       " (20),\n",
       " (21),\n",
       " (22),\n",
       " (23),\n",
       " (24),\n",
       " (25),\n",
       " (26),\n",
       " (27),\n",
       " (28),\n",
       " (29),\n",
       " (30),\n",
       " (31),\n",
       " (32),\n",
       " (33),\n",
       " (34),\n",
       " (35),\n",
       " (36),\n",
       " (37),\n",
       " (38),\n",
       " (39),\n",
       " (40),\n",
       " (41),\n",
       " (42),\n",
       " (43),\n",
       " (44),\n",
       " (45),\n",
       " (46),\n",
       " (47),\n",
       " (48),\n",
       " (49),\n",
       " (50),\n",
       " (51),\n",
       " (52),\n",
       " (53),\n",
       " (54),\n",
       " (55),\n",
       " (56),\n",
       " (57),\n",
       " (58),\n",
       " (59),\n",
       " (60),\n",
       " (61),\n",
       " (62),\n",
       " (63),\n",
       " (64),\n",
       " (65),\n",
       " (66),\n",
       " (67),\n",
       " (68),\n",
       " (69),\n",
       " (70),\n",
       " (71),\n",
       " (72),\n",
       " (73),\n",
       " (74),\n",
       " (75),\n",
       " (76),\n",
       " (77),\n",
       " (78),\n",
       " (79),\n",
       " (80),\n",
       " (81),\n",
       " (82),\n",
       " (83),\n",
       " (84),\n",
       " (85),\n",
       " (86),\n",
       " (87),\n",
       " (88),\n",
       " (89),\n",
       " (90),\n",
       " (91)]"
      ]
     },
     "execution_count": 101,
     "metadata": {},
     "output_type": "execute_result"
    }
   ],
   "source": [
    "import random\n",
    "m = random.randint(1, 100)\n",
    "Z_m = [Ring(i, m) for i in range(m)]\n",
    "Z_m"
   ]
  },
  {
   "cell_type": "code",
   "execution_count": 98,
   "id": "fbde5394-8a33-44c1-9a13-47ba05f9fbea",
   "metadata": {},
   "outputs": [
    {
     "name": "stdout",
     "output_type": "stream",
     "text": [
      "Коммутативность сложения:\n",
      "True\n",
      "Ассоциативность сложения:\n",
      "True\n",
      "Существование нейтрального элемента относительно сложения:\n",
      "True\n",
      "Существование противоположного элемента относительно сложения:\n",
      "True\n",
      "Ассоциативность умножения:\n",
      "True\n",
      "Дистрибутивность умножения:\n",
      "True\n",
      "True\n",
      "Коммутативность сложения:\n",
      "True\n",
      "Существование нейтрального элемента относительно умножения:\n",
      "True\n",
      "Существование обратного элемента для ненулевых элементов:\n",
      "False\n"
     ]
    }
   ],
   "source": [
    "a, b = random.randint(0, m - 1), random.randint(0, m - 1)\n",
    "d = random.randint(0, m - 1)\n",
    "print('Коммутативность сложения:')\n",
    "print(Z_m[a] + Z_m[b] == Z_m[b] + Z_m[a])\n",
    "print('Ассоциативность сложения:')\n",
    "print(Z_m[a] + (Z_m[b] + Z_m[d]) == Z_m[a] + (Z_m[b] + Z_m[d]))\n",
    "print('Существование нейтрального элемента относительно сложения:')\n",
    "print(Z_m[a] + Z_m[0] == Z_m[0] + Z_m[a] == Z_m[a])\n",
    "print('Существование противоположного элемента относительно сложения:')\n",
    "print(Z_m[a] - Z_m[a] == Z_m[a] - Z_m[a] == Z_m[0])\n",
    "\n",
    "print('Ассоциативность умножения:')\n",
    "print(Z_m[a] * (Z_m[b] * Z_m[d]) == Z_m[a] * (Z_m[b] * Z_m[d]))\n",
    "print('Дистрибутивность умножения:')\n",
    "print(Z_m[a] * (Z_m[b] + Z_m[d]) == Z_m[a] * Z_m[b] + Z_m[a] * Z_m[d])\n",
    "print((Z_m[b] + Z_m[d]) * Z_m[a] == Z_m[b] * Z_m[a] + Z_m[d] * Z_m[a])\n",
    "print('Коммутативность сложения:')\n",
    "print(Z_m[a] * Z_m[b] == Z_m[b] * Z_m[a])\n",
    "print('Существование нейтрального элемента относительно умножения:')\n",
    "print(Z_m[a] * Z_m[1] == Z_m[1] * Z_m[a] == Z_m[a])\n",
    "print('Существование обратного элемента для ненулевых элементов:')\n",
    "try:\n",
    "    print(Z_m[a] * (-Z_m[a]) == (-Z_m[a]) * Z_m[a] == Z_m[1])\n",
    "except(ValueError):\n",
    "    print(False)"
   ]
  },
  {
   "cell_type": "code",
   "execution_count": null,
   "id": "f18e558e-a5b2-461c-bb53-e9d7ac5fcf0c",
   "metadata": {},
   "outputs": [],
   "source": []
  }
 ],
 "metadata": {
  "kernelspec": {
   "display_name": "Python 3 (ipykernel)",
   "language": "python",
   "name": "python3"
  },
  "language_info": {
   "codemirror_mode": {
    "name": "ipython",
    "version": 3
   },
   "file_extension": ".py",
   "mimetype": "text/x-python",
   "name": "python",
   "nbconvert_exporter": "python",
   "pygments_lexer": "ipython3",
   "version": "3.10.5"
  }
 },
 "nbformat": 4,
 "nbformat_minor": 5
}
