{
 "cells": [
  {
   "cell_type": "markdown",
   "id": "0fc15024",
   "metadata": {},
   "source": [
    "# Лабораторная работа №4\n",
    "# Алгебраические уравнения в кольце вычетов\n",
    "### *Подготовилa Гоман Катя*"
   ]
  },
  {
   "cell_type": "code",
   "execution_count": 1,
   "id": "1daf5bf1",
   "metadata": {},
   "outputs": [],
   "source": [
    "import math\n",
    "import time\n",
    "from random import randint, randrange\n",
    "from sympy import isprime\n",
    "\n",
    "def FastPower(a: int, d:int, m:int) -> int:\n",
    "    b = 1\n",
    "    while d>0:\n",
    "        if d & 1:\n",
    "            b = b*a % m\n",
    "        a = a*a % m\n",
    "        d = d >> 1\n",
    "    return b\n",
    "\n",
    "def gcd(a, b):\n",
    "    while b:\n",
    "        a, b = b, a % b\n",
    "    return a\n",
    "\n",
    "def time_of_function(function) -> int:\n",
    "    def wrapped(*args):\n",
    "        start_time = time.perf_counter_ns()\n",
    "        res = function(*args)\n",
    "        print('Function running time:', time.perf_counter_ns() - start_time)\n",
    "        return res\n",
    "    return wrapped"
   ]
  },
  {
   "cell_type": "markdown",
   "id": "c175ca2c",
   "metadata": {},
   "source": [
    "***"
   ]
  },
  {
   "cell_type": "markdown",
   "id": "41b2fe44",
   "metadata": {},
   "source": [
    "#  Китайская теорема об остатках\n",
    "**Теорема.**  \n",
    "Пусть $\\;n_1,\\dots,n_k\\in\\mathbb{N},$ $\\;\\gcd(n_i,n_j)=1\\;$ при      $\\;i\\neq j,$ $\\;b_1,\\dots,b_k\\in\\mathbb{Z}.\\;$ Тогда система      уравнений\n",
    " $$\n",
    "   \\left\\{\\begin{array}{llll}\n",
    "      x & \\equiv  & b_1 & \\mod n_1,\\\\\n",
    "      x & \\equiv  & b_2 & \\mod n_2,\\\\\n",
    "        & \\vdots & &\\\\\n",
    "     x & \\equiv  & b_k & \\mod n_k,\n",
    "     \\end{array}\\right.\\qquad (2)   \n",
    " $$\n",
    " имеет единственное в кольце $\\mathbb{Z}_n$ решение\n",
    "$$\n",
    " x_0=\\sum\\limits_{i=1}^{k} b_i N_i C_i, \\qquad (*)\n",
    "$$\n",
    "где ${n=n_1\\dots n_k,}$ ${N_i=\\frac{n}{n_i},}$ $C_i$ --- обратный к $N_i$ в $\\mathbb{Z}_{n_i}^*.$\n",
    "\n",
    "**Алгоритм Гаусса.**  \n",
    "Нахождение решения системы (2) при помощи формулы $(*)$ иногда называют алгоритмом Гаусса."
   ]
  },
  {
   "cell_type": "markdown",
   "id": "308a04ef",
   "metadata": {},
   "source": [
    "## Алгоритм Гарнера\n",
    "Input: $b_1,\\dots,b_k\\in\\mathbb{Z},$   \n",
    "$\\qquad n_1,\\dots,n_k\\in\\mathbb{N}$ -- взаимно простые.  \n",
    "\n",
    "Output: $x,$ $0\\leq x<n_1\\dots n_k,$ -- решение системы (2).  \n",
    "\n",
    "1$.\\;$ Задаем начальные значения переменных:  \n",
    "$\\qquad   N:=1,$  \n",
    "$\\qquad x:=b_1\\mod n_1.$    \n",
    "\n",
    "2$.\\;$ For $\\;i:=2,3,\\dots,k$   \n",
    "$ \\qquad N:=N*n_{i-1}  $    \n",
    "$\\qquad C:=N^{-1}\\mod n_i$    \n",
    "$\\qquad y:=C*(b_i-x)\\mod n_i$  \n",
    "$\\qquad  x:=N y+x$\n",
    "\n",
    "3$.\\;$ Выдаем результат: $x.$   "
   ]
  },
  {
   "cell_type": "markdown",
   "id": "0bc1b5c6",
   "metadata": {},
   "source": [
    "## <font color='red'>Задание 1.</font>\n",
    "\n",
    "Реализовать алгоритмы Гаусса и Гарнера. Сравнить скорость вычислений. Посчитать количество арифметических операций. Какие из данных алгоритмов являются полиномиальными?"
   ]
  },
  {
   "cell_type": "code",
   "execution_count": 2,
   "id": "27f2d123",
   "metadata": {},
   "outputs": [],
   "source": [
    "@time_of_function\n",
    "def Gauss(b: list, n: list) -> int:\n",
    "    pn = math.prod(n)\n",
    "    res = 0\n",
    "    for b_i, n_i in zip(b, n):\n",
    "        N_i = pn//n_i\n",
    "        C_i = FastPower(N_i, -1, n_i)\n",
    "        res += N_i*C_i*b_i % pn\n",
    "    return res % pn"
   ]
  },
  {
   "cell_type": "code",
   "execution_count": 3,
   "id": "fa33f70f",
   "metadata": {},
   "outputs": [],
   "source": [
    "@time_of_function\n",
    "def Garner(b: list, n: list) -> int:\n",
    "    N = 1\n",
    "    x = b[0] % n[0]\n",
    "    for i in range(1, len(n)):\n",
    "        N *= n[i-1]\n",
    "        C = FastPower(N, -1, n[i])\n",
    "        y = C*(b[i] - x) % n[i]\n",
    "        x += N*y\n",
    "    return x"
   ]
  },
  {
   "cell_type": "code",
   "execution_count": 4,
   "id": "2a90b604",
   "metadata": {},
   "outputs": [
    {
     "name": "stdout",
     "output_type": "stream",
     "text": [
      "Function running time: 5400\n",
      "Gauss function output: 105 \n",
      "\n",
      "Function running time: 3500\n",
      "Garner function output: 105\n"
     ]
    }
   ],
   "source": [
    "b, n = [3, 5, 7], [3, 5, 11]\n",
    "print('Gauss function output:', Gauss(b, n), '\\n')\n",
    "print('Garner function output:', Garner(b, n))"
   ]
  },
  {
   "cell_type": "markdown",
   "id": "0a6a6dd8",
   "metadata": {},
   "source": [
    "*Количество операций в функции Гаусса:*\n",
    "\n",
    "$$f(n) = len(n-1) + (1+2+4)*len(n) + 1$$"
   ]
  },
  {
   "cell_type": "markdown",
   "id": "a678f85a",
   "metadata": {},
   "source": [
    "*Количество операций в функции Горнера:*\n",
    "$$f(n) = 1 + (1+2+3+2)*len(n-1)$$"
   ]
  },
  {
   "cell_type": "markdown",
   "id": "49ac0778",
   "metadata": {},
   "source": [
    "***"
   ]
  },
  {
   "cell_type": "markdown",
   "id": "dcc00c1a",
   "metadata": {},
   "source": [
    "# Квадратичный вычет\n",
    "Пусть задано натуральное нечетное число $n,$  $a\\in\\mathbb{Z}_n^*.$ Вычет $a$ называется <font color=blue>квадратичным вычетом</font> по\n",
    "    модулю $n,$ если уравнение\n",
    "$$\n",
    "      x^2\\equiv a\\mod n\\qquad(3)\n",
    "$$\n",
    "имеет решение. В противном случае $a$ называется <font color=blue>квадратичным невычетом</font> по модулю $n.$ Множество всех вычетов обозначим через $Q_n.$ Множество квадратичных невычетов -- через $\\overline{Q}_n.$ Заметим, что $0\\not\\in Q_n$ и $0\\not\\in\\overline{ Q}_n$"
   ]
  },
  {
   "cell_type": "markdown",
   "id": "c357134d",
   "metadata": {},
   "source": [
    " ## Количество корней\n",
    "**Теорема.**  \n",
    "Пусть $p$ нечетное простое, $\\;a\\in\\mathbb{Z}_p^*.$ \n",
    "\n",
    "Тогда уравнение (3) имеет либо два корня, либо ни одного.  \n",
    "\n",
    "**Доказательство.**  \n",
    "Пусть $x_0$ -- корень уравнения $(3)$ $\\qquad\\Rightarrow\\qquad$ $a\\equiv x_0^2\\mod p.$ \n",
    "   $$\n",
    "   (3)\\qquad\\Leftrightarrow\\qquad (x-x_0)(x+x_0)\\equiv 0\\mod p,\n",
    "  $$\n",
    "  так как$\\;\\mathbb{Z}_p\\;$ поле, то \n",
    "  $$\n",
    "   (3)\\qquad\\Leftrightarrow\\qquad     x\\equiv \\pm x_0\\mod p.\n",
    "  $$\n",
    "Если предположить, что \n",
    "$$\\;x_0\\equiv-x_0\\mod p,\\;\n",
    "$$\n",
    "то получаем\n",
    "  $$\n",
    "  2x_0\\equiv0\\mod p\\qquad\\Rightarrow\\qquad  x_0\\equiv0\\mod p\\qquad\\Rightarrow\\qquad a\\equiv0\\mod p.\n",
    "  $$ \n",
    "Противоречие, поэтому уравнение (3) не может иметь 1 корень. "
   ]
  },
  {
   "cell_type": "markdown",
   "id": "f1a32d4b",
   "metadata": {},
   "source": [
    "## Количество квадратичных вычетов\n",
    "**Теорема.**  \n",
    "Пусть $p$ нечетное простое, $\\;a\\in\\mathbb{Z}_p^*.$ \n",
    "\n",
    "Тогда  число $p$ имеет $\\frac{p-1}{2}$ квадратичных вычетов и столько же квадратичных невычетов.  \n",
    "**Доказательство.**  \n",
    "Каждый вычет $x_0\\in\\mathbb{Z}_p^*$ является решением только одного уравнения (3) при $a=x_0^2,$ \n",
    " \n",
    " Группа $\\mathbb{Z}_p^*$ содержит $p-1$ элемент, \n",
    " \n",
    " поэтому для $\\;\\frac{p-1}2\\;$ вычетов $\\;a\\in\\mathbb{Z}_p^*\\;$ найдутся 2 решения $\\;\\pm x_0\\in\\mathbb{Z}_p^*\\;$ уравнения (3) и вычеты $\\;a\\;$ будут квадратичными вычетами, а для остальных классов вычетов корней не найдется и они будут квадратичными невычетами."
   ]
  },
  {
   "cell_type": "markdown",
   "id": "3ff53eb5",
   "metadata": {},
   "source": [
    "## Критерий квадратичного вычета\n",
    "**Теорема.**  \n",
    "Пусть $p$ нечетное простое, $\\;a\\in\\mathbb{Z}_p^*.$ \n",
    "\n",
    "Тогда  $a$ является квадратичным вычетом тогда и только тогда, когда $$a^{(p-1)/2}\\equiv1\\mod p.$$  \n",
    "\n",
    "**Доказательство.**  \n",
    "Пусть $a$ квадратичный вычет и $x_0$ корень (3):\n",
    "$$\n",
    "  x_0^2\\equiv a\\mod p\\qquad\\Rightarrow\\qquad   x_0^{p-1}\\equiv a^{\\frac{p-1}2}\\mod p.\n",
    "$$\n",
    "по малой теореме Ферма получаем, что \n",
    "$$\n",
    "  x_0^{p-1}\\equiv 1\\mod p\\qquad\\Rightarrow\\qquad\n",
    " a^{\\frac{p-1}2}\\equiv1\\mod p.$$\n",
    " \n",
    "  Каждый квадратичный вычет является корнем уравнения\n",
    "  $\n",
    "    \\;\\;x^{\\frac{p-1}2}\\equiv1\\mod p.\n",
    "  $\n",
    "  \n",
    "  Всего квадратичных вычетов $\\;(p-1)/2.\\;$  И так как многочлен степени $\\;(p-1)/2\\;$ не может иметь более $\\;(p-1)/2\\;$ корней в $\\;\\mathbb{Z}_p,\\;$ то\n",
    " \n",
    "$$ \n",
    "  a \\quad \\text{ -- кв. вычет} \\quad \\Leftrightarrow \\quad a^{\\frac{p-1}2}\\equiv1\\mod p.\n",
    "$$"
   ]
  },
  {
   "cell_type": "markdown",
   "id": "dae18db0",
   "metadata": {},
   "source": [
    "## <font color='red'>Задание 2.</font>\n",
    "\n",
    "Доказать, что множество квадратичных вычетов по модулю $p$ образует мультипликативную группу."
   ]
  },
  {
   "cell_type": "markdown",
   "id": "dbec09fe",
   "metadata": {},
   "source": [
    "Множество $G$ с бинарной алгебраической операцией $\\ast$ называется группой, если выполняются следующие условия:\n",
    "\n",
    "1. Операция $\\ast$ в $G$ ассоциативна: $a\\ast (b\\ast c)=(a\\ast b)\\ast c$ $\\forall a,b,c\\in G$;\n",
    "\n",
    "2. В $G$ существует нейтральный элемент $\\theta :a\\ast\\theta=\\theta\\ast a=a$ $\\forall a\\in G;$\n",
    "\n",
    "3. Для каждого элемента $a\\in G$ существует обратный ему элемент $a^{-1}\\in G: a\\ast a^{-1}=a^{-1}\\ast a=\\theta $.\n"
   ]
  },
  {
   "cell_type": "markdown",
   "id": "490d0c10",
   "metadata": {},
   "source": [
    "$\\quad x^{2}\\equiv a\\mod p \\quad\n",
    "\\quad x^{2}\\equiv b\\mod p \\quad\n",
    "\\quad x^{2}\\equiv c\\mod p$"
   ]
  },
  {
   "cell_type": "code",
   "execution_count": 5,
   "id": "1adb1143",
   "metadata": {},
   "outputs": [],
   "source": [
    "def tsk2(p:int) -> list: #p-нечетное простое\n",
    "    amount = (p-1)//2\n",
    "    a = range(p)\n",
    "    i = 1\n",
    "    deductions = []\n",
    "    while len(deductions) != amount:\n",
    "        if FastPower(a[i], amount, p) == 1 % p:\n",
    "            deductions.append(a[i])\n",
    "        i += 1\n",
    "    return deductions\n",
    "\n",
    "def tsk2_x(p:int, ded:int) -> list:\n",
    "    amount = (p-1)//2\n",
    "    i = 1\n",
    "    x = []\n",
    "    while len(x) != amount:\n",
    "        if FastPower(i, 2, p) == ded % p:\n",
    "            x.append(i)\n",
    "        i += 1\n",
    "    return x"
   ]
  },
  {
   "cell_type": "code",
   "execution_count": 6,
   "id": "a4c70e5e",
   "metadata": {
    "scrolled": false
   },
   "outputs": [
    {
     "name": "stdout",
     "output_type": "stream",
     "text": [
      "Квадратичные вычеты для модуля 997: [1, 3, 4, 9, 10, 12, 13, 14, 16, 19, 22, 23, 25, 27, 30, 31, 34, 35, 36, 39, 40, 42, 48, 49, 52, 53, 55, 56, 57, 58, 59, 64, 66, 67, 69, 71, 73, 74, 75, 76, 77, 79, 81, 82, 83, 85, 86, 88, 89, 90, 92, 93, 94, 97, 100, 101, 102, 105, 107, 108, 109, 117, 119, 120, 121, 122, 124, 126, 130, 131, 136, 137, 139, 140, 144, 145, 147, 149, 151, 156, 159, 160, 165, 167, 168, 169, 171, 173, 174, 177, 182, 185, 187, 190, 192, 193, 196, 198, 199, 201, 203, 205, 206, 207, 208, 212, 213, 215, 219, 220, 222, 223, 224, 225, 226, 227, 228, 229, 230, 231, 232, 235, 236, 237, 243, 246, 247, 249, 250, 254, 255, 256, 257, 258, 259, 263, 264, 266, 267, 268, 269, 270, 276, 279, 282, 284, 286, 287, 289, 291, 292, 296, 299, 300, 301, 303, 304, 305, 306, 307, 308, 310, 311, 313, 314, 315, 316, 319, 321, 322, 324, 325, 326, 327, 328, 329, 331, 332, 337, 340, 344, 350, 351, 352, 356, 357, 358, 360, 361, 362, 363, 366, 368, 372, 373, 376, 378, 379, 382, 388, 390, 393, 394, 400, 401, 403, 404, 407, 408, 409, 411, 417, 418, 420, 421, 422, 427, 428, 431, 432, 434, 435, 436, 437, 441, 442, 443, 447, 449, 451, 453, 455, 466, 467, 468, 473, 475, 476, 477, 478, 480, 482, 484, 488, 490, 491, 493, 495, 496, 501, 502, 504, 506, 507, 509, 513, 515, 517, 519, 520, 521, 522, 524, 529, 530, 531, 542, 544, 546, 548, 550, 554, 555, 556, 560, 561, 562, 563, 565, 566, 569, 570, 575, 576, 577, 579, 580, 586, 588, 589, 590, 593, 594, 596, 597, 603, 604, 607, 609, 615, 618, 619, 621, 624, 625, 629, 631, 634, 635, 636, 637, 639, 640, 641, 645, 646, 647, 653, 657, 660, 665, 666, 668, 669, 670, 671, 672, 673, 675, 676, 678, 681, 682, 683, 684, 686, 687, 689, 690, 691, 692, 693, 694, 696, 697, 698, 701, 705, 706, 708, 710, 711, 713, 715, 718, 721, 727, 728, 729, 730, 731, 733, 734, 738, 739, 740, 741, 742, 743, 747, 748, 750, 751, 754, 760, 761, 762, 765, 766, 767, 768, 769, 770, 771, 772, 773, 774, 775, 777, 778, 782, 784, 785, 789, 790, 791, 792, 794, 796, 798, 799, 801, 804, 805, 807, 810, 812, 815, 820, 823, 824, 826, 828, 829, 830, 832, 837, 838, 841, 846, 848, 850, 852, 853, 857, 858, 860, 861, 866, 867, 871, 873, 875, 876, 877, 878, 880, 888, 889, 890, 892, 895, 896, 897, 900, 903, 904, 905, 907, 908, 909, 911, 912, 914, 915, 916, 918, 920, 921, 922, 923, 924, 926, 928, 930, 931, 933, 938, 939, 940, 941, 942, 944, 945, 948, 949, 955, 957, 958, 961, 962, 963, 966, 967, 970, 972, 974, 975, 978, 981, 983, 984, 985, 987, 988, 993, 994, 996]\n"
     ]
    }
   ],
   "source": [
    "p=997\n",
    "i = 0\n",
    "deductions = tsk2(p)\n",
    "x = []\n",
    "print(f'Квадратичные вычеты для модуля {p}: {deductions}')\n",
    "\n",
    "# for i in range(len(deductions)):\n",
    "#     x.append(tsk2_x(p, deductions[i]))\n",
    "#     print(f'Для вычета {deductions[i]}: x = {x[i]}')\n",
    "#     i += 1"
   ]
  },
  {
   "cell_type": "code",
   "execution_count": 7,
   "id": "bc26af2b",
   "metadata": {},
   "outputs": [],
   "source": [
    "p = [i for i in range(997) if isprime(i)]"
   ]
  },
  {
   "cell_type": "code",
   "execution_count": 8,
   "id": "83fae252",
   "metadata": {},
   "outputs": [],
   "source": [
    "def associativity_for_p(p: int) -> bool:\n",
    "    deductions = tsk2(p)\n",
    "    triplets = []\n",
    "    l = len(deductions)\n",
    "    for i in range(l):\n",
    "        tr = (deductions[i], deductions[(i+1)%l], deductions[(i+2)%l]);\n",
    "        triplets.append(tr)\n",
    "    for i in triplets:\n",
    "        if i[0]*(i[1]*i[2]) % p == (i[0]*i[1])*i[2] % p:\n",
    "                continue\n",
    "    return True"
   ]
  },
  {
   "cell_type": "code",
   "execution_count": 9,
   "id": "532f0331",
   "metadata": {},
   "outputs": [],
   "source": [
    "def neutrality_for_p(p: int) -> bool:\n",
    "    deductions = tsk2(p)\n",
    "    for i in deductions:\n",
    "        if i*1 % p == 1*i % p == i % p:\n",
    "            continue\n",
    "    return True"
   ]
  },
  {
   "cell_type": "code",
   "execution_count": 10,
   "id": "eec1db10",
   "metadata": {},
   "outputs": [],
   "source": [
    "def reversibility_for_p(p: int) -> bool:\n",
    "    deductions = tsk2(p)\n",
    "    for i in deductions:\n",
    "        if i * i**(-1) % p == i**(-1) * i % p == 1 % p:\n",
    "            continue\n",
    "    return True"
   ]
  },
  {
   "cell_type": "code",
   "execution_count": 11,
   "id": "ca7cbfa4",
   "metadata": {},
   "outputs": [
    {
     "name": "stdout",
     "output_type": "stream",
     "text": [
      "for 2 group axioms hold\n",
      "for 3 group axioms hold\n",
      "for 5 group axioms hold\n",
      "for 7 group axioms hold\n",
      "for 11 group axioms hold\n",
      "for 13 group axioms hold\n",
      "for 17 group axioms hold\n",
      "for 19 group axioms hold\n",
      "for 23 group axioms hold\n",
      "for 29 group axioms hold\n",
      "for 31 group axioms hold\n",
      "for 37 group axioms hold\n",
      "for 41 group axioms hold\n",
      "for 43 group axioms hold\n",
      "for 47 group axioms hold\n",
      "for 53 group axioms hold\n",
      "for 59 group axioms hold\n",
      "for 61 group axioms hold\n",
      "for 67 group axioms hold\n",
      "for 71 group axioms hold\n",
      "for 73 group axioms hold\n",
      "for 79 group axioms hold\n",
      "for 83 group axioms hold\n",
      "for 89 group axioms hold\n",
      "for 97 group axioms hold\n",
      "for 101 group axioms hold\n",
      "for 103 group axioms hold\n",
      "for 107 group axioms hold\n",
      "for 109 group axioms hold\n",
      "for 113 group axioms hold\n",
      "for 127 group axioms hold\n",
      "for 131 group axioms hold\n",
      "for 137 group axioms hold\n",
      "for 139 group axioms hold\n",
      "for 149 group axioms hold\n",
      "for 151 group axioms hold\n",
      "for 157 group axioms hold\n",
      "for 163 group axioms hold\n",
      "for 167 group axioms hold\n",
      "for 173 group axioms hold\n",
      "for 179 group axioms hold\n",
      "for 181 group axioms hold\n",
      "for 191 group axioms hold\n",
      "for 193 group axioms hold\n",
      "for 197 group axioms hold\n",
      "for 199 group axioms hold\n",
      "for 211 group axioms hold\n",
      "for 223 group axioms hold\n",
      "for 227 group axioms hold\n",
      "for 229 group axioms hold\n",
      "for 233 group axioms hold\n",
      "for 239 group axioms hold\n",
      "for 241 group axioms hold\n",
      "for 251 group axioms hold\n",
      "for 257 group axioms hold\n",
      "for 263 group axioms hold\n",
      "for 269 group axioms hold\n",
      "for 271 group axioms hold\n",
      "for 277 group axioms hold\n",
      "for 281 group axioms hold\n",
      "for 283 group axioms hold\n",
      "for 293 group axioms hold\n",
      "for 307 group axioms hold\n",
      "for 311 group axioms hold\n",
      "for 313 group axioms hold\n",
      "for 317 group axioms hold\n",
      "for 331 group axioms hold\n",
      "for 337 group axioms hold\n",
      "for 347 group axioms hold\n",
      "for 349 group axioms hold\n",
      "for 353 group axioms hold\n",
      "for 359 group axioms hold\n",
      "for 367 group axioms hold\n",
      "for 373 group axioms hold\n",
      "for 379 group axioms hold\n",
      "for 383 group axioms hold\n",
      "for 389 group axioms hold\n",
      "for 397 group axioms hold\n",
      "for 401 group axioms hold\n",
      "for 409 group axioms hold\n",
      "for 419 group axioms hold\n",
      "for 421 group axioms hold\n",
      "for 431 group axioms hold\n",
      "for 433 group axioms hold\n",
      "for 439 group axioms hold\n",
      "for 443 group axioms hold\n",
      "for 449 group axioms hold\n",
      "for 457 group axioms hold\n",
      "for 461 group axioms hold\n",
      "for 463 group axioms hold\n",
      "for 467 group axioms hold\n",
      "for 479 group axioms hold\n",
      "for 487 group axioms hold\n",
      "for 491 group axioms hold\n",
      "for 499 group axioms hold\n",
      "for 503 group axioms hold\n",
      "for 509 group axioms hold\n",
      "for 521 group axioms hold\n",
      "for 523 group axioms hold\n",
      "for 541 group axioms hold\n",
      "for 547 group axioms hold\n",
      "for 557 group axioms hold\n",
      "for 563 group axioms hold\n",
      "for 569 group axioms hold\n",
      "for 571 group axioms hold\n",
      "for 577 group axioms hold\n",
      "for 587 group axioms hold\n",
      "for 593 group axioms hold\n",
      "for 599 group axioms hold\n",
      "for 601 group axioms hold\n",
      "for 607 group axioms hold\n",
      "for 613 group axioms hold\n",
      "for 617 group axioms hold\n",
      "for 619 group axioms hold\n",
      "for 631 group axioms hold\n",
      "for 641 group axioms hold\n",
      "for 643 group axioms hold\n",
      "for 647 group axioms hold\n",
      "for 653 group axioms hold\n",
      "for 659 group axioms hold\n",
      "for 661 group axioms hold\n",
      "for 673 group axioms hold\n",
      "for 677 group axioms hold\n",
      "for 683 group axioms hold\n",
      "for 691 group axioms hold\n",
      "for 701 group axioms hold\n",
      "for 709 group axioms hold\n",
      "for 719 group axioms hold\n",
      "for 727 group axioms hold\n",
      "for 733 group axioms hold\n",
      "for 739 group axioms hold\n",
      "for 743 group axioms hold\n",
      "for 751 group axioms hold\n",
      "for 757 group axioms hold\n",
      "for 761 group axioms hold\n",
      "for 769 group axioms hold\n",
      "for 773 group axioms hold\n",
      "for 787 group axioms hold\n",
      "for 797 group axioms hold\n",
      "for 809 group axioms hold\n",
      "for 811 group axioms hold\n",
      "for 821 group axioms hold\n",
      "for 823 group axioms hold\n",
      "for 827 group axioms hold\n",
      "for 829 group axioms hold\n",
      "for 839 group axioms hold\n",
      "for 853 group axioms hold\n",
      "for 857 group axioms hold\n",
      "for 859 group axioms hold\n",
      "for 863 group axioms hold\n",
      "for 877 group axioms hold\n",
      "for 881 group axioms hold\n",
      "for 883 group axioms hold\n",
      "for 887 group axioms hold\n",
      "for 907 group axioms hold\n",
      "for 911 group axioms hold\n",
      "for 919 group axioms hold\n",
      "for 929 group axioms hold\n",
      "for 937 group axioms hold\n",
      "for 941 group axioms hold\n",
      "for 947 group axioms hold\n",
      "for 953 group axioms hold\n",
      "for 967 group axioms hold\n",
      "for 971 group axioms hold\n",
      "for 977 group axioms hold\n",
      "for 983 group axioms hold\n",
      "for 991 group axioms hold\n"
     ]
    }
   ],
   "source": [
    "for i in p:\n",
    "    if associativity_for_p(i) and neutrality_for_p(i) and reversibility_for_p(i):\n",
    "        print(f'for {i} group axioms hold')\n",
    "    else:\n",
    "        print(f'for {i} failed')"
   ]
  },
  {
   "cell_type": "markdown",
   "id": "b71a25b3",
   "metadata": {},
   "source": [
    "***"
   ]
  },
  {
   "cell_type": "markdown",
   "id": "c675a77e",
   "metadata": {},
   "source": [
    "## <font color='red'>Задание 3*.</font>\n",
    "Доказать, что количество итераций в цикле алгоритма вычисления символа Якоби не больше, чем количество итераций в цикле алгоритма Евклида. Первому решившему +1 балл к экзаменационной оценке.\n"
   ]
  },
  {
   "cell_type": "code",
   "execution_count": 286,
   "id": "83bbd7f4",
   "metadata": {},
   "outputs": [],
   "source": [
    "def st(n):\n",
    "    s = 0\n",
    "    t = n\n",
    "    while t % 2 == 0:\n",
    "        s += 1\n",
    "        t = t // 2\n",
    "    return s, t\n",
    "\n",
    "def Jacobi(a,n):\n",
    "    if n < 0 or not n % 2:\n",
    "        raise ValueError(\"n should be an odd positive integer\") \n",
    "    j = 1\n",
    "    if n == 1:\n",
    "        return j\n",
    "    if a<0:\n",
    "        a = -a\n",
    "        if n%4 == 3:\n",
    "            j = -j\n",
    "    while n>1:\n",
    "        if a == 0:\n",
    "            return 0\n",
    "        s,t = st(a)\n",
    "        if (s%2 == 1) & (n%8 in [3, 5]):\n",
    "            j = -j\n",
    "        if 3 == n%4 == t%4:\n",
    "            j = -j\n",
    "        a = n%t\n",
    "        n = t\n",
    "    return j"
   ]
  },
  {
   "cell_type": "code",
   "execution_count": 287,
   "id": "77268e95",
   "metadata": {},
   "outputs": [],
   "source": [
    "def Jacobi_c(a,n):\n",
    "    counter = 0\n",
    "    j = 1\n",
    "    if n == 1:\n",
    "        return counter\n",
    "    if a<0:\n",
    "        a = -a\n",
    "        if n%4 == 3:\n",
    "            j = -j\n",
    "    while n>1:\n",
    "        counter += 1\n",
    "        if a == 0:\n",
    "            return counter\n",
    "        s,t = st(a)\n",
    "        if (s%2 == 1) & (n%8 in [3, 5]):\n",
    "            j = -j\n",
    "        if 3 == n%4 == t%4:\n",
    "            j = -j\n",
    "        a = n%t\n",
    "        n = t\n",
    "    return counter\n",
    "\n",
    "def ExtendedGCD_c(a, b):\n",
    "    counter = 0\n",
    "    m11, m12 = 1, 0\n",
    "    m21, m22 = 0, 1\n",
    "    while b:\n",
    "        counter += 1\n",
    "        q = a // b\n",
    "        a, b = b, a % b\n",
    "        m11, m12 = m12, m11 - m12*q\n",
    "        m21, m22 = m22, m21 - m22*q\n",
    "    return counter"
   ]
  },
  {
   "cell_type": "code",
   "execution_count": 293,
   "id": "5d1976ce",
   "metadata": {},
   "outputs": [
    {
     "name": "stdout",
     "output_type": "stream",
     "text": [
      "\n",
      "-55 101\n",
      "-75 93\n",
      "99 21\n",
      "-86 103\n",
      "94 7\n",
      "77 77\n",
      "75 17\n",
      "-80 5\n",
      "60 59\n",
      "-71 71\n",
      "\n",
      "Percentage of exceptions: 5.0 %\n"
     ]
    }
   ],
   "source": [
    "error = []\n",
    "circ = 200\n",
    "print('')\n",
    "for i in range(circ):\n",
    "    m = randrange(-100, 100)\n",
    "    k = randrange(3, 200, 2)\n",
    "    j = Jacobi_c(m,k) \n",
    "    e = ExtendedGCD_c(m,k)\n",
    "    if j > e:\n",
    "        error.append((m, k))\n",
    "        print(m, k)\n",
    "print()\n",
    "print('Percentage of exceptions:', len(error)/circ*100, '%')"
   ]
  },
  {
   "cell_type": "markdown",
   "id": "472fa8c7",
   "metadata": {},
   "source": [
    "Кол-во исключений не больше 10%"
   ]
  },
  {
   "cell_type": "code",
   "execution_count": 15,
   "id": "30325b5f",
   "metadata": {
    "scrolled": true
   },
   "outputs": [
    {
     "data": {
      "text/plain": [
       "28"
      ]
     },
     "execution_count": 15,
     "metadata": {},
     "output_type": "execute_result"
    }
   ],
   "source": [
    "Jacobi_c(139874343243354783434, 37657849345435435435345345340857)"
   ]
  },
  {
   "cell_type": "code",
   "execution_count": 16,
   "id": "c42e5c75",
   "metadata": {},
   "outputs": [
    {
     "data": {
      "text/plain": [
       "44"
      ]
     },
     "execution_count": 16,
     "metadata": {},
     "output_type": "execute_result"
    }
   ],
   "source": [
    "ExtendedGCD_c(139874343243354783434, 37657849345435435435345345340857)"
   ]
  },
  {
   "cell_type": "markdown",
   "id": "b0c0e05f",
   "metadata": {},
   "source": [
    "***"
   ]
  },
  {
   "cell_type": "markdown",
   "id": "eae356ef",
   "metadata": {},
   "source": [
    "Returns the Jacobi symbol $\\genfrac(){}{}{m}{n}$.\n",
    "\n",
    "For any integer m and any positive odd integer n the Jacobi symbol\n",
    "is defined as the product of the Legendre symbols corresponding to the\n",
    "prime factors of n:\n",
    "\n",
    "math:\n",
    "        $\\genfrac(){}{}{m}{n} =\n",
    "            \\genfrac(){}{}{m}{p^{1}}^{\\alpha_1}\n",
    "            \\genfrac(){}{}{m}{p^{2}}^{\\alpha_2}\n",
    "            ...\n",
    "            \\genfrac(){}{}{m}{p^{k}}^{\\alpha_k}\n",
    "            \\text{ where } n =\n",
    "                p_1^{\\alpha_1}\n",
    "                p_2^{\\alpha_2}\n",
    "                ...\n",
    "                p_k^{\\alpha_k}$\n",
    "\n",
    "Like the Legendre symbol, if the Jacobi symbol $\\genfrac(){}{}{m}{n} = -1$\n",
    "    then m is a quadratic nonresidue modulo n.\n",
    "\n",
    "But, unlike the Legendre symbol, if the Jacobi symbol\n",
    "    $\\genfrac(){}{}{m}{n} = 1$ then m may or may not be a quadratic residue\n",
    "    modulo n."
   ]
  },
  {
   "cell_type": "code",
   "execution_count": 17,
   "id": "49e48aab",
   "metadata": {},
   "outputs": [],
   "source": [
    "from sympy.core.compatibility import as_int\n",
    "from sympy.core.numbers import igcd\n",
    "\n",
    "def jacobi_symbol(m, n):\n",
    "    m, n = as_int(m), as_int(n)\n",
    "    if n < 0 or not n % 2:\n",
    "        raise ValueError(\"n should be an odd positive integer\")\n",
    "    if m < 0 or m > n:\n",
    "        m %= n\n",
    "    if not m:\n",
    "        return int(n == 1)\n",
    "    if n == 1 or m == 1:\n",
    "        return 1\n",
    "    if igcd(m, n) != 1:\n",
    "        return 0\n",
    "\n",
    "    j = 1\n",
    "#    if m < 0:\n",
    "#        m = -m\n",
    "#        if n % 4 == 3:\n",
    "#            j = -j\n",
    "    while m != 0:\n",
    "        while m % 2 == 0 and m > 0:\n",
    "            m >>= 1\n",
    "            if n % 8 in [3, 5]:\n",
    "                j = -j\n",
    "        m, n = n, m\n",
    "        if m % 4 == n % 4 == 3:\n",
    "            j = -j\n",
    "        m %= n\n",
    "    if n != 1:\n",
    "        j = 0\n",
    "    return j"
   ]
  },
  {
   "cell_type": "code",
   "execution_count": 18,
   "id": "ae8fcd5a",
   "metadata": {},
   "outputs": [
    {
     "data": {
      "text/plain": [
       "-1"
      ]
     },
     "execution_count": 18,
     "metadata": {},
     "output_type": "execute_result"
    }
   ],
   "source": [
    "jacobi_symbol(54545, 27)"
   ]
  },
  {
   "cell_type": "code",
   "execution_count": 19,
   "id": "ff1567d1",
   "metadata": {},
   "outputs": [
    {
     "data": {
      "text/plain": [
       "-1"
      ]
     },
     "execution_count": 19,
     "metadata": {},
     "output_type": "execute_result"
    }
   ],
   "source": [
    "jacobi_symbol(-9, 17431)"
   ]
  },
  {
   "cell_type": "code",
   "execution_count": 20,
   "id": "4ee785c4",
   "metadata": {},
   "outputs": [
    {
     "data": {
      "text/plain": [
       "1"
      ]
     },
     "execution_count": 20,
     "metadata": {},
     "output_type": "execute_result"
    }
   ],
   "source": [
    "jacobi_symbol(384343, 567)"
   ]
  },
  {
   "cell_type": "code",
   "execution_count": 21,
   "id": "ff90815a",
   "metadata": {},
   "outputs": [
    {
     "data": {
      "text/plain": [
       "-1"
      ]
     },
     "execution_count": 21,
     "metadata": {},
     "output_type": "execute_result"
    }
   ],
   "source": [
    "jacobi_symbol(434, 2221)"
   ]
  },
  {
   "cell_type": "markdown",
   "id": "928e226f",
   "metadata": {},
   "source": [
    "## <font color='red'>Задание 4.</font>\n",
    "\n",
    "Изучить код функции `jacobi_symbol(a, n)`. Какие 4 строки в нём лишние?"
   ]
  },
  {
   "cell_type": "markdown",
   "id": "79257c3b",
   "metadata": {},
   "source": [
    "    if m < 0:\n",
    "        m = -m\n",
    "        if n % 4 == 3:\n",
    "            j = -j"
   ]
  },
  {
   "cell_type": "markdown",
   "id": "9bdb089c",
   "metadata": {},
   "source": [
    "***"
   ]
  },
  {
   "cell_type": "markdown",
   "id": "12f65a7b",
   "metadata": {},
   "source": [
    "## <font color='red'>Задание 5.</font>\n",
    "\n",
    "Если подбирать числа $a,$ $n$ специальным образом, то, как показано в следующей ячейке, функция `jacobi_symbol(a,n)` работает значительно медленнее функции `Jacobi`. Какие строки кода функции `jacobi_symbol(a,n)` на это влияют?"
   ]
  },
  {
   "cell_type": "code",
   "execution_count": 24,
   "id": "e9b44cbb",
   "metadata": {},
   "outputs": [
    {
     "name": "stdout",
     "output_type": "stream",
     "text": [
      "Answer: 1 for -404/3 in 750100 ns\n"
     ]
    }
   ],
   "source": [
    "while True:\n",
    "    m = randrange(-1000, 1000)\n",
    "    while k % 8 not in [3,5]:\n",
    "        k = randrange(1, 500, 2)\n",
    "    time0 = time.perf_counter_ns()\n",
    "    j = jacobi_symbol(m, k)\n",
    "    t = time.perf_counter_ns() - time0\n",
    "    if t>700000:\n",
    "        print(f'Answer: {j} for {m}/{k} in {t} ns')\n",
    "        break"
   ]
  },
  {
   "cell_type": "markdown",
   "id": "c6338587",
   "metadata": {},
   "source": [
    "Answer: -1 for 301/347 in 992600 ns\n",
    "\n",
    "Answer: 1 for -641/3 in 724400 ns\n",
    "\n",
    "Answer: -1 for 707/3 in 1439000 ns\n",
    "\n",
    "Answer: -1 for 872/5 in 722200 ns\n",
    "\n",
    "Answer: -1 for 758/451 in 1668000 ns\n",
    "\n",
    "Answer: 1 for -442/451 in 1216900 ns\n"
   ]
  },
  {
   "cell_type": "markdown",
   "id": "8a214f7f",
   "metadata": {},
   "source": [
    "    if n % 8 in [3, 5]:"
   ]
  },
  {
   "cell_type": "markdown",
   "id": "943e8837",
   "metadata": {},
   "source": [
    "***"
   ]
  },
  {
   "cell_type": "markdown",
   "id": "aaa853e7",
   "metadata": {},
   "source": [
    "For an integer ``a`` and an odd prime ``p``, the Legendre symbol is\n",
    "    defined as\n",
    "      $\\genfrac(){}{}{a}{p} = \\begin{cases}\n",
    "           0 & \\text{if } p \\text{ divides } a\\\\\n",
    "           1 & \\text{if } a \\text{ is a quadratic residue modulo } p\\\\\n",
    "          -1 & \\text{if } a \\text{ is a quadratic nonresidue modulo } p\n",
    "      \\end{cases}$\n",
    "      \n",
    "      "
   ]
  },
  {
   "cell_type": "code",
   "execution_count": 25,
   "id": "35969016",
   "metadata": {},
   "outputs": [],
   "source": [
    "from sympy.core.compatibility import as_int\n",
    "from sympy.ntheory import isprime\n",
    "\n",
    "def legendre_symbol(a, p):\n",
    "    a, p = as_int(a), as_int(p)\n",
    "    if not isprime(p) or p == 2:\n",
    "        raise ValueError(\"p should be an odd prime\")\n",
    "    a = a % p\n",
    "    if not a:\n",
    "        return 0\n",
    "    if pow(a, (p - 1) // 2, p) == 1:\n",
    "        return 1\n",
    "    return -1 "
   ]
  },
  {
   "cell_type": "markdown",
   "id": "d4fe2253",
   "metadata": {},
   "source": [
    "## <font color='red'>Задание 6.</font>\n",
    "\n",
    "Сравнить скорость работы функций `legendre_symbol(a,n)` и `jacobi_symbol(m,n)`. Как скорость связана с алгоритмом быстрого возведения в степень и алгоритмом Евклида? Сравнить временную сложность алгоритмов быстрого возведения в степень и Евклида. Можно ли символ Лежандра вычислять при помощи символа Якоби?"
   ]
  },
  {
   "cell_type": "code",
   "execution_count": 26,
   "id": "22695c7a",
   "metadata": {},
   "outputs": [
    {
     "name": "stdout",
     "output_type": "stream",
     "text": [
      "legendre_symbol:--- 2.096426248550415 seconds ---\n",
      "jacobi_symbol:--- 0.0698080062866211 seconds ---\n"
     ]
    }
   ],
   "source": [
    "from sympy import randprime \n",
    "s = 7\n",
    "b = 1000\n",
    "p = randprime(1<<b-1, 1<<b)\n",
    "a = m = randint(-p,p)\n",
    "\n",
    "start_time = time.time()\n",
    "for _ in range(2**s):\n",
    "    legendre_symbol(a,p)\n",
    "print(\"legendre_symbol:--- %s seconds ---\" % (time.time() - start_time))\n",
    "start_time = time.time()\n",
    "for _ in range(2**s):\n",
    "    jacobi_symbol(m, p) \n",
    "print(\"jacobi_symbol:--- %s seconds ---\" % (time.time() - start_time))"
   ]
  },
  {
   "cell_type": "markdown",
   "id": "29ddaa9b",
   "metadata": {},
   "source": [
    "$$\n",
    "  FastPower \\quad T(N):=\\max\\limits_{\\left<a,d,m\\right>\\leq N} f(a,d,m)\\leq \\max\\limits_{\\left<a,d,m\\right>\\leq N}4\\left<d\\right><4N.\n",
    "$$\n",
    "  \n",
    "$$\n",
    "  GCD \\quad T(N):=\\max\\limits_{\\left<a,b\\right>\\leq N} f(a,b)< \\frac{N}{\\log_2G}+1\n",
    "$$\n",
    " Здесь $G\\approx1.618$ --- золотое сечение, корень\n",
    "  уравнения $\\quad x^2-x-1=0.$\n",
    "  \n",
    " $\\log_2G\\approx0.7$\n",
    " \n",
    " $4N >1.4N + 1$"
   ]
  },
  {
   "cell_type": "markdown",
   "id": "72371973",
   "metadata": {},
   "source": [
    "Символ Лежандра определен только в случае простого знаменателя. Если же знаменатель составной, то вводится символ Якоби, обобщающий символ Лежандра.\n",
    "Если число n — простое, то символ Якоби является символом Ле­жандра."
   ]
  },
  {
   "cell_type": "code",
   "execution_count": 27,
   "id": "f9ddce56",
   "metadata": {},
   "outputs": [
    {
     "name": "stdout",
     "output_type": "stream",
     "text": [
      "end\n"
     ]
    }
   ],
   "source": [
    "for _ in range(10000):\n",
    "    while True:\n",
    "        elem = randrange(-500001, 500000, 2)\n",
    "        if isprime(elem):\n",
    "            break\n",
    "        #print(elem)\n",
    "    if jacobi_symbol(m, elem) != legendre_symbol(m,elem):\n",
    "        print('No')\n",
    "print('end')"
   ]
  },
  {
   "cell_type": "markdown",
   "id": "2d1ae389",
   "metadata": {},
   "source": [
    "***"
   ]
  },
  {
   "cell_type": "code",
   "execution_count": 28,
   "id": "8902013d",
   "metadata": {},
   "outputs": [],
   "source": [
    "def Shanks(a, p):\n",
    "    if not Jacobi(a, p) == 1:\n",
    "        raise ValueError(\"a should be a quadratic residue\")\n",
    "    s,t = st(p-1)\n",
    "    n = randint(2,p-2)\n",
    "    while Jacobi(n,p) == 1:\n",
    "        n = randint(2,p-2)\n",
    "    b = pow(n,t,p)\n",
    "    r = pow(a,(t+1)//2,p)\n",
    "    d = 0\n",
    "    f = pow(a,t,p)\n",
    "    b2 = b\n",
    "    for i in range(1,s):\n",
    "        b2 = b2*b2 % p\n",
    "        if not pow(f,2**(s-1-i)) == 1:\n",
    "            d += 2**i\n",
    "            f = f*b2 % p \n",
    "    return r*pow(b,d//2,p) % p"
   ]
  },
  {
   "cell_type": "code",
   "execution_count": 29,
   "id": "a177d29b",
   "metadata": {},
   "outputs": [],
   "source": [
    "from sympy.ntheory.factor_ import trailing #st\n",
    "def _sqrt_mod_tonelli_shanks(a, p):\n",
    "    \"\"\"\n",
    "    Returns the square root in the case of ``p`` prime with ``p == 1 (mod 8)``\n",
    "\n",
    "    References\n",
    "    ==========\n",
    "\n",
    "    .. [1] R. Crandall and C. Pomerance \"Prime Numbers\", 2nt Ed., page 101\n",
    "\n",
    "    \"\"\"\n",
    "    s = trailing(p - 1)\n",
    "    t = p >> s\n",
    "    # find a non-quadratic residue\n",
    "    while 1:\n",
    "        d = randint(2, p - 1)   #d=n\n",
    "        r = legendre_symbol(d, p)\n",
    "        if r == -1:\n",
    "            break\n",
    "    #assert legendre_symbol(d, p) == -1\n",
    "    A = pow(a, t, p)      \n",
    "    D = pow(d, t, p)     # D = b \n",
    "    m = 0                # m = d          \n",
    "    for i in range(s):\n",
    "        adm = A*pow(D, m, p) % p\n",
    "        adm = pow(adm, 2**(s - 1 - i), p)\n",
    "        if adm % p == p - 1:\n",
    "            m += 2**i\n",
    "    #assert A*pow(D, m, p) % p == 1\n",
    "    x = pow(a, (t + 1)//2, p)*pow(D, m//2, p) % p\n",
    "    return x "
   ]
  },
  {
   "cell_type": "code",
   "execution_count": 30,
   "id": "16733acc",
   "metadata": {},
   "outputs": [
    {
     "name": "stdout",
     "output_type": "stream",
     "text": [
      "Shanks:--- 1.0740935802459717 seconds ---\n",
      "_sqrt_mod_tonelli_shanks:--- 4.235704183578491 seconds ---\n"
     ]
    }
   ],
   "source": [
    "from sympy import randprime \n",
    "s = 2\n",
    "sa = 10\n",
    "b = 1000\n",
    "p = randprime(1<<b-1, 1<<b)\n",
    "while 1:\n",
    "    a = randint(-2**sa,2**sa)\n",
    "    if Jacobi(a,p) == 1:\n",
    "        break\n",
    "start_time = time.time()\n",
    "for _ in range(10**s):\n",
    "    Shanks(a,p)\n",
    "print(\"Shanks:--- %s seconds ---\" % (time.time() - start_time))\n",
    "start_time = time.time()\n",
    "for _ in range(10**s):\n",
    "    _sqrt_mod_tonelli_shanks(a, p) \n",
    "print(\"_sqrt_mod_tonelli_shanks:--- %s seconds ---\" % (time.time() - start_time))"
   ]
  },
  {
   "cell_type": "code",
   "execution_count": 31,
   "id": "a3b5a05f",
   "metadata": {},
   "outputs": [
    {
     "name": "stdout",
     "output_type": "stream",
     "text": [
      "0.0020868000000007214\n"
     ]
    }
   ],
   "source": [
    "import timeit\n",
    "A=10\n",
    "D = 20\n",
    "m = 10**5\n",
    "p = 567\n",
    "s = 6\n",
    "i = 1\n",
    "b2 = A\n",
    "f = D\n",
    "d = m\n",
    "start = timeit.timeit()\n",
    "# for i in range(s):\n",
    "#         adm = A*pow(D, m, p) % p\n",
    "#         adm = pow(adm, 2**(s - 1 - i), p)\n",
    "#         if adm % p == p - 1:\n",
    "#             m += 2**i\n",
    "for i in range(1,s):\n",
    "        b2 = b2*b2 % p\n",
    "        if not pow(f,2**(s-1-i)) == 1:\n",
    "            d += 2**i\n",
    "            f = f*b2 % p \n",
    "end =  timeit.timeit()\n",
    "print(end-start)"
   ]
  },
  {
   "cell_type": "code",
   "execution_count": 32,
   "id": "1220833d",
   "metadata": {},
   "outputs": [
    {
     "data": {
      "text/plain": [
       "True"
      ]
     },
     "execution_count": 32,
     "metadata": {},
     "output_type": "execute_result"
    }
   ],
   "source": [
    "a = 3\n",
    "p = 11 \n",
    "Shanks(1,p) == _sqrt_mod_tonelli_shanks(1, p)"
   ]
  },
  {
   "cell_type": "markdown",
   "id": "c5700930",
   "metadata": {},
   "source": [
    "## <font color='red'>Задание 7.</font>\n",
    "Оценить количество арифметических операций в функции `Shanks(a, p)` и `_sqrt_mod_tonelli_shanks(a, p)`. Почему функция `_sqrt_mod_tonelli_shanks(a, p)` работает медленнее (есть как минимум 2 причины)?"
   ]
  },
  {
   "cell_type": "markdown",
   "id": "087fc975",
   "metadata": {},
   "source": [
    "Shanks(a, p) $f(s) = j + s + 1 + j + 7 + (s-1)*8 + 5$"
   ]
  },
  {
   "cell_type": "markdown",
   "id": "de12be7c",
   "metadata": {},
   "source": [
    "_sqrt_mod_tonelli_shanks(a, p) $f(s) = s + 1 + l + 4 + s*(8 + 4) + 8 $"
   ]
  },
  {
   "cell_type": "markdown",
   "id": "39784184",
   "metadata": {},
   "source": [
    "1) лежандр > якоби\n",
    "\n",
    "2) ?????"
   ]
  },
  {
   "cell_type": "markdown",
   "id": "86183547",
   "metadata": {},
   "source": [
    "***"
   ]
  },
  {
   "cell_type": "markdown",
   "id": "2b0c1d3e",
   "metadata": {},
   "source": [
    "# Случай составного модуля\n",
    "Пусть $\\;n=p_1p_2\\dots p_k,$ \n",
    "    \n",
    "$p_i$ --- простые нечетные числа, $p_i\\neq p_j,$\n",
    "    \n",
    "$a$ --- квадратичный вычет по модулю $n.$ \n",
    "     \n",
    "Тогда\n",
    " $$\n",
    "   x^2\\equiv a\\mod n\\qquad\\Leftrightarrow\\qquad\\left\\{\\begin{array}{ll}\n",
    "   x^2\\equiv a & \\mod p_1,\\\\\n",
    "   x^2\\equiv a & \\mod p_2,\\\\\n",
    "   \\dots\\\\\n",
    "   x^2\\equiv a & \\mod p_k.\n",
    "          \\end{array}      \\right.\n",
    "$$\n",
    " \n",
    " Из чего следует, что\n",
    " $$\n",
    "  a\\in Q_n\\qquad\\Leftrightarrow\\qquad a\\in Q_{p_1}, a\\in Q_{p_2},\\dots,a\\in Q_{p_k}.\n",
    "$$      \n"
   ]
  },
  {
   "cell_type": "markdown",
   "id": "a47b6f20",
   "metadata": {},
   "source": [
    "## Решение уравнения (3) для составного модуля\n",
    "Уравнение (3) при\n",
    "$$\n",
    "  n=p_1p_2\\dots p_k,\\qquad p_i - простые, \\quad p_i\\neq p_j,\n",
    "$$\n",
    "решается следующим образом.\n",
    "\n",
    "1$.$ Находятся корни $\\;\\pm x_i\\;$ уравнения $\\;x^2\\equiv a\\mod p_i,\\;$\n",
    "    $\\quad i=1,2,\\dots,k.$\n",
    "\n",
    "\n",
    "2$.$ Решения уравнения (3) находятся при помощи Китайской теоремы об остатках из $2^k$ систем\n",
    "  $$\\left\\{\\begin{array}{l}\n",
    "      x\\equiv\\pm x_1\\mod p_1,\\\\\n",
    "      x\\equiv\\pm x_2\\mod p_2,\\\\\n",
    "      \\vdots\\\\\n",
    "           x\\equiv\\pm x_k\\mod p_k.\\end{array}\\right.\n",
    "  $$"
   ]
  },
  {
   "cell_type": "markdown",
   "id": "10a3d97b",
   "metadata": {},
   "source": [
    "## <font color='red'>Задание 8.</font>\n",
    "Известно, что $\\;n\\;$ является произведением двух простых чисел. Вычислить символы Якоби $\\left(\\frac{a_i}{n}\\right).\\;$ Указать, где это возможно, сколько корней имеет уравнение\n",
    "$$\n",
    "  x^2\\equiv a_i  \\mod  n.\n",
    "$$\n",
    "Найти хотя бы один из корней, где это просто сделать. "
   ]
  },
  {
   "cell_type": "markdown",
   "id": "65a0129e",
   "metadata": {},
   "source": [
    "- Если p и q — различные нечетные простые числа, их либо 4, либо нет. Из китайской теоремы об остатках."
   ]
  },
  {
   "cell_type": "code",
   "execution_count": 190,
   "id": "a28dc69c",
   "metadata": {},
   "outputs": [],
   "source": [
    "n = 84465165943537472644871233827821170521698982386777129038509406235539601394863117334243136244406775598178462906500679565575101566913566239033668209235147612034907335477169946376115426104178595157279646965760136496669065203633582348560712541165974736351205798637131996488608286578462768905693610957570394648844274389507842799818002460590659255413178340680139004481311757461901824341359084620140184161212224695726947329311796586747903199386421982058367230266245732183427118371695029245357790322420342384842799567398196322270636343388910284535949118645227372823982778040165350224033891107581853040384969113\n",
    "a1 = 11\n",
    "a2 = 13\n",
    "a3 = 22\n",
    "a4 = 85389779562588085920762793624136585261431288997902867649919257020785853242136102033669044931486264301908119853683326769420316417409910847399918173495884699322920353276810519062389339724092699096071191944117247413424398626064636258919783617266583464697953282614276202019540668125595286296308087099624082123539753533521149899918750661846227163701343155895585979052124697981257307962913057834421461965057483424657861433212872880193469780230599920739707539879353498641470546256942521605842617431904722472855505249768929693623327122569044140666024125506896431466014271818110978227484908688166584556002791533"
   ]
  },
  {
   "cell_type": "code",
   "execution_count": 191,
   "id": "aed84a48",
   "metadata": {},
   "outputs": [
    {
     "data": {
      "text/plain": [
       "1"
      ]
     },
     "execution_count": 191,
     "metadata": {},
     "output_type": "execute_result"
    }
   ],
   "source": [
    "Jacobi(a1, n)"
   ]
  },
  {
   "cell_type": "code",
   "execution_count": 192,
   "id": "6b37f45f",
   "metadata": {},
   "outputs": [
    {
     "data": {
      "text/plain": [
       "-1"
      ]
     },
     "execution_count": 192,
     "metadata": {},
     "output_type": "execute_result"
    }
   ],
   "source": [
    "Jacobi(a2, n)"
   ]
  },
  {
   "cell_type": "code",
   "execution_count": 193,
   "id": "35b6746b",
   "metadata": {},
   "outputs": [
    {
     "data": {
      "text/plain": [
       "1"
      ]
     },
     "execution_count": 193,
     "metadata": {},
     "output_type": "execute_result"
    }
   ],
   "source": [
    "Jacobi(a3, n)"
   ]
  },
  {
   "cell_type": "code",
   "execution_count": 194,
   "id": "4d5b91b2",
   "metadata": {},
   "outputs": [
    {
     "data": {
      "text/plain": [
       "True"
      ]
     },
     "execution_count": 194,
     "metadata": {},
     "output_type": "execute_result"
    }
   ],
   "source": [
    "Jacobi(a4, n) == jacobi_symbol(a4, n) == 0"
   ]
  },
  {
   "cell_type": "markdown",
   "id": "457eb01c",
   "metadata": {},
   "source": [
    "    if igcd(m, n) != 1:\n",
    "            return 0"
   ]
  },
  {
   "cell_type": "code",
   "execution_count": 195,
   "id": "cf6f9b40",
   "metadata": {},
   "outputs": [
    {
     "data": {
      "text/plain": [
       "10422998769797228793472885346018175488133851516565182793867514261915906312210742260992757450769877157700254141561950246870131751156126244266366394767636875227144868424041005035508072915880610245928493742815925812843037074606582204382566286367826689979539878804592940711112769531986155037509690231972187"
      ]
     },
     "execution_count": 195,
     "metadata": {},
     "output_type": "execute_result"
    }
   ],
   "source": [
    "div1 = gcd(n, a4)\n",
    "div1"
   ]
  },
  {
   "cell_type": "code",
   "execution_count": 196,
   "id": "9a880058",
   "metadata": {
    "scrolled": true
   },
   "outputs": [
    {
     "data": {
      "text/plain": [
       "8.103729819895265e+300"
      ]
     },
     "execution_count": 196,
     "metadata": {},
     "output_type": "execute_result"
    }
   ],
   "source": [
    "div2 = n/div1\n",
    "div2 # =("
   ]
  },
  {
   "cell_type": "code",
   "execution_count": 198,
   "id": "5e9ef49c",
   "metadata": {},
   "outputs": [],
   "source": [
    "xi = Shanks(a3, div1) "
   ]
  },
  {
   "cell_type": "code",
   "execution_count": 189,
   "id": "aa0fff66",
   "metadata": {},
   "outputs": [
    {
     "data": {
      "text/plain": [
       "2334974224708254004979462375669660104047831536321884391980996414646614841073920379676196450746443955468926500186532890605871681719163613625525807824457410069023229346153996940570106474565490739130529832063534698039576528780701853832935645591788375343106699935715880261715044590826112118848882991271366"
      ]
     },
     "execution_count": 189,
     "metadata": {},
     "output_type": "execute_result"
    }
   ],
   "source": [
    "Shanks(a3, div1)"
   ]
  },
  {
   "cell_type": "code",
   "execution_count": 108,
   "id": "6f023f61",
   "metadata": {},
   "outputs": [],
   "source": [
    "from sympy.ntheory.modular import crt "
   ]
  },
  {
   "cell_type": "code",
   "execution_count": 203,
   "id": "51e85c48",
   "metadata": {},
   "outputs": [],
   "source": [
    "x, n = crt([div1], [xi])"
   ]
  },
  {
   "cell_type": "code",
   "execution_count": 210,
   "id": "3ac85a2f",
   "metadata": {},
   "outputs": [
    {
     "data": {
      "text/plain": [
       "True"
      ]
     },
     "execution_count": 210,
     "metadata": {},
     "output_type": "execute_result"
    }
   ],
   "source": [
    "x**2 % n == a3 % n"
   ]
  },
  {
   "cell_type": "code",
   "execution_count": 211,
   "id": "6a613d4d",
   "metadata": {},
   "outputs": [
    {
     "data": {
      "text/plain": [
       "2334974224708254004979462375669660104047831536321884391980996414646614841073920379676196450746443955468926500186532890605871681719163613625525807824457410069023229346153996940570106474565490739130529832063534698039576528780701853832935645591788375343106699935715880261715044590826112118848882991271366"
      ]
     },
     "execution_count": 211,
     "metadata": {},
     "output_type": "execute_result"
    }
   ],
   "source": [
    "x"
   ]
  },
  {
   "cell_type": "code",
   "execution_count": null,
   "id": "b1ac600f",
   "metadata": {},
   "outputs": [],
   "source": []
  }
 ],
 "metadata": {
  "kernelspec": {
   "display_name": "Python 3 (ipykernel)",
   "language": "python",
   "name": "python3"
  },
  "language_info": {
   "codemirror_mode": {
    "name": "ipython",
    "version": 3
   },
   "file_extension": ".py",
   "mimetype": "text/x-python",
   "name": "python",
   "nbconvert_exporter": "python",
   "pygments_lexer": "ipython3",
   "version": "3.9.7"
  }
 },
 "nbformat": 4,
 "nbformat_minor": 5
}
