{
 "cells": [
  {
   "cell_type": "markdown",
   "id": "e4b7f733",
   "metadata": {
    "slideshow": {
     "slide_type": "slide"
    }
   },
   "source": [
    "<H6 align=\"center\">Белорусский государственный университет </H6>\n",
    "<H6 align=\"center\">Механико-математический факультет </H6>\n",
    "<H6 align=\"center\">Кафедра дифференциальных уравнений  и системного анализа </H6>\n",
    "\n",
    "<H2 align=\"center\">  Математические основы защиты информации</H2>\n",
    "\n",
    "\n",
    "<H2 align=\"center\"> Лекция 15.  Решетки</H2>\n",
    "\n",
    "$ $\n",
    "\n",
    "<H4 align=\"center\">Чергинец Дмитрий Николаевич </H4>\n"
   ]
  },
  {
   "cell_type": "markdown",
   "id": "5efb0f29",
   "metadata": {
    "jp-MarkdownHeadingCollapsed": true,
    "slideshow": {
     "slide_type": "slide"
    },
    "tags": []
   },
   "source": [
    "## 1. Решетки\n",
    "Пусть $\\;v_1,v_2,\\dots,v_m\\in\\mathbb{R}^n\\;$  линейно  независимые векторы.\n",
    "\n",
    "       \n",
    "Множество векторов\n",
    "$$\n",
    "  L=L(v_1,\\dots,v_m) :=  \\{z_1v_1+z_2v_2+\\dots+z_{ m}v_{m} \\mid z_1,z_2,\\dots,z_{m}\\in\\mathbb{Z}\\},\n",
    " $$\n",
    "называется <font color='blue'> решеткой</font> размерности $\\;m.$ \n",
    "\n",
    "      \n",
    "$v_1,      v_2,\\dots,v_m\\;$ называются <font color='blue'>базисом решетки</font>.\n",
    "      \n",
    "\n",
    "      \n",
    "Решетку можно еще определить как минимальную аддитивную группу в $\\;\\mathbb{R}^n,\\;$ содержащую  векторы $\\;v_1,v_2,\\dots,v_m\\in\\mathbb{R}^n.\\;$"
   ]
  },
  {
   "cell_type": "markdown",
   "id": "d134b642",
   "metadata": {
    "slideshow": {
     "slide_type": "skip"
    }
   },
   "source": [
    "### <font color='red'>Задание 1.</font>\n",
    "Изобразить решетку $\\;L(v_1, v_2)\\;$ в окрестности начала координат. Элементы решетки изображать точками."
   ]
  },
  {
   "cell_type": "code",
   "execution_count": 305,
   "id": "1da25984",
   "metadata": {
    "scrolled": false
   },
   "outputs": [
    {
     "data": {
      "image/png": "[encoded data removed]",
      "text/plain": [
       "<Figure size 432x288 with 1 Axes>"
      ]
     },
     "metadata": {
      "needs_background": "light"
     },
     "output_type": "display_data"
    }
   ],
   "source": [
    "import numpy as np\n",
    "import matplotlib.pyplot as plt\n",
    "\n",
    "def plot_lattice(v1, v2):\n",
    "    fig, ax = plt.subplots()\n",
    "    ax.set_aspect('equal')\n",
    "    ax.grid(True)\n",
    "    ax.axhline(y=0, color='k')\n",
    "    ax.axvline(x=0, color='k')\n",
    "    for i in range(-5, 6):\n",
    "        for j in range(-5, 6):\n",
    "            x = i * v1[0] + j * v2[0]\n",
    "            y = i * v1[1] + j * v2[1]\n",
    "            ax.plot(x, y, 'bo', markersize=5)\n",
    "    plt.show()\n",
    "\n",
    "# Пример использования\n",
    "v1 = np.array([4, 4])\n",
    "v2 = np.array([1, 3])\n",
    "plot_lattice(v1, v2)\n"
   ]
  },
  {
   "cell_type": "markdown",
   "id": "a5233fd6",
   "metadata": {
    "slideshow": {
     "slide_type": "slide"
    }
   },
   "source": [
    "## 2. Теорема о базисе решетки\n",
    "Пусть $\\;V:=(v_1,v_2,\\dots,v_m)\\;$ &ndash; матрица, столбцами которой являются линейно независимые векторы $\\;v_1,v_2,\\dots,v_m.\\;$\n",
    "              \n",
    "Векторы $\\;u_1,u_2,\\dots,u_m\\in\\mathbb{R}^n\\;$ являются базисом решетки $\\;L(v_1,\\dots,v_m)\\;$ тогда и только тогда, когда\n",
    "существует такая матрица $\\;M\\;$ размерности $\\;m\\times m\\;$ с целыми  элементами, что $\\;\\det M=\\pm1,\\;$\n",
    "$$\n",
    "  U^T=MV^T,\n",
    "$$\n",
    "где $\\;U:=(u_1,u_2,\\dots,u_m)\\;$ &ndash; матрица, столбцами которой являются вектора $\\;u_i.\\;$"
   ]
  },
  {
   "cell_type": "markdown",
   "id": "6668906f",
   "metadata": {
    "slideshow": {
     "slide_type": "subslide"
    }
   },
   "source": [
    "### Определитель решетки\n",
    "<font color='blue'>Определителем решетки</font> $\\;L(v_1,v_2,\\dots,v_m)\\;$ называется число\n",
    "$$\n",
    "  d(L):=\\sqrt{\\det\\left(\n",
    "        \\begin{array}{ccc}\n",
    "         <v_1,v_1> &  \\ldots & <v_1,v_m> \\\\\n",
    "         <v_2,v_1> &  \\ldots & <v_2,v_m> \\\\\n",
    "         \\vdots    &  \\ddots & \\vdots    \\\\ \n",
    "         <v_m,v_1> &  \\ldots & <v_m,v_m>  \n",
    "        \\end{array}\n",
    "     \\right)}\n",
    "$$     \n",
    "Если $\\;V:=(v_1,v_2,\\dots,v_m)\\;$ &ndash; матрица, в $\\;i$-ом столбце которой записан вектор $\\;v_i,\\;$ то     \n",
    "$$\n",
    "  d(L)=\\sqrt{\\det(V^TV)}.\n",
    "$$ "
   ]
  },
  {
   "cell_type": "markdown",
   "id": "d997a326",
   "metadata": {
    "slideshow": {
     "slide_type": "subslide"
    }
   },
   "source": [
    "### Инвариант решетки\n",
    "**Теорема.**  \n",
    "Определитель решетки не зависит от выбора базиса, то есть является инвариантом решетки."
   ]
  },
  {
   "cell_type": "markdown",
   "id": "f7a6edc2",
   "metadata": {
    "slideshow": {
     "slide_type": "subslide"
    }
   },
   "source": [
    "### Задача о кротчайшем векторе\n",
    "<font color='blue'>Задачей о кратчайшем векторе решетки</font>         называется задача       нахождения ненулевого вектора решетки, который имеет\n",
    "      наименьшую норму среди всех ненулевых векторов решетки.\n",
    "\n",
    "\n",
    "Задача о нахождении кратчайшего вектора не принадлежит классу $\\;NP.\\;$\n",
    "\n",
    "Задача о нахождении кратчайшего вектора является $\\;NP$-трудной."
   ]
  },
  {
   "cell_type": "markdown",
   "id": "297824b8",
   "metadata": {
    "slideshow": {
     "slide_type": "skip"
    }
   },
   "source": [
    "### <font color='red'>Задание 2.</font>\n",
    "Найти какой-нибудь другой базис решетки $\\;L(v_1, v_2).\\;$ Вычислить определитель решетки. Найти кратчайший ненулевой вектор\n",
    "решетки."
   ]
  },
  {
   "cell_type": "code",
   "execution_count": 306,
   "id": "8a67cc60",
   "metadata": {
    "scrolled": false
   },
   "outputs": [
    {
     "data": {
      "text/plain": [
       "(matrix([[21, 16],\n",
       "         [31, 24]]),\n",
       " matrix([[4, 1],\n",
       "         [4, 3]]))"
      ]
     },
     "execution_count": 306,
     "metadata": {},
     "output_type": "execute_result"
    }
   ],
   "source": [
    "from random import randint\n",
    "\n",
    "v = np.matrix([v1, v2]).T\n",
    "w = []\n",
    "while True:\n",
    "    i = randint(-10, 10)\n",
    "    j = randint(-10, 10)\n",
    "    u = i * v1 + j * v2\n",
    "    if np.linalg.norm(u) > 0:\n",
    "        w.append(u)\n",
    "    if len(w) == 2:\n",
    "        w = np.matrix([w[0], w[1]]).T\n",
    "        M = w.T @ (v.T).I\n",
    "        if int(np.linalg.det(M)) in (1, -1):\n",
    "            break\n",
    "        else:\n",
    "            w = []\n",
    "w, v # вектора - столбцы"
   ]
  },
  {
   "cell_type": "code",
   "execution_count": 307,
   "id": "1c3abc47",
   "metadata": {},
   "outputs": [
    {
     "data": {
      "text/plain": [
       "7.937253933193772"
      ]
     },
     "execution_count": 307,
     "metadata": {},
     "output_type": "execute_result"
    }
   ],
   "source": [
    "det = np.sqrt(int(np.linalg.det(v.T @ v)))\n",
    "det"
   ]
  },
  {
   "cell_type": "code",
   "execution_count": 308,
   "id": "136158b8",
   "metadata": {
    "scrolled": true
   },
   "outputs": [
    {
     "data": {
      "text/plain": [
       "7.937253933193772"
      ]
     },
     "execution_count": 308,
     "metadata": {},
     "output_type": "execute_result"
    }
   ],
   "source": [
    "det = np.sqrt(int(np.linalg.det(w.T @ w)))\n",
    "det"
   ]
  },
  {
   "cell_type": "markdown",
   "id": "6ddcfc61",
   "metadata": {},
   "source": [
    "Значения определителя равны"
   ]
  },
  {
   "cell_type": "code",
   "execution_count": 309,
   "id": "7874fb04",
   "metadata": {},
   "outputs": [
    {
     "data": {
      "text/plain": [
       "(array([-2,  2]), 2.8284271247461903)"
      ]
     },
     "execution_count": 309,
     "metadata": {},
     "output_type": "execute_result"
    }
   ],
   "source": [
    "shortest_vector = np.array([10, 10])\n",
    "shortest_norm = 14.142135623730951\n",
    "for i in range(-4, 5):\n",
    "    for j in range(-4, 5):\n",
    "        vector = i * v1 + j * v2\n",
    "        norm = np.linalg.norm(vector)\n",
    "        if norm > 0 and norm < shortest_norm:\n",
    "            shortest_vector = vector\n",
    "            shortest_norm = norm\n",
    "    # print(shortest_norm)\n",
    "\n",
    "shortest_vector, shortest_norm"
   ]
  },
  {
   "cell_type": "markdown",
   "id": "1953e7ce",
   "metadata": {
    "slideshow": {
     "slide_type": "slide"
    }
   },
   "source": [
    "## 3. Ортогонализация Грама-Шмидта\n",
    "**Input:** Базис $\\;v_1,v_2,\\dots,v_m\\in\\mathbb{R}^n\\;$ векторного пространства.\n",
    "\n",
    "**Output:** Ортогональный базис $\\;w_1,w_2,\\dots,w_m\\;$ данного  векторного пространства.\n",
    "\n",
    "$1.$ Для $\\;i=1,\\dots,m\\;$ последовательно вычисляем\n",
    " $$\n",
    " w_i:=v_i-\\sum\\limits_{j=1}^{i-1}\\mu_{i,j}w_j,\n",
    " $$\n",
    " где \n",
    " $$ \n",
    " \\mu_{i,j}:=\\frac{<v_i,w_j>}{<w_j,w_j>}.\n",
    " $$\n",
    "\n",
    "\n",
    "$2.$ Выдаем ответ $\\;w_1,w_2,\\dots,w_m.$\n",
    "\n",
    " "
   ]
  },
  {
   "cell_type": "markdown",
   "id": "0530ec40",
   "metadata": {
    "slideshow": {
     "slide_type": "subslide"
    }
   },
   "source": [
    "### Связь базисов\n",
    "Векторы $\\;v_i\\;$ однозначно определяются через векторы $\\;w_i\\;$\n",
    "$$\n",
    "  v_i=w_i+\\sum\\limits_{j=1}^{i-1}\\mu_{i,j}w_j.\n",
    "$$   \n",
    "Доопределим коэффициенты $\\mu_{i,j}:$\n",
    "  \n",
    "  $  \\mu_{i,j}:=0,$\n",
    "   при $1\\leq i<j\\leq m,$ \n",
    "   \n",
    "   $\\mu_{i,i}:=1.$ \n",
    "   \n",
    "Получили матрицу перехода $\\;\\mu,\\;$ состоящую из $\\;\\mu_{i,j},$ \n",
    "$$\n",
    "  V^T=\\mu W^T.\n",
    "$$\n",
    "где  $\\;W:=(w_1,w_2,\\dots,w_m).\\;$ Причем $\\det\\mu=1.\\;$   Но $\\;\\mu\\;$ как правило не целочисленная матрица."
   ]
  },
  {
   "cell_type": "markdown",
   "id": "9e49c669",
   "metadata": {
    "slideshow": {
     "slide_type": "subslide"
    }
   },
   "source": [
    "### Ортогональный базис и $\\;d(L)$\n",
    "$$\n",
    "  d(L)=\\sqrt{\\det(V^TV)}=  \\sqrt{\\det(\\mu W^TW\\mu^T)}  =\\sqrt{\\det(W^TW)}= \\|w_1\\| \\|w_2\\|\\dots\\|w_m\\|.\n",
    "$$\n",
    "\n",
    "**Теорема.**  \n",
    "Для определителя решетки $\\;L(v_1,v_2,\\dots,v_m)\\;$ справедлива формула\n",
    "$$\n",
    "  \\|w_1\\| \\|w_2\\|\\dots\\|w_m\\|=d(L),\n",
    "$$\n",
    "где векторы $\\;w_i\\;$ получены из векторов $\\;v_i\\;$ в результате ортогонализации Грама-Шмидта.       "
   ]
  },
  {
   "cell_type": "markdown",
   "id": "e5a7c3d6",
   "metadata": {
    "slideshow": {
     "slide_type": "skip"
    }
   },
   "source": [
    "### <font color='red'>Задание 3.</font>\n",
    "Реализовать ортогонализацию Грама-Шмидта."
   ]
  },
  {
   "cell_type": "code",
   "execution_count": 310,
   "id": "48cdb1d7",
   "metadata": {},
   "outputs": [
    {
     "data": {
      "text/plain": [
       "array([[ 4.,  4.],\n",
       "       [-1.,  1.]])"
      ]
     },
     "execution_count": 310,
     "metadata": {},
     "output_type": "execute_result"
    }
   ],
   "source": [
    "def gram_schmidt(v):\n",
    "    n = v.shape[0]\n",
    "    u = np.zeros((n,n))\n",
    "    for i in range(n):\n",
    "        u[i] = v[i]\n",
    "        for j in range(i):\n",
    "            u[i] -= np.dot(v[i], u[j]) / np.dot(u[j], u[j]) * u[j]\n",
    "    return u\n",
    "\n",
    "gram_schmidt(np.array([v1, v2]))"
   ]
  },
  {
   "cell_type": "markdown",
   "id": "67518298",
   "metadata": {
    "slideshow": {
     "slide_type": "skip"
    }
   },
   "source": [
    "### <font color='red'>Задание 4*.</font>\n",
    "Найти такую решетку $\\;L(v_1,\\dots,v_m),\\;$ базис которой является ортогональным: \n",
    "$\\;<v_i,v_j>=0\\;$ при $\\;i\\neq j,\\;$ и при этом у решетки существует ненулевой вектор $\\;v\\in L,\\;$ меньший базисных векторов:\n",
    "$$\n",
    "    \\forall i:=1,\\dots,m\\qquad (\\|v_i\\|>\\|v\\|).\n",
    "$$\n",
    "Первому решившему +1 балл на экзамене."
   ]
  },
  {
   "cell_type": "markdown",
   "id": "3f666fee",
   "metadata": {
    "slideshow": {
     "slide_type": "slide"
    }
   },
   "source": [
    "## 4. $LLL$-приведенный базис\n",
    "Базис $\\;v_1,v_2,\\dots,v_m\\;$ решетки называется  <font color='blue'>$\\;LLL$-приведенным</font>, если он удовлетворяет следующим двум  условиям.\n",
    "\n",
    "$1.\\;$ Для всех $\\;i,j\\;$ таких, что $\\;1\\leq j<i \\leq m,\\;$ справедливо       неравенство $\\;|\\mu_{i,j}|\\leq\\frac12.\\;$\n",
    "\n",
    "\n",
    "$2.\\;$ Для $\\;k=2,\\dots,m\\;$ справедливо неравенство\n",
    "$$\n",
    "  \\left(\\frac34-\\mu^2_{k,k-1}\\right) \\|w_{k-1}\\|^2\\leq\\|w_k\\|^2.\n",
    "$$\n",
    "\n",
    "\n",
    "Здесь $\\;\\mu_{i,j}=\\frac{<v_i,w_j>}{<w_j,w_j>},\\;$ базис $\\;w_1,w_2,\\dots,w_m\\;$ получен из       базиса $\\;v_1,v_2,\\dots,v_m\\;$ путем ортогонализации Грама-Шмидта.\n"
   ]
  },
  {
   "cell_type": "markdown",
   "id": "6cdd9450",
   "metadata": {
    "slideshow": {
     "slide_type": "slide"
    }
   },
   "source": [
    "## 5.  LLL-алгоритм\n",
    "**Схема LLL-алгоритма.**  \n",
    "\n",
    "**Input:** Базис $\\;v_1,v_2,\\dots,v_m\\in\\mathbb{R}^n\\;$ решетки $\\;L$.\n",
    "\n",
    "**Output:** LLL-приведенный базис решетки $\\;L.$\n",
    "\n",
    "$1.\\;$ $\\;k:=2.$\n",
    "\n",
    "$2.\\;$ $\\;v_k:=v_k-\\sum\\limits_{j=1}^{k-1}round(\\mu_{k,j})v_{j}.$\n",
    "\n",
    "$3.\\;$ Если $\\;\\left(\\frac34-\\mu_{k,k-1}^2\\right)\\|w_{k-1}\\|^2\\leq\\|w_k\\|^2,$ \n",
    "     \n",
    "$\\qquad$ то $\\;k:=k+1,$ \n",
    "     \n",
    "$\\qquad$ иначе     векторы $\\;v_k\\;$ и $\\;v_{k-1}\\;$ меняем местами,  $\\;k:=\\max\\{2,k-1\\}.$\n",
    "\n",
    "$4.\\;$ Если $\\;k\\leq m,\\;$ то переходим к шагу 2.\n",
    "\n",
    "$5.\\;$ Результат $\\;v_1,v_2,\\dots,v_m.$\n"
   ]
  },
  {
   "cell_type": "markdown",
   "id": "26f7c0a7",
   "metadata": {
    "slideshow": {
     "slide_type": "subslide"
    }
   },
   "source": [
    "### LLL-алгоритм\n",
    "   \n",
    "**Input:** $v_1,v_2,\\dots,v_m\\in\\mathbb{R}^n$ &ndash; базис решетки.\n",
    "\n",
    "**Output:** LLL-приведенный базис решетки.\n",
    "\n",
    "$1.\\;$ Ортогонализация Грама-Шмидта.  \n",
    "$\\quad$ Для $\\;i=1,2,\\dots,m\\;$ выполнить шаги 1.1-1.3:\n",
    "   \n",
    "$\\qquad 1.1.\\;$ Присвоить $\\;w_i:=v_i.$\n",
    "   \n",
    "$\\qquad1.2.\\;$ Для $\\;j=1,2,\\dots,i-1\\;$ вычислить \n",
    "$$\n",
    "  \\mu_{i,j}:=\\frac{<v_i,w_j>}{W_j},\\qquad w_i:=w_i-\\mu_{i,j}w_j.\n",
    "$$\n",
    "$\\qquad1.3.\\;$ Положить $\\;\\mu_{i,i}:=1,\\;$ $\\;W_i:=<w_i,w_i>.\\;$\n",
    "\n",
    "$2.\\;$ Инициализируем переменную\n",
    "   $\\;k=2.$\n",
    "\n",
    "$3.\\;$  Если $\\;|\\mu_{k,k-1}|>\\frac12,\\;$ то выполнить шаги 3.1-3.3.\n",
    "   \n",
    "$\\qquad 3.1.\\;$ Присвоить $\\;r:=Round(\\mu_{k,k-1}).$ \n",
    "   \n",
    "$\\qquad 3.2.\\;$ Вычислить $\\;v_k:=v_k-r v_{k-1}.$\n",
    "   \n",
    "$\\qquad 3.3.\\;$ Для $\\;j=1,2,\\dots,k-1\\;$  положить $\\;\\mu_{k,j}:=\\mu_{k,j}-r\\mu_{k-1,j}.$   \n",
    " \n",
    "\n",
    "$4.\\;$ Если $\\;\\left(\\frac34-\\mu_{k,k-1}^2\\right)W_{k-1}>W_{k},\\;$ то вып. 4.1-4.5.\n",
    "\n",
    "\n",
    "$\\qquad4.1.\\;$ Поменять местами вектор $\\;v_k\\;$ с $\\;v_{k-1}.\\;$\n",
    "   \n",
    "$\\qquad4.2.\\;$ Присвоить $\\;\\mu:=\\mu_{k,k-1},\\;$ $\\;W:=W_k+\\mu^2W_{k-1},$ \n",
    "   $$\n",
    "     \\mu_{k,k-1}:=\\frac{\\mu W_{k-1}}W,\\quad W_{k}:=\\frac{W_{k-1}W_k}{W},\\quad W_{k-1}:=W.\n",
    "   $$  \n",
    "   \n",
    "$\\qquad4.3.\\;$ Для $\\;j=1,2,\\dots,k-2\\;$ поменять местами $\\;\\mu_{k,j}\\;$ с $\\;\\mu_{k-1,j}.\\;$ \n",
    "   \n",
    "$\\quad4.4.\\;$ Для $\\;s=k+1,k+2,\\dots,m\\;$ положить  \n",
    "$$\n",
    "  t:=\\mu_{s,k},\\qquad\\mu_{s,k}:=\\mu_{s,k-1}-\\mu t,\\qquad\n",
    "  \\mu_{s,k-1}:=t+\\mu_{k,k-1}\\mu_{s,k}.\n",
    " $$\n",
    "   \n",
    "$\\quad4.5.\\;$ $\\;k:=\\max\\{2,k-1\\}\\;$ и перейти к шагу 3.   \n",
    "\n",
    "  \n",
    "$5.\\;$ Если $\\;\\left(\\frac34-\\mu_{k,k-1}^2\\right)W_{k-1}\\leq W_{k},\\;$ то для $\\;l=k-2,k-3,\\dots,1\\;$ при условии, что $\\;\\mu_{k,l}>\\frac12\\;$ выполнить шаги 5.1-5.3.\n",
    "   \n",
    "$\\qquad5.1.\\;$ Присвоить $\\;r:=Round(\\mu_{k,l}).$\n",
    "   \n",
    "$\\qquad5.2.\\;$ Положить $\\;v_k:=v_k-r v_l.$\n",
    "   \n",
    "$\\qquad5.3.\\;$ Для $\\;j=1,2,\\dots,l\\;$ присвоить \n",
    "                  $\\;\\mu_{k,j}:=\\mu_{k,j}-r\\mu_{l,j}.$\n",
    "   \n",
    "   \n",
    "$6.\\;$ Присвоить $\\;k:=k+1.$\n",
    "   \n",
    "$7.\\;$ Если $\\;k\\leq m,\\;$ то перейти к шагу 3.\n",
    "   \n",
    "$8.\\;$ Выдать результат $\\;v_1,v_2,\\dots,v_m.$\n",
    "\n",
    "Литература: Маховенко, Е.Б. Теоретико-числовые методы в криптографии / Е.Б. Маховенко. – М.: Гелиос АРВ, 2006. – 320с.\n"
   ]
  },
  {
   "cell_type": "markdown",
   "id": "1b935a7a",
   "metadata": {
    "slideshow": {
     "slide_type": "skip"
    }
   },
   "source": [
    "### <font color='red'>Задание 5*.</font>\n",
    "реализовать $LLL$-алгоритм. Первому решившему +1 балл на экзамене."
   ]
  },
  {
   "cell_type": "code",
   "execution_count": null,
   "id": "b704d72e",
   "metadata": {},
   "outputs": [],
   "source": []
  }
 ],
 "metadata": {
  "celltoolbar": "Слайд-шоу",
  "kernelspec": {
   "display_name": "Python 3 (ipykernel)",
   "language": "python",
   "name": "python3"
  },
  "language_info": {
   "codemirror_mode": {
    "name": "ipython",
    "version": 3
   },
   "file_extension": ".py",
   "mimetype": "text/x-python",
   "name": "python",
   "nbconvert_exporter": "python",
   "pygments_lexer": "ipython3",
   "version": "3.9.7"
  }
 },
 "nbformat": 4,
 "nbformat_minor": 5
}
