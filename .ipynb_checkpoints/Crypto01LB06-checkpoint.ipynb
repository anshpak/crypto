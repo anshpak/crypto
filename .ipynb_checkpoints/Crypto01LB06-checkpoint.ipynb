{
 "cells": [
  {
   "cell_type": "markdown",
   "id": "e4b7f733",
   "metadata": {
    "slideshow": {
     "slide_type": "slide"
    }
   },
   "source": [
    "$$\n",
    "Белорусский\\;государственный\\; университет\n",
    "$$\n",
    "$$\n",
    "Механико-математический\\;факультет\n",
    "$$\n",
    "$$\n",
    "Кафедра\\;дифференциальных\\;уравнений\\; и\\; системного\\; анализа\n",
    "$$\n",
    "$ $\n",
    "\n",
    "$$\n",
    " \\Large\\bf Математические\\; основы\\; защиты\\; информации\n",
    "$$\n",
    "\n",
    "# Тема 6. Криптосистемы с открытым ключом. Криптосистема RSA\n",
    "\n",
    "$ $\n",
    "\n",
    "доцент Чергинец Дмитрий Николаевич"
   ]
  },
  {
   "cell_type": "markdown",
   "id": "e20482ad",
   "metadata": {
    "slideshow": {
     "slide_type": "slide"
    }
   },
   "source": [
    "# 1. Введение в криптосистемы"
   ]
  },
  {
   "cell_type": "markdown",
   "id": "648b99c2",
   "metadata": {
    "slideshow": {
     "slide_type": "-"
    }
   },
   "source": [
    "##  Открытый и зашифрованный текст\n",
    "Пусть $\\;A\\;$ и $\\;B\\;$ -- конечные множества, которые будем называть алфавитами. \n",
    "\n",
    "Защищаемую информацию,  состоящую из конечного объединения элементов  множества $\\;A,\\;$ будем называть <font color='blue'>открытым текстом</font> (Plaintext) или сообщением.\n",
    " \n",
    "Преобразованный открытый текст, состоящий из конечного объединения элементов множества $\\;B,\\;$ называется <font color='blue'>шифрованным текстом</font> или <font color='blue'>шифротекстом</font> (Сiphertext). \n",
    "\n",
    "\n",
    "Через $\\;X\\;$ и $\\;Y\\;$ обозначим множества открытых текстов и шифрованных текстов соответственно. $\\;A\\;$ и $\\;B\\;$ назовём алфавитом открытого текста и шифрованного текста\n",
    "соответственно."
   ]
  },
  {
   "cell_type": "markdown",
   "id": "14020792",
   "metadata": {
    "slideshow": {
     "slide_type": "subslide"
    }
   },
   "source": [
    "## Симметричная криптосистема\n",
    "Функцию $\\;E_k:X\\rightarrow Y\\;$ \n",
    "будем называть  <font color='blue'>функцией шифрования</font> (Encrypt).  \n",
    "\n",
    "Параметр $\\;k\\;$ функции $\\;E_k\\;$ называется <font color='blue'>ключом</font> и принадлежит множеству ключей $\\;K.\\;$\n",
    "\n",
    "\n",
    "\n",
    "Функция\n",
    "$\\;D_k:Y\\rightarrow X\\;$  называется <font color='blue'>функцией дешифрования</font> (Decrypt).\n",
    "\n",
    "\n",
    "<font color='blue'>Шифром</font> или <font color='blue'>криптосистемой</font> называется набор\n",
    "$$(A,B,X,Y,K,E_k,D_k),\n",
    "$$\n",
    "удовлетворяющий требованию \n",
    "$$D_k(E_k(x))=x$$ для\n",
    "каждого $\\;x\\in X\\;$ и $\\;k\\in K.\\;$\n"
   ]
  },
  {
   "cell_type": "markdown",
   "id": "8dd1ba47",
   "metadata": {
    "slideshow": {
     "slide_type": "subslide"
    }
   },
   "source": [
    "## AES\n",
    " В 1974 году Национальное бюро стандартов США объявило конкурс    на стандарт шифрования. Данный конкурс выиграл симметричный     шифр DES, разработанный компанией IBM. \n",
    "\n",
    " В 1997 году объявлен конкурс на новый шифр.\n",
    "\n",
    "\n",
    "В  2002 году на смену DES пришел AES (Advanced Encryption Standard), также известный как Rijndael (Рейндал).\n"
   ]
  },
  {
   "cell_type": "markdown",
   "id": "7e7abe0c",
   "metadata": {
    "slideshow": {
     "slide_type": "subslide"
    }
   },
   "source": [
    "## Парадокс симметричных криптосистем\n",
    "Криптосистема, в которой для шифрования и дешифрования используется один и тот же (секретный) ключ, называется симметричной.\n",
    "\n",
    "Для того чтобы два человека могли обменяться секретной  информацией, ее нужно зашифровать при помощи секретного ключа,  но теперь возникает проблема передачи секретного ключа для   дешифрования, в этом заключается парадокс симметричных криптосистем."
   ]
  },
  {
   "cell_type": "markdown",
   "id": "7343ee44",
   "metadata": {
    "slideshow": {
     "slide_type": "subslide"
    }
   },
   "source": [
    "## Шифры с открытым ключом\n",
    "Шифры, в которых для шифрования используется один ключ, а для дешифрования -- другой, называются <font color='blue'>асимметричными</font>  или <font color='blue'>криптосистемами с открытым ключом</font>. \n",
    "\n",
    "![PKK](images/PKK.png)"
   ]
  },
  {
   "cell_type": "markdown",
   "id": "3bd71e3e",
   "metadata": {
    "slideshow": {
     "slide_type": "subslide"
    }
   },
   "source": [
    "## Шифры с открытым ключом\n",
    "Криптосистемой с открытым ключом называется система\n",
    "$$\n",
    "  (X,Y,(k_e,k_d)\\in K,E_{k_e},D_{k_d}),\n",
    "$$\n",
    "где алгоритмы шифрования\n",
    "$$\n",
    "  E_{k_e}:X\\rightarrow Y\n",
    "$$\n",
    "и дешифрования\n",
    "$$\n",
    "  D_{k_d}:Y\\rightarrow X\n",
    "$$\n",
    "являются открытыми, шифротекст $\\;c\\;$ и <font color='blue'>открытый ключ</font> $\\;k_e\\;$ (public key) могут передаваться по     незащищенному каналу, <font color='blue'>секретный ключ</font> $\\;k_d\\;$ (private key) является секретным.    "
   ]
  },
  {
   "cell_type": "markdown",
   "id": "04ae4209",
   "metadata": {
    "slideshow": {
     "slide_type": "subslide"
    }
   },
   "source": [
    "## Требования к криптосистеме с открытым ключом\n",
    "Основы криптографии с открытым ключом заложены Уитфильдом Диффи и Мартином Хеллманом в статье \"Новые направления в  криптографии\", опубликованной в 1976 г.\n",
    "\n",
    "У. Диффи и М. Хеллман сформулировали основные требования, предъявляемые к криптосистемам с открытым ключом:\n",
    "\n",
    "- Генерация каждой пары ключей $\\;(k_e,k_d)\\in K\\;$ является полиномиальным алгоритмом.\n",
    "\n",
    "- Для каждой пары ключей $\\;(k_e,k_d)\\in K\\;$ и каждого открытого текста $\\;m\\in M\\;$ функции $\\;E\\;$ и $\\;D\\;$ полиномиальны.\n",
    "\n",
    "- Противник, зная открытый ключ $\\;k_e\\;$ и шифротекст $\\;c,\\;$ при попытке вычислить открытый текст $\\;m\\;$ наталкивается на непреодолимую вычислительную проблему."
   ]
  },
  {
   "cell_type": "markdown",
   "id": "7873c827",
   "metadata": {
    "slideshow": {
     "slide_type": "slide"
    }
   },
   "source": [
    "# 2. Односторонние функции\n",
    " Отображение $\\;f:X\\rightarrow Y\\;$ называется <font color='blue'>односторонней</font> (однонаправленной) <font color='blue'>функцией</font> (one-way function), если \n",
    " \n",
    "1) существует полиномиальный алгоритм, для каждого $\\;x\\in X\\;$ вычисляющий $f(x);$\n",
    "\n",
    "2) не существует полиномиального алгоритма, вычисляющего $\\;f^{-1}(y)\\;$ для каждого $\\;y\\in f(X).\\;$\n",
    "\n",
    "Если использовать понятие односторонней функции только для криптосистем, то функция $\\;f\\;$ должна быть инъективной. Но понятие односторонней функции часто распространяют на криптографические функции хеширования, которые как правило не инъективны."
   ]
  },
  {
   "cell_type": "markdown",
   "id": "cabdc3ec",
   "metadata": {
    "slideshow": {
     "slide_type": "subslide"
    }
   },
   "source": [
    "## Односторонние функции с лазейкой\n",
    "Если для односторонней функции $\\;f\\;$ существует дополнительная информация (лазейка) $\\;k,\\;$    зная которую $\\;f_k^{-1}(y)\\;$ вычисляется за полиномиальное время, то данная функция $\\;f\\;$ называется <font color='blue'>односторонней функцией с лазейкой</font> (one-way trap-door function)."
   ]
  },
  {
   "cell_type": "markdown",
   "id": "834da2a9",
   "metadata": {
    "slideshow": {
     "slide_type": "subslide"
    }
   },
   "source": [
    "## Правдоподобный пример односторонней функции\n",
    "Пусть \n",
    "$$\\;e,n\\in\\mathbb{N},\\qquad 1<e<\\varphi(n),\\qquad\\gcd(e,\\varphi(n))=1,\\;\n",
    "$$\n",
    "будем также считать, что $\\;\\varphi(n)\\;$ неизвестно и его достаточно трудно вычислить.\n",
    "      \n",
    "      \n",
    "Рассмотрим функцию \n",
    "$$\n",
    "\\;f:\\mathbb{Z}_n^*\\rightarrow\\mathbb{Z}_n^*,\\;\n",
    "$$\n",
    "действующую по правилу\n",
    "$$\n",
    "  f(x):=x^e \\mod n.\n",
    "$$\n",
    "\n",
    "$\\;f(x)\\;$ вычисляется за полиномиальное время.\n",
    "      \n",
    "Пока не найдено полиномиального алгоритма, вычисляющего $\\;f^{-1}(y),\\;$ т. е. решающего уравнение \n",
    "$$\n",
    "x^e\\equiv b \\mod  n,\n",
    "$$ \n",
    "но и не доказано, что такого алгоритма не существует."
   ]
  },
  {
   "cell_type": "markdown",
   "id": "feee5070",
   "metadata": {
    "slideshow": {
     "slide_type": "subslide"
    }
   },
   "source": [
    "##  Пример функции с лазейкой\n",
    "Однако, если мы для функции\n",
    "$\n",
    "  \\;f(x):=x^e \\mod n\\;\n",
    "$\n",
    "узнаем число $\\;d,\\;$ удовлетворяющее условию \n",
    "$$\n",
    "e d \\equiv 1\\mod\\varphi(n) \\qquad \\Leftrightarrow \\qquad\n",
    "e d = 1 + z\\varphi(n),\\quad z\\in\\mathbb{Z},\n",
    "$$\n",
    "то обратную функцию можно определить формулой\n",
    "$$\n",
    "  f^{-1}(y):=y^d\\mod n.\n",
    "$$\n",
    "Действительно,\n",
    "$$\n",
    "y^d\\equiv x^{e d}\\equiv x x^{z\\varphi(n)}\\equiv x\\mod n.\n",
    "$$\n",
    "Мы нашли $\\;f^{-1},\\;$ поэтому $\\;f\\;$ --- инъекция, а так как она определена на конечном множестве $\\;\\mathbb{Z}_n^*,\\;$ то $\\;f\\;$ --- биекция. \n",
    "\n",
    "Таким образом, если считать, что не существует полиномиального алгоритма, решающего уравнение\n",
    "$$\n",
    "x^e\\equiv    b\\mod n,\n",
    "$$\n",
    "то функция $\\;f\\;$ является односторонней функцией с лазейкой."
   ]
  },
  {
   "cell_type": "markdown",
   "id": "f61c124e",
   "metadata": {
    "slideshow": {
     "slide_type": "subslide"
    }
   },
   "source": [
    "##  Классы P, NP\n",
    "<font color=\"blue\"> Классом P</font> называют множество задач, для которых существует полиномиальный алгоритм решения.    \n",
    "\t\t\n",
    "<font color=\"blue\">Классом NP</font> называют множество задач, \tрешение которых можно проверить за полиномиальное время.\n",
    "\t\t\n",
    "То есть для задач из класса NP существует полиномиальное доказательство: для каждого предъявленного решения существуют  некие данные, при помощи которых за полиномиальное время можно доказать, что предъявленное решение действительно является решением.  "
   ]
  },
  {
   "cell_type": "markdown",
   "id": "6c38a781",
   "metadata": {
    "slideshow": {
     "slide_type": "subslide"
    }
   },
   "source": [
    "## Задача факторизации чисел принадлежит NP\n",
    "Задача разложения числа $\\;n\\;$ на множители принадлежит классу NP, так как предъявленное решение задачи\n",
    "$$\n",
    "p_1,p_2,\\dots, p_k\n",
    "$$\n",
    "можно проверить за полиномиальное время, перемножив предъявленные числа и сравнив результат с $\\;n:\\;$\n",
    "$$\n",
    "p_1* p_2*\\dots* p_k == n?\n",
    "$$\n",
    "\n",
    "Дополнительных данных для доказательства в данном случае не требуется.    "
   ]
  },
  {
   "cell_type": "markdown",
   "id": "d9e8d08d",
   "metadata": {
    "slideshow": {
     "slide_type": "subslide"
    }
   },
   "source": [
    "## P=NP?\n",
    "\t\t\n",
    "-  Очевидно, что $P\\subset NP.$ \n",
    "\t\t\n",
    "- Верно ли обратное включение $NP\\subset P$ ? \n",
    "\t\t\n",
    "- Данная задача является одной из семи Задач тысячелетия.    \n",
    "\t\t\n",
    "- Проблему $\\;P = NP\\;$ можно переформулировать таким образом: если \tположительный ответ на какой-то вопрос можно быстро проверить (за \t\tполиномиальное время), то правда ли, что ответ на этот вопрос \t\tможно быстро найти (за полиномиальное время и используя \t\tполиномиальную память)?"
   ]
  },
  {
   "cell_type": "markdown",
   "id": "88606fd4",
   "metadata": {
    "slideshow": {
     "slide_type": "subslide"
    }
   },
   "source": [
    "## Существование односторонних функций\n",
    "На данный момент не доказано существование ни одной односторонней функции. \n",
    "\n",
    "**Теорема.**  \n",
    "Если $\\;P=NP,\\;$ то односторонних функций не существует.\n",
    "\n",
    "**Доказательство.**  \n",
    "Действительно, для $\\;y\\in Y\\;$ существует полиномиальный алгоритм проверки того, что $$\\;f(x)=y.\\;\n",
    "$$ \n",
    "   \n",
    "Если $\\;P=NP,\\;$ то должен существовать и полиномиальный алгоритм, вычисляющий \n",
    "$$\n",
    "\\;f^{-1}(y).\\;\n",
    "$$\n"
   ]
  },
  {
   "cell_type": "markdown",
   "id": "c891460d",
   "metadata": {
    "slideshow": {
     "slide_type": "slide"
    }
   },
   "source": [
    "# 3. Криптосистема RSA\n",
    "Название криптосистемы RSA образовано заглавными буквами фамилий ее авторов:  Рональда Ривеста, Ади Шамира и Леонарда Адлемана.\n",
    "\t\t\n",
    "В августе 1977 года в колонке \"Математические игры\" Мартина Гарднера в журнале Scientific American появилось первое описание криптосистемы RSA. \n",
    "\t\t\n",
    "Читателям также было предложено дешифровать фразу. За расшифровку была обещана награда в 100 долларов США. Фразу расшифровали лишь в 1995 году."
   ]
  },
  {
   "cell_type": "markdown",
   "id": "cc4118b1",
   "metadata": {
    "slideshow": {
     "slide_type": "subslide"
    }
   },
   "source": [
    "## Генерация ключей в RSA\n",
    "Input:  $\\;L\\in\\mathbb{N}\\;$ -- длина простых чисел.  \n",
    "  \n",
    "Output: $\\;k_e\\;$ -- открытый ключ,\n",
    "\t\t\n",
    "$\\qquad\\;\\;$   $\\;k_d\\;$ -- секретный  ключ.\n",
    "\t\t\n",
    "\t\t\n",
    "1. Выбираем два случайных простых числа $\\;p, q,\\;$ состоящие из $\\;L\\;$ бит.\n",
    "\t\t\t\n",
    "2. Вычисляем $\\;n:=p q,\\;$ $\\;\\varphi(n):=(p-1)(q-1).\\;$\n",
    "\t\t\t\n",
    "3. Случайным образом выбираем натуральное число $\\;e,\\;$ удовлетворяющее условиям\n",
    "$$\n",
    "1<e<\\varphi(n),\\qquad \\gcd(e,\\varphi(n))=1.\n",
    "$$\n",
    "4. При помощи расширенного алгоритма Евклида вычисляем \n",
    "$$\n",
    "d:=e^{-1}\\mod\\varphi(n).\n",
    "$$\n",
    "5. Выдаем результат: $\\;k_e:=(e,n),\\;$ $\\;k_d:=(d,n).$\n",
    "\t\t\t"
   ]
  },
  {
   "cell_type": "markdown",
   "id": "971bc892",
   "metadata": {
    "slideshow": {
     "slide_type": "skip"
    }
   },
   "source": [
    "## <font color='red'>Задание 1.</font>\n",
    "Используя функции из предыдущих лабораторных занятий, реализовать алгоритм генерации ключей криптосистемы RSA. "
   ]
  },
  {
   "cell_type": "markdown",
   "id": "16f6f77a",
   "metadata": {
    "slideshow": {
     "slide_type": "skip"
    }
   },
   "source": [
    "## <font color='red'>Задание 2.</font>\n",
    "Почему на практике в качестве публичной экспоненты $\\;e\\;$ часто выбирают пятое число Ферма:\n",
    "$$\n",
    "  F_4=2^{2^4}=65537.\n",
    "$$  "
   ]
  },
  {
   "cell_type": "markdown",
   "id": "469bee9a",
   "metadata": {
    "slideshow": {
     "slide_type": "subslide"
    }
   },
   "source": [
    "## Шифрование и дешифрование в RSA\n",
    "**Шифрование.**  \n",
    "Функция шифрования \t\n",
    "$$\n",
    "\\;E_{k_e}:\\mathbb{Z}_n\\rightarrow\\mathbb{Z}_n\\;\n",
    "$$\n",
    "определяется правилом\n",
    "$$\n",
    " E_{k_e}(m):=m^e\\mod n.\n",
    "$$\n",
    "\n",
    "**Дешифрование.**  \n",
    "Функция дешифрования \t\n",
    "$$\n",
    "  D_{k_d}:\\mathbb{Z}_n\\rightarrow\\mathbb{Z}_n\n",
    "$$\n",
    "задается формулой\n",
    "$$\n",
    "\tD_{k_d}(c):=c^d\\mod n.\n",
    "$$\n",
    "\n",
    "Отметим, что все три приведенных выше алгоритма являются полиномиальными."
   ]
  },
  {
   "cell_type": "markdown",
   "id": "f0b635fd",
   "metadata": {
    "slideshow": {
     "slide_type": "skip"
    }
   },
   "source": [
    "## <font color='red'>Задание 3.</font>\n",
    "Используя функции из предыдущих лабораторных занятий, реализовать алгоритмы шифрования и дешифрования криптосистемы RSA. "
   ]
  },
  {
   "cell_type": "markdown",
   "id": "6f7bc3f5",
   "metadata": {
    "slideshow": {
     "slide_type": "subslide"
    }
   },
   "source": [
    "## Корректность RSA\n",
    "**Теорема 1.**  \n",
    "Пусть $\\;n=p q,\\;$ $\\;p\\neq q\\;$ -- простые, $\\;e\\in\\mathbb{N},\\;$ $\\;1<e<\\varphi(n),\\;$      $\\;\\gcd(e,\\varphi(n))=1.\\;$ \n",
    "      \n",
    "Тогда для каждого $\\;m\\in\\mathbb{Z}_n\\;$ справедливо равенство\n",
    "$$\n",
    "  D_{k_d}(E_{k_e}(m))=m.\n",
    "$$\n",
    "\n"
   ]
  },
  {
   "cell_type": "markdown",
   "id": "19c7c1d6",
   "metadata": {
    "slideshow": {
     "slide_type": "subslide"
    }
   },
   "source": [
    "## Доказательство корректности\n",
    "\n",
    "Исходя из определений функций $\\;E\\;$ и $\\;D\\;$ нам необходимо доказать, что\n",
    "$$\n",
    "   m^{e d}\\equiv m \\mod n.\n",
    "$$\n",
    "Так как $\\;d:=e^{-1}\\mod \\varphi(n),\\;$ то найдется такое $\\;z\\in\\mathbb{Z},\\;$ что $\\;ed= 1+z\\varphi(n).\\;$\n",
    "\n",
    "\n",
    "**1$.$ Пусть сначала $\\;\\gcd(m,n)=1.$**   \n",
    "    \n",
    "Тогда по теореме Эйлера\n",
    "$$\n",
    "   m^{e d}=m^{1+z\\varphi(n)}\\equiv m (m^{\\varphi(n)})^z\\equiv m\\mod n.\n",
    "$$\n",
    "\n",
    "**2$.$ Пусть $\\;\\gcd(m,n)=n.\\;$**  Тогда \n",
    " $$\n",
    " m^{ed}\\equiv 0\\equiv m\\mod n.\n",
    " $$\n",
    "\n",
    "\n",
    "**3$.$ Пусть, наконец, $\\;\\gcd(m,n)=p.$** \n",
    "    \n",
    "Из того, что $\\;\\gcd(m,q)=1,\\;$ имеем \n",
    "$$\n",
    "  \\left\\{\\begin{array}{ll}m^{e d}\\equiv 0\\equiv m & \\mod p,\\\\\n",
    "  m^{e d}\\equiv(m)^{1+z\\varphi(p)\\varphi(q)}\\equiv m (m^{\\varphi(q)})^{z\\varphi(p)}\\equiv m & \\mod q.\n",
    "\\end{array}\\right.\n",
    "$$\n",
    "Так как $\\;\\gcd(p,q)=1,\\;$ то по свойству сравнений $\\;m^{ed}\\equiv m\\mod n.$"
   ]
  },
  {
   "cell_type": "markdown",
   "id": "e7d335c4",
   "metadata": {
    "slideshow": {
     "slide_type": "subslide"
    }
   },
   "source": [
    "## Эквивалентность задачи факторизации и вычисления функции Эйлера\n",
    "**Теорема 2.**  \n",
    "Задача разложения на множители числа $\\;n=p q\\;$ и задача вычисления функции Эйлера $\\;\\varphi(n)\\;$ полиномиально эквивалентны.\n",
    "$$\n",
    " n=pq\\qquad\\Leftrightarrow\\qquad\\varphi(n)\n",
    "$$ \n",
    "**Доказательство**  $\\;\\;n=pq \\quad\\Rightarrow\\quad\\varphi(n)$  \n",
    "Если известно разложение числа $\\;n\\;$ на множители $\\;p, q,\\;$ то значение функции Эйлера можно вычислить за одну арифметическую операцию \n",
    "$$\n",
    "  \\;\\varphi(n)=(p-1)(q-1).\n",
    "$$"
   ]
  },
  {
   "cell_type": "markdown",
   "id": "d77ab25f",
   "metadata": {
    "slideshow": {
     "slide_type": "subslide"
    }
   },
   "source": [
    "## $\\varphi(n)\\quad\\Rightarrow\\quad n=pq$\n",
    "\n",
    "Обратно, если известно $\\;\\varphi(n),\\;$ то множители $\\;p,q\\;$ удовлетворяют системе\n",
    "$$\n",
    "  \\left\\{\\begin{array}{l}\n",
    "    p q = n,\\\\\n",
    "    (p-1)(q-1) = \\varphi(n);\n",
    "\\end{array}\n",
    "\\right.\\Rightarrow\n",
    "  \\left\\{\\begin{array}{l}\n",
    "    p q = n,\\\\\n",
    "    p+q = n+1-\\varphi(n).\n",
    "\\end{array}\n",
    "\\right.\n",
    "$$\n",
    "По теореме Виета $\\;p,q\\;$ -- корни уравнения\n",
    "$$\n",
    "  x^2 - (n+1-\\varphi(n))x +n = 0.\n",
    "$$\n",
    "Таким образом\n",
    "$$\n",
    "  p=\\frac{n+1-\\varphi(n)+\\sqrt{(n+1-\\varphi(n))^2-4n}}{2},\\;  \n",
    "$$\n",
    "$$\n",
    "q=\\frac{n+1-\\varphi(n)-\\sqrt{(n+1-\\varphi(n))^2-4n}}{2}.\n",
    "$$"
   ]
  },
  {
   "cell_type": "markdown",
   "id": "8c29468f",
   "metadata": {
    "slideshow": {
     "slide_type": "skip"
    }
   },
   "source": [
    "## <font color='red'>Задание 4.</font>\n",
    "Разложить модуль $\\;n\\;$ на множители, если известно значение функции Эйлера."
   ]
  },
  {
   "cell_type": "code",
   "execution_count": 7,
   "id": "d6b8267b",
   "metadata": {
    "slideshow": {
     "slide_type": "skip"
    }
   },
   "outputs": [],
   "source": [
    "n = 81533970462265904868952346508651285527924260726355932103005191827781540179809980478634968862010701112123363433327478138774759477160856150842111958981934522683839608508757908526048774711923204514049268169740286850383024571180686453826128804940189360350305379647199493425756784839375221754690420649798368968683\n",
    "fi = 81533970462265904868952346508651285527924260726355932103005191827781540179809980478634968862010701112123363433327478138774759477160856150842111958981934504521046975582429330250778426468505794197178888272432634352526523304837798575506040635169000096959117771855371794488229073934582093291171352800845318041680"
   ]
  },
  {
   "cell_type": "markdown",
   "id": "d4954146",
   "metadata": {
    "slideshow": {
     "slide_type": "subslide"
    }
   },
   "source": [
    "## Эквивалентность знания секретной экспоненты и факторизации модуля $n$\n",
    "**Теорема 3.**  \n",
    "Задача вычисления секретной экспоненты $\\;d\\;$ полиномиально эквивалентна задаче разложения на множители модуля $\\;n$ \n",
    "$$\n",
    "  d\\quad\\Leftrightarrow\\quad n=pq\n",
    "$$\n",
    "\n",
    "**Доказательство**  $\\quad n=pq \\quad\\Rightarrow\\quad d.$  \n",
    "Если известно разложение $\\;n=pq,\\;$ то можно вычислить \n",
    "$$\n",
    "\\;\\varphi(n)=(p-1)(q-1),\\;\n",
    "$$\n",
    "а затем при помощи расширенного алгоритма Евклида найти \n",
    "$$\n",
    " d=e^{-1}\\mod n.\n",
    "$$"
   ]
  },
  {
   "cell_type": "markdown",
   "id": "f246f874",
   "metadata": {
    "slideshow": {
     "slide_type": "subslide"
    }
   },
   "source": [
    "###  $\\bf d\\quad\\Rightarrow\\quad n=pq$\n",
    "Пусть известны $\\;e,d.$\n",
    "\n",
    "Так как $\\;ed-1=z\\varphi(n),\\;$ то для $\\;a\\in\\mathbb{Z}_n^*\\;$ получим\n",
    "$$\n",
    "  a^{ed-1}\\equiv (a^{\\varphi(n)})^z\\equiv 1^z\\equiv 1\\mod n.\n",
    "$$\n",
    "\n",
    "Так как $\\;НОД(e,\\varphi(n))=1,\\;$ $\\;НОД(d,\\varphi(n))=1,\\;$ то $\\;e,d\\;$ -- нечетные.\n",
    "\n",
    "Представим\n",
    "$$\n",
    "ed-1=2^st,\n",
    "$$\n",
    "где $\\;s,t\\in\\mathbb{N},\\;$ $\\;t\\;$ -- нечетное.\n",
    "\n",
    "Если найти такое $\\tilde s\\leq s\\;$ и $\\;a\\in\\mathbb{Z}_p^*,\\;$ что\n",
    "$$\n",
    "v:=a^{t2^{\\tilde s}}\\equiv 1\\mod n,\\qquad u:=a^{t2^{\\tilde s-1}}\\not\\equiv 1\\mod n,\n",
    "$$\n",
    "\n",
    "то для $\\;u\\;$ справедливы сравнения \n",
    "$$\n",
    "  u^2\\equiv v\\equiv 1\\mod n\\qquad \\Rightarrow\\qquad u^2-1\\equiv (u-1)(u+1)\\equiv 0\\mod n.\n",
    "$$\n",
    "  \n",
    "Если $\\;u\\neq-1,\\;$ то $\\;p:=\\gcd(u-1,n),$  $q:=\\gcd(u+1,n).$\n",
    " "
   ]
  },
  {
   "cell_type": "markdown",
   "id": "fa1e3bbb",
   "metadata": {
    "slideshow": {
     "slide_type": "subslide"
    }
   },
   "source": [
    "## Алгоритм поиска $\\;p,q\\;$  по известной секретной экспоненте $\\;d$\n",
    "Input: $\\;n, e, d\\in\\mathbb{N}.$  \n",
    "   \n",
    "Output: $\\;p,q,\\;$ что $\\;n=p q.$\n",
    "   \n",
    "1. При помощи последовательного деления на 2 представляем $\\;ed-1\\;$ в виде $\\;2^st,\\;$ где $\\;t\\;$ -- нечетное.\n",
    "\n",
    "2. Выбираем случайное $\\;a\\in\\mathbb{N},\\;$ $\\;1<a<n-1.\\;$\n",
    "\n",
    "3. Если $\\;\\gcd(a,n)>1,\\;$ то $\\;p:=\\gcd(a,n),\\;$ $\\;q:=\\frac np,\\;$ конец алгоритма.\n",
    "\n",
    "4. Вычисляем $\\;u:=a^t\\mod n,\\;$ $\\;v:=u^2\\mod n.$\n",
    "\n",
    "5. Если $\\;u=1,\\;$ то переходим к шагу 2.\n",
    "\n",
    "6. Пока $\\;v\\neq1\\;$ вычисляем $\\;u:=v,\\;$ $\\;v:=u^2\\mod n.$\n",
    "\n",
    "7. Если $\\;u\\equiv-1\\mod n,\\;$ то переходим к шагу 2, иначе выдаем результат\n",
    "$$\n",
    "\\;p:=\\gcd(u+1,n),\\qquad\\;q:=\\gcd(u-1,n).\n",
    "$$ \n",
    "\n"
   ]
  },
  {
   "cell_type": "markdown",
   "id": "909c3112",
   "metadata": {
    "slideshow": {
     "slide_type": "subslide"
    }
   },
   "source": [
    "## Оценка сложности алгоритма\n",
    "-  На шаге 6 за один цикл выполняется не более $\\;s\\;$ $\\;(s<2\\log_2n)\\;$ возведений в квадрат.\n",
    "\n",
    "- При $\\;n=p q\\;$ уравнение \n",
    "$$\n",
    "x^2\\equiv 1\\mod n\n",
    "$$\n",
    "имеет четыре корня, два из них $\\;\\pm1.$ \n",
    "\n",
    "- Мы хотим найти корни, отличные от $\\;\\pm1.$ \n",
    "\n",
    "- На 6 шаге мы находим $\\;u\\;$ -- один из корней данного уравнения, отличный от 1.    \n",
    "\n",
    "- С вероятностью $\\;\\frac{2}{3}\\;$ корень $\\;u\\;$ отличен от $\\;-1\\;$ и мы получим получим результат.\n"
   ]
  },
  {
   "cell_type": "markdown",
   "id": "313caacd",
   "metadata": {
    "slideshow": {
     "slide_type": "subslide"
    }
   },
   "source": [
    "## Алгоритм Лас-Вегас\n",
    "Алгоритм Лас-Вегас — вид вероятностного алгоритма.\n",
    "\n",
    "Если у нас есть некий вероятностный алгоритм $A,$ который с определенной вероятностью дает верный результат, и существует возможность алгоритмически проверить результат алгоритма $A$ на корректность (скажем, с помощью алгоритма $K$), то можно выполнять алгоритм $A$ до тех пор, пока проверка не установит, что результат верен.\n",
    "\n",
    "$$\n",
    "Выполнить\\; алгоритм\\;\\; A \\;\\;с\\; результатом\\;\\; r\\;\\; до\\; тех\\; пор,\n",
    "$$\n",
    "$$\n",
    " \\; пока\\;\\; K(r)\\;\\; не\\; будет\\; истиной.\n",
    "$$\n"
   ]
  },
  {
   "cell_type": "markdown",
   "id": "a705b389",
   "metadata": {
    "slideshow": {
     "slide_type": "slide"
    }
   },
   "source": [
    "# 4. Пакеты в Python с реализацией RSA"
   ]
  },
  {
   "cell_type": "markdown",
   "id": "7992c61b",
   "metadata": {
    "slideshow": {
     "slide_type": "-"
    }
   },
   "source": [
    "## Модуль `crypto` пакета `SymPy`\n",
    "Для генерации ключей криптосистемы RSA в данном модуле простые числа нужно генерировать самому"
   ]
  },
  {
   "cell_type": "code",
   "execution_count": 11,
   "id": "ffed689f",
   "metadata": {
    "slideshow": {
     "slide_type": "-"
    }
   },
   "outputs": [
    {
     "data": {
      "text/plain": [
       "(1053391688467315408750439519217408866462682948029878277593159, 7)"
      ]
     },
     "execution_count": 11,
     "metadata": {},
     "output_type": "execute_result"
    }
   ],
   "source": [
    "from sympy.crypto import crypto\n",
    "from sympy.ntheory import randprime\n",
    "\n",
    "b = 100\n",
    "p = randprime(1<<b-1, 1<<b)\n",
    "q = randprime(1<<b-1, 1<<b)\n",
    "e = 7 \n",
    "ke = crypto.rsa_public_key(p,q,e)\n",
    "ke"
   ]
  },
  {
   "cell_type": "markdown",
   "id": "e425af2b",
   "metadata": {
    "slideshow": {
     "slide_type": "subslide"
    }
   },
   "source": [
    "## Шифрование и дешифрование в `SymPy`\n",
    "Шифруются числа из промежутка от 0 до n"
   ]
  },
  {
   "cell_type": "code",
   "execution_count": 12,
   "id": "3372c7d2",
   "metadata": {
    "slideshow": {
     "slide_type": "-"
    }
   },
   "outputs": [
    {
     "name": "stdout",
     "output_type": "stream",
     "text": [
      "35831808\n"
     ]
    },
    {
     "data": {
      "text/plain": [
       "int"
      ]
     },
     "execution_count": 12,
     "metadata": {},
     "output_type": "execute_result"
    }
   ],
   "source": [
    "message = 12\n",
    "ciphertext = crypto.encipher_rsa(message, ke)\n",
    "print(ciphertext)\n",
    "type(ciphertext)"
   ]
  },
  {
   "cell_type": "code",
   "execution_count": 13,
   "id": "caabfe83",
   "metadata": {
    "slideshow": {
     "slide_type": "-"
    }
   },
   "outputs": [
    {
     "name": "stdout",
     "output_type": "stream",
     "text": [
      "(1053391688467315408750439519217408866462682948029878277593159, 451453580771706603750188365378003980599853847938064202546743)\n",
      "True\n"
     ]
    },
    {
     "data": {
      "text/plain": [
       "12"
      ]
     },
     "execution_count": 13,
     "metadata": {},
     "output_type": "execute_result"
    }
   ],
   "source": [
    "kd = crypto.rsa_private_key(p, q, e)\n",
    "print(kd)\n",
    "plaintext = crypto.encipher_rsa(ciphertext, kd)\n",
    "print(message == plaintext)\n",
    "plaintext"
   ]
  },
  {
   "cell_type": "markdown",
   "id": "470e68be",
   "metadata": {
    "slideshow": {
     "slide_type": "skip"
    }
   },
   "source": [
    "## <font color='red'>Задание 5.</font>\n",
    "По известному открытому ключу и шифротексту найти открытый текст."
   ]
  },
  {
   "cell_type": "code",
   "execution_count": null,
   "id": "1968687b",
   "metadata": {
    "slideshow": {
     "slide_type": "skip"
    }
   },
   "outputs": [],
   "source": [
    "e = 3\n",
    "n = 12333277788503538360490919611266800078024649569685951268463814430930629204735581469679372448433345586153599652145159294063614796396444823879029701412108689560407872613358083071355514408041616230482676296185464003661906965152381896043173697776483174977213603631061284540519818689209796390301594178879738667603279453611728728974661852736510675375079653182192891218571020636895445524335114804592353717984205231217785408769204077045632362456543752496623299520523221151683581539402696249769884091094137519125308510737426376762698303050958197835205893061971688021772454949648476014529948682797820777748360390484713587284601\n",
    "ciphertext = 125"
   ]
  },
  {
   "cell_type": "markdown",
   "id": "1b8efe9e",
   "metadata": {
    "slideshow": {
     "slide_type": "subslide"
    }
   },
   "source": [
    "## Пакет RSA"
   ]
  },
  {
   "cell_type": "code",
   "execution_count": 68,
   "id": "c355d512",
   "metadata": {
    "slideshow": {
     "slide_type": "-"
    }
   },
   "outputs": [
    {
     "name": "stdout",
     "output_type": "stream",
     "text": [
      "Collecting RSA\n",
      "  Downloading rsa-4.9-py3-none-any.whl (34 kB)\n",
      "Collecting pyasn1>=0.1.3\n",
      "  Downloading pyasn1-0.4.8-py2.py3-none-any.whl (77 kB)\n",
      "Installing collected packages: pyasn1, RSA\n",
      "Successfully installed RSA-4.9 pyasn1-0.4.8\n"
     ]
    }
   ],
   "source": [
    "!pip install RSA"
   ]
  },
  {
   "cell_type": "code",
   "execution_count": 79,
   "id": "2fb028f4",
   "metadata": {
    "slideshow": {
     "slide_type": "subslide"
    }
   },
   "outputs": [
    {
     "name": "stdout",
     "output_type": "stream",
     "text": [
      "bob_pub =  PublicKey(9295679562011335155614938498383751996615507514102304738913371707292009291772259247830990429114259253663583385673106756646325179828224774237955454913664233, 65537)\n",
      "bob_priv =  PrivateKey(9295679562011335155614938498383751996615507514102304738913371707292009291772259247830990429114259253663583385673106756646325179828224774237955454913664233, 65537, 1053293810023287225011772484077662119518237923611451775198295593303789629658562306761894316548895832527723380218592875182900704814803533619009357236038913, 5624508384576574855181680680876609654707805978481722099585345217102999490314976441, 1652709699482674697703563123722381136249471987939111824467434251000750513)\n"
     ]
    }
   ],
   "source": [
    "import rsa\n",
    "(bob_pub, bob_priv) = rsa.newkeys(512)\n",
    "print('bob_pub = ', bob_pub)\n",
    "print('bob_priv = ', bob_priv)"
   ]
  },
  {
   "cell_type": "code",
   "execution_count": 80,
   "id": "584ba28d",
   "metadata": {
    "slideshow": {
     "slide_type": "-"
    }
   },
   "outputs": [
    {
     "name": "stdout",
     "output_type": "stream",
     "text": [
      "b\"\\x02\\x14\\xdd\\xae?\\x15\\x837-[\\xf0\\x12x\\x8aV\\xbfLY\\x18\\xedM\\x1d\\xf7t\\xaf\\xf6\\xf0D\\xea\\xb6\\xd0+\\xfa\\x95\\xfcZ\\xed\\xcb|\\xfe+\\x87eh\\x9d\\xf0\\x89\\x9fl\\x9b\\xb4\\xbc\\xaa#'\\x0bU\\xb0^i%0\\xfao\"\n"
     ]
    }
   ],
   "source": [
    "message = 'hello Bob!'.encode('utf8')\n",
    "ciphertext = rsa.encrypt(message, bob_pub)\n",
    "print(ciphertext)"
   ]
  },
  {
   "cell_type": "code",
   "execution_count": 81,
   "id": "bb11decd",
   "metadata": {},
   "outputs": [
    {
     "name": "stdout",
     "output_type": "stream",
     "text": [
      "hello Bob!\n"
     ]
    },
    {
     "data": {
      "text/plain": [
       "True"
      ]
     },
     "execution_count": 81,
     "metadata": {},
     "output_type": "execute_result"
    }
   ],
   "source": [
    "plaintext = rsa.decrypt(ciphertext, bob_priv)\n",
    "print(plaintext.decode('utf8'))\n",
    "message == plaintext"
   ]
  },
  {
   "cell_type": "markdown",
   "id": "a06ef519",
   "metadata": {
    "slideshow": {
     "slide_type": "skip"
    }
   },
   "source": [
    "## <font color='red'>Задание 6.</font>\n",
    "По известному модулю $\\;n,\\;$ открытой экспоненте $\\;e\\;$ и секретной экспоненте $\\;d\\;$ найти разложение модуля $\\;n\\;$ на множители. Сравнить количество бит, из которых состоят числа $\\;p,\\;$ $\\;q\\;$ в криптосистеме RSA из пакета RSA. "
   ]
  },
  {
   "cell_type": "code",
   "execution_count": 8,
   "id": "218cac69",
   "metadata": {
    "slideshow": {
     "slide_type": "skip"
    }
   },
   "outputs": [],
   "source": [
    "pk = rsa.PublicKey(7161119666703588511485958969935251388960044601326459148749567084396681512566112122272864126455327982625175589758995636362943052020959413616257193856359801, 65537)\n",
    "d = 2550323222315054943895544232392217639170658421883204243889938443166738580432008124211120675369247637004694114557452402924433022731484378117056379857281473"
   ]
  },
  {
   "cell_type": "markdown",
   "id": "0bfd8a2b",
   "metadata": {
    "slideshow": {
     "slide_type": "subslide"
    }
   },
   "source": [
    "## Пакет PyCrypto\n",
    "Пакет `PyCrypto` на мою старую операционную систему Windows7 не установился."
   ]
  },
  {
   "cell_type": "code",
   "execution_count": 21,
   "id": "ab824fbe",
   "metadata": {
    "slideshow": {
     "slide_type": "-"
    }
   },
   "outputs": [
    {
     "name": "stdout",
     "output_type": "stream",
     "text": [
      "Collecting PyCrypto\n",
      "  Using cached pycrypto-2.6.1.tar.gz (446 kB)\n",
      "Building wheels for collected packages: PyCrypto\n",
      "  Building wheel for PyCrypto (setup.py): started\n",
      "  Building wheel for PyCrypto (setup.py): finished with status 'error'\n",
      "  Running setup.py clean for PyCrypto\n",
      "Failed to build PyCrypto\n",
      "Installing collected packages: PyCrypto\n",
      "    Running setup.py install for PyCrypto: started\n",
      "    Running setup.py install for PyCrypto: finished with status 'error'\n"
     ]
    },
    {
     "name": "stderr",
     "output_type": "stream",
     "text": [
      "  ERROR: Command errored out with exit status 1:\n",
      "   command: 'D:\\Anak\\Anak\\python.exe' -u -c 'import sys, setuptools, tokenize; sys.argv[0] = '\"'\"'C:\\\\Users\\\\User\\\\AppData\\\\Local\\\\Temp\\\\pip-install-84n2s621\\\\pycrypto_1cd49094bbb44c2082ac45a858b4ee0f\\\\setup.py'\"'\"'; __file__='\"'\"'C:\\\\Users\\\\User\\\\AppData\\\\Local\\\\Temp\\\\pip-install-84n2s621\\\\pycrypto_1cd49094bbb44c2082ac45a858b4ee0f\\\\setup.py'\"'\"';f=getattr(tokenize, '\"'\"'open'\"'\"', open)(__file__);code=f.read().replace('\"'\"'\\r\\n'\"'\"', '\"'\"'\\n'\"'\"');f.close();exec(compile(code, __file__, '\"'\"'exec'\"'\"'))' bdist_wheel -d 'C:\\Users\\User\\AppData\\Local\\Temp\\pip-wheel-c5q2bbll'\n",
      "       cwd: C:\\Users\\User\\AppData\\Local\\Temp\\pip-install-84n2s621\\pycrypto_1cd49094bbb44c2082ac45a858b4ee0f\\\n",
      "  Complete output (153 lines):\n",
      "  running bdist_wheel\n",
      "  running build\n",
      "  running build_py\n",
      "  creating build\n",
      "  creating build\\lib.win-amd64-3.8\n",
      "  creating build\\lib.win-amd64-3.8\\Crypto\n",
      "  copying lib\\Crypto\\pct_warnings.py -> build\\lib.win-amd64-3.8\\Crypto\n",
      "  copying lib\\Crypto\\__init__.py -> build\\lib.win-amd64-3.8\\Crypto\n",
      "  creating build\\lib.win-amd64-3.8\\Crypto\\Hash\n",
      "  copying lib\\Crypto\\Hash\\hashalgo.py -> build\\lib.win-amd64-3.8\\Crypto\\Hash\n",
      "  copying lib\\Crypto\\Hash\\HMAC.py -> build\\lib.win-amd64-3.8\\Crypto\\Hash\n",
      "  copying lib\\Crypto\\Hash\\MD2.py -> build\\lib.win-amd64-3.8\\Crypto\\Hash\n",
      "  copying lib\\Crypto\\Hash\\MD4.py -> build\\lib.win-amd64-3.8\\Crypto\\Hash\n",
      "  copying lib\\Crypto\\Hash\\MD5.py -> build\\lib.win-amd64-3.8\\Crypto\\Hash\n",
      "  copying lib\\Crypto\\Hash\\RIPEMD.py -> build\\lib.win-amd64-3.8\\Crypto\\Hash\n",
      "  copying lib\\Crypto\\Hash\\SHA.py -> build\\lib.win-amd64-3.8\\Crypto\\Hash\n",
      "  copying lib\\Crypto\\Hash\\SHA224.py -> build\\lib.win-amd64-3.8\\Crypto\\Hash\n",
      "  copying lib\\Crypto\\Hash\\SHA256.py -> build\\lib.win-amd64-3.8\\Crypto\\Hash\n",
      "  copying lib\\Crypto\\Hash\\SHA384.py -> build\\lib.win-amd64-3.8\\Crypto\\Hash\n",
      "  copying lib\\Crypto\\Hash\\SHA512.py -> build\\lib.win-amd64-3.8\\Crypto\\Hash\n",
      "  copying lib\\Crypto\\Hash\\__init__.py -> build\\lib.win-amd64-3.8\\Crypto\\Hash\n",
      "  creating build\\lib.win-amd64-3.8\\Crypto\\Cipher\n",
      "  copying lib\\Crypto\\Cipher\\AES.py -> build\\lib.win-amd64-3.8\\Crypto\\Cipher\n",
      "  copying lib\\Crypto\\Cipher\\ARC2.py -> build\\lib.win-amd64-3.8\\Crypto\\Cipher\n",
      "  copying lib\\Crypto\\Cipher\\ARC4.py -> build\\lib.win-amd64-3.8\\Crypto\\Cipher\n",
      "  copying lib\\Crypto\\Cipher\\blockalgo.py -> build\\lib.win-amd64-3.8\\Crypto\\Cipher\n",
      "  copying lib\\Crypto\\Cipher\\Blowfish.py -> build\\lib.win-amd64-3.8\\Crypto\\Cipher\n",
      "  copying lib\\Crypto\\Cipher\\CAST.py -> build\\lib.win-amd64-3.8\\Crypto\\Cipher\n",
      "  copying lib\\Crypto\\Cipher\\DES.py -> build\\lib.win-amd64-3.8\\Crypto\\Cipher\n",
      "  copying lib\\Crypto\\Cipher\\DES3.py -> build\\lib.win-amd64-3.8\\Crypto\\Cipher\n",
      "  copying lib\\Crypto\\Cipher\\PKCS1_OAEP.py -> build\\lib.win-amd64-3.8\\Crypto\\Cipher\n",
      "  copying lib\\Crypto\\Cipher\\PKCS1_v1_5.py -> build\\lib.win-amd64-3.8\\Crypto\\Cipher\n",
      "  copying lib\\Crypto\\Cipher\\XOR.py -> build\\lib.win-amd64-3.8\\Crypto\\Cipher\n",
      "  copying lib\\Crypto\\Cipher\\__init__.py -> build\\lib.win-amd64-3.8\\Crypto\\Cipher\n",
      "  creating build\\lib.win-amd64-3.8\\Crypto\\Util\n",
      "  copying lib\\Crypto\\Util\\asn1.py -> build\\lib.win-amd64-3.8\\Crypto\\Util\n",
      "  copying lib\\Crypto\\Util\\Counter.py -> build\\lib.win-amd64-3.8\\Crypto\\Util\n",
      "  copying lib\\Crypto\\Util\\number.py -> build\\lib.win-amd64-3.8\\Crypto\\Util\n",
      "  copying lib\\Crypto\\Util\\py3compat.py -> build\\lib.win-amd64-3.8\\Crypto\\Util\n",
      "  copying lib\\Crypto\\Util\\randpool.py -> build\\lib.win-amd64-3.8\\Crypto\\Util\n",
      "  copying lib\\Crypto\\Util\\RFC1751.py -> build\\lib.win-amd64-3.8\\Crypto\\Util\n",
      "  copying lib\\Crypto\\Util\\winrandom.py -> build\\lib.win-amd64-3.8\\Crypto\\Util\n",
      "  copying lib\\Crypto\\Util\\_number_new.py -> build\\lib.win-amd64-3.8\\Crypto\\Util\n",
      "  copying lib\\Crypto\\Util\\__init__.py -> build\\lib.win-amd64-3.8\\Crypto\\Util\n",
      "  creating build\\lib.win-amd64-3.8\\Crypto\\Random\n",
      "  copying lib\\Crypto\\Random\\random.py -> build\\lib.win-amd64-3.8\\Crypto\\Random\n",
      "  copying lib\\Crypto\\Random\\_UserFriendlyRNG.py -> build\\lib.win-amd64-3.8\\Crypto\\Random\n",
      "  copying lib\\Crypto\\Random\\__init__.py -> build\\lib.win-amd64-3.8\\Crypto\\Random\n",
      "  creating build\\lib.win-amd64-3.8\\Crypto\\Random\\Fortuna\n",
      "  copying lib\\Crypto\\Random\\Fortuna\\FortunaAccumulator.py -> build\\lib.win-amd64-3.8\\Crypto\\Random\\Fortuna\n",
      "  copying lib\\Crypto\\Random\\Fortuna\\FortunaGenerator.py -> build\\lib.win-amd64-3.8\\Crypto\\Random\\Fortuna\n",
      "  copying lib\\Crypto\\Random\\Fortuna\\SHAd256.py -> build\\lib.win-amd64-3.8\\Crypto\\Random\\Fortuna\n",
      "  copying lib\\Crypto\\Random\\Fortuna\\__init__.py -> build\\lib.win-amd64-3.8\\Crypto\\Random\\Fortuna\n",
      "  creating build\\lib.win-amd64-3.8\\Crypto\\Random\\OSRNG\n",
      "  copying lib\\Crypto\\Random\\OSRNG\\fallback.py -> build\\lib.win-amd64-3.8\\Crypto\\Random\\OSRNG\n",
      "  copying lib\\Crypto\\Random\\OSRNG\\nt.py -> build\\lib.win-amd64-3.8\\Crypto\\Random\\OSRNG\n",
      "  copying lib\\Crypto\\Random\\OSRNG\\posix.py -> build\\lib.win-amd64-3.8\\Crypto\\Random\\OSRNG\n",
      "  copying lib\\Crypto\\Random\\OSRNG\\rng_base.py -> build\\lib.win-amd64-3.8\\Crypto\\Random\\OSRNG\n",
      "  copying lib\\Crypto\\Random\\OSRNG\\__init__.py -> build\\lib.win-amd64-3.8\\Crypto\\Random\\OSRNG\n",
      "  creating build\\lib.win-amd64-3.8\\Crypto\\SelfTest\n",
      "  copying lib\\Crypto\\SelfTest\\st_common.py -> build\\lib.win-amd64-3.8\\Crypto\\SelfTest\n",
      "  copying lib\\Crypto\\SelfTest\\__init__.py -> build\\lib.win-amd64-3.8\\Crypto\\SelfTest\n",
      "  creating build\\lib.win-amd64-3.8\\Crypto\\SelfTest\\Cipher\n",
      "  copying lib\\Crypto\\SelfTest\\Cipher\\common.py -> build\\lib.win-amd64-3.8\\Crypto\\SelfTest\\Cipher\n",
      "  copying lib\\Crypto\\SelfTest\\Cipher\\test_AES.py -> build\\lib.win-amd64-3.8\\Crypto\\SelfTest\\Cipher\n",
      "  copying lib\\Crypto\\SelfTest\\Cipher\\test_ARC2.py -> build\\lib.win-amd64-3.8\\Crypto\\SelfTest\\Cipher\n",
      "  copying lib\\Crypto\\SelfTest\\Cipher\\test_ARC4.py -> build\\lib.win-amd64-3.8\\Crypto\\SelfTest\\Cipher\n",
      "  copying lib\\Crypto\\SelfTest\\Cipher\\test_Blowfish.py -> build\\lib.win-amd64-3.8\\Crypto\\SelfTest\\Cipher\n",
      "  copying lib\\Crypto\\SelfTest\\Cipher\\test_CAST.py -> build\\lib.win-amd64-3.8\\Crypto\\SelfTest\\Cipher\n",
      "  copying lib\\Crypto\\SelfTest\\Cipher\\test_DES.py -> build\\lib.win-amd64-3.8\\Crypto\\SelfTest\\Cipher\n",
      "  copying lib\\Crypto\\SelfTest\\Cipher\\test_DES3.py -> build\\lib.win-amd64-3.8\\Crypto\\SelfTest\\Cipher\n",
      "  copying lib\\Crypto\\SelfTest\\Cipher\\test_pkcs1_15.py -> build\\lib.win-amd64-3.8\\Crypto\\SelfTest\\Cipher\n",
      "  copying lib\\Crypto\\SelfTest\\Cipher\\test_pkcs1_oaep.py -> build\\lib.win-amd64-3.8\\Crypto\\SelfTest\\Cipher\n",
      "  copying lib\\Crypto\\SelfTest\\Cipher\\test_XOR.py -> build\\lib.win-amd64-3.8\\Crypto\\SelfTest\\Cipher\n",
      "  copying lib\\Crypto\\SelfTest\\Cipher\\__init__.py -> build\\lib.win-amd64-3.8\\Crypto\\SelfTest\\Cipher\n",
      "  creating build\\lib.win-amd64-3.8\\Crypto\\SelfTest\\Hash\n",
      "  copying lib\\Crypto\\SelfTest\\Hash\\common.py -> build\\lib.win-amd64-3.8\\Crypto\\SelfTest\\Hash\n",
      "  copying lib\\Crypto\\SelfTest\\Hash\\test_HMAC.py -> build\\lib.win-amd64-3.8\\Crypto\\SelfTest\\Hash\n",
      "  copying lib\\Crypto\\SelfTest\\Hash\\test_MD2.py -> build\\lib.win-amd64-3.8\\Crypto\\SelfTest\\Hash\n",
      "  copying lib\\Crypto\\SelfTest\\Hash\\test_MD4.py -> build\\lib.win-amd64-3.8\\Crypto\\SelfTest\\Hash\n",
      "  copying lib\\Crypto\\SelfTest\\Hash\\test_MD5.py -> build\\lib.win-amd64-3.8\\Crypto\\SelfTest\\Hash\n",
      "  copying lib\\Crypto\\SelfTest\\Hash\\test_RIPEMD.py -> build\\lib.win-amd64-3.8\\Crypto\\SelfTest\\Hash\n",
      "  copying lib\\Crypto\\SelfTest\\Hash\\test_SHA.py -> build\\lib.win-amd64-3.8\\Crypto\\SelfTest\\Hash\n",
      "  copying lib\\Crypto\\SelfTest\\Hash\\test_SHA224.py -> build\\lib.win-amd64-3.8\\Crypto\\SelfTest\\Hash\n",
      "  copying lib\\Crypto\\SelfTest\\Hash\\test_SHA256.py -> build\\lib.win-amd64-3.8\\Crypto\\SelfTest\\Hash\n",
      "  copying lib\\Crypto\\SelfTest\\Hash\\test_SHA384.py -> build\\lib.win-amd64-3.8\\Crypto\\SelfTest\\Hash\n",
      "  copying lib\\Crypto\\SelfTest\\Hash\\test_SHA512.py -> build\\lib.win-amd64-3.8\\Crypto\\SelfTest\\Hash\n",
      "  copying lib\\Crypto\\SelfTest\\Hash\\__init__.py -> build\\lib.win-amd64-3.8\\Crypto\\SelfTest\\Hash\n",
      "  creating build\\lib.win-amd64-3.8\\Crypto\\SelfTest\\Protocol\n",
      "  copying lib\\Crypto\\SelfTest\\Protocol\\test_AllOrNothing.py -> build\\lib.win-amd64-3.8\\Crypto\\SelfTest\\Protocol\n",
      "  copying lib\\Crypto\\SelfTest\\Protocol\\test_chaffing.py -> build\\lib.win-amd64-3.8\\Crypto\\SelfTest\\Protocol\n",
      "  copying lib\\Crypto\\SelfTest\\Protocol\\test_KDF.py -> build\\lib.win-amd64-3.8\\Crypto\\SelfTest\\Protocol\n",
      "  copying lib\\Crypto\\SelfTest\\Protocol\\test_rfc1751.py -> build\\lib.win-amd64-3.8\\Crypto\\SelfTest\\Protocol\n",
      "  copying lib\\Crypto\\SelfTest\\Protocol\\__init__.py -> build\\lib.win-amd64-3.8\\Crypto\\SelfTest\\Protocol\n",
      "  creating build\\lib.win-amd64-3.8\\Crypto\\SelfTest\\PublicKey\n",
      "  copying lib\\Crypto\\SelfTest\\PublicKey\\test_DSA.py -> build\\lib.win-amd64-3.8\\Crypto\\SelfTest\\PublicKey\n",
      "  copying lib\\Crypto\\SelfTest\\PublicKey\\test_ElGamal.py -> build\\lib.win-amd64-3.8\\Crypto\\SelfTest\\PublicKey\n",
      "  copying lib\\Crypto\\SelfTest\\PublicKey\\test_importKey.py -> build\\lib.win-amd64-3.8\\Crypto\\SelfTest\\PublicKey\n",
      "  copying lib\\Crypto\\SelfTest\\PublicKey\\test_RSA.py -> build\\lib.win-amd64-3.8\\Crypto\\SelfTest\\PublicKey\n",
      "  copying lib\\Crypto\\SelfTest\\PublicKey\\__init__.py -> build\\lib.win-amd64-3.8\\Crypto\\SelfTest\\PublicKey\n",
      "  creating build\\lib.win-amd64-3.8\\Crypto\\SelfTest\\Random\n",
      "  copying lib\\Crypto\\SelfTest\\Random\\test_random.py -> build\\lib.win-amd64-3.8\\Crypto\\SelfTest\\Random\n",
      "  copying lib\\Crypto\\SelfTest\\Random\\test_rpoolcompat.py -> build\\lib.win-amd64-3.8\\Crypto\\SelfTest\\Random\n",
      "  copying lib\\Crypto\\SelfTest\\Random\\test__UserFriendlyRNG.py -> build\\lib.win-amd64-3.8\\Crypto\\SelfTest\\Random\n",
      "  copying lib\\Crypto\\SelfTest\\Random\\__init__.py -> build\\lib.win-amd64-3.8\\Crypto\\SelfTest\\Random\n",
      "  creating build\\lib.win-amd64-3.8\\Crypto\\SelfTest\\Random\\Fortuna\n",
      "  copying lib\\Crypto\\SelfTest\\Random\\Fortuna\\test_FortunaAccumulator.py -> build\\lib.win-amd64-3.8\\Crypto\\SelfTest\\Random\\Fortuna\n",
      "  copying lib\\Crypto\\SelfTest\\Random\\Fortuna\\test_FortunaGenerator.py -> build\\lib.win-amd64-3.8\\Crypto\\SelfTest\\Random\\Fortuna\n",
      "  copying lib\\Crypto\\SelfTest\\Random\\Fortuna\\test_SHAd256.py -> build\\lib.win-amd64-3.8\\Crypto\\SelfTest\\Random\\Fortuna\n",
      "  copying lib\\Crypto\\SelfTest\\Random\\Fortuna\\__init__.py -> build\\lib.win-amd64-3.8\\Crypto\\SelfTest\\Random\\Fortuna\n",
      "  creating build\\lib.win-amd64-3.8\\Crypto\\SelfTest\\Random\\OSRNG\n",
      "  copying lib\\Crypto\\SelfTest\\Random\\OSRNG\\test_fallback.py -> build\\lib.win-amd64-3.8\\Crypto\\SelfTest\\Random\\OSRNG\n",
      "  copying lib\\Crypto\\SelfTest\\Random\\OSRNG\\test_generic.py -> build\\lib.win-amd64-3.8\\Crypto\\SelfTest\\Random\\OSRNG\n",
      "  copying lib\\Crypto\\SelfTest\\Random\\OSRNG\\test_nt.py -> build\\lib.win-amd64-3.8\\Crypto\\SelfTest\\Random\\OSRNG\n",
      "  copying lib\\Crypto\\SelfTest\\Random\\OSRNG\\test_posix.py -> build\\lib.win-amd64-3.8\\Crypto\\SelfTest\\Random\\OSRNG\n",
      "  copying lib\\Crypto\\SelfTest\\Random\\OSRNG\\test_winrandom.py -> build\\lib.win-amd64-3.8\\Crypto\\SelfTest\\Random\\OSRNG\n",
      "  copying lib\\Crypto\\SelfTest\\Random\\OSRNG\\__init__.py -> build\\lib.win-amd64-3.8\\Crypto\\SelfTest\\Random\\OSRNG\n",
      "  creating build\\lib.win-amd64-3.8\\Crypto\\SelfTest\\Util\n",
      "  copying lib\\Crypto\\SelfTest\\Util\\test_asn1.py -> build\\lib.win-amd64-3.8\\Crypto\\SelfTest\\Util\n",
      "  copying lib\\Crypto\\SelfTest\\Util\\test_Counter.py -> build\\lib.win-amd64-3.8\\Crypto\\SelfTest\\Util\n",
      "  copying lib\\Crypto\\SelfTest\\Util\\test_number.py -> build\\lib.win-amd64-3.8\\Crypto\\SelfTest\\Util\n",
      "  copying lib\\Crypto\\SelfTest\\Util\\test_winrandom.py -> build\\lib.win-amd64-3.8\\Crypto\\SelfTest\\Util\n",
      "  copying lib\\Crypto\\SelfTest\\Util\\__init__.py -> build\\lib.win-amd64-3.8\\Crypto\\SelfTest\\Util\n"
     ]
    },
    {
     "name": "stderr",
     "output_type": "stream",
     "text": [
      "  creating build\\lib.win-amd64-3.8\\Crypto\\SelfTest\\Signature\n",
      "  copying lib\\Crypto\\SelfTest\\Signature\\test_pkcs1_15.py -> build\\lib.win-amd64-3.8\\Crypto\\SelfTest\\Signature\n",
      "  copying lib\\Crypto\\SelfTest\\Signature\\test_pkcs1_pss.py -> build\\lib.win-amd64-3.8\\Crypto\\SelfTest\\Signature\n",
      "  copying lib\\Crypto\\SelfTest\\Signature\\__init__.py -> build\\lib.win-amd64-3.8\\Crypto\\SelfTest\\Signature\n",
      "  creating build\\lib.win-amd64-3.8\\Crypto\\Protocol\n",
      "  copying lib\\Crypto\\Protocol\\AllOrNothing.py -> build\\lib.win-amd64-3.8\\Crypto\\Protocol\n",
      "  copying lib\\Crypto\\Protocol\\Chaffing.py -> build\\lib.win-amd64-3.8\\Crypto\\Protocol\n",
      "  copying lib\\Crypto\\Protocol\\KDF.py -> build\\lib.win-amd64-3.8\\Crypto\\Protocol\n",
      "  copying lib\\Crypto\\Protocol\\__init__.py -> build\\lib.win-amd64-3.8\\Crypto\\Protocol\n",
      "  creating build\\lib.win-amd64-3.8\\Crypto\\PublicKey\n",
      "  copying lib\\Crypto\\PublicKey\\DSA.py -> build\\lib.win-amd64-3.8\\Crypto\\PublicKey\n",
      "  copying lib\\Crypto\\PublicKey\\ElGamal.py -> build\\lib.win-amd64-3.8\\Crypto\\PublicKey\n",
      "  copying lib\\Crypto\\PublicKey\\pubkey.py -> build\\lib.win-amd64-3.8\\Crypto\\PublicKey\n",
      "  copying lib\\Crypto\\PublicKey\\RSA.py -> build\\lib.win-amd64-3.8\\Crypto\\PublicKey\n",
      "  copying lib\\Crypto\\PublicKey\\_DSA.py -> build\\lib.win-amd64-3.8\\Crypto\\PublicKey\n",
      "  copying lib\\Crypto\\PublicKey\\_RSA.py -> build\\lib.win-amd64-3.8\\Crypto\\PublicKey\n",
      "  copying lib\\Crypto\\PublicKey\\_slowmath.py -> build\\lib.win-amd64-3.8\\Crypto\\PublicKey\n",
      "  copying lib\\Crypto\\PublicKey\\__init__.py -> build\\lib.win-amd64-3.8\\Crypto\\PublicKey\n",
      "  creating build\\lib.win-amd64-3.8\\Crypto\\Signature\n",
      "  copying lib\\Crypto\\Signature\\PKCS1_PSS.py -> build\\lib.win-amd64-3.8\\Crypto\\Signature\n",
      "  copying lib\\Crypto\\Signature\\PKCS1_v1_5.py -> build\\lib.win-amd64-3.8\\Crypto\\Signature\n",
      "  copying lib\\Crypto\\Signature\\__init__.py -> build\\lib.win-amd64-3.8\\Crypto\\Signature\n",
      "  Skipping optional fixer: buffer\n",
      "  Skipping optional fixer: idioms\n",
      "  Skipping optional fixer: set_literal\n",
      "  Skipping optional fixer: ws_comma\n",
      "  running build_ext\n",
      "  warning: GMP or MPIR library not found; Not building Crypto.PublicKey._fastmath.\n",
      "  building 'Crypto.Random.OSRNG.winrandom' extension\n",
      "  error: Microsoft Visual C++ 14.0 or greater is required. Get it with \"Microsoft C++ Build Tools\": https://visualstudio.microsoft.com/visual-cpp-build-tools/\n",
      "  ----------------------------------------\n",
      "  ERROR: Failed building wheel for PyCrypto\n",
      "    ERROR: Command errored out with exit status 1:\n",
      "     command: 'D:\\Anak\\Anak\\python.exe' -u -c 'import sys, setuptools, tokenize; sys.argv[0] = '\"'\"'C:\\\\Users\\\\User\\\\AppData\\\\Local\\\\Temp\\\\pip-install-84n2s621\\\\pycrypto_1cd49094bbb44c2082ac45a858b4ee0f\\\\setup.py'\"'\"'; __file__='\"'\"'C:\\\\Users\\\\User\\\\AppData\\\\Local\\\\Temp\\\\pip-install-84n2s621\\\\pycrypto_1cd49094bbb44c2082ac45a858b4ee0f\\\\setup.py'\"'\"';f=getattr(tokenize, '\"'\"'open'\"'\"', open)(__file__);code=f.read().replace('\"'\"'\\r\\n'\"'\"', '\"'\"'\\n'\"'\"');f.close();exec(compile(code, __file__, '\"'\"'exec'\"'\"'))' install --record 'C:\\Users\\User\\AppData\\Local\\Temp\\pip-record-80rcj5r0\\install-record.txt' --single-version-externally-managed --compile --install-headers 'D:\\Anak\\Anak\\Include\\PyCrypto'\n",
      "         cwd: C:\\Users\\User\\AppData\\Local\\Temp\\pip-install-84n2s621\\pycrypto_1cd49094bbb44c2082ac45a858b4ee0f\\\n",
      "    Complete output (153 lines):\n",
      "    running install\n",
      "    running build\n",
      "    running build_py\n",
      "    creating build\n",
      "    creating build\\lib.win-amd64-3.8\n",
      "    creating build\\lib.win-amd64-3.8\\Crypto\n",
      "    copying lib\\Crypto\\pct_warnings.py -> build\\lib.win-amd64-3.8\\Crypto\n",
      "    copying lib\\Crypto\\__init__.py -> build\\lib.win-amd64-3.8\\Crypto\n",
      "    creating build\\lib.win-amd64-3.8\\Crypto\\Hash\n",
      "    copying lib\\Crypto\\Hash\\hashalgo.py -> build\\lib.win-amd64-3.8\\Crypto\\Hash\n",
      "    copying lib\\Crypto\\Hash\\HMAC.py -> build\\lib.win-amd64-3.8\\Crypto\\Hash\n",
      "    copying lib\\Crypto\\Hash\\MD2.py -> build\\lib.win-amd64-3.8\\Crypto\\Hash\n",
      "    copying lib\\Crypto\\Hash\\MD4.py -> build\\lib.win-amd64-3.8\\Crypto\\Hash\n",
      "    copying lib\\Crypto\\Hash\\MD5.py -> build\\lib.win-amd64-3.8\\Crypto\\Hash\n",
      "    copying lib\\Crypto\\Hash\\RIPEMD.py -> build\\lib.win-amd64-3.8\\Crypto\\Hash\n",
      "    copying lib\\Crypto\\Hash\\SHA.py -> build\\lib.win-amd64-3.8\\Crypto\\Hash\n",
      "    copying lib\\Crypto\\Hash\\SHA224.py -> build\\lib.win-amd64-3.8\\Crypto\\Hash\n",
      "    copying lib\\Crypto\\Hash\\SHA256.py -> build\\lib.win-amd64-3.8\\Crypto\\Hash\n",
      "    copying lib\\Crypto\\Hash\\SHA384.py -> build\\lib.win-amd64-3.8\\Crypto\\Hash\n",
      "    copying lib\\Crypto\\Hash\\SHA512.py -> build\\lib.win-amd64-3.8\\Crypto\\Hash\n",
      "    copying lib\\Crypto\\Hash\\__init__.py -> build\\lib.win-amd64-3.8\\Crypto\\Hash\n",
      "    creating build\\lib.win-amd64-3.8\\Crypto\\Cipher\n",
      "    copying lib\\Crypto\\Cipher\\AES.py -> build\\lib.win-amd64-3.8\\Crypto\\Cipher\n",
      "    copying lib\\Crypto\\Cipher\\ARC2.py -> build\\lib.win-amd64-3.8\\Crypto\\Cipher\n",
      "    copying lib\\Crypto\\Cipher\\ARC4.py -> build\\lib.win-amd64-3.8\\Crypto\\Cipher\n",
      "    copying lib\\Crypto\\Cipher\\blockalgo.py -> build\\lib.win-amd64-3.8\\Crypto\\Cipher\n",
      "    copying lib\\Crypto\\Cipher\\Blowfish.py -> build\\lib.win-amd64-3.8\\Crypto\\Cipher\n",
      "    copying lib\\Crypto\\Cipher\\CAST.py -> build\\lib.win-amd64-3.8\\Crypto\\Cipher\n",
      "    copying lib\\Crypto\\Cipher\\DES.py -> build\\lib.win-amd64-3.8\\Crypto\\Cipher\n",
      "    copying lib\\Crypto\\Cipher\\DES3.py -> build\\lib.win-amd64-3.8\\Crypto\\Cipher\n",
      "    copying lib\\Crypto\\Cipher\\PKCS1_OAEP.py -> build\\lib.win-amd64-3.8\\Crypto\\Cipher\n",
      "    copying lib\\Crypto\\Cipher\\PKCS1_v1_5.py -> build\\lib.win-amd64-3.8\\Crypto\\Cipher\n",
      "    copying lib\\Crypto\\Cipher\\XOR.py -> build\\lib.win-amd64-3.8\\Crypto\\Cipher\n",
      "    copying lib\\Crypto\\Cipher\\__init__.py -> build\\lib.win-amd64-3.8\\Crypto\\Cipher\n",
      "    creating build\\lib.win-amd64-3.8\\Crypto\\Util\n",
      "    copying lib\\Crypto\\Util\\asn1.py -> build\\lib.win-amd64-3.8\\Crypto\\Util\n",
      "    copying lib\\Crypto\\Util\\Counter.py -> build\\lib.win-amd64-3.8\\Crypto\\Util\n",
      "    copying lib\\Crypto\\Util\\number.py -> build\\lib.win-amd64-3.8\\Crypto\\Util\n",
      "    copying lib\\Crypto\\Util\\py3compat.py -> build\\lib.win-amd64-3.8\\Crypto\\Util\n",
      "    copying lib\\Crypto\\Util\\randpool.py -> build\\lib.win-amd64-3.8\\Crypto\\Util\n",
      "    copying lib\\Crypto\\Util\\RFC1751.py -> build\\lib.win-amd64-3.8\\Crypto\\Util\n",
      "    copying lib\\Crypto\\Util\\winrandom.py -> build\\lib.win-amd64-3.8\\Crypto\\Util\n",
      "    copying lib\\Crypto\\Util\\_number_new.py -> build\\lib.win-amd64-3.8\\Crypto\\Util\n",
      "    copying lib\\Crypto\\Util\\__init__.py -> build\\lib.win-amd64-3.8\\Crypto\\Util\n",
      "    creating build\\lib.win-amd64-3.8\\Crypto\\Random\n",
      "    copying lib\\Crypto\\Random\\random.py -> build\\lib.win-amd64-3.8\\Crypto\\Random\n",
      "    copying lib\\Crypto\\Random\\_UserFriendlyRNG.py -> build\\lib.win-amd64-3.8\\Crypto\\Random\n",
      "    copying lib\\Crypto\\Random\\__init__.py -> build\\lib.win-amd64-3.8\\Crypto\\Random\n",
      "    creating build\\lib.win-amd64-3.8\\Crypto\\Random\\Fortuna\n",
      "    copying lib\\Crypto\\Random\\Fortuna\\FortunaAccumulator.py -> build\\lib.win-amd64-3.8\\Crypto\\Random\\Fortuna\n",
      "    copying lib\\Crypto\\Random\\Fortuna\\FortunaGenerator.py -> build\\lib.win-amd64-3.8\\Crypto\\Random\\Fortuna\n",
      "    copying lib\\Crypto\\Random\\Fortuna\\SHAd256.py -> build\\lib.win-amd64-3.8\\Crypto\\Random\\Fortuna\n",
      "    copying lib\\Crypto\\Random\\Fortuna\\__init__.py -> build\\lib.win-amd64-3.8\\Crypto\\Random\\Fortuna\n",
      "    creating build\\lib.win-amd64-3.8\\Crypto\\Random\\OSRNG\n",
      "    copying lib\\Crypto\\Random\\OSRNG\\fallback.py -> build\\lib.win-amd64-3.8\\Crypto\\Random\\OSRNG\n",
      "    copying lib\\Crypto\\Random\\OSRNG\\nt.py -> build\\lib.win-amd64-3.8\\Crypto\\Random\\OSRNG\n",
      "    copying lib\\Crypto\\Random\\OSRNG\\posix.py -> build\\lib.win-amd64-3.8\\Crypto\\Random\\OSRNG\n",
      "    copying lib\\Crypto\\Random\\OSRNG\\rng_base.py -> build\\lib.win-amd64-3.8\\Crypto\\Random\\OSRNG\n",
      "    copying lib\\Crypto\\Random\\OSRNG\\__init__.py -> build\\lib.win-amd64-3.8\\Crypto\\Random\\OSRNG\n",
      "    creating build\\lib.win-amd64-3.8\\Crypto\\SelfTest\n",
      "    copying lib\\Crypto\\SelfTest\\st_common.py -> build\\lib.win-amd64-3.8\\Crypto\\SelfTest\n",
      "    copying lib\\Crypto\\SelfTest\\__init__.py -> build\\lib.win-amd64-3.8\\Crypto\\SelfTest\n",
      "    creating build\\lib.win-amd64-3.8\\Crypto\\SelfTest\\Cipher\n",
      "    copying lib\\Crypto\\SelfTest\\Cipher\\common.py -> build\\lib.win-amd64-3.8\\Crypto\\SelfTest\\Cipher\n",
      "    copying lib\\Crypto\\SelfTest\\Cipher\\test_AES.py -> build\\lib.win-amd64-3.8\\Crypto\\SelfTest\\Cipher\n",
      "    copying lib\\Crypto\\SelfTest\\Cipher\\test_ARC2.py -> build\\lib.win-amd64-3.8\\Crypto\\SelfTest\\Cipher\n",
      "    copying lib\\Crypto\\SelfTest\\Cipher\\test_ARC4.py -> build\\lib.win-amd64-3.8\\Crypto\\SelfTest\\Cipher\n",
      "    copying lib\\Crypto\\SelfTest\\Cipher\\test_Blowfish.py -> build\\lib.win-amd64-3.8\\Crypto\\SelfTest\\Cipher\n",
      "    copying lib\\Crypto\\SelfTest\\Cipher\\test_CAST.py -> build\\lib.win-amd64-3.8\\Crypto\\SelfTest\\Cipher\n",
      "    copying lib\\Crypto\\SelfTest\\Cipher\\test_DES.py -> build\\lib.win-amd64-3.8\\Crypto\\SelfTest\\Cipher\n",
      "    copying lib\\Crypto\\SelfTest\\Cipher\\test_DES3.py -> build\\lib.win-amd64-3.8\\Crypto\\SelfTest\\Cipher\n",
      "    copying lib\\Crypto\\SelfTest\\Cipher\\test_pkcs1_15.py -> build\\lib.win-amd64-3.8\\Crypto\\SelfTest\\Cipher\n",
      "    copying lib\\Crypto\\SelfTest\\Cipher\\test_pkcs1_oaep.py -> build\\lib.win-amd64-3.8\\Crypto\\SelfTest\\Cipher\n",
      "    copying lib\\Crypto\\SelfTest\\Cipher\\test_XOR.py -> build\\lib.win-amd64-3.8\\Crypto\\SelfTest\\Cipher\n",
      "    copying lib\\Crypto\\SelfTest\\Cipher\\__init__.py -> build\\lib.win-amd64-3.8\\Crypto\\SelfTest\\Cipher\n",
      "    creating build\\lib.win-amd64-3.8\\Crypto\\SelfTest\\Hash\n",
      "    copying lib\\Crypto\\SelfTest\\Hash\\common.py -> build\\lib.win-amd64-3.8\\Crypto\\SelfTest\\Hash\n",
      "    copying lib\\Crypto\\SelfTest\\Hash\\test_HMAC.py -> build\\lib.win-amd64-3.8\\Crypto\\SelfTest\\Hash\n",
      "    copying lib\\Crypto\\SelfTest\\Hash\\test_MD2.py -> build\\lib.win-amd64-3.8\\Crypto\\SelfTest\\Hash\n",
      "    copying lib\\Crypto\\SelfTest\\Hash\\test_MD4.py -> build\\lib.win-amd64-3.8\\Crypto\\SelfTest\\Hash\n",
      "    copying lib\\Crypto\\SelfTest\\Hash\\test_MD5.py -> build\\lib.win-amd64-3.8\\Crypto\\SelfTest\\Hash\n",
      "    copying lib\\Crypto\\SelfTest\\Hash\\test_RIPEMD.py -> build\\lib.win-amd64-3.8\\Crypto\\SelfTest\\Hash\n",
      "    copying lib\\Crypto\\SelfTest\\Hash\\test_SHA.py -> build\\lib.win-amd64-3.8\\Crypto\\SelfTest\\Hash\n",
      "    copying lib\\Crypto\\SelfTest\\Hash\\test_SHA224.py -> build\\lib.win-amd64-3.8\\Crypto\\SelfTest\\Hash\n",
      "    copying lib\\Crypto\\SelfTest\\Hash\\test_SHA256.py -> build\\lib.win-amd64-3.8\\Crypto\\SelfTest\\Hash\n",
      "    copying lib\\Crypto\\SelfTest\\Hash\\test_SHA384.py -> build\\lib.win-amd64-3.8\\Crypto\\SelfTest\\Hash\n",
      "    copying lib\\Crypto\\SelfTest\\Hash\\test_SHA512.py -> build\\lib.win-amd64-3.8\\Crypto\\SelfTest\\Hash\n",
      "    copying lib\\Crypto\\SelfTest\\Hash\\__init__.py -> build\\lib.win-amd64-3.8\\Crypto\\SelfTest\\Hash\n",
      "    creating build\\lib.win-amd64-3.8\\Crypto\\SelfTest\\Protocol\n",
      "    copying lib\\Crypto\\SelfTest\\Protocol\\test_AllOrNothing.py -> build\\lib.win-amd64-3.8\\Crypto\\SelfTest\\Protocol\n",
      "    copying lib\\Crypto\\SelfTest\\Protocol\\test_chaffing.py -> build\\lib.win-amd64-3.8\\Crypto\\SelfTest\\Protocol\n",
      "    copying lib\\Crypto\\SelfTest\\Protocol\\test_KDF.py -> build\\lib.win-amd64-3.8\\Crypto\\SelfTest\\Protocol\n",
      "    copying lib\\Crypto\\SelfTest\\Protocol\\test_rfc1751.py -> build\\lib.win-amd64-3.8\\Crypto\\SelfTest\\Protocol\n",
      "    copying lib\\Crypto\\SelfTest\\Protocol\\__init__.py -> build\\lib.win-amd64-3.8\\Crypto\\SelfTest\\Protocol\n",
      "    creating build\\lib.win-amd64-3.8\\Crypto\\SelfTest\\PublicKey\n",
      "    copying lib\\Crypto\\SelfTest\\PublicKey\\test_DSA.py -> build\\lib.win-amd64-3.8\\Crypto\\SelfTest\\PublicKey\n",
      "    copying lib\\Crypto\\SelfTest\\PublicKey\\test_ElGamal.py -> build\\lib.win-amd64-3.8\\Crypto\\SelfTest\\PublicKey\n",
      "    copying lib\\Crypto\\SelfTest\\PublicKey\\test_importKey.py -> build\\lib.win-amd64-3.8\\Crypto\\SelfTest\\PublicKey\n",
      "    copying lib\\Crypto\\SelfTest\\PublicKey\\test_RSA.py -> build\\lib.win-amd64-3.8\\Crypto\\SelfTest\\PublicKey\n",
      "    copying lib\\Crypto\\SelfTest\\PublicKey\\__init__.py -> build\\lib.win-amd64-3.8\\Crypto\\SelfTest\\PublicKey\n",
      "    creating build\\lib.win-amd64-3.8\\Crypto\\SelfTest\\Random\n",
      "    copying lib\\Crypto\\SelfTest\\Random\\test_random.py -> build\\lib.win-amd64-3.8\\Crypto\\SelfTest\\Random\n",
      "    copying lib\\Crypto\\SelfTest\\Random\\test_rpoolcompat.py -> build\\lib.win-amd64-3.8\\Crypto\\SelfTest\\Random\n",
      "    copying lib\\Crypto\\SelfTest\\Random\\test__UserFriendlyRNG.py -> build\\lib.win-amd64-3.8\\Crypto\\SelfTest\\Random\n",
      "    copying lib\\Crypto\\SelfTest\\Random\\__init__.py -> build\\lib.win-amd64-3.8\\Crypto\\SelfTest\\Random\n",
      "    creating build\\lib.win-amd64-3.8\\Crypto\\SelfTest\\Random\\Fortuna\n",
      "    copying lib\\Crypto\\SelfTest\\Random\\Fortuna\\test_FortunaAccumulator.py -> build\\lib.win-amd64-3.8\\Crypto\\SelfTest\\Random\\Fortuna\n",
      "    copying lib\\Crypto\\SelfTest\\Random\\Fortuna\\test_FortunaGenerator.py -> build\\lib.win-amd64-3.8\\Crypto\\SelfTest\\Random\\Fortuna\n",
      "    copying lib\\Crypto\\SelfTest\\Random\\Fortuna\\test_SHAd256.py -> build\\lib.win-amd64-3.8\\Crypto\\SelfTest\\Random\\Fortuna\n",
      "    copying lib\\Crypto\\SelfTest\\Random\\Fortuna\\__init__.py -> build\\lib.win-amd64-3.8\\Crypto\\SelfTest\\Random\\Fortuna\n",
      "    creating build\\lib.win-amd64-3.8\\Crypto\\SelfTest\\Random\\OSRNG\n",
      "    copying lib\\Crypto\\SelfTest\\Random\\OSRNG\\test_fallback.py -> build\\lib.win-amd64-3.8\\Crypto\\SelfTest\\Random\\OSRNG\n",
      "    copying lib\\Crypto\\SelfTest\\Random\\OSRNG\\test_generic.py -> build\\lib.win-amd64-3.8\\Crypto\\SelfTest\\Random\\OSRNG\n",
      "    copying lib\\Crypto\\SelfTest\\Random\\OSRNG\\test_nt.py -> build\\lib.win-amd64-3.8\\Crypto\\SelfTest\\Random\\OSRNG\n",
      "    copying lib\\Crypto\\SelfTest\\Random\\OSRNG\\test_posix.py -> build\\lib.win-amd64-3.8\\Crypto\\SelfTest\\Random\\OSRNG\n",
      "    copying lib\\Crypto\\SelfTest\\Random\\OSRNG\\test_winrandom.py -> build\\lib.win-amd64-3.8\\Crypto\\SelfTest\\Random\\OSRNG\n",
      "    copying lib\\Crypto\\SelfTest\\Random\\OSRNG\\__init__.py -> build\\lib.win-amd64-3.8\\Crypto\\SelfTest\\Random\\OSRNG\n",
      "    creating build\\lib.win-amd64-3.8\\Crypto\\SelfTest\\Util\n",
      "    copying lib\\Crypto\\SelfTest\\Util\\test_asn1.py -> build\\lib.win-amd64-3.8\\Crypto\\SelfTest\\Util\n",
      "    copying lib\\Crypto\\SelfTest\\Util\\test_Counter.py -> build\\lib.win-amd64-3.8\\Crypto\\SelfTest\\Util\n",
      "    copying lib\\Crypto\\SelfTest\\Util\\test_number.py -> build\\lib.win-amd64-3.8\\Crypto\\SelfTest\\Util\n",
      "    copying lib\\Crypto\\SelfTest\\Util\\test_winrandom.py -> build\\lib.win-amd64-3.8\\Crypto\\SelfTest\\Util\n",
      "    copying lib\\Crypto\\SelfTest\\Util\\__init__.py -> build\\lib.win-amd64-3.8\\Crypto\\SelfTest\\Util\n",
      "    creating build\\lib.win-amd64-3.8\\Crypto\\SelfTest\\Signature\n",
      "    copying lib\\Crypto\\SelfTest\\Signature\\test_pkcs1_15.py -> build\\lib.win-amd64-3.8\\Crypto\\SelfTest\\Signature\n",
      "    copying lib\\Crypto\\SelfTest\\Signature\\test_pkcs1_pss.py -> build\\lib.win-amd64-3.8\\Crypto\\SelfTest\\Signature\n",
      "    copying lib\\Crypto\\SelfTest\\Signature\\__init__.py -> build\\lib.win-amd64-3.8\\Crypto\\SelfTest\\Signature\n",
      "    creating build\\lib.win-amd64-3.8\\Crypto\\Protocol\n",
      "    copying lib\\Crypto\\Protocol\\AllOrNothing.py -> build\\lib.win-amd64-3.8\\Crypto\\Protocol\n",
      "    copying lib\\Crypto\\Protocol\\Chaffing.py -> build\\lib.win-amd64-3.8\\Crypto\\Protocol\n",
      "    copying lib\\Crypto\\Protocol\\KDF.py -> build\\lib.win-amd64-3.8\\Crypto\\Protocol\n",
      "    copying lib\\Crypto\\Protocol\\__init__.py -> build\\lib.win-amd64-3.8\\Crypto\\Protocol\n",
      "    creating build\\lib.win-amd64-3.8\\Crypto\\PublicKey\n",
      "    copying lib\\Crypto\\PublicKey\\DSA.py -> build\\lib.win-amd64-3.8\\Crypto\\PublicKey\n",
      "    copying lib\\Crypto\\PublicKey\\ElGamal.py -> build\\lib.win-amd64-3.8\\Crypto\\PublicKey\n",
      "    copying lib\\Crypto\\PublicKey\\pubkey.py -> build\\lib.win-amd64-3.8\\Crypto\\PublicKey\n",
      "    copying lib\\Crypto\\PublicKey\\RSA.py -> build\\lib.win-amd64-3.8\\Crypto\\PublicKey\n",
      "    copying lib\\Crypto\\PublicKey\\_DSA.py -> build\\lib.win-amd64-3.8\\Crypto\\PublicKey\n",
      "    copying lib\\Crypto\\PublicKey\\_RSA.py -> build\\lib.win-amd64-3.8\\Crypto\\PublicKey\n",
      "    copying lib\\Crypto\\PublicKey\\_slowmath.py -> build\\lib.win-amd64-3.8\\Crypto\\PublicKey\n",
      "    copying lib\\Crypto\\PublicKey\\__init__.py -> build\\lib.win-amd64-3.8\\Crypto\\PublicKey\n",
      "    creating build\\lib.win-amd64-3.8\\Crypto\\Signature\n",
      "    copying lib\\Crypto\\Signature\\PKCS1_PSS.py -> build\\lib.win-amd64-3.8\\Crypto\\Signature\n",
      "    copying lib\\Crypto\\Signature\\PKCS1_v1_5.py -> build\\lib.win-amd64-3.8\\Crypto\\Signature\n",
      "    copying lib\\Crypto\\Signature\\__init__.py -> build\\lib.win-amd64-3.8\\Crypto\\Signature\n",
      "    Skipping optional fixer: buffer\n",
      "    Skipping optional fixer: idioms\n",
      "    Skipping optional fixer: set_literal\n",
      "    Skipping optional fixer: ws_comma\n",
      "    running build_ext\n",
      "    warning: GMP or MPIR library not found; Not building Crypto.PublicKey._fastmath.\n",
      "    building 'Crypto.Random.OSRNG.winrandom' extension\n",
      "    error: Microsoft Visual C++ 14.0 or greater is required. Get it with \"Microsoft C++ Build Tools\": https://visualstudio.microsoft.com/visual-cpp-build-tools/\n",
      "    ----------------------------------------\n",
      "ERROR: Command errored out with exit status 1: 'D:\\Anak\\Anak\\python.exe' -u -c 'import sys, setuptools, tokenize; sys.argv[0] = '\"'\"'C:\\\\Users\\\\User\\\\AppData\\\\Local\\\\Temp\\\\pip-install-84n2s621\\\\pycrypto_1cd49094bbb44c2082ac45a858b4ee0f\\\\setup.py'\"'\"'; __file__='\"'\"'C:\\\\Users\\\\User\\\\AppData\\\\Local\\\\Temp\\\\pip-install-84n2s621\\\\pycrypto_1cd49094bbb44c2082ac45a858b4ee0f\\\\setup.py'\"'\"';f=getattr(tokenize, '\"'\"'open'\"'\"', open)(__file__);code=f.read().replace('\"'\"'\\r\\n'\"'\"', '\"'\"'\\n'\"'\"');f.close();exec(compile(code, __file__, '\"'\"'exec'\"'\"'))' install --record 'C:\\Users\\User\\AppData\\Local\\Temp\\pip-record-80rcj5r0\\install-record.txt' --single-version-externally-managed --compile --install-headers 'D:\\Anak\\Anak\\Include\\PyCrypto' Check the logs for full command output.\n"
     ]
    }
   ],
   "source": [
    "!pip install PyCrypto"
   ]
  },
  {
   "cell_type": "markdown",
   "id": "2a29bc2e",
   "metadata": {
    "slideshow": {
     "slide_type": "subslide"
    }
   },
   "source": [
    "# Пакет cryptography"
   ]
  },
  {
   "cell_type": "markdown",
   "id": "d5c9cffb",
   "metadata": {
    "slideshow": {
     "slide_type": "-"
    }
   },
   "source": [
    "### Генерируем секретный ключ:"
   ]
  },
  {
   "cell_type": "code",
   "execution_count": 75,
   "id": "9289c56f",
   "metadata": {
    "slideshow": {
     "slide_type": "-"
    }
   },
   "outputs": [
    {
     "name": "stdout",
     "output_type": "stream",
     "text": [
      "1024\n",
      "1024\n"
     ]
    }
   ],
   "source": [
    "from cryptography.hazmat.primitives.asymmetric import rsa\n",
    "private_key = rsa.generate_private_key(public_exponent=65537,key_size=2048)\n",
    "\n",
    "private_numbers = private_key.private_numbers()\n",
    "print(len(bin(private_numbers.p))-2)\n",
    "print(len(bin(private_numbers.q))-2)"
   ]
  },
  {
   "cell_type": "markdown",
   "id": "4958bc95",
   "metadata": {
    "slideshow": {
     "slide_type": "-"
    }
   },
   "source": [
    "### Из секретного ключа находим открытый ключ"
   ]
  },
  {
   "cell_type": "code",
   "execution_count": 76,
   "id": "1c39f26d",
   "metadata": {
    "slideshow": {
     "slide_type": "-"
    }
   },
   "outputs": [
    {
     "data": {
      "text/plain": [
       "<RSAPublicNumbers(e=65537, n=25232120646971634508034092313729267028072612991468559556593258304187476296485134628142916815540582078362852170953496576821814567396990728187718734819800965963274538848583481013335997887827248655169709278776739537983186358622004354911618090348541884056361013809961259290778405260365518228659116279966853527711462477327955442100619209530789134114102380980261446791586930116049697214539470223677677653466176839581611003321528594890904471619292975399524406719201654273904281593286942981044363080216223814668726431830355963756857685879664548368112494130418209781151580201778811558759663731393525870667167341550467988882133)>"
      ]
     },
     "execution_count": 76,
     "metadata": {},
     "output_type": "execute_result"
    }
   ],
   "source": [
    "public_key = private_key.public_key()\n",
    "public_key.public_numbers()"
   ]
  },
  {
   "cell_type": "markdown",
   "id": "8848b328",
   "metadata": {
    "slideshow": {
     "slide_type": "subslide"
    }
   },
   "source": [
    "## Шифрование\n",
    "Шифруем сообщение, используя алгоритмы дополнения сообщения `padding.OAEP`. Более подробно об алгоритмах дополнения сообщения можно будет узнать на следующей лекции"
   ]
  },
  {
   "cell_type": "code",
   "execution_count": 77,
   "id": "aa35efe2",
   "metadata": {
    "slideshow": {
     "slide_type": "-"
    }
   },
   "outputs": [
    {
     "data": {
      "text/plain": [
       "'b5cd37f3bbd2bff5702a763c1427011e2c9d934b581ee7e3fee8e9e57fd76764142203d780bce5c0db685826b2876a363ff62483999744d48f31349adae03e39d631bf889ddc44695ed33c128d11d040c690b0e4bf4b795d529ac8ed7f759fa65f2aa10a293344eb4c763177488e2ddaf7c5fa1b865a3f72f6ac20d95bf8be2110a1afdddb2fc6c65c75281ee223e63b86482fdd8a529986391f9e5b2ece6e516d8aff69baade4ac794db9cc9571ed67ba4ee3145f01976061369bcdcc2f8b9f43ffb81d7f7268e8e53adefe322a3f3e86c9ae1d1266b62bb499e12ea2a3442037ec84b36e13cc62e106842f86e4bc5abb4c958ed4c8285db03cb38df4e64ef8'"
      ]
     },
     "execution_count": 77,
     "metadata": {},
     "output_type": "execute_result"
    }
   ],
   "source": [
    "from cryptography.hazmat.primitives.asymmetric import padding\n",
    "from cryptography.hazmat.primitives import hashes\n",
    "\n",
    "message = b\"Hello  KM!\"\n",
    "ciphertext = public_key.encrypt(\n",
    "    message,\n",
    "    padding.OAEP(\n",
    "        mgf=padding.MGF1(algorithm=hashes.SHA256()),\n",
    "        algorithm=hashes.SHA256(),\n",
    "        label=None\n",
    "    )\n",
    ")\n",
    "ciphertext.hex()"
   ]
  },
  {
   "cell_type": "markdown",
   "id": "19f0f141",
   "metadata": {
    "slideshow": {
     "slide_type": "subslide"
    }
   },
   "source": [
    "## Дешифрование"
   ]
  },
  {
   "cell_type": "code",
   "execution_count": 78,
   "id": "d99b44ee",
   "metadata": {
    "slideshow": {
     "slide_type": "-"
    }
   },
   "outputs": [
    {
     "name": "stdout",
     "output_type": "stream",
     "text": [
      "b'Hello  KM!'\n"
     ]
    },
    {
     "data": {
      "text/plain": [
       "True"
      ]
     },
     "execution_count": 78,
     "metadata": {},
     "output_type": "execute_result"
    }
   ],
   "source": [
    "plaintext = private_key.decrypt(\n",
    "    ciphertext,\n",
    "    padding.OAEP(\n",
    "        mgf=padding.MGF1(algorithm=hashes.SHA256()),\n",
    "        algorithm=hashes.SHA256(),\n",
    "        label=None\n",
    "    )\n",
    ")\n",
    "print(plaintext)\n",
    "plaintext == message"
   ]
  },
  {
   "cell_type": "markdown",
   "id": "aa3307d7",
   "metadata": {
    "slideshow": {
     "slide_type": "skip"
    }
   },
   "source": [
    "## <font color='red'>Задание 7.</font>\n",
    "Если модуль `n` имеет специальный вид, то криптосистему RSA можно взломать.\n",
    "По известному модулю `n`, открытой экспоненте `e` и шифротексту `ciphertext` найти открытый текст. Какой дефект числа `n` повлиял на успешность взлома?"
   ]
  },
  {
   "cell_type": "code",
   "execution_count": 74,
   "id": "d9ddf531",
   "metadata": {
    "slideshow": {
     "slide_type": "skip"
    }
   },
   "outputs": [],
   "source": [
    "e = 65537 \n",
    "n = 132935059133128588099304661920243934739765436275380706551932167743169033487495503272227432220579458014156688684426929893492508715387507321932857109769559317685058136392287296762655125670378191567317846796377276529558623179825406400952782093978732505373117024648318275223210130826397937612067898131709502900576386539177352833994857536083365047052365456565284977278734384796276824486670451880158184829081497950883\n",
    "ciphertext = 33402684541071019355683217046735370114635288822383014565136096069237202317507833906996968322171616228317453040371636219641462611973676323964271013324667958657860405122888987565765804160949370961090578985257116551787982001404003947199732093633057535739007675152772802674565570756158429484673327638366744917261367473853248255643173343336198861934268542799366124227922100857141014227177919922090578492025680513581"
   ]
  },
  {
   "cell_type": "code",
   "execution_count": null,
   "id": "6c97b02f",
   "metadata": {},
   "outputs": [],
   "source": []
  }
 ],
 "metadata": {
  "celltoolbar": "Необработанный формат ячейки",
  "kernelspec": {
   "display_name": "Python 3",
   "language": "python",
   "name": "python3"
  },
  "language_info": {
   "codemirror_mode": {
    "name": "ipython",
    "version": 3
   },
   "file_extension": ".py",
   "mimetype": "text/x-python",
   "name": "python",
   "nbconvert_exporter": "python",
   "pygments_lexer": "ipython3",
   "version": "3.8.8"
  }
 },
 "nbformat": 4,
 "nbformat_minor": 5
}
