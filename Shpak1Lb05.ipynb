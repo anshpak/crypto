{
 "cells": [
  {
   "cell_type": "markdown",
   "id": "8b7af2f4-8aea-485e-ae6d-424cf3d0e41d",
   "metadata": {},
   "source": [
    "# Лабораторная работа 5\n",
    "# Тема 5. Алгебраические уравнения в кольце вычетов"
   ]
  },
  {
   "cell_type": "markdown",
   "id": "383994a6-419d-49d6-89eb-35014a0d7ada",
   "metadata": {},
   "source": [
    "# Теоретические сведения и подсказки"
   ]
  },
  {
   "cell_type": "markdown",
   "id": "789b8d8f-65ee-4898-8c67-21954dcaaaea",
   "metadata": {
    "slideshow": {
     "slide_type": "subslide"
    },
    "tags": []
   },
   "source": [
    "## Идея $\\bf\\rho$-метода Полларда\n",
    "\n",
    "Пусть $\\;p\\;$ -- делитель числа $\\;n,\\;$   нам даны случайные $\\;l+1\\;$ число\n",
    "$$\n",
    "  x_0,x_1,\\dots,x_l\\in\\mathbb{Z}_n.\n",
    "$$\n",
    "\n",
    "С точки зрения парадокса дней рождения с большой вероятностью найдутся такие $\\;i,j,\\;$ $\\;0\\leq j<i\\leq l,\\;$ что\n",
    "$$\n",
    "  x_i\\equiv x_j  \\mod p.\n",
    "$$\n",
    "Тогда \n",
    "$$\n",
    "\\;d:=\\gcd(x_i-x_j,n)\\geq p,\\;\n",
    "$$\n",
    "если к тому же $\\;d<n,\\;$ то нам повезло и мы нашли делитель.\n"
   ]
  },
  {
   "cell_type": "markdown",
   "id": "1d161905-3b72-421d-a283-27335b1e796a",
   "metadata": {},
   "source": [
    "## Реализации $\\bf\\rho$-метода Полларда"
   ]
  },
  {
   "cell_type": "markdown",
   "id": "211b5d4b-b137-4855-94c3-71fb701d4999",
   "metadata": {},
   "source": [
    "### Реализация алгоритма Черепаха"
   ]
  },
  {
   "cell_type": "code",
   "execution_count": 3,
   "id": "767affc5-84d8-49e7-ac38-1e3ec7d3abeb",
   "metadata": {
    "slideshow": {
     "slide_type": "subslide"
    }
   },
   "outputs": [
    {
     "data": {
      "text/plain": [
       "11"
      ]
     },
     "execution_count": 3,
     "metadata": {},
     "output_type": "execute_result"
    }
   ],
   "source": [
    "from random import randrange\n",
    "from math import gcd\n",
    "def TortoiseRand(n):\n",
    "    i = 0\n",
    "    x = [randrange(n)]\n",
    "    while 1:\n",
    "        i += 1\n",
    "        x.append(randrange(n))\n",
    "        for j in range(i):\n",
    "            d = gcd(x[i]-x[j], n)\n",
    "            if 1 < d < n:\n",
    "                return d\n",
    "\n",
    "TortoiseRand(11*13)        "
   ]
  },
  {
   "cell_type": "markdown",
   "id": "af317b44-f8c0-4830-a6df-0c1dc40a774b",
   "metadata": {
    "slideshow": {
     "slide_type": "subslide"
    }
   },
   "source": [
    "### Алгоритм Черепаха с генерацией последовательности при помощи многочлена"
   ]
  },
  {
   "cell_type": "code",
   "execution_count": 4,
   "id": "fecd3f26-41b8-4f33-b835-3741fe7850b3",
   "metadata": {
    "slideshow": {
     "slide_type": "-"
    }
   },
   "outputs": [
    {
     "data": {
      "text/plain": [
       "13"
      ]
     },
     "execution_count": 4,
     "metadata": {},
     "output_type": "execute_result"
    }
   ],
   "source": [
    "def Tortoise_fSeq(n, a, x0):\n",
    "    f = lambda x: (x*x + a) % n\n",
    "    i = 0\n",
    "    x = [x0]\n",
    "    while 1:\n",
    "        i += 1\n",
    "        x.append(f(x[i-1]))\n",
    "        for j in range(i):\n",
    "            d = gcd(x[i]-x[j], n)\n",
    "            if 1 < d:\n",
    "                if d < n:\n",
    "                    return d\n",
    "                else:\n",
    "                    return 'Unsuccessful Sequence'\n",
    "Tortoise_fSeq(11*13, 1, 1)  "
   ]
  },
  {
   "cell_type": "markdown",
   "id": "fd714b95-83a8-45e3-a6da-b658499f6638",
   "metadata": {},
   "source": [
    "### Реализация алгоритма черепаха и заяц"
   ]
  },
  {
   "cell_type": "code",
   "execution_count": 5,
   "id": "d487f16c-ffb5-4eb9-9889-6ca36ebf7c65",
   "metadata": {
    "slideshow": {
     "slide_type": "subslide"
    }
   },
   "outputs": [
    {
     "name": "stdout",
     "output_type": "stream",
     "text": [
      "Unsuccessful Sequence\n",
      "13\n"
     ]
    }
   ],
   "source": [
    "def TortoiseHare(n, a, x0):\n",
    "    f = lambda x: (x*x + a) % n\n",
    "    Tortoise = x0\n",
    "    Hare = x0\n",
    "    while 1:\n",
    "        Tortoise = f(Tortoise)\n",
    "        Hare = f(f(Hare))\n",
    "        d = gcd(Hare - Tortoise, n)\n",
    "        if 1 < d:\n",
    "            if d < n:\n",
    "                return d\n",
    "            else:\n",
    "                return 'Unsuccessful Sequence'\n",
    "print(TortoiseHare(11*13, 1, 1))\n",
    "print(TortoiseHare(11*13, 2, 1))"
   ]
  },
  {
   "cell_type": "markdown",
   "id": "381596c1-84fc-42cc-9ea1-41c828bfe4f5",
   "metadata": {},
   "source": [
    "# Задачи"
   ]
  },
  {
   "cell_type": "markdown",
   "id": "bbad0d5a-1a0e-4012-bd59-1f2b7978f1f4",
   "metadata": {
    "slideshow": {
     "slide_type": "skip"
    }
   },
   "source": [
    "## <font color='red'>Задание 1.</font>\n",
    "Улучшить код функции `Trial`. Для этого можно, например, применить функции `isprime` или `primerange` из `sympy.ntheory`. Сравнить фактическую скорость вычислений полученной Вами функции со скоростью работы функции `Trial`."
   ]
  },
  {
   "cell_type": "markdown",
   "id": "a9967748-9692-4537-b886-8976b13fdf2e",
   "metadata": {},
   "source": [
    "### Код из лекции"
   ]
  },
  {
   "cell_type": "code",
   "execution_count": 6,
   "id": "99ccbb43-6f61-4b0a-a8bc-08ed57056703",
   "metadata": {
    "slideshow": {
     "slide_type": "-"
    }
   },
   "outputs": [
    {
     "data": {
      "text/plain": [
       "{3: 3, 23: 1}"
      ]
     },
     "execution_count": 6,
     "metadata": {},
     "output_type": "execute_result"
    }
   ],
   "source": [
    "def Trial(n):\n",
    "    factors = {}\n",
    "    d = 2\n",
    "    while d < n**(1/2):\n",
    "        if n%d == 0:\n",
    "            n = n//d\n",
    "            factors[d] = 1\n",
    "            while n%d == 0:\n",
    "                n = n//d\n",
    "                factors[d] += 1\n",
    "        d += 1\n",
    "    if n>1:\n",
    "        factors[n] = 1\n",
    "    return factors\n",
    "Trial(621)"
   ]
  },
  {
   "cell_type": "markdown",
   "id": "607c6ab8-d06c-4e05-ad1b-36b7f73a72d8",
   "metadata": {},
   "source": [
    "### Решение"
   ]
  },
  {
   "cell_type": "code",
   "execution_count": null,
   "id": "cf95989a-d2c9-45b2-861b-973a33cd1dca",
   "metadata": {},
   "outputs": [],
   "source": []
  },
  {
   "cell_type": "markdown",
   "id": "a4cbab25-c465-400c-a5aa-de8d65034623",
   "metadata": {
    "slideshow": {
     "slide_type": "skip"
    }
   },
   "source": [
    "## <font color='red'>Задание 2.</font>\n",
    "В алгоритме Черепаха и Заяц последовательность $\\;x_i\\;$ не хранится, из-за этого приходится вычислять позицию Черепахи при помощи функции $\\;f\\;.$ Реализовать алгоритм Черепаха и Заяц с хранением последовательности $\\;x_i.\\;$ Сравнить скорость полученной функции с функцией `TortoiseHare`. В какой из функций выполняется больше арифметических операций? "
   ]
  },
  {
   "cell_type": "markdown",
   "id": "4e79bfb6-1d92-4143-9170-8eb43b1ff602",
   "metadata": {},
   "source": [
    "### Решение"
   ]
  },
  {
   "cell_type": "code",
   "execution_count": 21,
   "id": "9bbd323a-c082-48f9-b7b4-70e659205c8a",
   "metadata": {
    "tags": []
   },
   "outputs": [
    {
     "name": "stdout",
     "output_type": "stream",
     "text": [
      "Unsuccessful Sequence\n",
      "13\n"
     ]
    }
   ],
   "source": [
    "def TortoiseHareWithSeqSaving(n, a, x0):\n",
    "    f = lambda x: (x*x + a) % n\n",
    "    Tortoise = x0\n",
    "    Hare = x0\n",
    "    x_odd = [x0]\n",
    "    x_even\n",
    "    k = 0\n",
    "    while 1:\n",
    "        if k % 2:\n",
    "            Tortoise = f(Tortoise)\n",
    "            x_odd.append(Tortoise)\n",
    "        else:\n",
    "            Tortoise = x_even[k]\n",
    "            k = k + 1\n",
    "        Hare = f(f(Hare))\n",
    "        x_even.append(Hare)\n",
    "        d = gcd(Hare - Tortoise, n)\n",
    "        if 1 < d:\n",
    "            if d < n:\n",
    "                return d\n",
    "            else:\n",
    "                return 'Unsuccessful Sequence'\n",
    "print(TortoiseHare(11*13, 1, 1))\n",
    "print(TortoiseHare(11*13, 2, 1))"
   ]
  },
  {
   "cell_type": "code",
   "execution_count": 24,
   "id": "0891211e-fb17-481c-9fb2-d696aa1e9ee0",
   "metadata": {
    "slideshow": {
     "slide_type": "-"
    }
   },
   "outputs": [
    {
     "name": "stdout",
     "output_type": "stream",
     "text": [
      "TortoiseHare: --- 0.05784487724304199 seconds ---\n",
      "TortoiseHareWithSeqSaving: --- 0.04188871383666992 seconds ---\n"
     ]
    }
   ],
   "source": [
    "import time\n",
    "from sympy import randprime\n",
    "b = 16\n",
    "\n",
    "start_time = time.time()\n",
    "for _ in range(100):\n",
    "    p1 = randprime(1<<b-1, 1<<b)\n",
    "    p2 = randprime(1<<b-1, 1<<b)\n",
    "    n = p1*p2\n",
    "    TortoiseHare(n, 1, 1)    \n",
    "print(\"TortoiseHare: --- %s seconds ---\" % (time.time() - start_time))\n",
    "\n",
    "start_time = time.time()\n",
    "for _ in range(100):\n",
    "    p1 = randprime(1<<b-1, 1<<b)\n",
    "    p2 = randprime(1<<b-1, 1<<b)\n",
    "    n = p1*p2\n",
    "    TortoiseAchilles(n, 1, 1)    \n",
    "print(\"TortoiseHareWithSeqSaving: --- %s seconds ---\" % (time.time() - start_time))"
   ]
  },
  {
   "cell_type": "markdown",
   "id": "a42e206a-be84-4402-a970-c61c9434ba08",
   "metadata": {
    "slideshow": {
     "slide_type": "skip"
    }
   },
   "source": [
    "## <font color='red'>Задание 3.</font>\n",
    "Реализовать алгоритм Черепаха и Ахиллес. Сравнить скорость полученной функции с функцией `TortoiseHare`. В какой из функций выполняется больше арифметических операций? "
   ]
  },
  {
   "cell_type": "markdown",
   "id": "b0f3bea4-b942-49c6-bb74-f2157c33d268",
   "metadata": {
    "slideshow": {
     "slide_type": "subslide"
    }
   },
   "source": [
    "### Алгоритм Черепаха и Ахиллес\n",
    "Input:  $\\;n\\in\\mathbb{N}$ -- составное число.  \n",
    "  $\\qquad a,x_1\\in\\mathbb{Z}_n\\;$ задают последовательность: $\\;x_i=f(x_{i-1}),\\;$\n",
    "$\\;f(x):=x^2+a\\mod n.$   \n",
    "Output: $\\;d\\;$ - нетривиальный делитель числа $\\;n.$\n",
    "\n",
    " \n",
    "1$.$ Задаем начальные позиции Черепахи и Ахиллеса  \n",
    "     $\\qquad Tortoise:=x_1,\\qquad Achilles:=x_1, \\qquad k=0.$\n",
    "  \n",
    "2$.$ Для $\\;i=1,2,3,\\dots,2^{k}\\;$ выполняем шаги 2.1-2.4:\n",
    "    \n",
    "    \n",
    "$\\qquad$ 2.1.  Передвигаем Черепаху  $\\;Tortoise:=f(Tortoise).$\n",
    "\n",
    "$\\qquad$ 2.2.   Вычисляем  $\\;d:=\\gcd(Tortoise-Achilles,n).$\n",
    "    \n",
    "$\\qquad$ 2.3.  Если $\\;1<d<n,\\;$ то выдаем результат $\\;d,\\;$ конец алгоритма.\n",
    "\n",
    "$\\qquad$ 2.4. Если $\\;d=n,\\;$  то нет решения,  конец алгоритма.\n",
    "    \n",
    "\n",
    "3$.$  Передвигаем Ахиллеса с $\\;x_{2^{k}}\\;$ на элемент $\\;x_{2^{k+1}}\\;$\n",
    "    $$\n",
    "      Achilles:=Tortoise,\\qquad k:=k+1,\n",
    "    $$\n",
    "$\\;\\;$ переходим на шаг $2.$      \n",
    "\n"
   ]
  },
  {
   "cell_type": "markdown",
   "id": "af5c2477-7f0e-44ee-b43c-735bf82f8a28",
   "metadata": {},
   "source": [
    "### Решение"
   ]
  },
  {
   "cell_type": "code",
   "execution_count": 7,
   "id": "f3e7ecef-4166-4ef8-bfb4-360cdcc9710e",
   "metadata": {
    "slideshow": {
     "slide_type": "subslide"
    }
   },
   "outputs": [
    {
     "name": "stdout",
     "output_type": "stream",
     "text": [
      "11\n",
      "13\n"
     ]
    }
   ],
   "source": [
    "def TortoiseAchilles(n, a, x0):\n",
    "    f = lambda x: (x*x + a) % n\n",
    "    Tortoise = x0\n",
    "    Achilles = x0\n",
    "    k = 0\n",
    "    while 1:\n",
    "        for i in range(2 ** k):\n",
    "            Tortoise = f(Tortoise)\n",
    "            d = gcd(Tortoise - Achilles, n)\n",
    "            if 1 < d:\n",
    "                if d < n:\n",
    "                    return d\n",
    "                elif d == n:\n",
    "                    return 'No solution'\n",
    "        Achilles = Tortoise\n",
    "        k = k + 1\n",
    "        \n",
    "print(TortoiseAchilles(11*13, 1, 1))\n",
    "print(TortoiseAchilles(11*13, 2, 1))"
   ]
  },
  {
   "cell_type": "markdown",
   "id": "33cda3dc-2b9b-4c46-b08f-07a6af3d4bdd",
   "metadata": {},
   "source": [
    "### Сравнение"
   ]
  },
  {
   "cell_type": "code",
   "execution_count": 12,
   "id": "35143094-3fe0-47e2-a412-32eeaafffd7e",
   "metadata": {
    "slideshow": {
     "slide_type": "-"
    }
   },
   "outputs": [
    {
     "name": "stdout",
     "output_type": "stream",
     "text": [
      "TortoiseHare: --- 0.04388833045959473 seconds ---\n",
      "TortoiseAchilles: --- 0.036900997161865234 seconds ---\n"
     ]
    }
   ],
   "source": [
    "import time\n",
    "from sympy import randprime\n",
    "b = 16\n",
    "\n",
    "start_time = time.time()\n",
    "for _ in range(100):\n",
    "    p1 = randprime(1<<b-1, 1<<b)\n",
    "    p2 = randprime(1<<b-1, 1<<b)\n",
    "    n = p1*p2\n",
    "    TortoiseHare(n, 1, 1)    \n",
    "print(\"TortoiseHare: --- %s seconds ---\" % (time.time() - start_time))\n",
    "\n",
    "start_time = time.time()\n",
    "for _ in range(100):\n",
    "    p1 = randprime(1<<b-1, 1<<b)\n",
    "    p2 = randprime(1<<b-1, 1<<b)\n",
    "    n = p1*p2\n",
    "    TortoiseAchilles(n, 1, 1)    \n",
    "print(\"TortoiseAchilles: --- %s seconds ---\" % (time.time() - start_time))"
   ]
  },
  {
   "cell_type": "markdown",
   "id": "9ce0e51f-0d0d-4d64-a006-ade88c4fb806",
   "metadata": {
    "slideshow": {
     "slide_type": "skip"
    }
   },
   "source": [
    "## <font color='red'>Задание 4.</font>\n",
    "Пусть \n",
    "$$\n",
    "  f(x)=x^2+1,\\qquad x_0=1.\n",
    "$$\n",
    "Для чисел $\\;n_1\\;$  и  $\\;n_2\\;$  выяснить, существуют ли такие $\\;i\\;$ и $\\;j,\\;$ что  \n",
    "$$\n",
    "1<gcd(x_i-x_j,n)<n.\n",
    "$$"
   ]
  },
  {
   "cell_type": "code",
   "execution_count": 14,
   "id": "719e730c-ce1f-4bec-b016-e0ee004f8b3a",
   "metadata": {
    "slideshow": {
     "slide_type": "skip"
    }
   },
   "outputs": [
    {
     "name": "stdout",
     "output_type": "stream",
     "text": [
      "Unsuccessful Sequence\n",
      "Unsuccessful Sequence\n"
     ]
    }
   ],
   "source": [
    "n1 = 41053\n",
    "print(TortoiseHare(n1, 1, 1))\n",
    "n2 = 52357\n",
    "print(TortoiseHare(n2, 1, 1))"
   ]
  },
  {
   "cell_type": "markdown",
   "id": "f62b72ce-630d-4550-8a78-a5d9890523af",
   "metadata": {},
   "source": [
    "### Решение"
   ]
  },
  {
   "cell_type": "code",
   "execution_count": 15,
   "id": "842bd84f-1813-4716-8f32-964f1f8013e8",
   "metadata": {},
   "outputs": [
    {
     "data": {
      "text/plain": [
       "'No solution'"
      ]
     },
     "execution_count": 15,
     "metadata": {},
     "output_type": "execute_result"
    }
   ],
   "source": [
    "TortoiseAchilles(n1, 1, 1)"
   ]
  },
  {
   "cell_type": "code",
   "execution_count": 16,
   "id": "24b0db21-ea7b-4660-b1db-cfbe16193855",
   "metadata": {},
   "outputs": [
    {
     "data": {
      "text/plain": [
       "'No solution'"
      ]
     },
     "execution_count": 16,
     "metadata": {},
     "output_type": "execute_result"
    }
   ],
   "source": [
    "TortoiseAchilles(n2, 1, 1)"
   ]
  },
  {
   "cell_type": "markdown",
   "id": "fa7a390f-eac9-497f-bfb7-581a93712a9b",
   "metadata": {
    "slideshow": {
     "slide_type": "skip"
    }
   },
   "source": [
    "## <font color='red'>Задание 5.</font>\n",
    "Изучить функцию `pollard_rho(n, s=2, a=1, retries=5, seed=1234, max_steps=None, F=None)` из модуля `sympy.ntheory.residue_ntheory`. Что означают переменные `s, a, retries, seed, max_steps, F`? Какой из изученных выше алгоритмов использует функция `pollard_rho`?"
   ]
  },
  {
   "cell_type": "markdown",
   "id": "8d4b33e3-073e-4772-9a22-7b621efe661e",
   "metadata": {},
   "source": [
    "### Теория"
   ]
  },
  {
   "cell_type": "markdown",
   "id": "f6379d2e-de1d-4d59-9394-5bbd097f5e0f",
   "metadata": {
    "slideshow": {
     "slide_type": "skip"
    },
    "tags": []
   },
   "source": [
    "Функция `pollard_rho(n, s=2, a=1, retries=5, seed=1234, max_steps=None, F=None)` из модуля `sympy.ntheory.residue_ntheory` имеет следующий вид"
   ]
  },
  {
   "cell_type": "code",
   "execution_count": 16,
   "id": "fa12fbdb-351b-4aaf-8c06-d628994ce1cf",
   "metadata": {
    "slideshow": {
     "slide_type": "skip"
    }
   },
   "outputs": [
    {
     "data": {
      "text/plain": [
       "11"
      ]
     },
     "execution_count": 16,
     "metadata": {},
     "output_type": "execute_result"
    }
   ],
   "source": [
    "import random\n",
    "from sympy.core.numbers import igcd\n",
    "\n",
    "def pollard_rho(n, s=2, a=1, retries=5, seed=1234, max_steps=None, F=None):\n",
    "    r\"\"\"\n",
    "    Use Pollard's rho method to try to extract a nontrivial factor\n",
    "    of ``n``. The returned factor may be a composite number. If no\n",
    "    factor is found, ``None`` is returned.\n",
    "\n",
    "    The algorithm generates pseudo-random values of x with a generator\n",
    "    function, replacing x with F(x). If F is not supplied then the\n",
    "    function x**2 + ``a`` is used. The first value supplied to F(x) is ``s``.\n",
    "    Upon failure (if ``retries`` is > 0) a new ``a`` and ``s`` will be\n",
    "    supplied; the ``a`` will be ignored if F was supplied.\n",
    "\n",
    "    The sequence of numbers generated by such functions generally have a\n",
    "    a lead-up to some number and then loop around back to that number and\n",
    "    begin to repeat the sequence, e.g. 1, 2, 3, 4, 5, 3, 4, 5 -- this leader\n",
    "    and loop look a bit like the Greek letter rho, and thus the name, 'rho'.\n",
    "\n",
    "    For a given function, very different leader-loop values can be obtained\n",
    "    so it is a good idea to allow for retries:\n",
    "\n",
    "    >>> from sympy.ntheory.generate import cycle_length\n",
    "    >>> n = 16843009\n",
    "    >>> F = lambda x:(2048*pow(x, 2, n) + 32767) % n\n",
    "    >>> for s in range(5):\n",
    "    ...     print('loop length = %4i; leader length = %3i' % next(cycle_length(F, s)))\n",
    "    ...\n",
    "    loop length = 2489; leader length =  42\n",
    "    loop length =   78; leader length = 120\n",
    "    loop length = 1482; leader length =  99\n",
    "    loop length = 1482; leader length = 285\n",
    "    loop length = 1482; leader length = 100\n",
    "\n",
    "    Here is an explicit example where there is a two element leadup to\n",
    "    a sequence of 3 numbers (11, 14, 4) that then repeat:\n",
    "\n",
    "    >>> x=2\n",
    "    >>> for i in range(9):\n",
    "    ...     x=(x**2+12)%17\n",
    "    ...     print(x)\n",
    "    ...\n",
    "    16\n",
    "    13\n",
    "    11\n",
    "    14\n",
    "    4\n",
    "    11\n",
    "    14\n",
    "    4\n",
    "    11\n",
    "    >>> next(cycle_length(lambda x: (x**2+12)%17, 2))\n",
    "    (3, 2)\n",
    "    >>> list(cycle_length(lambda x: (x**2+12)%17, 2, values=True))\n",
    "    [16, 13, 11, 14, 4]\n",
    "\n",
    "    Instead of checking the differences of all generated values for a gcd\n",
    "    with n, only the kth and 2*kth numbers are checked, e.g. 1st and 2nd,\n",
    "    2nd and 4th, 3rd and 6th until it has been detected that the loop has been\n",
    "    traversed. Loops may be many thousands of steps long before rho finds a\n",
    "    factor or reports failure. If ``max_steps`` is specified, the iteration\n",
    "    is cancelled with a failure after the specified number of steps.\n",
    "\n",
    "    Examples\n",
    "    ========\n",
    "\n",
    "    >>> from sympy import pollard_rho\n",
    "    >>> n=16843009\n",
    "    >>> F=lambda x:(2048*pow(x,2,n) + 32767) % n\n",
    "    >>> pollard_rho(n, F=F)\n",
    "    257\n",
    "\n",
    "    Use the default setting with a bad value of ``a`` and no retries:\n",
    "\n",
    "    >>> pollard_rho(n, a=n-2, retries=0)\n",
    "\n",
    "    If retries is > 0 then perhaps the problem will correct itself when\n",
    "    new values are generated for a:\n",
    "\n",
    "    >>> pollard_rho(n, a=n-2, retries=1)\n",
    "    257\n",
    "\n",
    "    References\n",
    "    ==========\n",
    "\n",
    "    .. [1] Richard Crandall & Carl Pomerance (2005), \"Prime Numbers:\n",
    "           A Computational Perspective\", Springer, 2nd edition, 229-231\n",
    "\n",
    "    \"\"\"\n",
    "    n = int(n)\n",
    "    if n < 5:\n",
    "        raise ValueError('pollard_rho should receive n > 4')\n",
    "    prng = random.Random(seed + retries)\n",
    "    V = s\n",
    "    for i in range(retries + 1):\n",
    "        U = V\n",
    "        if not F:\n",
    "            F = lambda x: (pow(x, 2, n) + a) % n\n",
    "        j = 0\n",
    "        while 1:\n",
    "            if max_steps and (j > max_steps):\n",
    "                break\n",
    "            j += 1\n",
    "            U = F(U)\n",
    "            V = F(F(V))  # V is 2x further along than U\n",
    "            g = igcd(U - V, n)\n",
    "            if g == 1:\n",
    "                continue\n",
    "            if g == n:\n",
    "                break\n",
    "            return int(g)\n",
    "        V = prng.randint(0, n - 1)\n",
    "        a = prng.randint(1, n - 3)  # for x**2 + a, a%n should not be 0 or -2\n",
    "        F = None\n",
    "    return None\n",
    "\n",
    " \n",
    "pollard_rho(121)"
   ]
  },
  {
   "cell_type": "markdown",
   "id": "5b19fff3-630c-40e8-94be-59ecbdb736b3",
   "metadata": {},
   "source": [
    "### Ответы"
   ]
  },
  {
   "cell_type": "markdown",
   "id": "2c10b5da-dae4-49c1-8e0e-82a5697ec2aa",
   "metadata": {},
   "source": []
  },
  {
   "cell_type": "markdown",
   "id": "a48bb09f-f219-4678-824f-6ce5508d93f9",
   "metadata": {
    "slideshow": {
     "slide_type": "skip"
    }
   },
   "source": [
    "## <font color='red'>Задание 6.</font>\n",
    "Реализовать $(p-1)$-алгоритм Полларда. При помощи $\\;\\rho$-метода Полларда и $(p-1)$-алгоритма Полларда разложить числа `n1` и `n2` на множители. Сравнить фактическое время работы функций. От каких свойств числа $\\;n\\;$ зависит скорость разложения числа $\\;n\\;$ на множители при помощи $\\;\\rho$-метода Полларда? При помощи $(p-1)$-алгоритма Полларда?"
   ]
  },
  {
   "cell_type": "code",
   "execution_count": 75,
   "id": "4cfeb36d-8d1f-4448-a38e-00b1ccaa6123",
   "metadata": {
    "slideshow": {
     "slide_type": "skip"
    }
   },
   "outputs": [],
   "source": [
    "n1 = 179440801267606692257\n",
    "n2 = 4389145587418435224785452661044623743"
   ]
  },
  {
   "cell_type": "markdown",
   "id": "c412e464-ff9f-4b29-a4c1-785e960d9a60",
   "metadata": {},
   "source": [
    "### Теория"
   ]
  },
  {
   "cell_type": "markdown",
   "id": "198df6dd-22ae-4fb2-827d-ca135b0c496c",
   "metadata": {
    "slideshow": {
     "slide_type": "subslide"
    }
   },
   "source": [
    "## $\\bf(p-1)$-алгоритм Полларда\n",
    "Input: $\\;n\\;$  - составное число;   $\\;M,K\\in\\mathbb{N}.$  \n",
    "   \n",
    "Output: $\\;p\\;$ - нетривиальный делитель числа $\\;n.$\n",
    "   \n",
    "1$.$ Находим все простые делители, меньшие $\\;K,\\;$  \n",
    "   $\n",
    "   \\qquad\\qquad  B:=\\{2,3,5,7,\\dots,p_i,\\dots,p_m\\}.\n",
    "   $\n",
    "   \n",
    "2$.$ Выбираем $a:=2.$\n",
    "   \n",
    "3$.$ Для $\\;i=1,2,\\dots,m\\;$ выполняем шаги 3.1, 3.2:  \n",
    "$\\qquad$ 3.1. Вычисляем $\\;\\beta_i:=\\left[\\log_{p_i}M\\right].$  \n",
    "$\\qquad$ 3.2. Вычисляем $\\;a:=a^{p_i^{\\beta_i}}\\mod n.$\n",
    "   \n",
    "4$.$ Находим $\\;d:=\\gcd(a-1,n).\\;$\n",
    "   \n",
    "5$.$ Если $\\;d=1,\\;$ то выдаем результат \"делитель не найден, возьмите $\\;M,K\\;$ большими\".\n",
    "\n",
    "6$.$ Если $\\;1<d<n,\\;$ то выдаем результат $\\;d.\\;$\n",
    "   \n",
    "7$.$ Если $\\;d=n,\\;$ то выдаем результат \"делитель не найден, возьмите $\\;M,K\\;$ меньшими\"."
   ]
  },
  {
   "cell_type": "markdown",
   "id": "f1b887b0-ae4b-4816-863e-8d450ef1505a",
   "metadata": {
    "slideshow": {
     "slide_type": "skip"
    }
   },
   "source": [
    "Функция `pollard_pm1` из модуля `sympy.ntheory` имеет следующий вид"
   ]
  },
  {
   "cell_type": "code",
   "execution_count": null,
   "id": "c44196e4-9b16-41b0-8349-846e5e0d51de",
   "metadata": {
    "slideshow": {
     "slide_type": "skip"
    }
   },
   "outputs": [
    {
     "data": {
      "text/plain": [
       "11"
      ]
     },
     "execution_count": 19,
     "metadata": {},
     "output_type": "execute_result"
    }
   ],
   "source": [
    "import random\n",
    "from sympy.core.numbers import igcd\n",
    "from sympy.ntheory.generate import sieve, primerange\n",
    "import math\n",
    "def pollard_pm1(n, B=10, a=2, retries=0, seed=1234):\n",
    "    \"\"\"\n",
    "    Use Pollard's p-1 method to try to extract a nontrivial factor\n",
    "    of ``n``. Either a divisor (perhaps composite) or ``None`` is returned.\n",
    "\n",
    "    The value of ``a`` is the base that is used in the test gcd(a**M - 1, n).\n",
    "    The default is 2.  If ``retries`` > 0 then if no factor is found after the\n",
    "    first attempt, a new ``a`` will be generated randomly (using the ``seed``)\n",
    "    and the process repeated.\n",
    "\n",
    "    Note: the value of M is lcm(1..B) = reduce(ilcm, range(2, B + 1)).\n",
    "\n",
    "    A search is made for factors next to even numbers having a power smoothness\n",
    "    less than ``B``. Choosing a larger B increases the likelihood of finding a\n",
    "    larger factor but takes longer. Whether a factor of n is found or not\n",
    "    depends on ``a`` and the power smoothness of the even number just less than\n",
    "    the factor p (hence the name p - 1).\n",
    "\n",
    "    Although some discussion of what constitutes a good ``a`` some\n",
    "    descriptions are hard to interpret. At the modular.math site referenced\n",
    "    below it is stated that if gcd(a**M - 1, n) = N then a**M % q**r is 1\n",
    "    for every prime power divisor of N. But consider the following:\n",
    "\n",
    "        >>> from sympy.ntheory.factor_ import smoothness_p, pollard_pm1\n",
    "        >>> n=257*1009\n",
    "        >>> smoothness_p(n)\n",
    "        (-1, [(257, (1, 2, 256)), (1009, (1, 7, 16))])\n",
    "\n",
    "    So we should (and can) find a root with B=16:\n",
    "\n",
    "        >>> pollard_pm1(n, B=16, a=3)\n",
    "        1009\n",
    "\n",
    "    If we attempt to increase B to 256 we find that it doesn't work:\n",
    "\n",
    "        >>> pollard_pm1(n, B=256)\n",
    "        >>>\n",
    "\n",
    "    But if the value of ``a`` is changed we find that only multiples of\n",
    "    257 work, e.g.:\n",
    "\n",
    "        >>> pollard_pm1(n, B=256, a=257)\n",
    "        1009\n",
    "\n",
    "    Checking different ``a`` values shows that all the ones that didn't\n",
    "    work had a gcd value not equal to ``n`` but equal to one of the\n",
    "    factors:\n",
    "\n",
    "        >>> from sympy.core.numbers import ilcm, igcd\n",
    "        >>> from sympy import factorint, Pow\n",
    "        >>> M = 1\n",
    "        >>> for i in range(2, 256):\n",
    "        ...     M = ilcm(M, i)\n",
    "        ...\n",
    "        >>> set([igcd(pow(a, M, n) - 1, n) for a in range(2, 256) if\n",
    "        ...      igcd(pow(a, M, n) - 1, n) != n])\n",
    "        {1009}\n",
    "\n",
    "    But does aM % d for every divisor of n give 1?\n",
    "\n",
    "        >>> aM = pow(255, M, n)\n",
    "        >>> [(d, aM%Pow(*d.args)) for d in factorint(n, visual=True).args]\n",
    "        [(257**1, 1), (1009**1, 1)]\n",
    "\n",
    "    No, only one of them. So perhaps the principle is that a root will\n",
    "    be found for a given value of B provided that:\n",
    "\n",
    "    1) the power smoothness of the p - 1 value next to the root\n",
    "       does not exceed B\n",
    "    2) a**M % p != 1 for any of the divisors of n.\n",
    "\n",
    "    By trying more than one ``a`` it is possible that one of them\n",
    "    will yield a factor.\n",
    "\n",
    "    Examples\n",
    "    ========\n",
    "\n",
    "    With the default smoothness bound, this number can't be cracked:\n",
    "\n",
    "        >>> from sympy.ntheory import pollard_pm1\n",
    "        >>> pollard_pm1(21477639576571)\n",
    "\n",
    "    Increasing the smoothness bound helps:\n",
    "\n",
    "        >>> pollard_pm1(21477639576571, B=2000)\n",
    "        4410317\n",
    "\n",
    "    Looking at the smoothness of the factors of this number we find:\n",
    "\n",
    "        >>> from sympy.ntheory.factor_ import smoothness_p, factorint\n",
    "        >>> print(smoothness_p(21477639576571, visual=1))\n",
    "        p**i=4410317**1 has p-1 B=1787, B-pow=1787\n",
    "        p**i=4869863**1 has p-1 B=2434931, B-pow=2434931\n",
    "\n",
    "    The B and B-pow are the same for the p - 1 factorizations of the divisors\n",
    "    because those factorizations had a very large prime factor:\n",
    "\n",
    "        >>> factorint(4410317 - 1)\n",
    "        {2: 2, 617: 1, 1787: 1}\n",
    "        >>> factorint(4869863-1)\n",
    "        {2: 1, 2434931: 1}\n",
    "\n",
    "    Note that until B reaches the B-pow value of 1787, the number is not cracked;\n",
    "\n",
    "        >>> pollard_pm1(21477639576571, B=1786)\n",
    "        >>> pollard_pm1(21477639576571, B=1787)\n",
    "        4410317\n",
    "\n",
    "    The B value has to do with the factors of the number next to the divisor,\n",
    "    not the divisors themselves. A worst case scenario is that the number next\n",
    "    to the factor p has a large prime divisisor or is a perfect power. If these\n",
    "    conditions apply then the power-smoothness will be about p/2 or p. The more\n",
    "    realistic is that there will be a large prime factor next to p requiring\n",
    "    a B value on the order of p/2. Although primes may have been searched for\n",
    "    up to this level, the p/2 is a factor of p - 1, something that we don't\n",
    "    know. The modular.math reference below states that 15% of numbers in the\n",
    "    range of 10**15 to 15**15 + 10**4 are 10**6 power smooth so a B of 10**6\n",
    "    will fail 85% of the time in that range. From 10**8 to 10**8 + 10**3 the\n",
    "    percentages are nearly reversed...but in that range the simple trial\n",
    "    division is quite fast.\n",
    "\n",
    "    References\n",
    "    ==========\n",
    "\n",
    "    .. [1] Richard Crandall & Carl Pomerance (2005), \"Prime Numbers:\n",
    "           A Computational Perspective\", Springer, 2nd edition, 236-238\n",
    "    .. [2] http://modular.math.washington.edu/edu/2007/spring/ent/ent-html/node81.html\n",
    "    .. [3] https://www.cs.toronto.edu/~yuvalf/Factorization.pdf\n",
    "    \"\"\"\n",
    "\n",
    "    n = int(n)\n",
    "    if n < 4 or B < 3:\n",
    "        raise ValueError('pollard_pm1 should receive n > 3 and B > 2')\n",
    "    prng = random.Random(seed + B)\n",
    "\n",
    "    # computing a**lcm(1,2,3,..B) % n for B > 2\n",
    "    # it looks weird, but it's right: primes run [2, B]\n",
    "    # and the answer's not right until the loop is done.\n",
    "    for i in range(retries + 1):\n",
    "        aM = a\n",
    "        for p in sieve.primerange(2, B + 1):\n",
    "            e = int(math.log(B, p))\n",
    "            aM = pow(aM, pow(p, e), n)\n",
    "        g = igcd(aM - 1, n)\n",
    "        if 1 < g < n:\n",
    "            return int(g)\n",
    "\n",
    "        # get a new a:\n",
    "        # since the exponent, lcm(1..B), is even, if we allow 'a' to be 'n-1'\n",
    "        # then (n - 1)**even % n will be 1 which will give a g of 0 and 1 will\n",
    "        # give a zero, too, so we set the range as [2, n-2]. Some references\n",
    "        # say 'a' should be coprime to n, but either will detect factors.\n",
    "        a = prng.randint(2, n - 2)\n",
    "\n",
    "pollard_pm1(121)"
   ]
  },
  {
   "cell_type": "markdown",
   "id": "0e9f5d0d-f5d1-40e2-9510-d331a8cba990",
   "metadata": {},
   "source": [
    "### Решение"
   ]
  },
  {
   "cell_type": "code",
   "execution_count": null,
   "id": "d7147a8b-daa9-411e-bc1c-3a7dc2c6209e",
   "metadata": {},
   "outputs": [],
   "source": []
  },
  {
   "cell_type": "markdown",
   "id": "271453f2-0e9b-4be2-a97f-34f0d107d8e1",
   "metadata": {
    "slideshow": {
     "slide_type": "skip"
    }
   },
   "source": [
    "## <font color='red'>Задание 8.</font>\n",
    "Что означают переменные функции `factorint(n, limit=None, use_trial=True, use_rho=True, use_pm1=True, use_ecm=True, verbose=False, visual=None, multiple=False)`?"
   ]
  },
  {
   "cell_type": "markdown",
   "id": "d623bb26-14db-4e0d-bf66-ef09fcec42ba",
   "metadata": {},
   "source": [
    "### Теория"
   ]
  },
  {
   "cell_type": "markdown",
   "id": "9162fae8-11b4-446d-bbbf-f4c48869ed12",
   "metadata": {
    "slideshow": {
     "slide_type": "slide"
    }
   },
   "source": [
    "#### Функция `factorint`\n",
    "Функция `factorint` из модуля `sympy.ntheory`  использует следующие алгоритмы:  \n",
    "- Метод пробных делений (`_trial`);\n",
    "- Метод факторизации Ферма;\n",
    "- $\\rho$-метод Полларда (`pollard_rho`);\n",
    "- $(p-1)$-метод Полларда (`pollard_pm1`);\n",
    "- Функцию проверки на простоту (`isprime`);\n",
    "- Функцию проверки на полную степень: $n = p^\\alpha$ (`perfect_power`);\n",
    "- Метод Ленстры факторизации с помощью эллиптических кривых (`_ecm_one_factor`).\n",
    "\n",
    "Не менее интересными являются и правила поочередного использования данных функций в функции `factorint`."
   ]
  },
  {
   "cell_type": "code",
   "execution_count": 16,
   "id": "3a0a9691-da36-4d2b-b4df-db43bb8f4f04",
   "metadata": {
    "slideshow": {
     "slide_type": "subslide"
    }
   },
   "outputs": [
    {
     "name": "stdout",
     "output_type": "stream",
     "text": [
      "Factoring 596599408869553\n",
      "Trial division with ints [2 ... 32768] and fail_max=600\n",
      "Check for termination\n",
      "Trial division with primes [1805 ... 3610]\n",
      "Pollard's p-1 with smoothness bound 1805 and seed 3610\n",
      "Pollard's rho with retries 1, max_steps 1805 and seed 3610\n",
      "Trial division with primes [3610 ... 7220]\n",
      "Pollard's p-1 with smoothness bound 3610 and seed 7220\n",
      "Pollard's rho with retries 1, max_steps 3610 and seed 7220\n",
      "Factoring 21826867\n",
      "Trial division with ints [2 ... 32768] and fail_max=600\n",
      "Check for termination\n",
      "Factorization is complete.\n",
      "Check for termination\n",
      "Factorization is complete.\n"
     ]
    },
    {
     "data": {
      "text/plain": [
       "{21826867: 1, 27333259: 1}"
      ]
     },
     "execution_count": 16,
     "metadata": {},
     "output_type": "execute_result"
    }
   ],
   "source": [
    "from sympy.ntheory import randprime, factorint \n",
    "b = 25\n",
    "p1 = randprime(1<<b-1, 1<<b)\n",
    "p2 = randprime(1<<b-1, 1<<b)\n",
    "factorint(p1*p2,verbose=True)"
   ]
  },
  {
   "cell_type": "markdown",
   "id": "9378af32-c427-40d9-a81d-e3788ea5e726",
   "metadata": {
    "tags": []
   },
   "source": [
    "### Ответы"
   ]
  },
  {
   "cell_type": "markdown",
   "id": "d143998b-bff8-4b6b-9e39-4e621ac4b629",
   "metadata": {},
   "source": []
  }
 ],
 "metadata": {
  "kernelspec": {
   "display_name": "Python 3 (ipykernel)",
   "language": "python",
   "name": "python3"
  },
  "language_info": {
   "codemirror_mode": {
    "name": "ipython",
    "version": 3
   },
   "file_extension": ".py",
   "mimetype": "text/x-python",
   "name": "python",
   "nbconvert_exporter": "python",
   "pygments_lexer": "ipython3",
   "version": "3.10.5"
  }
 },
 "nbformat": 4,
 "nbformat_minor": 5
}
