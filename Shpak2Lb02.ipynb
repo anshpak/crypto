{
 "cells": [
  {
   "cell_type": "markdown",
   "id": "db45526b-5981-41dc-ae0b-1fd50b24c1b0",
   "metadata": {
    "slideshow": {
     "slide_type": "skip"
    }
   },
   "source": [
    "## <font color='red'>Задание 1.</font>\n",
    "\n",
    "Реализовать функции генерации ключей, формирования и проверки подписи ЭЦП Эль-Гамаля.\n",
    "Являются ли данные алгоритмы полиномиальными?"
   ]
  },
  {
   "cell_type": "markdown",
   "id": "945eecb2-d000-46fc-b436-6353664e2be1",
   "metadata": {},
   "source": [
    "### Дополнительные функции"
   ]
  },
  {
   "cell_type": "code",
   "execution_count": 59,
   "id": "d98f8a31-80d2-43c8-b00a-0d90444c841b",
   "metadata": {},
   "outputs": [],
   "source": [
    "import random\n",
    "import sympy as smp"
   ]
  },
  {
   "cell_type": "code",
   "execution_count": 60,
   "id": "5a5063d6-9d27-4ded-bcc6-7dfd700f4741",
   "metadata": {},
   "outputs": [],
   "source": [
    "def generate_binary_string(N):\n",
    "    S = \"1\"\n",
    "    for i in range(1, N):\n",
    "        x = random.randint(0, 1)\n",
    "        S += str(x)\n",
    "    return S"
   ]
  },
  {
   "cell_type": "markdown",
   "id": "08b17f2d-e83f-41b7-8ab1-5316d505ae64",
   "metadata": {},
   "source": [
    "### Дополнительные функции из лекции"
   ]
  },
  {
   "cell_type": "code",
   "execution_count": 61,
   "id": "6f268e01-6a25-4c8f-b637-330f5055113b",
   "metadata": {
    "slideshow": {
     "slide_type": "skip"
    },
    "tags": []
   },
   "outputs": [],
   "source": [
    "def OS2IP(X: bytes) -> int:\n",
    "    x = 0\n",
    "    for i in range(len(X)):\n",
    "        x += X[i] * 256**(len(X)-1-i)\n",
    "    return x  "
   ]
  },
  {
   "cell_type": "code",
   "execution_count": 62,
   "id": "0067f17f-e04d-459b-9ecd-7dc33f3eeab2",
   "metadata": {
    "slideshow": {
     "slide_type": "skip"
    }
   },
   "outputs": [],
   "source": [
    "def I2OSP(x: int, XLen: int) -> bytes:\n",
    "    if x >= 256**XLen:\n",
    "        raise ValueError(\"Number %d must be less than %d\" % (x,256**XLen))\n",
    "    b = []\n",
    "    for _ in range(XLen):\n",
    "        b.append(x % 256)\n",
    "        x >>= 8\n",
    "    b.reverse()\n",
    "    return bytes(b)"
   ]
  },
  {
   "cell_type": "code",
   "execution_count": 63,
   "id": "b2069678-0fff-4066-ba5f-9fbcfb4f0f5b",
   "metadata": {
    "slideshow": {
     "slide_type": "skip"
    }
   },
   "outputs": [],
   "source": [
    "import math\n",
    "def Len(n: int)-> int:\n",
    "    if type(n) == int:\n",
    "        return math.ceil((len(bin(n))-2)/8)\n",
    "    s = 0\n",
    "    for i in n:\n",
    "        s += Len(i)\n",
    "    return s    "
   ]
  },
  {
   "cell_type": "code",
   "execution_count": 64,
   "id": "956dd425-5080-4e72-ba97-cc10684442ae",
   "metadata": {
    "slideshow": {
     "slide_type": "skip"
    }
   },
   "outputs": [],
   "source": [
    "def H(m: bytes) -> bytes:\n",
    "    import hashlib\n",
    "    return hashlib.sha3_256(m).digest()"
   ]
  },
  {
   "cell_type": "markdown",
   "id": "0352ff5a-0507-411a-9d2d-2c29bbe67f2d",
   "metadata": {},
   "source": [
    "#### Проверяю"
   ]
  },
  {
   "cell_type": "code",
   "execution_count": 65,
   "id": "3de5f20c-2c89-42a8-9f3a-0302abeeb4b9",
   "metadata": {},
   "outputs": [
    {
     "name": "stdout",
     "output_type": "stream",
     "text": [
      "10\n",
      "110\n",
      "10000010000010\n"
     ]
    }
   ],
   "source": [
    "print(generate_binary_string(2))\n",
    "print(generate_binary_string(3))\n",
    "print(generate_binary_string(14))"
   ]
  },
  {
   "cell_type": "markdown",
   "id": "a9a8ea84-746e-492f-b1cb-ee1ba8dcc7b2",
   "metadata": {},
   "source": [
    "### Дополнительные функции из предыдущей лабораторной"
   ]
  },
  {
   "cell_type": "code",
   "execution_count": 66,
   "id": "6c98d704-08b1-401b-b07f-47b89e13c63f",
   "metadata": {},
   "outputs": [],
   "source": [
    "def is_generator(p, g):\n",
    "    group_ln = p - 1\n",
    "    pr_dict = smp.factorint(group_ln)\n",
    "    for el in pr_dict:\n",
    "        if pow(g, group_ln // el, p) == 1:\n",
    "            return False\n",
    "    return True"
   ]
  },
  {
   "cell_type": "code",
   "execution_count": 67,
   "id": "523b48bf-06cd-41e0-8f4c-7186ea919577",
   "metadata": {},
   "outputs": [],
   "source": [
    "def get_generator(p):\n",
    "    while(True):\n",
    "        G = range(1, p)\n",
    "        el = G[random.randint(0, p - 2)]\n",
    "        if is_generator(p, el):\n",
    "            return el\n",
    "    return None"
   ]
  },
  {
   "cell_type": "markdown",
   "id": "1ae0e84d-9c42-439a-9a8c-dfcc9b6c106f",
   "metadata": {},
   "source": [
    "#### Проверяю"
   ]
  },
  {
   "cell_type": "code",
   "execution_count": 68,
   "id": "1f7866f5-4fe8-46b8-95a0-ebc19a4a60b5",
   "metadata": {},
   "outputs": [
    {
     "name": "stdout",
     "output_type": "stream",
     "text": [
      "[1, 2, 3, 4, 5, 6, 7, 8, 9, 10, 11, 12, 13, 14, 15, 16, 17, 18, 19, 20, 21, 22, 23, 24, 25, 26, 27, 28, 29, 30, 31, 32, 33, 34, 35, 36, 37, 38, 39, 40, 41, 42, 43, 44, 45, 46, 47, 48, 49, 50, 51, 52, 53, 54, 55, 56, 57, 58, 59, 60, 61, 62, 63, 64, 65, 66, 67, 68, 69, 70, 71, 72, 73, 74, 75, 76, 77, 78, 79, 80, 81, 82, 83, 84, 85, 86, 87, 88, 89, 90, 91, 92, 93, 94, 95, 96, 97, 98, 99, 100, 101, 102, 103, 104, 105, 106]\n"
     ]
    }
   ],
   "source": [
    "pr1 = 107\n",
    "gen1 = get_generator(pr1)\n",
    "i = 1\n",
    "G1 = []\n",
    "while True:\n",
    "    temp_pow = pow(gen1, i, pr1)\n",
    "    G1 += [temp_pow]\n",
    "    if (temp_pow == 1):\n",
    "        break\n",
    "    i += 1\n",
    "print(sorted(G1))"
   ]
  },
  {
   "cell_type": "markdown",
   "id": "b3fe92c2-7d07-4a90-8c5f-a0f8d1d7a837",
   "metadata": {},
   "source": [
    "### Генерация ключей"
   ]
  },
  {
   "cell_type": "code",
   "execution_count": 69,
   "id": "39839ad0-5e47-48a9-a339-855bd6803fa1",
   "metadata": {},
   "outputs": [],
   "source": [
    "import random;\n",
    "import sympy as smp\n",
    "\n",
    "def get_key(L):\n",
    "    p = int(str(generate_binary_string(L)), 2)\n",
    "    while not smp.isprime(p):\n",
    "        p = int(str(generate_binary_string(L)), 2)\n",
    "    g = get_generator(p)\n",
    "    x = random.randint(2, p - 2)\n",
    "    y = pow(g, x, p)\n",
    "    return [(y, g, p), x]"
   ]
  },
  {
   "cell_type": "markdown",
   "id": "38aeb583-7cd9-4b4a-a7db-f9b914ead54d",
   "metadata": {},
   "source": [
    "#### Пошаговая проверка алгоритма по частям"
   ]
  },
  {
   "cell_type": "code",
   "execution_count": 70,
   "id": "58e9b3c7-a11b-4266-92d3-991619a0cf08",
   "metadata": {},
   "outputs": [
    {
     "name": "stdout",
     "output_type": "stream",
     "text": [
      "29 True\n",
      "37 True\n",
      "79 True\n",
      "233 True\n",
      "3877 True\n",
      "23383042701517 True\n",
      "144695723516756419822489589709129031787610457634988336779269159449324209867048321245064847616486738365772735533920208002966520969679908602729 True\n"
     ]
    }
   ],
   "source": [
    "temp_L_tupl = 5, 6, 7, 8, 12, 45, 466\n",
    "for temp_L in temp_L_tupl:\n",
    "    p = int(str(generate_binary_string(temp_L)), 2)\n",
    "    while not smp.isprime(p):\n",
    "        p = int(str(generate_binary_string(temp_L)), 2)\n",
    "    print(p, smp.isprime(p))"
   ]
  },
  {
   "cell_type": "markdown",
   "id": "464a4372-92fc-4be4-b314-2d05757eb8dc",
   "metadata": {},
   "source": [
    "### Генерации подписи"
   ]
  },
  {
   "cell_type": "code",
   "execution_count": 71,
   "id": "f8e8f9e6-02b9-4409-a9fb-ece8c56b8e36",
   "metadata": {},
   "outputs": [],
   "source": [
    "import math\n",
    "\n",
    "def get_sign(k_e, k_d, m):\n",
    "    h = OS2IP(H(m))\n",
    "    k = random.randint(2, k_e[2] - 2)\n",
    "    check = math.gcd(k, k_e[2] -1)\n",
    "    while(check != 1):\n",
    "        k = random.randint(2, k_e[2] - 2)\n",
    "        check = math.gcd(k, k_e[2] - 1)\n",
    "    a = pow(k_e[1], k, k_e[2])\n",
    "    b = pow(k, -1, k_e[2] - 1) * (h - k_d * a) % (k_e[2] - 1)\n",
    "    return (a, b)"
   ]
  },
  {
   "cell_type": "markdown",
   "id": "46cdb7a6-0b63-4779-850e-e3500e3980df",
   "metadata": {},
   "source": [
    "#### Пошаговая проверка алгоритма по частям"
   ]
  },
  {
   "cell_type": "code",
   "execution_count": 72,
   "id": "c372aca8-bd67-4afd-adc6-a61412ec4071",
   "metadata": {},
   "outputs": [
    {
     "name": "stdout",
     "output_type": "stream",
     "text": [
      "k_e = (6, 5, 7) k_d1 = 3\n",
      "k = 3\n"
     ]
    }
   ],
   "source": [
    "temp_L = 3\n",
    "k_e1, k_d1 = get_key(temp_L)\n",
    "print(\"k_e =\", k_e1, \"k_d1 =\", k_d1)\n",
    "k = random.randint(2, k_e1[2] - 2)\n",
    "check = math.gcd(k, k_e1[2])\n",
    "while(check != 1):\n",
    "    k = random.randint(2, p - 2)\n",
    "print(\"k =\", k)"
   ]
  },
  {
   "cell_type": "code",
   "execution_count": 73,
   "id": "12dddbc4-0bb7-4b52-adb2-c77b18380c4d",
   "metadata": {},
   "outputs": [
    {
     "name": "stdout",
     "output_type": "stream",
     "text": [
      "k_e = (49458120281015513966908228073020, 87481448371261224508875365391077, 115092580992450228153664815183419) k_d1 = 69933210000078555229333705527987\n",
      "a = 3602096508680069265669749706219 b = 81541072127440216859705210772393\n"
     ]
    }
   ],
   "source": [
    "temp_L = 107\n",
    "temp_msg = b'hello'\n",
    "k_e1, k_d1 = get_key(temp_L)\n",
    "print(\"k_e =\", k_e1, \"k_d1 =\", k_d1)\n",
    "temp_sign = get_sign(k_e1, k_d1, temp_msg)\n",
    "print(\"a =\", temp_sign[0], \"b =\", temp_sign[1])"
   ]
  },
  {
   "cell_type": "markdown",
   "id": "c885abc4-870e-4bad-bcce-3b9f8dc83a7c",
   "metadata": {},
   "source": [
    "### Проверка подписи"
   ]
  },
  {
   "cell_type": "code",
   "execution_count": 74,
   "id": "fce6c2ab-f8cc-4211-9e75-b7328e6cd0ca",
   "metadata": {},
   "outputs": [],
   "source": [
    "def check_sign(k_e, m, s):\n",
    "    h = OS2IP(H(m))\n",
    "    return (((pow(k_e[0], s[0], k_e[2]) * pow(s[0], s[1], k_e[2])) % k_e[2]) == pow(k_e[1], h, k_e[2]))"
   ]
  },
  {
   "cell_type": "markdown",
   "id": "4d47b480-8138-4be6-8c1c-5ce24247943f",
   "metadata": {
    "tags": []
   },
   "source": [
    "#### Проверяю"
   ]
  },
  {
   "cell_type": "code",
   "execution_count": 75,
   "id": "cd98153b-ff93-4751-9250-4e2d0a4c222d",
   "metadata": {},
   "outputs": [
    {
     "name": "stdout",
     "output_type": "stream",
     "text": [
      "k_e = (19, 27, 29) k_d1 = 23\n",
      "a = 19 b = 7\n"
     ]
    },
    {
     "data": {
      "text/plain": [
       "True"
      ]
     },
     "execution_count": 75,
     "metadata": {},
     "output_type": "execute_result"
    }
   ],
   "source": [
    "temp_L = 5\n",
    "temp_msg = b'hello'\n",
    "k_e1, k_d1 = get_key(temp_L)\n",
    "print(\"k_e =\", k_e1, \"k_d1 =\", k_d1)\n",
    "temp_sign = get_sign(k_e1, k_d1, temp_msg)\n",
    "print(\"a =\", temp_sign[0], \"b =\", temp_sign[1])\n",
    "check_sign(k_e1, temp_msg, temp_sign)"
   ]
  },
  {
   "cell_type": "markdown",
   "id": "f6ea3740-1539-4130-b459-56b09e222017",
   "metadata": {
    "slideshow": {
     "slide_type": "skip"
    }
   },
   "source": [
    "## <font color='red'>Задание 4.</font>\n",
    "\n",
    "Реализовать функции генерации ключей, формирования и проверки подписи ЭЦП Шнорра. Являются ли данные алгоритмы полиномиальными?"
   ]
  },
  {
   "cell_type": "code",
   "execution_count": 112,
   "id": "3ae03c05-8215-49a7-a7bc-ee60fd62f709",
   "metadata": {},
   "outputs": [],
   "source": [
    "def get_Shnorr_key(L, N):\n",
    "    q = int(str(generate_binary_string(N)), 2)\n",
    "    p = int(str(generate_binary_string(L)), 2)\n",
    "    while ((p - 1) % q != 0):\n",
    "        p = int(str(generate_binary_string(L)), 2)\n",
    "        q = int(str(generate_binary_string(N)), 2)\n",
    "    g = get_generator(p)\n",
    "    while (pow(g, (p - 1) // q, p) == 1):\n",
    "        g = get_generator(p)\n",
    "    g = pow(g, (p - 1) // q, p)\n",
    "    x = random.randint(1, q - 1)\n",
    "    y = pow(g, x, p)\n",
    "    return (y, g, p, q), x"
   ]
  },
  {
   "cell_type": "code",
   "execution_count": 113,
   "id": "d68fa37d-cc3e-4ea3-b3bc-25d75ac5fd99",
   "metadata": {},
   "outputs": [],
   "source": [
    "def get_Shnorr_sign(k_e, k_d, m):\n",
    "    k = random.randint(2, k_e[3] - 1)\n",
    "    a = pow(g, k, k_e[2])\n",
    "    h = OS2IP(H(I2OSP(a, Len(a)) + m))\n",
    "    b = (k - k_d * h) % k_e[3]\n",
    "    return b, h"
   ]
  },
  {
   "cell_type": "code",
   "execution_count": 114,
   "id": "ce48316c-067a-4691-b451-3c338dd12a73",
   "metadata": {},
   "outputs": [],
   "source": [
    "def check_Shnorr_sign(k_e, m, s):\n",
    "    a = (pow(k_e[1], s[0], k_e[2]) * pow(k_e[0], s[1], k_e[2])) % k_e[2]\n",
    "    return (s[1] % k_e[3]) == (OS2IP(H(I2OSP(a, Len(a)) + m)) % k_e[3])"
   ]
  },
  {
   "cell_type": "code",
   "execution_count": 115,
   "id": "929279d0-4028-4f90-8087-61152756f7f0",
   "metadata": {},
   "outputs": [
    {
     "data": {
      "text/plain": [
       "False"
      ]
     },
     "execution_count": 115,
     "metadata": {},
     "output_type": "execute_result"
    }
   ],
   "source": [
    "message = b'Hello Bob!'\n",
    "ke, x = get_Shnorr_key(24,12)\n",
    "s = get_Shnorr_sign(ke, x, message)\n",
    "check_Shnorr_sign(ke, message,s)"
   ]
  },
  {
   "cell_type": "markdown",
   "id": "176e1dcd-0867-40cd-b7fb-8649c4be8b7e",
   "metadata": {
    "slideshow": {
     "slide_type": "skip"
    }
   },
   "source": [
    "## <font color='red'>Задание 5.</font>\n",
    "ЭЦП Шнорра задана параметрами $\\;g,\\;p,\\; q.\\;$  Для документа $\\;m\\;$ получена подпись $\\;s=(b,h).\\;$  Убедиться, что данная подпись подходит для любого открытого ключа $\\;y.\\;$ Хорошо это или плохо характеризует ЭЦП Шнорра с криптографической точки зрения? Какая особенность подписи повлияла на такой результат? "
   ]
  },
  {
   "cell_type": "code",
   "execution_count": 116,
   "id": "f359d8bc-748a-4294-8367-8956bd8a92f2",
   "metadata": {
    "slideshow": {
     "slide_type": "skip"
    }
   },
   "outputs": [],
   "source": [
    "m = b'Document'\n",
    "g = 9516562544564\n",
    "p = 26443632403687\n",
    "q = 577259\n",
    "b = 545127\n",
    "h = 3316258630769272128572666739707468991127113456633944108576235413081343728178"
   ]
  },
  {
   "cell_type": "code",
   "execution_count": 117,
   "id": "7a9062c9-3764-4b9a-9b7c-7f8d396944cf",
   "metadata": {},
   "outputs": [
    {
     "ename": "KeyboardInterrupt",
     "evalue": "",
     "output_type": "error",
     "traceback": [
      "\u001b[1;31m---------------------------------------------------------------------------\u001b[0m",
      "\u001b[1;31mKeyboardInterrupt\u001b[0m                         Traceback (most recent call last)",
      "Cell \u001b[1;32mIn[117], line 1\u001b[0m\n\u001b[1;32m----> 1\u001b[0m k_e, k_d \u001b[38;5;241m=\u001b[39m \u001b[43mget_Shnorr_key\u001b[49m\u001b[43m(\u001b[49m\u001b[43mp\u001b[49m\u001b[43m,\u001b[49m\u001b[43m \u001b[49m\u001b[43mq\u001b[49m\u001b[43m)\u001b[49m\n",
      "Cell \u001b[1;32mIn[112], line 3\u001b[0m, in \u001b[0;36mget_Shnorr_key\u001b[1;34m(L, N)\u001b[0m\n\u001b[0;32m      1\u001b[0m \u001b[38;5;28;01mdef\u001b[39;00m \u001b[38;5;21mget_Shnorr_key\u001b[39m(L, N):\n\u001b[0;32m      2\u001b[0m     q \u001b[38;5;241m=\u001b[39m \u001b[38;5;28mint\u001b[39m(\u001b[38;5;28mstr\u001b[39m(generate_binary_string(N)), \u001b[38;5;241m2\u001b[39m)\n\u001b[1;32m----> 3\u001b[0m     p \u001b[38;5;241m=\u001b[39m \u001b[38;5;28mint\u001b[39m(\u001b[38;5;28mstr\u001b[39m(\u001b[43mgenerate_binary_string\u001b[49m\u001b[43m(\u001b[49m\u001b[43mL\u001b[49m\u001b[43m)\u001b[49m), \u001b[38;5;241m2\u001b[39m)\n\u001b[0;32m      4\u001b[0m     \u001b[38;5;28;01mwhile\u001b[39;00m ((p \u001b[38;5;241m-\u001b[39m \u001b[38;5;241m1\u001b[39m) \u001b[38;5;241m%\u001b[39m q \u001b[38;5;241m!=\u001b[39m \u001b[38;5;241m0\u001b[39m):\n\u001b[0;32m      5\u001b[0m         p \u001b[38;5;241m=\u001b[39m \u001b[38;5;28mint\u001b[39m(\u001b[38;5;28mstr\u001b[39m(generate_binary_string(L)), \u001b[38;5;241m2\u001b[39m)\n",
      "Cell \u001b[1;32mIn[60], line 4\u001b[0m, in \u001b[0;36mgenerate_binary_string\u001b[1;34m(N)\u001b[0m\n\u001b[0;32m      2\u001b[0m S \u001b[38;5;241m=\u001b[39m \u001b[38;5;124m\"\u001b[39m\u001b[38;5;124m1\u001b[39m\u001b[38;5;124m\"\u001b[39m\n\u001b[0;32m      3\u001b[0m \u001b[38;5;28;01mfor\u001b[39;00m i \u001b[38;5;129;01min\u001b[39;00m \u001b[38;5;28mrange\u001b[39m(\u001b[38;5;241m1\u001b[39m, N):\n\u001b[1;32m----> 4\u001b[0m     x \u001b[38;5;241m=\u001b[39m \u001b[43mrandom\u001b[49m\u001b[38;5;241;43m.\u001b[39;49m\u001b[43mrandint\u001b[49m\u001b[43m(\u001b[49m\u001b[38;5;241;43m0\u001b[39;49m\u001b[43m,\u001b[49m\u001b[43m \u001b[49m\u001b[38;5;241;43m1\u001b[39;49m\u001b[43m)\u001b[49m\n\u001b[0;32m      5\u001b[0m     S \u001b[38;5;241m+\u001b[39m\u001b[38;5;241m=\u001b[39m \u001b[38;5;28mstr\u001b[39m(x)\n\u001b[0;32m      6\u001b[0m \u001b[38;5;28;01mreturn\u001b[39;00m S\n",
      "File \u001b[1;32m~\\AppData\\Local\\Programs\\Python\\Python311\\Lib\\random.py:358\u001b[0m, in \u001b[0;36mRandom.randint\u001b[1;34m(self, a, b)\u001b[0m\n\u001b[0;32m    355\u001b[0m         \u001b[38;5;28;01mraise\u001b[39;00m \u001b[38;5;167;01mValueError\u001b[39;00m(\u001b[38;5;124m\"\u001b[39m\u001b[38;5;124mempty range for randrange()\u001b[39m\u001b[38;5;124m\"\u001b[39m)\n\u001b[0;32m    356\u001b[0m     \u001b[38;5;28;01mreturn\u001b[39;00m istart \u001b[38;5;241m+\u001b[39m istep \u001b[38;5;241m*\u001b[39m \u001b[38;5;28mself\u001b[39m\u001b[38;5;241m.\u001b[39m_randbelow(n)\n\u001b[1;32m--> 358\u001b[0m \u001b[38;5;28;01mdef\u001b[39;00m \u001b[38;5;21mrandint\u001b[39m(\u001b[38;5;28mself\u001b[39m, a, b):\n\u001b[0;32m    359\u001b[0m \u001b[38;5;250m    \u001b[39m\u001b[38;5;124;03m\"\"\"Return random integer in range [a, b], including both end points.\u001b[39;00m\n\u001b[0;32m    360\u001b[0m \u001b[38;5;124;03m    \"\"\"\u001b[39;00m\n\u001b[0;32m    362\u001b[0m     \u001b[38;5;28;01mreturn\u001b[39;00m \u001b[38;5;28mself\u001b[39m\u001b[38;5;241m.\u001b[39mrandrange(a, b\u001b[38;5;241m+\u001b[39m\u001b[38;5;241m1\u001b[39m)\n",
      "\u001b[1;31mKeyboardInterrupt\u001b[0m: "
     ]
    }
   ],
   "source": [
    "k_e, k_d = get_Shnorr_key(p, q)"
   ]
  },
  {
   "cell_type": "code",
   "execution_count": null,
   "id": "2680d836-2c2e-4667-9f13-7cb3be764534",
   "metadata": {},
   "outputs": [],
   "source": [
    "k_e"
   ]
  },
  {
   "cell_type": "code",
   "execution_count": null,
   "id": "89ca5c16-798d-41bd-a635-bf42b4ad6503",
   "metadata": {},
   "outputs": [],
   "source": [
    "k_d"
   ]
  },
  {
   "cell_type": "code",
   "execution_count": null,
   "id": "0560c8f8-0600-417c-9cf5-06b16ef0b5d8",
   "metadata": {
    "slideshow": {
     "slide_type": "skip"
    }
   },
   "outputs": [],
   "source": [
    "import math\n",
    "def Len(n: int)-> int:\n",
    "    if type(n) == int:\n",
    "        return math.ceil((len(bin(n))-2)/8)\n",
    "    s = 0\n",
    "    for i in n:\n",
    "        s += Len(i)\n",
    "    return s    \n",
    "number = 1000"
   ]
  },
  {
   "cell_type": "code",
   "execution_count": null,
   "id": "d1b4a49e-09f0-4f4d-9fbf-bcf3f7cc992b",
   "metadata": {},
   "outputs": [],
   "source": [
    "sign = get_Shnorr_sign(k_e, k_d, m)"
   ]
  },
  {
   "cell_type": "code",
   "execution_count": null,
   "id": "edc5b246-f4ba-4fc8-989e-a0c22c23d760",
   "metadata": {},
   "outputs": [],
   "source": [
    "check_Shnorr_sign(k_e, m, sign)"
   ]
  },
  {
   "cell_type": "code",
   "execution_count": null,
   "id": "dfa8278c-8fd2-40b2-afd6-ee4d16c28dc6",
   "metadata": {},
   "outputs": [],
   "source": []
  }
 ],
 "metadata": {
  "kernelspec": {
   "display_name": "Python 3 (ipykernel)",
   "language": "python",
   "name": "python3"
  },
  "language_info": {
   "codemirror_mode": {
    "name": "ipython",
    "version": 3
   },
   "file_extension": ".py",
   "mimetype": "text/x-python",
   "name": "python",
   "nbconvert_exporter": "python",
   "pygments_lexer": "ipython3",
   "version": "3.11.1"
  }
 },
 "nbformat": 4,
 "nbformat_minor": 5
}
