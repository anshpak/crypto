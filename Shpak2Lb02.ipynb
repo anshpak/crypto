{
 "cells": [
  {
   "cell_type": "markdown",
   "id": "db45526b-5981-41dc-ae0b-1fd50b24c1b0",
   "metadata": {
    "slideshow": {
     "slide_type": "skip"
    }
   },
   "source": [
    "## <font color='red'>Задание 1.</font>\n",
    "\n",
    "Реализовать функции генерации ключей, формирования и проверки подписи ЭЦП Эль-Гамаля.\n",
    "Являются ли данные алгоритмы полиномиальными?"
   ]
  },
  {
   "cell_type": "markdown",
   "id": "945eecb2-d000-46fc-b436-6353664e2be1",
   "metadata": {},
   "source": [
    "### Дополнительные функции"
   ]
  },
  {
   "cell_type": "code",
   "execution_count": 3,
   "id": "d98f8a31-80d2-43c8-b00a-0d90444c841b",
   "metadata": {},
   "outputs": [],
   "source": [
    "import random\n",
    "import sympy as smp"
   ]
  },
  {
   "cell_type": "code",
   "execution_count": 2,
   "id": "5a5063d6-9d27-4ded-bcc6-7dfd700f4741",
   "metadata": {},
   "outputs": [],
   "source": [
    "def generate_binary_string(N):\n",
    "    S = \"1\"\n",
    "    for i in range(1, N):\n",
    "        x = random.randint(0, 1)\n",
    "        S += str(x)\n",
    "    return S"
   ]
  },
  {
   "cell_type": "markdown",
   "id": "08b17f2d-e83f-41b7-8ab1-5316d505ae64",
   "metadata": {},
   "source": [
    "### Дополнительные функции из лекции"
   ]
  },
  {
   "cell_type": "code",
   "execution_count": 4,
   "id": "6f268e01-6a25-4c8f-b637-330f5055113b",
   "metadata": {
    "slideshow": {
     "slide_type": "skip"
    },
    "tags": []
   },
   "outputs": [],
   "source": [
    "def OS2IP(X: bytes) -> int:\n",
    "    x = 0\n",
    "    for i in range(len(X)):\n",
    "        x += X[i] * 256**(len(X)-1-i)\n",
    "    return x  "
   ]
  },
  {
   "cell_type": "code",
   "execution_count": 5,
   "id": "0067f17f-e04d-459b-9ecd-7dc33f3eeab2",
   "metadata": {
    "slideshow": {
     "slide_type": "skip"
    }
   },
   "outputs": [],
   "source": [
    "def I2OSP(x: int, XLen: int) -> bytes:\n",
    "    if x >= 256**XLen:\n",
    "        raise ValueError(\"Number %d must be less than %d\" % (x,256**XLen))\n",
    "    b = []\n",
    "    for _ in range(XLen):\n",
    "        b.append(x % 256)\n",
    "        x >>= 8\n",
    "    b.reverse()\n",
    "    return bytes(b)"
   ]
  },
  {
   "cell_type": "code",
   "execution_count": 6,
   "id": "b2069678-0fff-4066-ba5f-9fbcfb4f0f5b",
   "metadata": {
    "slideshow": {
     "slide_type": "skip"
    }
   },
   "outputs": [],
   "source": [
    "import math\n",
    "def Len(n: int)-> int:\n",
    "    if type(n) == int:\n",
    "        return math.ceil((len(bin(n))-2)/8)\n",
    "    s = 0\n",
    "    for i in n:\n",
    "        s += Len(i)\n",
    "    return s    "
   ]
  },
  {
   "cell_type": "code",
   "execution_count": 7,
   "id": "956dd425-5080-4e72-ba97-cc10684442ae",
   "metadata": {
    "slideshow": {
     "slide_type": "skip"
    }
   },
   "outputs": [],
   "source": [
    "def H(m: bytes) -> bytes:\n",
    "    import hashlib\n",
    "    return hashlib.sha3_256(m).digest()"
   ]
  },
  {
   "cell_type": "markdown",
   "id": "0352ff5a-0507-411a-9d2d-2c29bbe67f2d",
   "metadata": {},
   "source": [
    "#### Проверяю"
   ]
  },
  {
   "cell_type": "code",
   "execution_count": 7,
   "id": "3de5f20c-2c89-42a8-9f3a-0302abeeb4b9",
   "metadata": {},
   "outputs": [
    {
     "name": "stdout",
     "output_type": "stream",
     "text": [
      "10\n",
      "100\n",
      "10001011011110\n"
     ]
    }
   ],
   "source": [
    "print(generate_binary_string(2))\n",
    "print(generate_binary_string(3))\n",
    "print(generate_binary_string(14))"
   ]
  },
  {
   "cell_type": "markdown",
   "id": "a9a8ea84-746e-492f-b1cb-ee1ba8dcc7b2",
   "metadata": {},
   "source": [
    "### Дополнительные функции из предыдущей лабораторной"
   ]
  },
  {
   "cell_type": "code",
   "execution_count": 8,
   "id": "6c98d704-08b1-401b-b07f-47b89e13c63f",
   "metadata": {},
   "outputs": [],
   "source": [
    "def is_generator(p, g):\n",
    "    group_ln = p - 1\n",
    "    pr_dict = smp.factorint(group_ln)\n",
    "    for el in pr_dict:\n",
    "        if pow(g, group_ln // el, p) == 1:\n",
    "            return False\n",
    "    return True"
   ]
  },
  {
   "cell_type": "code",
   "execution_count": 9,
   "id": "523b48bf-06cd-41e0-8f4c-7186ea919577",
   "metadata": {},
   "outputs": [],
   "source": [
    "def get_generator(p):\n",
    "    while(True):\n",
    "        G = range(1, p)\n",
    "        el = G[random.randint(0, p - 2)]\n",
    "        if is_generator(p, el):\n",
    "            return el\n",
    "    return None"
   ]
  },
  {
   "cell_type": "markdown",
   "id": "1ae0e84d-9c42-439a-9a8c-dfcc9b6c106f",
   "metadata": {},
   "source": [
    "#### Проверяю"
   ]
  },
  {
   "cell_type": "code",
   "execution_count": 10,
   "id": "1f7866f5-4fe8-46b8-95a0-ebc19a4a60b5",
   "metadata": {},
   "outputs": [
    {
     "name": "stdout",
     "output_type": "stream",
     "text": [
      "[1, 2, 3, 4, 5, 6, 7, 8, 9, 10, 11, 12, 13, 14, 15, 16, 17, 18, 19, 20, 21, 22, 23, 24, 25, 26, 27, 28, 29, 30, 31, 32, 33, 34, 35, 36, 37, 38, 39, 40, 41, 42, 43, 44, 45, 46, 47, 48, 49, 50, 51, 52, 53, 54, 55, 56, 57, 58, 59, 60, 61, 62, 63, 64, 65, 66, 67, 68, 69, 70, 71, 72, 73, 74, 75, 76, 77, 78, 79, 80, 81, 82, 83, 84, 85, 86, 87, 88, 89, 90, 91, 92, 93, 94, 95, 96, 97, 98, 99, 100, 101, 102, 103, 104, 105, 106]\n"
     ]
    }
   ],
   "source": [
    "pr1 = 107\n",
    "gen1 = get_generator(pr1)\n",
    "i = 1\n",
    "G1 = []\n",
    "while True:\n",
    "    temp_pow = pow(gen1, i, pr1)\n",
    "    G1 += [temp_pow]\n",
    "    if (temp_pow == 1):\n",
    "        break\n",
    "    i += 1\n",
    "print(sorted(G1))"
   ]
  },
  {
   "cell_type": "markdown",
   "id": "b3fe92c2-7d07-4a90-8c5f-a0f8d1d7a837",
   "metadata": {},
   "source": [
    "### Генерация ключей"
   ]
  },
  {
   "cell_type": "code",
   "execution_count": 10,
   "id": "39839ad0-5e47-48a9-a339-855bd6803fa1",
   "metadata": {},
   "outputs": [],
   "source": [
    "import random;\n",
    "import sympy as smp\n",
    "\n",
    "def get_key(L):\n",
    "    p = int(str(generate_binary_string(L)), 2)\n",
    "    while not smp.isprime(p):\n",
    "        p = int(str(generate_binary_string(L)), 2)\n",
    "    g = get_generator(p)\n",
    "    x = random.randint(2, p - 2)\n",
    "    y = pow(g, x, p)\n",
    "    return [(y, g, p), x]"
   ]
  },
  {
   "cell_type": "markdown",
   "id": "38aeb583-7cd9-4b4a-a7db-f9b914ead54d",
   "metadata": {},
   "source": [
    "#### Пошаговая проверка алгоритма по частям"
   ]
  },
  {
   "cell_type": "code",
   "execution_count": 275,
   "id": "58e9b3c7-a11b-4266-92d3-991619a0cf08",
   "metadata": {},
   "outputs": [
    {
     "name": "stdout",
     "output_type": "stream",
     "text": [
      "29 True\n",
      "43 True\n",
      "73 True\n",
      "233 True\n",
      "2741 True\n",
      "20470548801511 True\n",
      "156658619174199887069228386554651052402181304373488409362239466690616384921833834284260512824087499294130779152364952892856064165230429981911 True\n"
     ]
    }
   ],
   "source": [
    "temp_L_tupl = 5, 6, 7, 8, 12, 45, 466\n",
    "for temp_L in temp_L_tupl:\n",
    "    p = int(str(generate_binary_string(temp_L)), 2)\n",
    "    while not smp.isprime(p):\n",
    "        p = int(str(generate_binary_string(temp_L)), 2)\n",
    "    print(p, smp.isprime(p))"
   ]
  },
  {
   "cell_type": "markdown",
   "id": "464a4372-92fc-4be4-b314-2d05757eb8dc",
   "metadata": {},
   "source": [
    "### Генерации подписи"
   ]
  },
  {
   "cell_type": "code",
   "execution_count": 18,
   "id": "f8e8f9e6-02b9-4409-a9fb-ece8c56b8e36",
   "metadata": {},
   "outputs": [],
   "source": [
    "import math\n",
    "\n",
    "def get_sign(k_e, k_d, m):\n",
    "    h = OS2IP(H(m))\n",
    "    k = random.randint(2, k_e[2] - 2)\n",
    "    check = math.gcd(k, k_e[2])\n",
    "    while(check != 1):\n",
    "        k = random.randint(2, k_e[2])\n",
    "        check = math.gcd(k, k_e[2])\n",
    "    a = pow(k_e[1], k, k_e[2])\n",
    "    b = pow(k, -1, k_e[2]) * (h - k_d * a) % (k_e[2] - 1)\n",
    "    return (a, b)"
   ]
  },
  {
   "cell_type": "markdown",
   "id": "46cdb7a6-0b63-4779-850e-e3500e3980df",
   "metadata": {},
   "source": [
    "#### Пошаговая проверка алгоритма по частям"
   ]
  },
  {
   "cell_type": "code",
   "execution_count": 19,
   "id": "c372aca8-bd67-4afd-adc6-a61412ec4071",
   "metadata": {},
   "outputs": [
    {
     "name": "stdout",
     "output_type": "stream",
     "text": [
      "k_e = (6, 5, 7) k_d1 = 3\n",
      "k = 3\n"
     ]
    }
   ],
   "source": [
    "temp_L = 3\n",
    "k_e1, k_d1 = get_key(temp_L)\n",
    "print(\"k_e =\", k_e1, \"k_d1 =\", k_d1)\n",
    "k = random.randint(2, k_e1[2] - 2)\n",
    "check = math.gcd(k, k_e1[2])\n",
    "while(check != 1):\n",
    "    k = random.randint(2, p - 2)\n",
    "print(\"k =\", k)"
   ]
  },
  {
   "cell_type": "code",
   "execution_count": 20,
   "id": "12dddbc4-0bb7-4b52-adb2-c77b18380c4d",
   "metadata": {},
   "outputs": [
    {
     "name": "stdout",
     "output_type": "stream",
     "text": [
      "k_e = (57661937530506537733170772440365, 15174890028097398222691798689716, 101806037003831403807449321480377) k_d1 = 27251254360664482306284380225605\n",
      "a = 15446560569971982622460312720386 b = 64824974504191881007490374466408\n"
     ]
    }
   ],
   "source": [
    "temp_L = 107\n",
    "temp_msg = b'hello'\n",
    "k_e1, k_d1 = get_key(temp_L)\n",
    "print(\"k_e =\", k_e1, \"k_d1 =\", k_d1)\n",
    "temp_sign = get_sign(k_e1, k_d1, temp_msg)\n",
    "print(\"a =\", temp_sign[0], \"b =\", temp_sign[1])"
   ]
  },
  {
   "cell_type": "markdown",
   "id": "c885abc4-870e-4bad-bcce-3b9f8dc83a7c",
   "metadata": {},
   "source": [
    "### Проверка подписи"
   ]
  },
  {
   "cell_type": "code",
   "execution_count": 21,
   "id": "fce6c2ab-f8cc-4211-9e75-b7328e6cd0ca",
   "metadata": {},
   "outputs": [],
   "source": [
    "def check_sign(k_e, m, s):\n",
    "    h = OS2IP(H(m))\n",
    "    # print((pow(k_e[0], s[0], k_e[2]) * pow(s[0], s[1], k_e[2])) % k_e[2])\n",
    "    # print(pow(k_e[1], h, k_e[2]))\n",
    "    return (((pow(k_e[0], s[0], k_e[2]) * pow(s[0], s[1], k_e[2])) % k_e[2]) == (pow(k_e[1], h, k_e[2]) % k_e[2]))"
   ]
  },
  {
   "cell_type": "markdown",
   "id": "4d47b480-8138-4be6-8c1c-5ce24247943f",
   "metadata": {
    "tags": []
   },
   "source": [
    "#### Пошаговая проверка алгоритма по частям"
   ]
  },
  {
   "cell_type": "code",
   "execution_count": 347,
   "id": "cd98153b-ff93-4751-9250-4e2d0a4c222d",
   "metadata": {},
   "outputs": [
    {
     "name": "stdout",
     "output_type": "stream",
     "text": [
      "k_e = (20, 21, 23) k_d1 = 19\n",
      "a = 5 b = 19\n",
      "1\n",
      "16\n"
     ]
    },
    {
     "data": {
      "text/plain": [
       "False"
      ]
     },
     "execution_count": 347,
     "metadata": {},
     "output_type": "execute_result"
    }
   ],
   "source": [
    "temp_L = 5\n",
    "temp_msg = b'hello'\n",
    "k_e1, k_d1 = get_key(temp_L)\n",
    "print(\"k_e =\", k_e1, \"k_d1 =\", k_d1)\n",
    "temp_sign = get_sign(k_e1, k_d1, temp_msg)\n",
    "print(\"a =\", temp_sign[0], \"b =\", temp_sign[1])\n",
    "check_sign(k_e1, temp_msg, temp_sign)"
   ]
  },
  {
   "cell_type": "markdown",
   "id": "4514af22-c38d-4b82-97cf-58f34ee40538",
   "metadata": {},
   "source": [
    "### Измененный алгоритм"
   ]
  },
  {
   "cell_type": "code",
   "execution_count": 49,
   "id": "7f68ffdd-2853-41be-91fa-7635ab3a5e0b",
   "metadata": {},
   "outputs": [],
   "source": [
    "def get_sign(k_e, k_d, m):\n",
    "    h = OS2IP(H(m))\n",
    "    k = random.randint(2, k_e[2] - 2)\n",
    "    check = math.gcd(k, k_e[2])\n",
    "    while(check != 1):\n",
    "        k = random.randint(2, k_e[2])\n",
    "        check = math.gcd(k, k_e[2])\n",
    "    a = pow(k_e[1], k, k_e[2])\n",
    "    b = pow(k_e[0], k, k_e[2]) * h % k_e[2]\n",
    "    return (a, b)\n",
    "\n",
    "def check_sign(k_e, m, s, k_d):\n",
    "    h = OS2IP(H(m))\n",
    "    return (s[1] * pow(pow(s[0], k_d, k_e[2]), -1, k_e[2]) % k_e[2]) == (h % k_e[2])"
   ]
  },
  {
   "cell_type": "markdown",
   "id": "4f07c364-911b-4f27-ae14-73103071d74b",
   "metadata": {},
   "source": [
    "#### Проверка измененного алгоритма"
   ]
  },
  {
   "cell_type": "code",
   "execution_count": 52,
   "id": "828b18bd-ef02-4519-a53c-b3e638205d6b",
   "metadata": {},
   "outputs": [
    {
     "name": "stdout",
     "output_type": "stream",
     "text": [
      "k_e = (68411123238970166501289602525466, 76218450256160721109785973441270, 143601346624513385625811616644439) k_d1 = 62812943687084426422530738144643\n",
      "a = 107005018866138429659269013750273 b = 15900100774542704958795670405285\n"
     ]
    },
    {
     "data": {
      "text/plain": [
       "True"
      ]
     },
     "execution_count": 52,
     "metadata": {},
     "output_type": "execute_result"
    }
   ],
   "source": [
    "temp_L = 107\n",
    "temp_msg = b'hello, Andrey'\n",
    "k_e1, k_d1 = get_key(temp_L)\n",
    "print(\"k_e =\", k_e1, \"k_d1 =\", k_d1)\n",
    "temp_sign = get_sign(k_e1, k_d1, temp_msg)\n",
    "print(\"a =\", temp_sign[0], \"b =\", temp_sign[1])\n",
    "check_sign(k_e1, temp_msg, temp_sign, k_d1)"
   ]
  },
  {
   "cell_type": "markdown",
   "id": "599b4984-6250-43bd-8cf1-86bb634780ea",
   "metadata": {},
   "source": [
    "#### Проверка по сценарию"
   ]
  },
  {
   "cell_type": "code",
   "execution_count": 371,
   "id": "e102d484-3c3b-4a22-a944-3ca47055fed5",
   "metadata": {},
   "outputs": [
    {
     "name": "stdout",
     "output_type": "stream",
     "text": [
      "94\n",
      "28 9\n"
     ]
    },
    {
     "data": {
      "text/plain": [
       "66"
      ]
     },
     "execution_count": 371,
     "metadata": {},
     "output_type": "execute_result"
    }
   ],
   "source": [
    "pseudo_p = 107\n",
    "pseudo_g = 2\n",
    "pseudo_x = 67\n",
    "pseudo_y = pow(pseudo_g, pseudo_x, pseudo_p)\n",
    "print(pseudo_y)\n",
    "\n",
    "temp_msg = b'B'\n",
    "pseudo_k = 45\n",
    "h = 66\n",
    "pseudo_a = pow(pseudo_g, pseudo_k, pseudo_p)\n",
    "pseudo_b = h * pow(pseudo_y, pseudo_k, pseudo_p) % pseudo_p\n",
    "print(pseudo_a, pseudo_b)\n",
    "\n",
    "pseudo_b * pow(pseudo_a, -1 * pseudo_x, pseudo_p) % pseudo_p"
   ]
  },
  {
   "cell_type": "code",
   "execution_count": 40,
   "id": "363efcc2-aefd-402f-8c5e-3d13e46dd34d",
   "metadata": {},
   "outputs": [
    {
     "name": "stdout",
     "output_type": "stream",
     "text": [
      "3\n",
      "6 8\n",
      "2\n",
      "2\n"
     ]
    }
   ],
   "source": [
    "pseudo_p = 11\n",
    "pseudo_g = 2\n",
    "pseudo_x = 8\n",
    "pseudo_y = pow(pseudo_g, pseudo_x, pseudo_p)\n",
    "print(pseudo_y)\n",
    "\n",
    "pseudo_k = 9\n",
    "h = 23455423 \n",
    "pseudo_a = pow(pseudo_g, pseudo_k, pseudo_p)\n",
    "pseudo_b = h * pow(pseudo_y, pseudo_k, pseudo_p) % pseudo_p\n",
    "print(pseudo_a, pseudo_b)\n",
    "\n",
    "print(pseudo_b * pow(pseudo_a, -1 * pseudo_x, pseudo_p) % pseudo_p)\n",
    "\n",
    "print(h % pseudo_p)"
   ]
  },
  {
   "cell_type": "markdown",
   "id": "f6ea3740-1539-4130-b459-56b09e222017",
   "metadata": {
    "slideshow": {
     "slide_type": "skip"
    }
   },
   "source": [
    "## <font color='red'>Задание 4.</font>\n",
    "\n",
    "Реализовать функции генерации ключей, формирования и проверки подписи ЭЦП Шнорра. Являются ли данные алгоритмы полиномиальными?"
   ]
  },
  {
   "cell_type": "code",
   "execution_count": 17,
   "id": "3ae03c05-8215-49a7-a7bc-ee60fd62f709",
   "metadata": {},
   "outputs": [],
   "source": [
    "def get_Shnorr_key(L, N):\n",
    "    q = int(str(generateBinaryString(N)), 2)\n",
    "    p = int(str(generateBinaryString(L)), 2)\n",
    "    while ((p - 1) % q != 0):\n",
    "        p = int(str(generateBinaryString(L)), 2)\n",
    "        q = int(str(generateBinaryString(N)), 2)\n",
    "    g = get_generator(range(1, p), p)\n",
    "    while (pow(g, int((p - 1) / q), p) == 1):\n",
    "        g = get_generator(range(1, p), p)\n",
    "    g = pow(g, int((p - 1) / q), p)\n",
    "    x = random.randint(1, q)\n",
    "    y = pow(g, x, p)\n",
    "    return (y, g, p, q), x"
   ]
  },
  {
   "cell_type": "code",
   "execution_count": 30,
   "id": "d68fa37d-cc3e-4ea3-b3bc-25d75ac5fd99",
   "metadata": {},
   "outputs": [],
   "source": [
    "def get_Shnorr_sign(k_e, k_d, m):\n",
    "    k = random.randint(1, q)\n",
    "    a = pow(g, k, p)\n",
    "    h = H(str(a + m))\n",
    "    b = (k - k_d * h) % q\n",
    "    return b, h"
   ]
  },
  {
   "cell_type": "code",
   "execution_count": 13,
   "id": "ce48316c-067a-4691-b451-3c338dd12a73",
   "metadata": {},
   "outputs": [],
   "source": [
    "def sign_Shnorr_check(k_e, m, s):\n",
    "    a = (pow(k_e[1], s[0], p) * pow(k_e[0], s[1])) % p\n",
    "    return h == H(a // m) % q"
   ]
  },
  {
   "cell_type": "markdown",
   "id": "176e1dcd-0867-40cd-b7fb-8649c4be8b7e",
   "metadata": {
    "slideshow": {
     "slide_type": "skip"
    }
   },
   "source": [
    "## <font color='red'>Задание 5.</font>\n",
    "ЭЦП Шнорра задана параметрами $\\;g,\\;p,\\; q.\\;$  Для документа $\\;m\\;$ получена подпись $\\;s=(b,h).\\;$  Убедиться, что данная подпись подходит для любого открытого ключа $\\;y.\\;$ Хорошо это или плохо характеризует ЭЦП Шнорра с криптографической точки зрения? Какая особенность подписи повлияла на такой результат? "
   ]
  },
  {
   "cell_type": "code",
   "execution_count": 14,
   "id": "f359d8bc-748a-4294-8367-8956bd8a92f2",
   "metadata": {
    "slideshow": {
     "slide_type": "skip"
    }
   },
   "outputs": [],
   "source": [
    "m = b'Document'\n",
    "g = 9516562544564\n",
    "p = 26443632403687\n",
    "q = 577259\n",
    "b = 545127\n",
    "h = 3316258630769272128572666739707468991127113456633944108576235413081343728178"
   ]
  },
  {
   "cell_type": "code",
   "execution_count": 18,
   "id": "7a9062c9-3764-4b9a-9b7c-7f8d396944cf",
   "metadata": {},
   "outputs": [],
   "source": [
    "k_e, k_d = get_Shnorr_key(Len(p), Len(q))"
   ]
  },
  {
   "cell_type": "code",
   "execution_count": 19,
   "id": "2680d836-2c2e-4667-9f13-7cb3be764534",
   "metadata": {},
   "outputs": [
    {
     "data": {
      "text/plain": [
       "(1, 6, 37, 4)"
      ]
     },
     "execution_count": 19,
     "metadata": {},
     "output_type": "execute_result"
    }
   ],
   "source": [
    "k_e"
   ]
  },
  {
   "cell_type": "code",
   "execution_count": 20,
   "id": "89ca5c16-798d-41bd-a635-bf42b4ad6503",
   "metadata": {},
   "outputs": [
    {
     "data": {
      "text/plain": [
       "4"
      ]
     },
     "execution_count": 20,
     "metadata": {},
     "output_type": "execute_result"
    }
   ],
   "source": [
    "k_d"
   ]
  },
  {
   "cell_type": "code",
   "execution_count": 21,
   "id": "0560c8f8-0600-417c-9cf5-06b16ef0b5d8",
   "metadata": {
    "slideshow": {
     "slide_type": "skip"
    }
   },
   "outputs": [],
   "source": [
    "import math\n",
    "def Len(n: int)-> int:\n",
    "    if type(n) == int:\n",
    "        return math.ceil((len(bin(n))-2)/8)\n",
    "    s = 0\n",
    "    for i in n:\n",
    "        s += Len(i)\n",
    "    return s    \n",
    "number = 1000"
   ]
  },
  {
   "cell_type": "code",
   "execution_count": 31,
   "id": "d1b4a49e-09f0-4f4d-9fbf-bcf3f7cc992b",
   "metadata": {},
   "outputs": [
    {
     "ename": "TypeError",
     "evalue": "unsupported operand type(s) for +: 'int' and 'bytes'",
     "output_type": "error",
     "traceback": [
      "\u001b[1;31m---------------------------------------------------------------------------\u001b[0m",
      "\u001b[1;31mTypeError\u001b[0m                                 Traceback (most recent call last)",
      "Cell \u001b[1;32mIn[31], line 1\u001b[0m\n\u001b[1;32m----> 1\u001b[0m sign \u001b[38;5;241m=\u001b[39m \u001b[43mget_Shnorr_sign\u001b[49m\u001b[43m(\u001b[49m\u001b[43mk_e\u001b[49m\u001b[43m,\u001b[49m\u001b[43m \u001b[49m\u001b[43mk_d\u001b[49m\u001b[43m,\u001b[49m\u001b[43m \u001b[49m\u001b[43mm\u001b[49m\u001b[43m)\u001b[49m\n",
      "Cell \u001b[1;32mIn[30], line 4\u001b[0m, in \u001b[0;36mget_Shnorr_sign\u001b[1;34m(k_e, k_d, m)\u001b[0m\n\u001b[0;32m      2\u001b[0m k \u001b[38;5;241m=\u001b[39m random\u001b[38;5;241m.\u001b[39mrandint(\u001b[38;5;241m1\u001b[39m, q)\n\u001b[0;32m      3\u001b[0m a \u001b[38;5;241m=\u001b[39m \u001b[38;5;28mpow\u001b[39m(g, k, p)\n\u001b[1;32m----> 4\u001b[0m h \u001b[38;5;241m=\u001b[39m H(\u001b[38;5;28mstr\u001b[39m(\u001b[43ma\u001b[49m\u001b[43m \u001b[49m\u001b[38;5;241;43m+\u001b[39;49m\u001b[43m \u001b[49m\u001b[43mm\u001b[49m))\n\u001b[0;32m      5\u001b[0m b \u001b[38;5;241m=\u001b[39m (k \u001b[38;5;241m-\u001b[39m k_d \u001b[38;5;241m*\u001b[39m h) \u001b[38;5;241m%\u001b[39m q\n\u001b[0;32m      6\u001b[0m \u001b[38;5;28;01mreturn\u001b[39;00m b, h\n",
      "\u001b[1;31mTypeError\u001b[0m: unsupported operand type(s) for +: 'int' and 'bytes'"
     ]
    }
   ],
   "source": [
    "sign = get_Shnorr_sign(k_e, k_d, m)"
   ]
  },
  {
   "cell_type": "code",
   "execution_count": null,
   "id": "edc5b246-f4ba-4fc8-989e-a0c22c23d760",
   "metadata": {},
   "outputs": [],
   "source": []
  }
 ],
 "metadata": {
  "kernelspec": {
   "display_name": "Python 3 (ipykernel)",
   "language": "python",
   "name": "python3"
  },
  "language_info": {
   "codemirror_mode": {
    "name": "ipython",
    "version": 3
   },
   "file_extension": ".py",
   "mimetype": "text/x-python",
   "name": "python",
   "nbconvert_exporter": "python",
   "pygments_lexer": "ipython3",
   "version": "3.11.1"
  }
 },
 "nbformat": 4,
 "nbformat_minor": 5
}
