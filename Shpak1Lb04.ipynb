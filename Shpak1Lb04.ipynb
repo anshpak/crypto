{
 "cells": [
  {
   "cell_type": "markdown",
   "id": "f99b9955-ec63-4449-8d3a-87a4b72a5973",
   "metadata": {},
   "source": [
    "# Лабораторная работа 4\n",
    "# Тема 4. Алгебраические уравнения в кольце вычетов"
   ]
  },
  {
   "cell_type": "markdown",
   "id": "266df43a-6e54-4c09-817e-4543e38393ff",
   "metadata": {},
   "source": [
    "# Теоретические сведения и подсказки"
   ]
  },
  {
   "cell_type": "markdown",
   "id": "400a29b9-2054-4f6c-9de1-bb2330900024",
   "metadata": {},
   "source": [
    "## Разбираюсь с теорией"
   ]
  },
  {
   "cell_type": "markdown",
   "id": "24e04f5f-fc17-41b8-9a73-0e1a6f15a6a9",
   "metadata": {},
   "source": [
    "Пример уравнения первой степени:"
   ]
  },
  {
   "cell_type": "code",
   "execution_count": 56,
   "id": "df247f9b-f04f-46ad-80ca-274c85ef88af",
   "metadata": {},
   "outputs": [
    {
     "data": {
      "text/plain": [
       "[True, True, True]"
      ]
     },
     "execution_count": 56,
     "metadata": {},
     "output_type": "execute_result"
    }
   ],
   "source": [
    "x = 4, 7, 10\n",
    "d = 8\n",
    "n = 3 * d\n",
    "a = 7 * d\n",
    "b = 13 * d\n",
    "[(a * i) % n == b % n for i in x]"
   ]
  },
  {
   "cell_type": "markdown",
   "id": "5eb6c2ca-4830-49bd-a53a-1e680a01b3b5",
   "metadata": {},
   "source": [
    "Реализация поиска обратного элемента из первой лабораторной:"
   ]
  },
  {
   "cell_type": "code",
   "execution_count": 57,
   "id": "1fb284bd-9bcd-4e0f-835b-a6c6130c5012",
   "metadata": {},
   "outputs": [],
   "source": [
    "def reverse_elem(a, b):\n",
    "    if a == b - 1:\n",
    "        return a % b\n",
    "    a_copy = a\n",
    "    b_copy = b\n",
    "    m11, m12 = 1, 0\n",
    "    m21, m22 = 0, 1\n",
    "    while b:\n",
    "        q = a // b\n",
    "        a, b = b, a % b\n",
    "        m11, m12 = m12, m11 - m12*q\n",
    "        m21, m22 = m22, m21 - m22*q\n",
    "    gcd = m11 * a_copy + m21 * b_copy\n",
    "    if gcd == 1:\n",
    "        return m11\n",
    "    else:\n",
    "        raise ValueError('base is not invertible for the given modulus')"
   ]
  },
  {
   "cell_type": "code",
   "execution_count": 63,
   "id": "78d331d3-662f-443e-880c-9d65a37fb94e",
   "metadata": {},
   "outputs": [
    {
     "data": {
      "text/plain": [
       "True"
      ]
     },
     "execution_count": 63,
     "metadata": {},
     "output_type": "execute_result"
    }
   ],
   "source": [
    "reverse_elem(a / d, n / d) == pow(int(a / d), -1, int(n / d)) # int, иначе ошибка у pow"
   ]
  },
  {
   "cell_type": "markdown",
   "id": "fecea7c7-8418-4f55-90f6-1783e0677624",
   "metadata": {},
   "source": [
    "И тогда решение уравнения:"
   ]
  },
  {
   "cell_type": "code",
   "execution_count": 79,
   "id": "965b8e08-81d7-4861-8f8c-3c4c0e970df3",
   "metadata": {},
   "outputs": [
    {
     "data": {
      "text/plain": [
       "True"
      ]
     },
     "execution_count": 79,
     "metadata": {},
     "output_type": "execute_result"
    }
   ],
   "source": [
    "res = reverse_elem(a / d, n / d)\n",
    "((res + (d - 1) * (n / d)) % (n / d)) == (b / d) % (n / d)"
   ]
  },
  {
   "cell_type": "markdown",
   "id": "2f93c292-4906-4e22-9c54-8e0dd7507dc4",
   "metadata": {},
   "source": [
    "## Китайская теорема об остатках"
   ]
  },
  {
   "cell_type": "markdown",
   "id": "87fa3f3d-cf3b-4cd7-9640-d46b2ccf8be5",
   "metadata": {
    "jp-MarkdownHeadingCollapsed": true,
    "slideshow": {
     "slide_type": "slide"
    },
    "tags": []
   },
   "source": [
    "**Теорема.**  \n",
    "Пусть $\\;n_1,\\dots,n_k\\in\\mathbb{N},$ $\\;\\gcd(n_i,n_j)=1\\;$ при      $\\;i\\neq j,$ $\\;b_1,\\dots,b_k\\in\\mathbb{Z}.\\;$ Тогда система      уравнений\n",
    " $$\n",
    "   \\left\\{\\begin{array}{llll}\n",
    "      x & \\equiv  & b_1 & \\mod n_1,\\\\\n",
    "      x & \\equiv  & b_2 & \\mod n_2,\\\\\n",
    "        & \\vdots & &\\\\\n",
    "     x & \\equiv  & b_k & \\mod n_k,\n",
    "     \\end{array}\\right.\\qquad (2)   \n",
    " $$\n",
    " имеет единственное в кольце $\\mathbb{Z}_n$ решение\n",
    "$$\n",
    " x_0=\\sum\\limits_{i=1}^{k} b_i N_i C_i, \\qquad (*)\n",
    "$$\n",
    "где ${n=n_1\\dots n_k,}$ ${N_i=\\frac{n}{n_i},}$ $C_i$ --- обратный к $N_i$ в $\\mathbb{Z}_{n_i}^*.$\n",
    "\n",
    "**Алгоритм Гаусса.**  \n",
    "Нахождение решения системы (2) при помощи формулы $(*)$ иногда называют алгоритмом Гаусса."
   ]
  },
  {
   "cell_type": "markdown",
   "id": "e24e9f7a-a86b-4455-9ef4-f74f0811bcba",
   "metadata": {},
   "source": [
    "# Задачи"
   ]
  },
  {
   "cell_type": "markdown",
   "id": "e536362e-bd8d-4c01-8aa5-9df1f24883b3",
   "metadata": {
    "slideshow": {
     "slide_type": "skip"
    }
   },
   "source": [
    "# <font color='red'>Задание 1.</font>\n",
    "\n",
    "Реализовать алгоритмы Гаусса и Гарнера. Сравнить скорость вычислений. Посчитать количество арифметических операций. Какие из данных алгоритмов являются полиномиальными?"
   ]
  },
  {
   "cell_type": "markdown",
   "id": "cbaff349-31bd-45ef-bb9d-6119a67c895e",
   "metadata": {},
   "source": [
    "## Реализация"
   ]
  },
  {
   "cell_type": "code",
   "execution_count": 102,
   "id": "b4cc5dc3-35a4-430c-b49a-9f6a20319792",
   "metadata": {},
   "outputs": [],
   "source": [
    "import functools\n",
    "\n",
    "def gauss(n, b):\n",
    "    k = functools.reduce(lambda a, b : a * b, n) # k вместо n в реализации\n",
    "    N = [k // k_i for k_i in n]\n",
    "    tpl_N_n = zip(N, n)\n",
    "    C = [reverse_elem(el[0], el[1]) for el in tpl_N_n]\n",
    "    tpl_b_N_C = zip(b, N, C)\n",
    "    x_0 = sum([el[0] * el[1] * el[2] for el in tpl_b_N_C])\n",
    "    return x_0"
   ]
  },
  {
   "cell_type": "markdown",
   "id": "ec7c131c-62ee-443d-ae63-d5c3d53e6549",
   "metadata": {
    "tags": []
   },
   "source": [
    "## Проверяю"
   ]
  },
  {
   "cell_type": "code",
   "execution_count": 108,
   "id": "b7c7c1a6-49fc-43d2-92d3-6f07a8192990",
   "metadata": {},
   "outputs": [
    {
     "name": "stdout",
     "output_type": "stream",
     "text": [
      "x =  -789\n"
     ]
    }
   ],
   "source": [
    "ni = [5, 7, 11]\n",
    "bi = [1, 2, 3]\n",
    "\n",
    "x = gauss(ni, bi)\n",
    "\n",
    "print('x = ', x)"
   ]
  },
  {
   "cell_type": "code",
   "execution_count": 111,
   "id": "95cc83e6-a263-4385-b37f-8de69c10ff40",
   "metadata": {},
   "outputs": [
    {
     "ename": "TypeError",
     "evalue": "reverse_elem() missing 1 required positional argument: 'b'",
     "output_type": "error",
     "traceback": [
      "\u001b[1;31m---------------------------------------------------------------------------\u001b[0m",
      "\u001b[1;31mTypeError\u001b[0m                                 Traceback (most recent call last)",
      "Cell \u001b[1;32mIn[111], line 3\u001b[0m\n\u001b[0;32m      1\u001b[0m k \u001b[38;5;241m=\u001b[39m functools\u001b[38;5;241m.\u001b[39mreduce(\u001b[38;5;28;01mlambda\u001b[39;00m a, b : a \u001b[38;5;241m*\u001b[39m b, ni) \u001b[38;5;66;03m# k вместо n в реализации\u001b[39;00m\n\u001b[0;32m      2\u001b[0m N \u001b[38;5;241m=\u001b[39m [k \u001b[38;5;241m/\u001b[39m\u001b[38;5;241m/\u001b[39m k_i \u001b[38;5;28;01mfor\u001b[39;00m k_i \u001b[38;5;129;01min\u001b[39;00m ni]\n\u001b[1;32m----> 3\u001b[0m \u001b[43m[\u001b[49m\u001b[43mreverse_elem\u001b[49m\u001b[43m(\u001b[49m\u001b[43mi\u001b[49m\u001b[43m)\u001b[49m\u001b[43m \u001b[49m\u001b[38;5;28;43;01mfor\u001b[39;49;00m\u001b[43m \u001b[49m\u001b[43mi\u001b[49m\u001b[43m \u001b[49m\u001b[38;5;129;43;01min\u001b[39;49;00m\u001b[43m \u001b[49m\u001b[43mni\u001b[49m\u001b[43m]\u001b[49m\n",
      "Cell \u001b[1;32mIn[111], line 3\u001b[0m, in \u001b[0;36m<listcomp>\u001b[1;34m(.0)\u001b[0m\n\u001b[0;32m      1\u001b[0m k \u001b[38;5;241m=\u001b[39m functools\u001b[38;5;241m.\u001b[39mreduce(\u001b[38;5;28;01mlambda\u001b[39;00m a, b : a \u001b[38;5;241m*\u001b[39m b, ni) \u001b[38;5;66;03m# k вместо n в реализации\u001b[39;00m\n\u001b[0;32m      2\u001b[0m N \u001b[38;5;241m=\u001b[39m [k \u001b[38;5;241m/\u001b[39m\u001b[38;5;241m/\u001b[39m k_i \u001b[38;5;28;01mfor\u001b[39;00m k_i \u001b[38;5;129;01min\u001b[39;00m ni]\n\u001b[1;32m----> 3\u001b[0m [\u001b[43mreverse_elem\u001b[49m\u001b[43m(\u001b[49m\u001b[43mi\u001b[49m\u001b[43m)\u001b[49m \u001b[38;5;28;01mfor\u001b[39;00m i \u001b[38;5;129;01min\u001b[39;00m ni]\n",
      "\u001b[1;31mTypeError\u001b[0m: reverse_elem() missing 1 required positional argument: 'b'"
     ]
    }
   ],
   "source": []
  },
  {
   "cell_type": "markdown",
   "id": "f40270a3-ac1d-4c92-9d54-fd25581c0fc7",
   "metadata": {
    "jp-MarkdownHeadingCollapsed": true,
    "slideshow": {
     "slide_type": "slide"
    },
    "tags": []
   },
   "source": [
    "**Теорема.**  \n",
    "Пусть $\\;n_1,\\dots,n_k\\in\\mathbb{N},$ $\\;\\gcd(n_i,n_j)=1\\;$ при      $\\;i\\neq j,$ $\\;b_1,\\dots,b_k\\in\\mathbb{Z}.\\;$ Тогда система      уравнений\n",
    " $$\n",
    "   \\left\\{\\begin{array}{llll}\n",
    "      x & \\equiv  & b_1 & \\mod n_1,\\\\\n",
    "      x & \\equiv  & b_2 & \\mod n_2,\\\\\n",
    "        & \\vdots & &\\\\\n",
    "     x & \\equiv  & b_k & \\mod n_k,\n",
    "     \\end{array}\\right.\\qquad (2)   \n",
    " $$\n",
    " имеет единственное в кольце $\\mathbb{Z}_n$ решение\n",
    "$$\n",
    " x_0=\\sum\\limits_{i=1}^{k} b_i N_i C_i, \\qquad (*)\n",
    "$$\n",
    "где ${n=n_1\\dots n_k,}$ ${N_i=\\frac{n}{n_i},}$ $C_i$ --- обратный к $N_i$ в $\\mathbb{Z}_{n_i}^*.$\n",
    "\n",
    "**Алгоритм Гаусса.**  \n",
    "Нахождение решения системы (2) при помощи формулы $(*)$ иногда называют алгоритмом Гаусса."
   ]
  },
  {
   "cell_type": "code",
   "execution_count": null,
   "id": "c645a50c-6c32-4661-b2b0-a057e11ec8ed",
   "metadata": {},
   "outputs": [],
   "source": []
  }
 ],
 "metadata": {
  "kernelspec": {
   "display_name": "Python 3 (ipykernel)",
   "language": "python",
   "name": "python3"
  },
  "language_info": {
   "codemirror_mode": {
    "name": "ipython",
    "version": 3
   },
   "file_extension": ".py",
   "mimetype": "text/x-python",
   "name": "python",
   "nbconvert_exporter": "python",
   "pygments_lexer": "ipython3",
   "version": "3.11.1"
  }
 },
 "nbformat": 4,
 "nbformat_minor": 5
}
