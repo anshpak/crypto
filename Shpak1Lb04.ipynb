{
 "cells": [
  {
   "cell_type": "markdown",
   "id": "f99b9955-ec63-4449-8d3a-87a4b72a5973",
   "metadata": {},
   "source": [
    "# Лабораторная работа 4\n",
    "# Тема 4. Алгебраические уравнения в кольце вычетов"
   ]
  },
  {
   "cell_type": "markdown",
   "id": "266df43a-6e54-4c09-817e-4543e38393ff",
   "metadata": {},
   "source": [
    "# Теоретические сведения и подсказки"
   ]
  },
  {
   "cell_type": "markdown",
   "id": "400a29b9-2054-4f6c-9de1-bb2330900024",
   "metadata": {},
   "source": [
    "## Разбираюсь с теорией"
   ]
  },
  {
   "cell_type": "markdown",
   "id": "24e04f5f-fc17-41b8-9a73-0e1a6f15a6a9",
   "metadata": {},
   "source": [
    "Пример уравнения первой степени:"
   ]
  },
  {
   "cell_type": "code",
   "execution_count": 1,
   "id": "df247f9b-f04f-46ad-80ca-274c85ef88af",
   "metadata": {},
   "outputs": [
    {
     "data": {
      "text/plain": [
       "[True, True, True]"
      ]
     },
     "execution_count": 1,
     "metadata": {},
     "output_type": "execute_result"
    }
   ],
   "source": [
    "x = 4, 7, 10\n",
    "d = 8\n",
    "n = 3 * d\n",
    "a = 7 * d\n",
    "b = 13 * d\n",
    "[(a * i) % n == b % n for i in x]"
   ]
  },
  {
   "cell_type": "markdown",
   "id": "5eb6c2ca-4830-49bd-a53a-1e680a01b3b5",
   "metadata": {},
   "source": [
    "Реализация поиска обратного элемента из первой лабораторной:"
   ]
  },
  {
   "cell_type": "code",
   "execution_count": 2,
   "id": "1fb284bd-9bcd-4e0f-835b-a6c6130c5012",
   "metadata": {},
   "outputs": [],
   "source": [
    "def reverse_elem(a, b):\n",
    "    if a == b - 1:\n",
    "        return a % b\n",
    "    a_copy = a\n",
    "    b_copy = b\n",
    "    m11, m12 = 1, 0\n",
    "    m21, m22 = 0, 1\n",
    "    while b:\n",
    "        q = a // b\n",
    "        a, b = b, a % b\n",
    "        m11, m12 = m12, m11 - m12*q\n",
    "        m21, m22 = m22, m21 - m22*q\n",
    "    gcd = m11 * a_copy + m21 * b_copy\n",
    "    if gcd == 1:\n",
    "        return m11\n",
    "    else:\n",
    "        raise ValueError('base is not invertible for the given modulus')"
   ]
  },
  {
   "cell_type": "code",
   "execution_count": 3,
   "id": "78d331d3-662f-443e-880c-9d65a37fb94e",
   "metadata": {},
   "outputs": [
    {
     "data": {
      "text/plain": [
       "True"
      ]
     },
     "execution_count": 3,
     "metadata": {},
     "output_type": "execute_result"
    }
   ],
   "source": [
    "reverse_elem(a / d, n / d) == pow(int(a / d), -1, int(n / d)) # int, иначе ошибка у pow"
   ]
  },
  {
   "cell_type": "markdown",
   "id": "fecea7c7-8418-4f55-90f6-1783e0677624",
   "metadata": {},
   "source": [
    "И тогда решение уравнения:"
   ]
  },
  {
   "cell_type": "code",
   "execution_count": 4,
   "id": "965b8e08-81d7-4861-8f8c-3c4c0e970df3",
   "metadata": {},
   "outputs": [
    {
     "data": {
      "text/plain": [
       "True"
      ]
     },
     "execution_count": 4,
     "metadata": {},
     "output_type": "execute_result"
    }
   ],
   "source": [
    "res = reverse_elem(a / d, n / d)\n",
    "((res + (d - 1) * (n / d)) % (n / d)) == (b / d) % (n / d)"
   ]
  },
  {
   "cell_type": "markdown",
   "id": "2f93c292-4906-4e22-9c54-8e0dd7507dc4",
   "metadata": {},
   "source": [
    "## Китайская теорема об остатках"
   ]
  },
  {
   "cell_type": "markdown",
   "id": "87fa3f3d-cf3b-4cd7-9640-d46b2ccf8be5",
   "metadata": {
    "jp-MarkdownHeadingCollapsed": true,
    "slideshow": {
     "slide_type": "slide"
    },
    "tags": []
   },
   "source": [
    "**Теорема.**  \n",
    "Пусть $\\;n_1,\\dots,n_k\\in\\mathbb{N},$ $\\;\\gcd(n_i,n_j)=1\\;$ при      $\\;i\\neq j,$ $\\;b_1,\\dots,b_k\\in\\mathbb{Z}.\\;$ Тогда система      уравнений\n",
    " $$\n",
    "   \\left\\{\\begin{array}{llll}\n",
    "      x & \\equiv  & b_1 & \\mod n_1,\\\\\n",
    "      x & \\equiv  & b_2 & \\mod n_2,\\\\\n",
    "        & \\vdots & &\\\\\n",
    "     x & \\equiv  & b_k & \\mod n_k,\n",
    "     \\end{array}\\right.\\qquad (2)   \n",
    " $$\n",
    " имеет единственное в кольце $\\mathbb{Z}_n$ решение\n",
    "$$\n",
    " x_0=\\sum\\limits_{i=1}^{k} b_i N_i C_i, \\qquad (*)\n",
    "$$\n",
    "где ${n=n_1\\dots n_k,}$ ${N_i=\\frac{n}{n_i},}$ $C_i$ --- обратный к $N_i$ в $\\mathbb{Z}_{n_i}^*.$\n",
    "\n",
    "**Алгоритм Гаусса.**  \n",
    "Нахождение решения системы (2) при помощи формулы $(*)$ иногда называют алгоритмом Гаусса."
   ]
  },
  {
   "cell_type": "markdown",
   "id": "27889adc-c8f5-46f8-bc8d-8bc15343cfe7",
   "metadata": {
    "slideshow": {
     "slide_type": "subslide"
    }
   },
   "source": [
    "## Алгоритм Гарнера\n",
    "Input: $b_1,\\dots,b_k\\in\\mathbb{Z},$   \n",
    "$\\qquad n_1,\\dots,n_k\\in\\mathbb{N}$ -- взаимно простые.  \n",
    "\n",
    "Output: $x,$ $0\\leq x<n_1\\dots n_k,$ -- решение системы (2).  \n",
    "\n",
    "1$.\\;$ Задаем начальные значения переменных:  \n",
    "$\\qquad   N:=1,$  \n",
    "$\\qquad x:=b_1\\mod n_1.$    \n",
    "\n",
    "2$.\\;$ For $\\;i:=2,3,\\dots,k$   \n",
    "$ \\qquad N:=N*n_{i-1}  $    \n",
    "$\\qquad C:=N^{-1}\\mod n_i$    \n",
    "$\\qquad y:=C*(b_i-x)\\mod n_i$  \n",
    "$\\qquad  x:=N y+x$\n",
    "\n",
    "3$.\\;$ Выдаем результат: $x.$    "
   ]
  },
  {
   "cell_type": "markdown",
   "id": "e24e9f7a-a86b-4455-9ef4-f74f0811bcba",
   "metadata": {},
   "source": [
    "# Задачи"
   ]
  },
  {
   "cell_type": "markdown",
   "id": "e536362e-bd8d-4c01-8aa5-9df1f24883b3",
   "metadata": {
    "slideshow": {
     "slide_type": "skip"
    }
   },
   "source": [
    "# <font color='red'>Задание 1.</font>\n",
    "\n",
    "Реализовать алгоритмы Гаусса и Гарнера. Сравнить скорость вычислений. Посчитать количество арифметических операций. Какие из данных алгоритмов являются полиномиальными?"
   ]
  },
  {
   "cell_type": "markdown",
   "id": "cbaff349-31bd-45ef-bb9d-6119a67c895e",
   "metadata": {},
   "source": [
    "## Реализация"
   ]
  },
  {
   "cell_type": "code",
   "execution_count": 5,
   "id": "b4cc5dc3-35a4-430c-b49a-9f6a20319792",
   "metadata": {},
   "outputs": [],
   "source": [
    "import functools\n",
    "\n",
    "def gauss(n, b):\n",
    "    k = functools.reduce(lambda a, b : a * b, n) # k вместо n в реализации\n",
    "    N = [k // k_i for k_i in n]\n",
    "    tpl_N_n = zip(N, n)\n",
    "    C = [pow(el[0], -1, el[1]) for el in tpl_N_n]\n",
    "    tpl_b_N_C = zip(b, N, C)\n",
    "    x_0 = sum([el[0] * el[1] * el[2] for el in tpl_b_N_C])\n",
    "    return x_0"
   ]
  },
  {
   "cell_type": "code",
   "execution_count": 6,
   "id": "aabae32e-d901-4379-9494-c37a23e6d349",
   "metadata": {},
   "outputs": [],
   "source": [
    "def garner(n, b):\n",
    "    N = 1\n",
    "    x = b[0]\n",
    "    k = len(n)\n",
    "    for i in range(1, k):\n",
    "        N = N * n[i - 1]\n",
    "        C = pow(N, -1, n[i]) % n[i]\n",
    "        y = (C * (b[i] - x)) % n[i]\n",
    "        x = N * y + x\n",
    "    return x"
   ]
  },
  {
   "cell_type": "markdown",
   "id": "ec7c131c-62ee-443d-ae63-d5c3d53e6549",
   "metadata": {
    "tags": []
   },
   "source": [
    "## Проверяю алгоритм Гаусса"
   ]
  },
  {
   "cell_type": "code",
   "execution_count": 7,
   "id": "b7c7c1a6-49fc-43d2-92d3-6f07a8192990",
   "metadata": {},
   "outputs": [
    {
     "name": "stdout",
     "output_type": "stream",
     "text": [
      "x = 1521\n"
     ]
    }
   ],
   "source": [
    "ni = [5, 7, 11]\n",
    "bi = [1, 2, 3]\n",
    "\n",
    "x = gauss(ni, bi)\n",
    "\n",
    "print('x =', x)"
   ]
  },
  {
   "cell_type": "markdown",
   "id": "dd3d6a72-bf5e-43b8-8473-791c2115d107",
   "metadata": {},
   "source": [
    "У меня неправильно реализован расширенный алгоритм Евклида."
   ]
  },
  {
   "cell_type": "code",
   "execution_count": 8,
   "id": "c645a50c-6c32-4661-b2b0-a057e11ec8ed",
   "metadata": {},
   "outputs": [
    {
     "data": {
      "text/plain": [
       "(3, -2)"
      ]
     },
     "execution_count": 8,
     "metadata": {},
     "output_type": "execute_result"
    }
   ],
   "source": [
    "pow(77, -1, 5), reverse_elem(77, 5)"
   ]
  },
  {
   "cell_type": "code",
   "execution_count": 9,
   "id": "16e22525-5a73-4c9e-84b0-37e50dc47917",
   "metadata": {},
   "outputs": [
    {
     "data": {
      "text/plain": [
       "(6, -1)"
      ]
     },
     "execution_count": 9,
     "metadata": {},
     "output_type": "execute_result"
    }
   ],
   "source": [
    "pow(55, -1, 7), reverse_elem(55, 7)"
   ]
  },
  {
   "cell_type": "code",
   "execution_count": 10,
   "id": "7d7f7f9a-93c0-4981-a0c0-ee23c7a5e592",
   "metadata": {},
   "outputs": [
    {
     "data": {
      "text/plain": [
       "(6, -5)"
      ]
     },
     "execution_count": 10,
     "metadata": {},
     "output_type": "execute_result"
    }
   ],
   "source": [
    "pow(35, -1, 11), reverse_elem(35, 11)"
   ]
  },
  {
   "cell_type": "markdown",
   "id": "069d0aaf-0e04-4cd1-be38-b96ed4b1b646",
   "metadata": {},
   "source": [
    "Проверил вручную"
   ]
  },
  {
   "cell_type": "code",
   "execution_count": 11,
   "id": "f92f388c-0dd1-4c18-a8bb-c1fda1e0f162",
   "metadata": {},
   "outputs": [],
   "source": [
    "res = 77*3+55*2*6+3*35*6"
   ]
  },
  {
   "cell_type": "code",
   "execution_count": 12,
   "id": "c43e0a0a-f704-4111-837f-29764bcc21d1",
   "metadata": {},
   "outputs": [
    {
     "data": {
      "text/plain": [
       "True"
      ]
     },
     "execution_count": 12,
     "metadata": {},
     "output_type": "execute_result"
    }
   ],
   "source": [
    "[x % i for i in ni] == bi"
   ]
  },
  {
   "cell_type": "markdown",
   "id": "1e0aed15-9bea-40b5-b65a-343e996c6be6",
   "metadata": {},
   "source": [
    "Другие примеры:"
   ]
  },
  {
   "cell_type": "code",
   "execution_count": 13,
   "id": "5652b251-f082-45cd-8ef4-7a1d015e27e2",
   "metadata": {},
   "outputs": [
    {
     "name": "stdout",
     "output_type": "stream",
     "text": [
      "x = 52640230\n"
     ]
    }
   ],
   "source": [
    "n1 = [99, 97, 95]\n",
    "b1 = [49, 76, 65]\n",
    "\n",
    "x = gauss(n1, b1)\n",
    "\n",
    "print('x =', x)"
   ]
  },
  {
   "cell_type": "code",
   "execution_count": 14,
   "id": "dc5fe858-06dc-4923-ba31-6b54025d9139",
   "metadata": {},
   "outputs": [
    {
     "data": {
      "text/plain": [
       "True"
      ]
     },
     "execution_count": 14,
     "metadata": {},
     "output_type": "execute_result"
    }
   ],
   "source": [
    "[x % i for i in n1] == b1"
   ]
  },
  {
   "cell_type": "code",
   "execution_count": 15,
   "id": "1e33961e-5b1f-4a47-8560-44a8c2cb7f13",
   "metadata": {},
   "outputs": [
    {
     "name": "stdout",
     "output_type": "stream",
     "text": [
      "x = 52640230\n"
     ]
    }
   ],
   "source": [
    "n2 = [12, 6, 17]\n",
    "b2 = [3, 4, 2]\n",
    "\n",
    "x = gauss(n1, b1)\n",
    "\n",
    "print('x =', x)"
   ]
  },
  {
   "cell_type": "markdown",
   "id": "ca07c8a5-a63e-4280-bcc1-02c6012e626e",
   "metadata": {
    "tags": []
   },
   "source": [
    "## Проверяю алгоритм Гарнера"
   ]
  },
  {
   "cell_type": "code",
   "execution_count": 16,
   "id": "a5c274fc-4179-4cb8-a772-cc2bcb573120",
   "metadata": {},
   "outputs": [
    {
     "name": "stdout",
     "output_type": "stream",
     "text": [
      "x = 366\n"
     ]
    }
   ],
   "source": [
    "ni = [5, 7, 11]\n",
    "bi = [1, 2, 3]\n",
    "\n",
    "x = garner(ni, bi)\n",
    "\n",
    "print('x =', x)"
   ]
  },
  {
   "cell_type": "code",
   "execution_count": 17,
   "id": "d56f11da-8cb5-410e-91cb-117fa1c90896",
   "metadata": {},
   "outputs": [
    {
     "data": {
      "text/plain": [
       "True"
      ]
     },
     "execution_count": 17,
     "metadata": {},
     "output_type": "execute_result"
    }
   ],
   "source": [
    "[x % i for i in ni] == bi"
   ]
  },
  {
   "cell_type": "code",
   "execution_count": 18,
   "id": "8953ae1d-c939-4905-886c-32c8c36c7f3c",
   "metadata": {},
   "outputs": [
    {
     "name": "stdout",
     "output_type": "stream",
     "text": [
      "x = 639985\n"
     ]
    }
   ],
   "source": [
    "n1 = [99, 97, 95]\n",
    "b1 = [49, 76, 65]\n",
    "\n",
    "x = garner(n1, b1)\n",
    "\n",
    "print('x =', x)"
   ]
  },
  {
   "cell_type": "code",
   "execution_count": 19,
   "id": "27e18ccc-811a-4294-838e-65a6f935253b",
   "metadata": {},
   "outputs": [
    {
     "data": {
      "text/plain": [
       "True"
      ]
     },
     "execution_count": 19,
     "metadata": {},
     "output_type": "execute_result"
    }
   ],
   "source": [
    "[x % i for i in n1] == b1"
   ]
  },
  {
   "cell_type": "code",
   "execution_count": 20,
   "id": "3d37e1bf-0bc6-45e3-ab42-1a49ba79f172",
   "metadata": {},
   "outputs": [
    {
     "name": "stdout",
     "output_type": "stream",
     "text": [
      "x = 639985\n"
     ]
    }
   ],
   "source": [
    "n2 = [12, 6, 17]\n",
    "b2 = [3, 4, 2]\n",
    "\n",
    "x = garner(n1, b1)\n",
    "\n",
    "print('x =', x)"
   ]
  },
  {
   "cell_type": "markdown",
   "id": "8e6a7170-6d52-4cf0-9fc4-0d7d0ac2c0c7",
   "metadata": {},
   "source": [
    "## Сравнение скорости вычислений"
   ]
  },
  {
   "cell_type": "code",
   "execution_count": 30,
   "id": "139e787f-87b2-4ebe-a2ac-2dc898fb8d14",
   "metadata": {},
   "outputs": [],
   "source": [
    "import time\n",
    "import sympy as smp\n",
    "\n",
    "n3 = list(smp.primerange(2, 200000))\n",
    "b3 = range(1, len(n3) + 1)"
   ]
  },
  {
   "cell_type": "code",
   "execution_count": 31,
   "id": "1c4e187d-2a7b-44af-9b95-205ca18f11e4",
   "metadata": {},
   "outputs": [
    {
     "data": {
      "text/plain": [
       "17984"
      ]
     },
     "execution_count": 31,
     "metadata": {},
     "output_type": "execute_result"
    }
   ],
   "source": [
    "# Если возьму primerange(2, 1000000), то получится система из 78498 уравнений, компьютер зависает\n",
    "len(n3)"
   ]
  },
  {
   "cell_type": "code",
   "execution_count": 32,
   "id": "852da38f-4203-4462-8766-40a0489f7523",
   "metadata": {},
   "outputs": [
    {
     "name": "stdout",
     "output_type": "stream",
     "text": [
      "Gauss:\n",
      "27.966967344284058 \n",
      "\n",
      "Garner:\n",
      "4.71614933013916 \n",
      "\n"
     ]
    }
   ],
   "source": [
    "print('Gauss:')\n",
    "st = time.time()\n",
    "gauss(n3, b3)\n",
    "print(time.time() - st, '\\n')\n",
    "\n",
    "print('Garner:')\n",
    "st = time.time()\n",
    "garner(n3, b3)\n",
    "print(time.time() - st, '\\n')"
   ]
  },
  {
   "cell_type": "markdown",
   "id": "a1c63609-c164-4c47-a15e-79f1b6bddf45",
   "metadata": {},
   "source": [
    "## Подсчет количества операций"
   ]
  },
  {
   "cell_type": "markdown",
   "id": "7e246da2-e5b9-49b8-9cab-81c7ce0ec69f",
   "metadata": {},
   "source": [
    "### Алгоритм Гаусса"
   ]
  },
  {
   "cell_type": "markdown",
   "id": "2b0b214f-fc7e-4060-b3b4-e7139e25c080",
   "metadata": {
    "jp-MarkdownHeadingCollapsed": true,
    "slideshow": {
     "slide_type": "slide"
    },
    "tags": []
   },
   "source": [
    "Для подсчета ${n=n_1\\dots n_k}$: $\\quad k - 1$ операций умножения.\n",
    "\n",
    "Для подсчета ${N_i=\\frac{n}{n_i}}$: $\\quad k$ операций, плюс одна операция сложения.\n",
    "\n",
    "Для подсчета суммы $ \\sum\\limits_{i=1}^{k} b_i N_i C_i $: $\\quad (k - 1) * 2 * k $ операций, где $(k - 1)$ операций сложения, $2$ операции умножения и $k$ операций для подсчета $N_i$.\n",
    "Поэтому $$f\\left( n, b \\right) = 2k(k-1)$$"
   ]
  },
  {
   "cell_type": "markdown",
   "id": "3b7e21b2-0a11-4b14-a034-7830b608781e",
   "metadata": {},
   "source": [
    "### Алгоритм Гарнера"
   ]
  },
  {
   "cell_type": "markdown",
   "id": "ed3f1c9a-a478-4290-b98c-8e00d4c17c77",
   "metadata": {},
   "source": [
    "В алгоритме всего $k - 1$ итерация в цикле, на каждой итерации выполняется $7$ операций: $3$ умножения, $2$ взятия остатка, сложение, вычитание. Таким образом $$f(n, b) = 7(k - 1)$$"
   ]
  },
  {
   "cell_type": "markdown",
   "id": "a41b622e-00ab-4098-ab2b-6acd43d64808",
   "metadata": {},
   "source": [
    "Предположу, что алгоритм Гарнера полиномиален."
   ]
  },
  {
   "cell_type": "markdown",
   "id": "e2be1683-cf7a-4e2a-8e77-68fec46c1613",
   "metadata": {
    "slideshow": {
     "slide_type": "-"
    }
   },
   "source": [
    "# <font color='red'>Задание 2.</font>\n",
    "\n",
    "Доказать, что множество квадратичных вычетов по модулю $p$ образует мультипликативную группу."
   ]
  },
  {
   "cell_type": "markdown",
   "id": "f78bef75-b84a-4a9c-8f85-e93b3fb1f2d1",
   "metadata": {},
   "source": [
    "## Теория"
   ]
  },
  {
   "cell_type": "markdown",
   "id": "6f32cfaa-0839-442a-b0ea-6287a3887786",
   "metadata": {},
   "source": [
    "Пусть $X$ есть непустое множество. Бинарной алгебраической операцией на множестве $X$ называется всякое отображение типа $\\tau: X \\times X \\rightarrow X$, то есть всякое правило, которое всякой паре элементов $(a, b)$ ставит в соответствие какой-то  элемент из $X$."
   ]
  },
  {
   "cell_type": "markdown",
   "id": "c5aa2d1c-1965-4c82-82ca-4940cf313942",
   "metadata": {},
   "source": [
    "Непустое множество $G$ с бинарной операцией $*$ называется группой, если:\n",
    "\n",
    "1) операция $*$ ассоциативна;\n",
    "2) $\\exists$ нейтральный элемент $e \\in G$;\n",
    "3) $\\forall \\; a \\in G \\; \\exists$ симметричный элемент $b \\in G$.\n",
    "\n",
    "Если дополнительно\n",
    "\n",
    "4) $\\forall \\; a, b \\in G \\; \\; a * b = b * a$, то группа называется абелевой."
   ]
  },
  {
   "cell_type": "markdown",
   "id": "4c57ac38-670e-4d0d-b074-1c033b37d149",
   "metadata": {},
   "source": [
    "Кольцом называется непустое множество $K$, на котором заданы две бинарные операции $+, *$ такие, что:\n",
    "\n",
    "1) $(K, +)$ есть абелева группа;\n",
    "2) $a (b + c) = ab + ac$ и $(a + b)c = ac + bc \\forall \\; \\; a, b, c \\in K$. Свойства дистрибутивности."
   ]
  },
  {
   "cell_type": "markdown",
   "id": "b3e2637a-5ab5-40c2-b324-21f610aaf132",
   "metadata": {},
   "source": [
    "Если операция $*$ ассоциативна, то соотвествующее кольцо называется ассоциативным.\n",
    "\n",
    "Если в кольце $\\exists \\; \\; 1$, то его называют унитарным.\n",
    "\n",
    "Пусть $K$ есть ассоциативное унитарное кольцо. $K^*$ есть множество обратимых элементов в $K$. $K^*$ является группой относительно операции $*$ и $$\\left( ab \\right)^{-1} = b^{-1} a^{-1}$$\n",
    "Эта группа называется мультипликативной группой кольца $K$."
   ]
  },
  {
   "cell_type": "markdown",
   "id": "f932925f-40dd-4ac7-a74a-e4eff6e8b139",
   "metadata": {},
   "source": [
    "## Доказательство"
   ]
  },
  {
   "cell_type": "markdown",
   "id": "0fd0e3c7-cead-4c48-b036-6e63b4a7f1ce",
   "metadata": {
    "slideshow": {
     "slide_type": "slide"
    }
   },
   "source": [
    "По определение из лекции:\n",
    "\n",
    "Пусть задано натуральное нечетное число $n,$  $a\\in\\mathbb{Z}_n^*.$ Вычет $a$ называется <font color=blue>квадратичным вычетом</font> по\n",
    "    модулю $n,$ если уравнение\n",
    "$$\n",
    "      x^2\\equiv a\\mod n\\qquad(3)\n",
    "$$\n",
    "имеет решение. В противном случае $a$ называется <font color=blue>квадратичным невычетом</font> по модулю $n.$ Множество всех вычетов обозначим через $Q_n.$ Множество квадратичных невычетов через $\\overline{Q}_n.$\n",
    "\n",
    "Важно отсюда выделить, что $a\\in\\mathbb{Z}_n^*.$ То есть это такой элемент, что он находится в множестве $\\mathbb{Z}_n^*$. А это может быть только в том случае, если у элемента $a$ есть обратный. В кольце вычетов обратный элемент может быть только у простых чисел."
   ]
  },
  {
   "attachments": {
    "0e97728a-3229-4500-aa07-c18dbc1706b1.png": {
     "image/png": "[encoded data removed]"
    }
   },
   "cell_type": "markdown",
   "id": "5c9b70e9-3a82-4eb3-aa9a-38006fe4b573",
   "metadata": {},
   "source": [
    "![image.png](attachment:0e97728a-3229-4500-aa07-c18dbc1706b1.png)"
   ]
  },
  {
   "cell_type": "code",
   "execution_count": null,
   "id": "dcfa931f-54a8-4361-b92b-c16973060cd8",
   "metadata": {},
   "outputs": [],
   "source": []
  }
 ],
 "metadata": {
  "kernelspec": {
   "display_name": "Python 3 (ipykernel)",
   "language": "python",
   "name": "python3"
  },
  "language_info": {
   "codemirror_mode": {
    "name": "ipython",
    "version": 3
   },
   "file_extension": ".py",
   "mimetype": "text/x-python",
   "name": "python",
   "nbconvert_exporter": "python",
   "pygments_lexer": "ipython3",
   "version": "3.11.1"
  }
 },
 "nbformat": 4,
 "nbformat_minor": 5
}
