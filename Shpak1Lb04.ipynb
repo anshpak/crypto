{
 "cells": [
  {
   "cell_type": "markdown",
   "id": "f99b9955-ec63-4449-8d3a-87a4b72a5973",
   "metadata": {},
   "source": [
    "# Лабораторная работа 4\n",
    "# Тема 4. Алгебраические уравнения в кольце вычетов"
   ]
  },
  {
   "cell_type": "markdown",
   "id": "266df43a-6e54-4c09-817e-4543e38393ff",
   "metadata": {},
   "source": [
    "# Теоретические сведения и подсказки"
   ]
  },
  {
   "cell_type": "markdown",
   "id": "24e04f5f-fc17-41b8-9a73-0e1a6f15a6a9",
   "metadata": {},
   "source": [
    "Пример уравнения первой степени:"
   ]
  },
  {
   "cell_type": "code",
   "execution_count": 27,
   "id": "df247f9b-f04f-46ad-80ca-274c85ef88af",
   "metadata": {},
   "outputs": [
    {
     "data": {
      "text/plain": [
       "[True, True, True]"
      ]
     },
     "execution_count": 27,
     "metadata": {},
     "output_type": "execute_result"
    }
   ],
   "source": [
    "x = 4, 7, 10\n",
    "n = 3\n",
    "a = 7\n",
    "b = 13\n",
    "[(a * i) % n == b % n for i in x]"
   ]
  },
  {
   "cell_type": "markdown",
   "id": "5eb6c2ca-4830-49bd-a53a-1e680a01b3b5",
   "metadata": {},
   "source": [
    "Реализация поиска обратного элемента из первой лабораторной:"
   ]
  },
  {
   "cell_type": "code",
   "execution_count": 28,
   "id": "1fb284bd-9bcd-4e0f-835b-a6c6130c5012",
   "metadata": {},
   "outputs": [],
   "source": [
    "def reverse_elem(a, b):\n",
    "    if a == b - 1:\n",
    "        return a % b\n",
    "    a_copy = a\n",
    "    b_copy = b\n",
    "    m11, m12 = 1, 0\n",
    "    m21, m22 = 0, 1\n",
    "    while b:\n",
    "        q = a // b\n",
    "        a, b = b, a % b\n",
    "        m11, m12 = m12, m11 - m12*q\n",
    "        m21, m22 = m22, m21 - m22*q\n",
    "    gcd = m11 * a_copy + m21 * b_copy\n",
    "    if gcd == 1:\n",
    "        return m11\n",
    "    else:\n",
    "        raise ValueError('base is not invertible for the given modulus')"
   ]
  },
  {
   "cell_type": "code",
   "execution_count": 31,
   "id": "78d331d3-662f-443e-880c-9d65a37fb94e",
   "metadata": {},
   "outputs": [
    {
     "data": {
      "text/plain": [
       "True"
      ]
     },
     "execution_count": 31,
     "metadata": {},
     "output_type": "execute_result"
    }
   ],
   "source": [
    "reverse_elem(a, n) == pow(a, -1, n)"
   ]
  },
  {
   "cell_type": "markdown",
   "id": "fecea7c7-8418-4f55-90f6-1783e0677624",
   "metadata": {},
   "source": [
    "И тогда решение уравнения:"
   ]
  },
  {
   "cell_type": "code",
   "execution_count": 33,
   "id": "965b8e08-81d7-4861-8f8c-3c4c0e970df3",
   "metadata": {},
   "outputs": [
    {
     "data": {
      "text/plain": [
       "True"
      ]
     },
     "execution_count": 33,
     "metadata": {},
     "output_type": "execute_result"
    }
   ],
   "source": [
    "res = reverse_elem(a, n) * b\n",
    "res % n == b % n"
   ]
  },
  {
   "cell_type": "markdown",
   "id": "e24e9f7a-a86b-4455-9ef4-f74f0811bcba",
   "metadata": {},
   "source": [
    "# Задачи"
   ]
  },
  {
   "cell_type": "markdown",
   "id": "e536362e-bd8d-4c01-8aa5-9df1f24883b3",
   "metadata": {
    "slideshow": {
     "slide_type": "skip"
    }
   },
   "source": [
    "# <font color='red'>Задание 1.</font>\n",
    "\n",
    "Реализовать алгоритмы Гаусса и Гарнера. Сравнить скорость вычислений. Посчитать количество арифметических операций. Какие из данных алгоритмов являются полиномиальными?"
   ]
  },
  {
   "cell_type": "markdown",
   "id": "cbaff349-31bd-45ef-bb9d-6119a67c895e",
   "metadata": {},
   "source": [
    "## Реализация"
   ]
  },
  {
   "cell_type": "markdown",
   "id": "579fed3c-7e9b-41d8-b6c4-e996bd5d8917",
   "metadata": {},
   "source": []
  },
  {
   "cell_type": "code",
   "execution_count": null,
   "id": "c645a50c-6c32-4661-b2b0-a057e11ec8ed",
   "metadata": {},
   "outputs": [],
   "source": []
  }
 ],
 "metadata": {
  "kernelspec": {
   "display_name": "Python 3 (ipykernel)",
   "language": "python",
   "name": "python3"
  },
  "language_info": {
   "codemirror_mode": {
    "name": "ipython",
    "version": 3
   },
   "file_extension": ".py",
   "mimetype": "text/x-python",
   "name": "python",
   "nbconvert_exporter": "python",
   "pygments_lexer": "ipython3",
   "version": "3.11.1"
  }
 },
 "nbformat": 4,
 "nbformat_minor": 5
}
