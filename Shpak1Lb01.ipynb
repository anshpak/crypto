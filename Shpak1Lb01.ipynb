{
 "cells": [
  {
   "cell_type": "markdown",
   "id": "e6be35af-7cb5-4d75-a4d7-baeb4bc4812b",
   "metadata": {},
   "source": [
    "# Лабораторная работа 1\n",
    "## Тема 1. Эффективные инструменты в кольце классов вычетов"
   ]
  },
  {
   "cell_type": "markdown",
   "id": "63bebf35-d971-4210-a67a-7a773dd21ea9",
   "metadata": {},
   "source": [
    "Шпак Андрей, 15.09.2022"
   ]
  },
  {
   "cell_type": "markdown",
   "id": "b9fe4910-1f04-44bd-ab63-4feb974daa6a",
   "metadata": {},
   "source": [
    "# Теория\n",
    "# 1. Кольцо вычетов\n",
    "Пусть задано натуральное число $m.$\n",
    "\n",
    "Если два целых числа $a$ и $b$ при делении на $m$ дают одинаковые остатки, то они называются *сравнимыми*  по модулю $m$\n",
    "$$a \\equiv b \\mod m.$$\n",
    "\n",
    "## Свойство сравнимости по модулю\n",
    "$\\textbf{Рефлексивность}$\n",
    "\n",
    "$ \\forall a \\in \\mathbb{Z} \\quad(a \\equiv a \\mod m).$\n",
    "\n",
    "$\\textbf{Симметричность}$\n",
    "\n",
    "Если $\\quad a\\equiv b \\mod m,\\quad$ то  $\\quad b\\equiv a \\mod m.$\n",
    "\n",
    "$\\textbf{Транзитивность}$\n",
    "\n",
    "Если $\\quad a\\equiv b \\mod m\\quad$ и  $\\quad b\\equiv c \\mod m,\\quad$ то  $\\quad a\\equiv c \\mod m.$\n",
    "\n",
    "Таким образом, отношение сравнения по модулю $m$ является **отношением эквивалентности** на множестве целых чисел.\n",
    "Отношение эквивалентности $\\equiv$ разбивает множество целых чисел на классы\n",
    "$$\\mathbb{Z}_m:=\\{\\bar 0, \\bar 1, \\bar 2, \\dots, \\overline {m-1} \\}.$$"
   ]
  },
  {
   "cell_type": "markdown",
   "id": "2d98baa7-434c-4c93-82ce-277456caafe4",
   "metadata": {},
   "source": [
    " ## Представитель класса вычетов\n",
    " Например, класс $\\bar 1$ состоит из чисел, имеющих остаток от деления на $n,$ равный 1. В него входят такие целые числа как\n",
    " $$1,\\;1+n,\\; 1+2n,\\; 1-n,\\; \\dots$$\n",
    " Числа класса $\\bar 1$ можно задать формулой\n",
    " $$ 1+kn,\\qquad k\\in\\mathbb{Z}.$$\n",
    " \n",
    " При моделировании множества $\\mathbb{Z}_n$ на компьютере каждый класс вычетов представляют одним из его представителей, как правило это остатки от деления на $n$\n",
    " $$ \n",
    "   0,1,2,\\dots, n-1.\n",
    " $$\n",
    " \n",
    " В Python для этого есть оператор **%** (`__mod__`)  вычисления остатка от деления"
   ]
  },
  {
   "cell_type": "code",
   "execution_count": 1,
   "id": "9d3debe1-53ec-48b8-adbf-06c8e0fd9344",
   "metadata": {},
   "outputs": [
    {
     "data": {
      "text/plain": [
       "80"
      ]
     },
     "execution_count": 1,
     "metadata": {},
     "output_type": "execute_result"
    }
   ],
   "source": [
    "m = 131\n",
    "a = 11122233344\n",
    "b = a % m\n",
    "b"
   ]
  },
  {
   "cell_type": "markdown",
   "id": "e5c295a3-34b2-4bae-b27a-2b1b0936422d",
   "metadata": {},
   "source": [
    "Замена числа $a$ на меньшего представителя $b$ класса вычетов позволяет экономить время при выполнении операций над $a.$\n"
   ]
  },
  {
   "cell_type": "markdown",
   "id": "0a4444f1-81eb-4546-b23b-5de14c3e3736",
   "metadata": {},
   "source": [
    "## Кольцо\n",
    "\n",
    "1. $(R,+)$ - абелева группа:  \n",
    "    1.1. Коммутативность сложения  \n",
    "    $\\qquad\\qquad\n",
    "      a + b = b + a.\n",
    "    $  \n",
    "    1.2. Ассоциативность сложения  \n",
    "    $\\qquad\\qquad\n",
    "      a + (b + с) = a + (b + c).\n",
    "    $  \n",
    "    1.3. Существование нейтрального элемента относительно сложения  \n",
    "    $\\qquad\\qquad\n",
    "      \\exists0\\in R \\quad(a+0= 0+a = a).\n",
    "    $  \n",
    "    1.4. Существование противоположного элемента относительно сложения  \n",
    "    $\\qquad\\qquad\n",
    "      \\forall a\\in R\\quad\\exists b\\in R \\quad(a+b= b+a = 0).\n",
    "    $\n",
    "2. Ассоциативность умножения      \n",
    "    $\\qquad\\qquad\n",
    "      a * (b * с) = a * (b * c).\n",
    "    $ \n",
    "3. Дистрибутивность    \n",
    "$\\qquad\\qquad\n",
    "  a*(b+c)=a*b+a*c\\quad и\\quad (b+c)*a=b*a+c*a.\n",
    "$"
   ]
  },
  {
   "cell_type": "markdown",
   "id": "e2ea5f82-eefe-4359-8184-11952ce9c0c0",
   "metadata": {},
   "source": [
    "## Кольцо вычетов\n",
    "\n",
    "Сложение и умножение целых чисел естественным образом переносится на множество $\\mathbb{Z}_m$  \n",
    "**Сложение**\n",
    "$$\\bar a + \\bar b := a + b \\mod m.$$\n",
    "\n",
    "**Умножение**\n",
    "$$\\bar a * \\bar b := a * b \\mod m.$$\n",
    "\n",
    "Нетрудно проверить, что $\\mathbb{Z}_m$ - кольцо.\n",
    "\n",
    "Кроме этого $(\\mathbb{Z}_m, +, *)$ удовлетворяет свойствам:  \n",
    "1. Коммутативность умножения\n",
    "    $$\n",
    "      a * b = b * a.\n",
    "    $$  \n",
    "2. Существование нейтрального элемента относительно умножения  \n",
    "    $$\n",
    "      \\exists1 \\in R \\quad(1 * a = a * 1 = a).\n",
    "    $$ "
   ]
  },
  {
   "cell_type": "markdown",
   "id": "f195277d-4d44-43e8-8968-a06fbef8d8f5",
   "metadata": {},
   "source": [
    "## $\\mathbb{Z}_m$ как правило не поле\n",
    "\n",
    "Для того чтобы $\\mathbb{Z}_m$ было полем, ему необходимо свойство:   \n",
    "Существование обратного элемента для ненулевых элементов  \n",
    "$$\n",
    "      \\forall a\\in R\\setminus \\{0\\} \\quad\\exists a^{-1}\\in R \\quad(a*a^{-1}= 1).\n",
    "$$"
   ]
  },
  {
   "cell_type": "markdown",
   "id": "dd7841ca-ad25-4a71-8370-028bce10900e",
   "metadata": {},
   "source": [
    "# 2. Возведение в степень\n",
    "\n",
    "**Наивный алгоритм возведения в степень.**  \n",
    "Вход: $a\\in\\mathbb{Z},\\, d,m\\in\\mathbb{N}.$  \n",
    "Выход: $b\\in\\mathbb{Z},$ $\\qquad (0\\leq b<m,\\quad b\\equiv a^d\\mod m).$  \n",
    "1$.\\;\\; b:=1.$  \n",
    "2$.\\;$ Для $\\quad i:=1,\\dots,d\\quad$ вычисляем  \n",
    "$\\qquad b:=b*a \\mod~m.$  \n",
    "3$.\\;$ Выдаем результат $b.$"
   ]
  },
  {
   "cell_type": "code",
   "execution_count": 2,
   "id": "ce6dbf57-1735-4ebe-b3b9-619c11f45374",
   "metadata": {},
   "outputs": [
    {
     "name": "stdout",
     "output_type": "stream",
     "text": [
      "99\n",
      "99\n"
     ]
    }
   ],
   "source": [
    "m = 131\n",
    "a = 11122233344\n",
    "\n",
    "def NaivePower(a, d, m):\n",
    "    b = 1\n",
    "    for _ in range(d):\n",
    "        b = b*a % m\n",
    "    return b\n",
    "\n",
    "d = 10**5\n",
    "print(NaivePower(a, d, m))\n",
    "print(a**d % m) "
   ]
  },
  {
   "cell_type": "code",
   "execution_count": 3,
   "id": "ef1d1df6-b2f3-41eb-a410-c450a83bceed",
   "metadata": {},
   "outputs": [],
   "source": [
    "def MyPower(a, d):\n",
    "    b = 1\n",
    "    for _ in range(d):\n",
    "        b = b*a\n",
    "    return b"
   ]
  },
  {
   "cell_type": "code",
   "execution_count": 4,
   "id": "3305149d-92da-43cc-8ed1-32a50e101774",
   "metadata": {},
   "outputs": [
    {
     "data": {
      "text/plain": [
       "256"
      ]
     },
     "execution_count": 4,
     "metadata": {},
     "output_type": "execute_result"
    }
   ],
   "source": [
    "MyPower(4, 4)"
   ]
  },
  {
   "cell_type": "markdown",
   "id": "71972651-e0e5-4638-aaad-d5ac3ac43353",
   "metadata": {},
   "source": [
    "Например:\n",
    "$a = 12; \\;$ $d = 3; \\;$ $m = 100$\n",
    "\n",
    "$b = 1$\n",
    "\n",
    "<code>list(range(d))</code> => $[0, 1, 2]$ \n",
    "\n",
    "$i = 0$\n",
    "\n",
    "$b = 1 * 12 \\; \\% \\; 100 \\rightarrow 12$\n",
    "\n",
    "$i = 1$\n",
    "\n",
    "$b = 12 * 12 \\; \\% \\; 100 \\rightarrow 44$\n",
    "\n",
    "$i = 2$\n",
    "\n",
    "$b = 44 * 12 \\; \\% \\; 100 \\rightarrow 28$"
   ]
  },
  {
   "cell_type": "code",
   "execution_count": 5,
   "id": "354faa12-d211-4bd4-8367-ed46d499ed23",
   "metadata": {},
   "outputs": [
    {
     "data": {
      "text/plain": [
       "28"
      ]
     },
     "execution_count": 5,
     "metadata": {},
     "output_type": "execute_result"
    }
   ],
   "source": [
    "NaivePower(12, 3, 100)"
   ]
  },
  {
   "cell_type": "markdown",
   "id": "ab8d53f0-3db9-48fc-810d-03f7c4f13159",
   "metadata": {},
   "source": [
    "## Время работы алгоритма\n",
    "Пусть  $n$ $-$ входные данные алгоритма $A,$   \n",
    " $f(n)$ $-$  количество арифметических операций (сложение, вычитание, умножение, деление, деление нацело, вычисление остатка от деления), необходимых для выполнения всех действий алгоритма $A$ с входными  данными $n.$ \n",
    " \n",
    "На каждой итерации цикла Наивного алгоритма возведения в степень выполняется 2 арифметических операции: умножение и вычисление остатка от деления, поэтому\n",
    "$$\n",
    "  f(a,d,m)=2d.\n",
    "$$"
   ]
  },
  {
   "cell_type": "code",
   "execution_count": 6,
   "id": "67ddf46d-3c7b-4287-bc4f-6d4c7002b704",
   "metadata": {
    "slideshow": {
     "slide_type": "fragment"
    }
   },
   "outputs": [
    {
     "name": "stdout",
     "output_type": "stream",
     "text": [
      "0.24196434020996094\n"
     ]
    }
   ],
   "source": [
    "import time\n",
    "start_time = time.time()\n",
    "NaivePower(a, 10**6, m)\n",
    "print(time.time() - start_time)"
   ]
  },
  {
   "cell_type": "code",
   "execution_count": 7,
   "id": "619e7268-9684-49ab-b229-82353d584f25",
   "metadata": {},
   "outputs": [
    {
     "name": "stdout",
     "output_type": "stream",
     "text": [
      "11.192390203475952\n"
     ]
    }
   ],
   "source": [
    "import time\n",
    "start_time = time.time()\n",
    "MyPower(12, 300000)\n",
    "print(time.time() - start_time)"
   ]
  },
  {
   "cell_type": "code",
   "execution_count": 8,
   "id": "06ba0286-1180-4a25-8d1f-9c5cf46ad8c0",
   "metadata": {
    "slideshow": {
     "slide_type": "fragment"
    }
   },
   "outputs": [
    {
     "name": "stdout",
     "output_type": "stream",
     "text": [
      "11.625706434249878\n"
     ]
    }
   ],
   "source": [
    "import time\n",
    "start_time = time.time()\n",
    "NaivePower(12, 300000, 10**1000000)\n",
    "print(time.time() - start_time)"
   ]
  },
  {
   "cell_type": "code",
   "execution_count": 9,
   "id": "cc459a97-885a-4cf1-b976-7db6ef2f5f85",
   "metadata": {},
   "outputs": [
    {
     "data": {
      "text/plain": [
       "True"
      ]
     },
     "execution_count": 9,
     "metadata": {},
     "output_type": "execute_result"
    }
   ],
   "source": [
    "12**300000 < 10**1000000"
   ]
  },
  {
   "cell_type": "code",
   "execution_count": 10,
   "id": "994fe14f-f309-47e1-9c99-52be8bf53181",
   "metadata": {
    "slideshow": {
     "slide_type": "fragment"
    }
   },
   "outputs": [
    {
     "name": "stdout",
     "output_type": "stream",
     "text": [
      "14.280054569244385\n"
     ]
    }
   ],
   "source": [
    "start_time = time.time()\n",
    "a**(10**6) % m\n",
    "print(time.time() - start_time)"
   ]
  },
  {
   "cell_type": "code",
   "execution_count": 11,
   "id": "3fe26524-b6d4-413b-99ef-43cfe4c25898",
   "metadata": {},
   "outputs": [
    {
     "data": {
      "text/plain": [
       "80"
      ]
     },
     "execution_count": 11,
     "metadata": {},
     "output_type": "execute_result"
    }
   ],
   "source": [
    "NaivePower(a, 10**6, m)"
   ]
  },
  {
   "cell_type": "code",
   "execution_count": 12,
   "id": "370eaa07-7d13-4a26-80a0-0c74081d4a36",
   "metadata": {},
   "outputs": [
    {
     "data": {
      "text/plain": [
       "80"
      ]
     },
     "execution_count": 12,
     "metadata": {},
     "output_type": "execute_result"
    }
   ],
   "source": [
    "a**(10**6) % m"
   ]
  },
  {
   "cell_type": "code",
   "execution_count": 13,
   "id": "01d5907c-fef7-4e32-9c4b-0786a7a1cbec",
   "metadata": {},
   "outputs": [
    {
     "data": {
      "text/plain": [
       "28"
      ]
     },
     "execution_count": 13,
     "metadata": {},
     "output_type": "execute_result"
    }
   ],
   "source": [
    "NaivePower(12, 3, 100)"
   ]
  },
  {
   "cell_type": "code",
   "execution_count": 14,
   "id": "194e21e7-f42c-4ee0-b55a-02d9195142f8",
   "metadata": {},
   "outputs": [
    {
     "data": {
      "text/plain": [
       "28"
      ]
     },
     "execution_count": 14,
     "metadata": {},
     "output_type": "execute_result"
    }
   ],
   "source": [
    "12**3 % 100"
   ]
  },
  {
   "cell_type": "markdown",
   "id": "e62f2b39-3fe9-491b-b6e8-5c32860432d1",
   "metadata": {},
   "source": [
    "## Быстрое возведение в степень\n",
    "\n",
    "\n",
    "Пусть\n",
    "$$\n",
    "  d = d_02^k+d_12^{k-1}+\\dots+d_{k-1}2+d_k,\\qquad d_0=1.\n",
    "$$  \n",
    "Поэтому\n",
    "$$\n",
    "  a^d=a^{d_02^k}\\times a^{d_12^{k-1}}\\times\\dots\\times a^{d_{k-1}2}\\times a^{d_k}.\n",
    "$$\n",
    "Вычисляя данную формулу \"справа налево\", получаем \n",
    "\n",
    "**Быстрый алгоритм возведения в степень.**  \n",
    "Вход: $a\\in\\mathbb{Z},\\, d,m\\in\\mathbb{N}.$  \n",
    "Выход: $b\\in\\mathbb{Z},$ $\\qquad (0\\leq b<m,\\quad b\\equiv a^d\\mod m).$  \n",
    "1$.\\; b:=1.$  \n",
    "2$.\\;$ Для $\\quad i:=k,k-1,\\dots,0\\quad$ вычисляем  \n",
    "    $\\quad$ 2.1$.\\;$ Если $\\quad d_i=1,\\;$ то $\\quad b:=b*a \\mod m. $   \n",
    "    $\\quad$ 2.2$.\\;$ Вычисляем $a:=a*a \\mod m.$   \n",
    "3$.\\;$ Выдаем результат $b.$"
   ]
  },
  {
   "cell_type": "markdown",
   "id": "28d17a52-c6df-4cd3-a438-a3f68552ef06",
   "metadata": {},
   "source": [
    "Если n - это степень двойки, $n = 2^k$, то для возведения в степень $n$ достаточно число возвести в квадрат $k$ раз, затратив при этом $k$ умножений вместо $2^k$\n",
    "\n",
    "Например:\n",
    "$n = 13 = 1101_2 = 1 * 2^3 + 1 * 2^2 + 0 * 2^1 + 1 * 2^0$\n",
    "\n",
    "$a^n = a^{13} = a^{a^8 + a^4 + a^1}$\n",
    "\n",
    "Количество умножений не проевосходит количество цифр в бинарном разложении числа $n$.\n",
    "\n",
    "Пример ещё один:\n",
    "\n",
    "$a^1 = a$\n",
    "\n",
    "$a^2 = a^1 * a^1$\n",
    "\n",
    "$a^4 = a^2 * a^2$\n",
    "\n",
    "$a^8 = a^4 * a^4$"
   ]
  },
  {
   "cell_type": "code",
   "execution_count": 15,
   "id": "524717cc-5832-469b-aaed-74d6dad14493",
   "metadata": {},
   "outputs": [
    {
     "name": "stdout",
     "output_type": "stream",
     "text": [
      "99\n",
      "99\n",
      "99\n"
     ]
    }
   ],
   "source": [
    "def FastPower(a, d, m):\n",
    "    b = 1\n",
    "    while d>0:\n",
    "        if d & 1:\n",
    "            b = b*a % m\n",
    "        a = a*a % m\n",
    "        d = d >> 1\n",
    "    return b\n",
    "\n",
    "d = 10**5\n",
    "print(NaivePower(a, d, m))\n",
    "print(FastPower(a, d, m))\n",
    "print(a**d % m)"
   ]
  },
  {
   "cell_type": "code",
   "execution_count": 16,
   "id": "9e3238a1-77b0-453f-841f-c2e0a7864c93",
   "metadata": {},
   "outputs": [
    {
     "name": "stdout",
     "output_type": "stream",
     "text": [
      "99\n",
      "99\n",
      "99\n"
     ]
    }
   ],
   "source": [
    "def MyFastPower(a, d, m):\n",
    "    b = 1\n",
    "    res = 1\n",
    "    mult = a\n",
    "    while d:\n",
    "        if d % 2:\n",
    "            res = res * mult % m\n",
    "        mult = mult * mult % m\n",
    "        d = d // 2\n",
    "    return res\n",
    "\n",
    "d = 10**5\n",
    "print(NaivePower(a, d, m))\n",
    "print(MyFastPower(a, d, m))\n",
    "print(a**d % m)"
   ]
  },
  {
   "cell_type": "code",
   "execution_count": 17,
   "id": "5051df40-2663-4d03-875b-a3f53d28f49b",
   "metadata": {},
   "outputs": [
    {
     "data": {
      "text/plain": [
       "0"
      ]
     },
     "execution_count": 17,
     "metadata": {},
     "output_type": "execute_result"
    }
   ],
   "source": [
    "12 >> 1\n",
    "56 & 1"
   ]
  },
  {
   "cell_type": "markdown",
   "id": "ca79f108-f4f8-40a1-b974-fdae4508a5b9",
   "metadata": {
    "slideshow": {
     "slide_type": "subslide"
    }
   },
   "source": [
    "## Количество операций в быстром алгоритме возведения в степень\n",
    "Подсчитаем количество операций, которые выполняет Быстрый алгоритм возведения в степень. Сдвиг влево на 1 бит арифметической операцией считать не будем, поэтому на каждой итерации выполняется 2 или 4 арифметических операции\n",
    "$$\n",
    "  2(k+1)<f(a,d,m)\\leq4(k+1).\n",
    "$$  "
   ]
  },
  {
   "cell_type": "code",
   "execution_count": 18,
   "id": "c866c976-8ec1-4473-845c-df4297a92ba8",
   "metadata": {
    "slideshow": {
     "slide_type": "fragment"
    }
   },
   "outputs": [
    {
     "name": "stdout",
     "output_type": "stream",
     "text": [
      "2.072852611541748\n"
     ]
    }
   ],
   "source": [
    "start_time = time.time()\n",
    "NaivePower(a, 10**7, m)\n",
    "print(time.time() - start_time)"
   ]
  },
  {
   "cell_type": "code",
   "execution_count": 19,
   "id": "2fa52a60-bd09-46bb-989b-a7b3e533da50",
   "metadata": {
    "slideshow": {
     "slide_type": "fragment"
    }
   },
   "outputs": [
    {
     "name": "stdout",
     "output_type": "stream",
     "text": [
      "0.0\n"
     ]
    }
   ],
   "source": [
    "start_time = time.time()\n",
    "FastPower(a, 10**7, m)\n",
    "print(time.time() - start_time)"
   ]
  },
  {
   "cell_type": "code",
   "execution_count": 20,
   "id": "d1b228e5-4b35-463b-8ea0-a8387aa02aba",
   "metadata": {
    "slideshow": {
     "slide_type": "fragment"
    }
   },
   "outputs": [
    {
     "name": "stdout",
     "output_type": "stream",
     "text": [
      "0.0\n"
     ]
    }
   ],
   "source": [
    "start_time = time.time()\n",
    "pow(a, 10**7, m)\n",
    "print(time.time() - start_time)"
   ]
  },
  {
   "cell_type": "code",
   "execution_count": 21,
   "id": "a5def7df-f439-4cc8-aea0-389ac9732293",
   "metadata": {},
   "outputs": [
    {
     "name": "stdout",
     "output_type": "stream",
     "text": [
      "0.0\n"
     ]
    }
   ],
   "source": [
    "start_time = time.time()\n",
    "MyFastPower(a, 10**7, m)\n",
    "print(time.time() - start_time)"
   ]
  },
  {
   "cell_type": "markdown",
   "id": "b320b4b3-f127-492b-9939-3f75d8481f10",
   "metadata": {
    "slideshow": {
     "slide_type": "subslide"
    }
   },
   "source": [
    "## Временная сложность алгоритма\n",
    "Временной сложностью вычисления алгоритма $A$ с входными данными $n$ называется функция \n",
    "$$\n",
    "  T(N):=\\max\\limits_{\\left<n\\right>\\leq N} f(n).\n",
    "$$\n",
    "Здесь $\\left<n\\right>$ $-$ длина входных данных, то есть количество бит, необходимых для записи данных в двоичной системе счисления.\n",
    "Длину целого числа $z$ можно вычислять по формуле  \n",
    "$$\n",
    "  \\left<z\\right>:=\\lceil\\log_2(|z|+1)\\rceil.\n",
    "$$  \n",
    " $\\lceil x\\rceil=Ceiling(x)=math.ceil(x)$ $-$ наименьшее целое, не меньшее $x.$\n",
    "\n",
    "Для натуральных чисел $n$ справедливо равенство\n",
    "$$\n",
    "\\lceil\\log_2(n+1)\\rceil=\\left[\\log_2(n)\\right]+1,\n",
    "$$\n",
    "$[x]=Floor(x)=math.floor(x)$ $-$ наибольшее целое, не превосходящее $x.$"
   ]
  },
  {
   "cell_type": "code",
   "execution_count": 22,
   "id": "0b9cb415-7323-4f4e-b9d7-3203fc71e9d0",
   "metadata": {
    "slideshow": {
     "slide_type": "fragment"
    }
   },
   "outputs": [
    {
     "data": {
      "text/plain": [
       "True"
      ]
     },
     "execution_count": 22,
     "metadata": {},
     "output_type": "execute_result"
    }
   ],
   "source": [
    "import math\n",
    "n = 21\n",
    "math.ceil(math.log(n + 1, 2)) == math.floor(math.log(n, 2) + 1)"
   ]
  },
  {
   "cell_type": "markdown",
   "id": "2283d9c6-246d-4bc1-9404-df140a6d0985",
   "metadata": {
    "slideshow": {
     "slide_type": "subslide"
    }
   },
   "source": [
    "## Полиномиальный алгоритм\n",
    "Алгоритм $A$ с входными данными $n$ называется *полиномиальным*, если его временная сложность $T(N)$ ограничена многочленом $p(N),$ а длина чисел, участвующих в вычислениях алгоритма, ограничена полиномом  $p(\\left<n\\right>).$  \n",
    "\n",
    "Например, алгоритм со временем вычислений $T(N)=C N$ является полиномиальным, и так как сложность является линейной функцией, то и алгоритм называют  *линейным.* "
   ]
  },
  {
   "cell_type": "markdown",
   "id": "7e0d6058-6166-4699-90f9-bc2a5b590706",
   "metadata": {
    "slideshow": {
     "slide_type": "fragment"
    }
   },
   "source": [
    "## Экспоненциальный алгоритм\n",
    "Алгоритм, время выполнения которого имеет вид $T(N)=O\\left(2^{p(N)}\\right),$    $p(N)$ - многочлен степени не ниже первой, и длина чисел, участвующих в промежуточных вычислениях, ограничена многочленом $p(\\left<n\\right>),$  называется *экспоненциальным.* "
   ]
  },
  {
   "cell_type": "markdown",
   "id": "2cad8388-ede5-4a57-8636-065777ce01b1",
   "metadata": {
    "slideshow": {
     "slide_type": "subslide"
    }
   },
   "source": [
    "## Быстрый алгоритм возведения в степень линеен\n",
    "Ранее мы получили оценку для количества арифметических операций алгоритма быстрого возведения в степень\n",
    "$$\n",
    "  2(k+1)<f(a,d,m)\\leq4(k+1).\n",
    "$$\n",
    "Исходя из определения числа $k$\n",
    "$$\n",
    "  d = d_02^k+d_12^{k-1}+\\dots+d_{k-1}2+d_k,\\qquad d_0=1.\n",
    "$$ \n",
    "следует справедливость равенства\n",
    "$$\n",
    "  \\left<d\\right>=k+1.\n",
    "$$\n",
    "Поэтому\n",
    "$$\n",
    "  T(N):=\\max\\limits_{\\left<a,d,m\\right>\\leq N} f(a,d,m)\\leq \\max\\limits_{\\left<a,d,m\\right>\\leq N}4\\left<d\\right><4N.\n",
    "$$\n",
    "  "
   ]
  },
  {
   "cell_type": "markdown",
   "id": "16d7ae10-895b-4547-88f3-a72300088a41",
   "metadata": {
    "slideshow": {
     "slide_type": "subslide"
    }
   },
   "source": [
    "## Наивный алгоритм возведения в степень экспоненциален\n",
    "Ранее мы вычислили количество арифметических операций Наивного алгоритма возведения в степень\n",
    "$\n",
    "  f(a,d,m)=2d.\n",
    "$\n",
    "\n",
    "Для степени \n",
    "$$\n",
    "  d = d_02^k+d_12^{k-1}+\\dots+d_{k-1}2+d_k,\\qquad d_0=1,\n",
    "$$  \n",
    "cправедлива оценка\n",
    "$\\quad\n",
    "  2^{\\left<d\\right>-1}=2^k\\leq d<2^{k+1}=2^\\left<d\\right>.  \n",
    "$\n",
    "\n",
    "Поэтому\n",
    "$$\n",
    "  T(N):=\\max\\limits_{\\left<a,d,m\\right>\\leq N} f(a,d,m)< 2^{\\left<d\\right>+1}<2^N\n",
    "$$\n",
    "и алгоритм является экспоненциальным.\n",
    "\n",
    "С другой стороны мы можем подобрать такие начальные данные алгоритма, что $\\left<d\\right>>\\frac N2,$ поэтому  \n",
    "$$\n",
    "  T(N):=\\max\\limits_{\\left<a,d,m\\right>\\leq N} 2d\\geq2* 2^{\\left<d\\right>-1}=2^{\\left<d\\right>}>2^{N/2}\n",
    "$$\n",
    "и алгоритм не является полиномиальным."
   ]
  },
  {
   "cell_type": "markdown",
   "id": "ae627065-7d58-4414-b1d8-dc5c9c1fbf41",
   "metadata": {
    "slideshow": {
     "slide_type": "subslide"
    }
   },
   "source": [
    "## Быстрое возведение в степень \"слева направо\"\n",
    "\n",
    "\n",
    "Пусть\n",
    "$$\n",
    "  d = d_02^k+d_12^{k-1}+\\dots+d_{k-1}2+d_k,\\qquad d_0=1.\n",
    "$$  \n",
    "Поэтому\n",
    "$$\n",
    "  a^d=a^{(\\dots((2d_0+d_1)2+d_2)2+\\dots+d_{k-1})2+d_k}.\n",
    "$$\n",
    "Вычисляя данную формулу \"слева направо\", получаем \n",
    "\n",
    "**Быстрый алгоритм возведения в степень \"слева направо\".**  \n",
    "Вход: $a\\in\\mathbb{Z},\\, d,m\\in\\mathbb{N}.$  \n",
    "Выход: $b\\in\\mathbb{Z},$ $\\qquad (0\\leq b<m,\\quad b\\equiv a^d\\mod m).$  \n",
    "1$.\\;\\; b:=a.$  \n",
    "2$.\\;$ Для $\\quad i:=1,2,\\dots,k\\quad$ вычисляем  \n",
    "    $\\qquad\\quad b:=b^2a^{d_i} \\mod m.$   \n",
    "3$.\\;$ Выдаем результат $b.$"
   ]
  },
  {
   "cell_type": "markdown",
   "id": "5b17c342-f351-4644-bef4-b250679cd344",
   "metadata": {
    "slideshow": {
     "slide_type": "subslide"
    }
   },
   "source": [
    "# <font color='red'>Задание 1.</font>\n",
    "\n",
    "Реализовать Быстрый алгоритм возведения в степень \"слева направо\". Оценить количество арифметических операций. Оценить временную сложность алгоритма. Является ли он полиномиальным? Сравнить фактическое время вычисления с функциями FastPower и pow."
   ]
  },
  {
   "cell_type": "markdown",
   "id": "6cb7ec12-f71a-4f7d-a42e-c6c9c9ee65bb",
   "metadata": {},
   "source": [
    "## Реализация быстрого алгоритма возведения в степень \"слева направо\":"
   ]
  },
  {
   "cell_type": "code",
   "execution_count": 56,
   "id": "04938c27-5697-4a4c-9964-4c43dc689be6",
   "metadata": {},
   "outputs": [],
   "source": [
    "def FakeFastPower(a, d, m):\n",
    "    b = a\n",
    "    i = d\n",
    "    ln = len(bin(d)) - 3\n",
    "    j = 1\n",
    "    while i > 1:\n",
    "        b = (b ** 2) * (a ** (d >> (ln - j) & 1)) % m\n",
    "        i = i >> 1\n",
    "        j += 1\n",
    "    return b\n",
    "\n",
    "def NewFastPower(a, d, m):\n",
    "    b = a\n",
    "    bin_lst = [int(i) for i in bin(d)[3:]]\n",
    "    for elem in bin_lst:\n",
    "        b = (b ** 2) * (a ** elem) % m\n",
    "    return b\n",
    "\n",
    "# если я учитываю, что a - целое и, что есть проблема с единицей, то\n",
    "# def NewFastPower(a, d, m):\n",
    "#     b = abs(a)\n",
    "#     if d == 1:\n",
    "#         return b % m\n",
    "#     bin_lst = [int(i) for i in bin(d)[3:]]\n",
    "#     for elem in bin_lst:\n",
    "#         b = (b ** 2) * (a ** elem) % m\n",
    "#     return b"
   ]
  },
  {
   "cell_type": "code",
   "execution_count": 57,
   "id": "bae4bbc2-53bb-4934-b67f-877e2fb877cf",
   "metadata": {
    "tags": []
   },
   "outputs": [
    {
     "name": "stdout",
     "output_type": "stream",
     "text": [
      "0b101101011001\n"
     ]
    },
    {
     "data": {
      "text/plain": [
       "'01101011001'"
      ]
     },
     "execution_count": 57,
     "metadata": {},
     "output_type": "execute_result"
    }
   ],
   "source": [
    "# тут я разбирался с тем, как работют побитовые сдвиги влево, вправо и побитовое и:\n",
    "print(bin(2905))\n",
    "len(bin(33))\n",
    "\n",
    "# получаю первый бит\n",
    "2905 >> 11 & 1\n",
    "\n",
    "# длина, так как строковое представление содержит обозначение 0b\n",
    "ln = len(bin(2905)) - 2\n",
    "\n",
    "# пробую побитово получать строку - битовое представление числа num\n",
    "num = 2905\n",
    "s = ''\n",
    "for i in range(1, ln):\n",
    "    s += str(num >> (ln - i - 1) & 1)\n",
    "s"
   ]
  },
  {
   "cell_type": "code",
   "execution_count": 58,
   "id": "4cd1d2a4-7ecd-4b6b-9c25-7c5e48002d9f",
   "metadata": {},
   "outputs": [
    {
     "name": "stdout",
     "output_type": "stream",
     "text": [
      "99\n",
      "99\n",
      "99\n",
      "99\n"
     ]
    }
   ],
   "source": [
    "print(NaivePower(a, d, m))\n",
    "print(NewFastPower(a, d, m))\n",
    "print(FastPower(a, d, m))\n",
    "print(a**d % m)"
   ]
  },
  {
   "cell_type": "code",
   "execution_count": 59,
   "id": "2cf890d4-057d-4c81-88c1-8d92e72c6dd0",
   "metadata": {},
   "outputs": [
    {
     "name": "stdout",
     "output_type": "stream",
     "text": [
      "Проблемы, если степень 1\n",
      "2\n",
      "2\n",
      "0\n",
      "\n",
      "5 5 5\n",
      "9099915 9099915 9099915\n",
      "4715 4715 4715\n"
     ]
    }
   ],
   "source": [
    "print('Проблемы, если степень 1')\n",
    "print(NewFastPower(2, 1, 2))\n",
    "print(FakeFastPower(2, 1, 2))\n",
    "print(2 ** 1 % 2)\n",
    "print()\n",
    "num, deg, mod = 245623, 2, 11\n",
    "print(NewFastPower(num, deg, mod), FakeFastPower(num, deg, mod), num ** deg % mod)\n",
    "num, deg, mod = 61228935, 39025, 11111190\n",
    "print(NewFastPower(num, deg, mod), FakeFastPower(num, deg, mod), num ** deg % mod)\n",
    "num, deg, mod = -534935, 3, 5555\n",
    "print(NewFastPower(num, deg, mod), FakeFastPower(num, deg, mod), num ** deg % mod)"
   ]
  },
  {
   "cell_type": "markdown",
   "id": "4e0e5baa-f508-4217-8fdc-08c3d2227a6f",
   "metadata": {},
   "source": [
    "## Оценка количества арифметических операций"
   ]
  },
  {
   "cell_type": "markdown",
   "id": "c662ab44-7c5f-4e48-a499-079a3ea45fa6",
   "metadata": {},
   "source": [
    "На каждой итерации цикла Быстрого алгоритма возведения в степень \"слева направо\" выполняется 4 арифметических операции: два раза возведение в степень, умножение и вычисление остатка от деления, поэтому\n",
    "$$\n",
    "  f(a, d, m) = 4k.\n",
    "$$"
   ]
  },
  {
   "cell_type": "markdown",
   "id": "2f4f3fc3-96ff-4676-aca0-89f99db5c670",
   "metadata": {},
   "source": [
    "## Оценка временной сложности работы алгоритма"
   ]
  },
  {
   "cell_type": "code",
   "execution_count": null,
   "id": "aaedba4c-fe31-47c2-ae28-9c10eb1ef5e3",
   "metadata": {},
   "outputs": [],
   "source": []
  },
  {
   "cell_type": "markdown",
   "id": "c865e629-a722-4888-8839-da24d7f59e8e",
   "metadata": {},
   "source": [
    "## Сравнение фактического времени выполнения с функциями FastPower, pow"
   ]
  },
  {
   "cell_type": "code",
   "execution_count": 62,
   "id": "3b28130d-60bd-4d05-b3b9-5a025b2f32a8",
   "metadata": {},
   "outputs": [
    {
     "name": "stdout",
     "output_type": "stream",
     "text": [
      "NewFastPower:\n",
      "0.0 \n",
      "\n",
      "FastPower:\n",
      "0.0 \n",
      "\n",
      "pow:\n",
      "0.0 \n",
      "\n"
     ]
    }
   ],
   "source": [
    "import time\n",
    "m = 131\n",
    "a = 11122233344\n",
    "d = 10**5\n",
    "\n",
    "print('NewFastPower:')\n",
    "st = time.time()\n",
    "NewFastPower(a, d, m)\n",
    "print(time.time() - st, '\\n')\n",
    "\n",
    "print('FastPower:')\n",
    "st = time.time()\n",
    "FastPower(a, d, m)\n",
    "print(time.time() - st, '\\n')\n",
    "\n",
    "# print('NaivePower:')\n",
    "# st = time.time()\n",
    "# NaivePower(a, d, m)\n",
    "# print(time.time() - st, '\\n')\n",
    "\n",
    "# print('MyPower:')\n",
    "# st = time.time()\n",
    "# MyPower(a, d)\n",
    "# print(time.time() - st, '\\n')\n",
    "\n",
    "print('pow:')\n",
    "st = time.time()\n",
    "pow(a, d, m)\n",
    "print(time.time() - st, '\\n')"
   ]
  },
  {
   "cell_type": "code",
   "execution_count": null,
   "id": "0d8052cb-05a2-4d8f-8949-fd517c15a777",
   "metadata": {},
   "outputs": [],
   "source": []
  },
  {
   "cell_type": "markdown",
   "id": "b09052dc-8e13-48d1-8c7c-007011cdd30d",
   "metadata": {
    "slideshow": {
     "slide_type": "slide"
    }
   },
   "source": [
    "# 3. Алгоритм Евклида\n",
    "\n",
    "Наибольшим общим делителем (НОД) двух целых чисел $a$ и $b$ называется наибольший из их общих делителей.\n",
    "\n",
    "**Алгоритм Евклида.**  \n",
    "Вход: $a\\in\\mathbb{Z},$ $b\\in\\mathbb{N}.$  \n",
    "Выход: $НОД(a,b).$  \n",
    "1. Вычисляем $r$ - остаток от деления числа $a$ на $b$  \n",
    "      $$r=a \\mod b.$$\n",
    "\n",
    "2. Если $r=0,$ то $b$ есть искомое число, конец алгоритма.  \n",
    "3. Выполняем присваивания $a:=b,$ $b:=r$ и переходим к шагу $1.$\n"
   ]
  },
  {
   "cell_type": "code",
   "execution_count": 1,
   "id": "3ee7031f-aaea-4daf-9263-f00ad102233f",
   "metadata": {
    "slideshow": {
     "slide_type": "fragment"
    }
   },
   "outputs": [
    {
     "data": {
      "text/plain": [
       "6"
      ]
     },
     "execution_count": 1,
     "metadata": {},
     "output_type": "execute_result"
    }
   ],
   "source": [
    "def gcd(a, b):\n",
    "    while b:\n",
    "        a, b = b, a % b\n",
    "    return a\n",
    "\n",
    "a = -42\n",
    "b = 12\n",
    "gcd(a,b)"
   ]
  },
  {
   "cell_type": "markdown",
   "id": "7c03bba6-72c2-408b-9d3b-144a584785fb",
   "metadata": {
    "slideshow": {
     "slide_type": "subslide"
    }
   },
   "source": [
    "## Сравнение Алгоритма Евклида с функцией из модуля math"
   ]
  },
  {
   "cell_type": "code",
   "execution_count": 2,
   "id": "746fb465-7278-49c4-9bb9-2e441cc6202b",
   "metadata": {
    "slideshow": {
     "slide_type": "fragment"
    }
   },
   "outputs": [
    {
     "name": "stdout",
     "output_type": "stream",
     "text": [
      "6\n",
      "6\n"
     ]
    }
   ],
   "source": [
    "import math\n",
    "\n",
    "print(math.gcd(a,b))\n",
    "print(gcd(a,b))"
   ]
  },
  {
   "cell_type": "code",
   "execution_count": 3,
   "id": "af032ca9-cce3-458b-8efc-0ab81773e3cc",
   "metadata": {
    "slideshow": {
     "slide_type": "fragment"
    }
   },
   "outputs": [
    {
     "name": "stdout",
     "output_type": "stream",
     "text": [
      "6\n",
      "-6\n"
     ]
    }
   ],
   "source": [
    "a = 42\n",
    "b = -12\n",
    "print(math.gcd(a,b))\n",
    "print(gcd(a,b))"
   ]
  },
  {
   "cell_type": "markdown",
   "id": "0ac7f254-7877-4f39-ab34-9fbe1fb2f0d7",
   "metadata": {
    "slideshow": {
     "slide_type": "subslide"
    }
   },
   "source": [
    "## Алгоритм Евклида в виде цепочки равенств\n",
    "Алгоритм Евклида можно описать цепочкой равенств\n",
    "\n",
    "$$\n",
    "      a=b q_1 + r_1,\\qquad 0<r_1<b,\n",
    "    $$\n",
    "\n",
    "$$\n",
    "      b = r_1 q_2 + r_2, \\qquad 0<r_2<r_1,\n",
    "    $$\n",
    "\n",
    "$$\n",
    "      r_1 = r_2 q_3 + r_3, \\qquad 0<r_3<r_2,\n",
    "    $$\n",
    "\n",
    "$$\n",
    "      \\dots\n",
    "    $$\n",
    "$$\n",
    "      r_{k-3} = r_{k-2} q_{k-1}+r_{k-1},\\qquad 0<r_{k-1}<r_{k-2},\n",
    "$$\n",
    "$$\n",
    "      r_{k-2} = r_{k-1} q_k+r_{k}, \\qquad r_k=0.\n",
    "    $$"
   ]
  },
  {
   "cell_type": "markdown",
   "id": "bc9c6afc-8138-4219-be0e-ca46b4f274c0",
   "metadata": {},
   "source": [
    "Вспоминаю на примере:\n",
    "$$45 = 16 * 2 + 13$$\n",
    "$$a = b * q1 + r1$$\n",
    "$$16 = 13 * 1 + 3$$\n",
    "$$b = r1 * q2 + r2$$\n",
    "$$13 = 3 * 4 + 1$$\n",
    "$$r1 = r2 * q3 + r3$$\n",
    "$$3 = 1 * 3 + 0$$\n",
    "$$r2 = r3 * q3 + r4$$\n",
    "$$r4 = 0$$\n",
    "$$r3$$"
   ]
  },
  {
   "cell_type": "markdown",
   "id": "21e5f2c8-4408-4c46-a311-5ed656325fc1",
   "metadata": {
    "slideshow": {
     "slide_type": "subslide"
    }
   },
   "source": [
    "## Оценка остатков от деления\n",
    "\n",
    "Так как $r_{i+1}<r_i,$ то цепочка равенств конечна и алгоритм закончит работу. Оценим количество итераций $k$ алгоритма Евклида.\n",
    "\n",
    "В процессе выполнения алгоритма Евклида\n",
    "  образуется последовательность остатков от деления\n",
    "$$\n",
    "    b:=r_0>r_1>r_2>\\dots>r_{k-1}>r_k=0.\n",
    "$$\n",
    "\n",
    "Методом математической индукции докажем неравенство\n",
    "$$\n",
    "    r_{k-i}\\ge G^{i-1},\\qquad i=1,2,\\dots, k.\n",
    "$$\n",
    " Здесь $G\\approx1.618$ --- золотое сечение, корень\n",
    "  уравнения $\\quad x^2-x-1=0.$\n",
    "\n"
   ]
  },
  {
   "cell_type": "markdown",
   "id": "84f5ddb7-82fa-46e8-a29b-bfea4043a969",
   "metadata": {
    "slideshow": {
     "slide_type": "subslide"
    }
   },
   "source": [
    "## Доказательство оценки $\\bf r_{k-i}\\ge G^{i-1}$\n",
    "\n",
    "При ${i=1}$ имеем \n",
    "$${r_{k-1}\\geq 1=G^0.}$$ \n",
    "\n",
    "При ${i=2}$ получаем\n",
    "  $$\\color{red}{{r_{k-2}\\geq r_{k-1}+1\\geq 2>G.}}$$ \n",
    "  \n",
    "  Пусть неравенство справедливо\n",
    "  для ${i=1,2,\\dots,n,}$ докажем, что оно верно для $i=n+1$\n",
    "  $$\n",
    "    \\color{red}{r_{k-n-1}=r_{k-n}q_{k-n+1}+r_{k-n+1}\\ge r_{k-n}+r_{k-n+1}\\ge G^{n-1}+G^{n-2}=G^{n-2}(1+G)=G^n.}\n",
    "  $$\n",
    "  Неравенство доказано. "
   ]
  },
  {
   "cell_type": "markdown",
   "id": "33ffca76-08d6-4687-bcb2-9402e9a48935",
   "metadata": {
    "slideshow": {
     "slide_type": "subslide"
    }
   },
   "source": [
    "## Доказательство оценки $\\bf r_{k-i}\\ge G^{i-1}$\n",
    "\n",
    "При ${i=1}$ имеем \n",
    "$${r_{k-1}\\geq 1=G^0.}$$ \n",
    "\n",
    "При ${i=2}$ получаем\n",
    "  $${r_{k-2}\\geq r_{k-1}+1\\geq 2>G.}$$ \n",
    "  \n",
    "  Пусть неравенство справедливо\n",
    "  для ${i=1,2,\\dots,n,}$ докажем, что оно верно для $i=n+1$\n",
    "  $$\n",
    "    r_{k-n-1}=r_{k-n}q_{k-n+1}+r_{k-n+1}\\ge r_{k-n}+r_{k-n+1}\\ge G^{n-1}+G^{n-2}=G^{n-2}(1+G)=G^n.\n",
    "  $$\n",
    "  Неравенство доказано. "
   ]
  },
  {
   "cell_type": "code",
   "execution_count": null,
   "id": "02eec2b1-d42a-4e45-90ac-649967137273",
   "metadata": {},
   "outputs": [],
   "source": []
  }
 ],
 "metadata": {
  "kernelspec": {
   "display_name": "Python 3 (ipykernel)",
   "language": "python",
   "name": "python3"
  },
  "language_info": {
   "codemirror_mode": {
    "name": "ipython",
    "version": 3
   },
   "file_extension": ".py",
   "mimetype": "text/x-python",
   "name": "python",
   "nbconvert_exporter": "python",
   "pygments_lexer": "ipython3",
   "version": "3.10.5"
  }
 },
 "nbformat": 4,
 "nbformat_minor": 5
}
