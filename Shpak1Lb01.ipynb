{
 "cells": [
  {
   "cell_type": "markdown",
   "id": "e6be35af-7cb5-4d75-a4d7-baeb4bc4812b",
   "metadata": {},
   "source": [
    "# Лабораторная работа 1\n",
    "# Тема 1. Эффективные инструменты в кольце классов вычетов"
   ]
  },
  {
   "cell_type": "markdown",
   "id": "63bebf35-d971-4210-a67a-7a773dd21ea9",
   "metadata": {},
   "source": [
    "Шпак Андрей, 15.09.2022"
   ]
  },
  {
   "cell_type": "markdown",
   "id": "b9fe4910-1f04-44bd-ab63-4feb974daa6a",
   "metadata": {},
   "source": [
    "# Теория\n",
    "# 1. Кольцо вычетов\n",
    "Пусть задано натуральное число $m.$\n",
    "\n",
    "Если два целых числа $a$ и $b$ при делении на $m$ дают одинаковые остатки, то они называются *сравнимыми*  по модулю $m$\n",
    "$$a \\equiv b \\mod m.$$\n",
    "\n",
    "## Свойство сравнимости по модулю\n",
    "$\\textbf{Рефлексивность}$\n",
    "\n",
    "$ \\forall a \\in \\mathbb{Z} \\quad(a \\equiv a \\mod m).$\n",
    "\n",
    "$\\textbf{Симметричность}$\n",
    "\n",
    "Если $\\quad a\\equiv b \\mod m,\\quad$ то  $\\quad b\\equiv a \\mod m.$\n",
    "\n",
    "$\\textbf{Транзитивность}$\n",
    "\n",
    "Если $\\quad a\\equiv b \\mod m\\quad$ и  $\\quad b\\equiv c \\mod m,\\quad$ то  $\\quad a\\equiv c \\mod m.$\n",
    "\n",
    "Таким образом, отношение сравнения по модулю $m$ является **отношением эквивалентности** на множестве целых чисел.\n",
    "Отношение эквивалентности $\\equiv$ разбивает множество целых чисел на классы\n",
    "$$\\mathbb{Z}_m:=\\{\\bar 0, \\bar 1, \\bar 2, \\dots, \\overline {m-1} \\}.$$"
   ]
  },
  {
   "cell_type": "markdown",
   "id": "2d98baa7-434c-4c93-82ce-277456caafe4",
   "metadata": {},
   "source": [
    " ## Представитель класса вычетов\n",
    " Например, класс $\\bar 1$ состоит из чисел, имеющих остаток от деления на $n,$ равный 1. В него входят такие целые числа как\n",
    " $$1,\\;1+n,\\; 1+2n,\\; 1-n,\\; \\dots$$\n",
    " Числа класса $\\bar 1$ можно задать формулой\n",
    " $$ 1+kn,\\qquad k\\in\\mathbb{Z}.$$\n",
    " \n",
    " При моделировании множества $\\mathbb{Z}_n$ на компьютере каждый класс вычетов представляют одним из его представителей, как правило это остатки от деления на $n$\n",
    " $$ \n",
    "   0,1,2,\\dots, n-1.\n",
    " $$\n",
    " \n",
    " В Python для этого есть оператор **%** (`__mod__`)  вычисления остатка от деления"
   ]
  },
  {
   "cell_type": "code",
   "execution_count": 1,
   "id": "9d3debe1-53ec-48b8-adbf-06c8e0fd9344",
   "metadata": {},
   "outputs": [
    {
     "data": {
      "text/plain": [
       "80"
      ]
     },
     "execution_count": 1,
     "metadata": {},
     "output_type": "execute_result"
    }
   ],
   "source": [
    "m = 131\n",
    "a = 11122233344\n",
    "b = a % m\n",
    "b"
   ]
  },
  {
   "cell_type": "markdown",
   "id": "e5c295a3-34b2-4bae-b27a-2b1b0936422d",
   "metadata": {},
   "source": [
    "Замена числа $a$ на меньшего представителя $b$ класса вычетов позволяет экономить время при выполнении операций над $a.$\n"
   ]
  },
  {
   "cell_type": "markdown",
   "id": "0a4444f1-81eb-4546-b23b-5de14c3e3736",
   "metadata": {},
   "source": [
    "## Кольцо\n",
    "\n",
    "1. $(R,+)$ - абелева группа:  \n",
    "    1.1. Коммутативность сложения  \n",
    "    $\\qquad\\qquad\n",
    "      a + b = b + a.\n",
    "    $  \n",
    "    1.2. Ассоциативность сложения  \n",
    "    $\\qquad\\qquad\n",
    "      a + (b + с) = a + (b + c).\n",
    "    $  \n",
    "    1.3. Существование нейтрального элемента относительно сложения  \n",
    "    $\\qquad\\qquad\n",
    "      \\exists0\\in R \\quad(a+0= 0+a = a).\n",
    "    $  \n",
    "    1.4. Существование противоположного элемента относительно сложения  \n",
    "    $\\qquad\\qquad\n",
    "      \\forall a\\in R\\quad\\exists b\\in R \\quad(a+b= b+a = 0).\n",
    "    $\n",
    "2. Ассоциативность умножения      \n",
    "    $\\qquad\\qquad\n",
    "      a * (b * с) = a * (b * c).\n",
    "    $ \n",
    "3. Дистрибутивность    \n",
    "$\\qquad\\qquad\n",
    "  a*(b+c)=a*b+a*c\\quad и\\quad (b+c)*a=b*a+c*a.\n",
    "$"
   ]
  },
  {
   "cell_type": "markdown",
   "id": "e2ea5f82-eefe-4359-8184-11952ce9c0c0",
   "metadata": {},
   "source": [
    "## Кольцо вычетов\n",
    "\n",
    "Сложение и умножение целых чисел естественным образом переносится на множество $\\mathbb{Z}_m$  \n",
    "**Сложение**\n",
    "$$\\bar a + \\bar b := a + b \\mod m.$$\n",
    "\n",
    "**Умножение**\n",
    "$$\\bar a * \\bar b := a * b \\mod m.$$\n",
    "\n",
    "Нетрудно проверить, что $\\mathbb{Z}_m$ - кольцо.\n",
    "\n",
    "Кроме этого $(\\mathbb{Z}_m, +, *)$ удовлетворяет свойствам:  \n",
    "1. Коммутативность умножения\n",
    "    $$\n",
    "      a * b = b * a.\n",
    "    $$  \n",
    "2. Существование нейтрального элемента относительно умножения  \n",
    "    $$\n",
    "      \\exists1 \\in R \\quad(1 * a = a * 1 = a).\n",
    "    $$ "
   ]
  },
  {
   "cell_type": "markdown",
   "id": "f195277d-4d44-43e8-8968-a06fbef8d8f5",
   "metadata": {},
   "source": [
    "## $\\mathbb{Z}_m$ как правило не поле\n",
    "\n",
    "Для того чтобы $\\mathbb{Z}_m$ было полем, ему необходимо свойство:   \n",
    "Существование обратного элемента для ненулевых элементов  \n",
    "$$\n",
    "      \\forall a\\in R\\setminus \\{0\\} \\quad\\exists a^{-1}\\in R \\quad(a*a^{-1}= 1).\n",
    "$$"
   ]
  },
  {
   "cell_type": "markdown",
   "id": "dd7841ca-ad25-4a71-8370-028bce10900e",
   "metadata": {},
   "source": [
    "# 2. Возведение в степень\n",
    "\n",
    "**Наивный алгоритм возведения в степень.**  \n",
    "Вход: $a\\in\\mathbb{Z},\\, d,m\\in\\mathbb{N}.$  \n",
    "Выход: $b\\in\\mathbb{Z},$ $\\qquad (0\\leq b<m,\\quad b\\equiv a^d\\mod m).$  \n",
    "1$.\\;\\; b:=1.$  \n",
    "2$.\\;$ Для $\\quad i:=1,\\dots,d\\quad$ вычисляем  \n",
    "$\\qquad b:=b*a \\mod~m.$  \n",
    "3$.\\;$ Выдаем результат $b.$"
   ]
  },
  {
   "cell_type": "code",
   "execution_count": 2,
   "id": "ce6dbf57-1735-4ebe-b3b9-619c11f45374",
   "metadata": {},
   "outputs": [
    {
     "name": "stdout",
     "output_type": "stream",
     "text": [
      "99\n",
      "99\n"
     ]
    }
   ],
   "source": [
    "m = 131\n",
    "a = 11122233344\n",
    "\n",
    "def NaivePower(a, d, m):\n",
    "    b = 1\n",
    "    for _ in range(d):\n",
    "        b = b*a % m\n",
    "    return b\n",
    "\n",
    "d = 10**5\n",
    "print(NaivePower(a, d, m))\n",
    "print(a**d % m) "
   ]
  },
  {
   "cell_type": "code",
   "execution_count": 3,
   "id": "ef1d1df6-b2f3-41eb-a410-c450a83bceed",
   "metadata": {},
   "outputs": [],
   "source": [
    "def MyPower(a, d):\n",
    "    b = 1\n",
    "    for _ in range(d):\n",
    "        b = b*a\n",
    "    return b"
   ]
  },
  {
   "cell_type": "code",
   "execution_count": 4,
   "id": "3305149d-92da-43cc-8ed1-32a50e101774",
   "metadata": {},
   "outputs": [
    {
     "data": {
      "text/plain": [
       "256"
      ]
     },
     "execution_count": 4,
     "metadata": {},
     "output_type": "execute_result"
    }
   ],
   "source": [
    "MyPower(4, 4)"
   ]
  },
  {
   "cell_type": "markdown",
   "id": "71972651-e0e5-4638-aaad-d5ac3ac43353",
   "metadata": {},
   "source": [
    "Например:\n",
    "$a = 12; \\;$ $d = 3; \\;$ $m = 100$\n",
    "\n",
    "$b = 1$\n",
    "\n",
    "<code>list(range(d))</code> => $[0, 1, 2]$ \n",
    "\n",
    "$i = 0$\n",
    "\n",
    "$b = 1 * 12 \\; \\% \\; 100 \\rightarrow 12$\n",
    "\n",
    "$i = 1$\n",
    "\n",
    "$b = 12 * 12 \\; \\% \\; 100 \\rightarrow 44$\n",
    "\n",
    "$i = 2$\n",
    "\n",
    "$b = 44 * 12 \\; \\% \\; 100 \\rightarrow 28$"
   ]
  },
  {
   "cell_type": "code",
   "execution_count": 5,
   "id": "354faa12-d211-4bd4-8367-ed46d499ed23",
   "metadata": {},
   "outputs": [
    {
     "data": {
      "text/plain": [
       "28"
      ]
     },
     "execution_count": 5,
     "metadata": {},
     "output_type": "execute_result"
    }
   ],
   "source": [
    "NaivePower(12, 3, 100)"
   ]
  },
  {
   "cell_type": "markdown",
   "id": "ab8d53f0-3db9-48fc-810d-03f7c4f13159",
   "metadata": {},
   "source": [
    "## Время работы алгоритма\n",
    "Пусть  $n$ $-$ входные данные алгоритма $A,$   \n",
    " $f(n)$ $-$  количество арифметических операций (сложение, вычитание, умножение, деление, деление нацело, вычисление остатка от деления), необходимых для выполнения всех действий алгоритма $A$ с входными  данными $n.$ \n",
    " \n",
    "На каждой итерации цикла Наивного алгоритма возведения в степень выполняется 2 арифметических операции: умножение и вычисление остатка от деления, поэтому\n",
    "$$\n",
    "  f(a,d,m)=2d.\n",
    "$$"
   ]
  },
  {
   "cell_type": "code",
   "execution_count": 6,
   "id": "67ddf46d-3c7b-4287-bc4f-6d4c7002b704",
   "metadata": {
    "slideshow": {
     "slide_type": "fragment"
    }
   },
   "outputs": [
    {
     "name": "stdout",
     "output_type": "stream",
     "text": [
      "0.24196434020996094\n"
     ]
    }
   ],
   "source": [
    "import time\n",
    "start_time = time.time()\n",
    "NaivePower(a, 10**6, m)\n",
    "print(time.time() - start_time)"
   ]
  },
  {
   "cell_type": "code",
   "execution_count": 7,
   "id": "619e7268-9684-49ab-b229-82353d584f25",
   "metadata": {},
   "outputs": [
    {
     "name": "stdout",
     "output_type": "stream",
     "text": [
      "11.192390203475952\n"
     ]
    }
   ],
   "source": [
    "import time\n",
    "start_time = time.time()\n",
    "MyPower(12, 300000)\n",
    "print(time.time() - start_time)"
   ]
  },
  {
   "cell_type": "code",
   "execution_count": 8,
   "id": "06ba0286-1180-4a25-8d1f-9c5cf46ad8c0",
   "metadata": {
    "slideshow": {
     "slide_type": "fragment"
    }
   },
   "outputs": [
    {
     "name": "stdout",
     "output_type": "stream",
     "text": [
      "11.625706434249878\n"
     ]
    }
   ],
   "source": [
    "import time\n",
    "start_time = time.time()\n",
    "NaivePower(12, 300000, 10**1000000)\n",
    "print(time.time() - start_time)"
   ]
  },
  {
   "cell_type": "code",
   "execution_count": 9,
   "id": "cc459a97-885a-4cf1-b976-7db6ef2f5f85",
   "metadata": {},
   "outputs": [
    {
     "data": {
      "text/plain": [
       "True"
      ]
     },
     "execution_count": 9,
     "metadata": {},
     "output_type": "execute_result"
    }
   ],
   "source": [
    "12**300000 < 10**1000000"
   ]
  },
  {
   "cell_type": "code",
   "execution_count": 10,
   "id": "994fe14f-f309-47e1-9c99-52be8bf53181",
   "metadata": {
    "slideshow": {
     "slide_type": "fragment"
    }
   },
   "outputs": [
    {
     "name": "stdout",
     "output_type": "stream",
     "text": [
      "14.280054569244385\n"
     ]
    }
   ],
   "source": [
    "start_time = time.time()\n",
    "a**(10**6) % m\n",
    "print(time.time() - start_time)"
   ]
  },
  {
   "cell_type": "code",
   "execution_count": 11,
   "id": "3fe26524-b6d4-413b-99ef-43cfe4c25898",
   "metadata": {},
   "outputs": [
    {
     "data": {
      "text/plain": [
       "80"
      ]
     },
     "execution_count": 11,
     "metadata": {},
     "output_type": "execute_result"
    }
   ],
   "source": [
    "NaivePower(a, 10**6, m)"
   ]
  },
  {
   "cell_type": "code",
   "execution_count": 12,
   "id": "370eaa07-7d13-4a26-80a0-0c74081d4a36",
   "metadata": {},
   "outputs": [
    {
     "data": {
      "text/plain": [
       "80"
      ]
     },
     "execution_count": 12,
     "metadata": {},
     "output_type": "execute_result"
    }
   ],
   "source": [
    "a**(10**6) % m"
   ]
  },
  {
   "cell_type": "code",
   "execution_count": 13,
   "id": "01d5907c-fef7-4e32-9c4b-0786a7a1cbec",
   "metadata": {},
   "outputs": [
    {
     "data": {
      "text/plain": [
       "28"
      ]
     },
     "execution_count": 13,
     "metadata": {},
     "output_type": "execute_result"
    }
   ],
   "source": [
    "NaivePower(12, 3, 100)"
   ]
  },
  {
   "cell_type": "code",
   "execution_count": 14,
   "id": "194e21e7-f42c-4ee0-b55a-02d9195142f8",
   "metadata": {},
   "outputs": [
    {
     "data": {
      "text/plain": [
       "28"
      ]
     },
     "execution_count": 14,
     "metadata": {},
     "output_type": "execute_result"
    }
   ],
   "source": [
    "12**3 % 100"
   ]
  },
  {
   "cell_type": "markdown",
   "id": "e62f2b39-3fe9-491b-b6e8-5c32860432d1",
   "metadata": {},
   "source": [
    "## Быстрое возведение в степень\n",
    "\n",
    "\n",
    "Пусть\n",
    "$$\n",
    "  d = d_02^k+d_12^{k-1}+\\dots+d_{k-1}2+d_k,\\qquad d_0=1.\n",
    "$$  \n",
    "Поэтому\n",
    "$$\n",
    "  a^d=a^{d_02^k}\\times a^{d_12^{k-1}}\\times\\dots\\times a^{d_{k-1}2}\\times a^{d_k}.\n",
    "$$\n",
    "Вычисляя данную формулу \"справа налево\", получаем \n",
    "\n",
    "**Быстрый алгоритм возведения в степень.**  \n",
    "Вход: $a\\in\\mathbb{Z},\\, d,m\\in\\mathbb{N}.$  \n",
    "Выход: $b\\in\\mathbb{Z},$ $\\qquad (0\\leq b<m,\\quad b\\equiv a^d\\mod m).$  \n",
    "1$.\\; b:=1.$  \n",
    "2$.\\;$ Для $\\quad i:=k,k-1,\\dots,0\\quad$ вычисляем  \n",
    "    $\\quad$ 2.1$.\\;$ Если $\\quad d_i=1,\\;$ то $\\quad b:=b*a \\mod m. $   \n",
    "    $\\quad$ 2.2$.\\;$ Вычисляем $a:=a*a \\mod m.$   \n",
    "3$.\\;$ Выдаем результат $b.$"
   ]
  },
  {
   "cell_type": "markdown",
   "id": "28d17a52-c6df-4cd3-a438-a3f68552ef06",
   "metadata": {},
   "source": [
    "Если n - это степень двойки, $n = 2^k$, то для возведения в степень $n$ достаточно число возвести в квадрат $k$ раз, затратив при этом $k$ умножений вместо $2^k$\n",
    "\n",
    "Например:\n",
    "$n = 13 = 1101_2 = 1 * 2^3 + 1 * 2^2 + 0 * 2^1 + 1 * 2^0$\n",
    "\n",
    "$a^n = a^{13} = a^{a^8 + a^4 + a^1}$\n",
    "\n",
    "Количество умножений не проевосходит количество цифр в бинарном разложении числа $n$.\n",
    "\n",
    "Пример ещё один:\n",
    "\n",
    "$a^1 = a$\n",
    "\n",
    "$a^2 = a^1 * a^1$\n",
    "\n",
    "$a^4 = a^2 * a^2$\n",
    "\n",
    "$a^8 = a^4 * a^4$"
   ]
  },
  {
   "cell_type": "code",
   "execution_count": 15,
   "id": "524717cc-5832-469b-aaed-74d6dad14493",
   "metadata": {},
   "outputs": [
    {
     "name": "stdout",
     "output_type": "stream",
     "text": [
      "99\n",
      "99\n",
      "99\n"
     ]
    }
   ],
   "source": [
    "def FastPower(a, d, m):\n",
    "    b = 1\n",
    "    while d>0:\n",
    "        if d & 1:\n",
    "            b = b*a % m\n",
    "        a = a*a % m\n",
    "        d = d >> 1\n",
    "    return b\n",
    "\n",
    "d = 10**5\n",
    "print(NaivePower(a, d, m))\n",
    "print(FastPower(a, d, m))\n",
    "print(a**d % m)"
   ]
  },
  {
   "cell_type": "code",
   "execution_count": 16,
   "id": "9e3238a1-77b0-453f-841f-c2e0a7864c93",
   "metadata": {},
   "outputs": [
    {
     "name": "stdout",
     "output_type": "stream",
     "text": [
      "99\n",
      "99\n",
      "99\n"
     ]
    }
   ],
   "source": [
    "def MyFastPower(a, d, m):\n",
    "    b = 1\n",
    "    res = 1\n",
    "    mult = a\n",
    "    while d:\n",
    "        if d % 2:\n",
    "            res = res * mult % m\n",
    "        mult = mult * mult % m\n",
    "        d = d // 2\n",
    "    return res\n",
    "\n",
    "d = 10**5\n",
    "print(NaivePower(a, d, m))\n",
    "print(MyFastPower(a, d, m))\n",
    "print(a**d % m)"
   ]
  },
  {
   "cell_type": "code",
   "execution_count": 17,
   "id": "5051df40-2663-4d03-875b-a3f53d28f49b",
   "metadata": {},
   "outputs": [
    {
     "data": {
      "text/plain": [
       "0"
      ]
     },
     "execution_count": 17,
     "metadata": {},
     "output_type": "execute_result"
    }
   ],
   "source": [
    "12 >> 1\n",
    "56 & 1"
   ]
  },
  {
   "cell_type": "markdown",
   "id": "ca79f108-f4f8-40a1-b974-fdae4508a5b9",
   "metadata": {
    "slideshow": {
     "slide_type": "subslide"
    }
   },
   "source": [
    "## Количество операций в быстром алгоритме возведения в степень\n",
    "Подсчитаем количество операций, которые выполняет Быстрый алгоритм возведения в степень. Сдвиг влево на 1 бит арифметической операцией считать не будем, поэтому на каждой итерации выполняется 2 или 4 арифметических операции\n",
    "$$\n",
    "  2(k+1)<f(a,d,m)\\leq4(k+1).\n",
    "$$  "
   ]
  },
  {
   "cell_type": "code",
   "execution_count": 18,
   "id": "c866c976-8ec1-4473-845c-df4297a92ba8",
   "metadata": {
    "slideshow": {
     "slide_type": "fragment"
    }
   },
   "outputs": [
    {
     "name": "stdout",
     "output_type": "stream",
     "text": [
      "2.072852611541748\n"
     ]
    }
   ],
   "source": [
    "start_time = time.time()\n",
    "NaivePower(a, 10**7, m)\n",
    "print(time.time() - start_time)"
   ]
  },
  {
   "cell_type": "code",
   "execution_count": 19,
   "id": "2fa52a60-bd09-46bb-989b-a7b3e533da50",
   "metadata": {
    "slideshow": {
     "slide_type": "fragment"
    }
   },
   "outputs": [
    {
     "name": "stdout",
     "output_type": "stream",
     "text": [
      "0.0\n"
     ]
    }
   ],
   "source": [
    "start_time = time.time()\n",
    "FastPower(a, 10**7, m)\n",
    "print(time.time() - start_time)"
   ]
  },
  {
   "cell_type": "code",
   "execution_count": 20,
   "id": "d1b228e5-4b35-463b-8ea0-a8387aa02aba",
   "metadata": {
    "slideshow": {
     "slide_type": "fragment"
    }
   },
   "outputs": [
    {
     "name": "stdout",
     "output_type": "stream",
     "text": [
      "0.0\n"
     ]
    }
   ],
   "source": [
    "start_time = time.time()\n",
    "pow(a, 10**7, m)\n",
    "print(time.time() - start_time)"
   ]
  },
  {
   "cell_type": "code",
   "execution_count": 21,
   "id": "a5def7df-f439-4cc8-aea0-389ac9732293",
   "metadata": {},
   "outputs": [
    {
     "name": "stdout",
     "output_type": "stream",
     "text": [
      "0.0\n"
     ]
    }
   ],
   "source": [
    "start_time = time.time()\n",
    "MyFastPower(a, 10**7, m)\n",
    "print(time.time() - start_time)"
   ]
  },
  {
   "cell_type": "markdown",
   "id": "b320b4b3-f127-492b-9939-3f75d8481f10",
   "metadata": {
    "slideshow": {
     "slide_type": "subslide"
    }
   },
   "source": [
    "## Временная сложность алгоритма\n",
    "Временной сложностью вычисления алгоритма $A$ с входными данными $n$ называется функция \n",
    "$$\n",
    "  T(N):=\\max\\limits_{\\left<n\\right>\\leq N} f(n).\n",
    "$$\n",
    "Здесь $\\left<n\\right>$ $-$ длина входных данных, то есть количество бит, необходимых для записи данных в двоичной системе счисления.\n",
    "Длину целого числа $z$ можно вычислять по формуле  \n",
    "$$\n",
    "  \\left<z\\right>:=\\lceil\\log_2(|z|+1)\\rceil.\n",
    "$$  \n",
    " $\\lceil x\\rceil=Ceiling(x)=math.ceil(x)$ $-$ наименьшее целое, не меньшее $x.$\n",
    "\n",
    "Для натуральных чисел $n$ справедливо равенство\n",
    "$$\n",
    "\\lceil\\log_2(n+1)\\rceil=\\left[\\log_2(n)\\right]+1,\n",
    "$$\n",
    "$[x]=Floor(x)=math.floor(x)$ $-$ наибольшее целое, не превосходящее $x.$"
   ]
  },
  {
   "cell_type": "code",
   "execution_count": 22,
   "id": "0b9cb415-7323-4f4e-b9d7-3203fc71e9d0",
   "metadata": {
    "slideshow": {
     "slide_type": "fragment"
    }
   },
   "outputs": [
    {
     "data": {
      "text/plain": [
       "True"
      ]
     },
     "execution_count": 22,
     "metadata": {},
     "output_type": "execute_result"
    }
   ],
   "source": [
    "import math\n",
    "n = 21\n",
    "math.ceil(math.log(n + 1, 2)) == math.floor(math.log(n, 2) + 1)"
   ]
  },
  {
   "cell_type": "markdown",
   "id": "2283d9c6-246d-4bc1-9404-df140a6d0985",
   "metadata": {
    "slideshow": {
     "slide_type": "subslide"
    }
   },
   "source": [
    "## Полиномиальный алгоритм\n",
    "Алгоритм $A$ с входными данными $n$ называется *полиномиальным*, если его временная сложность $T(N)$ ограничена многочленом $p(N),$ а длина чисел, участвующих в вычислениях алгоритма, ограничена полиномом  $p(\\left<n\\right>).$  \n",
    "\n",
    "Например, алгоритм со временем вычислений $T(N)=C N$ является полиномиальным, и так как сложность является линейной функцией, то и алгоритм называют  *линейным.* "
   ]
  },
  {
   "cell_type": "markdown",
   "id": "7e0d6058-6166-4699-90f9-bc2a5b590706",
   "metadata": {
    "slideshow": {
     "slide_type": "fragment"
    }
   },
   "source": [
    "## Экспоненциальный алгоритм\n",
    "Алгоритм, время выполнения которого имеет вид $T(N)=O\\left(2^{p(N)}\\right),$    $p(N)$ - многочлен степени не ниже первой, и длина чисел, участвующих в промежуточных вычислениях, ограничена многочленом $p(\\left<n\\right>),$  называется *экспоненциальным.* "
   ]
  },
  {
   "cell_type": "markdown",
   "id": "2cad8388-ede5-4a57-8636-065777ce01b1",
   "metadata": {
    "slideshow": {
     "slide_type": "subslide"
    }
   },
   "source": [
    "## Быстрый алгоритм возведения в степень линеен\n",
    "Ранее мы получили оценку для количества арифметических операций алгоритма быстрого возведения в степень\n",
    "$$\n",
    "  2(k+1)<f(a,d,m)\\leq4(k+1).\n",
    "$$\n",
    "Исходя из определения числа $k$\n",
    "$$\n",
    "  d = d_02^k+d_12^{k-1}+\\dots+d_{k-1}2+d_k,\\qquad d_0=1.\n",
    "$$ \n",
    "следует справедливость равенства\n",
    "$$\n",
    "  \\left<d\\right>=k+1.\n",
    "$$\n",
    "Поэтому\n",
    "$$\n",
    "  T(N):=\\max\\limits_{\\left<a,d,m\\right>\\leq N} f(a,d,m)\\leq \\max\\limits_{\\left<a,d,m\\right>\\leq N}4\\left<d\\right><4N.\n",
    "$$\n",
    "  "
   ]
  },
  {
   "cell_type": "markdown",
   "id": "16d7ae10-895b-4547-88f3-a72300088a41",
   "metadata": {
    "slideshow": {
     "slide_type": "subslide"
    }
   },
   "source": [
    "## Наивный алгоритм возведения в степень экспоненциален\n",
    "Ранее мы вычислили количество арифметических операций Наивного алгоритма возведения в степень\n",
    "$\n",
    "  f(a,d,m)=2d.\n",
    "$\n",
    "\n",
    "Для степени \n",
    "$$\n",
    "  d = d_02^k+d_12^{k-1}+\\dots+d_{k-1}2+d_k,\\qquad d_0=1,\n",
    "$$  \n",
    "cправедлива оценка\n",
    "$\\quad\n",
    "  2^{\\left<d\\right>-1}=2^k\\leq d<2^{k+1}=2^\\left<d\\right>.  \n",
    "$\n",
    "\n",
    "Поэтому\n",
    "$$\n",
    "  T(N):=\\max\\limits_{\\left<a,d,m\\right>\\leq N} f(a,d,m)< 2^{\\left<d\\right>+1}<2^N\n",
    "$$\n",
    "и алгоритм является экспоненциальным.\n",
    "\n",
    "С другой стороны мы можем подобрать такие начальные данные алгоритма, что $\\left<d\\right>>\\frac N2,$ поэтому  \n",
    "$$\n",
    "  T(N):=\\max\\limits_{\\left<a,d,m\\right>\\leq N} 2d\\geq2* 2^{\\left<d\\right>-1}=2^{\\left<d\\right>}>2^{N/2}\n",
    "$$\n",
    "и алгоритм не является полиномиальным."
   ]
  },
  {
   "cell_type": "markdown",
   "id": "ae627065-7d58-4414-b1d8-dc5c9c1fbf41",
   "metadata": {
    "slideshow": {
     "slide_type": "subslide"
    }
   },
   "source": [
    "## Быстрое возведение в степень \"слева направо\"\n",
    "\n",
    "\n",
    "Пусть\n",
    "$$\n",
    "  d = d_02^k+d_12^{k-1}+\\dots+d_{k-1}2+d_k,\\qquad d_0=1.\n",
    "$$  \n",
    "Поэтому\n",
    "$$\n",
    "  a^d=a^{(\\dots((2d_0+d_1)2+d_2)2+\\dots+d_{k-1})2+d_k}.\n",
    "$$\n",
    "Вычисляя данную формулу \"слева направо\", получаем \n",
    "\n",
    "**Быстрый алгоритм возведения в степень \"слева направо\".**  \n",
    "Вход: $a\\in\\mathbb{Z},\\, d,m\\in\\mathbb{N}.$  \n",
    "Выход: $b\\in\\mathbb{Z},$ $\\qquad (0\\leq b<m,\\quad b\\equiv a^d\\mod m).$  \n",
    "1$.\\;\\; b:=a.$  \n",
    "2$.\\;$ Для $\\quad i:=1,2,\\dots,k\\quad$ вычисляем  \n",
    "    $\\qquad\\quad b:=b^2a^{d_i} \\mod m.$   \n",
    "3$.\\;$ Выдаем результат $b.$"
   ]
  },
  {
   "cell_type": "markdown",
   "id": "b09052dc-8e13-48d1-8c7c-007011cdd30d",
   "metadata": {
    "slideshow": {
     "slide_type": "slide"
    }
   },
   "source": [
    "# 3. Алгоритм Евклида\n",
    "\n",
    "Наибольшим общим делителем (НОД) двух целых чисел $a$ и $b$ называется наибольший из их общих делителей.\n",
    "\n",
    "**Алгоритм Евклида.**  \n",
    "Вход: $a\\in\\mathbb{Z},$ $b\\in\\mathbb{N}.$  \n",
    "Выход: $НОД(a,b).$  \n",
    "1. Вычисляем $r$ - остаток от деления числа $a$ на $b$  \n",
    "      $$r=a \\mod b.$$\n",
    "\n",
    "2. Если $r=0,$ то $b$ есть искомое число, конец алгоритма.  \n",
    "3. Выполняем присваивания $a:=b,$ $b:=r$ и переходим к шагу $1.$\n"
   ]
  },
  {
   "cell_type": "code",
   "execution_count": 3,
   "id": "3ee7031f-aaea-4daf-9263-f00ad102233f",
   "metadata": {
    "slideshow": {
     "slide_type": "fragment"
    }
   },
   "outputs": [
    {
     "data": {
      "text/plain": [
       "6"
      ]
     },
     "execution_count": 3,
     "metadata": {},
     "output_type": "execute_result"
    }
   ],
   "source": [
    "def gcd(a, b):\n",
    "    while b:\n",
    "        a, b = b, a % b\n",
    "    return a\n",
    "\n",
    "a = -42\n",
    "b = 12\n",
    "gcd(a,b)"
   ]
  },
  {
   "cell_type": "markdown",
   "id": "7c03bba6-72c2-408b-9d3b-144a584785fb",
   "metadata": {
    "slideshow": {
     "slide_type": "subslide"
    }
   },
   "source": [
    "## Сравнение Алгоритма Евклида с функцией из модуля math"
   ]
  },
  {
   "cell_type": "code",
   "execution_count": 4,
   "id": "746fb465-7278-49c4-9bb9-2e441cc6202b",
   "metadata": {
    "slideshow": {
     "slide_type": "fragment"
    }
   },
   "outputs": [
    {
     "name": "stdout",
     "output_type": "stream",
     "text": [
      "6\n",
      "6\n"
     ]
    }
   ],
   "source": [
    "import math\n",
    "\n",
    "print(math.gcd(a,b))\n",
    "print(gcd(a,b))"
   ]
  },
  {
   "cell_type": "code",
   "execution_count": 5,
   "id": "af032ca9-cce3-458b-8efc-0ab81773e3cc",
   "metadata": {
    "slideshow": {
     "slide_type": "fragment"
    }
   },
   "outputs": [
    {
     "name": "stdout",
     "output_type": "stream",
     "text": [
      "6\n",
      "-6\n"
     ]
    }
   ],
   "source": [
    "a = 42\n",
    "b = -12\n",
    "print(math.gcd(a,b))\n",
    "print(gcd(a,b))"
   ]
  },
  {
   "cell_type": "markdown",
   "id": "0ac7f254-7877-4f39-ab34-9fbe1fb2f0d7",
   "metadata": {
    "slideshow": {
     "slide_type": "subslide"
    }
   },
   "source": [
    "## Алгоритм Евклида в виде цепочки равенств\n",
    "Алгоритм Евклида можно описать цепочкой равенств\n",
    "\n",
    "$$\n",
    "      a=b q_1 + r_1,\\qquad 0<r_1<b,\n",
    "    $$\n",
    "\n",
    "$$\n",
    "      b = r_1 q_2 + r_2, \\qquad 0<r_2<r_1,\n",
    "    $$\n",
    "\n",
    "$$\n",
    "      r_1 = r_2 q_3 + r_3, \\qquad 0<r_3<r_2,\n",
    "    $$\n",
    "\n",
    "$$\n",
    "      \\dots\n",
    "    $$\n",
    "$$\n",
    "      r_{k-3} = r_{k-2} q_{k-1}+r_{k-1},\\qquad 0<r_{k-1}<r_{k-2},\n",
    "$$\n",
    "$$\n",
    "      r_{k-2} = r_{k-1} q_k+r_{k}, \\qquad r_k=0.\n",
    "    $$"
   ]
  },
  {
   "cell_type": "markdown",
   "id": "bc9c6afc-8138-4219-be0e-ca46b4f274c0",
   "metadata": {},
   "source": [
    "Вспоминаю на примере:\n",
    "$$45 = 16 * 2 + 13$$\n",
    "$$a = b * q1 + r1$$\n",
    "$$16 = 13 * 1 + 3$$\n",
    "$$b = r1 * q2 + r2$$\n",
    "$$13 = 3 * 4 + 1$$\n",
    "$$r1 = r2 * q3 + r3$$\n",
    "$$3 = 1 * 3 + 0$$\n",
    "$$r2 = r3 * q3 + r4$$\n",
    "$$r4 = 0$$\n",
    "$$r3$$"
   ]
  },
  {
   "cell_type": "markdown",
   "id": "21e5f2c8-4408-4c46-a311-5ed656325fc1",
   "metadata": {
    "slideshow": {
     "slide_type": "subslide"
    }
   },
   "source": [
    "## Оценка остатков от деления\n",
    "\n",
    "Так как $r_{i+1}<r_i,$ то цепочка равенств конечна и алгоритм закончит работу. Оценим количество итераций $k$ алгоритма Евклида.\n",
    "\n",
    "В процессе выполнения алгоритма Евклида\n",
    "  образуется последовательность остатков от деления\n",
    "$$\n",
    "    b:=r_0>r_1>r_2>\\dots>r_{k-1}>r_k=0.\n",
    "$$\n",
    "\n",
    "Методом математической индукции докажем неравенство\n",
    "$$\n",
    "    r_{k-i}\\ge G^{i-1},\\qquad i=1,2,\\dots, k.\n",
    "$$\n",
    " Здесь $G\\approx1.618$ --- золотое сечение, корень\n",
    "  уравнения $\\quad x^2-x-1=0.$\n",
    "\n"
   ]
  },
  {
   "cell_type": "markdown",
   "id": "84f5ddb7-82fa-46e8-a29b-bfea4043a969",
   "metadata": {
    "slideshow": {
     "slide_type": "subslide"
    }
   },
   "source": [
    "## Доказательство оценки $\\bf r_{k-i}\\ge G^{i-1}$\n",
    "\n",
    "При ${i=1}$ имеем \n",
    "$${r_{k-1}\\geq 1=G^0.}$$ \n",
    "\n",
    "При ${i=2}$ получаем\n",
    "  $$\\color{red}{{r_{k-2}\\geq r_{k-1}+1\\geq 2>G.}}$$ \n",
    "  \n",
    "  Пусть неравенство справедливо\n",
    "  для ${i=1,2,\\dots,n,}$ докажем, что оно верно для $i=n+1$\n",
    "  $$\n",
    "    \\color{red}{r_{k-n-1}=r_{k-n}q_{k-n+1}+r_{k-n+1}\\ge r_{k-n}+r_{k-n+1}\\ge G^{n-1}+G^{n-2}=G^{n-2}(1+G)=G^n.}\n",
    "  $$\n",
    "  Неравенство доказано. "
   ]
  },
  {
   "cell_type": "markdown",
   "id": "78f23147-33a3-4741-b573-95a3673d2379",
   "metadata": {
    "slideshow": {
     "slide_type": "subslide"
    }
   },
   "source": [
    "## Оценка количества итераций в алгоритме Евклида\n",
    "При $i=k$ неравенство имеет вид \n",
    "$$\\color{red}{G^{k-1}\\leq r_{0}=b<2^{\\left<b\\right>}.}$$ \n",
    "Логарифмируя, получаем\n",
    "  $$\n",
    "    (k-1)\\log_2G<\\left<b\\right>,\\qquad k<\\frac{\\left<b\\right>}{\\log_2G}+1.\n",
    "  $$"
   ]
  },
  {
   "cell_type": "markdown",
   "id": "e372df0f-9dc7-4053-bedd-ede183d9b0b1",
   "metadata": {
    "slideshow": {
     "slide_type": "subslide"
    }
   },
   "source": [
    "## Алгоритм Евклида линеен\n",
    "Алгоритм Евклида выполняет\n",
    "$\\qquad\n",
    "f(a,b)=k\\qquad\n",
    "$\n",
    "арифметических операций.\n",
    "\n",
    "Для временной сложности справедлива оценка\n",
    "$$\n",
    "  \\color{red}{T(N):=\\max\\limits_{\\left<a,b\\right>\\leq N} f(a,b)< \\frac{N}{\\log_2G}+1}\n",
    "$$"
   ]
  },
  {
   "cell_type": "markdown",
   "id": "eb1041f8-915b-4067-b51e-9ab5491ce427",
   "metadata": {
    "slideshow": {
     "slide_type": "subslide"
    }
   },
   "source": [
    "## Вычисление обратных элементов\n",
    "В кольце $\\mathbb{Z}_m$ достаточно часто необходимо находить обратные относительно умножения элементы:  \n",
    "$$\n",
    "  a*a^{-1}=1.\n",
    "$$  "
   ]
  },
  {
   "cell_type": "markdown",
   "id": "51f325c1-1852-471a-982e-1b6ac9e8691d",
   "metadata": {
    "slideshow": {
     "slide_type": "subslide"
    }
   },
   "source": [
    "## Расширенный алгоритм Евклида.\n",
    "Вход: $a\\in\\mathbb{Z}, b\\in\\mathbb{N}.$  \n",
    "Выход: $u,v\\in\\mathbb{Z},$ удовлетворяющие условию $u*a+v*b=НОД(a,b).$  \n",
    "1. Задаем начальное значение матрицы  $$M:=\\begin{pmatrix} 1 & 0 \\\\ 0 & 1\\end{pmatrix}.$$                 \n",
    "2. Пока $b\\neq0$ вычисляем:  \n",
    "    2.1. Делим $a$ на $b$ с остатком, вычисляя при этом числа $q$ и\n",
    " $r$ такие, что \n",
    " $$a=b*q+r,\\qquad 0\\leq r<b.$$    \n",
    "    2.2. Выполняем следующие операции присваивания\n",
    " $$\n",
    "  a:=b,\\quad b:=r,\\quad M:=M*\\begin{pmatrix} 0 & 1 \\\\ 1 & -q\\end{pmatrix}.\n",
    "$$\n",
    "\n",
    "3. Выдаем результат  $\\;u:=M_{1,1},\\; v:=M_{2,1}.$\n",
    "\n",
    "\n"
   ]
  },
  {
   "cell_type": "markdown",
   "id": "9d57a336-7a33-4ba9-9965-d4ca45460e73",
   "metadata": {
    "slideshow": {
     "slide_type": "subslide"
    }
   },
   "source": [
    "## Обоснование расширенного алгоритма Евклида\n",
    "Справедлива следующая цепочка равенств:  \n",
    "$$ \n",
    "(a,b)*\\begin{pmatrix} 0 & 1 \\\\ 1 & -q_1\\end{pmatrix}=(b,r_1);\\qquad (b,r_1)*\\begin{pmatrix} 0 & 1 \\\\ 1 & -q_2\\end{pmatrix}=(r_1,r_2); \\quad\\dots \\qquad(r_{k-2},r_{k-1})*\\begin{pmatrix} 0 & 1 \\\\ 1 & -q_k\\end{pmatrix}=(r_{k-1},r_k). \n",
    "$$\n",
    "Из данных равенств следует, что\n",
    "$$ \n",
    "(a,b)*M=(r_{k-1},r_k), \n",
    "$$\n",
    "где \n",
    "$$\n",
    "  r_k=0,\\quad r_{k-1}=НОД(a,b),\\quad M_{1,1}a+M_{2,1}b = НОД(a,b).\n",
    "$$  "
   ]
  },
  {
   "cell_type": "markdown",
   "id": "2ca108fd-1806-4fec-9d17-f439d0facf92",
   "metadata": {},
   "source": [
    "На примере:\n",
    "$$a = 45; \\qquad b = 16$$\n",
    "$$45 = 16*2 + 13$$\n",
    "$$a = b*q1 + r1$$\n",
    "$$a = 16; \\qquad b = 13; \\qquad M=\\begin{pmatrix} 0 & 1 \\\\ 1 & -2\\end{pmatrix}$$\n",
    "$$16 = 13*1 + 3$$\n",
    "$$b = r1*q2 + r2$$\n",
    "$$a = 13; \\qquad b = 3; \\qquad M=\\begin{pmatrix} 1 & -1 \\\\ -2 & 3\\end{pmatrix}$$\n",
    "$$13 = 3*4 + 1$$\n",
    "$$r1 = r2*q3 + r3$$\n",
    "$$a = 3; \\qquad b = 1; \\qquad M = \\begin{pmatrix} -1 & 5 \\\\ 3 & -14\\end{pmatrix}$$\n",
    "$$3 = 1 * 3 + 0$$\n",
    "$$r2 = r3*q4 + r4$$\n",
    "$$r4 = 0; \\qquad M = \\begin{pmatrix} 5 & -16 \\\\ -14 & 45\\end{pmatrix}$$\n",
    "$$r3 = 1 = НОД(45, 16)$$\n",
    "$$5*45 + (-14)*16 = 1$$"
   ]
  },
  {
   "cell_type": "code",
   "execution_count": 12,
   "id": "0afea135-63c1-4227-9481-3c9b78522ee6",
   "metadata": {
    "slideshow": {
     "slide_type": "subslide"
    }
   },
   "outputs": [],
   "source": [
    "def ExtendedGCD(a, b):\n",
    "    \n",
    "    m11, m12 = 1, 0\n",
    "    m21, m22 = 0, 1\n",
    "    while b:\n",
    "        q = a // b\n",
    "        a, b = b, a % b\n",
    "        m11, m12 = m12, m11 - m12*q\n",
    "        m21, m22 = m22, m21 - m22*q\n",
    "    return (m11, m21)"
   ]
  },
  {
   "cell_type": "code",
   "execution_count": 7,
   "id": "523aec01-0ffb-4454-b4b1-c8fed0d7b2c3",
   "metadata": {
    "slideshow": {
     "slide_type": "fragment"
    }
   },
   "outputs": [
    {
     "name": "stdout",
     "output_type": "stream",
     "text": [
      "u = -7; v = -1\n",
      "1\n",
      "1\n"
     ]
    }
   ],
   "source": [
    "a = -3\n",
    "b = 20\n",
    "u, v = ExtendedGCD(a,b)\n",
    "print('u = %d; v = %d' % (u, v))\n",
    "print(u*a + v*b)\n",
    "print(gcd(a,b))"
   ]
  },
  {
   "cell_type": "markdown",
   "id": "2c48888d-b98c-4a6a-9fd5-572858e616c9",
   "metadata": {
    "slideshow": {
     "slide_type": "subslide"
    }
   },
   "source": [
    "## Вычисление обратного элемента\n",
    "В кольце $\\mathbb{Z}_m$ достаточно часто необходимо находить обратные относительно умножения элементы: $\n",
    "  a*a^{-1}=1.\n",
    "$\n",
    "\n",
    "При помощи Расширенного алгоритма Евклида находим\n",
    "$$\n",
    "  u*a + v*m = НОД(a,m).\n",
    "$$\n",
    "Если $НОД(a,m)=1,$  то\n",
    "$$\n",
    "  u*a=1-v* m\\equiv 1\\mod m.\n",
    "$$\n",
    "Поэтому $a^{-1}=v.$ \n",
    "\n",
    "Можно доказать, что если $НОД(a,m)>1,$ то обратного элемента для $a$ в $\\mathbb{Z}_m$ не существует."
   ]
  },
  {
   "cell_type": "markdown",
   "id": "af119413-46e5-47b3-8dd9-cf744a539f0f",
   "metadata": {},
   "source": [
    "$$a = 45; b = 16$$\n",
    "$$5 * 45 - 14 * 16 = 1$$\n",
    "$$5 * 45 = 1 + 14 * 16 \\equiv 1 \\mod 16$$\n",
    "$$a^{-1} = 5$$"
   ]
  },
  {
   "cell_type": "markdown",
   "id": "addc5a43-40c1-4df1-b594-2596c9cf43ab",
   "metadata": {
    "slideshow": {
     "slide_type": "fragment"
    }
   },
   "source": [
    "## Если $\\bf \\exists a^{-1},\\; то\\; НОД(a,m)=1$ \n",
    "Пусть $\\quad НОД(a,n)=d\\quad $ и $\\quad aa^{-1}\\equiv1\\mod\n",
    "    n.$ \n",
    "    \n",
    "Из последнего сравнения получаем, что ${n\\mid (aa^{-1}-1),}$\n",
    "    а так как ${d\\mid n,}$ то ${d\\mid (aa^{-1}-1),}$ но ${d\\mid a,}$\n",
    "    поэтому ${d\\mid1,}$ следовательно ${d=1.}$"
   ]
  },
  {
   "cell_type": "markdown",
   "id": "dc9ce3c9-8329-4f91-ab51-5c0f15197ee0",
   "metadata": {
    "slideshow": {
     "slide_type": "subslide"
    }
   },
   "source": [
    "## <font color='red'>Задание 2.</font>\n",
    "\n",
    "При помощи Расширенного алгоритма Евклида найти обратные к элементам $a,b\\in\\mathbb{Z}_m.$ Проверить результат. Сравнить с функцией `pow(a,-1,m)`. Оценить количество арифметических операций в Расширенном алгоритме Евклида. Оценить временную сложность алгоритма. Является ли он полиномиальным?"
   ]
  },
  {
   "cell_type": "code",
   "execution_count": 35,
   "id": "800c87e1-9864-48a3-b0da-dfc108e7f665",
   "metadata": {
    "slideshow": {
     "slide_type": "fragment"
    }
   },
   "outputs": [],
   "source": [
    "m = 42530430997171493050900585519445269701954006270353944787367883\n",
    "a = -949014432282168334172\n",
    "b = 2847043296846505002513"
   ]
  },
  {
   "cell_type": "code",
   "execution_count": 43,
   "id": "96a9cbe7-997b-4474-b84b-b9ea62a4e10f",
   "metadata": {},
   "outputs": [],
   "source": [
    "def reverse_elem(a, b):\n",
    "    a_copy = a\n",
    "    b_copy = b\n",
    "    m11, m12 = 1, 0\n",
    "    m21, m22 = 0, 1\n",
    "    while b:\n",
    "        q = a // b\n",
    "        a, b = b, a % b\n",
    "        m11, m12 = m12, m11 - m12*q\n",
    "        m21, m22 = m22, m21 - m22*q\n",
    "    gcd = m11 * a_copy + m21 * b_copy\n",
    "    if gcd == 1:\n",
    "        return m11\n",
    "    else:\n",
    "        raise ValueError('base is not invertible for the given modulus')"
   ]
  },
  {
   "cell_type": "code",
   "execution_count": 33,
   "id": "a2206f78-652f-410c-9e1f-fec41607fd73",
   "metadata": {},
   "outputs": [
    {
     "data": {
      "text/plain": [
       "5"
      ]
     },
     "execution_count": 33,
     "metadata": {},
     "output_type": "execute_result"
    }
   ],
   "source": [
    "reverse_elem(45, 16)"
   ]
  },
  {
   "cell_type": "code",
   "execution_count": 32,
   "id": "649e37bc-0399-4c52-8c73-b6c353a6125b",
   "metadata": {},
   "outputs": [
    {
     "data": {
      "text/plain": [
       "5"
      ]
     },
     "execution_count": 32,
     "metadata": {},
     "output_type": "execute_result"
    }
   ],
   "source": [
    "pow(45, -1, 16)"
   ]
  },
  {
   "cell_type": "code",
   "execution_count": 36,
   "id": "83bbc6e4-5ad3-4138-bb8b-ab1e4047e9f9",
   "metadata": {},
   "outputs": [
    {
     "data": {
      "text/plain": [
       "5760015108553103353761330938423529954070592368675905375141312"
      ]
     },
     "execution_count": 36,
     "metadata": {},
     "output_type": "execute_result"
    }
   ],
   "source": [
    "reverse_elem(a, m)"
   ]
  },
  {
   "cell_type": "code",
   "execution_count": 37,
   "id": "d6becc16-0d4b-4390-b3a5-9b5950aa017e",
   "metadata": {},
   "outputs": [
    {
     "data": {
      "text/plain": [
       "5760015108553103353761330938423529954070592368675905375141312"
      ]
     },
     "execution_count": 37,
     "metadata": {},
     "output_type": "execute_result"
    }
   ],
   "source": [
    "pow(a, -1, m)"
   ]
  },
  {
   "cell_type": "code",
   "execution_count": 44,
   "id": "48b31dc5-5a84-4b50-905c-399d42973ffe",
   "metadata": {},
   "outputs": [
    {
     "ename": "ValueError",
     "evalue": "base is not invertible for the given modulus",
     "output_type": "error",
     "traceback": [
      "\u001b[1;31m---------------------------------------------------------------------------\u001b[0m",
      "\u001b[1;31mValueError\u001b[0m                                Traceback (most recent call last)",
      "Input \u001b[1;32mIn [44]\u001b[0m, in \u001b[0;36m<cell line: 1>\u001b[1;34m()\u001b[0m\n\u001b[1;32m----> 1\u001b[0m \u001b[43mreverse_elem\u001b[49m\u001b[43m(\u001b[49m\u001b[43mb\u001b[49m\u001b[43m,\u001b[49m\u001b[43m \u001b[49m\u001b[43mm\u001b[49m\u001b[43m)\u001b[49m\n",
      "Input \u001b[1;32mIn [43]\u001b[0m, in \u001b[0;36mreverse_elem\u001b[1;34m(a, b)\u001b[0m\n\u001b[0;32m     13\u001b[0m     \u001b[38;5;28;01mreturn\u001b[39;00m m11\n\u001b[0;32m     14\u001b[0m \u001b[38;5;28;01melse\u001b[39;00m:\n\u001b[1;32m---> 15\u001b[0m     \u001b[38;5;28;01mraise\u001b[39;00m \u001b[38;5;167;01mValueError\u001b[39;00m(\u001b[38;5;124m'\u001b[39m\u001b[38;5;124mbase is not invertible for the given modulus\u001b[39m\u001b[38;5;124m'\u001b[39m)\n",
      "\u001b[1;31mValueError\u001b[0m: base is not invertible for the given modulus"
     ]
    }
   ],
   "source": [
    "reverse_elem(b, m)"
   ]
  },
  {
   "cell_type": "code",
   "execution_count": 39,
   "id": "543f4248-95e6-45c5-88c6-f589133a24c3",
   "metadata": {},
   "outputs": [
    {
     "ename": "ValueError",
     "evalue": "base is not invertible for the given modulus",
     "output_type": "error",
     "traceback": [
      "\u001b[1;31m---------------------------------------------------------------------------\u001b[0m",
      "\u001b[1;31mValueError\u001b[0m                                Traceback (most recent call last)",
      "Input \u001b[1;32mIn [39]\u001b[0m, in \u001b[0;36m<cell line: 1>\u001b[1;34m()\u001b[0m\n\u001b[1;32m----> 1\u001b[0m \u001b[38;5;28;43mpow\u001b[39;49m\u001b[43m(\u001b[49m\u001b[43mb\u001b[49m\u001b[43m,\u001b[49m\u001b[43m \u001b[49m\u001b[38;5;241;43m-\u001b[39;49m\u001b[38;5;241;43m1\u001b[39;49m\u001b[43m,\u001b[49m\u001b[43m \u001b[49m\u001b[43mm\u001b[49m\u001b[43m)\u001b[49m\n",
      "\u001b[1;31mValueError\u001b[0m: base is not invertible for the given modulus"
     ]
    }
   ],
   "source": [
    "pow(b, -1, m)"
   ]
  },
  {
   "cell_type": "markdown",
   "id": "4c86585d-6ded-4cea-928d-075f33c5af28",
   "metadata": {
    "slideshow": {
     "slide_type": "slide"
    }
   },
   "source": [
    "# 4. <font color='red'>Эквивалентность подсчета битовых и арифметических операций</font>\n",
    "\n",
    "## Переполнение памяти умножением\n",
    "\n",
    "\"Модернизируем\" Наивный алгоритм возведения в степень. Теперь не будем вычислять остаток от деления.\n",
    "\n",
    "**Алгоритм переполнения памяти умножением.**  \n",
    "Вход: $n\\in\\mathbb{N}.$  \n",
    "Выход: $2^{2^{[\\log_2n]+1}}.$\n",
    "1. Инициализируем переменную $a = 2.$\n",
    "2. Для $i:=1,2,\\dots,$ floor$(\\log_2n)+1\\;$ вычисляем $a:=a*a.$\n",
    "3. Выдаем результат  $a.$\n"
   ]
  },
  {
   "cell_type": "markdown",
   "id": "9d427f89-7858-49ff-9047-3ecefcc5fffc",
   "metadata": {
    "slideshow": {
     "slide_type": "subslide"
    }
   },
   "source": [
    "## Временная сложность Алгоритма переполнения памяти умножением\n",
    "Подсчитаем количество арифметических операций, которые выполняются при работе Алгоритма переполнения памяти умножением\n",
    "$$\n",
    "  \\color{red}{f(n)=floor(log_2𝑛)+1=\\left<n\\right>.}\n",
    "$$\n",
    "Найдем временную сложность\n",
    "$$\n",
    "  \\color{red}{T(N):=\\max\\limits_{\\left<n\\right>\\leq N} f(n) = N.}\n",
    "$$\n",
    "Функция $T(N)=N$ линейная, поэтому на первый взгляд кажется, что и Алгоритм переполнения памяти умножением также линеен. Но напомним точное определение полиномиального алгоритма:"
   ]
  },
  {
   "cell_type": "markdown",
   "id": "5169c754-6912-4c1a-a01d-8574e10941e9",
   "metadata": {
    "slideshow": {
     "slide_type": "fragment"
    }
   },
   "source": [
    "Алгоритм $A$ с входными данными $n$ называется *полиномиальным*, если его временная сложность $T(N)$ ограничена многочленом $p(N),$ **а длина чисел, участвующих в вычислениях алгоритма, ограничена полиномом  $p(\\left<n\\right>).$** "
   ]
  },
  {
   "cell_type": "markdown",
   "id": "b871439c-143a-40e8-a605-0a9d57ed071a",
   "metadata": {
    "slideshow": {
     "slide_type": "fragment"
    }
   },
   "source": [
    "Результатом алгоритма является число $2^{2^{\\left<n\\right>}}.$ Найдем его длинну\n",
    "$$\n",
    "  \\color{red}{\\left<2^{2^{\\left<n\\right>}}\\right>=\\lceil\\log_2(2^{2^{\\left<n\\right>}}+1)\\rceil=2^{\\left<n\\right>}+1.}\n",
    "$$\n",
    "Очевидно, что длина чисел, участвующих в вычислениях алгоритма,  выражается через экспоненту от длины входных данных и не может быть ограничена полиномом от $\\left<n\\right>.$ Поэтому алгоритм не является полиномиальным."
   ]
  },
  {
   "cell_type": "markdown",
   "id": "5c798d0e-1b3e-46f6-b939-b3af7a2e0fd2",
   "metadata": {
    "slideshow": {
     "slide_type": "subslide"
    }
   },
   "source": [
    "## Оценка битовых операций\n",
    "Если более строго подсчитывать операции алгоритма для оценки его быстродействия, то необходимо подсчитывать не арифметические, а битовые операции. Оценим количество битовых операций в Алгоритме переполнения памяти умножением.\n",
    "\n",
    "Алгоритм Шёнхаге—Штрассена умножает два числа длины $k$ за\n",
    "  $$\n",
    "    O(k \\log k \\log\\log k)\n",
    "  $$\n",
    " битовых операций. В связи с тем, что на последней итерации цикла алгоритма перемножаются числа длины $2^{\\left<n\\right>}$, количество битовых операций, которые выполняет алгоритм, еще больше, чем $2^{\\left<n\\right>}.$ Мы получили, что количество арифметических операций является многочленом, а количество битовых операций --- экспоненциальной функцией. То есть данные сложности не эквивалентны. Для того чтобы добиться эквивалентности, необходимо ограничивать длину чисел, участвующих в операциях алгоритма. "
   ]
  },
  {
   "cell_type": "markdown",
   "id": "ff1f0036-de7e-4326-87be-9fc607eff9b7",
   "metadata": {
    "slideshow": {
     "slide_type": "subslide"
    }
   },
   "source": [
    "## Теорема\n",
    "Пусть $n$ входные параметры алгоритма $A.$\n",
    "\n",
    "$f_B(n)$ -- количество битовых операций, которые выполняет алгоритм $A$ при входных данных $n.$ Если количество арифметических операций $f(n)$ и длина чисел, участвующих в промежуточных вычислениях алгоритма, ограничены полиномом от длины входных данных $\\left<n\\right>,$ то $f_B(n)$ также ограничена полиномом от $\\left<n\\right>.$"
   ]
  },
  {
   "cell_type": "markdown",
   "id": "4561eb9e-63f2-46ae-aabb-d371260ea39e",
   "metadata": {
    "slideshow": {
     "slide_type": "fragment"
    }
   },
   "source": [
    "## Доказательство.\n",
    "Пусть длина чисел, участвующих в промежуточных вычислениях, и $f(n)$ ограничены полиномом $p(\\left<n\\right>).$ \n",
    "\n",
    "Два целых числа $a,$ $b$ сложить или вычесть можно за $O(\\max\\{\\left<a\\right>,\\left<b\\right>\\})$ битовых операций, умножить или разделить за $O(\\left<a\\right>*\\left<b\\right>)$ битовых операций. При умножении очень больших чисел можно применить быстрое преобразование Фурье и улучшить данную оценку, но для доказательства достаточно и обычного алгоритма умножения. \n",
    "Мы получили оценку\n",
    "$$\n",
    "  f_B(n)=f(n)O(p^2(\\left<n\\right>))=O(p^3(\\left<n\\right>)).\n",
    "  $$ "
   ]
  },
  {
   "cell_type": "markdown",
   "id": "923ecfc7-391e-4abe-a1d5-16cb42bcf0c2",
   "metadata": {
    "slideshow": {
     "slide_type": "subslide"
    }
   },
   "source": [
    "# <font color='red'>Задание 3.</font>\n",
    "Реализовать Алгоритм переполнения памяти умножением. Быстро ли работает данный алгоритм? Сколько арифметических операций выполняет данный алгоритм? Чему равна T(N)? Является ли он полиномиальным? "
   ]
  },
  {
   "cell_type": "code",
   "execution_count": 3,
   "id": "7f7e7c90-cf3b-41cc-a130-4361fa8af20a",
   "metadata": {},
   "outputs": [],
   "source": [
    "import math\n",
    "\n",
    "def multiplication_memory_overflow(n):\n",
    "    a = 2\n",
    "    edge = math.floor(math.log(n, 2)) + 1\n",
    "    for i in range(edge):\n",
    "        a *= a\n",
    "    return a"
   ]
  },
  {
   "cell_type": "code",
   "execution_count": 10,
   "id": "839ae88a-9552-46ad-a73d-08dacb090f03",
   "metadata": {},
   "outputs": [
    {
     "name": "stdout",
     "output_type": "stream",
     "text": [
      "18446744073709551616\n",
      "18446744073709551616\n"
     ]
    }
   ],
   "source": [
    "num = 50\n",
    "print(multiplication_memory_overflow(num))\n",
    "print(pow(2, pow(2, math.floor(math.log(num, 2)) + 1)))"
   ]
  },
  {
   "cell_type": "markdown",
   "id": "89eb0cb4-7234-437a-ae9e-edc4a1015070",
   "metadata": {
    "slideshow": {
     "slide_type": "slide"
    }
   },
   "source": [
    "# 5. Сравнительный анализ экспоненциального и полиномиального алгоритмов\n",
    "\n",
    "## <font color='red'>Задание 4.</font>\n",
    "\n",
    "Пусть временная сложность алгоритма $A_1$ имеет вид \n",
    "$$T_1(N)=2^N,$$ \n",
    "а алгоритма $A_2$ \n",
    "$$T_2(N)=N.$$\n",
    "Пусть за один час работы компьютера $C_1$ можно выполнить алгоритм $A_1$ с длиной входных данных $N_1,$ а алгоритм $A_2$  с длиной входных данных $N_2.$  С какой длиной данных можно за 1 час выполнить алгоритмы $A_1$  и $A_2$ на компьютере $C_2$, производительность которого в два раза больше, чем $C_1$?  \n",
    "\n",
    "В данной задаче считать, что все арифметические операции алгоритмов выполняются за одинаковое время, хоть в жизни это и не так, потому что с ростом входных данных приходиться проводить арифметические операции над числами большей длины."
   ]
  },
  {
   "cell_type": "markdown",
   "id": "5fe098c8-4890-4b83-bbb8-938c14b30f49",
   "metadata": {
    "slideshow": {
     "slide_type": "slide"
    }
   },
   "source": [
    "# 6. Моделирование кольца вычетов в Python\n",
    "\n",
    "## <font color='red'>Задание 5.</font>\n",
    "\n",
    "Выполнить компьютерное моделилорание кольца вычетов средствами ООП, перегрузив операторы `__add__, __sub__, __mul__, __truediv__, __pow__, __neg__.` Реализовать `__repr__, __eq__`. Проверить, обладает ли построенная модель свойствами:\n",
    "1. $(\\mathbb{Z}_m,+)$ - абелева группа:  \n",
    "    1.1. Коммутативность сложения  \n",
    "    $\\qquad\\qquad\n",
    "      a + b = b + a.\n",
    "    $  \n",
    "    1.2. Ассоциативность сложения  \n",
    "    $\\qquad\\qquad\n",
    "      a + (b + с) = a + (b + c).\n",
    "    $  \n",
    "    1.3. Существование нейтрального элемента относительно сложения  \n",
    "    $\\qquad\\qquad\n",
    "      \\exists0\\in R \\quad(a+0= 0+a = a).\n",
    "    $  \n",
    "    1.4. Существование противоположного элемента относительно сложения  \n",
    "    $\\qquad\\qquad\n",
    "      \\forall a\\in R\\quad\\exists b\\in R \\quad(a+b= b+a = 0).\n",
    "    $\n",
    "2. Ассоциативность умножения      \n",
    "    $\\qquad\\qquad\n",
    "      a * (b * с) = a * (b * c).\n",
    "    $ \n",
    "3. Дистрибутивность    \n",
    "$\\qquad\\qquad\n",
    "  a*(b+c)=a*b+a*c\\quad и\\quad (b+c)*a=b*a+c*a.\n",
    "$\n",
    "4. Коммутативность умножения  \n",
    "    $\\qquad\\qquad\n",
    "      a * b = b * a.\n",
    "    $  \n",
    "5. Существование нейтрального элемента относительно умножения  \n",
    "    $\\qquad\\qquad\n",
    "      \\exists1\\in R \\quad(1*a= a*1 = a).\n",
    "    $  \n",
    "\n",
    "6. Существование обратного элемента для ненулевых элементов  \n",
    "$\\qquad\\qquad\n",
    "      \\forall a\\in R\\setminus \\{0\\} \\quad\\exists a^{-1}\\in R \\quad(a*a^{-1}= 1).\n",
    "$"
   ]
  },
  {
   "cell_type": "code",
   "execution_count": null,
   "id": "5733231d-7211-4526-9c06-3f912c0b160a",
   "metadata": {},
   "outputs": [],
   "source": [
    "class Ring:\n",
    "    l\n",
    "\n",
    "class BinaryTree:\n",
    "    def __init__(self):\n",
    "        self.root = EmptyNode()\n",
    "    \n",
    "    def __repr__(self):\n",
    "        return repr(self.root)\n",
    "    \n",
    "    def insert(self, value):\n",
    "        self.root = self.root.insert(value)\n",
    "        \n",
    "    def __contains__(self, value):\n",
    "        return value in self.root\n",
    "    \n",
    "    def __len__(self):\n",
    "        return len(self.root)\n",
    "    \n",
    "    def lcr(self):\n",
    "        return self.root.lcr()"
   ]
  },
  {
   "cell_type": "markdown",
   "id": "c82f18e1-e3ef-4b68-9ce9-7a67b25f426c",
   "metadata": {},
   "source": [
    "# Задачи"
   ]
  },
  {
   "cell_type": "markdown",
   "id": "5bed2889-9093-4045-bcce-5db228e4e93c",
   "metadata": {
    "slideshow": {
     "slide_type": "subslide"
    }
   },
   "source": [
    "# <font color='red'>Задание 1.</font>\n",
    "\n",
    "Реализовать Быстрый алгоритм возведения в степень \"слева направо\". Оценить количество арифметических операций. Оценить временную сложность алгоритма. Является ли он полиномиальным? Сравнить фактическое время вычисления с функциями FastPower и pow."
   ]
  },
  {
   "cell_type": "markdown",
   "id": "3dc9bf47-42e3-44f3-9441-cd90b04171a9",
   "metadata": {},
   "source": [
    "## Реализация быстрого алгоритма возведения в степень \"слева направо\":"
   ]
  },
  {
   "cell_type": "markdown",
   "id": "c9f07708-5aa1-4ce0-aea1-56b1e98b6fda",
   "metadata": {
    "slideshow": {
     "slide_type": "subslide"
    }
   },
   "source": [
    "### Еще раз алгоритм быстрого возведения в степень \"слева направо\"\n",
    "\n",
    "\n",
    "Пусть\n",
    "$$\n",
    "  d = d_02^k+d_12^{k-1}+\\dots+d_{k-1}2+d_k,\\qquad d_0=1.\n",
    "$$  \n",
    "Поэтому\n",
    "$$\n",
    "  a^d=a^{(\\dots((2d_0+d_1)2+d_2)2+\\dots+d_{k-1})2+d_k}.\n",
    "$$\n",
    "Вычисляя данную формулу \"слева направо\", получаем \n",
    "\n",
    "**Быстрый алгоритм возведения в степень \"слева направо\".**  \n",
    "Вход: $a\\in\\mathbb{Z},\\, d,m\\in\\mathbb{N}.$  \n",
    "Выход: $b\\in\\mathbb{Z},$ $\\qquad (0\\leq b<m,\\quad b\\equiv a^d\\mod m).$  \n",
    "1$.\\;\\; b:=a.$  \n",
    "2$.\\;$ Для $\\quad i:=1,2,\\dots,k\\quad$ вычисляем  \n",
    "    $\\qquad\\quad b:=b^2a^{d_i} \\mod m.$   \n",
    "3$.\\;$ Выдаем результат $b.$"
   ]
  },
  {
   "cell_type": "markdown",
   "id": "f7f11c19-c767-4ce9-a601-5dabad1b10ab",
   "metadata": {},
   "source": [
    "### Реализация"
   ]
  },
  {
   "cell_type": "code",
   "execution_count": 10,
   "id": "04938c27-5697-4a4c-9964-4c43dc689be6",
   "metadata": {
    "tags": []
   },
   "outputs": [],
   "source": [
    "# Вопрос: Почему i начинается с 1?\n",
    "# Ответ: Потому что изначально b уже равняется a, то есть этап a ** 1 выполнен. \n",
    "\n",
    "# Вариант со сдвигами:\n",
    "def OldFastPower(a, d, m):\n",
    "    b = a\n",
    "    # стартовое значение b = a\n",
    "    i = d\n",
    "    # ввожу i, чтобы не изменять само d\n",
    "    ln = len(bin(d)) - 3\n",
    "    # чтобы не попадать в \"начало\" двоичного представления числа d и не трогать старший бит d_0 = 1\n",
    "    while i > 1:\n",
    "        b = (b ** 2) * (a ** (d >> (ln - j) & 1)) % m\n",
    "        i = i >> 1\n",
    "    return b\n",
    "\n",
    "\n",
    "def NewFastPower(a, d, m):\n",
    "    b = a\n",
    "    bin_lst = [int(i) for i in bin(d)[3:]]\n",
    "    for elem in bin_lst:\n",
    "        b = (b ** 2) * (a ** elem) % m\n",
    "    return b\n",
    "\n",
    "# если я учитываю, что a - целое и, что есть проблема с единицей, то\n",
    "# def NewFastPower(a, d, m):\n",
    "#     b = abs(a)\n",
    "#     if d == 1:\n",
    "#         return b % m\n",
    "#     bin_lst = [int(i) for i in bin(d)[3:]]\n",
    "#     for elem in bin_lst:\n",
    "#         b = (b ** 2) * (a ** elem) % m\n",
    "#     return b"
   ]
  },
  {
   "cell_type": "markdown",
   "id": "b639d880-bbb6-45c9-9125-3b246427a08a",
   "metadata": {},
   "source": [
    "### Как я разбирался со сдвигами"
   ]
  },
  {
   "cell_type": "code",
   "execution_count": 13,
   "id": "bae4bbc2-53bb-4934-b67f-877e2fb877cf",
   "metadata": {
    "tags": []
   },
   "outputs": [
    {
     "name": "stdout",
     "output_type": "stream",
     "text": [
      "0b101101011001\n"
     ]
    },
    {
     "data": {
      "text/plain": [
       "'101101011001'"
      ]
     },
     "execution_count": 13,
     "metadata": {},
     "output_type": "execute_result"
    }
   ],
   "source": [
    "# Тут я разбирался с тем, как работют побитовые сдвиги влево, вправо и побитовое и.\n",
    "print(bin(2905))\n",
    "len(bin(33))\n",
    "\n",
    "# Получаю первый нужный бит.\n",
    "2905 >> 11 & 1\n",
    "# Сдвиг влево на 1 разряд увеличивает целое положительное число вдвое.\n",
    "# Сдвиг вправо на 1  делит целое положительное число нацело на 2.\n",
    "# Операция побитовое & с единичкой вернет последний бит.\n",
    "\n",
    "# Длина, так как строковое представление содержит обозначение 0b.\n",
    "num = 2905\n",
    "ln = len(bin(num)) - 2\n",
    "\n",
    "# Пробую побитово получать строку - битовое представление числа num\n",
    "s = ''\n",
    "for i in range(ln):\n",
    "    s += str(num >> (ln - i - 1) & 1)\n",
    "s"
   ]
  },
  {
   "cell_type": "code",
   "execution_count": 58,
   "id": "4cd1d2a4-7ecd-4b6b-9c25-7c5e48002d9f",
   "metadata": {},
   "outputs": [
    {
     "name": "stdout",
     "output_type": "stream",
     "text": [
      "99\n",
      "99\n",
      "99\n",
      "99\n"
     ]
    }
   ],
   "source": [
    "print(NaivePower(a, d, m))\n",
    "print(NewFastPower(a, d, m))\n",
    "print(FastPower(a, d, m))\n",
    "print(a**d % m)"
   ]
  },
  {
   "cell_type": "code",
   "execution_count": 59,
   "id": "2cf890d4-057d-4c81-88c1-8d92e72c6dd0",
   "metadata": {},
   "outputs": [
    {
     "name": "stdout",
     "output_type": "stream",
     "text": [
      "Проблемы, если степень 1\n",
      "2\n",
      "2\n",
      "0\n",
      "\n",
      "5 5 5\n",
      "9099915 9099915 9099915\n",
      "4715 4715 4715\n"
     ]
    }
   ],
   "source": [
    "print('Проблемы, если степень 1')\n",
    "print(NewFastPower(2, 1, 2))\n",
    "print(FakeFastPower(2, 1, 2))\n",
    "print(2 ** 1 % 2)\n",
    "print()\n",
    "num, deg, mod = 245623, 2, 11\n",
    "print(NewFastPower(num, deg, mod), FakeFastPower(num, deg, mod), num ** deg % mod)\n",
    "num, deg, mod = 61228935, 39025, 11111190\n",
    "print(NewFastPower(num, deg, mod), FakeFastPower(num, deg, mod), num ** deg % mod)\n",
    "num, deg, mod = -534935, 3, 5555\n",
    "print(NewFastPower(num, deg, mod), FakeFastPower(num, deg, mod), num ** deg % mod)"
   ]
  },
  {
   "cell_type": "markdown",
   "id": "86c8975d-a789-4eac-bcab-38d0241d208d",
   "metadata": {},
   "source": [
    "## Оценка количества арифметических операций"
   ]
  },
  {
   "cell_type": "markdown",
   "id": "9b21797f-a151-421d-aaae-af6a94fade83",
   "metadata": {},
   "source": [
    "На каждой итерации цикла Быстрого алгоритма возведения в степень \"слева направо\" выполняется 4 арифметических операции: два раза возведение в степень, умножение и вычисление остатка от деления, поэтому\n",
    "$$\n",
    "  f(a, d, m) = 4k.\n",
    "$$"
   ]
  },
  {
   "cell_type": "markdown",
   "id": "46b14e26-4465-433d-bfc9-380618b87d9c",
   "metadata": {},
   "source": [
    "## Оценка временной сложности работы алгоритма"
   ]
  },
  {
   "cell_type": "code",
   "execution_count": null,
   "id": "aaedba4c-fe31-47c2-ae28-9c10eb1ef5e3",
   "metadata": {},
   "outputs": [],
   "source": []
  },
  {
   "cell_type": "markdown",
   "id": "0061cd66-e79d-4bae-b69a-2a1ca4f5c812",
   "metadata": {},
   "source": [
    "## Сравнение фактического времени выполнения с функциями FastPower, pow"
   ]
  },
  {
   "cell_type": "code",
   "execution_count": 62,
   "id": "3b28130d-60bd-4d05-b3b9-5a025b2f32a8",
   "metadata": {},
   "outputs": [
    {
     "name": "stdout",
     "output_type": "stream",
     "text": [
      "NewFastPower:\n",
      "0.0 \n",
      "\n",
      "FastPower:\n",
      "0.0 \n",
      "\n",
      "pow:\n",
      "0.0 \n",
      "\n"
     ]
    }
   ],
   "source": [
    "import time\n",
    "m = 131\n",
    "a = 11122233344\n",
    "d = 10**5\n",
    "\n",
    "print('NewFastPower:')\n",
    "st = time.time()\n",
    "NewFastPower(a, d, m)\n",
    "print(time.time() - st, '\\n')\n",
    "\n",
    "print('FastPower:')\n",
    "st = time.time()\n",
    "FastPower(a, d, m)\n",
    "print(time.time() - st, '\\n')\n",
    "\n",
    "# print('NaivePower:')\n",
    "# st = time.time()\n",
    "# NaivePower(a, d, m)\n",
    "# print(time.time() - st, '\\n')\n",
    "\n",
    "# print('MyPower:')\n",
    "# st = time.time()\n",
    "# MyPower(a, d)\n",
    "# print(time.time() - st, '\\n')\n",
    "\n",
    "print('pow:')\n",
    "st = time.time()\n",
    "pow(a, d, m)\n",
    "print(time.time() - st, '\\n')"
   ]
  },
  {
   "cell_type": "code",
   "execution_count": null,
   "id": "949c9453-bca8-4a27-81b8-31d67285a6b5",
   "metadata": {},
   "outputs": [],
   "source": []
  }
 ],
 "metadata": {
  "kernelspec": {
   "display_name": "Python 3 (ipykernel)",
   "language": "python",
   "name": "python3"
  },
  "language_info": {
   "codemirror_mode": {
    "name": "ipython",
    "version": 3
   },
   "file_extension": ".py",
   "mimetype": "text/x-python",
   "name": "python",
   "nbconvert_exporter": "python",
   "pygments_lexer": "ipython3",
   "version": "3.10.5"
  }
 },
 "nbformat": 4,
 "nbformat_minor": 5
}
