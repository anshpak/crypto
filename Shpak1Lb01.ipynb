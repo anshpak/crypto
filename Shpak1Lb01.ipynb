{
 "cells": [
  {
   "cell_type": "markdown",
   "id": "e6be35af-7cb5-4d75-a4d7-baeb4bc4812b",
   "metadata": {},
   "source": [
    "# Лабораторная работа 1\n",
    "## Тема 1. Эффективные инструменты в кольце классов вычетов"
   ]
  },
  {
   "cell_type": "markdown",
   "id": "63bebf35-d971-4210-a67a-7a773dd21ea9",
   "metadata": {},
   "source": [
    "Шпак Андрей, 15.09.2022"
   ]
  },
  {
   "cell_type": "markdown",
   "id": "b9fe4910-1f04-44bd-ab63-4feb974daa6a",
   "metadata": {},
   "source": [
    "# Теория\n",
    "# 1. Кольцо вычетов\n",
    "Пусть задано натуральное число $m.$\n",
    "\n",
    "Если два целых числа $a$ и $b$ при делении на $m$ дают одинаковые остатки, то они называются *сравнимыми*  по модулю $m$\n",
    "$$a \\equiv b \\mod m.$$\n",
    "\n",
    "## Свойство сравнимости по модулю\n",
    "$\\textbf{Рефлексивность}$\n",
    "\n",
    "$ \\forall a \\in \\mathbb{Z} \\quad(a \\equiv a \\mod m).$\n",
    "\n",
    "$\\textbf{Симметричность}$\n",
    "\n",
    "Если $\\quad a\\equiv b \\mod m,\\quad$ то  $\\quad b\\equiv a \\mod m.$\n",
    "\n",
    "$\\textbf{Транзитивность}$\n",
    "\n",
    "Если $\\quad a\\equiv b \\mod m\\quad$ и  $\\quad b\\equiv c \\mod m,\\quad$ то  $\\quad a\\equiv c \\mod m.$\n",
    "\n",
    "Таким образом, отношение сравнения по модулю $m$ является **отношением эквивалентности** на множестве целых чисел.\n",
    "Отношение эквивалентности $\\equiv$ разбивает множество целых чисел на классы\n",
    "$$\\mathbb{Z}_m:=\\{\\bar 0, \\bar 1, \\bar 2, \\dots, \\overline {m-1} \\}.$$"
   ]
  },
  {
   "cell_type": "markdown",
   "id": "2d98baa7-434c-4c93-82ce-277456caafe4",
   "metadata": {},
   "source": [
    " ## Представитель класса вычетов\n",
    " Например, класс $\\bar 1$ состоит из чисел, имеющих остаток от деления на $n,$ равный 1. В него входят такие целые числа как\n",
    " $$1,\\;1+n,\\; 1+2n,\\; 1-n,\\; \\dots$$\n",
    " Числа класса $\\bar 1$ можно задать формулой\n",
    " $$ 1+kn,\\qquad k\\in\\mathbb{Z}.$$\n",
    " \n",
    " При моделировании множества $\\mathbb{Z}_n$ на компьютере каждый класс вычетов представляют одним из его представителей, как правило это остатки от деления на $n$\n",
    " $$ \n",
    "   0,1,2,\\dots, n-1.\n",
    " $$\n",
    " \n",
    " В Python для этого есть оператор **%** (`__mod__`)  вычисления остатка от деления"
   ]
  },
  {
   "cell_type": "code",
   "execution_count": 1,
   "id": "9d3debe1-53ec-48b8-adbf-06c8e0fd9344",
   "metadata": {},
   "outputs": [
    {
     "data": {
      "text/plain": [
       "80"
      ]
     },
     "execution_count": 1,
     "metadata": {},
     "output_type": "execute_result"
    }
   ],
   "source": [
    "m = 131\n",
    "a = 11122233344\n",
    "b = a % m\n",
    "b"
   ]
  },
  {
   "cell_type": "markdown",
   "id": "e5c295a3-34b2-4bae-b27a-2b1b0936422d",
   "metadata": {},
   "source": [
    "Замена числа $a$ на меньшего представителя $b$ класса вычетов позволяет экономить время при выполнении операций над $a.$\n"
   ]
  },
  {
   "cell_type": "markdown",
   "id": "0a4444f1-81eb-4546-b23b-5de14c3e3736",
   "metadata": {},
   "source": [
    "## Кольцо\n",
    "\n",
    "1. $(R,+)$ - абелева группа:  \n",
    "    1.1. Коммутативность сложения  \n",
    "    $\\qquad\\qquad\n",
    "      a + b = b + a.\n",
    "    $  \n",
    "    1.2. Ассоциативность сложения  \n",
    "    $\\qquad\\qquad\n",
    "      a + (b + с) = a + (b + c).\n",
    "    $  \n",
    "    1.3. Существование нейтрального элемента относительно сложения  \n",
    "    $\\qquad\\qquad\n",
    "      \\exists0\\in R \\quad(a+0= 0+a = a).\n",
    "    $  \n",
    "    1.4. Существование противоположного элемента относительно сложения  \n",
    "    $\\qquad\\qquad\n",
    "      \\forall a\\in R\\quad\\exists b\\in R \\quad(a+b= b+a = 0).\n",
    "    $\n",
    "2. Ассоциативность умножения      \n",
    "    $\\qquad\\qquad\n",
    "      a * (b * с) = a * (b * c).\n",
    "    $ \n",
    "3. Дистрибутивность    \n",
    "$\\qquad\\qquad\n",
    "  a*(b+c)=a*b+a*c\\quad и\\quad (b+c)*a=b*a+c*a.\n",
    "$"
   ]
  },
  {
   "cell_type": "markdown",
   "id": "e2ea5f82-eefe-4359-8184-11952ce9c0c0",
   "metadata": {},
   "source": [
    "## Кольцо вычетов\n",
    "\n",
    "Сложение и умножение целых чисел естественным образом переносится на множество $\\mathbb{Z}_m$  \n",
    "**Сложение**\n",
    "$$\\bar a + \\bar b := a + b \\mod m.$$\n",
    "\n",
    "**Умножение**\n",
    "$$\\bar a * \\bar b := a * b \\mod m.$$\n",
    "\n",
    "Нетрудно проверить, что $\\mathbb{Z}_m$ - кольцо.\n",
    "\n",
    "Кроме этого $(\\mathbb{Z}_m, +, *)$ удовлетворяет свойствам:  \n",
    "1. Коммутативность умножения\n",
    "    $$\n",
    "      a * b = b * a.\n",
    "    $$  \n",
    "2. Существование нейтрального элемента относительно умножения  \n",
    "    $$\n",
    "      \\exists1 \\in R \\quad(1 * a = a * 1 = a).\n",
    "    $$ "
   ]
  },
  {
   "cell_type": "markdown",
   "id": "f195277d-4d44-43e8-8968-a06fbef8d8f5",
   "metadata": {},
   "source": [
    "## $\\mathbb{Z}_m$ как правило не поле\n",
    "\n",
    "Для того чтобы $\\mathbb{Z}_m$ было полем, ему необходимо свойство:   \n",
    "Существование обратного элемента для ненулевых элементов  \n",
    "$$\n",
    "      \\forall a\\in R\\setminus \\{0\\} \\quad\\exists a^{-1}\\in R \\quad(a*a^{-1}= 1).\n",
    "$$"
   ]
  },
  {
   "cell_type": "markdown",
   "id": "dd7841ca-ad25-4a71-8370-028bce10900e",
   "metadata": {},
   "source": [
    "# 2. Возведение в степень\n",
    "\n",
    "**Наивный алгоритм возведения в степень.**  \n",
    "Вход: $a\\in\\mathbb{Z},\\, d,m\\in\\mathbb{N}.$  \n",
    "Выход: $b\\in\\mathbb{Z},$ $\\qquad (0\\leq b<m,\\quad b\\equiv a^d\\mod m).$  \n",
    "1$.\\;\\; b:=1.$  \n",
    "2$.\\;$ Для $\\quad i:=1,\\dots,d\\quad$ вычисляем  \n",
    "$\\qquad b:=b*a \\mod~m.$  \n",
    "3$.\\;$ Выдаем результат $b.$"
   ]
  },
  {
   "cell_type": "code",
   "execution_count": null,
   "id": "a6bba1f0-49f5-40b2-a31a-a614ee2a75b6",
   "metadata": {},
   "outputs": [],
   "source": []
  }
 ],
 "metadata": {
  "kernelspec": {
   "display_name": "Python 3 (ipykernel)",
   "language": "python",
   "name": "python3"
  },
  "language_info": {
   "codemirror_mode": {
    "name": "ipython",
    "version": 3
   },
   "file_extension": ".py",
   "mimetype": "text/x-python",
   "name": "python",
   "nbconvert_exporter": "python",
   "pygments_lexer": "ipython3",
   "version": "3.10.5"
  }
 },
 "nbformat": 4,
 "nbformat_minor": 5
}
