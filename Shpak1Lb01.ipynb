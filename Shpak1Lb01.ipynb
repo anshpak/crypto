{
 "cells": [
  {
   "cell_type": "markdown",
   "id": "e6be35af-7cb5-4d75-a4d7-baeb4bc4812b",
   "metadata": {},
   "source": [
    "# Лабораторная работа 1\n",
    "## Тема 1. Эффективные инструменты в кольце классов вычетов"
   ]
  },
  {
   "cell_type": "markdown",
   "id": "63bebf35-d971-4210-a67a-7a773dd21ea9",
   "metadata": {},
   "source": [
    "Шпак Андрей, 15.09.2022"
   ]
  },
  {
   "cell_type": "markdown",
   "id": "b9fe4910-1f04-44bd-ab63-4feb974daa6a",
   "metadata": {},
   "source": [
    "# Теория\n",
    "# 1. Кольцо вычетов\n",
    "Пусть задано натуральное число $m.$\n",
    "\n",
    "Если два целых числа $a$ и $b$ при делении на $m$ дают одинаковые остатки, то они называются *сравнимыми*  по модулю $m$\n",
    "$$a \\equiv b \\mod m.$$\n",
    "\n",
    "## Свойство сравнимости по модулю\n",
    "$\\textbf{Рефлексивность}$\n",
    "\n",
    "$ \\forall a \\in \\mathbb{Z} \\quad(a \\equiv a \\mod m).$\n",
    "\n",
    "$\\textbf{Симметричность}$\n",
    "\n",
    "Если $\\quad a\\equiv b \\mod m,\\quad$ то  $\\quad b\\equiv a \\mod m.$\n",
    "\n",
    "$\\textbf{Транзитивность}$\n",
    "\n",
    "Если $\\quad a\\equiv b \\mod m\\quad$ и  $\\quad b\\equiv c \\mod m,\\quad$ то  $\\quad a\\equiv c \\mod m.$\n",
    "\n",
    "Таким образом, отношение сравнения по модулю $m$ является **отношением эквивалентности** на множестве целых чисел.\n",
    "Отношение эквивалентности $\\equiv$ разбивает множество целых чисел на классы\n",
    "$$\\mathbb{Z}_m:=\\{\\bar 0, \\bar 1, \\bar 2, \\dots, \\overline {m-1} \\}.$$"
   ]
  },
  {
   "cell_type": "markdown",
   "id": "2d98baa7-434c-4c93-82ce-277456caafe4",
   "metadata": {},
   "source": [
    " ## Представитель класса вычетов\n",
    " Например, класс $\\bar 1$ состоит из чисел, имеющих остаток от деления на $n,$ равный 1. В него входят такие целые числа как\n",
    " $$1,\\;1+n,\\; 1+2n,\\; 1-n,\\; \\dots$$\n",
    " Числа класса $\\bar 1$ можно задать формулой\n",
    " $$ 1+kn,\\qquad k\\in\\mathbb{Z}.$$\n",
    " \n",
    " При моделировании множества $\\mathbb{Z}_n$ на компьютере каждый класс вычетов представляют одним из его представителей, как правило это остатки от деления на $n$\n",
    " $$ \n",
    "   0,1,2,\\dots, n-1.\n",
    " $$\n",
    " \n",
    " В Python для этого есть оператор **%** (`__mod__`)  вычисления остатка от деления"
   ]
  },
  {
   "cell_type": "code",
   "execution_count": 6,
   "id": "9d3debe1-53ec-48b8-adbf-06c8e0fd9344",
   "metadata": {},
   "outputs": [
    {
     "data": {
      "text/plain": [
       "80"
      ]
     },
     "execution_count": 6,
     "metadata": {},
     "output_type": "execute_result"
    }
   ],
   "source": [
    "m = 131\n",
    "a = 11122233344\n",
    "b = a % m\n",
    "b"
   ]
  },
  {
   "cell_type": "markdown",
   "id": "e5c295a3-34b2-4bae-b27a-2b1b0936422d",
   "metadata": {},
   "source": [
    "Замена числа $a$ на меньшего представителя $b$ класса вычетов позволяет экономить время при выполнении операций над $a.$\n"
   ]
  },
  {
   "cell_type": "markdown",
   "id": "0a4444f1-81eb-4546-b23b-5de14c3e3736",
   "metadata": {},
   "source": [
    "## Кольцо\n",
    "\n",
    "1. $(R,+)$ - абелева группа:  \n",
    "    1.1. Коммутативность сложения  \n",
    "    $\\qquad\\qquad\n",
    "      a + b = b + a.\n",
    "    $  \n",
    "    1.2. Ассоциативность сложения  \n",
    "    $\\qquad\\qquad\n",
    "      a + (b + с) = a + (b + c).\n",
    "    $  \n",
    "    1.3. Существование нейтрального элемента относительно сложения  \n",
    "    $\\qquad\\qquad\n",
    "      \\exists0\\in R \\quad(a+0= 0+a = a).\n",
    "    $  \n",
    "    1.4. Существование противоположного элемента относительно сложения  \n",
    "    $\\qquad\\qquad\n",
    "      \\forall a\\in R\\quad\\exists b\\in R \\quad(a+b= b+a = 0).\n",
    "    $\n",
    "2. Ассоциативность умножения      \n",
    "    $\\qquad\\qquad\n",
    "      a * (b * с) = a * (b * c).\n",
    "    $ \n",
    "3. Дистрибутивность    \n",
    "$\\qquad\\qquad\n",
    "  a*(b+c)=a*b+a*c\\quad и\\quad (b+c)*a=b*a+c*a.\n",
    "$"
   ]
  },
  {
   "cell_type": "markdown",
   "id": "e2ea5f82-eefe-4359-8184-11952ce9c0c0",
   "metadata": {},
   "source": [
    "## Кольцо вычетов\n",
    "\n",
    "Сложение и умножение целых чисел естественным образом переносится на множество $\\mathbb{Z}_m$  \n",
    "**Сложение**\n",
    "$$\\bar a + \\bar b := a + b \\mod m.$$\n",
    "\n",
    "**Умножение**\n",
    "$$\\bar a * \\bar b := a * b \\mod m.$$\n",
    "\n",
    "Нетрудно проверить, что $\\mathbb{Z}_m$ - кольцо.\n",
    "\n",
    "Кроме этого $(\\mathbb{Z}_m, +, *)$ удовлетворяет свойствам:  \n",
    "1. Коммутативность умножения\n",
    "    $$\n",
    "      a * b = b * a.\n",
    "    $$  \n",
    "2. Существование нейтрального элемента относительно умножения  \n",
    "    $$\n",
    "      \\exists1 \\in R \\quad(1 * a = a * 1 = a).\n",
    "    $$ "
   ]
  },
  {
   "cell_type": "markdown",
   "id": "f195277d-4d44-43e8-8968-a06fbef8d8f5",
   "metadata": {},
   "source": [
    "## $\\mathbb{Z}_m$ как правило не поле\n",
    "\n",
    "Для того чтобы $\\mathbb{Z}_m$ было полем, ему необходимо свойство:   \n",
    "Существование обратного элемента для ненулевых элементов  \n",
    "$$\n",
    "      \\forall a\\in R\\setminus \\{0\\} \\quad\\exists a^{-1}\\in R \\quad(a*a^{-1}= 1).\n",
    "$$"
   ]
  },
  {
   "cell_type": "markdown",
   "id": "dd7841ca-ad25-4a71-8370-028bce10900e",
   "metadata": {},
   "source": [
    "# 2. Возведение в степень\n",
    "\n",
    "**Наивный алгоритм возведения в степень.**  \n",
    "Вход: $a\\in\\mathbb{Z},\\, d,m\\in\\mathbb{N}.$  \n",
    "Выход: $b\\in\\mathbb{Z},$ $\\qquad (0\\leq b<m,\\quad b\\equiv a^d\\mod m).$  \n",
    "1$.\\;\\; b:=1.$  \n",
    "2$.\\;$ Для $\\quad i:=1,\\dots,d\\quad$ вычисляем  \n",
    "$\\qquad b:=b*a \\mod~m.$  \n",
    "3$.\\;$ Выдаем результат $b.$"
   ]
  },
  {
   "cell_type": "code",
   "execution_count": 1,
   "id": "ce6dbf57-1735-4ebe-b3b9-619c11f45374",
   "metadata": {},
   "outputs": [
    {
     "name": "stdout",
     "output_type": "stream",
     "text": [
      "99\n",
      "99\n"
     ]
    }
   ],
   "source": [
    "m = 131\n",
    "a = 11122233344\n",
    "\n",
    "def NaivePower(a, d, m):\n",
    "    b = 1\n",
    "    for _ in range(d):\n",
    "        b = b*a % m\n",
    "    return b\n",
    "\n",
    "d = 10**5\n",
    "print(NaivePower(a, d, m))\n",
    "print(a**d % m) "
   ]
  },
  {
   "cell_type": "markdown",
   "id": "5ac33b45-3a52-4997-9838-96bb4c1c1684",
   "metadata": {},
   "source": [
    "## $\\color{red}{ВОПРОС}:$ функция NaivePower возводит в степень или... Очевидно, в этом есть смысл, но я не улавливаю. Зачем тут $m$? "
   ]
  },
  {
   "cell_type": "code",
   "execution_count": 2,
   "id": "ef1d1df6-b2f3-41eb-a410-c450a83bceed",
   "metadata": {},
   "outputs": [],
   "source": [
    "def MyPower(a, d):\n",
    "    b = 1\n",
    "    for _ in range(d):\n",
    "        b = b*a\n",
    "    return b"
   ]
  },
  {
   "cell_type": "code",
   "execution_count": 3,
   "id": "3305149d-92da-43cc-8ed1-32a50e101774",
   "metadata": {},
   "outputs": [
    {
     "data": {
      "text/plain": [
       "256"
      ]
     },
     "execution_count": 3,
     "metadata": {},
     "output_type": "execute_result"
    }
   ],
   "source": [
    "MyPower(4, 4)"
   ]
  },
  {
   "cell_type": "markdown",
   "id": "71972651-e0e5-4638-aaad-d5ac3ac43353",
   "metadata": {},
   "source": [
    "Например:\n",
    "$a = 12; \\;$ $d = 3; \\;$ $m = 100$\n",
    "\n",
    "$b = 1$\n",
    "\n",
    "<code>list(range(d))</code> => $[0, 1, 2]$ \n",
    "\n",
    "$i = 0$\n",
    "\n",
    "$b = 1 * 12 \\; \\% \\; 100 \\rightarrow 12$\n",
    "\n",
    "$i = 1$\n",
    "\n",
    "$b = 12 * 12 \\; \\% \\; 100 \\rightarrow 44$\n",
    "\n",
    "$i = 2$\n",
    "\n",
    "$b = 44 * 12 \\; \\% \\; 100 \\rightarrow 28$"
   ]
  },
  {
   "cell_type": "code",
   "execution_count": 4,
   "id": "354faa12-d211-4bd4-8367-ed46d499ed23",
   "metadata": {},
   "outputs": [
    {
     "data": {
      "text/plain": [
       "28"
      ]
     },
     "execution_count": 4,
     "metadata": {},
     "output_type": "execute_result"
    }
   ],
   "source": [
    "NaivePower(12, 3, 100)"
   ]
  },
  {
   "cell_type": "markdown",
   "id": "ab8d53f0-3db9-48fc-810d-03f7c4f13159",
   "metadata": {},
   "source": [
    "## Время работы алгоритма\n",
    "Пусть  $n$ $-$ входные данные алгоритма $A,$   \n",
    " $f(n)$ $-$  количество арифметических операций (сложение, вычитание, умножение, деление, деление нацело, вычисление остатка от деления), необходимых для выполнения всех действий алгоритма $A$ с входными  данными $n.$ \n",
    " \n",
    "На каждой итерации цикла Наивного алгоритма возведения в степень выполняется 2 арифметических операции: умножение и вычисление остатка от деления, поэтому\n",
    "$$\n",
    "  f(a,d,m)=2d.\n",
    "$$"
   ]
  },
  {
   "cell_type": "code",
   "execution_count": 5,
   "id": "67ddf46d-3c7b-4287-bc4f-6d4c7002b704",
   "metadata": {
    "slideshow": {
     "slide_type": "fragment"
    }
   },
   "outputs": [
    {
     "name": "stdout",
     "output_type": "stream",
     "text": [
      "0.26896142959594727\n"
     ]
    }
   ],
   "source": [
    "import time\n",
    "start_time = time.time()\n",
    "NaivePower(a, 10**6, m)\n",
    "print(time.time() - start_time)"
   ]
  },
  {
   "cell_type": "code",
   "execution_count": 14,
   "id": "619e7268-9684-49ab-b229-82353d584f25",
   "metadata": {},
   "outputs": [
    {
     "name": "stdout",
     "output_type": "stream",
     "text": [
      "10.376953840255737\n"
     ]
    }
   ],
   "source": [
    "import time\n",
    "start_time = time.time()\n",
    "MyPower(12, 300000)\n",
    "print(time.time() - start_time)"
   ]
  },
  {
   "cell_type": "code",
   "execution_count": 32,
   "id": "06ba0286-1180-4a25-8d1f-9c5cf46ad8c0",
   "metadata": {
    "slideshow": {
     "slide_type": "fragment"
    }
   },
   "outputs": [
    {
     "name": "stdout",
     "output_type": "stream",
     "text": [
      "10.857166767120361\n"
     ]
    }
   ],
   "source": [
    "import time\n",
    "start_time = time.time()\n",
    "NaivePower(12, 300000, 10**1000000)\n",
    "print(time.time() - start_time)"
   ]
  },
  {
   "cell_type": "code",
   "execution_count": 30,
   "id": "cc459a97-885a-4cf1-b976-7db6ef2f5f85",
   "metadata": {},
   "outputs": [
    {
     "data": {
      "text/plain": [
       "True"
      ]
     },
     "execution_count": 30,
     "metadata": {},
     "output_type": "execute_result"
    }
   ],
   "source": [
    "12**300000 < 10**1000000"
   ]
  },
  {
   "cell_type": "code",
   "execution_count": 20,
   "id": "994fe14f-f309-47e1-9c99-52be8bf53181",
   "metadata": {
    "slideshow": {
     "slide_type": "fragment"
    }
   },
   "outputs": [
    {
     "name": "stdout",
     "output_type": "stream",
     "text": [
      "14.277306318283081\n"
     ]
    }
   ],
   "source": [
    "start_time = time.time()\n",
    "a**(10**6) % m\n",
    "print(time.time() - start_time)"
   ]
  },
  {
   "cell_type": "code",
   "execution_count": 2,
   "id": "3fe26524-b6d4-413b-99ef-43cfe4c25898",
   "metadata": {},
   "outputs": [
    {
     "data": {
      "text/plain": [
       "80"
      ]
     },
     "execution_count": 2,
     "metadata": {},
     "output_type": "execute_result"
    }
   ],
   "source": [
    "NaivePower(a, 10**6, m)"
   ]
  },
  {
   "cell_type": "code",
   "execution_count": 22,
   "id": "370eaa07-7d13-4a26-80a0-0c74081d4a36",
   "metadata": {},
   "outputs": [
    {
     "data": {
      "text/plain": [
       "80"
      ]
     },
     "execution_count": 22,
     "metadata": {},
     "output_type": "execute_result"
    }
   ],
   "source": [
    "a**(10**6) % m"
   ]
  },
  {
   "cell_type": "code",
   "execution_count": 3,
   "id": "01d5907c-fef7-4e32-9c4b-0786a7a1cbec",
   "metadata": {},
   "outputs": [
    {
     "data": {
      "text/plain": [
       "28"
      ]
     },
     "execution_count": 3,
     "metadata": {},
     "output_type": "execute_result"
    }
   ],
   "source": [
    "NaivePower(12, 3, 100)"
   ]
  },
  {
   "cell_type": "code",
   "execution_count": 4,
   "id": "194e21e7-f42c-4ee0-b55a-02d9195142f8",
   "metadata": {},
   "outputs": [
    {
     "data": {
      "text/plain": [
       "28"
      ]
     },
     "execution_count": 4,
     "metadata": {},
     "output_type": "execute_result"
    }
   ],
   "source": [
    "12**3 % 100"
   ]
  },
  {
   "cell_type": "markdown",
   "id": "e62f2b39-3fe9-491b-b6e8-5c32860432d1",
   "metadata": {},
   "source": [
    "## Быстрое возведение в степень\n",
    "\n",
    "\n",
    "Пусть\n",
    "$$\n",
    "  d = d_02^k+d_12^{k-1}+\\dots+d_{k-1}2+d_k,\\qquad d_0=1.\n",
    "$$  \n",
    "Поэтому\n",
    "$$\n",
    "  a^d=a^{d_02^k}\\times a^{d_12^{k-1}}\\times\\dots\\times a^{d_{k-1}2}\\times a^{d_k}.\n",
    "$$\n",
    "Вычисляя данную формулу \"справа налево\", получаем \n",
    "\n",
    "**Быстрый алгоритм возведения в степень.**  \n",
    "Вход: $a\\in\\mathbb{Z},\\, d,m\\in\\mathbb{N}.$  \n",
    "Выход: $b\\in\\mathbb{Z},$ $\\qquad (0\\leq b<m,\\quad b\\equiv a^d\\mod m).$  \n",
    "1$.\\; b:=1.$  \n",
    "2$.\\;$ Для $\\quad i:=k,k-1,\\dots,0\\quad$ вычисляем  \n",
    "    $\\quad$ 2.1$.\\;$ Если $\\quad d_i=1,\\;$ то $\\quad b:=b*a \\mod m. $   \n",
    "    $\\quad$ 2.2$.\\;$ Вычисляем $a:=a*a \\mod m.$   \n",
    "3$.\\;$ Выдаем результат $b.$"
   ]
  },
  {
   "cell_type": "markdown",
   "id": "28d17a52-c6df-4cd3-a438-a3f68552ef06",
   "metadata": {},
   "source": [
    "Например:\n",
    "$a = 12; \\;$ $d = 3; \\;$ $m = 100$\n",
    "\n",
    "$b = 1$\n",
    "\n",
    "$i = k, k-1, \\dots, 0$ \n",
    "\n",
    "$i = 0$\n",
    "\n",
    "$b = 1 * 12 \\; \\% \\; 100 \\rightarrow 12$\n",
    "\n",
    "$i = 1$\n",
    "\n",
    "$b = 12 * 12 \\; \\% \\; 100 \\rightarrow 44$\n",
    "\n",
    "$i = 2$\n",
    "\n",
    "$b = 44 * 12 \\; \\% \\; 100 \\rightarrow 28$"
   ]
  },
  {
   "cell_type": "code",
   "execution_count": 6,
   "id": "524717cc-5832-469b-aaed-74d6dad14493",
   "metadata": {},
   "outputs": [
    {
     "name": "stdout",
     "output_type": "stream",
     "text": [
      "99\n",
      "99\n",
      "99\n"
     ]
    }
   ],
   "source": [
    "def FastPower(a, d, m):\n",
    "    b = 1\n",
    "    while d>0:\n",
    "        if d & 1:\n",
    "            b = b*a % m\n",
    "        a = a*a % m\n",
    "        d = d >> 1\n",
    "    return b\n",
    "\n",
    "d = 10**5\n",
    "print(NaivePower(a, d, m))\n",
    "print(FastPower(a, d, m))\n",
    "print(a**d % m)"
   ]
  },
  {
   "cell_type": "markdown",
   "id": "b5d50aee-e49f-49e7-9df3-b02dd5164ce9",
   "metadata": {},
   "source": []
  }
 ],
 "metadata": {
  "kernelspec": {
   "display_name": "Python 3 (ipykernel)",
   "language": "python",
   "name": "python3"
  },
  "language_info": {
   "codemirror_mode": {
    "name": "ipython",
    "version": 3
   },
   "file_extension": ".py",
   "mimetype": "text/x-python",
   "name": "python",
   "nbconvert_exporter": "python",
   "pygments_lexer": "ipython3",
   "version": "3.10.5"
  }
 },
 "nbformat": 4,
 "nbformat_minor": 5
}
