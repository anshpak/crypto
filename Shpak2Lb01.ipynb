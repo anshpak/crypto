{
 "cells": [
  {
   "cell_type": "markdown",
   "id": "04ff1a29-7042-4681-88a6-2adaae0664c8",
   "metadata": {},
   "source": [
    "# Лабораторная работа 8\n",
    "# Тема 5. Дискретный логарифм"
   ]
  },
  {
   "cell_type": "markdown",
   "id": "9d88c446-9f12-4bbe-9b9e-c050cae6c0ed",
   "metadata": {},
   "source": [
    "# Задания"
   ]
  },
  {
   "cell_type": "markdown",
   "id": "1202a71c-4228-4fd1-adaa-fac4a6ac8e04",
   "metadata": {
    "slideshow": {
     "slide_type": "skip"
    }
   },
   "source": [
    "## <font color='red'>Задание 1.</font>\n",
    "\n",
    "Написать функцию, которая определяет, является ли $\\;a\\;$  образующим группы $\\;\\mathbb{Z}_p^*,$ $\\;p\\;$ &ndash; простое. На основе данной функции написать функцию, вычисляющую случайный образующий элемент  группы $\\;\\mathbb{Z}_p^*.$ "
   ]
  },
  {
   "cell_type": "markdown",
   "id": "fc0f44cd-feaf-4262-a3b6-3cbadbcabce1",
   "metadata": {},
   "source": [
    "## Решение"
   ]
  },
  {
   "cell_type": "code",
   "execution_count": 3,
   "id": "6c18634e-8534-44d3-a768-0c3f23a9c92f",
   "metadata": {},
   "outputs": [],
   "source": [
    "p1 = 13"
   ]
  },
  {
   "cell_type": "code",
   "execution_count": 2,
   "id": "66b59f2e-f871-476e-9cb1-b225f972fbb2",
   "metadata": {},
   "outputs": [],
   "source": [
    "import sympy as smp\n",
    "\n",
    "def is_generator(p, g):\n",
    "    group_ln = p - 1\n",
    "    pr_dict = smp.factorint(group_ln)\n",
    "    for el in pr_dict:\n",
    "        if pow(g, group_ln // el, p) == 1:\n",
    "            return False\n",
    "    return True"
   ]
  },
  {
   "cell_type": "code",
   "execution_count": 5,
   "id": "d76897d5-0d22-4d4b-96bb-7f328baa876c",
   "metadata": {},
   "outputs": [
    {
     "data": {
      "text/plain": [
       "True"
      ]
     },
     "execution_count": 5,
     "metadata": {},
     "output_type": "execute_result"
    }
   ],
   "source": [
    "is_generator(p1, 2)"
   ]
  },
  {
   "cell_type": "code",
   "execution_count": 32,
   "id": "4cb59b5a-4688-49ea-8b77-30ac98a3460f",
   "metadata": {},
   "outputs": [],
   "source": [
    "import random\n",
    "def get_generator(G, p):\n",
    "    while(True):\n",
    "        el = G[random.randint(0, p - 2)]\n",
    "        if is_generator(p, el):\n",
    "            return el\n",
    "    return None"
   ]
  },
  {
   "cell_type": "code",
   "execution_count": 53,
   "id": "70f02808-7a1a-4d3f-918f-49e75cb76f92",
   "metadata": {},
   "outputs": [],
   "source": [
    "G1 = range(1, p1)"
   ]
  },
  {
   "cell_type": "code",
   "execution_count": 54,
   "id": "e19ffc17-7f4c-4386-becd-42cb4ab0794b",
   "metadata": {},
   "outputs": [
    {
     "name": "stdout",
     "output_type": "stream",
     "text": [
      "6\n"
     ]
    }
   ],
   "source": [
    "print(get_generator(G1, p1))"
   ]
  },
  {
   "cell_type": "markdown",
   "id": "b448157b-06ca-480b-bf93-43505fcc3167",
   "metadata": {
    "slideshow": {
     "slide_type": "skip"
    },
    "tags": []
   },
   "source": [
    "## <font color='red'>Задание 2.</font>\n",
    "\n",
    "Реализовать алгоритм больших и малых шагов для мультипликативной группы кольца $\\;\\mathbb{Z}_p^*,$  $\\;p\\;$ &ndash; простое."
   ]
  },
  {
   "cell_type": "markdown",
   "id": "88531617-ce61-4148-8eb2-681ac028d904",
   "metadata": {},
   "source": [
    "## Решение"
   ]
  },
  {
   "cell_type": "code",
   "execution_count": 154,
   "id": "4ebed1d2-6e9c-4a77-be70-ba4794345572",
   "metadata": {
    "tags": []
   },
   "outputs": [],
   "source": [
    "import math\n",
    "\n",
    "def getIntersection(L1, L2):\n",
    "    L = L1 + L2\n",
    "    L.sort()\n",
    "    res = []\n",
    "    for i in range(len(L) - 1):\n",
    "        if (L[i] == L[i + 1]) and (L[i] in L1) and (L[i] in L2):\n",
    "            res += [L[i]]\n",
    "    return res\n",
    "\n",
    "def baby_step_giant_step(a, b, p):\n",
    "    h = math.ceil(math.sqrt(p)) + 1\n",
    "    c = pow(a, h, p)\n",
    "    L1 = [pow(c, u, p) for u in range(1, h + 1)]\n",
    "    L2 = [(b * pow(a, v, p)) % p for v in range(1, h + 1)]\n",
    "    inters = getIntersection(L1, L2)\n",
    "    if not inters:\n",
    "        return None\n",
    "    res = []\n",
    "    for el in inters:\n",
    "        for u in range(len(L1)):\n",
    "            if(L1[u] == el):\n",
    "                for v in range(len(L2)):\n",
    "                    if(L2[v] == el):\n",
    "                        res += [(h * (u + 1)) % p - (v + 1)]\n",
    "    return res"
   ]
  },
  {
   "cell_type": "markdown",
   "id": "17df8b49-b115-42e9-884d-06d021bc941e",
   "metadata": {},
   "source": [
    "## Другое решение:\n",
    "https://gist.github.com/0xTowel/b4e7233fc86d8bb49698e4f1318a5a73"
   ]
  },
  {
   "cell_type": "code",
   "execution_count": 139,
   "id": "9203fb48-bf6e-4dba-8fd3-f9c72c16ddd4",
   "metadata": {},
   "outputs": [],
   "source": [
    "from math import ceil, sqrt\n",
    "\n",
    "\n",
    "def bsgs(g, h, p):\n",
    "    '''\n",
    "    Solve for x in h = g^x mod p given a prime p.\n",
    "    If p is not prime, you shouldn't use BSGS anyway.\n",
    "    '''\n",
    "    N = ceil(sqrt(p - 1))  # phi(p) is p-1 if p is prime\n",
    "\n",
    "    # Store hashmap of g^{1...m} (mod p). Baby step.\n",
    "    tbl = {pow(g, i, p): i for i in range(N)}\n",
    "\n",
    "    # Precompute via Fermat's Little Theorem\n",
    "    c = pow(g, N * (p - 2), p)\n",
    "\n",
    "    # Search for an equivalence in the table. Giant step.\n",
    "    for j in range(N):\n",
    "        y = (h * pow(c, j, p)) % p\n",
    "        if y in tbl:\n",
    "            return j * N + tbl[y]\n",
    "\n",
    "    # Solution not found\n",
    "    return None"
   ]
  },
  {
   "cell_type": "code",
   "execution_count": null,
   "id": "47b79801-dcff-4479-8546-99c357f62a3b",
   "metadata": {},
   "outputs": [
    {
     "data": {
      "text/plain": [
       "1"
      ]
     },
     "execution_count": 145,
     "metadata": {},
     "output_type": "execute_result"
    }
   ],
   "source": [
    "len({1,1})"
   ]
  },
  {
   "cell_type": "markdown",
   "id": "8e77e8ba-3ba9-4f00-b168-65d4c99ecd68",
   "metadata": {
    "jp-MarkdownHeadingCollapsed": true,
    "slideshow": {
     "slide_type": "skip"
    },
    "tags": []
   },
   "source": [
    "## <font color='red'>Задание 3.</font>\n",
    "\n",
    "Верно ли, что \n",
    "$$h^2-1\\geq n,$$\n",
    "где $h = [\\sqrt{n}]+1.$ "
   ]
  },
  {
   "cell_type": "markdown",
   "id": "87b2410c-ebdd-4c3f-80cb-54a4313a5332",
   "metadata": {},
   "source": [
    "## Решение"
   ]
  },
  {
   "cell_type": "markdown",
   "id": "fe9c4e71-60cd-4f89-bd97-a5c9100b1103",
   "metadata": {},
   "source": [
    "Подставляю в неравенсто:\n",
    "$$\\left( \\left[ \\sqrt{n} \\right] + 1 \\right)^2 - 1\\geq n,$$\n",
    "\n",
    "\n",
    "$$\\left[ \\sqrt{n} \\right]^2 + 2\\left[ \\sqrt{n} \\right] \\geq n.$$\n",
    "\n",
    "\n",
    "$$2\\left[ \\sqrt{n} \\right] \\geq n - \\left[ \\sqrt{n} \\right]^2.$$\n",
    "Возможны три варианта округления в меньшую сторону и в большую (равенство включил в один из них):\n",
    "$$\\left[ \\sqrt{n} \\right] \\leq \\sqrt{n}; \\; \\; \\; \\left[ \\sqrt{n} \\right] > \\sqrt{n}.$$\n",
    "Соответственно, в результате возведения в квадрат:\n",
    "$$\\left[ \\sqrt{n} \\right]^2 \\leq n; \\; \\; \\; \\left[ \\sqrt{n} \\right]^2 > n$$\n",
    "\n",
    "Возвращаясь к исходному неравенству, рассматриваю эти два случая и получаю:\n",
    "$$2\\left[ \\sqrt{n} \\right] \\geq g,$$\n",
    "где $g = n - \\left[ \\sqrt{n} \\right]^2:$\n",
    "$$g \\ge 0; \\; \\; \\; g < 0$$\n",
    "Рассмотрю первый случай:\n",
    "$$2\\left[ \\sqrt{n} \\right] \\geq \\left( \\sqrt{n} - \\left[ \\sqrt{n} \\right] \\right) \\left( \\sqrt{n} + \\left[ \\sqrt{n} \\right] \\right),$$\n",
    "\n",
    "$$2 \\geq \\left( \\dfrac{\\sqrt{n}}{\\left[ \\sqrt{n} \\right]} - 1 \\right) \\left( \\dfrac{\\sqrt{n}}{\\left[ \\sqrt{n} \\right]} + 1 \\right).$$\n",
    "Чтсло в первой скобке принадлежит промежутку $(0; 1)$, умножив его на вторую скобку получу число $\\leq 2.$"
   ]
  },
  {
   "cell_type": "markdown",
   "id": "87c2f139-d82e-458e-b69b-244ee4f340ed",
   "metadata": {
    "slideshow": {
     "slide_type": "skip"
    }
   },
   "source": [
    "## <font color='red'>Задание 4.</font>\n",
    "\n",
    "Вычислить дискретные логарифмы\n",
    "$$\n",
    "  \\log_{a_1}b_1 \\;\\;в\\;\\;\\mathbb{Z}_{p_1}^*,\\qquad\\log_{a_2}b_2 \\;\\;в\\;\\;\\mathbb{Z}_{p_2}^*,\\qquad\\log_{a_3}b_3 \\;\\;в\\;\\;\\mathbb{Z}_{p_3}^*.\n",
    "$$  "
   ]
  },
  {
   "cell_type": "code",
   "execution_count": 121,
   "id": "cc14aae0-538f-4c07-8447-5574e142da31",
   "metadata": {
    "slideshow": {
     "slide_type": "skip"
    },
    "tags": []
   },
   "outputs": [],
   "source": [
    "a1 = 337263364997\n",
    "b1 = 3\n",
    "p1 = 897231635203\n",
    "a2 = 360353870069\n",
    "b2 = 9\n",
    "p2 = 591981566899\n",
    "a3 = 444416090410\n",
    "b3 = 2\n",
    "p3 = 616389045773"
   ]
  },
  {
   "cell_type": "markdown",
   "id": "cf855103-fbdd-45ee-8a8f-1e36e0eb7200",
   "metadata": {
    "tags": []
   },
   "source": [
    "## Решение"
   ]
  },
  {
   "cell_type": "code",
   "execution_count": 155,
   "id": "d9e8a46d-ffe8-4284-a176-36de5bebfdd5",
   "metadata": {
    "tags": []
   },
   "outputs": [
    {
     "name": "stdout",
     "output_type": "stream",
     "text": [
      "[218871249363]\n"
     ]
    }
   ],
   "source": [
    "res1 = baby_step_giant_step(a1, b1, p1)\n",
    "print(res1)"
   ]
  },
  {
   "cell_type": "code",
   "execution_count": 156,
   "id": "c93df9fe-9daa-4630-9555-044303445a88",
   "metadata": {},
   "outputs": [
    {
     "name": "stdout",
     "output_type": "stream",
     "text": [
      "[241805061133, 537795844582]\n"
     ]
    }
   ],
   "source": [
    "res2 = baby_step_giant_step(a2, b2, p2)\n",
    "print(res2)"
   ]
  },
  {
   "cell_type": "code",
   "execution_count": 157,
   "id": "f38e1255-eb46-427b-9534-770c5909d329",
   "metadata": {},
   "outputs": [
    {
     "name": "stdout",
     "output_type": "stream",
     "text": [
      "None\n"
     ]
    }
   ],
   "source": [
    "res3 = baby_step_giant_step(a3, b3, p3)\n",
    "print(res3)"
   ]
  },
  {
   "cell_type": "markdown",
   "id": "66de2c22-46ee-4be5-a691-7ad09df3f5da",
   "metadata": {},
   "source": [
    "## Проверка"
   ]
  },
  {
   "cell_type": "code",
   "execution_count": 158,
   "id": "088cf0d5-245e-46b0-bbe1-4ac5df637561",
   "metadata": {},
   "outputs": [
    {
     "data": {
      "text/plain": [
       "True"
      ]
     },
     "execution_count": 158,
     "metadata": {},
     "output_type": "execute_result"
    }
   ],
   "source": [
    "pow(a1, res1[0], p1) == b1"
   ]
  },
  {
   "cell_type": "code",
   "execution_count": 159,
   "id": "4c99dffa-3090-4690-beeb-3991af320b7b",
   "metadata": {},
   "outputs": [
    {
     "data": {
      "text/plain": [
       "True"
      ]
     },
     "execution_count": 159,
     "metadata": {},
     "output_type": "execute_result"
    }
   ],
   "source": [
    "pow(a2, res2[0], p2) == b2"
   ]
  },
  {
   "cell_type": "code",
   "execution_count": 160,
   "id": "a2354bd5-d94b-4ea8-9870-6f36fc2647d6",
   "metadata": {},
   "outputs": [
    {
     "data": {
      "text/plain": [
       "True"
      ]
     },
     "execution_count": 160,
     "metadata": {},
     "output_type": "execute_result"
    }
   ],
   "source": [
    "pow(a2, res2[1], p2) == b2"
   ]
  },
  {
   "cell_type": "markdown",
   "id": "ac26d0ff-299d-4bf8-b9e4-925d4d903eff",
   "metadata": {
    "slideshow": {
     "slide_type": "skip"
    }
   },
   "source": [
    "## <font color='red'>Задание 5.</font>\n",
    "\n",
    "Реализовать алгоритм Полига-Хеллмана для мультипликативной группы кольца $\\;\\mathbb{Z}_p^*,$  $\\;p\\;$ &ndash; простое."
   ]
  },
  {
   "cell_type": "markdown",
   "id": "0489679e-e5b0-4a83-8189-125a01889b4f",
   "metadata": {},
   "source": [
    "## Решение"
   ]
  },
  {
   "cell_type": "code",
   "execution_count": 14,
   "id": "1a0dc564-03e8-4fa9-b031-f9f0896cf582",
   "metadata": {},
   "outputs": [],
   "source": [
    "from sympy.ntheory.modular import crt \n",
    "import sympy as smp\n",
    "\n",
    "def find_log(q, a, p, b, g):\n",
    "    c = pow(g, (p - 1) // q, p)\n",
    "    L = [pow(c, i, p) for i in range(q)]\n",
    "    u = []\n",
    "    u0 = L.index(pow(b, (p - 1) // q, p))\n",
    "    u += [u0]\n",
    "    q_list = smp.factorint(p - 1)\n",
    "    for k in range(a):\n",
    "        temp_sum = sum([u[i] * pow(q, i) for i in range(k)])\n",
    "        u += [L.index(pow((b * pow(g, -1 * temp_sum, p)) % p, (p - 1) // pow(q, k + 1), p))]\n",
    "    return sum([(u[i] * pow(q, i)) % p for i in range(a)])\n",
    "\n",
    "def Pohlig_Hellman(p, b, g):\n",
    "    pr_dict = smp.factorint(p)\n",
    "    X = [find_log(el, pr_dict[el], p, b, g) for el in pr_dict]\n",
    "    return crt([pow(el, pr_dict[el])], X)"
   ]
  },
  {
   "cell_type": "markdown",
   "id": "5f8817fa-b67a-4a68-b51f-47df37dfb1c3",
   "metadata": {
    "slideshow": {
     "slide_type": "subslide"
    }
   },
   "source": [
    "## Вычисление $\\;\\;\\rm\\log_g b\\mod q^\\alpha$\n",
    "**Input:**  $\\; q$ &ndash; простое, $\\;\\alpha\\in\\mathbb{N},\\;$ что $\\;q^\\alpha\\mid n,\\;$\t $\\quad n$ &ndash; порядок группы $\\;G;$\n",
    "\n",
    "\n",
    "\t \n",
    "$\\qquad b\\in G,$ $\\quad g$ &ndash; образующий элемент группы $\\;G.$\n",
    "\n",
    "**Output:**  $\\;x=\\log_g b\\mod q^\\alpha.$\n",
    "\t\n",
    "\n",
    "$1.$ Вычисляем список\n",
    "$$\n",
    "  L:=\\{1, c ,c^2,\\dots,c^{q-1}\\}, \\qquad где \\;\\;\\;c:=g^{n/q}.\n",
    "$$\n",
    "\t\n",
    "$2.$ Для $\\;k:=0,\\dots,\\alpha-1\\;$ находим\n",
    "$$\n",
    "\tu_k:={\\rm Position}(L,(b g^{-(u_0+u_1q+\\dots\n",
    "\t\t+u_{k-1}q^{k-1})})^{n/q^{k+1}}).\n",
    "$$\n",
    "Здесь $\\;u_0\\;$ удовлетворяет условию $\\;c^{u_0}= b^{n/q},\\;$ т.е.\n",
    "$\\;\n",
    "u_0:={\\rm Position}(L,b ^{n/q}).\n",
    "$\n",
    "\t\n",
    "$3.$ Ответ $\\;x:=u_0+u_1q+\\dots+u_{\\alpha-1}q^{\\alpha-1}.$"
   ]
  },
  {
   "cell_type": "markdown",
   "id": "2487fada-0ab9-4077-ba21-a7d010fb24be",
   "metadata": {
    "slideshow": {
     "slide_type": "subslide"
    }
   },
   "source": [
    "##  Алгоритм Полига-Хеллмана ( Pohlig–Hellman)\n",
    "**Input:**   $\\;n$ &ndash; порядок группы $\\;G;$\n",
    "\t \n",
    "$\\qquad b\\in G,$ $\\quad g$ &ndash; образующий элемент группы $\\;G.$\n",
    "\t\n",
    "**Output:**  $\\;x=\\log_g b.$\n",
    "\t\n",
    "$1.$ Для $\\;i:=1,\\dots,s\\;$ находим $\\;x_i=\\log_g b\\mod\n",
    "\tq_i^{\\alpha_i}\\;$ при помощи предыдущего алгоритма.\n",
    "\t\n",
    "$2.$ При помощи китайской теоремы об остатках решаем\n",
    "\tсистему\n",
    "\t\\begin{align*}\n",
    "\tx & \\equiv x_1\\mod q_1^{\\alpha_1},\\\\\n",
    "\t\\vdots\\\\\n",
    "\tx & \\equiv x_s\\mod q_s^{\\alpha_s}.\n",
    "\t\\end{align*}\n",
    "\tВыдаем результат: $\\;    x\\in\\mathbb{Z}_{n}.$"
   ]
  },
  {
   "cell_type": "markdown",
   "id": "8a6aa083-3174-45e4-8418-63d20c6d2bb9",
   "metadata": {
    "slideshow": {
     "slide_type": "skip"
    }
   },
   "source": [
    "## <font color='red'>Задание 6.</font>\n",
    "\n",
    "Вычислить дискретные логарифмы одним из способов\n",
    "$$\n",
    "  \\log_{g_1}b_1 \\;\\;в\\;\\;\\mathbb{Z}_{p_1}^*,\\qquad\\log_{g_2}b_2 \\;\\;в\\;\\;\\mathbb{Z}_{p_2}^*.\n",
    "$$\n",
    "От каких свойств числа $\\;p\\;$ зависит скорость работы алгоритма больших и малых шагов и алгоритма Полига-Хеллмана?"
   ]
  },
  {
   "cell_type": "code",
   "execution_count": 9,
   "id": "e4e0569c-6b14-4f0c-9ed3-d233c3380d46",
   "metadata": {
    "slideshow": {
     "slide_type": "skip"
    }
   },
   "outputs": [],
   "source": [
    "p1 = 238484123\n",
    "g1 = 11455278\n",
    "b1 = 2\n",
    "p2 = 958824966669719\n",
    "g2 = 6851211612324\n",
    "b2 = 3"
   ]
  },
  {
   "cell_type": "code",
   "execution_count": null,
   "id": "f3813f29-d1fb-4488-a58a-768d1072df2b",
   "metadata": {},
   "outputs": [],
   "source": [
    "Pohlig_Hellman(p1, g1, b1)"
   ]
  },
  {
   "cell_type": "code",
   "execution_count": null,
   "id": "2f43fb1a-e65d-4e33-9fd3-000f608d199c",
   "metadata": {},
   "outputs": [],
   "source": []
  }
 ],
 "metadata": {
  "kernelspec": {
   "display_name": "Python 3 (ipykernel)",
   "language": "python",
   "name": "python3"
  },
  "language_info": {
   "codemirror_mode": {
    "name": "ipython",
    "version": 3
   },
   "file_extension": ".py",
   "mimetype": "text/x-python",
   "name": "python",
   "nbconvert_exporter": "python",
   "pygments_lexer": "ipython3",
   "version": "3.11.1"
  }
 },
 "nbformat": 4,
 "nbformat_minor": 5
}
