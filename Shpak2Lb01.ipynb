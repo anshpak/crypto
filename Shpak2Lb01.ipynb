{
 "cells": [
  {
   "cell_type": "markdown",
   "id": "04ff1a29-7042-4681-88a6-2adaae0664c8",
   "metadata": {},
   "source": [
    "# Лабораторная работа 8\n",
    "# Тема 5. Дискретный логарифм"
   ]
  },
  {
   "cell_type": "markdown",
   "id": "9d88c446-9f12-4bbe-9b9e-c050cae6c0ed",
   "metadata": {},
   "source": [
    "# Задания"
   ]
  },
  {
   "cell_type": "markdown",
   "id": "1202a71c-4228-4fd1-adaa-fac4a6ac8e04",
   "metadata": {
    "slideshow": {
     "slide_type": "skip"
    }
   },
   "source": [
    "## <font color='red'>Задание 1.</font>\n",
    "\n",
    "Написать функцию, которая определяет, является ли $\\;a\\;$  образующим группы $\\;\\mathbb{Z}_p^*,$ $\\;p\\;$ &ndash; простое. На основе данной функции написать функцию, вычисляющую случайный образующий элемент  группы $\\;\\mathbb{Z}_p^*.$ "
   ]
  },
  {
   "cell_type": "markdown",
   "id": "fc0f44cd-feaf-4262-a3b6-3cbadbcabce1",
   "metadata": {},
   "source": [
    "## Решение"
   ]
  },
  {
   "cell_type": "code",
   "execution_count": 73,
   "id": "e18a71f7-0029-411b-99ed-f1bc0cc53ca7",
   "metadata": {},
   "outputs": [],
   "source": [
    "G1 = [1, 5, 11, 13, 17, 19, 23, 25, 29, 31, 37, 41]\n",
    "p1 = 42"
   ]
  },
  {
   "cell_type": "code",
   "execution_count": 74,
   "id": "66b59f2e-f871-476e-9cb1-b225f972fbb2",
   "metadata": {},
   "outputs": [],
   "source": [
    "import sympy as smp\n",
    "\n",
    "def is_generator(G, p, g):\n",
    "    if g not in G:\n",
    "        return False\n",
    "    group_ln = len(G)\n",
    "    pr_dict = smp.factorint(group_ln)\n",
    "    for el in pr_dict:\n",
    "        if pow(g, group_ln // el, p) == 1:\n",
    "            return False\n",
    "    return True"
   ]
  },
  {
   "cell_type": "code",
   "execution_count": 75,
   "id": "d76897d5-0d22-4d4b-96bb-7f328baa876c",
   "metadata": {},
   "outputs": [
    {
     "data": {
      "text/plain": [
       "False"
      ]
     },
     "execution_count": 75,
     "metadata": {},
     "output_type": "execute_result"
    }
   ],
   "source": [
    "is_generator(G1, p1, 5)"
   ]
  },
  {
   "cell_type": "code",
   "execution_count": 76,
   "id": "4cb59b5a-4688-49ea-8b77-30ac98a3460f",
   "metadata": {},
   "outputs": [],
   "source": [
    "def get_generator(G, p):\n",
    "    for el in G:\n",
    "        if is_generator(G, p, el):\n",
    "            return el\n",
    "    return None"
   ]
  },
  {
   "cell_type": "code",
   "execution_count": 77,
   "id": "e19ffc17-7f4c-4386-becd-42cb4ab0794b",
   "metadata": {},
   "outputs": [
    {
     "name": "stdout",
     "output_type": "stream",
     "text": [
      "None\n"
     ]
    }
   ],
   "source": [
    "print(get_generator(G1, p1))"
   ]
  },
  {
   "cell_type": "code",
   "execution_count": 78,
   "id": "21992671-2606-41d1-b8ee-5b29a9aa89b0",
   "metadata": {},
   "outputs": [],
   "source": [
    "G2 = [1, 2, 4, 5, 7, 8]\n",
    "p2 = 9"
   ]
  },
  {
   "cell_type": "code",
   "execution_count": 79,
   "id": "7bac573d-2133-4822-a25d-3e305c88208c",
   "metadata": {},
   "outputs": [
    {
     "name": "stdout",
     "output_type": "stream",
     "text": [
      "2\n"
     ]
    }
   ],
   "source": [
    "print(get_generator(G2, p2))"
   ]
  },
  {
   "cell_type": "code",
   "execution_count": null,
   "id": "2615553a-4aa3-4e96-8a88-7e7246940b8b",
   "metadata": {},
   "outputs": [],
   "source": []
  }
 ],
 "metadata": {
  "kernelspec": {
   "display_name": "Python 3 (ipykernel)",
   "language": "python",
   "name": "python3"
  },
  "language_info": {
   "codemirror_mode": {
    "name": "ipython",
    "version": 3
   },
   "file_extension": ".py",
   "mimetype": "text/x-python",
   "name": "python",
   "nbconvert_exporter": "python",
   "pygments_lexer": "ipython3",
   "version": "3.11.1"
  }
 },
 "nbformat": 4,
 "nbformat_minor": 5
}
