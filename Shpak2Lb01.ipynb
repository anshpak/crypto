{
 "cells": [
  {
   "cell_type": "markdown",
   "id": "04ff1a29-7042-4681-88a6-2adaae0664c8",
   "metadata": {},
   "source": [
    "# Лабораторная работа 8\n",
    "# Тема 5. Дискретный логарифм"
   ]
  },
  {
   "cell_type": "markdown",
   "id": "9d88c446-9f12-4bbe-9b9e-c050cae6c0ed",
   "metadata": {},
   "source": [
    "# Задания"
   ]
  },
  {
   "cell_type": "markdown",
   "id": "1202a71c-4228-4fd1-adaa-fac4a6ac8e04",
   "metadata": {
    "slideshow": {
     "slide_type": "skip"
    }
   },
   "source": [
    "## <font color='red'>Задание 1.</font>\n",
    "\n",
    "Написать функцию, которая определяет, является ли $\\;a\\;$  образующим группы $\\;\\mathbb{Z}_p^*,$ $\\;p\\;$ &ndash; простое. На основе данной функции написать функцию, вычисляющую случайный образующий элемент  группы $\\;\\mathbb{Z}_p^*.$ "
   ]
  },
  {
   "cell_type": "markdown",
   "id": "fc0f44cd-feaf-4262-a3b6-3cbadbcabce1",
   "metadata": {},
   "source": [
    "## Решение"
   ]
  },
  {
   "cell_type": "code",
   "execution_count": 73,
   "id": "e18a71f7-0029-411b-99ed-f1bc0cc53ca7",
   "metadata": {},
   "outputs": [],
   "source": [
    "G1 = [1, 5, 11, 13, 17, 19, 23, 25, 29, 31, 37, 41]\n",
    "p1 = 42"
   ]
  },
  {
   "cell_type": "code",
   "execution_count": 1,
   "id": "66b59f2e-f871-476e-9cb1-b225f972fbb2",
   "metadata": {},
   "outputs": [],
   "source": [
    "import sympy as smp\n",
    "\n",
    "def is_generator(G, p, g):\n",
    "    if g not in G:\n",
    "        return False\n",
    "    group_ln = len(G)\n",
    "    pr_dict = smp.factorint(group_ln)\n",
    "    for el in pr_dict:\n",
    "        if pow(g, group_ln // el, p) == 1:\n",
    "            return False\n",
    "    return True"
   ]
  },
  {
   "cell_type": "code",
   "execution_count": 75,
   "id": "d76897d5-0d22-4d4b-96bb-7f328baa876c",
   "metadata": {},
   "outputs": [
    {
     "data": {
      "text/plain": [
       "False"
      ]
     },
     "execution_count": 75,
     "metadata": {},
     "output_type": "execute_result"
    }
   ],
   "source": [
    "is_generator(G1, p1, 5)"
   ]
  },
  {
   "cell_type": "code",
   "execution_count": 76,
   "id": "4cb59b5a-4688-49ea-8b77-30ac98a3460f",
   "metadata": {},
   "outputs": [],
   "source": [
    "def get_generator(G, p):\n",
    "    for el in G:\n",
    "        if is_generator(G, p, el):\n",
    "            return el\n",
    "    return None"
   ]
  },
  {
   "cell_type": "code",
   "execution_count": 77,
   "id": "e19ffc17-7f4c-4386-becd-42cb4ab0794b",
   "metadata": {},
   "outputs": [
    {
     "name": "stdout",
     "output_type": "stream",
     "text": [
      "None\n"
     ]
    }
   ],
   "source": [
    "print(get_generator(G1, p1))"
   ]
  },
  {
   "cell_type": "code",
   "execution_count": 78,
   "id": "21992671-2606-41d1-b8ee-5b29a9aa89b0",
   "metadata": {},
   "outputs": [],
   "source": [
    "G2 = [1, 2, 4, 5, 7, 8]\n",
    "p2 = 9"
   ]
  },
  {
   "cell_type": "code",
   "execution_count": 79,
   "id": "7bac573d-2133-4822-a25d-3e305c88208c",
   "metadata": {
    "tags": []
   },
   "outputs": [
    {
     "name": "stdout",
     "output_type": "stream",
     "text": [
      "2\n"
     ]
    }
   ],
   "source": [
    "print(get_generator(G2, p2))"
   ]
  },
  {
   "cell_type": "markdown",
   "id": "b448157b-06ca-480b-bf93-43505fcc3167",
   "metadata": {
    "slideshow": {
     "slide_type": "skip"
    },
    "tags": []
   },
   "source": [
    "## <font color='red'>Задание 2.</font>\n",
    "\n",
    "Реализовать алгоритм больших и малых шагов для мультипликативной группы кольца $\\;\\mathbb{Z}_p^*,$  $\\;p\\;$ &ndash; простое."
   ]
  },
  {
   "cell_type": "markdown",
   "id": "88531617-ce61-4148-8eb2-681ac028d904",
   "metadata": {},
   "source": [
    "## Решение"
   ]
  },
  {
   "cell_type": "code",
   "execution_count": 5,
   "id": "4ebed1d2-6e9c-4a77-be70-ba4794345572",
   "metadata": {},
   "outputs": [],
   "source": [
    "import math\n",
    "\n",
    "def intersection(L1, L2):\n",
    "    L = L1 + L2\n",
    "    L.sort\n",
    "    for i in range(len(L) - 1):\n",
    "        if (L[i] == L[i + 1]) and (L[i] in L1) and (L[i] in L2):\n",
    "            return True\n",
    "    return False\n",
    "\n",
    "def baby_step_giant_step(a, b, G, p):\n",
    "    h = round(math.sqrt(len(G) + 1)) + 1\n",
    "    c = pow(a, h, p)\n",
    "    L1 = [pow(c, u, p) for u in range(1, h + 1)]\n",
    "    L2 = [(b * pow(a, v, p)) % p for v in range(1, h + 1)]\n",
    "    if not intersection(L1, L2):\n",
    "        return None\n",
    "    for x in L1:\n",
    "        for y in L2:\n",
    "            if x == y:\n",
    "                return (h * x) % p - y"
   ]
  },
  {
   "cell_type": "markdown",
   "id": "8e77e8ba-3ba9-4f00-b168-65d4c99ecd68",
   "metadata": {
    "slideshow": {
     "slide_type": "skip"
    },
    "tags": []
   },
   "source": [
    "## <font color='red'>Задание 3.</font>\n",
    "\n",
    "Верно ли, что \n",
    "$$h^2-1\\geq n,$$\n",
    "где $h = [\\sqrt{n}]+1.$ "
   ]
  },
  {
   "cell_type": "markdown",
   "id": "87b2410c-ebdd-4c3f-80cb-54a4313a5332",
   "metadata": {},
   "source": [
    "## Решение"
   ]
  },
  {
   "cell_type": "markdown",
   "id": "fe9c4e71-60cd-4f89-bd97-a5c9100b1103",
   "metadata": {},
   "source": [
    "Подставляю в неравенсто:\n",
    "$$\\left( \\left[ \\sqrt{n} \\right] + 1 \\right)^2 - 1\\geq n,$$\n",
    "\n",
    "\n",
    "$$\\left[ \\sqrt{n} \\right]^2 + 2\\left[ \\sqrt{n} \\right] \\geq n.$$\n",
    "\n",
    "\n",
    "$$2\\left[ \\sqrt{n} \\right] \\geq n - \\left[ \\sqrt{n} \\right]^2.$$\n",
    "Возможны три варианта округления в меньшую сторону и в большую (равенство включил в один из них):\n",
    "$$\\left[ \\sqrt{n} \\right] \\leq \\sqrt{n}; \\; \\; \\; \\left[ \\sqrt{n} \\right] > \\sqrt{n}.$$\n",
    "Соответственно, в результате возведения в квадрат:\n",
    "$$\\left[ \\sqrt{n} \\right]^2 \\leq n; \\; \\; \\; \\left[ \\sqrt{n} \\right]^2 > n$$\n",
    "\n",
    "Возвращаясь к исходному неравенству, рассматриваю эти два случая и получаю:\n",
    "$$2\\left[ \\sqrt{n} \\right] \\geq h,$$\n",
    "где $h = n - \\left[ \\sqrt{n} \\right]^2:$\n",
    "$$h \\ge 0; \\; \\; \\; h < 0$$\n",
    "Рассмотрю первый случай:\n",
    "$$2\\left[ \\sqrt{n} \\right] \\geq \\left( \\sqrt{n} - \\left[ \\sqrt{n} \\right] \\right) \\left( \\sqrt{n} + \\left[ \\sqrt{n} \\right] \\right),$$\n",
    "\n",
    "$$2 \\geq \\left( \\dfrac{\\sqrt{n}}{\\left[ \\sqrt{n} \\right]} - 1 \\right) \\left( \\dfrac{\\sqrt{n}}{\\left[ \\sqrt{n} \\right]} + 1 \\right).$$\n",
    "Чтсло в первой скобке принадлежит промежутку $(0; 1)$, умножив его на вторую скобку получу число $\\leq 2.$"
   ]
  },
  {
   "cell_type": "markdown",
   "id": "87c2f139-d82e-458e-b69b-244ee4f340ed",
   "metadata": {
    "slideshow": {
     "slide_type": "skip"
    }
   },
   "source": [
    "## <font color='red'>Задание 4.</font>\n",
    "\n",
    "Вычислить дискретные логарифмы\n",
    "$$\n",
    "  \\log_{a_1}b_1 \\;\\;в\\;\\;\\mathbb{Z}_{p_1}^*,\\qquad\\log_{a_2}b_2 \\;\\;в\\;\\;\\mathbb{Z}_{p_2}^*,\\qquad\\log_{a_3}b_3 \\;\\;в\\;\\;\\mathbb{Z}_{p_3}^*.\n",
    "$$  "
   ]
  },
  {
   "cell_type": "code",
   "execution_count": 3,
   "id": "cc14aae0-538f-4c07-8447-5574e142da31",
   "metadata": {
    "slideshow": {
     "slide_type": "skip"
    },
    "tags": []
   },
   "outputs": [],
   "source": [
    "a1 = 337263364997\n",
    "b1 = 3\n",
    "p1 = 897231635203\n",
    "a2 = 360353870069\n",
    "b2 = 9\n",
    "p2 = 591981566899\n",
    "a3 = 444416090410\n",
    "b3 = 2\n",
    "p3 = 616389045773"
   ]
  },
  {
   "cell_type": "markdown",
   "id": "cf855103-fbdd-45ee-8a8f-1e36e0eb7200",
   "metadata": {
    "tags": []
   },
   "source": [
    "## Решение"
   ]
  },
  {
   "cell_type": "code",
   "execution_count": 15,
   "id": "89427cdd-9cfa-4304-a405-673426fbe46a",
   "metadata": {},
   "outputs": [],
   "source": [
    "def is_prime(number):\n",
    "    if number > 1:\n",
    "        for num in range(2, int(number**0.5) + 1):\n",
    "            if number % num == 0:\n",
    "                return False\n",
    "        return True\n",
    "    return False"
   ]
  },
  {
   "cell_type": "code",
   "execution_count": 17,
   "id": "cc9a7c61-c1a9-49d3-8228-cf995699acb8",
   "metadata": {},
   "outputs": [
    {
     "ename": "KeyboardInterrupt",
     "evalue": "",
     "output_type": "error",
     "traceback": [
      "\u001b[1;31m---------------------------------------------------------------------------\u001b[0m",
      "\u001b[1;31mKeyboardInterrupt\u001b[0m                         Traceback (most recent call last)",
      "Cell \u001b[1;32mIn[17], line 3\u001b[0m\n\u001b[0;32m      1\u001b[0m prime_numbers \u001b[38;5;241m=\u001b[39m []\n\u001b[0;32m      2\u001b[0m \u001b[38;5;28;01mfor\u001b[39;00m num \u001b[38;5;129;01min\u001b[39;00m \u001b[38;5;28mrange\u001b[39m(\u001b[38;5;241m1\u001b[39m, p1):\n\u001b[1;32m----> 3\u001b[0m     \u001b[38;5;28;01mif\u001b[39;00m \u001b[43mis_prime\u001b[49m\u001b[43m(\u001b[49m\u001b[43mnum\u001b[49m\u001b[43m)\u001b[49m:\n\u001b[0;32m      4\u001b[0m         prime_numbers\u001b[38;5;241m.\u001b[39mappend(num)\n\u001b[0;32m      6\u001b[0m \u001b[38;5;28mprint\u001b[39m(prime_numbers)\n",
      "Cell \u001b[1;32mIn[15], line 4\u001b[0m, in \u001b[0;36mis_prime\u001b[1;34m(number)\u001b[0m\n\u001b[0;32m      2\u001b[0m \u001b[38;5;28;01mif\u001b[39;00m number \u001b[38;5;241m>\u001b[39m \u001b[38;5;241m1\u001b[39m:\n\u001b[0;32m      3\u001b[0m     \u001b[38;5;28;01mfor\u001b[39;00m num \u001b[38;5;129;01min\u001b[39;00m \u001b[38;5;28mrange\u001b[39m(\u001b[38;5;241m2\u001b[39m, \u001b[38;5;28mint\u001b[39m(number\u001b[38;5;241m*\u001b[39m\u001b[38;5;241m*\u001b[39m\u001b[38;5;241m0.5\u001b[39m) \u001b[38;5;241m+\u001b[39m \u001b[38;5;241m1\u001b[39m):\n\u001b[1;32m----> 4\u001b[0m         \u001b[38;5;28;01mif\u001b[39;00m number \u001b[38;5;241m%\u001b[39m num \u001b[38;5;241m==\u001b[39m \u001b[38;5;241m0\u001b[39m:\n\u001b[0;32m      5\u001b[0m             \u001b[38;5;28;01mreturn\u001b[39;00m \u001b[38;5;28;01mFalse\u001b[39;00m\n\u001b[0;32m      6\u001b[0m     \u001b[38;5;28;01mreturn\u001b[39;00m \u001b[38;5;28;01mTrue\u001b[39;00m\n",
      "\u001b[1;31mKeyboardInterrupt\u001b[0m: "
     ]
    }
   ],
   "source": [
    "prime_numbers = []\n",
    "for num in range(1, p1):\n",
    "    if is_prime(num):\n",
    "        prime_numbers.append(num)\n",
    "\n",
    "print(prime_numbers)"
   ]
  },
  {
   "cell_type": "code",
   "execution_count": null,
   "id": "fb1abe17-a478-420f-a579-da3d67203a45",
   "metadata": {},
   "outputs": [],
   "source": [
    "G1 = list(smp.primerange(p2))\n",
    "# G1 = [x if math.gcd(x, p1) == 1 for x in range()]"
   ]
  },
  {
   "cell_type": "code",
   "execution_count": null,
   "id": "d9e8a46d-ffe8-4284-a176-36de5bebfdd5",
   "metadata": {},
   "outputs": [],
   "source": [
    "baby_step_giant_step(a1, b1, G1, p1)"
   ]
  },
  {
   "cell_type": "code",
   "execution_count": 11,
   "id": "6785f70d-bb69-46b2-b40b-c37b51970870",
   "metadata": {},
   "outputs": [
    {
     "data": {
      "text/plain": [
       "3"
      ]
     },
     "execution_count": 11,
     "metadata": {},
     "output_type": "execute_result"
    }
   ],
   "source": [
    "next(G1)"
   ]
  },
  {
   "cell_type": "code",
   "execution_count": 13,
   "id": "98801855-ea93-49ed-8324-2397517baa6c",
   "metadata": {},
   "outputs": [
    {
     "ename": "TypeError",
     "evalue": "object of type 'generator' has no len()",
     "output_type": "error",
     "traceback": [
      "\u001b[1;31m---------------------------------------------------------------------------\u001b[0m",
      "\u001b[1;31mTypeError\u001b[0m                                 Traceback (most recent call last)",
      "Cell \u001b[1;32mIn[13], line 1\u001b[0m\n\u001b[1;32m----> 1\u001b[0m \u001b[38;5;28;43mlen\u001b[39;49m\u001b[43m(\u001b[49m\u001b[43mG1\u001b[49m\u001b[43m)\u001b[49m\n",
      "\u001b[1;31mTypeError\u001b[0m: object of type 'generator' has no len()"
     ]
    }
   ],
   "source": [
    "len(G1)"
   ]
  },
  {
   "cell_type": "code",
   "execution_count": null,
   "id": "f3813f29-d1fb-4488-a58a-768d1072df2b",
   "metadata": {},
   "outputs": [],
   "source": []
  }
 ],
 "metadata": {
  "kernelspec": {
   "display_name": "Python 3 (ipykernel)",
   "language": "python",
   "name": "python3"
  },
  "language_info": {
   "codemirror_mode": {
    "name": "ipython",
    "version": 3
   },
   "file_extension": ".py",
   "mimetype": "text/x-python",
   "name": "python",
   "nbconvert_exporter": "python",
   "pygments_lexer": "ipython3",
   "version": "3.11.1"
  }
 },
 "nbformat": 4,
 "nbformat_minor": 5
}
