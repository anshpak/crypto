{
 "cells": [
  {
   "cell_type": "markdown",
   "id": "04ff1a29-7042-4681-88a6-2adaae0664c8",
   "metadata": {},
   "source": [
    "# Лабораторная работа 8\n",
    "# Тема 5. Дискретный логарифм"
   ]
  },
  {
   "cell_type": "markdown",
   "id": "9d88c446-9f12-4bbe-9b9e-c050cae6c0ed",
   "metadata": {},
   "source": [
    "# Задания"
   ]
  },
  {
   "cell_type": "markdown",
   "id": "1202a71c-4228-4fd1-adaa-fac4a6ac8e04",
   "metadata": {
    "slideshow": {
     "slide_type": "skip"
    }
   },
   "source": [
    "## <font color='red'>Задание 1.</font>\n",
    "\n",
    "Написать функцию, которая определяет, является ли $\\;a\\;$  образующим группы $\\;\\mathbb{Z}_p^*,$ $\\;p\\;$ &ndash; простое. На основе данной функции написать функцию, вычисляющую случайный образующий элемент  группы $\\;\\mathbb{Z}_p^*.$ "
   ]
  },
  {
   "cell_type": "markdown",
   "id": "fc0f44cd-feaf-4262-a3b6-3cbadbcabce1",
   "metadata": {},
   "source": [
    "## Решение"
   ]
  },
  {
   "cell_type": "code",
   "execution_count": 3,
   "id": "6c18634e-8534-44d3-a768-0c3f23a9c92f",
   "metadata": {},
   "outputs": [],
   "source": [
    "p1 = 13"
   ]
  },
  {
   "cell_type": "code",
   "execution_count": 2,
   "id": "66b59f2e-f871-476e-9cb1-b225f972fbb2",
   "metadata": {},
   "outputs": [],
   "source": [
    "import sympy as smp\n",
    "\n",
    "def is_generator(p, g):\n",
    "    group_ln = p - 1\n",
    "    pr_dict = smp.factorint(group_ln)\n",
    "    for el in pr_dict:\n",
    "        if pow(g, group_ln // el, p) == 1:\n",
    "            return False\n",
    "    return True"
   ]
  },
  {
   "cell_type": "code",
   "execution_count": 5,
   "id": "d76897d5-0d22-4d4b-96bb-7f328baa876c",
   "metadata": {},
   "outputs": [
    {
     "data": {
      "text/plain": [
       "True"
      ]
     },
     "execution_count": 5,
     "metadata": {},
     "output_type": "execute_result"
    }
   ],
   "source": [
    "is_generator(p1, 2)"
   ]
  },
  {
   "cell_type": "code",
   "execution_count": 32,
   "id": "4cb59b5a-4688-49ea-8b77-30ac98a3460f",
   "metadata": {},
   "outputs": [],
   "source": [
    "import random\n",
    "def get_generator(G, p):\n",
    "    while(True):\n",
    "        el = G[random.randint(0, p - 2)]\n",
    "        if is_generator(p, el):\n",
    "            return el\n",
    "    return None"
   ]
  },
  {
   "cell_type": "code",
   "execution_count": 53,
   "id": "70f02808-7a1a-4d3f-918f-49e75cb76f92",
   "metadata": {},
   "outputs": [],
   "source": [
    "G1 = range(1, p1)"
   ]
  },
  {
   "cell_type": "code",
   "execution_count": 54,
   "id": "e19ffc17-7f4c-4386-becd-42cb4ab0794b",
   "metadata": {},
   "outputs": [
    {
     "name": "stdout",
     "output_type": "stream",
     "text": [
      "6\n"
     ]
    }
   ],
   "source": [
    "print(get_generator(G1, p1))"
   ]
  },
  {
   "cell_type": "markdown",
   "id": "b448157b-06ca-480b-bf93-43505fcc3167",
   "metadata": {
    "slideshow": {
     "slide_type": "skip"
    },
    "tags": []
   },
   "source": [
    "## <font color='red'>Задание 2.</font>\n",
    "\n",
    "Реализовать алгоритм больших и малых шагов для мультипликативной группы кольца $\\;\\mathbb{Z}_p^*,$  $\\;p\\;$ &ndash; простое."
   ]
  },
  {
   "cell_type": "markdown",
   "id": "88531617-ce61-4148-8eb2-681ac028d904",
   "metadata": {},
   "source": [
    "## Решение"
   ]
  },
  {
   "cell_type": "code",
   "execution_count": 5,
   "id": "4ebed1d2-6e9c-4a77-be70-ba4794345572",
   "metadata": {},
   "outputs": [],
   "source": [
    "import math\n",
    "\n",
    "def intersection(L1, L2):\n",
    "    L = L1 + L2\n",
    "    L.sort\n",
    "    for i in range(len(L) - 1):\n",
    "        if (L[i] == L[i + 1]) and (L[i] in L1) and (L[i] in L2):\n",
    "            return True\n",
    "    return False\n",
    "\n",
    "def baby_step_giant_step(a, b, G, p):\n",
    "    h = round(math.sqrt(len(G) + 1)) + 1\n",
    "    c = pow(a, h, p)\n",
    "    L1 = [pow(c, u, p) for u in range(1, h + 1)]\n",
    "    L2 = [(b * pow(a, v, p)) % p for v in range(1, h + 1)]\n",
    "    if not intersection(L1, L2):\n",
    "        return None\n",
    "    for x in L1:\n",
    "        for y in L2:\n",
    "            if x == y:\n",
    "                return (h * x) % p - y"
   ]
  },
  {
   "cell_type": "markdown",
   "id": "8e77e8ba-3ba9-4f00-b168-65d4c99ecd68",
   "metadata": {
    "slideshow": {
     "slide_type": "skip"
    },
    "tags": []
   },
   "source": [
    "## <font color='red'>Задание 3.</font>\n",
    "\n",
    "Верно ли, что \n",
    "$$h^2-1\\geq n,$$\n",
    "где $h = [\\sqrt{n}]+1.$ "
   ]
  },
  {
   "cell_type": "markdown",
   "id": "87b2410c-ebdd-4c3f-80cb-54a4313a5332",
   "metadata": {},
   "source": [
    "## Решение"
   ]
  },
  {
   "cell_type": "markdown",
   "id": "fe9c4e71-60cd-4f89-bd97-a5c9100b1103",
   "metadata": {},
   "source": [
    "Подставляю в неравенсто:\n",
    "$$\\left( \\left[ \\sqrt{n} \\right] + 1 \\right)^2 - 1\\geq n,$$\n",
    "\n",
    "\n",
    "$$\\left[ \\sqrt{n} \\right]^2 + 2\\left[ \\sqrt{n} \\right] \\geq n.$$\n",
    "\n",
    "\n",
    "$$2\\left[ \\sqrt{n} \\right] \\geq n - \\left[ \\sqrt{n} \\right]^2.$$\n",
    "Возможны три варианта округления в меньшую сторону и в большую (равенство включил в один из них):\n",
    "$$\\left[ \\sqrt{n} \\right] \\leq \\sqrt{n}; \\; \\; \\; \\left[ \\sqrt{n} \\right] > \\sqrt{n}.$$\n",
    "Соответственно, в результате возведения в квадрат:\n",
    "$$\\left[ \\sqrt{n} \\right]^2 \\leq n; \\; \\; \\; \\left[ \\sqrt{n} \\right]^2 > n$$\n",
    "\n",
    "Возвращаясь к исходному неравенству, рассматриваю эти два случая и получаю:\n",
    "$$2\\left[ \\sqrt{n} \\right] \\geq g,$$\n",
    "где $g = n - \\left[ \\sqrt{n} \\right]^2:$\n",
    "$$g \\ge 0; \\; \\; \\; g < 0$$\n",
    "Рассмотрю первый случай:\n",
    "$$2\\left[ \\sqrt{n} \\right] \\geq \\left( \\sqrt{n} - \\left[ \\sqrt{n} \\right] \\right) \\left( \\sqrt{n} + \\left[ \\sqrt{n} \\right] \\right),$$\n",
    "\n",
    "$$2 \\geq \\left( \\dfrac{\\sqrt{n}}{\\left[ \\sqrt{n} \\right]} - 1 \\right) \\left( \\dfrac{\\sqrt{n}}{\\left[ \\sqrt{n} \\right]} + 1 \\right).$$\n",
    "Чтсло в первой скобке принадлежит промежутку $(0; 1)$, умножив его на вторую скобку получу число $\\leq 2.$"
   ]
  },
  {
   "cell_type": "code",
   "execution_count": 2,
   "id": "397f9fc3-3a95-44fa-9a71-dc6bfab58ecc",
   "metadata": {},
   "outputs": [
    {
     "data": {
      "text/plain": [
       "2.07"
      ]
     },
     "execution_count": 2,
     "metadata": {},
     "output_type": "execute_result"
    }
   ],
   "source": []
  },
  {
   "cell_type": "markdown",
   "id": "87c2f139-d82e-458e-b69b-244ee4f340ed",
   "metadata": {
    "slideshow": {
     "slide_type": "skip"
    }
   },
   "source": [
    "## <font color='red'>Задание 4.</font>\n",
    "\n",
    "Вычислить дискретные логарифмы\n",
    "$$\n",
    "  \\log_{a_1}b_1 \\;\\;в\\;\\;\\mathbb{Z}_{p_1}^*,\\qquad\\log_{a_2}b_2 \\;\\;в\\;\\;\\mathbb{Z}_{p_2}^*,\\qquad\\log_{a_3}b_3 \\;\\;в\\;\\;\\mathbb{Z}_{p_3}^*.\n",
    "$$  "
   ]
  },
  {
   "cell_type": "code",
   "execution_count": 3,
   "id": "cc14aae0-538f-4c07-8447-5574e142da31",
   "metadata": {
    "slideshow": {
     "slide_type": "skip"
    },
    "tags": []
   },
   "outputs": [],
   "source": [
    "a1 = 337263364997\n",
    "b1 = 3\n",
    "p1 = 897231635203\n",
    "a2 = 360353870069\n",
    "b2 = 9\n",
    "p2 = 591981566899\n",
    "a3 = 444416090410\n",
    "b3 = 2\n",
    "p3 = 616389045773"
   ]
  },
  {
   "cell_type": "markdown",
   "id": "cf855103-fbdd-45ee-8a8f-1e36e0eb7200",
   "metadata": {
    "tags": []
   },
   "source": [
    "## Решение"
   ]
  },
  {
   "cell_type": "code",
   "execution_count": 19,
   "id": "fb1abe17-a478-420f-a579-da3d67203a45",
   "metadata": {},
   "outputs": [
    {
     "ename": "KeyboardInterrupt",
     "evalue": "",
     "output_type": "error",
     "traceback": [
      "\u001b[1;31m---------------------------------------------------------------------------\u001b[0m",
      "\u001b[1;31mKeyboardInterrupt\u001b[0m                         Traceback (most recent call last)",
      "Cell \u001b[1;32mIn[19], line 1\u001b[0m\n\u001b[1;32m----> 1\u001b[0m G1 \u001b[38;5;241m=\u001b[39m \u001b[38;5;28;43mlist\u001b[39;49m\u001b[43m(\u001b[49m\u001b[43msmp\u001b[49m\u001b[38;5;241;43m.\u001b[39;49m\u001b[43mprimerange\u001b[49m\u001b[43m(\u001b[49m\u001b[43mp2\u001b[49m\u001b[43m)\u001b[49m\u001b[43m)\u001b[49m\n\u001b[0;32m      2\u001b[0m \u001b[38;5;66;03m# G1 = [x if math.gcd(x, p1) == 1 for x in range()]\u001b[39;00m\n",
      "File \u001b[1;32m~\\AppData\\Local\\Programs\\Python\\Python311\\Lib\\site-packages\\sympy\\ntheory\\generate.py:747\u001b[0m, in \u001b[0;36mprimerange\u001b[1;34m(a, b)\u001b[0m\n\u001b[0;32m    745\u001b[0m b \u001b[38;5;241m=\u001b[39m _as_int_ceiling(b)\n\u001b[0;32m    746\u001b[0m \u001b[38;5;28;01mwhile\u001b[39;00m \u001b[38;5;241m1\u001b[39m:\n\u001b[1;32m--> 747\u001b[0m     a \u001b[38;5;241m=\u001b[39m \u001b[43mnextprime\u001b[49m\u001b[43m(\u001b[49m\u001b[43ma\u001b[49m\u001b[43m)\u001b[49m\n\u001b[0;32m    748\u001b[0m     \u001b[38;5;28;01mif\u001b[39;00m a \u001b[38;5;241m<\u001b[39m b:\n\u001b[0;32m    749\u001b[0m         \u001b[38;5;28;01myield\u001b[39;00m a\n",
      "File \u001b[1;32m~\\AppData\\Local\\Programs\\Python\\Python311\\Lib\\site-packages\\sympy\\ntheory\\generate.py:607\u001b[0m, in \u001b[0;36mnextprime\u001b[1;34m(n, ith)\u001b[0m\n\u001b[0;32m    605\u001b[0m     \u001b[38;5;28;01mreturn\u001b[39;00m n\n\u001b[0;32m    606\u001b[0m n \u001b[38;5;241m+\u001b[39m\u001b[38;5;241m=\u001b[39m \u001b[38;5;241m2\u001b[39m\n\u001b[1;32m--> 607\u001b[0m \u001b[38;5;28;01mif\u001b[39;00m \u001b[43misprime\u001b[49m\u001b[43m(\u001b[49m\u001b[43mn\u001b[49m\u001b[43m)\u001b[49m:\n\u001b[0;32m    608\u001b[0m     \u001b[38;5;28;01mreturn\u001b[39;00m n\n\u001b[0;32m    609\u001b[0m n \u001b[38;5;241m+\u001b[39m\u001b[38;5;241m=\u001b[39m \u001b[38;5;241m4\u001b[39m\n",
      "File \u001b[1;32m~\\AppData\\Local\\Programs\\Python\\Python311\\Lib\\site-packages\\sympy\\ntheory\\primetest.py:618\u001b[0m, in \u001b[0;36misprime\u001b[1;34m(n)\u001b[0m\n\u001b[0;32m    616\u001b[0m     \u001b[38;5;28;01mreturn\u001b[39;00m mr(n, [\u001b[38;5;241m725270293939359937\u001b[39m, \u001b[38;5;241m3569819667048198375\u001b[39m])\n\u001b[0;32m    617\u001b[0m \u001b[38;5;28;01mif\u001b[39;00m n \u001b[38;5;241m<\u001b[39m \u001b[38;5;241m350269456337\u001b[39m:\n\u001b[1;32m--> 618\u001b[0m     \u001b[38;5;28;01mreturn\u001b[39;00m \u001b[43mmr\u001b[49m\u001b[43m(\u001b[49m\u001b[43mn\u001b[49m\u001b[43m,\u001b[49m\u001b[43m \u001b[49m\u001b[43m[\u001b[49m\u001b[38;5;241;43m4230279247111683200\u001b[39;49m\u001b[43m,\u001b[49m\u001b[43m \u001b[49m\u001b[38;5;241;43m14694767155120705706\u001b[39;49m\u001b[43m,\u001b[49m\u001b[43m \u001b[49m\u001b[38;5;241;43m16641139526367750375\u001b[39;49m\u001b[43m]\u001b[49m\u001b[43m)\u001b[49m\n\u001b[0;32m    619\u001b[0m \u001b[38;5;28;01mif\u001b[39;00m n \u001b[38;5;241m<\u001b[39m \u001b[38;5;241m55245642489451\u001b[39m:\n\u001b[0;32m    620\u001b[0m     \u001b[38;5;28;01mreturn\u001b[39;00m mr(n, [\u001b[38;5;241m2\u001b[39m, \u001b[38;5;241m141889084524735\u001b[39m, \u001b[38;5;241m1199124725622454117\u001b[39m, \u001b[38;5;241m11096072698276303650\u001b[39m])\n",
      "File \u001b[1;32m~\\AppData\\Local\\Programs\\Python\\Python311\\Lib\\site-packages\\sympy\\ntheory\\primetest.py:184\u001b[0m, in \u001b[0;36mmr\u001b[1;34m(n, bases)\u001b[0m\n\u001b[0;32m    182\u001b[0m     base \u001b[38;5;241m%\u001b[39m\u001b[38;5;241m=\u001b[39m n\n\u001b[0;32m    183\u001b[0m \u001b[38;5;28;01mif\u001b[39;00m base \u001b[38;5;241m>\u001b[39m\u001b[38;5;241m=\u001b[39m \u001b[38;5;241m2\u001b[39m:\n\u001b[1;32m--> 184\u001b[0m     base \u001b[38;5;241m=\u001b[39m \u001b[43mZZ\u001b[49m\u001b[43m(\u001b[49m\u001b[43mbase\u001b[49m\u001b[43m)\u001b[49m\n\u001b[0;32m    185\u001b[0m     \u001b[38;5;28;01mif\u001b[39;00m \u001b[38;5;129;01mnot\u001b[39;00m _test(n, base, s, t):\n\u001b[0;32m    186\u001b[0m         \u001b[38;5;28;01mreturn\u001b[39;00m \u001b[38;5;28;01mFalse\u001b[39;00m\n",
      "File \u001b[1;32m~\\AppData\\Local\\Programs\\Python\\Python311\\Lib\\site-packages\\sympy\\polys\\domains\\domain.py:381\u001b[0m, in \u001b[0;36mDomain.__call__\u001b[1;34m(self, *args)\u001b[0m\n\u001b[0;32m    379\u001b[0m \u001b[38;5;28;01mdef\u001b[39;00m \u001b[38;5;21m__call__\u001b[39m(\u001b[38;5;28mself\u001b[39m, \u001b[38;5;241m*\u001b[39margs):\n\u001b[0;32m    380\u001b[0m \u001b[38;5;250m    \u001b[39m\u001b[38;5;124;03m\"\"\"Construct an element of ``self`` domain from ``args``. \"\"\"\u001b[39;00m\n\u001b[1;32m--> 381\u001b[0m     \u001b[38;5;28;01mreturn\u001b[39;00m \u001b[38;5;28;43mself\u001b[39;49m\u001b[38;5;241;43m.\u001b[39;49m\u001b[43mnew\u001b[49m\u001b[43m(\u001b[49m\u001b[38;5;241;43m*\u001b[39;49m\u001b[43margs\u001b[49m\u001b[43m)\u001b[49m\n",
      "File \u001b[1;32m~\\AppData\\Local\\Programs\\Python\\Python311\\Lib\\site-packages\\sympy\\polys\\domains\\domain.py:371\u001b[0m, in \u001b[0;36mDomain.new\u001b[1;34m(self, *args)\u001b[0m\n\u001b[0;32m    368\u001b[0m \u001b[38;5;28;01mdef\u001b[39;00m \u001b[38;5;21m__hash__\u001b[39m(\u001b[38;5;28mself\u001b[39m):\n\u001b[0;32m    369\u001b[0m     \u001b[38;5;28;01mreturn\u001b[39;00m \u001b[38;5;28mhash\u001b[39m((\u001b[38;5;28mself\u001b[39m\u001b[38;5;241m.\u001b[39m\u001b[38;5;18m__class__\u001b[39m\u001b[38;5;241m.\u001b[39m\u001b[38;5;18m__name__\u001b[39m, \u001b[38;5;28mself\u001b[39m\u001b[38;5;241m.\u001b[39mdtype))\n\u001b[1;32m--> 371\u001b[0m \u001b[38;5;28;01mdef\u001b[39;00m \u001b[38;5;21mnew\u001b[39m(\u001b[38;5;28mself\u001b[39m, \u001b[38;5;241m*\u001b[39margs):\n\u001b[0;32m    372\u001b[0m     \u001b[38;5;28;01mreturn\u001b[39;00m \u001b[38;5;28mself\u001b[39m\u001b[38;5;241m.\u001b[39mdtype(\u001b[38;5;241m*\u001b[39margs)\n\u001b[0;32m    374\u001b[0m \u001b[38;5;129m@property\u001b[39m\n\u001b[0;32m    375\u001b[0m \u001b[38;5;28;01mdef\u001b[39;00m \u001b[38;5;21mtp\u001b[39m(\u001b[38;5;28mself\u001b[39m):\n",
      "\u001b[1;31mKeyboardInterrupt\u001b[0m: "
     ]
    }
   ],
   "source": [
    "G1 = list(smp.primerange(p2))\n",
    "# G1 = [x if math.gcd(x, p1) == 1 for x in range(p1)]"
   ]
  },
  {
   "cell_type": "code",
   "execution_count": null,
   "id": "d9e8a46d-ffe8-4284-a176-36de5bebfdd5",
   "metadata": {},
   "outputs": [],
   "source": [
    "baby_step_giant_step(a1, b1, G1, p1)"
   ]
  },
  {
   "cell_type": "markdown",
   "id": "ac26d0ff-299d-4bf8-b9e4-925d4d903eff",
   "metadata": {
    "slideshow": {
     "slide_type": "skip"
    }
   },
   "source": [
    "## <font color='red'>Задание 5.</font>\n",
    "\n",
    "Реализовать алгоритм Полига-Хеллмана для мультипликативной группы кольца $\\;\\mathbb{Z}_p^*,$  $\\;p\\;$ &ndash; простое."
   ]
  },
  {
   "cell_type": "markdown",
   "id": "0489679e-e5b0-4a83-8189-125a01889b4f",
   "metadata": {},
   "source": [
    "## Решение"
   ]
  },
  {
   "cell_type": "code",
   "execution_count": 3,
   "id": "1a0dc564-03e8-4fa9-b031-f9f0896cf582",
   "metadata": {},
   "outputs": [],
   "source": [
    "def find_log(q, a, n, b, g, p):\n",
    "    c = pow(g, n // q, p)\n",
    "    L = [pow(c, i, p) for i in range(q)]\n",
    "    u = []\n",
    "    u0 = L.index(pow(b, n // q))\n",
    "    u += [u0]\n",
    "    q_list = smp.factorint(n)\n",
    "    for k in range(a):\n",
    "        temp_sum = sum([u[i] * pow(q, i) for i in range(k)])\n",
    "        u += [L.index(pow(b * pow(g, -1 * temp_sum, p), n // pow(q, k + 1), p))]\n",
    "    return sum([u[i] * pow(q, i)])\n",
    "\n",
    "def Pohlig_Hellman(n, b, g, p):\n",
    "    pr_dict = smp.factorint(n)\n",
    "    X = [find_log(el, pr_dict[el], n, b, g) for el in pr_dict]\n",
    "    crt(...)"
   ]
  },
  {
   "cell_type": "markdown",
   "id": "8a6aa083-3174-45e4-8418-63d20c6d2bb9",
   "metadata": {
    "slideshow": {
     "slide_type": "skip"
    }
   },
   "source": [
    "## <font color='red'>Задание 6.</font>\n",
    "\n",
    "Вычислить дискретные логарифмы одним из способов\n",
    "$$\n",
    "  \\log_{g_1}b_1 \\;\\;в\\;\\;\\mathbb{Z}_{p_1}^*,\\qquad\\log_{g_2}b_2 \\;\\;в\\;\\;\\mathbb{Z}_{p_2}^*.\n",
    "$$\n",
    "От каких свойств числа $\\;p\\;$ зависит скорость работы алгоритма больших и малых шагов и алгоритма Полига-Хеллмана?"
   ]
  },
  {
   "cell_type": "code",
   "execution_count": 8,
   "id": "e4e0569c-6b14-4f0c-9ed3-d233c3380d46",
   "metadata": {
    "slideshow": {
     "slide_type": "skip"
    }
   },
   "outputs": [],
   "source": [
    "p1 = 238484123\n",
    "g1 = 11455278\n",
    "b1 = 2\n",
    "p2 = 958824966669719\n",
    "g2 = 6851211612324\n",
    "b2 = 3"
   ]
  },
  {
   "cell_type": "code",
   "execution_count": null,
   "id": "f3813f29-d1fb-4488-a58a-768d1072df2b",
   "metadata": {},
   "outputs": [],
   "source": []
  }
 ],
 "metadata": {
  "kernelspec": {
   "display_name": "Python 3 (ipykernel)",
   "language": "python",
   "name": "python3"
  },
  "language_info": {
   "codemirror_mode": {
    "name": "ipython",
    "version": 3
   },
   "file_extension": ".py",
   "mimetype": "text/x-python",
   "name": "python",
   "nbconvert_exporter": "python",
   "pygments_lexer": "ipython3",
   "version": "3.11.1"
  }
 },
 "nbformat": 4,
 "nbformat_minor": 5
}
