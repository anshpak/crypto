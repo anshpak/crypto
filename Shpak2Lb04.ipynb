{
 "cells": [
  {
   "cell_type": "markdown",
   "id": "f0be239c-3703-4478-80c3-5269800ef250",
   "metadata": {},
   "source": [
    "# Задания"
   ]
  },
  {
   "cell_type": "markdown",
   "id": "d1479cb8-e6a4-4a23-8a5a-259940e52d69",
   "metadata": {},
   "source": [
    "### Модули"
   ]
  },
  {
   "cell_type": "code",
   "execution_count": 2,
   "id": "e397042a-4890-42e1-98e6-033a6a786b04",
   "metadata": {},
   "outputs": [],
   "source": [
    "import matplotlib.pyplot as plt\n",
    "import random\n",
    "import sympy as smp\n",
    "import numpy as np\n",
    "import math\n",
    "from ecpy.curves import Curve, Point"
   ]
  },
  {
   "cell_type": "markdown",
   "id": "73c5c52b-b637-4a57-a02b-f88b96e0581f",
   "metadata": {},
   "source": [
    "### Вспомогательные функции"
   ]
  },
  {
   "cell_type": "code",
   "execution_count": 6,
   "id": "76004446-7ab8-4cdf-b6fd-6d112a73ec08",
   "metadata": {},
   "outputs": [],
   "source": [
    "def st(n):\n",
    "    s = 0\n",
    "    t = n\n",
    "    while t % 2 == 0:\n",
    "        s += 1\n",
    "        t = t // 2\n",
    "    return s, t\n",
    "\n",
    "def Jacobi(a,n):\n",
    "    if n < 0 or not n % 2:\n",
    "        raise ValueError(\"n should be an odd positive integer\") \n",
    "    j = 1\n",
    "    if n == 1:\n",
    "        return j\n",
    "    if a<0:\n",
    "        a = -a\n",
    "        if n%4 == 3:\n",
    "            j = -j\n",
    "    while n>1:\n",
    "        if a == 0:\n",
    "            return 0\n",
    "        s,t = st(a)\n",
    "        if (s%2 == 1) & (n%8 in [3, 5]):\n",
    "            j = -j\n",
    "        if 3 == n%4 == t%4:\n",
    "            j = -j\n",
    "        a = n%t\n",
    "        n = t\n",
    "    return j\n",
    "\n",
    "def Shanks(a, p):\n",
    "    if not Jacobi(a, p) == 1:\n",
    "        raise ValueError(\"a should be a quadratic residue\")\n",
    "    s, t = st(p-1)\n",
    "    import random\n",
    "    n = random.randint(2, p - 2)\n",
    "    while Jacobi(n, p) == 1:\n",
    "        n = random.randint(2, p - 2)\n",
    "    b = pow(n, t, p)\n",
    "    r = pow(int(a), (t+1)//2, p)\n",
    "    d = 0\n",
    "    f = pow(int(a), t, p)\n",
    "    b2 = b\n",
    "    for i in range(1,s):\n",
    "        b2 = b2 * b2 % p\n",
    "        if not pow(f, 2 ** (s - 1 - i), p) == 1:\n",
    "            d += 2 ** i\n",
    "            f = f * b2 % p \n",
    "    return r*pow(b, d//2, p) % p"
   ]
  },
  {
   "cell_type": "markdown",
   "id": "9c07ce3f-b7ab-4fd9-aa75-93dd2c109a1a",
   "metadata": {
    "slideshow": {
     "slide_type": "skip"
    }
   },
   "source": [
    "### <font color='red'>Задание 1.</font>\n",
    "Реализовать классы `ProjectiveCurve` и `ProjectivePoint`. Для объектов класса `ProjectivePoint` реализовать операции сложения и умножения на скаляр."
   ]
  },
  {
   "cell_type": "markdown",
   "id": "5371394e-044b-4fc3-9f54-6dc9ccc20ef1",
   "metadata": {},
   "source": [
    "#### Решение"
   ]
  },
  {
   "cell_type": "markdown",
   "id": "81b0cb7f-7441-4794-a130-325bab7b5519",
   "metadata": {
    "tags": []
   },
   "source": [
    "#### Классы"
   ]
  },
  {
   "cell_type": "code",
   "execution_count": 12,
   "id": "1feb4f11-b435-4329-96d5-8b2f07860d0f",
   "metadata": {},
   "outputs": [],
   "source": [
    "class ProjectiveCurve:\n",
    "    \"\"\"docstring\"\"\"\n",
    "    \n",
    "    def __init__(self, a, b, p):\n",
    "        self.__a = a\n",
    "        self.__b = b\n",
    "        self.__p = p\n",
    "        self.__pts = list(set(self.__get_points() + self.__get_shanks_points()))\n",
    "        \n",
    "    def get_coeffs(self):\n",
    "        return self.__a, self.__b\n",
    "    \n",
    "    def get_mod(self):\n",
    "        return self.__p\n",
    "    \n",
    "    def get_pts(self):\n",
    "        return self.__pts\n",
    "    \n",
    "    def __get_points(self):\n",
    "        X = [(x ** 3 + self.__a * x + self.__b) % self.__p for x in range(self.__p)]\n",
    "        Y = [y ** 2 % self.__p for y in range(self.__p)]\n",
    "        points = []\n",
    "        for i in range(len(X)):\n",
    "            for j in range(len(Y)):\n",
    "                if(X[i] == Y[j]):\n",
    "                    points += [[i, j]]\n",
    "        points = [ProjectivePoint(self, pt[0], pt[1]) for pt in points]\n",
    "        points += [ProjectivePoint(self, 0, 1, 0)]\n",
    "        return points\n",
    "    \n",
    "    def __get_shanks_points(self):\n",
    "        points = []\n",
    "        for x in range(self.__p):\n",
    "            a = (pow(x, 3, self.__p) + self.__a * x + self.__b) % self.__p\n",
    "            if not Jacobi(a, self.__p) == 1:\n",
    "                continue\n",
    "            y = Shanks(a, self.__p)\n",
    "            temp_point1 = ProjectivePoint(self, x, y)\n",
    "            points += [temp_point1]\n",
    "        return points\n",
    "    \n",
    "    def get_random_point(self):\n",
    "        return self.__pts[random.randint(0, len(self.__pts) - 1)]\n",
    "    \n",
    "    def get_order(self):\n",
    "        return len(self.__pts)\n",
    "    \n",
    "    def __repr__(self):\n",
    "        return 'y^2 = x^3 + ({0}) * x + ({1}) mod {2}'.format(self.__a, self.__b, self.__p)"
   ]
  },
  {
   "cell_type": "code",
   "execution_count": 17,
   "id": "24c45e04-9618-4757-9aa8-c33add0bcfae",
   "metadata": {},
   "outputs": [],
   "source": [
    "class ProjectivePoint():\n",
    "    \"\"\"docstring\"\"\"    \n",
    "    \n",
    "    def __init__(self, curve, x, y, z = 1):\n",
    "        self.__x = x\n",
    "        self.__y = y\n",
    "        self.__z = z\n",
    "        self.__curve = curve\n",
    "        \n",
    "    def get_x(self):\n",
    "        return self.__x\n",
    "    \n",
    "    def get_y(self):\n",
    "        return self.__y\n",
    "    \n",
    "    def get_z(self):\n",
    "        return self.__z\n",
    "    \n",
    "    def get_curve(self):\n",
    "        return curve\n",
    "    \n",
    "    def __repr__(self):\n",
    "        return '({0}, {1}, {2})'.format(self.__x, self.__y, self.__z)\n",
    "    \n",
    "    def get_inverse_point(self):\n",
    "        return ProjectivePoint(self.__curve, self.__x, -1 * self.__y)\n",
    "    \n",
    "    def __add__(self, other):\n",
    "        a, b = self.__curve.get_coeffs()\n",
    "        x1 = self.__x\n",
    "        y1 = self.__y\n",
    "        x2 = other.get_x()\n",
    "        y2 = other.get_y()\n",
    "        if (x1 == 0 and y1 == 0):\n",
    "            return other\n",
    "        elif(x2 == 0 and y2 == 0):\n",
    "            return self\n",
    "        if (x1 != x2):\n",
    "            k = (y2 - y1) * pow((x2 - x1), -1, self.__curve.get_mod()) % self.__curve.get_mod()\n",
    "            x3 = pow(k, 2, self.__curve.get_mod()) - x1 - x2\n",
    "            y3 = k * (x1 - x3) % self.__curve.get_mod() - y1\n",
    "        elif (x1 == x2 and y1 == y2 and y1 != 0):\n",
    "            k = (3 * pow(x1, 2, self.__curve.get_mod()) % self.__curve.get_mod() + a) * pow(2 * y1, -1, self.__curve.get_mod()) % self.__curve.get_mod()\n",
    "            x3 = pow(k, 2, self.__curve.get_mod()) - 2 * x1 % self.__curve.get_mod()\n",
    "            y3 = k * (x1 - x3) % self.__curve.get_mod() - y1\n",
    "        elif (x1 == x2 and y1 == y2 and y1 == 0):\n",
    "            x3 = 0\n",
    "            y3 = 0\n",
    "        elif (x1 == x2 and y1 != y2):\n",
    "            x3 = 0\n",
    "            y3 = 0\n",
    "        x3 %= self.__curve.get_mod()\n",
    "        y3 %= self.__curve.get_mod()\n",
    "        return ProjectivePoint(self.__curve, x3, y3)\n",
    "        \n",
    "    def __sub__(self, other):\n",
    "        if isinstance(other, ProjectivePoint):\n",
    "            return self + other.get_inverse_point()\n",
    "        \n",
    "    def __mul__(self, other):\n",
    "        result = ProjectivePoint(self.__curve, 0, 0)\n",
    "        Q = ProjectivePoint(self.__curve, self.__x, self.__y)\n",
    "        m = bin(other)[2:]\n",
    "        for i in reversed(range(len(m))):\n",
    "            if (m[i] == '1'):\n",
    "                result = result + Q\n",
    "            Q = Q + Q\n",
    "        return result\n",
    "    \n",
    "    def __eq__(self, other):\n",
    "        return self.__x % self.__curve.get_mod() == other.get_x() % self.__curve.get_mod() and self.__y % self.__curve.get_mod() == other.get_y() % self.__curve.get_mod()\n",
    "    \n",
    "    def __hash__(self):\n",
    "        return hash((self.__x, self.__y, self.__z))"
   ]
  },
  {
   "cell_type": "markdown",
   "id": "d24a28e4-88ab-4e66-9e8b-441bc85ee4f0",
   "metadata": {},
   "source": [
    "#### Проверяю"
   ]
  },
  {
   "cell_type": "code",
   "execution_count": 18,
   "id": "02ed0389-a128-41a5-af90-34ebf8ed8e95",
   "metadata": {},
   "outputs": [],
   "source": [
    "curve1 = ProjectiveCurve(-1, 1, 13)"
   ]
  },
  {
   "cell_type": "code",
   "execution_count": 19,
   "id": "b6e25396-c1f4-45dc-bd6a-12bb33ba57c5",
   "metadata": {},
   "outputs": [
    {
     "data": {
      "text/plain": [
       "[(0, 1, 0),\n",
       " (7, 8, 1),\n",
       " (5, 11, 1),\n",
       " (5, 2, 1),\n",
       " (3, 8, 1),\n",
       " (4, 10, 1),\n",
       " (10, 9, 1),\n",
       " (7, 5, 1),\n",
       " (4, 3, 1),\n",
       " (3, 5, 1),\n",
       " (6, 9, 1),\n",
       " (12, 1, 1),\n",
       " (10, 4, 1),\n",
       " (12, 12, 1),\n",
       " (0, 1, 1),\n",
       " (0, 12, 1),\n",
       " (1, 12, 1),\n",
       " (6, 4, 1),\n",
       " (1, 1, 1)]"
      ]
     },
     "execution_count": 19,
     "metadata": {},
     "output_type": "execute_result"
    }
   ],
   "source": [
    "curve1.get_pts()"
   ]
  },
  {
   "cell_type": "markdown",
   "id": "6641ab5a-84d6-4363-97a4-7becf2e94acf",
   "metadata": {
    "slideshow": {
     "slide_type": "skip"
    }
   },
   "source": [
    "### <font color='red'>Задание 2.</font>\n",
    "Проверить выполнение ассоциативности и коммутативности сложения точек эллиптической кривой в проективных координатах."
   ]
  },
  {
   "cell_type": "markdown",
   "id": "ed21ffcd-9a22-40c0-a90f-6ba5ab199430",
   "metadata": {
    "slideshow": {
     "slide_type": "skip"
    }
   },
   "source": [
    "### <font color='red'>Задание 3.</font>\n",
    "При помощи  кривой SECP256k1 сравнить скорость вычисления скалярного умножения в\n",
    "- декартовых координатах;  \n",
    "- проективных координатах.  \n",
    "\n"
   ]
  }
 ],
 "metadata": {
  "kernelspec": {
   "display_name": "Python 3 (ipykernel)",
   "language": "python",
   "name": "python3"
  },
  "language_info": {
   "codemirror_mode": {
    "name": "ipython",
    "version": 3
   },
   "file_extension": ".py",
   "mimetype": "text/x-python",
   "name": "python",
   "nbconvert_exporter": "python",
   "pygments_lexer": "ipython3",
   "version": "3.11.1"
  }
 },
 "nbformat": 4,
 "nbformat_minor": 5
}
