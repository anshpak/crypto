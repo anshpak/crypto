{
 "cells": [
  {
   "cell_type": "markdown",
   "id": "8c3415ac-621f-4bc6-928e-54909969a4c5",
   "metadata": {},
   "source": [
    "# Задания"
   ]
  },
  {
   "cell_type": "markdown",
   "id": "520d8695-33d0-45a5-ae92-f3c634d360a4",
   "metadata": {
    "slideshow": {
     "slide_type": "skip"
    }
   },
   "source": [
    "## <font color='red'>Задание 1.</font>\n",
    "Изобразить эллиптические кривые:\n",
    "- с $\\;D>0$;  \n",
    "\n",
    "- с $\\;D<0$;\n",
    "\n",
    "- с самопересечением;\n",
    "\n",
    "- с каспом.  "
   ]
  },
  {
   "cell_type": "markdown",
   "id": "4f64c574-ee4b-4a77-a106-1978184710d8",
   "metadata": {},
   "source": [
    "### Решение"
   ]
  },
  {
   "cell_type": "code",
   "execution_count": 1,
   "id": "ae0426d1-7165-4bac-8ef9-cd3bff759fdc",
   "metadata": {},
   "outputs": [],
   "source": [
    "import matplotlib.pyplot as plt\n",
    "import random\n",
    "import sympy as smp\n",
    "import numpy as np\n",
    "import math"
   ]
  },
  {
   "cell_type": "code",
   "execution_count": 2,
   "id": "51fc87fb-9a0b-4124-82f2-2c9adb988beb",
   "metadata": {},
   "outputs": [],
   "source": [
    "a = -1\n",
    "b = 1\n",
    "D = 27 * b ** 2 + 4 * a ** 3"
   ]
  },
  {
   "cell_type": "markdown",
   "id": "f0c5a23c-739f-40e1-a2e4-99d279abdc76",
   "metadata": {},
   "source": [
    "$\\href{https://ru.stackoverflow.com/questions/741048/%D0%9A%D0%B0%D0%BA-%D0%B2-matplotlib-%D0%BF%D0%BE%D1%81%D1%82%D1%80%D0%BE%D0%B8%D1%82%D1%8C-%D0%B3%D1%80%D0%B0%D1%84%D0%B8%D0%BA-%D0%BD%D0%B5%D1%8F%D0%B2%D0%BD%D0%BE%D0%B9-%D1%84%D1%83%D0%BD%D0%BA%D1%86%D0%B8%D0%B8}{Помог}$ построить график неявной функции."
   ]
  },
  {
   "cell_type": "code",
   "execution_count": 3,
   "id": "c91b99a8-f664-4ac7-8e4f-cbbc3a04c84f",
   "metadata": {},
   "outputs": [
    {
     "data": {
      "image/png": "[encoded data removed]",
      "text/plain": [
       "<Figure size 640x480 with 1 Axes>"
      ]
     },
     "metadata": {},
     "output_type": "display_data"
    },
    {
     "data": {
      "text/plain": [
       "<sympy.plotting.plot.Plot at 0x2c46b84e4d0>"
      ]
     },
     "execution_count": 3,
     "metadata": {},
     "output_type": "execute_result"
    }
   ],
   "source": [
    "smp.var('x y')\n",
    "smp.plot_implicit(smp.Eq(x ** 3 + a * x + b - y ** 2, 0), line_color='red')"
   ]
  },
  {
   "cell_type": "markdown",
   "id": "2d4f98de-c147-4153-8fa8-83d914fbbc0b",
   "metadata": {},
   "source": [
    "## <font color='red'>Задания 2 - 5.</font>"
   ]
  },
  {
   "cell_type": "markdown",
   "id": "4fdcfd91-9fa9-49d2-8f22-d790fe8ddd60",
   "metadata": {
    "slideshow": {
     "slide_type": "skip"
    }
   },
   "source": [
    "### <font color='red'>Задание 2.</font>\n",
    "Реализовать класс `Curve`, который хранит $\\;a, b, p\\;$ эллиптической кривой\n",
    "$$\n",
    "  y^2=x^3+ax+b\\mod p.\n",
    "$$  "
   ]
  },
  {
   "cell_type": "markdown",
   "id": "dcbc7cb0-9e43-4e06-9ef8-836a32e99474",
   "metadata": {
    "slideshow": {
     "slide_type": "skip"
    }
   },
   "source": [
    "### <font color='red'>Задание 3.</font>\n",
    "Реализовать класс `Point`, объектом которого является точка с координатами $\\;(x,y)\\;$ кривой `Curve`."
   ]
  },
  {
   "cell_type": "markdown",
   "id": "98efb367-7c74-4a5a-8c05-6ee165d90294",
   "metadata": {
    "slideshow": {
     "slide_type": "skip"
    }
   },
   "source": [
    "### <font color='red'>Задание 4.</font>\n",
    "Для класса `Curve` реализовать методы нахождения всех точек кривой при помощи полного перебора и при помощи алгоритма Тонелли-Шенкса. Реализовать метод, который находит порядок кривой. Реализовать метод, который находит случайную точку кривой."
   ]
  },
  {
   "cell_type": "markdown",
   "id": "3d6c6fea-f14e-448c-ae33-35f00a2f0b1a",
   "metadata": {
    "slideshow": {
     "slide_type": "skip"
    }
   },
   "source": [
    "### <font color='red'>Задание 5.</font>\n",
    "Для класса `Point` реализовать нахождение противоположного элемента, вычитание и сложение точек. Проверить выполнение ассоциативности."
   ]
  },
  {
   "cell_type": "markdown",
   "id": "61696fce-e692-487c-a7bc-a5a728095d7b",
   "metadata": {},
   "source": [
    "### Решение"
   ]
  },
  {
   "cell_type": "markdown",
   "id": "fc2fd9ea-6365-4070-a231-e032f4e7f9f1",
   "metadata": {},
   "source": [
    "#### Классы"
   ]
  },
  {
   "cell_type": "code",
   "execution_count": 77,
   "id": "dc173b6b-15fa-4f0f-a036-a5b6da1ec745",
   "metadata": {},
   "outputs": [],
   "source": [
    "class Curve:\n",
    "    \"\"\"docstring\"\"\"\n",
    "    \n",
    "    def __init__(self, a, b, p):\n",
    "        self.__a = a\n",
    "        self.__b = b\n",
    "        self.__p = p\n",
    "        \n",
    "    def getCoeffs(self):\n",
    "        return self.__a, self.__b\n",
    "    \n",
    "    def getMod(self):\n",
    "        return self.__p\n",
    "    \n",
    "    def getPoints(self):\n",
    "        points = []\n",
    "        for x in range(self.__p):\n",
    "            a = x ** 3 + self.__a * x + self.__b\n",
    "            if not Jacobi(a, self.__p) == 1:\n",
    "                continue\n",
    "            y = Shanks(a, self.__p)\n",
    "            temp_point1 = Point(x, math.sqrt(y))\n",
    "            temp_point2 = Point(x, -math.sqrt(y))\n",
    "            points += [temp_point1, temp_point2]\n",
    "        return points\n",
    "    \n",
    "    def getRandomPoint(self):\n",
    "        x = random.randint(0, self.__p)\n",
    "        a = x ** 3 + self.__a * x + self.__b\n",
    "        points = []\n",
    "        while not Jacobi(a, self.__p) == 1:\n",
    "            x = random.randint(0, self.__p)\n",
    "            a = x ** 3 + self.__a * x + self.__b\n",
    "        y = Shanks(a, self.__p)\n",
    "        temp_point1 = Point(x, math.sqrt(y))\n",
    "        temp_point2 = Point(x, -math.sqrt(y))\n",
    "        points += [temp_point1, temp_point2]\n",
    "        return points[random.randint(0, 1)]\n",
    "    \n",
    "    def getOrder(self):\n",
    "        return len(self.getPoints())"
   ]
  },
  {
   "cell_type": "code",
   "execution_count": 63,
   "id": "4947bbf5-21fc-4253-8144-8c2b5f1f3172",
   "metadata": {},
   "outputs": [],
   "source": [
    "class Point():\n",
    "    \"\"\"docstring\"\"\"    \n",
    "    \n",
    "    def __init__(self, x, y):\n",
    "        self.__x = x\n",
    "        self.__y = y\n",
    "        \n",
    "    def getX(self):\n",
    "        return self.__x\n",
    "    \n",
    "    def getY(self):\n",
    "        return self.__y\n",
    "    \n",
    "    def __repr__(self):\n",
    "        return '({0}, {1})'.format(self.__x, self.__y)"
   ]
  },
  {
   "cell_type": "markdown",
   "id": "da6c645a-007b-4e63-92b7-679ef9608924",
   "metadata": {},
   "source": [
    "#### Вспомогательные функции"
   ]
  },
  {
   "cell_type": "code",
   "execution_count": 47,
   "id": "bd2a962e-3f93-472c-bbb6-b35509d90ee5",
   "metadata": {},
   "outputs": [],
   "source": [
    "def st(n):\n",
    "    s = 0\n",
    "    t = n\n",
    "    while t % 2 == 0:\n",
    "        s += 1\n",
    "        t = t // 2\n",
    "    return s, t\n",
    "\n",
    "def Jacobi(a,n):\n",
    "    if n < 0 or not n % 2:\n",
    "        raise ValueError(\"n should be an odd positive integer\") \n",
    "    j = 1\n",
    "    if n == 1:\n",
    "        return j\n",
    "    if a<0:\n",
    "        a = -a\n",
    "        if n%4 == 3:\n",
    "            j = -j\n",
    "    while n>1:\n",
    "        if a == 0:\n",
    "            return 0\n",
    "        s,t = st(a)\n",
    "        if (s%2 == 1) & (n%8 in [3, 5]):\n",
    "            j = -j\n",
    "        if 3 == n%4 == t%4:\n",
    "            j = -j\n",
    "        a = n%t\n",
    "        n = t\n",
    "    return j\n",
    "\n",
    "def Shanks(a, p):\n",
    "    if not Jacobi(a, p) == 1:\n",
    "        raise ValueError(\"a should be a quadratic residue\")\n",
    "    s, t = st(p-1)\n",
    "    import random\n",
    "    n = random.randint(2, p - 2)\n",
    "    while Jacobi(n, p) == 1:\n",
    "        n = random.randint(2, p - 2)\n",
    "    b = pow(n, t, p)\n",
    "    r = pow(int(a), (t+1)//2, p)\n",
    "    d = 0\n",
    "    f = pow(int(a), t, p)\n",
    "    b2 = b\n",
    "    for i in range(1,s):\n",
    "        b2 = b2 * b2 % p\n",
    "        if not pow(f, 2 ** (s - 1 - i), p) == 1:\n",
    "            d += 2 ** i\n",
    "            f = f * b2 % p \n",
    "    return r*pow(b, d//2, p) % p"
   ]
  },
  {
   "cell_type": "markdown",
   "id": "b71c89c2-f210-4f84-b5ac-0d871a9177bb",
   "metadata": {},
   "source": [
    "#### Проверка"
   ]
  },
  {
   "cell_type": "code",
   "execution_count": 78,
   "id": "27cdd0f8-2de1-49eb-8145-73c437d12fde",
   "metadata": {},
   "outputs": [],
   "source": [
    "curve1 = Curve(-1, 1, 13)"
   ]
  },
  {
   "cell_type": "code",
   "execution_count": 68,
   "id": "7bed3c01-2a93-415a-b05e-8451e9e5d8b9",
   "metadata": {},
   "outputs": [],
   "source": [
    "point1 = Point(1, 3)"
   ]
  },
  {
   "cell_type": "code",
   "execution_count": 69,
   "id": "16794d7a-181b-453c-8a22-b86f9c9921d6",
   "metadata": {},
   "outputs": [],
   "source": [
    "pts = curve1.getPoints()"
   ]
  },
  {
   "cell_type": "code",
   "execution_count": 60,
   "id": "f41dba7c-fd1c-49e4-930e-e4444d8f1cd2",
   "metadata": {},
   "outputs": [
    {
     "name": "stdout",
     "output_type": "stream",
     "text": [
      "(0, 1.0)\n",
      "(0, -1.0)\n",
      "(1, 1.0)\n",
      "(1, -1.0)\n",
      "(3, 2.23606797749979)\n",
      "(3, -2.23606797749979)\n",
      "(4, 1.7320508075688772)\n",
      "(4, -1.7320508075688772)\n",
      "(5, 3.3166247903554)\n",
      "(5, -3.3166247903554)\n",
      "(6, 3.0)\n",
      "(6, -3.0)\n",
      "(7, 2.23606797749979)\n",
      "(7, -2.23606797749979)\n",
      "(10, 3.0)\n",
      "(10, -3.0)\n",
      "(12, 1.0)\n",
      "(12, -1.0)\n"
     ]
    }
   ],
   "source": [
    "for pt in pts:\n",
    "    print(pt)\n",
    "    \n",
    "X = [pt.getX() for pt in pts]\n",
    "Y = [pt.getY() for pt in pts]"
   ]
  },
  {
   "cell_type": "code",
   "execution_count": 52,
   "id": "a161aa2c-966d-4d2a-adfc-eac124075a45",
   "metadata": {},
   "outputs": [
    {
     "data": {
      "text/plain": [
       "(x, y)"
      ]
     },
     "execution_count": 52,
     "metadata": {},
     "output_type": "execute_result"
    },
    {
     "data": {
      "image/png": "[encoded data removed]",
      "text/plain": [
       "<Figure size 640x480 with 1 Axes>"
      ]
     },
     "metadata": {},
     "output_type": "display_data"
    }
   ],
   "source": [
    "plt.plot(X, Y, 'ro')\n",
    "smp.var('x y')"
   ]
  },
  {
   "cell_type": "code",
   "execution_count": 59,
   "id": "9d4ed6b6-6bba-435a-9ee0-e90b1f29be3d",
   "metadata": {},
   "outputs": [
    {
     "data": {
      "text/plain": [
       "(12, 1.0)"
      ]
     },
     "execution_count": 59,
     "metadata": {},
     "output_type": "execute_result"
    }
   ],
   "source": [
    "curve1.getRandomPoint()"
   ]
  },
  {
   "cell_type": "code",
   "execution_count": 79,
   "id": "ab5ecb8f-b978-4842-88c4-802434b31e4e",
   "metadata": {},
   "outputs": [
    {
     "data": {
      "text/plain": [
       "18"
      ]
     },
     "execution_count": 79,
     "metadata": {},
     "output_type": "execute_result"
    }
   ],
   "source": [
    "curve1.getOrder()"
   ]
  },
  {
   "cell_type": "code",
   "execution_count": null,
   "id": "71a815eb-bad4-4f21-a301-d8fde347c5d3",
   "metadata": {},
   "outputs": [],
   "source": []
  }
 ],
 "metadata": {
  "kernelspec": {
   "display_name": "Python 3 (ipykernel)",
   "language": "python",
   "name": "python3"
  },
  "language_info": {
   "codemirror_mode": {
    "name": "ipython",
    "version": 3
   },
   "file_extension": ".py",
   "mimetype": "text/x-python",
   "name": "python",
   "nbconvert_exporter": "python",
   "pygments_lexer": "ipython3",
   "version": "3.11.1"
  }
 },
 "nbformat": 4,
 "nbformat_minor": 5
}
