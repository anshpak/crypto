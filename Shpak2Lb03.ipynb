{
 "cells": [
  {
   "cell_type": "markdown",
   "id": "8c3415ac-621f-4bc6-928e-54909969a4c5",
   "metadata": {},
   "source": [
    "# Задания"
   ]
  },
  {
   "cell_type": "markdown",
   "id": "520d8695-33d0-45a5-ae92-f3c634d360a4",
   "metadata": {
    "slideshow": {
     "slide_type": "skip"
    }
   },
   "source": [
    "## <font color='red'>Задание 1.</font>\n",
    "Изобразить эллиптические кривые:\n",
    "- с $\\;D>0$;  \n",
    "\n",
    "- с $\\;D<0$;\n",
    "\n",
    "- с самопересечением;\n",
    "\n",
    "- с каспом.  "
   ]
  },
  {
   "cell_type": "markdown",
   "id": "4f64c574-ee4b-4a77-a106-1978184710d8",
   "metadata": {},
   "source": [
    "### Решение"
   ]
  },
  {
   "cell_type": "code",
   "execution_count": 1,
   "id": "ae0426d1-7165-4bac-8ef9-cd3bff759fdc",
   "metadata": {},
   "outputs": [],
   "source": [
    "import matplotlib.pyplot as plt\n",
    "import sympy as smp\n",
    "import numpy as np\n",
    "import math"
   ]
  },
  {
   "cell_type": "code",
   "execution_count": 4,
   "id": "51fc87fb-9a0b-4124-82f2-2c9adb988beb",
   "metadata": {},
   "outputs": [],
   "source": [
    "a = -1\n",
    "b = 1\n",
    "D = 27 * b ** 2 + 4 * a ** 3"
   ]
  },
  {
   "cell_type": "markdown",
   "id": "f0c5a23c-739f-40e1-a2e4-99d279abdc76",
   "metadata": {},
   "source": [
    "$\\href{https://ru.stackoverflow.com/questions/741048/%D0%9A%D0%B0%D0%BA-%D0%B2-matplotlib-%D0%BF%D0%BE%D1%81%D1%82%D1%80%D0%BE%D0%B8%D1%82%D1%8C-%D0%B3%D1%80%D0%B0%D1%84%D0%B8%D0%BA-%D0%BD%D0%B5%D1%8F%D0%B2%D0%BD%D0%BE%D0%B9-%D1%84%D1%83%D0%BD%D0%BA%D1%86%D0%B8%D0%B8}{Помог}$ построить график неявной функции."
   ]
  },
  {
   "cell_type": "code",
   "execution_count": 5,
   "id": "c91b99a8-f664-4ac7-8e4f-cbbc3a04c84f",
   "metadata": {},
   "outputs": [
    {
     "data": {
      "image/png": "[encoded data removed]",
      "text/plain": [
       "<Figure size 640x480 with 1 Axes>"
      ]
     },
     "metadata": {},
     "output_type": "display_data"
    },
    {
     "data": {
      "text/plain": [
       "<sympy.plotting.plot.Plot at 0x224bbf489d0>"
      ]
     },
     "execution_count": 5,
     "metadata": {},
     "output_type": "execute_result"
    }
   ],
   "source": [
    "smp.var('x y')\n",
    "smp.plot_implicit(smp.Eq(x ** 3 + a * x + b - y ** 2, 0), line_color='red')"
   ]
  },
  {
   "cell_type": "markdown",
   "id": "2d4f98de-c147-4153-8fa8-83d914fbbc0b",
   "metadata": {},
   "source": [
    "## <font color='red'>Задания 2 - 5.</font>"
   ]
  },
  {
   "cell_type": "markdown",
   "id": "4fdcfd91-9fa9-49d2-8f22-d790fe8ddd60",
   "metadata": {
    "slideshow": {
     "slide_type": "skip"
    }
   },
   "source": [
    "### <font color='red'>Задание 2.</font>\n",
    "Реализовать класс `Curve`, который хранит $\\;a, b, p\\;$ эллиптической кривой\n",
    "$$\n",
    "  y^2=x^3+ax+b\\mod p.\n",
    "$$  "
   ]
  },
  {
   "cell_type": "markdown",
   "id": "dcbc7cb0-9e43-4e06-9ef8-836a32e99474",
   "metadata": {
    "slideshow": {
     "slide_type": "skip"
    }
   },
   "source": [
    "### <font color='red'>Задание 3.</font>\n",
    "Реализовать класс `Point`, объектом которого является точка с координатами $\\;(x,y)\\;$ кривой `Curve`."
   ]
  },
  {
   "cell_type": "markdown",
   "id": "98efb367-7c74-4a5a-8c05-6ee165d90294",
   "metadata": {
    "slideshow": {
     "slide_type": "skip"
    }
   },
   "source": [
    "### <font color='red'>Задание 4.</font>\n",
    "Для класса `Curve` реализовать методы нахождения всех точек кривой при помощи полного перебора и при помощи алгоритма Тонелли-Шенкса. Реализовать метод, который находит порядок кривой. Реализовать метод, который находит случайную точку кривой."
   ]
  },
  {
   "cell_type": "markdown",
   "id": "3d6c6fea-f14e-448c-ae33-35f00a2f0b1a",
   "metadata": {
    "slideshow": {
     "slide_type": "skip"
    }
   },
   "source": [
    "### <font color='red'>Задание 5.</font>\n",
    "Для класса `Point` реализовать нахождение противоположного элемента, вычитание и сложение точек. Проверить выполнение ассоциативности."
   ]
  },
  {
   "cell_type": "markdown",
   "id": "61696fce-e692-487c-a7bc-a5a728095d7b",
   "metadata": {},
   "source": [
    "### Решение"
   ]
  },
  {
   "cell_type": "code",
   "execution_count": 55,
   "id": "dc173b6b-15fa-4f0f-a036-a5b6da1ec745",
   "metadata": {},
   "outputs": [],
   "source": [
    "class Curve:\n",
    "    \"\"\"docstring\"\"\"\n",
    "    \n",
    "    def __init__(self, a, b, p):\n",
    "        self.__a = a\n",
    "        self.__b = b\n",
    "        self.__p = p\n",
    "        \n",
    "    def getCoeffs(self):\n",
    "        return self.__a, self.__b\n",
    "    \n",
    "    def getMod(self):\n",
    "        return self.__p"
   ]
  },
  {
   "cell_type": "code",
   "execution_count": 60,
   "id": "4947bbf5-21fc-4253-8144-8c2b5f1f3172",
   "metadata": {},
   "outputs": [],
   "source": [
    "class Point():\n",
    "    \"\"\"docstring\"\"\"    \n",
    "    \n",
    "    def __init__(self, x, y):\n",
    "        self.__x = x\n",
    "        self.__y = y\n",
    "        \n",
    "    def getX(self):\n",
    "        return self.__x\n",
    "    \n",
    "    def getY(self):\n",
    "        return self.__y"
   ]
  },
  {
   "cell_type": "code",
   "execution_count": 57,
   "id": "27cdd0f8-2de1-49eb-8145-73c437d12fde",
   "metadata": {},
   "outputs": [],
   "source": [
    "curve1 = Curve(1,2,3)"
   ]
  },
  {
   "cell_type": "code",
   "execution_count": 66,
   "id": "7bed3c01-2a93-415a-b05e-8451e9e5d8b9",
   "metadata": {},
   "outputs": [],
   "source": [
    "point1 = Point(1, 3)"
   ]
  },
  {
   "cell_type": "code",
   "execution_count": null,
   "id": "16794d7a-181b-453c-8a22-b86f9c9921d6",
   "metadata": {},
   "outputs": [],
   "source": []
  }
 ],
 "metadata": {
  "kernelspec": {
   "display_name": "Python 3 (ipykernel)",
   "language": "python",
   "name": "python3"
  },
  "language_info": {
   "codemirror_mode": {
    "name": "ipython",
    "version": 3
   },
   "file_extension": ".py",
   "mimetype": "text/x-python",
   "name": "python",
   "nbconvert_exporter": "python",
   "pygments_lexer": "ipython3",
   "version": "3.11.1"
  }
 },
 "nbformat": 4,
 "nbformat_minor": 5
}
