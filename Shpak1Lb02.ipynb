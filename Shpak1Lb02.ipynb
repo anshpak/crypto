{
 "cells": [
  {
   "cell_type": "markdown",
   "id": "d7600a20-4556-4537-9282-2528d558ef76",
   "metadata": {},
   "source": [
    "# Лабораторная работа 2\n",
    "# Тема 2. Генерация простых чисел"
   ]
  },
  {
   "cell_type": "markdown",
   "id": "6fbec090-720a-4eed-95c8-d795907b79de",
   "metadata": {},
   "source": [
    "# <font color='red'>Разбираю теоретическую  часть</font>"
   ]
  },
  {
   "cell_type": "markdown",
   "id": "20f5f0e3-6dfd-431c-95de-762fcd56039b",
   "metadata": {},
   "source": [
    "## Тестирование чисел на простоту"
   ]
  },
  {
   "cell_type": "markdown",
   "id": "16674c46-21e5-4ded-9f9b-3e7d973bb47d",
   "metadata": {},
   "source": [
    "### Метод пробных делений"
   ]
  },
  {
   "cell_type": "markdown",
   "id": "1aeed98a-163a-4251-afbf-d6eecded4474",
   "metadata": {},
   "source": [
    "#### Алгоритм"
   ]
  },
  {
   "cell_type": "markdown",
   "id": "c74f5da0-2789-499d-acda-73c8c53f8429",
   "metadata": {},
   "source": [
    "**Метод пробных делений.**  \n",
    "Input: $n\\in\\mathbb{N}.$  \n",
    "Output: $n$ -- простое?    \n",
    "1$.\\;\\; d:=2$  \n",
    "2$.\\;$ While $\\;d\\leq \\sqrt n$   \n",
    "$\\qquad$ If $\\;n = 0 \\mod d$  \n",
    "$\\qquad\\qquad$ Return False   \n",
    "$\\qquad$  $d:=d+1$    \n",
    "3$.\\;$ Return True"
   ]
  },
  {
   "cell_type": "markdown",
   "id": "66386fc5-4121-4339-bd98-07f039d70b20",
   "metadata": {},
   "source": [
    "#### Реализация"
   ]
  },
  {
   "cell_type": "code",
   "execution_count": 2,
   "id": "daae82e6-918d-454f-9f15-815642a78480",
   "metadata": {},
   "outputs": [
    {
     "data": {
      "text/plain": [
       "True"
      ]
     },
     "execution_count": 2,
     "metadata": {},
     "output_type": "execute_result"
    }
   ],
   "source": [
    "def TrialDivision(n):\n",
    "    # counter = 0\n",
    "    d = 2\n",
    "    while d <= n**0.5:\n",
    "        if n % d == 0:\n",
    "            return False\n",
    "        d += 1\n",
    "        # counter += 1\n",
    "    # return True, counter\n",
    "    return True\n",
    "\n",
    "n = 43\n",
    "TrialDivision(n)"
   ]
  },
  {
   "cell_type": "markdown",
   "id": "861ba990-61c6-4746-b1b3-dce802ec6837",
   "metadata": {},
   "source": [
    "#### Кол-во арифметических операций и временная сложность"
   ]
  },
  {
   "cell_type": "markdown",
   "id": "44bf6aad-3e20-4869-82dd-ab188aeb06c1",
   "metadata": {},
   "source": [
    "Если $n$ -- простое, то количество арифметических операций, выполняемых во время работы алгоритма, равно  $$f(n)=\\left[\\sqrt n\\right]-1=O\\left(n^{1/2}\\right).$$\n",
    "\n",
    "Поэтому для временной сложности алгоритма справедлива оценка\n",
    "$$\n",
    "  T(N):=\\max\\limits_{\\left<n\\right>\\leq N} f(n)=O\\left(2^{N/2}\\right).\n",
    "$$\n",
    "Метод пробных делений прост для понимания и реализации, но экспоненциален."
   ]
  },
  {
   "cell_type": "markdown",
   "id": "ca5147f9-7198-4224-b836-4cc398abf9c2",
   "metadata": {},
   "source": [
    "#### Замечания"
   ]
  },
  {
   "cell_type": "markdown",
   "id": "34a413d1-8c7b-4bfb-9b09-3cca953e6302",
   "metadata": {},
   "source": [
    "Вопрос: почему количество операций будет $\\left[\\sqrt n\\right] - 1?$\n",
    "\n",
    "Ответ: потому что проверка на простоту начинается не с единицы, а с двойки $d := 2$.\n",
    "\n",
    "Вопрос: почему алгоритм должен работать пока $d \\le \\sqrt n?$\n",
    "\n",
    "Ответ: потому что после $\\sqrt n$ будут встречаться те же самые множители числа $n$, что и до корня. А если множителей не нашлось, то и после корна их тем более не будет."
   ]
  },
  {
   "cell_type": "markdown",
   "id": "1ad2a515-c603-4c50-b0c0-abdcf8fbb140",
   "metadata": {},
   "source": [
    "### Проверка теорем"
   ]
  },
  {
   "cell_type": "markdown",
   "id": "d19ec2e9-6bf0-44b0-8484-495333380467",
   "metadata": {},
   "source": [
    "#### Кольцо вычетов из предыдущей лабораторной (но с ошибками при делении и разности)"
   ]
  },
  {
   "cell_type": "code",
   "execution_count": 4,
   "id": "120d9cef-50db-4a10-928d-76419956d19a",
   "metadata": {},
   "outputs": [],
   "source": [
    "class Ring:\n",
    "    def __init__(self, remainder, m):\n",
    "        self.remainder = remainder\n",
    "        self.mod = m\n",
    "\n",
    "    def __repr__(self):\n",
    "        return \"(%s)\" % (self.remainder)\n",
    "    \n",
    "    def __add__(self, other):\n",
    "        if isinstance(other, Ring):\n",
    "            return Ring((self.remainder + other.remainder) % self.mod, self.mod)\n",
    "        \n",
    "    def __sub__(self, other):\n",
    "        if isinstance(other, Ring):\n",
    "            return Ring((self.remainder - other.remainder) % self.mod, self.mod)\n",
    "        \n",
    "    def __mul__(self, other):\n",
    "        if isinstance(other, Ring):\n",
    "            return Ring((self.remainder * other.remainder) % self.mod, self.mod)\n",
    "        \n",
    "    def __truediv__(self, other):\n",
    "        if isinstance(other, Ring):\n",
    "            return Ring((self.remainder / other.remainder) % self.mod, self.mod)\n",
    "        \n",
    "    def __pow__(self, num):\n",
    "        return Ring(NewFastPower(self.remainder, num, self.mod), self.mod)\n",
    "        \n",
    "    def __neg__(self):\n",
    "        return Ring(reverse_elem(self.remainder, self.mod), self.mod)\n",
    "        \n",
    "    def __eq__(self, other):\n",
    "        if isinstance(other, Ring):\n",
    "            if self.remainder == other.remainder:\n",
    "                return True\n",
    "            else:\n",
    "                return False\n",
    "            \n",
    "def reverse_elem(a, b):\n",
    "    if a == b - 1:\n",
    "        return a % b\n",
    "    a_copy = a\n",
    "    b_copy = b\n",
    "    m11, m12 = 1, 0\n",
    "    m21, m22 = 0, 1\n",
    "    while b:\n",
    "        q = a // b\n",
    "        a, b = b, a % b\n",
    "        m11, m12 = m12, m11 - m12*q\n",
    "        m21, m22 = m22, m21 - m22*q\n",
    "    gcd = m11 * a_copy + m21 * b_copy\n",
    "    if gcd == 1:\n",
    "        return m11\n",
    "    else:\n",
    "        raise ValueError('base is not invertible for the given modulus')\n",
    "        \n",
    "# если я учитываю, что a - целое и, что есть проблема с единицей, то\n",
    "def NewFastPower(a, d, m):\n",
    "    b = abs(a)\n",
    "    if d == 1:\n",
    "        return b % m\n",
    "    bin_lst = [int(i) for i in bin(d)[3:]]\n",
    "    for elem in bin_lst:\n",
    "        b = (b ** 2) * (a ** elem) % m\n",
    "    return b"
   ]
  },
  {
   "cell_type": "markdown",
   "id": "cf52c6e7-9f20-4fdd-9394-a18b2f41d7a1",
   "metadata": {},
   "source": [
    "#### Проверяю выполнение теоремы Эйлера на конкретном примере"
   ]
  },
  {
   "cell_type": "markdown",
   "id": "356695c6-c9d4-475f-baa6-0a105d8091d8",
   "metadata": {},
   "source": [
    "##### Мультипликативная група кольца вычетов по модулю n"
   ]
  },
  {
   "cell_type": "markdown",
   "id": "3b38fe0b-91fb-4032-9933-bd838a1f7cc1",
   "metadata": {},
   "source": [
    "Пример из википедии: https://ru.wikipedia.org/wiki/%D0%9C%D1%83%D0%BB%D1%8C%D1%82%D0%B8%D0%BF%D0%BB%D0%B8%D0%BA%D0%B0%D1%82%D0%B8%D0%B2%D0%BD%D0%B0%D1%8F_%D0%B3%D1%80%D1%83%D0%BF%D0%BF%D0%B0_%D0%BA%D0%BE%D0%BB%D1%8C%D1%86%D0%B0_%D0%B2%D1%8B%D1%87%D0%B5%D1%82%D0%BE%D0%B2"
   ]
  },
  {
   "cell_type": "code",
   "execution_count": 5,
   "id": "48831245-5d5a-4c66-b51f-30b029e88f54",
   "metadata": {},
   "outputs": [
    {
     "data": {
      "text/plain": [
       "[(1), (5), (11), (13), (17), (19), (23), (25), (29), (31), (37), (41)]"
      ]
     },
     "execution_count": 5,
     "metadata": {},
     "output_type": "execute_result"
    }
   ],
   "source": [
    "n = 42\n",
    "Z_star_n = [Ring(1, 42), Ring(5, 42), Ring(11, 42), Ring(13, 42), Ring(17, 42), Ring(19, 42), Ring(23, 42), Ring(25, 42), Ring(29, 42), Ring(31, 42), Ring(37, 42), Ring(41, 42)]\n",
    "Z_star_n"
   ]
  },
  {
   "cell_type": "markdown",
   "id": "d422d0b7-90ad-4d4b-a62b-b9ea8e2288f1",
   "metadata": {},
   "source": [
    "##### Выполнение теоремы"
   ]
  },
  {
   "cell_type": "markdown",
   "id": "446cd6c4-232c-430e-a3cc-3456420c7bce",
   "metadata": {},
   "source": [
    "**Теорема Эйлера**  \n",
    " Пусть $n$ натуральное число, не равное $1.$ Если\n",
    "   ${a\\in\\mathbb{Z}_n^*,}$ то\n",
    "    $$\n",
    "      {a^{\\varphi(n)}\\equiv1\\mod n.}\n",
    "    $$"
   ]
  },
  {
   "cell_type": "code",
   "execution_count": 102,
   "id": "705518c8-7bc3-4a66-ad01-f48275be9f03",
   "metadata": {},
   "outputs": [
    {
     "name": "stdout",
     "output_type": "stream",
     "text": [
      "3 (23)\n"
     ]
    },
    {
     "data": {
      "text/plain": [
       "True"
      ]
     },
     "execution_count": 102,
     "metadata": {},
     "output_type": "execute_result"
    }
   ],
   "source": [
    "import sympy # для использования реализации функйии Эйлера sympy.totient(n)\n",
    "import random\n",
    "main_natural_num = 100\n",
    "n1 = random.randint(1, main_natural_num)\n",
    "a = Ring((Z_star_n[random.randint(0, len(Z_star_n)) - 1]).remainder, n1)\n",
    "# a = Z_star_n[random.randint(0, len(Z_star_n)) - 1]\n",
    "print(n1, a)\n",
    "((a ** sympy.totient(n1)).remainder % n1) == (1 % n1)"
   ]
  },
  {
   "cell_type": "code",
   "execution_count": null,
   "id": "88bae21f-fffd-4a7f-97ad-aa8632294c40",
   "metadata": {},
   "outputs": [],
   "source": []
  }
 ],
 "metadata": {
  "kernelspec": {
   "display_name": "Python 3 (ipykernel)",
   "language": "python",
   "name": "python3"
  },
  "language_info": {
   "codemirror_mode": {
    "name": "ipython",
    "version": 3
   },
   "file_extension": ".py",
   "mimetype": "text/x-python",
   "name": "python",
   "nbconvert_exporter": "python",
   "pygments_lexer": "ipython3",
   "version": "3.10.5"
  }
 },
 "nbformat": 4,
 "nbformat_minor": 5
}
