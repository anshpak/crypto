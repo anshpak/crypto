{
 "cells": [
  {
   "cell_type": "markdown",
   "id": "d7600a20-4556-4537-9282-2528d558ef76",
   "metadata": {},
   "source": [
    "# Лабораторная работа 2\n",
    "# Тема 2. Генерация простых чисел"
   ]
  },
  {
   "cell_type": "markdown",
   "id": "6fbec090-720a-4eed-95c8-d795907b79de",
   "metadata": {},
   "source": [
    "# <font color='red'>Разбираю теоретическую  часть</font>"
   ]
  },
  {
   "cell_type": "markdown",
   "id": "20f5f0e3-6dfd-431c-95de-762fcd56039b",
   "metadata": {},
   "source": [
    "## Тестирование чисел на простоту"
   ]
  },
  {
   "cell_type": "markdown",
   "id": "16674c46-21e5-4ded-9f9b-3e7d973bb47d",
   "metadata": {},
   "source": [
    "### Метод пробных делений"
   ]
  },
  {
   "cell_type": "markdown",
   "id": "1aeed98a-163a-4251-afbf-d6eecded4474",
   "metadata": {},
   "source": [
    "#### Алгоритм"
   ]
  },
  {
   "cell_type": "markdown",
   "id": "c74f5da0-2789-499d-acda-73c8c53f8429",
   "metadata": {},
   "source": [
    "**Метод пробных делений.**  \n",
    "Input: $n\\in\\mathbb{N}.$  \n",
    "Output: $n$ -- простое?    \n",
    "1$.\\;\\; d:=2$  \n",
    "2$.\\;$ While $\\;d\\leq \\sqrt n$   \n",
    "$\\qquad$ If $\\;n = 0 \\mod d$  \n",
    "$\\qquad\\qquad$ Return False   \n",
    "$\\qquad$  $d:=d+1$    \n",
    "3$.\\;$ Return True"
   ]
  },
  {
   "cell_type": "markdown",
   "id": "66386fc5-4121-4339-bd98-07f039d70b20",
   "metadata": {},
   "source": [
    "#### Реализация"
   ]
  },
  {
   "cell_type": "code",
   "execution_count": 2,
   "id": "daae82e6-918d-454f-9f15-815642a78480",
   "metadata": {},
   "outputs": [
    {
     "data": {
      "text/plain": [
       "True"
      ]
     },
     "execution_count": 2,
     "metadata": {},
     "output_type": "execute_result"
    }
   ],
   "source": [
    "def TrialDivision(n):\n",
    "    # counter = 0\n",
    "    d = 2\n",
    "    while d <= n**0.5:\n",
    "        if n % d == 0:\n",
    "            return False\n",
    "        d += 1\n",
    "        # counter += 1\n",
    "    # return True, counter\n",
    "    return True\n",
    "\n",
    "n = 43\n",
    "TrialDivision(n)"
   ]
  },
  {
   "cell_type": "markdown",
   "id": "861ba990-61c6-4746-b1b3-dce802ec6837",
   "metadata": {},
   "source": [
    "#### Кол-во арифметических операций и временная сложность"
   ]
  },
  {
   "cell_type": "markdown",
   "id": "44bf6aad-3e20-4869-82dd-ab188aeb06c1",
   "metadata": {},
   "source": [
    "Если $n$ -- простое, то количество арифметических операций, выполняемых во время работы алгоритма, равно  $$f(n)=\\left[\\sqrt n\\right]-1=O\\left(n^{1/2}\\right).$$\n",
    "\n",
    "Поэтому для временной сложности алгоритма справедлива оценка\n",
    "$$\n",
    "  T(N):=\\max\\limits_{\\left<n\\right>\\leq N} f(n)=O\\left(2^{N/2}\\right).\n",
    "$$\n",
    "Метод пробных делений прост для понимания и реализации, но экспоненциален."
   ]
  },
  {
   "cell_type": "markdown",
   "id": "ca5147f9-7198-4224-b836-4cc398abf9c2",
   "metadata": {},
   "source": [
    "#### Замечания"
   ]
  },
  {
   "cell_type": "markdown",
   "id": "34a413d1-8c7b-4bfb-9b09-3cca953e6302",
   "metadata": {},
   "source": [
    "Вопрос: почему количество операций будет $\\left[\\sqrt n\\right] - 1?$\n",
    "\n",
    "Ответ: потому что проверка на простоту начинается не с единицы, а с двойки $d := 2$.\n",
    "\n",
    "Вопрос: почему алгоритм должен работать пока $d \\le \\sqrt n?$\n",
    "\n",
    "Ответ: потому что после $\\sqrt n$ будут встречаться те же самые множители числа $n$, что и до корня. А если множителей не нашлось, то и после корна их тем более не будет."
   ]
  },
  {
   "cell_type": "markdown",
   "id": "9bdccd2e-3f61-4cd5-8b19-4fdcc451d05e",
   "metadata": {
    "slideshow": {
     "slide_type": "slide"
    },
    "tags": []
   },
   "source": [
    "# <font color='red'>Задание 5.</font>\n",
    "\n",
    "Выполнить компьютерное моделилорание кольца вычетов средствами ООП, перегрузив операторы `__add__, __sub__, __mul__, __truediv__, __pow__, __neg__.` Реализовать `__repr__, __eq__`. Проверить, обладает ли построенная модель свойствами:\n",
    "1. $(\\mathbb{Z}_m,+)$ - абелева группа:  \n",
    "    1.1. Коммутативность сложения  \n",
    "    $\\qquad\\qquad\n",
    "      a + b = b + a.\n",
    "    $  \n",
    "    1.2. Ассоциативность сложения  \n",
    "    $\\qquad\\qquad\n",
    "      a + (b + с) = a + (b + c).\n",
    "    $  \n",
    "    1.3. Существование нейтрального элемента относительно сложения  \n",
    "    $\\qquad\\qquad\n",
    "      \\exists0\\in R \\quad(a+0= 0+a = a).\n",
    "    $  \n",
    "    1.4. Существование противоположного элемента относительно сложения  \n",
    "    $\\qquad\\qquad\n",
    "      \\forall a\\in R\\quad\\exists b\\in R \\quad(a+b= b+a = 0).\n",
    "    $\n",
    "2. Ассоциативность умножения      \n",
    "    $\\qquad\\qquad\n",
    "      a * (b * с) = a * (b * c).\n",
    "    $ \n",
    "3. Дистрибутивность    \n",
    "$\\qquad\\qquad\n",
    "  a*(b+c)=a*b+a*c\\quad и\\quad (b+c)*a=b*a+c*a.\n",
    "$\n",
    "4. Коммутативность умножения  \n",
    "    $\\qquad\\qquad\n",
    "      a * b = b * a.\n",
    "    $  \n",
    "5. Существование нейтрального элемента относительно умножения  \n",
    "    $\\qquad\\qquad\n",
    "      \\exists1\\in R \\quad(1*a= a*1 = a).\n",
    "    $  \n",
    "\n",
    "6. Существование обратного элемента для ненулевых элементов  \n",
    "$\\qquad\\qquad\n",
    "      \\forall a\\in R\\setminus \\{0\\} \\quad\\exists a^{-1}\\in R \\quad(a*a^{-1}= 1).\n",
    "$"
   ]
  },
  {
   "cell_type": "markdown",
   "id": "e773c6b4-24e2-40ff-95e5-463f9a988a36",
   "metadata": {
    "tags": []
   },
   "source": [
    "## Реализация класса"
   ]
  },
  {
   "cell_type": "code",
   "execution_count": 87,
   "id": "120d9cef-50db-4a10-928d-76419956d19a",
   "metadata": {},
   "outputs": [],
   "source": [
    "class Ring:\n",
    "    def __init__(self, remainder, m):\n",
    "        self.remainder = remainder\n",
    "        self.mod = m\n",
    "\n",
    "    def __repr__(self):\n",
    "        return \"(%s)\" % (self.remainder)\n",
    "    \n",
    "    def __add__(self, other):\n",
    "        if isinstance(other, Ring):\n",
    "            return Ring((self.remainder + other.remainder) % self.mod, self.mod)\n",
    "        \n",
    "    def __sub__(self, other):\n",
    "        if isinstance(other, Ring):\n",
    "            return Ring((self.remainder - other.remainder) % self.mod, self.mod)\n",
    "        \n",
    "    def __mul__(self, other):\n",
    "        if isinstance(other, Ring):\n",
    "            return Ring((self.remainder * other.remainder) % self.mod, self.mod)\n",
    "        \n",
    "    def __truediv__(self, other):\n",
    "        if isinstance(other, Ring):\n",
    "            return Ring((self.remainder / other.remainder) % self.mod, self.mod)\n",
    "        \n",
    "    def __pow__(self, num):\n",
    "        return Ring(NewFastPower(self.remainder, num, self.mod), self.mod)\n",
    "        \n",
    "    def __neg__(self):\n",
    "        return Ring(reverse_elem(self.remainder, self.mod), self.mod)\n",
    "        \n",
    "    def __eq__(self, other):\n",
    "        if isinstance(other, Ring):\n",
    "            if self.remainder == other.remainder:\n",
    "                return True\n",
    "            else:\n",
    "                return False"
   ]
  }
 ],
 "metadata": {
  "kernelspec": {
   "display_name": "Python 3 (ipykernel)",
   "language": "python",
   "name": "python3"
  },
  "language_info": {
   "codemirror_mode": {
    "name": "ipython",
    "version": 3
   },
   "file_extension": ".py",
   "mimetype": "text/x-python",
   "name": "python",
   "nbconvert_exporter": "python",
   "pygments_lexer": "ipython3",
   "version": "3.10.5"
  }
 },
 "nbformat": 4,
 "nbformat_minor": 5
}
